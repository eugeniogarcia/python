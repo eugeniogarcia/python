{
 "cells": [
  {
   "cell_type": "markdown",
   "metadata": {
    "colab_type": "text",
    "id": "iiyC7HkqxlUD"
   },
   "source": [
    "# Introducción\n",
    "\n",
    "Vamos a repasar algunas de las manipulaciones que podemos hacer con un dataset\n",
    "\n",
    "## Preparacion"
   ]
  },
  {
   "cell_type": "code",
   "execution_count": 1,
   "metadata": {
    "colab": {},
    "colab_type": "code",
    "id": "5IoRbCA2n0_V"
   },
   "outputs": [],
   "source": [
    "import pandas as pd\n",
    "import tensorflow as tf\n",
    "import matplotlib.pyplot as plt\n",
    "import numpy as np\n",
    "import random"
   ]
  },
  {
   "cell_type": "markdown",
   "metadata": {
    "colab_type": "text",
    "id": "-2kBGy_pxn47"
   },
   "source": [
    "Download the csv file containing the heart dataset."
   ]
  },
  {
   "cell_type": "code",
   "execution_count": 2,
   "metadata": {
    "colab": {},
    "colab_type": "code",
    "id": "VS4w2LePn9g3"
   },
   "outputs": [],
   "source": [
    "csv_file = tf.keras.utils.get_file('heart.csv', 'https://storage.googleapis.com/applied-dl/heart.csv')"
   ]
  },
  {
   "cell_type": "markdown",
   "metadata": {
    "colab_type": "text",
    "id": "6BXRPD2-xtQ1"
   },
   "source": [
    "Read the csv file using pandas."
   ]
  },
  {
   "cell_type": "code",
   "execution_count": 3,
   "metadata": {},
   "outputs": [
    {
     "data": {
      "text/html": [
       "<div>\n",
       "<style scoped>\n",
       "    .dataframe tbody tr th:only-of-type {\n",
       "        vertical-align: middle;\n",
       "    }\n",
       "\n",
       "    .dataframe tbody tr th {\n",
       "        vertical-align: top;\n",
       "    }\n",
       "\n",
       "    .dataframe thead th {\n",
       "        text-align: right;\n",
       "    }\n",
       "</style>\n",
       "<table border=\"1\" class=\"dataframe\">\n",
       "  <thead>\n",
       "    <tr style=\"text-align: right;\">\n",
       "      <th></th>\n",
       "      <th>age</th>\n",
       "      <th>sex</th>\n",
       "      <th>cp</th>\n",
       "      <th>trestbps</th>\n",
       "      <th>chol</th>\n",
       "      <th>fbs</th>\n",
       "      <th>restecg</th>\n",
       "      <th>thalach</th>\n",
       "      <th>exang</th>\n",
       "      <th>oldpeak</th>\n",
       "      <th>slope</th>\n",
       "      <th>ca</th>\n",
       "      <th>thal</th>\n",
       "      <th>target</th>\n",
       "    </tr>\n",
       "  </thead>\n",
       "  <tbody>\n",
       "    <tr>\n",
       "      <th>0</th>\n",
       "      <td>63</td>\n",
       "      <td>1</td>\n",
       "      <td>1</td>\n",
       "      <td>145</td>\n",
       "      <td>233</td>\n",
       "      <td>1</td>\n",
       "      <td>2</td>\n",
       "      <td>150</td>\n",
       "      <td>0</td>\n",
       "      <td>2.3</td>\n",
       "      <td>3</td>\n",
       "      <td>0</td>\n",
       "      <td>fixed</td>\n",
       "      <td>0</td>\n",
       "    </tr>\n",
       "    <tr>\n",
       "      <th>1</th>\n",
       "      <td>67</td>\n",
       "      <td>1</td>\n",
       "      <td>4</td>\n",
       "      <td>160</td>\n",
       "      <td>286</td>\n",
       "      <td>0</td>\n",
       "      <td>2</td>\n",
       "      <td>108</td>\n",
       "      <td>1</td>\n",
       "      <td>1.5</td>\n",
       "      <td>2</td>\n",
       "      <td>3</td>\n",
       "      <td>normal</td>\n",
       "      <td>1</td>\n",
       "    </tr>\n",
       "    <tr>\n",
       "      <th>2</th>\n",
       "      <td>67</td>\n",
       "      <td>1</td>\n",
       "      <td>4</td>\n",
       "      <td>120</td>\n",
       "      <td>229</td>\n",
       "      <td>0</td>\n",
       "      <td>2</td>\n",
       "      <td>129</td>\n",
       "      <td>1</td>\n",
       "      <td>2.6</td>\n",
       "      <td>2</td>\n",
       "      <td>2</td>\n",
       "      <td>reversible</td>\n",
       "      <td>0</td>\n",
       "    </tr>\n",
       "    <tr>\n",
       "      <th>3</th>\n",
       "      <td>37</td>\n",
       "      <td>1</td>\n",
       "      <td>3</td>\n",
       "      <td>130</td>\n",
       "      <td>250</td>\n",
       "      <td>0</td>\n",
       "      <td>0</td>\n",
       "      <td>187</td>\n",
       "      <td>0</td>\n",
       "      <td>3.5</td>\n",
       "      <td>3</td>\n",
       "      <td>0</td>\n",
       "      <td>normal</td>\n",
       "      <td>0</td>\n",
       "    </tr>\n",
       "    <tr>\n",
       "      <th>4</th>\n",
       "      <td>41</td>\n",
       "      <td>0</td>\n",
       "      <td>2</td>\n",
       "      <td>130</td>\n",
       "      <td>204</td>\n",
       "      <td>0</td>\n",
       "      <td>2</td>\n",
       "      <td>172</td>\n",
       "      <td>0</td>\n",
       "      <td>1.4</td>\n",
       "      <td>1</td>\n",
       "      <td>0</td>\n",
       "      <td>normal</td>\n",
       "      <td>0</td>\n",
       "    </tr>\n",
       "  </tbody>\n",
       "</table>\n",
       "</div>"
      ],
      "text/plain": [
       "   age  sex  cp  trestbps  chol  fbs  restecg  thalach  exang  oldpeak  slope  \\\n",
       "0   63    1   1       145   233    1        2      150      0      2.3      3   \n",
       "1   67    1   4       160   286    0        2      108      1      1.5      2   \n",
       "2   67    1   4       120   229    0        2      129      1      2.6      2   \n",
       "3   37    1   3       130   250    0        0      187      0      3.5      3   \n",
       "4   41    0   2       130   204    0        2      172      0      1.4      1   \n",
       "\n",
       "   ca        thal  target  \n",
       "0   0       fixed       0  \n",
       "1   3      normal       1  \n",
       "2   2  reversible       0  \n",
       "3   0      normal       0  \n",
       "4   0      normal       0  "
      ]
     },
     "execution_count": 3,
     "metadata": {},
     "output_type": "execute_result"
    }
   ],
   "source": [
    "df = pd.read_csv(csv_file)\n",
    "df.head()"
   ]
  },
  {
   "cell_type": "markdown",
   "metadata": {},
   "source": [
    "Preparamos el dataset. Sacamos la etiqueta:"
   ]
  },
  {
   "cell_type": "code",
   "execution_count": 4,
   "metadata": {},
   "outputs": [],
   "source": [
    "target = df.pop('target')"
   ]
  },
  {
   "cell_type": "code",
   "execution_count": 5,
   "metadata": {},
   "outputs": [
    {
     "data": {
      "text/plain": [
       "(array([[63, 1, 1, ..., 3, 0, 'fixed'],\n",
       "        [67, 1, 4, ..., 2, 3, 'normal'],\n",
       "        [67, 1, 4, ..., 2, 2, 'reversible'],\n",
       "        ...,\n",
       "        [65, 1, 4, ..., 2, 1, 'reversible'],\n",
       "        [48, 1, 4, ..., 1, 2, 'reversible'],\n",
       "        [63, 0, 4, ..., 2, 3, 'reversible']], dtype=object),\n",
       " (303, 13))"
      ]
     },
     "execution_count": 5,
     "metadata": {},
     "output_type": "execute_result"
    }
   ],
   "source": [
    "df.values,df.shape"
   ]
  },
  {
   "cell_type": "markdown",
   "metadata": {},
   "source": [
    "Convierte a one/shot la columna que es categorica"
   ]
  },
  {
   "cell_type": "code",
   "execution_count": 6,
   "metadata": {},
   "outputs": [],
   "source": [
    "df['thal'] = pd.Categorical(df['thal'])\n",
    "df['thal'] = df.thal.cat.codes"
   ]
  },
  {
   "cell_type": "code",
   "execution_count": 7,
   "metadata": {},
   "outputs": [
    {
     "data": {
      "text/plain": [
       "0    2\n",
       "1    3\n",
       "2    4\n",
       "3    3\n",
       "4    3\n",
       "Name: thal, dtype: int8"
      ]
     },
     "execution_count": 7,
     "metadata": {},
     "output_type": "execute_result"
    }
   ],
   "source": [
    "df.thal.head()"
   ]
  },
  {
   "cell_type": "markdown",
   "metadata": {},
   "source": [
    "# Crear Datasets desde distintas fuentes\n",
    "\n",
    "Veamos como podemos crear datasets desde diferentes fuentes:\n",
    "\n",
    "- Pandas. Utilizando los contenidos de un Pandas Dataframe\n",
    "- Contenido de Archivos. Utilizando los contenidos de archivos\n",
    "- Filesystem. Utilizando El contenido de un directorio - nombre de archivos\n",
    "- Numpy"
   ]
  },
  {
   "cell_type": "code",
   "execution_count": 8,
   "metadata": {},
   "outputs": [
    {
     "data": {
      "text/plain": [
       "[array([ 63. ,   1. ,   1. , 145. , 233. ,   1. ,   2. , 150. ,   0. ,\n",
       "          2.3,   3. ,   0. ,   2. ]),\n",
       " array([ 67. ,   1. ,   4. , 160. , 286. ,   0. ,   2. , 108. ,   1. ,\n",
       "          1.5,   2. ,   3. ,   3. ])]"
      ]
     },
     "execution_count": 8,
     "metadata": {},
     "output_type": "execute_result"
    }
   ],
   "source": [
    "dataset = tf.data.Dataset.from_tensor_slices(df.values)\n",
    "list(dataset.take(2).as_numpy_iterator())"
   ]
  },
  {
   "cell_type": "code",
   "execution_count": 9,
   "metadata": {},
   "outputs": [
    {
     "data": {
      "text/plain": [
       "[b'PassengerId,Survived', b'892,0', b'893,1', b'894,0']"
      ]
     },
     "execution_count": 9,
     "metadata": {},
     "output_type": "execute_result"
    }
   ],
   "source": [
    "datasetT = tf.data.TextLineDataset([\"./titanic/gender_submission.csv\", \"UsarPandasKeras.md\"]) \n",
    "list(datasetT.take(4).as_numpy_iterator())"
   ]
  },
  {
   "cell_type": "code",
   "execution_count": 10,
   "metadata": {},
   "outputs": [
    {
     "data": {
      "text/plain": [
       "[b'.\\\\titanic\\\\data-analysis-and-feature-extraction-with-python.ipynb',\n",
       " b'.\\\\pandas_dataframe.ipynb',\n",
       " b'.\\\\.ipynb_checkpoints\\\\datasetframing-checkpoint.ipynb',\n",
       " b'.\\\\pandas-basics\\\\basics.ipynb',\n",
       " b'.\\\\datasetframing.ipynb',\n",
       " b'.\\\\pandas-basics\\\\ejercicios.ipynb',\n",
       " b'.\\\\csv.ipynb',\n",
       " b'.\\\\data.ipynb']"
      ]
     },
     "execution_count": 10,
     "metadata": {},
     "output_type": "execute_result"
    }
   ],
   "source": [
    "datasetF = tf.data.Dataset.list_files(\"./*.ipynb\")\n",
    "list(datasetF.as_numpy_iterator())"
   ]
  },
  {
   "cell_type": "code",
   "execution_count": 11,
   "metadata": {},
   "outputs": [],
   "source": [
    "datasetR = tf.data.Dataset.range(100)"
   ]
  },
  {
   "cell_type": "markdown",
   "metadata": {},
   "source": [
    "## Vectores, Matrices y Duplas\n",
    "\n",
    "Cuando se procesa una fuente de datos se elimina una de las dimensiones del dato. Si estamos tratando con vectores - numpy -, lo que procesaremos será escalares; Si estamos procesando matrices, esto es, un rango dos, cada elemento del dataset pasara a ser un vector.\n",
    "\n",
    "Observemos como al procesar un vector, los argumentos del lambda son escalares:"
   ]
  },
  {
   "cell_type": "code",
   "execution_count": 12,
   "metadata": {},
   "outputs": [
    {
     "data": {
      "text/plain": [
       "[2.2, 4.0]"
      ]
     },
     "execution_count": 12,
     "metadata": {},
     "output_type": "execute_result"
    }
   ],
   "source": [
    "datasetN1 = tf.data.Dataset.from_tensor_slices([1.1, 2, 3, 10.1, 20, 30, 100.1, 200, 300])\n",
    "\n",
    "datasetN1 = datasetN1.map(lambda x: x*2) \n",
    "list(datasetN1.take(2).as_numpy_iterator())"
   ]
  },
  {
   "cell_type": "markdown",
   "metadata": {},
   "source": [
    "So lo que procesamos es una matriz, el argumento del lambda será cada una de las filas de la matriz, esto es, un vector:"
   ]
  },
  {
   "cell_type": "code",
   "execution_count": 13,
   "metadata": {},
   "outputs": [
    {
     "data": {
      "text/plain": [
       "[array([2.2, 4. , 6. ], dtype=float32),\n",
       " array([20.2, 40. , 60. ], dtype=float32)]"
      ]
     },
     "execution_count": 13,
     "metadata": {},
     "output_type": "execute_result"
    }
   ],
   "source": [
    "datasetN2 = tf.data.Dataset.from_tensor_slices([[1.1, 2, 3],[10.1, 20, 30],[100.1, 200, 300]])\n",
    "\n",
    "datasetN2 = datasetN2.map(lambda x: x*2)\n",
    "list(datasetN2.take(2).as_numpy_iterator()) "
   ]
  },
  {
   "cell_type": "markdown",
   "metadata": {},
   "source": [
    "El siguiente caso es bastante __interesante__. Vamos a ver como en este caso tenemos una tripla. El __lambda recibira tres argumentos, uno por cada elemento de la tripla__. Como los elementos de la tripla son un vector, lo que tendremos en cada argumento será un escalar:"
   ]
  },
  {
   "cell_type": "code",
   "execution_count": 14,
   "metadata": {},
   "outputs": [],
   "source": [
    "datasetN3 = tf.data.Dataset.from_tensor_slices(([1.1, 2, 3],[10, 20, 30],[100, 200, 300]))"
   ]
  },
  {
   "cell_type": "code",
   "execution_count": 15,
   "metadata": {},
   "outputs": [
    {
     "data": {
      "text/plain": [
       "[(1.1, 10, 100), (2.0, 20, 200)]"
      ]
     },
     "execution_count": 15,
     "metadata": {},
     "output_type": "execute_result"
    }
   ],
   "source": [
    "list(datasetN3.take(2).as_numpy_iterator())"
   ]
  },
  {
   "cell_type": "markdown",
   "metadata": {},
   "source": [
    "Vemos como cada elemento del dataset es una tripla, y cada elemento de la tripla un escalar. Fijemonos como la tripla esta construida con el primer escalar de cada tripla del dataset:\n",
    "\n",
    "Vamos a incidir en este tema. Creamos este lambda para procesar el data set. __Hay que destacar como el lambda tiene tres argumentos__, como cada argumento __es un escalar__, y como podemos en la respuesta del lambda hacer una transformación. En nuestro caso vamos a crear una dupla:"
   ]
  },
  {
   "cell_type": "code",
   "execution_count": 16,
   "metadata": {},
   "outputs": [],
   "source": [
    "def transforma(x,y,z):\n",
    "    #devuelve una dupla\n",
    "    return (x+1,y+z+2)\n",
    "    #devuelve una tripla\n",
    "    #return (x+1,y+1,z+1)"
   ]
  },
  {
   "cell_type": "code",
   "execution_count": 17,
   "metadata": {},
   "outputs": [
    {
     "data": {
      "text/plain": [
       "[(2.1, 112), (3.0, 222)]"
      ]
     },
     "execution_count": 17,
     "metadata": {},
     "output_type": "execute_result"
    }
   ],
   "source": [
    "datasetN3 = datasetN3.map(lambda x,y,z: transforma(x,y,z))\n",
    "\n",
    "list(datasetN3.take(2).as_numpy_iterator())"
   ]
  },
  {
   "cell_type": "markdown",
   "metadata": {},
   "source": [
    "## from_generator\n",
    "\n",
    "Nos permite crear un dataset a partir de un iterator"
   ]
  },
  {
   "cell_type": "code",
   "execution_count": 18,
   "metadata": {},
   "outputs": [
    {
     "data": {
      "text/plain": [
       "[(1, array([1], dtype=int64)),\n",
       " (2, array([1, 1], dtype=int64)),\n",
       " (3, array([1, 1, 1], dtype=int64))]"
      ]
     },
     "execution_count": 18,
     "metadata": {},
     "output_type": "execute_result"
    }
   ],
   "source": [
    "import itertools \n",
    " \n",
    "def gen(): \n",
    "  for i in itertools.count(1): \n",
    "    yield (i, [1] * i) \n",
    " \n",
    "datasetGen = tf.data.Dataset.from_generator( \n",
    "     gen, \n",
    "     (tf.int64, tf.int64), \n",
    "     (tf.TensorShape([]), tf.TensorShape([None]))) \n",
    " \n",
    "list(datasetGen.take(3).as_numpy_iterator()) "
   ]
  },
  {
   "cell_type": "markdown",
   "metadata": {},
   "source": [
    "# repeat y batch\n",
    "\n",
    "Con batch definimos el tamaño de cada elemento del dataset, cuantos datos de la fuente serán enpaquetados juntos. Con repeat indicamos el número de veces que vamos a clonar los datos de la fuente. Cada elemento será visto tantas veces como indiquemos en repeat.\n",
    "\n",
    "Creamos una funcion que nos permita ver el tamaño de cada extracción del dataset. Por un lado en ordenadas tenemos un `range` con el número de extracciones que hemos hecho, y por otro el lado en ordenadas tenemos el tamaño de cada extracción. "
   ]
  },
  {
   "cell_type": "code",
   "execution_count": 19,
   "metadata": {},
   "outputs": [],
   "source": [
    "def plot_batch_sizes(ds):\n",
    "  batch_sizes = [batch.shape[0] for batch in ds]\n",
    "  plt.bar(range(len(batch_sizes)), batch_sizes)\n",
    "  plt.xlabel('Batch number')\n",
    "  plt.ylabel('Batch size')"
   ]
  },
  {
   "cell_type": "code",
   "execution_count": 20,
   "metadata": {},
   "outputs": [
    {
     "data": {
      "text/plain": [
       "303"
      ]
     },
     "execution_count": 20,
     "metadata": {},
     "output_type": "execute_result"
    }
   ],
   "source": [
    "len(df)"
   ]
  },
  {
   "cell_type": "markdown",
   "metadata": {},
   "source": [
    "Tomamos todos los __datos de la fuente__ - los 303 valores - y __los repetimos__. De este conjunto, extraemos datos en bloques de 120. El diagrama mostrara 303 x 3 / 120 = 7.575 barras, todas ellas de tamaño 120 excepto la última: "
   ]
  },
  {
   "cell_type": "code",
   "execution_count": 21,
   "metadata": {},
   "outputs": [
    {
     "data": {
      "image/png": "[encoded data removed]",
      "text/plain": [
       "<Figure size 432x288 with 1 Axes>"
      ]
     },
     "metadata": {
      "needs_background": "light"
     },
     "output_type": "display_data"
    }
   ],
   "source": [
    "op = dataset.repeat(3).batch(120)\n",
    "plot_batch_sizes(op)"
   ]
  },
  {
   "cell_type": "markdown",
   "metadata": {},
   "source": [
    "Tomamos todos los __datos de la fuente__ - los 303 valores -, __extraemos datos en bloques__ de 120. El último bloque tendra 303-120*2 = 63 elementos. Esto lo repetimos tres veces: "
   ]
  },
  {
   "cell_type": "code",
   "execution_count": 22,
   "metadata": {},
   "outputs": [
    {
     "data": {
      "image/png": "[encoded data removed]",
      "text/plain": [
       "<Figure size 432x288 with 1 Axes>"
      ]
     },
     "metadata": {
      "needs_background": "light"
     },
     "output_type": "display_data"
    }
   ],
   "source": [
    "op = dataset.batch(120).repeat(3)\n",
    "plot_batch_sizes(op)"
   ]
  },
  {
   "cell_type": "markdown",
   "metadata": {},
   "source": [
    "Similar al caso anterior, solo que vamos a especificar que los bloques que extraigamos tienen que ser completos. No sacaremos menos de 120 datos con cada extracción:"
   ]
  },
  {
   "cell_type": "code",
   "execution_count": 23,
   "metadata": {},
   "outputs": [
    {
     "data": {
      "image/png": "[encoded data removed]",
      "text/plain": [
       "<Figure size 432x288 with 1 Axes>"
      ]
     },
     "metadata": {
      "needs_background": "light"
     },
     "output_type": "display_data"
    }
   ],
   "source": [
    "op = dataset.batch(120,drop_remainder=True).repeat(3)\n",
    "plot_batch_sizes(op)"
   ]
  },
  {
   "cell_type": "markdown",
   "metadata": {},
   "source": [
    "## padded_batch\n",
    "\n",
    "Con padded batch vamos a gestionar el caso en el que la shape de todos los elementos no es la misma:"
   ]
  },
  {
   "cell_type": "code",
   "execution_count": 24,
   "metadata": {},
   "outputs": [
    {
     "name": "stdout",
     "output_type": "stream",
     "text": [
      "[[1 2 0]\n",
      " [3 4 5]]\n",
      "[[6 7]\n",
      " [8 0]]\n"
     ]
    }
   ],
   "source": [
    "elements = [[1, 2], \n",
    "            [3, 4, 5], \n",
    "            [6, 7], \n",
    "            [8]] \n",
    "\n",
    "A = tf.data.Dataset.from_generator(lambda: iter(elements), tf.int32) \n",
    "\n",
    "# Aplicamos un pad a cada elemento\n",
    "B = A.padded_batch(2, padded_shapes=[None]) \n",
    "\n",
    "for element in B.as_numpy_iterator(): \n",
    "  print(element) \n"
   ]
  },
  {
   "cell_type": "markdown",
   "metadata": {},
   "source": [
    "Podemos ver como `batch` agrupa los elementos en bloques de dos. La diferencia radica en que hace que la dimensión sea rectangular, completando con ceros - porque no hemos especificado que se usara otro valor.\n",
    "\n",
    "Para controlar esta funcion tenemos estos parametros: \n",
    "\n",
    "- batch_size\n",
    "- padded_shapes\n",
    "- padding_values=None\n",
    "- drop_remainder=False\n",
    "\n",
    "Con `padded_shapes` podemos definir el factor de forma de los elementos. Con `padding_values` podemos decidir que elemento insertar cuando hacemos el pad. En este ejemplos forzamos a que todos los elementos tengan el mismo tamaño. Veamos que sucede si decimos que el shape sea 3:"
   ]
  },
  {
   "cell_type": "code",
   "execution_count": 25,
   "metadata": {},
   "outputs": [
    {
     "name": "stdout",
     "output_type": "stream",
     "text": [
      "[[1 2 0]\n",
      " [3 4 5]]\n",
      "[[6 7 0]\n",
      " [8 0 0]]\n"
     ]
    }
   ],
   "source": [
    "# Pad to a fixed size. \n",
    "C = A.padded_batch(2, padded_shapes=3) \n",
    "for element in C.as_numpy_iterator(): \n",
    "  print(element) "
   ]
  },
  {
   "cell_type": "markdown",
   "metadata": {},
   "source": [
    "Veamos que también podemos rellenar los valores que faltan con otro número diferente de cero. Probamos con -1:"
   ]
  },
  {
   "cell_type": "code",
   "execution_count": 26,
   "metadata": {},
   "outputs": [
    {
     "name": "stdout",
     "output_type": "stream",
     "text": [
      "[[ 1  2 -1]\n",
      " [ 3  4  5]]\n",
      "[[ 6  7 -1]\n",
      " [ 8 -1 -1]]\n"
     ]
    }
   ],
   "source": [
    "# Pad with a custom value. \n",
    "D = A.padded_batch(2, padded_shapes=3, padding_values=-1) \n",
    "for element in D.as_numpy_iterator(): \n",
    "  print(element) "
   ]
  },
  {
   "cell_type": "markdown",
   "metadata": {},
   "source": [
    "Cuando trabajemos con duplas - truplas, ... -, podemos también aplicar distintos criterios para cada uno de los elementos de la dupla. Por ejemplo aqui vamos a establecer que el tamaño del primer componente de la dupla sea cuatro, y a rellenar usando -1. Para el segundo componente de la dupla no especificamos el tamaño, y el valor sera 100."
   ]
  },
  {
   "cell_type": "code",
   "execution_count": 27,
   "metadata": {},
   "outputs": [
    {
     "data": {
      "text/plain": [
       "[(array([[ 1,  2,  3, -1],\n",
       "         [ 4,  5, -1, -1]]),\n",
       "  array([[ 10, 100],\n",
       "         [ 11,  12]]))]"
      ]
     },
     "execution_count": 27,
     "metadata": {},
     "output_type": "execute_result"
    }
   ],
   "source": [
    "# Components of nested elements can be padded independently. \n",
    "elements = [([1, 2, 3], [10]), \n",
    "            ([4, 5], [11, 12])] \n",
    "\n",
    "E = tf.data.Dataset.from_generator(lambda: iter(elements), (tf.int32, tf.int32)) \n",
    "\n",
    "# Pad the first component of the tuple to length 4, and the second \n",
    "# component to the smallest size that fits. \n",
    "E = E.padded_batch(2, padded_shapes=([4], [None]), padding_values=(-1, 100)) \n",
    "list(E.as_numpy_iterator()) \n"
   ]
  },
  {
   "cell_type": "markdown",
   "metadata": {},
   "source": [
    "# cache y shuffle\n",
    "\n",
    "Con Cache los datos que se procesan se mantienen en memoria, y si necesitamos volver a procesarlos, los lambdas no se vuelven a aplicar.\n",
    "\n",
    "Con Shuffle:\n",
    "\n",
    "a) creamos un conjunto de elementos de un tamaño especificado  \n",
    "b) carga el conjunto con los elementos del dataset  \n",
    "c) extrae aleatoriamente un elemento del conjunto  \n",
    "d) añade el siguiente elemento del dataset al conjunto  "
   ]
  },
  {
   "cell_type": "code",
   "execution_count": 28,
   "metadata": {},
   "outputs": [],
   "source": [
    "def doble(x, manipula=True):\n",
    "    print(\"ejecuta\")\n",
    "    if manipula:\n",
    "        return x*2 + round(random.uniform(0,10))\n",
    "    else:\n",
    "        return x"
   ]
  },
  {
   "cell_type": "code",
   "execution_count": 29,
   "metadata": {},
   "outputs": [
    {
     "name": "stdout",
     "output_type": "stream",
     "text": [
      "ejecuta\n",
      "ejecuta\n"
     ]
    },
    {
     "data": {
      "text/plain": [
       "(9, 13)"
      ]
     },
     "execution_count": 29,
     "metadata": {},
     "output_type": "execute_result"
    }
   ],
   "source": [
    "doble(3),doble(3)"
   ]
  },
  {
   "cell_type": "markdown",
   "metadata": {},
   "source": [
    "- Creamos un conjunto de tres elementos.\n",
    "- Sacamos aleatoriamente uno de esos tres elementos\n",
    "- Aplicamos la lambda sober el elemento extraido\n",
    "- Se incluye en el conjunto el cuarto elemento. Volvemos a tener tres elementos en el conjunto\n",
    "\n",
    "Cuando hemos sacado los diez elementos repetimos el proceso\n",
    "\n",
    "Esto significa que \n",
    "- el primer valor extraido será en nuestro caso uno de estos: 0, 1, 2\n",
    "- el segundo valor extraido será en nuestro caso uno de estos: 0, 1, 2, 3\n",
    "- el tercer valor extraido será en nuestro caso uno de estos: 0, 1, 2, 3, 4\n",
    "- el cuarto valor extraido será en nuestro caso uno de estos: 0, 1, 2, 3, 4, 5\n"
   ]
  },
  {
   "cell_type": "code",
   "execution_count": 30,
   "metadata": {},
   "outputs": [
    {
     "name": "stdout",
     "output_type": "stream",
     "text": [
      "ejecuta\n"
     ]
    },
    {
     "data": {
      "text/plain": [
       "[2, 0, 4, 1, 3, 7, 6, 5, 8, 9, 1, 2, 0, 3, 4, 6, 7, 9, 5, 8]"
      ]
     },
     "execution_count": 30,
     "metadata": {},
     "output_type": "execute_result"
    }
   ],
   "source": [
    "dataset = tf.data.Dataset.range(10) \n",
    "dataset = dataset.shuffle(buffer_size=3).map(lambda x: doble(x, False)).repeat(2)\n",
    "\n",
    "list(dataset.as_numpy_iterator()) "
   ]
  },
  {
   "cell_type": "markdown",
   "metadata": {},
   "source": [
    "Nos podemos fijar que en las dos repeats el orden con el que se sacan los datos es diferente. Si usamos `Cache` podemos hacer que en la segunda extracción la información sea igual:"
   ]
  },
  {
   "cell_type": "code",
   "execution_count": 31,
   "metadata": {},
   "outputs": [
    {
     "name": "stdout",
     "output_type": "stream",
     "text": [
      "ejecuta\n"
     ]
    },
    {
     "data": {
      "text/plain": [
       "[2, 0, 4, 1, 6, 3, 7, 8, 5, 9, 2, 0, 4, 1, 6, 3, 7, 8, 5, 9]"
      ]
     },
     "execution_count": 31,
     "metadata": {},
     "output_type": "execute_result"
    }
   ],
   "source": [
    "dataset = tf.data.Dataset.range(10) \n",
    "dataset = dataset.shuffle(buffer_size=3).map(lambda x: doble(x, False)).cache().repeat(2)\n",
    "\n",
    "list(dataset.as_numpy_iterator())"
   ]
  },
  {
   "cell_type": "markdown",
   "metadata": {},
   "source": [
    "Si ponemos el repeat al principio se extraeran dos bloques de 10, y se tratara el dataset de ahí en adelante como si tuvieran 20 items. Por este motivo cache no parece tener efecto:"
   ]
  },
  {
   "cell_type": "code",
   "execution_count": 32,
   "metadata": {},
   "outputs": [
    {
     "name": "stdout",
     "output_type": "stream",
     "text": [
      "ejecuta\n"
     ]
    },
    {
     "data": {
      "text/plain": [
       "[11, 7, 15, 9, 13, 19, 17, 21, 25, 23, 7, 11, 15, 9, 17, 21, 23, 19, 13, 25]"
      ]
     },
     "execution_count": 32,
     "metadata": {},
     "output_type": "execute_result"
    }
   ],
   "source": [
    "dataset = tf.data.Dataset.range(10) \n",
    "dataset = dataset.repeat(2).shuffle(buffer_size=3).map(lambda x: doble(x)).cache()\n",
    "\n",
    "list(dataset.as_numpy_iterator())"
   ]
  },
  {
   "cell_type": "markdown",
   "metadata": {},
   "source": [
    "Por ultimo indicar que el cache se puede guardar en un archivo. Cuando usamos un archivo conseguimos una propiedad interesante, que __la cache se mantiene entre ejecuciones sucesivas__:"
   ]
  },
  {
   "cell_type": "code",
   "execution_count": 33,
   "metadata": {},
   "outputs": [
    {
     "name": "stdout",
     "output_type": "stream",
     "text": [
      "ejecuta\n"
     ]
    },
    {
     "data": {
      "text/plain": [
       "[2, 0, 4, 5, 1, 6, 7, 9, 8, 3, 2, 0, 4, 5, 1, 6, 7, 9, 8, 3]"
      ]
     },
     "execution_count": 33,
     "metadata": {},
     "output_type": "execute_result"
    }
   ],
   "source": [
    "dataset = tf.data.Dataset.range(10) \n",
    "dataset = dataset.shuffle(buffer_size=3).map(lambda x: doble(x, False)).cache(\"./micache\").repeat(2)\n",
    "\n",
    "list(dataset.as_numpy_iterator())"
   ]
  },
  {
   "cell_type": "markdown",
   "metadata": {},
   "source": [
    "# concatenate"
   ]
  },
  {
   "cell_type": "code",
   "execution_count": 34,
   "metadata": {},
   "outputs": [],
   "source": [
    "t1=tf.data.Dataset.from_tensor_slices([1,2,3,4])\n",
    "t2=tf.data.Dataset.from_tensor_slices([10,20,30,40])"
   ]
  },
  {
   "cell_type": "code",
   "execution_count": 35,
   "metadata": {},
   "outputs": [
    {
     "name": "stdout",
     "output_type": "stream",
     "text": [
      "ejecuta\n"
     ]
    },
    {
     "data": {
      "text/plain": [
       "[1, 2, 3, 4, 10, 20, 30, 40]"
      ]
     },
     "execution_count": 35,
     "metadata": {},
     "output_type": "execute_result"
    }
   ],
   "source": [
    "t3=t1.concatenate(t2).map(lambda x:doble(x,False))\n",
    "list(t3.as_numpy_iterator())"
   ]
  },
  {
   "cell_type": "markdown",
   "metadata": {},
   "source": [
    "# enumerate y filter\n",
    "\n",
    "Es similar al enumerate de Python. Se crea una dupla, con el indice en el primer termino de la dupla, y el valor en el segundo:"
   ]
  },
  {
   "cell_type": "code",
   "execution_count": 36,
   "metadata": {},
   "outputs": [
    {
     "data": {
      "text/plain": [
       "[(0,\n",
       "  array([ 63. ,   1. ,   1. , 145. , 233. ,   1. ,   2. , 150. ,   0. ,\n",
       "           2.3,   3. ,   0. ,   2. ])),\n",
       " (1,\n",
       "  array([ 67. ,   1. ,   4. , 160. , 286. ,   0. ,   2. , 108. ,   1. ,\n",
       "           1.5,   2. ,   3. ,   3. ]))]"
      ]
     },
     "execution_count": 36,
     "metadata": {},
     "output_type": "execute_result"
    }
   ],
   "source": [
    "dataset1 = tf.data.Dataset.from_tensor_slices(df.values)\n",
    "dataset1=dataset1.enumerate()\n",
    "list(dataset1.take(2).as_numpy_iterator())"
   ]
  },
  {
   "cell_type": "markdown",
   "metadata": {},
   "source": [
    "Con filter podemos aplicar un filtro a los elementos del dataset. Por ejemplo, si lo aplicamos sobre el dataset anterior para sacar las entradas que correspondan a edades mayores de 70:"
   ]
  },
  {
   "cell_type": "code",
   "execution_count": 37,
   "metadata": {},
   "outputs": [],
   "source": [
    "dataset2=dataset1.filter(lambda x,y:y[0]>70)"
   ]
  },
  {
   "cell_type": "code",
   "execution_count": 38,
   "metadata": {},
   "outputs": [
    {
     "data": {
      "text/plain": [
       "[(110,\n",
       "  array([ 77.,   1.,   4., 125., 304.,   0.,   2., 162.,   1.,   0.,   1.,\n",
       "           3.,   3.])),\n",
       " (180,\n",
       "  array([7.40e+01, 0.00e+00, 2.00e+00, 1.20e+02, 2.69e+02, 0.00e+00,\n",
       "         2.00e+00, 1.21e+02, 1.00e+00, 2.00e-01, 1.00e+00, 1.00e+00,\n",
       "         3.00e+00])),\n",
       " (204,\n",
       "  array([ 76. ,   0. ,   3. , 140. , 197. ,   0. ,   1. , 116. ,   0. ,\n",
       "           1.1,   2. ,   0. ,   3. ])),\n",
       " (219,\n",
       "  array([ 71. ,   0. ,   4. , 112. , 149. ,   0. ,   0. , 125. ,   0. ,\n",
       "           1.6,   2. ,   0. ,   3. ]))]"
      ]
     },
     "execution_count": 38,
     "metadata": {},
     "output_type": "execute_result"
    }
   ],
   "source": [
    "list(dataset2.take(4).as_numpy_iterator())"
   ]
  },
  {
   "cell_type": "markdown",
   "metadata": {},
   "source": [
    "# flat_map"
   ]
  },
  {
   "cell_type": "markdown",
   "metadata": {},
   "source": [
    "Podemos tomar un dataset y crear otro. En este ejemplo tomamos un dataset que toma una matriz de entrada, para tratar los componentes como escalares"
   ]
  },
  {
   "cell_type": "code",
   "execution_count": 39,
   "metadata": {},
   "outputs": [
    {
     "data": {
      "text/plain": [
       "[1, 2, 3, 4, 5, 6, 7, 8, 9]"
      ]
     },
     "execution_count": 39,
     "metadata": {},
     "output_type": "execute_result"
    }
   ],
   "source": [
    "dataset = tf.data.Dataset.from_tensor_slices([[1, 2, 3], [4, 5, 6], [7, 8, 9]]) \n",
    "dataset = dataset.flat_map(lambda x: tf.data.Dataset.from_tensor_slices(x)) \n",
    "list(dataset.as_numpy_iterator()) "
   ]
  },
  {
   "cell_type": "markdown",
   "metadata": {},
   "source": [
    "Para ver la diferencia con map, podemo ver en primer lugar que map no retorna un dataset como si hace flat_map. Esto significa que con map tratamos cada elemento de entrada y producimos un elemento de salida. En el caso de flatmap la estructura del dataset es completamente diferente:"
   ]
  },
  {
   "cell_type": "code",
   "execution_count": 40,
   "metadata": {},
   "outputs": [
    {
     "data": {
      "text/plain": [
       "[array([1, 2, 3]), array([4, 5, 6]), array([7, 8, 9])]"
      ]
     },
     "execution_count": 40,
     "metadata": {},
     "output_type": "execute_result"
    }
   ],
   "source": [
    "dataset = tf.data.Dataset.from_tensor_slices([[1, 2, 3], [4, 5, 6], [7, 8, 9]]) \n",
    "dataset = dataset.map(lambda x: x) \n",
    "list(dataset.as_numpy_iterator()) "
   ]
  },
  {
   "cell_type": "markdown",
   "metadata": {},
   "source": [
    "# interleave y prefetch"
   ]
  },
  {
   "cell_type": "code",
   "execution_count": 41,
   "metadata": {},
   "outputs": [],
   "source": [
    "t1=tf.data.Dataset.from_tensor_slices([1,2,3,4])\n",
    "t2=tf.data.Dataset.from_tensor_slices([[1,2,3,4],[10,20,30,40]])\n",
    "t3=tf.data.Dataset.from_tensor_slices(([1,2,3,4],[10,20,30,40]))   "
   ]
  },
  {
   "cell_type": "code",
   "execution_count": 42,
   "metadata": {},
   "outputs": [],
   "source": [
    "tf6=t1.interleave(lambda x: tf.data.Dataset.from_tensors(x+8))"
   ]
  },
  {
   "cell_type": "code",
   "execution_count": 43,
   "metadata": {},
   "outputs": [
    {
     "data": {
      "text/plain": [
       "[0, 1, 2]"
      ]
     },
     "execution_count": 43,
     "metadata": {},
     "output_type": "execute_result"
    }
   ],
   "source": [
    "tf7= tf.data.Dataset.range(3) \n",
    "tf7 = tf7.prefetch(2) \n",
    "list(tf7.as_numpy_iterator()) "
   ]
  },
  {
   "cell_type": "markdown",
   "metadata": {},
   "source": [
    "# reduce"
   ]
  },
  {
   "cell_type": "code",
   "execution_count": 44,
   "metadata": {},
   "outputs": [
    {
     "data": {
      "text/plain": [
       "5"
      ]
     },
     "execution_count": 44,
     "metadata": {},
     "output_type": "execute_result"
    }
   ],
   "source": [
    "tf.data.Dataset.range(5).reduce(np.int64(0), lambda x, _: x + 1).numpy()"
   ]
  },
  {
   "cell_type": "code",
   "execution_count": 45,
   "metadata": {},
   "outputs": [
    {
     "data": {
      "text/plain": [
       "10"
      ]
     },
     "execution_count": 45,
     "metadata": {},
     "output_type": "execute_result"
    }
   ],
   "source": [
    "tf.data.Dataset.range(5).reduce(np.int64(0), lambda x, y: x + y).numpy()"
   ]
  },
  {
   "cell_type": "markdown",
   "metadata": {},
   "source": [
    "# Shard"
   ]
  },
  {
   "cell_type": "markdown",
   "metadata": {},
   "source": [
    "Este funcion es util para implementar entrenamiento distribuido:"
   ]
  },
  {
   "cell_type": "code",
   "execution_count": 46,
   "metadata": {},
   "outputs": [],
   "source": [
    "A = tf.data.Dataset.range(10)"
   ]
  },
  {
   "cell_type": "code",
   "execution_count": 47,
   "metadata": {},
   "outputs": [
    {
     "data": {
      "text/plain": [
       "[0, 3, 6, 9]"
      ]
     },
     "execution_count": 47,
     "metadata": {},
     "output_type": "execute_result"
    }
   ],
   "source": [
    "B = A.shard(num_shards=3, index=0) \n",
    "list(B.as_numpy_iterator()) "
   ]
  },
  {
   "cell_type": "code",
   "execution_count": 48,
   "metadata": {},
   "outputs": [
    {
     "data": {
      "text/plain": [
       "[1, 4, 7]"
      ]
     },
     "execution_count": 48,
     "metadata": {},
     "output_type": "execute_result"
    }
   ],
   "source": [
    "C = A.shard(num_shards=3, index=1) \n",
    "list(C.as_numpy_iterator())"
   ]
  },
  {
   "cell_type": "code",
   "execution_count": 49,
   "metadata": {},
   "outputs": [
    {
     "data": {
      "text/plain": [
       "[2, 5, 8]"
      ]
     },
     "execution_count": 49,
     "metadata": {},
     "output_type": "execute_result"
    }
   ],
   "source": [
    "D = A.shard(num_shards=3, index=2) \n",
    "list(D.as_numpy_iterator())"
   ]
  },
  {
   "cell_type": "markdown",
   "metadata": {},
   "source": [
    "# skip\n",
    "\n",
    "Nos permite saltarnos elementos de un dataset"
   ]
  },
  {
   "cell_type": "code",
   "execution_count": 50,
   "metadata": {},
   "outputs": [
    {
     "data": {
      "text/plain": [
       "[7, 8, 9]"
      ]
     },
     "execution_count": 50,
     "metadata": {},
     "output_type": "execute_result"
    }
   ],
   "source": [
    "A = tf.data.Dataset.range(10) \n",
    "A = A.skip(7) \n",
    "list(A.as_numpy_iterator()) "
   ]
  },
  {
   "cell_type": "markdown",
   "metadata": {},
   "source": [
    "# window"
   ]
  },
  {
   "cell_type": "markdown",
   "metadata": {},
   "source": [
    "Toma un dataset y los transforma agrupando los datos en bloques, windows. El compartamiento de esta función se modela con los siguientes argumentos:\n",
    "\n",
    "- size. Tamaño de cada elemento\n",
    "- shift=None. Con esto definimos como moveremos la ventana con cada registro que procesamos. Por defecto lo que hará es desplazarse por la misma cantidad que size.\n",
    "- stride=1. El stride con que procesaremos los registros\n",
    "- drop_remainder=False\n",
    "\n",
    "Con `size` indicamos el tamaño de cada elemento. En este ejemplo todos los elementos se crean de tamaño dos. No hay padding, ni shift - el shift será entonces dos: "
   ]
  },
  {
   "cell_type": "code",
   "execution_count": 51,
   "metadata": {},
   "outputs": [
    {
     "name": "stdout",
     "output_type": "stream",
     "text": [
      "[0, 1]\n",
      "[2, 3]\n",
      "[4, 5]\n",
      "[6, 7]\n",
      "[8, 9]\n",
      "[10]\n"
     ]
    }
   ],
   "source": [
    "dataset = tf.data.Dataset.range(11).window(2) \n",
    "for window in dataset: \n",
    "  print(list(window.as_numpy_iterator())) "
   ]
  },
  {
   "cell_type": "markdown",
   "metadata": {},
   "source": [
    "En este ejemplo vamos a definir el tamaño como tres. Como shift es dos, tomaremos 3 datos para crear cada elemento, y se desplaza dos. Esto significa que el último componente y el primero de cada elemento son el mismo:"
   ]
  },
  {
   "cell_type": "code",
   "execution_count": 52,
   "metadata": {},
   "outputs": [
    {
     "name": "stdout",
     "output_type": "stream",
     "text": [
      "[0, 1, 2]\n",
      "[2, 3, 4]\n",
      "[4, 5, 6]\n",
      "[6, 7, 8]\n",
      "[8, 9, 10]\n"
     ]
    }
   ],
   "source": [
    "dataset = tf.data.Dataset.range(11).window(3, 2, 1, True) \n",
    "for window in dataset: \n",
    "  print(list(window.as_numpy_iterator())) "
   ]
  },
  {
   "cell_type": "markdown",
   "metadata": {},
   "source": [
    "En este otro ejemplo el shift es 1. Esto significa que tomaria 0, 1, 2 para luego tomar 1, 2, 3, "
   ]
  },
  {
   "cell_type": "code",
   "execution_count": 53,
   "metadata": {},
   "outputs": [
    {
     "name": "stdout",
     "output_type": "stream",
     "text": [
      "[0, 1, 2]\n",
      "[1, 2, 3]\n",
      "[2, 3, 4]\n",
      "[3, 4, 5]\n",
      "[4, 5, 6]\n",
      "[5, 6, 7]\n",
      "[6, 7, 8]\n",
      "[7, 8, 9]\n",
      "[8, 9, 10]\n"
     ]
    }
   ],
   "source": [
    "dataset = tf.data.Dataset.range(11).window(3, 1, 1, True) \n",
    "for window in dataset: \n",
    "  print(list(window.as_numpy_iterator())) "
   ]
  },
  {
   "cell_type": "markdown",
   "metadata": {},
   "source": [
    "En este ejemplo usamos un shift de tres, pero con un stride de dos. Con el shift de 3, el primer elemento sería 0, 1, 2 y el segundo elemento 3, 4, 5\n",
    "\n",
    "Como el añadimos un stride de 2 el primer elemento pasa a ser 0, 2, 4, y el segundo elemento pasaría a ser 3, 5, 7\n",
    "\n",
    "Esto es, el stride nos dice como nos desplezamos de un elemento a otro. Shift nos dice cual es el primer elemento del siguente bloque:"
   ]
  },
  {
   "cell_type": "code",
   "execution_count": 54,
   "metadata": {},
   "outputs": [
    {
     "name": "stdout",
     "output_type": "stream",
     "text": [
      "[0, 2, 4]\n",
      "[3, 5, 7]\n",
      "[6, 8, 10]\n"
     ]
    }
   ],
   "source": [
    "dataset = tf.data.Dataset.range(11).window(3, 3, 2, True) \n",
    "for window in dataset: \n",
    "  print(list(window.as_numpy_iterator())) "
   ]
  },
  {
   "cell_type": "markdown",
   "metadata": {},
   "source": [
    "Viendo el shift de 1, primer elemento sería 0, 1, 2, el segundo 1, 2, 3, y el tercero 2, 3, 4\n",
    "\n",
    "Con el stride de 2 pasaría a ser primer elemento sería 0, 2, 4, el segundo 1, 3, 5, y el tercero 2, 4, 6"
   ]
  },
  {
   "cell_type": "code",
   "execution_count": 55,
   "metadata": {},
   "outputs": [
    {
     "name": "stdout",
     "output_type": "stream",
     "text": [
      "[0, 2, 4]\n",
      "[1, 3, 5]\n",
      "[2, 4, 6]\n"
     ]
    }
   ],
   "source": [
    "dataset = tf.data.Dataset.range(7).window(3, 1, 2, True) \n",
    "for window in dataset: \n",
    "  print(list(window.as_numpy_iterator())) "
   ]
  },
  {
   "cell_type": "markdown",
   "metadata": {},
   "source": [
    "# zip"
   ]
  },
  {
   "cell_type": "code",
   "execution_count": 56,
   "metadata": {},
   "outputs": [
    {
     "data": {
      "text/plain": [
       "[(1, 4), (2, 5), (3, 6)]"
      ]
     },
     "execution_count": 56,
     "metadata": {},
     "output_type": "execute_result"
    }
   ],
   "source": [
    "# The nested structure of the `datasets` argument determines the \n",
    "# structure of elements in the resulting dataset. \n",
    "a = tf.data.Dataset.range(1, 4)  # ==> [ 1, 2, 3 ] \n",
    "b = tf.data.Dataset.range(4, 7)  # ==> [ 4, 5, 6 ] \n",
    "\n",
    "ds = tf.data.Dataset.zip((a, b)) \n",
    "list(ds.as_numpy_iterator()) "
   ]
  }
 ],
 "metadata": {
  "colab": {
   "collapsed_sections": [],
   "name": "pandas_dataframe.ipynb",
   "private_outputs": true,
   "provenance": [],
   "toc_visible": true
  },
  "kernelspec": {
   "display_name": "Python 3",
   "language": "python",
   "name": "python3"
  },
  "language_info": {
   "codemirror_mode": {
    "name": "ipython",
    "version": 3
   },
   "file_extension": ".py",
   "mimetype": "text/x-python",
   "name": "python",
   "nbconvert_exporter": "python",
   "pygments_lexer": "ipython3",
   "version": "3.7.7"
  }
 },
 "nbformat": 4,
 "nbformat_minor": 1
}
