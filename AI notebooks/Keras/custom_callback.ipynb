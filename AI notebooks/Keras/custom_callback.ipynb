{
 "cells": [
  {
   "cell_type": "markdown",
   "metadata": {
    "colab_type": "text",
    "id": "597OjogAI3fy"
   },
   "source": [
    "##### Copyright 2019 The TensorFlow Authors."
   ]
  },
  {
   "cell_type": "code",
   "execution_count": 1,
   "metadata": {
    "colab": {},
    "colab_type": "code",
    "id": "5bSCD8SyJC2g"
   },
   "outputs": [],
   "source": [
    "#@title Licensed under the Apache License, Version 2.0 (the \"License\");\n",
    "# you may not use this file except in compliance with the License.\n",
    "# You may obtain a copy of the License at\n",
    "#\n",
    "# https://www.apache.org/licenses/LICENSE-2.0\n",
    "#\n",
    "# Unless required by applicable law or agreed to in writing, software\n",
    "# distributed under the License is distributed on an \"AS IS\" BASIS,\n",
    "# WITHOUT WARRANTIES OR CONDITIONS OF ANY KIND, either express or implied.\n",
    "# See the License for the specific language governing permissions and\n",
    "# limitations under the License."
   ]
  },
  {
   "cell_type": "markdown",
   "metadata": {
    "colab_type": "text",
    "id": "E_ceEiH7g0MY"
   },
   "source": [
    "<table class=\"tfo-notebook-buttons\" align=\"left\">\n",
    "  <td>\n",
    "    <a target=\"_blank\" href=\"https://www.tensorflow.org/guide/keras/custom_callback\"><img src=\"https://www.tensorflow.org/images/tf_logo_32px.png\" />View on TensorFlow.org</a>\n",
    "  </td>\n",
    "  <td>\n",
    "    <a target=\"_blank\" href=\"https://colab.research.google.com/github/tensorflow/docs/blob/master/site/en/guide/keras/custom_callback.ipynb\"><img src=\"https://www.tensorflow.org/images/colab_logo_32px.png\" />Run in Google Colab</a>\n",
    "  </td>\n",
    "  <td>\n",
    "    <a target=\"_blank\" href=\"https://github.com/tensorflow/docs/blob/master/site/en/guide/keras/custom_callback.ipynb\"><img src=\"https://www.tensorflow.org/images/GitHub-Mark-32px.png\" />View source on GitHub</a>\n",
    "  </td>\n",
    "  <td>\n",
    "    <a href=\"https://storage.googleapis.com/tensorflow_docs/docs/site/en/guide/keras/custom_callback.ipynb\"><img src=\"https://www.tensorflow.org/images/download_logo_32px.png\" />Download notebook</a>\n",
    "  </td>\n",
    "</table>"
   ]
  },
  {
   "cell_type": "markdown",
   "metadata": {
    "colab_type": "text",
    "id": "1OykC-6lI4gv"
   },
   "source": [
    "# Keras custom callbacks\n",
    "A custom callback is a powerful tool to customize the behavior of a Keras model during training, evaluation, or inference, including reading/changing the Keras model. Examples include `tf.keras.callbacks.TensorBoard` where the training progress and results can be exported and visualized with TensorBoard, or `tf.keras.callbacks.ModelCheckpoint` where the model is automatically saved during training, and more. In this guide, you will learn what Keras callback is, when it will be called, what it can do, and how you can build your own. Towards the end of this guide, there will be demos of creating a couple of simple callback applications to get you started on your custom callback."
   ]
  },
  {
   "cell_type": "markdown",
   "metadata": {
    "colab_type": "text",
    "id": "d5zZ8rZD69VW"
   },
   "source": [
    "## Setup"
   ]
  },
  {
   "cell_type": "code",
   "execution_count": 2,
   "metadata": {
    "colab": {},
    "colab_type": "code",
    "id": "7BazS4qD6-2n"
   },
   "outputs": [
    {
     "name": "stderr",
     "output_type": "stream",
     "text": [
      "C:\\Users\\Eugenio\\Anaconda3\\envs\\tf2\\lib\\site-packages\\tensorboard\\compat\\tensorflow_stub\\dtypes.py:541: FutureWarning: Passing (type, 1) or '1type' as a synonym of type is deprecated; in a future version of numpy, it will be understood as (type, (1,)) / '(1,)type'.\n",
      "  _np_qint8 = np.dtype([(\"qint8\", np.int8, 1)])\n",
      "C:\\Users\\Eugenio\\Anaconda3\\envs\\tf2\\lib\\site-packages\\tensorboard\\compat\\tensorflow_stub\\dtypes.py:542: FutureWarning: Passing (type, 1) or '1type' as a synonym of type is deprecated; in a future version of numpy, it will be understood as (type, (1,)) / '(1,)type'.\n",
      "  _np_quint8 = np.dtype([(\"quint8\", np.uint8, 1)])\n",
      "C:\\Users\\Eugenio\\Anaconda3\\envs\\tf2\\lib\\site-packages\\tensorboard\\compat\\tensorflow_stub\\dtypes.py:543: FutureWarning: Passing (type, 1) or '1type' as a synonym of type is deprecated; in a future version of numpy, it will be understood as (type, (1,)) / '(1,)type'.\n",
      "  _np_qint16 = np.dtype([(\"qint16\", np.int16, 1)])\n",
      "C:\\Users\\Eugenio\\Anaconda3\\envs\\tf2\\lib\\site-packages\\tensorboard\\compat\\tensorflow_stub\\dtypes.py:544: FutureWarning: Passing (type, 1) or '1type' as a synonym of type is deprecated; in a future version of numpy, it will be understood as (type, (1,)) / '(1,)type'.\n",
      "  _np_quint16 = np.dtype([(\"quint16\", np.uint16, 1)])\n",
      "C:\\Users\\Eugenio\\Anaconda3\\envs\\tf2\\lib\\site-packages\\tensorboard\\compat\\tensorflow_stub\\dtypes.py:545: FutureWarning: Passing (type, 1) or '1type' as a synonym of type is deprecated; in a future version of numpy, it will be understood as (type, (1,)) / '(1,)type'.\n",
      "  _np_qint32 = np.dtype([(\"qint32\", np.int32, 1)])\n",
      "C:\\Users\\Eugenio\\Anaconda3\\envs\\tf2\\lib\\site-packages\\tensorboard\\compat\\tensorflow_stub\\dtypes.py:550: FutureWarning: Passing (type, 1) or '1type' as a synonym of type is deprecated; in a future version of numpy, it will be understood as (type, (1,)) / '(1,)type'.\n",
      "  np_resource = np.dtype([(\"resource\", np.ubyte, 1)])\n"
     ]
    }
   ],
   "source": [
    "from __future__ import absolute_import, division, print_function, unicode_literals\n",
    "\n",
    "try:\n",
    "  # %tensorflow_version only exists in Colab.\n",
    "  %tensorflow_version 2.x\n",
    "except Exception:\n",
    "  pass\n",
    "import tensorflow as tf"
   ]
  },
  {
   "cell_type": "markdown",
   "metadata": {
    "colab_type": "text",
    "id": "0c_TYhQOUe1j"
   },
   "source": [
    "## Introduction to Keras callbacks\n",
    "In Keras, `Callback` is a python class meant to be subclassed to provide specific functionality, with a set of methods called at various stages of training (including batch/epoch start and ends), testing, and predicting. Callbacks are useful to get a view on internal states and statistics of the model during training. You can pass a list of callbacks (as the keyword argument `callbacks`) to any of `tf.keras.Model.fit()`, `tf.keras.Model.evaluate()`, and `tf.keras.Model.predict()` methods. The methods of the callbacks will then be called at different stages of training/evaluating/inference.\n",
    "\n",
    "To get started, let's import tensorflow and define a simple Sequential Keras model:"
   ]
  },
  {
   "cell_type": "code",
   "execution_count": 3,
   "metadata": {
    "colab": {},
    "colab_type": "code",
    "id": "Ct0VCSI2dt3a"
   },
   "outputs": [],
   "source": [
    "# Define the Keras model to add callbacks to\n",
    "def get_model():\n",
    "  model = tf.keras.Sequential()\n",
    "  model.add(tf.keras.layers.Dense(1, activation = 'linear', input_dim = 784))\n",
    "  model.compile(optimizer=tf.keras.optimizers.RMSprop(lr=0.1), loss='mean_squared_error', metrics=['mae'])\n",
    "  return model"
   ]
  },
  {
   "cell_type": "markdown",
   "metadata": {
    "colab_type": "text",
    "id": "ySzdG1IqNgah"
   },
   "source": [
    "Then, load the MNIST data for training and testing from Keras datasets API:"
   ]
  },
  {
   "cell_type": "code",
   "execution_count": 4,
   "metadata": {
    "colab": {},
    "colab_type": "code",
    "id": "fwo9LMKGNPWr"
   },
   "outputs": [],
   "source": [
    "# Load example MNIST data and pre-process it\n",
    "(x_train, y_train), (x_test, y_test) = tf.keras.datasets.mnist.load_data()\n",
    "x_train = x_train.reshape(60000, 784).astype('float32') / 255\n",
    "x_test = x_test.reshape(10000, 784).astype('float32') / 255"
   ]
  },
  {
   "cell_type": "markdown",
   "metadata": {
    "colab_type": "text",
    "id": "kHVK7kceNqH2"
   },
   "source": [
    "Now, define a simple custom callback to track the start and end of every batch of data. During those calls, it prints the index of the current batch."
   ]
  },
  {
   "cell_type": "code",
   "execution_count": 5,
   "metadata": {
    "colab": {},
    "colab_type": "code",
    "id": "-dfuGTMINKRR"
   },
   "outputs": [],
   "source": [
    "import datetime\n",
    "\n",
    "class MyCustomCallback(tf.keras.callbacks.Callback):\n",
    "\n",
    "  def on_train_batch_begin(self, batch, logs=None):\n",
    "    print('Training: batch {} begins at {}'.format(batch, datetime.datetime.now().time()))\n",
    "\n",
    "  def on_train_batch_end(self, batch, logs=None):\n",
    "    print('Training: batch {} ends at {}'.format(batch, datetime.datetime.now().time()))\n",
    "\n",
    "  def on_test_batch_begin(self, batch, logs=None):\n",
    "    print('Evaluating: batch {} begins at {}'.format(batch, datetime.datetime.now().time()))\n",
    "\n",
    "  def on_test_batch_end(self, batch, logs=None):\n",
    "    print('Evaluating: batch {} ends at {}'.format(batch, datetime.datetime.now().time()))"
   ]
  },
  {
   "cell_type": "markdown",
   "metadata": {
    "colab_type": "text",
    "id": "Z4FTUUIBN3WG"
   },
   "source": [
    "Providing a callback to model methods such as `tf.keras.Model.fit()` ensures the methods are called at those stages:"
   ]
  },
  {
   "cell_type": "code",
   "execution_count": 6,
   "metadata": {
    "colab": {},
    "colab_type": "code",
    "id": "NJV6Tj3sNGzg"
   },
   "outputs": [
    {
     "name": "stdout",
     "output_type": "stream",
     "text": [
      "Training: batch 0 begins at 07:42:33.551182\n",
      "Training: batch 0 ends at 07:42:34.206021\n",
      "Training: batch 1 begins at 07:42:34.207067\n",
      "Training: batch 1 ends at 07:42:34.209905\n",
      "Training: batch 2 begins at 07:42:34.209905\n",
      "Training: batch 2 ends at 07:42:34.210691\n",
      "Training: batch 3 begins at 07:42:34.210691\n",
      "Training: batch 3 ends at 07:42:34.215599\n",
      "Training: batch 4 begins at 07:42:34.216084\n",
      "Training: batch 4 ends at 07:42:34.218823\n"
     ]
    }
   ],
   "source": [
    "model = get_model()\n",
    "_ = model.fit(x_train, y_train,\n",
    "          batch_size=64,\n",
    "          epochs=1,\n",
    "          steps_per_epoch=5,\n",
    "          verbose=0,\n",
    "          callbacks=[MyCustomCallback()])"
   ]
  },
  {
   "cell_type": "markdown",
   "metadata": {
    "colab_type": "text",
    "id": "fIy5JKMlZNmh"
   },
   "source": [
    "## Model methods that take callbacks\n",
    "Users can supply a list of callbacks to the following `tf.keras.Model` methods:\n",
    "#### [`fit()`](https://www.tensorflow.org/versions/r2.0/api_docs/python/tf/keras/Model#fit), [`fit_generator()`](https://www.tensorflow.org/versions/r2.0/api_docs/python/tf/keras/Model#fit_generator)\n",
    "Trains the model for a fixed number of epochs (iterations over a dataset, or data yielded batch-by-batch by a Python generator).\n",
    "#### [`evaluate()`](https://www.tensorflow.org/versions/r2.0/api_docs/python/tf/keras/Model#evaluate), [`evaluate_generator()`](https://www.tensorflow.org/versions/r2.0/api_docs/python/tf/keras/Model#evaluate_generator)\n",
    "Evaluates the model for given data or data generator. Outputs the loss and metric values from the evaluation.\n",
    "#### [`predict()`](https://www.tensorflow.org/versions/r2.0/api_docs/python/tf/keras/Model#predict), [`predict_generator()`](https://www.tensorflow.org/versions/r2.0/api_docs/python/tf/keras/Model#predict_generator)\n",
    "Generates output predictions for the input data or data generator.\n"
   ]
  },
  {
   "cell_type": "code",
   "execution_count": 7,
   "metadata": {
    "colab": {},
    "colab_type": "code",
    "id": "J00bXBbqdnJe"
   },
   "outputs": [
    {
     "name": "stdout",
     "output_type": "stream",
     "text": [
      "Evaluating: batch 0 begins at 07:42:50.638483\n",
      "Evaluating: batch 0 ends at 07:42:50.735898\n",
      "Evaluating: batch 1 begins at 07:42:50.736902\n",
      "Evaluating: batch 1 ends at 07:42:50.740083\n",
      "Evaluating: batch 2 begins at 07:42:50.740083\n",
      "Evaluating: batch 2 ends at 07:42:50.741085\n",
      "Evaluating: batch 3 begins at 07:42:50.741085\n",
      "Evaluating: batch 3 ends at 07:42:50.741085\n",
      "Evaluating: batch 4 begins at 07:42:50.741085\n",
      "Evaluating: batch 4 ends at 07:42:50.745635\n"
     ]
    }
   ],
   "source": [
    "_ = model.evaluate(x_test, y_test, batch_size=128, verbose=0, steps=5,\n",
    "          callbacks=[MyCustomCallback()])"
   ]
  },
  {
   "cell_type": "markdown",
   "metadata": {
    "colab_type": "text",
    "id": "13n44LVkYQsV"
   },
   "source": [
    "## An overview of callback methods\n",
    "\n",
    "\n",
    "### Common methods for training/testing/predicting\n",
    "For training, testing, and predicting, following methods are provided to be overridden.\n",
    "#### `on_(train|test|predict)_begin(self, logs=None)`\n",
    "Called at the beginning of `fit`/`evaluate`/`predict`.\n",
    "#### `on_(train|test|predict)_end(self, logs=None)`\n",
    "Called at the end of `fit`/`evaluate`/`predict`.\n",
    "#### `on_(train|test|predict)_batch_begin(self, batch, logs=None)`\n",
    "Called right before processing a batch during training/testing/predicting. Within this method, __`logs` is a dict with `batch` and `size` available keys__, representing the __current batch number and the size of the batch__.\n",
    "#### `on_(train|test|predict)_batch_end(self, batch, logs=None)`\n",
    "Called at the end of training/testing/predicting a batch. Within this method, `logs` is a __dict containing the stateful metrics result__.\n",
    "\n",
    "### Training specific methods\n",
    "In addition, for training, following are provided.\n",
    "#### on_epoch_begin(self, epoch, logs=None)\n",
    "Called at the beginning of an epoch during training.\n",
    "#### on_epoch_end(self, epoch, logs=None)\n",
    "Called at the end of an epoch during training.\n"
   ]
  },
  {
   "cell_type": "markdown",
   "metadata": {
    "colab_type": "text",
    "id": "SWf3mXYoceCz"
   },
   "source": [
    "### Usage of `logs` dict\n",
    "The `logs` dict contains the loss value, and all the metrics at the end of a batch or epoch. Example includes the loss and mean absolute error."
   ]
  },
  {
   "cell_type": "code",
   "execution_count": 8,
   "metadata": {
    "colab": {},
    "colab_type": "code",
    "id": "u4wIdcF9BjJH"
   },
   "outputs": [
    {
     "name": "stdout",
     "output_type": "stream",
     "text": [
      "For batch 0, loss is   32.60.\n",
      "For batch 1, loss is  977.06.\n",
      "For batch 2, loss is   26.34.\n",
      "For batch 3, loss is    9.67.\n",
      "For batch 4, loss is    8.72.\n",
      "The average loss for epoch 0 is  210.88 and mean absolute error is    8.68.\n",
      "For batch 0, loss is    7.02.\n",
      "For batch 1, loss is    6.24.\n",
      "For batch 2, loss is    7.08.\n",
      "For batch 3, loss is    7.00.\n",
      "For batch 4, loss is    8.16.\n",
      "The average loss for epoch 1 is    7.10 and mean absolute error is    2.19.\n",
      "For batch 0, loss is    6.65.\n",
      "For batch 1, loss is    4.38.\n",
      "For batch 2, loss is    5.21.\n",
      "For batch 3, loss is    6.02.\n",
      "For batch 4, loss is    5.20.\n",
      "The average loss for epoch 2 is    5.49 and mean absolute error is    1.94.\n"
     ]
    }
   ],
   "source": [
    "class LossAndErrorPrintingCallback(tf.keras.callbacks.Callback):\n",
    "\n",
    "  def on_train_batch_end(self, batch, logs=None):\n",
    "    print('For batch {}, loss is {:7.2f}.'.format(batch, logs['loss']))\n",
    "\n",
    "  def on_test_batch_end(self, batch, logs=None):\n",
    "    print('For batch {}, loss is {:7.2f}.'.format(batch, logs['loss']))\n",
    "\n",
    "  def on_epoch_end(self, epoch, logs=None):\n",
    "    print('The average loss for epoch {} is {:7.2f} and mean absolute error is {:7.2f}.'.format(epoch, logs['loss'], logs['mae']))\n",
    "\n",
    "model = get_model()\n",
    "_ = model.fit(x_train, y_train,\n",
    "          batch_size=64,\n",
    "          steps_per_epoch=5,\n",
    "          epochs=3,\n",
    "          verbose=0,\n",
    "          callbacks=[LossAndErrorPrintingCallback()])"
   ]
  },
  {
   "cell_type": "markdown",
   "metadata": {
    "colab_type": "text",
    "id": "LbXqvC8FHqeu"
   },
   "source": [
    "Similarly, one can provide callbacks in `evaluate()` calls."
   ]
  },
  {
   "cell_type": "code",
   "execution_count": 9,
   "metadata": {
    "colab": {},
    "colab_type": "code",
    "id": "jzTKYPQHwcxF"
   },
   "outputs": [
    {
     "name": "stdout",
     "output_type": "stream",
     "text": [
      "For batch 0, loss is    5.60.\n",
      "For batch 1, loss is    3.91.\n",
      "For batch 2, loss is    4.94.\n",
      "For batch 3, loss is    5.03.\n",
      "For batch 4, loss is    5.88.\n",
      "For batch 5, loss is    4.70.\n",
      "For batch 6, loss is    4.75.\n",
      "For batch 7, loss is    4.44.\n",
      "For batch 8, loss is    4.73.\n",
      "For batch 9, loss is    5.69.\n",
      "For batch 10, loss is    5.49.\n",
      "For batch 11, loss is    5.58.\n",
      "For batch 12, loss is    5.79.\n",
      "For batch 13, loss is    7.22.\n",
      "For batch 14, loss is    4.87.\n",
      "For batch 15, loss is    5.16.\n",
      "For batch 16, loss is    6.29.\n",
      "For batch 17, loss is    6.54.\n",
      "For batch 18, loss is    6.31.\n",
      "For batch 19, loss is    4.51.\n"
     ]
    }
   ],
   "source": [
    "_ = model.evaluate(x_test, y_test, batch_size=128, verbose=0, steps=20,\n",
    "          callbacks=[LossAndErrorPrintingCallback()])"
   ]
  },
  {
   "cell_type": "markdown",
   "metadata": {
    "colab_type": "text",
    "id": "HnSljqtsXKfb"
   },
   "source": [
    "## Examples of Keras callback applications\n",
    "The following section will guide you through creating simple Callback applications."
   ]
  },
  {
   "cell_type": "markdown",
   "metadata": {
    "colab_type": "text",
    "id": "kptNF0--Lznv"
   },
   "source": [
    "### Early stopping at minimum loss\n",
    "First example showcases the creation of a `Callback` that stops the Keras training when the minimum of loss has been reached __by mutating the attribute `model.stop_training` (boolean)__. Optionally, the user can provide an argument `patience` to specfify how many epochs the training should wait before it eventually stops.\n",
    "\n",
    "`tf.keras.callbacks.EarlyStopping` provides a more complete and general implementation."
   ]
  },
  {
   "cell_type": "code",
   "execution_count": 10,
   "metadata": {
    "colab": {},
    "colab_type": "code",
    "id": "BM31gfAV4mks"
   },
   "outputs": [],
   "source": [
    "import numpy as np\n",
    "\n",
    "class EarlyStoppingAtMinLoss(tf.keras.callbacks.Callback):\n",
    "  \"\"\"Stop training when the loss is at its min, i.e. the loss stops decreasing.\n",
    "\n",
    "  Arguments:\n",
    "      patience: Number of epochs to wait after min has been hit. After this\n",
    "      number of no improvement, training stops.\n",
    "  \"\"\"\n",
    "\n",
    "  def __init__(self, patience=0):\n",
    "    super(EarlyStoppingAtMinLoss, self).__init__()\n",
    "\n",
    "    self.patience = patience\n",
    "\n",
    "    # best_weights to store the weights at which the minimum loss occurs.\n",
    "    self.best_weights = None\n",
    "\n",
    "  def on_train_begin(self, logs=None):\n",
    "    # The number of epoch it has waited when loss is no longer minimum.\n",
    "    self.wait = 0\n",
    "    # The epoch the training stops at.\n",
    "    self.stopped_epoch = 0\n",
    "    # Initialize the best as infinity.\n",
    "    self.best = np.Inf\n",
    "\n",
    "  def on_epoch_end(self, epoch, logs=None):\n",
    "    current = logs.get('loss')\n",
    "    if np.less(current, self.best):\n",
    "      self.best = current\n",
    "      self.wait = 0\n",
    "      # Record the best weights if current results is better (less).\n",
    "      self.best_weights = self.model.get_weights()\n",
    "    else:\n",
    "      self.wait += 1\n",
    "      if self.wait >= self.patience:\n",
    "        self.stopped_epoch = epoch\n",
    "        #Paramos el entrenamiento\n",
    "        self.model.stop_training = True\n",
    "        print('Restoring model weights from the end of the best epoch.')\n",
    "        self.model.set_weights(self.best_weights)\n",
    "\n",
    "  def on_train_end(self, logs=None):\n",
    "    if self.stopped_epoch > 0:\n",
    "      print('Epoch %05d: early stopping' % (self.stopped_epoch + 1))"
   ]
  },
  {
   "cell_type": "code",
   "execution_count": 11,
   "metadata": {
    "colab": {},
    "colab_type": "code",
    "id": "xS4fa-7PFzzc"
   },
   "outputs": [
    {
     "name": "stdout",
     "output_type": "stream",
     "text": [
      "For batch 0, loss is   22.00.\n",
      "For batch 1, loss is  824.54.\n",
      "For batch 2, loss is   20.08.\n",
      "For batch 3, loss is   12.31.\n",
      "For batch 4, loss is    8.96.\n",
      "The average loss for epoch 0 is  177.58 and mean absolute error is    8.02.\n",
      "For batch 0, loss is    6.24.\n",
      "For batch 1, loss is    5.54.\n",
      "For batch 2, loss is    4.51.\n",
      "For batch 3, loss is    5.26.\n",
      "For batch 4, loss is    8.51.\n",
      "The average loss for epoch 1 is    6.01 and mean absolute error is    2.00.\n",
      "For batch 0, loss is    6.76.\n",
      "For batch 1, loss is    5.01.\n",
      "For batch 2, loss is    5.96.\n",
      "For batch 3, loss is    4.84.\n",
      "For batch 4, loss is    5.34.\n",
      "The average loss for epoch 2 is    5.58 and mean absolute error is    1.92.\n",
      "For batch 0, loss is    5.15.\n",
      "For batch 1, loss is    4.82.\n",
      "For batch 2, loss is    9.00.\n",
      "For batch 3, loss is   28.72.\n",
      "For batch 4, loss is  114.01.\n",
      "The average loss for epoch 3 is   32.34 and mean absolute error is    4.14.\n",
      "Restoring model weights from the end of the best epoch.\n",
      "Epoch 00004: early stopping\n"
     ]
    }
   ],
   "source": [
    "model = get_model()\n",
    "_ = model.fit(x_train, y_train,\n",
    "          batch_size=64,\n",
    "          steps_per_epoch=5,\n",
    "          epochs=30,\n",
    "          verbose=0,\n",
    "          callbacks=[LossAndErrorPrintingCallback(), EarlyStoppingAtMinLoss()])"
   ]
  },
  {
   "cell_type": "markdown",
   "metadata": {
    "colab_type": "text",
    "id": "SpVDjs_Dkkdh"
   },
   "source": [
    "### Learning rate scheduling\n",
    "\n",
    "One thing that is commonly done in model training is changing the learning rate as more epochs have passed. __Keras backend exposes get_value api which can be used to set the variables__. In this example, we're showing how a custom Callback can be used to dymanically change the learning rate.\n",
    "\n",
    "Note: this is just an example implementation see `callbacks.LearningRateScheduler` and `keras.optimizers.schedules` for more general implementations."
   ]
  },
  {
   "cell_type": "code",
   "execution_count": 12,
   "metadata": {
    "colab": {},
    "colab_type": "code",
    "id": "PGowEUC8klSz"
   },
   "outputs": [],
   "source": [
    "class LearningRateScheduler(tf.keras.callbacks.Callback):\n",
    "  \"\"\"Learning rate scheduler which sets the learning rate according to schedule.\n",
    "\n",
    "  Arguments:\n",
    "      schedule: a function that takes an epoch index\n",
    "          (integer, indexed from 0) and current learning rate\n",
    "          as inputs and returns a new learning rate as output (float).\n",
    "  \"\"\"\n",
    "\n",
    "  def __init__(self, schedule):\n",
    "    super(LearningRateScheduler, self).__init__()\n",
    "    self.schedule = schedule\n",
    "\n",
    "  def on_epoch_begin(self, epoch, logs=None):\n",
    "    if not hasattr(self.model.optimizer, 'lr'):\n",
    "      raise ValueError('Optimizer must have a \"lr\" attribute.')\n",
    "    # Get the current learning rate from model's optimizer.\n",
    "    #Podemos interactuar con el modelo. Aqui recuperamos un valor\n",
    "    lr = float(tf.keras.backend.get_value(self.model.optimizer.lr))\n",
    "    # Call schedule function to get the scheduled learning rate.\n",
    "    scheduled_lr = self.schedule(epoch, lr)\n",
    "    # Set the value back to the optimizer before this epoch starts\n",
    "    #Podemos interactuar con el modelo. Aqui actualizamos un valor\n",
    "    tf.keras.backend.set_value(self.model.optimizer.lr, scheduled_lr)\n",
    "    print('\\nEpoch %05d: Learning rate is %6.4f.' % (epoch, scheduled_lr))"
   ]
  },
  {
   "cell_type": "code",
   "execution_count": 13,
   "metadata": {
    "colab": {},
    "colab_type": "code",
    "id": "1jL3pI5Ep5F8"
   },
   "outputs": [
    {
     "name": "stdout",
     "output_type": "stream",
     "text": [
      "\n",
      "Epoch 00000: Learning rate is 0.1000.\n",
      "For batch 0, loss is   17.97.\n",
      "For batch 1, loss is 1061.05.\n",
      "For batch 2, loss is   20.94.\n",
      "For batch 3, loss is    9.75.\n",
      "For batch 4, loss is    6.84.\n",
      "The average loss for epoch 0 is  223.31 and mean absolute error is    8.41.\n",
      "\n",
      "Epoch 00001: Learning rate is 0.1000.\n",
      "For batch 0, loss is    5.55.\n",
      "For batch 1, loss is    7.26.\n",
      "For batch 2, loss is    5.09.\n",
      "For batch 3, loss is    6.07.\n",
      "For batch 4, loss is    5.28.\n",
      "The average loss for epoch 1 is    5.85 and mean absolute error is    1.96.\n",
      "\n",
      "Epoch 00002: Learning rate is 0.1000.\n",
      "For batch 0, loss is    5.50.\n",
      "For batch 1, loss is    6.10.\n",
      "For batch 2, loss is    5.71.\n",
      "For batch 3, loss is    8.08.\n",
      "For batch 4, loss is    5.85.\n",
      "The average loss for epoch 2 is    6.25 and mean absolute error is    2.01.\n",
      "\n",
      "Epoch 00003: Learning rate is 0.0500.\n",
      "For batch 0, loss is    5.73.\n",
      "For batch 1, loss is    4.33.\n",
      "For batch 2, loss is    3.53.\n",
      "For batch 3, loss is    5.04.\n",
      "For batch 4, loss is    5.11.\n",
      "The average loss for epoch 3 is    4.75 and mean absolute error is    1.77.\n",
      "\n",
      "Epoch 00004: Learning rate is 0.0500.\n",
      "For batch 0, loss is    3.79.\n",
      "For batch 1, loss is    5.21.\n",
      "For batch 2, loss is    4.28.\n",
      "For batch 3, loss is    5.18.\n",
      "For batch 4, loss is    5.39.\n",
      "The average loss for epoch 4 is    4.77 and mean absolute error is    1.75.\n",
      "\n",
      "Epoch 00005: Learning rate is 0.0500.\n",
      "For batch 0, loss is    4.60.\n",
      "For batch 1, loss is    4.82.\n",
      "For batch 2, loss is    3.07.\n",
      "For batch 3, loss is    3.61.\n",
      "For batch 4, loss is    6.60.\n",
      "The average loss for epoch 5 is    4.54 and mean absolute error is    1.68.\n",
      "\n",
      "Epoch 00006: Learning rate is 0.0100.\n",
      "For batch 0, loss is    4.70.\n",
      "For batch 1, loss is    6.51.\n",
      "For batch 2, loss is    3.84.\n",
      "For batch 3, loss is    4.23.\n",
      "For batch 4, loss is    4.24.\n",
      "The average loss for epoch 6 is    4.70 and mean absolute error is    1.74.\n",
      "\n",
      "Epoch 00007: Learning rate is 0.0100.\n",
      "For batch 0, loss is    5.25.\n",
      "For batch 1, loss is    4.71.\n",
      "For batch 2, loss is    4.92.\n",
      "For batch 3, loss is    5.17.\n",
      "For batch 4, loss is    2.96.\n",
      "The average loss for epoch 7 is    4.60 and mean absolute error is    1.70.\n",
      "\n",
      "Epoch 00008: Learning rate is 0.0100.\n",
      "For batch 0, loss is    3.22.\n",
      "For batch 1, loss is    4.52.\n",
      "For batch 2, loss is    3.15.\n",
      "For batch 3, loss is    5.05.\n",
      "For batch 4, loss is    4.31.\n",
      "The average loss for epoch 8 is    4.05 and mean absolute error is    1.61.\n",
      "\n",
      "Epoch 00009: Learning rate is 0.0050.\n",
      "For batch 0, loss is    4.31.\n",
      "For batch 1, loss is    3.53.\n",
      "For batch 2, loss is    3.64.\n",
      "For batch 3, loss is    4.84.\n",
      "For batch 4, loss is    3.52.\n",
      "The average loss for epoch 9 is    3.97 and mean absolute error is    1.54.\n",
      "\n",
      "Epoch 00010: Learning rate is 0.0050.\n",
      "For batch 0, loss is    4.84.\n",
      "For batch 1, loss is    4.54.\n",
      "For batch 2, loss is    3.06.\n",
      "For batch 3, loss is    4.19.\n",
      "For batch 4, loss is    5.61.\n",
      "The average loss for epoch 10 is    4.45 and mean absolute error is    1.66.\n",
      "\n",
      "Epoch 00011: Learning rate is 0.0050.\n",
      "For batch 0, loss is    4.27.\n",
      "For batch 1, loss is    4.28.\n",
      "For batch 2, loss is    3.13.\n",
      "For batch 3, loss is    2.63.\n",
      "For batch 4, loss is    3.06.\n",
      "The average loss for epoch 11 is    3.47 and mean absolute error is    1.46.\n",
      "\n",
      "Epoch 00012: Learning rate is 0.0010.\n",
      "For batch 0, loss is    3.26.\n",
      "For batch 1, loss is    4.26.\n",
      "For batch 2, loss is    2.71.\n",
      "For batch 3, loss is    3.88.\n",
      "For batch 4, loss is    3.36.\n",
      "The average loss for epoch 12 is    3.49 and mean absolute error is    1.49.\n",
      "\n",
      "Epoch 00013: Learning rate is 0.0010.\n",
      "For batch 0, loss is    4.96.\n",
      "For batch 1, loss is    4.26.\n",
      "For batch 2, loss is    3.49.\n",
      "For batch 3, loss is    3.48.\n",
      "For batch 4, loss is    3.30.\n",
      "The average loss for epoch 13 is    3.90 and mean absolute error is    1.54.\n",
      "\n",
      "Epoch 00014: Learning rate is 0.0010.\n",
      "For batch 0, loss is    3.28.\n",
      "For batch 1, loss is    4.09.\n",
      "For batch 2, loss is    5.22.\n",
      "For batch 3, loss is    2.88.\n",
      "For batch 4, loss is    3.55.\n",
      "The average loss for epoch 14 is    3.80 and mean absolute error is    1.55.\n"
     ]
    }
   ],
   "source": [
    "LR_SCHEDULE = [\n",
    "    # (epoch to start, learning rate) tuples\n",
    "    (3, 0.05), (6, 0.01), (9, 0.005), (12, 0.001)\n",
    "]\n",
    "\n",
    "def lr_schedule(epoch, lr):\n",
    "  \"\"\"Helper function to retrieve the scheduled learning rate based on epoch.\"\"\"\n",
    "  if epoch < LR_SCHEDULE[0][0] or epoch > LR_SCHEDULE[-1][0]:\n",
    "    return lr\n",
    "  for i in range(len(LR_SCHEDULE)):\n",
    "    if epoch == LR_SCHEDULE[i][0]:\n",
    "      return LR_SCHEDULE[i][1]\n",
    "  return lr\n",
    "\n",
    "model = get_model()\n",
    "_ = model.fit(x_train, y_train,\n",
    "          batch_size=64,\n",
    "          steps_per_epoch=5,\n",
    "          epochs=15,\n",
    "          verbose=0,\n",
    "          callbacks=[LossAndErrorPrintingCallback(), LearningRateScheduler(lr_schedule)])"
   ]
  },
  {
   "cell_type": "markdown",
   "metadata": {
    "colab_type": "text",
    "id": "9xMkm699JzK8"
   },
   "source": [
    "### Standard Keras callbacks\n",
    "Be sure to check out the existing Keras callbacks by [visiting the api doc](https://www.tensorflow.org/versions/r2.0/api_docs/python/tf/keras/callbacks). Applications include logging to CSV, saving the model, visualizing on TensorBoard and a lot more."
   ]
  }
 ],
 "metadata": {
  "colab": {
   "collapsed_sections": [
    "9xMkm699JzK8"
   ],
   "name": "Writing custom Keras callback",
   "private_outputs": true,
   "provenance": [],
   "toc_visible": true,
   "version": "0.3.2"
  },
  "kernelspec": {
   "display_name": "Python 3",
   "language": "python",
   "name": "python3"
  },
  "language_info": {
   "codemirror_mode": {
    "name": "ipython",
    "version": 3
   },
   "file_extension": ".py",
   "mimetype": "text/x-python",
   "name": "python",
   "nbconvert_exporter": "python",
   "pygments_lexer": "ipython3",
   "version": "3.7.4"
  }
 },
 "nbformat": 4,
 "nbformat_minor": 1
}
