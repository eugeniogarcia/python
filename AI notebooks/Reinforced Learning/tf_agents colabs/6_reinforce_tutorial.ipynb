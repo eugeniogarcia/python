{
 "cells": [
  {
   "cell_type": "markdown",
   "metadata": {
    "colab_type": "text",
    "id": "klGNgWREsvQv"
   },
   "source": [
    "##### Copyright 2018 The TF-Agents Authors."
   ]
  },
  {
   "cell_type": "markdown",
   "metadata": {
    "colab_type": "text",
    "id": "lsaQlK8fFQqH"
   },
   "source": [
    "### Get Started\n",
    "<table class=\"tfo-notebook-buttons\" align=\"left\">\n",
    "  <td>\n",
    "    <a target=\"_blank\" href=\"https://colab.research.google.com/github/tensorflow/agents/blob/master/tf_agents/colabs/6_reinforce_tutorial.ipynb\"><img src=\"https://www.tensorflow.org/images/colab_logo_32px.png\" />Run in Google Colab</a>\n",
    "  </td>\n",
    "  <td>\n",
    "    <a target=\"_blank\" href=\"https://github.com/tensorflow/agents/blob/master/tf_agents/colabs/6_reinforce_tutorial.ipynb\"><img src=\"https://www.tensorflow.org/images/GitHub-Mark-32px.png\" />View source on GitHub</a>\n",
    "  </td>\n",
    "</table>\n"
   ]
  },
  {
   "cell_type": "code",
   "execution_count": 3,
   "metadata": {
    "colab": {},
    "colab_type": "code",
    "id": "KEHR2Ui-lo8O"
   },
   "outputs": [],
   "source": [
    "try:\n",
    "  %%tensorflow_version 2.x\n",
    "except:\n",
    "  pass\n"
   ]
  },
  {
   "cell_type": "markdown",
   "metadata": {
    "colab_type": "text",
    "id": "ZOUOQOrFs3zn"
   },
   "source": [
    "## Introduction"
   ]
  },
  {
   "cell_type": "markdown",
   "metadata": {
    "colab_type": "text",
    "id": "cKOCZlhUgXVK"
   },
   "source": [
    "This example shows how to train a [REINFORCE](http://www-anw.cs.umass.edu/~barto/courses/cs687/williams92simple.pdf) agent on the Cartpole environment using the TF-Agents library, similar to the [DQN tutorial](1_dqn_tutorial.ipynb).\n",
    "\n",
    "![Cartpole environment](images/cartpole.png)\n",
    "\n",
    "We will walk you through all the components in a Reinforcement Learning (RL) pipeline for training, evaluation and data collection.\n"
   ]
  },
  {
   "cell_type": "markdown",
   "metadata": {
    "colab_type": "text",
    "id": "1u9QVVsShC9X"
   },
   "source": [
    "## Setup"
   ]
  },
  {
   "cell_type": "code",
   "execution_count": 5,
   "metadata": {
    "colab": {},
    "colab_type": "code",
    "id": "sMitx5qSgJk1"
   },
   "outputs": [],
   "source": [
    "from __future__ import absolute_import\n",
    "from __future__ import division\n",
    "from __future__ import print_function\n",
    "\n",
    "import base64\n",
    "import imageio\n",
    "import IPython\n",
    "import matplotlib\n",
    "import matplotlib.pyplot as plt\n",
    "\n",
    "import tensorflow as tf\n",
    "\n",
    "from tf_agents.agents.reinforce import reinforce_agent\n",
    "from tf_agents.drivers import dynamic_step_driver\n",
    "from tf_agents.environments import suite_gym\n",
    "from tf_agents.environments import tf_py_environment\n",
    "from tf_agents.eval import metric_utils\n",
    "from tf_agents.metrics import tf_metrics\n",
    "from tf_agents.networks import actor_distribution_network\n",
    "from tf_agents.replay_buffers import tf_uniform_replay_buffer\n",
    "from tf_agents.trajectories import trajectory\n",
    "from tf_agents.utils import common\n",
    "\n",
    "tf.compat.v1.enable_v2_behavior()\n"
   ]
  },
  {
   "cell_type": "markdown",
   "metadata": {
    "colab_type": "text",
    "id": "LmC0NDhdLIKY"
   },
   "source": [
    "## Hyperparameters"
   ]
  },
  {
   "cell_type": "code",
   "execution_count": 6,
   "metadata": {
    "colab": {},
    "colab_type": "code",
    "id": "HC1kNrOsLSIZ"
   },
   "outputs": [],
   "source": [
    "env_name = \"CartPole-v0\" # @param {type:\"string\"}\n",
    "num_iterations = 250 # @param {type:\"integer\"}\n",
    "collect_episodes_per_iteration = 2 # @param {type:\"integer\"}\n",
    "replay_buffer_capacity = 2000 # @param {type:\"integer\"}\n",
    "\n",
    "fc_layer_params = (100,)\n",
    "\n",
    "learning_rate = 1e-3 # @param {type:\"number\"}\n",
    "log_interval = 25 # @param {type:\"integer\"}\n",
    "num_eval_episodes = 10 # @param {type:\"integer\"}\n",
    "eval_interval = 50 # @param {type:\"integer\"}"
   ]
  },
  {
   "cell_type": "markdown",
   "metadata": {
    "colab_type": "text",
    "id": "VMsJC3DEgI0x"
   },
   "source": [
    "## Environment\n",
    "\n",
    "Environments in RL represent the task or problem that we are trying to solve. Standard environments can be easily created in TF-Agents using `suites`. We have different `suites` for loading environments from sources such as the OpenAI Gym, Atari, DM Control, etc., given a string environment name.\n",
    "\n",
    "Now let us load the CartPole environment from the OpenAI Gym suite."
   ]
  },
  {
   "cell_type": "code",
   "execution_count": 7,
   "metadata": {
    "colab": {},
    "colab_type": "code",
    "id": "pYEz-S9gEv2-"
   },
   "outputs": [],
   "source": [
    "env = suite_gym.load(env_name)"
   ]
  },
  {
   "cell_type": "markdown",
   "metadata": {
    "colab_type": "text",
    "id": "IIHYVBkuvPNw"
   },
   "source": [
    "We can render this environment to see how it looks. A free-swinging pole is attached to a cart.  The goal is to move the cart right or left in order to keep the pole pointing up."
   ]
  },
  {
   "cell_type": "code",
   "execution_count": 8,
   "metadata": {
    "colab": {},
    "colab_type": "code",
    "id": "RlO7WIQHu_7D"
   },
   "outputs": [
    {
     "data": {
      "image/png": "[encoded data removed]",
      "text/plain": [
       "<PIL.Image.Image image mode=RGB size=600x400 at 0x1955A4120C8>"
      ]
     },
     "execution_count": 8,
     "metadata": {},
     "output_type": "execute_result"
    }
   ],
   "source": [
    "#@test {\"skip\": true}\n",
    "env.reset()\n",
    "PIL.Image.fromarray(env.render())"
   ]
  },
  {
   "cell_type": "markdown",
   "metadata": {
    "colab_type": "text",
    "id": "B9_lskPOey18"
   },
   "source": [
    "The `time_step = environment.step(action)` statement takes `action` in the environment.  The `TimeStep` tuple returned contains the environment's next observation and reward for that action. The `time_step_spec()` and `action_spec()` methods in the environment return the specifications (types, shapes, bounds) of the `time_step` and `action` respectively."
   ]
  },
  {
   "cell_type": "code",
   "execution_count": 9,
   "metadata": {
    "colab": {},
    "colab_type": "code",
    "id": "exDv57iHfwQV"
   },
   "outputs": [
    {
     "name": "stdout",
     "output_type": "stream",
     "text": [
      "Observation Spec:\n",
      "BoundedArraySpec(shape=(4,), dtype=dtype('float32'), name='observation', minimum=[-4.8000002e+00 -3.4028235e+38 -4.1887903e-01 -3.4028235e+38], maximum=[4.8000002e+00 3.4028235e+38 4.1887903e-01 3.4028235e+38])\n",
      "Action Spec:\n",
      "BoundedArraySpec(shape=(), dtype=dtype('int64'), name='action', minimum=0, maximum=1)\n"
     ]
    }
   ],
   "source": [
    "print('Observation Spec:')\n",
    "print(env.time_step_spec().observation)\n",
    "print('Action Spec:')\n",
    "print(env.action_spec())"
   ]
  },
  {
   "cell_type": "markdown",
   "metadata": {
    "colab_type": "text",
    "id": "eJCgJnx3g0yY"
   },
   "source": [
    "So, we see that observation is an array of 4 floats: the position and velocity of the cart, and the angular position and velocity of the pole. Since only two actions are possible (move left or move right), the `action_spec` is a scalar where 0 means \"move left\" and 1 means \"move right.\""
   ]
  },
  {
   "cell_type": "code",
   "execution_count": 10,
   "metadata": {
    "colab": {},
    "colab_type": "code",
    "id": "V2UGR5t_iZX-"
   },
   "outputs": [
    {
     "name": "stdout",
     "output_type": "stream",
     "text": [
      "Time step:\n",
      "TimeStep(step_type=array(0), reward=array(0., dtype=float32), discount=array(1., dtype=float32), observation=array([ 0.02102094, -0.03565653, -0.02253272,  0.03267599], dtype=float32))\n",
      "Next time step:\n",
      "TimeStep(step_type=array(1), reward=array(1., dtype=float32), discount=array(1., dtype=float32), observation=array([ 0.02030781,  0.15978117, -0.0218792 , -0.2670302 ], dtype=float32))\n"
     ]
    }
   ],
   "source": [
    "time_step = env.reset()\n",
    "print('Time step:')\n",
    "print(time_step)\n",
    "\n",
    "action = 1\n",
    "\n",
    "next_time_step = env.step(action)\n",
    "print('Next time step:')\n",
    "print(next_time_step)"
   ]
  },
  {
   "cell_type": "markdown",
   "metadata": {
    "colab_type": "text",
    "id": "zuUqXAVmecTU"
   },
   "source": [
    "__Usually we create two environments__: one for __training__ and one for __evaluation__. __Most environments__ are __written in pure python__, but they can be easily __converted to TensorFlow__ using the `TFPyEnvironment` wrapper. The original environment's API uses numpy arrays, the `TFPyEnvironment` converts these to/from `Tensors` for you to more easily interact with TensorFlow policies and agents.\n"
   ]
  },
  {
   "cell_type": "code",
   "execution_count": 11,
   "metadata": {
    "colab": {},
    "colab_type": "code",
    "id": "Xp-Y4mD6eDhF"
   },
   "outputs": [],
   "source": [
    "train_py_env = suite_gym.load(env_name)\n",
    "eval_py_env = suite_gym.load(env_name)\n",
    "\n",
    "train_env = tf_py_environment.TFPyEnvironment(train_py_env)\n",
    "eval_env = tf_py_environment.TFPyEnvironment(eval_py_env)"
   ]
  },
  {
   "cell_type": "markdown",
   "metadata": {
    "colab_type": "text",
    "id": "E9lW_OZYFR8A"
   },
   "source": [
    "## Agent\n",
    "\n",
    "The algorithm that we use to solve an RL problem is represented as an `Agent`. In addition to the REINFORCE agent, TF-Agents provides standard implementations of a variety of `Agents` such as [DQN](https://storage.googleapis.com/deepmind-media/dqn/DQNNaturePaper.pdf), [DDPG](https://arxiv.org/pdf/1509.02971.pdf), [TD3](https://arxiv.org/pdf/1802.09477.pdf), [PPO](https://arxiv.org/abs/1707.06347) and [SAC](https://arxiv.org/abs/1801.01290).\n",
    "\n",
    "To create a REINFORCE Agent, we first need __an `Actor Network`__ that can __learn to predict__ the __action given an observation__ from the environment.\n",
    "\n",
    "We can easily create an `Actor Network` using the specs of the observations and actions. We can specify the layers in the network which, in this example, is the __`fc_layer_params`__ argument set to a __tuple of `ints` representing__ the __sizes__ of each __hidden layer__ (see the Hyperparameters section above).\n",
    "\n"
   ]
  },
  {
   "cell_type": "code",
   "execution_count": 12,
   "metadata": {
    "colab": {},
    "colab_type": "code",
    "id": "TgkdEPg_muzV"
   },
   "outputs": [],
   "source": [
    "actor_net = actor_distribution_network.ActorDistributionNetwork(\n",
    "    train_env.observation_spec(),\n",
    "    train_env.action_spec(),\n",
    "    fc_layer_params=fc_layer_params)"
   ]
  },
  {
   "cell_type": "markdown",
   "metadata": {
    "colab_type": "text",
    "id": "z62u55hSmviJ"
   },
   "source": [
    "We also need an `optimizer` to train the network we just created, and a `train_step_counter` variable to keep track of how many times the network was updated.\n",
    "\n",
    "\n",
    "\n"
   ]
  },
  {
   "cell_type": "code",
   "execution_count": 13,
   "metadata": {
    "colab": {},
    "colab_type": "code",
    "id": "jbY4yrjTEyc9"
   },
   "outputs": [],
   "source": [
    "optimizer = tf.compat.v1.train.AdamOptimizer(learning_rate=learning_rate)\n",
    "\n",
    "train_step_counter = tf.compat.v2.Variable(0)\n",
    "\n",
    "tf_agent = reinforce_agent.ReinforceAgent(\n",
    "    train_env.time_step_spec(),\n",
    "    train_env.action_spec(),\n",
    "    actor_network=actor_net,\n",
    "    optimizer=optimizer,\n",
    "    normalize_returns=True,\n",
    "    train_step_counter=train_step_counter)\n",
    "tf_agent.initialize()"
   ]
  },
  {
   "cell_type": "markdown",
   "metadata": {
    "colab_type": "text",
    "id": "I0KLrEPwkn5x"
   },
   "source": [
    "## Policies\n",
    "\n",
    "In TF-Agents, policies represent the standard notion of policies in RL: given a `time_step` produce an action or a distribution over actions. The main method is `policy_step = policy.step(time_step)` where `policy_step` is a named tuple `PolicyStep(action, state, info)`.  The `policy_step.action` is the `action` to be applied to the environment, `state` represents the state for stateful (RNN) policies and `info` may contain auxiliary information such as log probabilities of the actions.\n",
    "\n",
    "Agents contain two policies: the main policy that is used for evaluation/deployment (agent.policy) and another policy that is used for data collection (agent.collect_policy)."
   ]
  },
  {
   "cell_type": "code",
   "execution_count": 14,
   "metadata": {
    "colab": {},
    "colab_type": "code",
    "id": "BwY7StuMkuV4"
   },
   "outputs": [],
   "source": [
    "eval_policy = tf_agent.policy\n",
    "collect_policy = tf_agent.collect_policy"
   ]
  },
  {
   "cell_type": "markdown",
   "metadata": {
    "colab_type": "text",
    "id": "94rCXQtbUbXv"
   },
   "source": [
    "## Metrics and Evaluation\n",
    "\n",
    "The most common metric used to evaluate a policy is the average return. The return is the sum of rewards obtained while running a policy in an environment for an episode, and we usually average this over a few episodes. We can compute the average return metric as follows.\n"
   ]
  },
  {
   "cell_type": "code",
   "execution_count": 15,
   "metadata": {
    "colab": {},
    "colab_type": "code",
    "id": "bitzHo5_UbXy"
   },
   "outputs": [],
   "source": [
    "#@test {\"skip\": true}\n",
    "def compute_avg_return(environment, policy, num_episodes=10):\n",
    "\n",
    "  total_return = 0.0\n",
    "  for _ in range(num_episodes):\n",
    "\n",
    "    time_step = environment.reset()\n",
    "    episode_return = 0.0\n",
    "\n",
    "    while not time_step.is_last():\n",
    "      action_step = policy.action(time_step)\n",
    "      time_step = environment.step(action_step.action)\n",
    "      episode_return += time_step.reward\n",
    "    total_return += episode_return\n",
    "\n",
    "  avg_return = total_return / num_episodes\n",
    "  return avg_return.numpy()[0]\n",
    "\n",
    "\n",
    "# Please also see the metrics module for standard implementations of different\n",
    "# metrics."
   ]
  },
  {
   "cell_type": "markdown",
   "metadata": {
    "colab_type": "text",
    "id": "NLva6g2jdWgr"
   },
   "source": [
    "## Replay Buffer\n",
    "\n",
    "In order to keep track of the data collected from the environment, we will use the TFUniformReplayBuffer. This replay buffer is constructed using specs describing the tensors that are to be stored, which can be obtained from the agent using `tf_agent.collect_data_spec`."
   ]
  },
  {
   "cell_type": "code",
   "execution_count": 16,
   "metadata": {
    "colab": {},
    "colab_type": "code",
    "id": "vX2zGUWJGWAl"
   },
   "outputs": [],
   "source": [
    "replay_buffer = tf_uniform_replay_buffer.TFUniformReplayBuffer(\n",
    "    data_spec=tf_agent.collect_data_spec,\n",
    "    batch_size=train_env.batch_size,\n",
    "    max_length=replay_buffer_capacity)"
   ]
  },
  {
   "cell_type": "markdown",
   "metadata": {
    "colab_type": "text",
    "id": "ZGNTDJpZs4NN"
   },
   "source": [
    "For most agents, the `collect_data_spec` is a `Trajectory` named tuple containing the observation, action, reward etc."
   ]
  },
  {
   "cell_type": "markdown",
   "metadata": {
    "colab_type": "text",
    "id": "rVD5nQ9ZGo8_"
   },
   "source": [
    "## Data Collection\n",
    "\n",
    "As REINFORCE learns from whole episodes, we define a function to collect an episode using the given data collection policy and save the data (observations, actions, rewards etc.) as trajectories in the replay buffer."
   ]
  },
  {
   "cell_type": "code",
   "execution_count": 17,
   "metadata": {
    "colab": {},
    "colab_type": "code",
    "id": "wr1KSAEGG4h9"
   },
   "outputs": [],
   "source": [
    "#@test {\"skip\": true}\n",
    "\n",
    "def collect_episode(environment, policy, num_episodes):\n",
    "\n",
    "  episode_counter = 0\n",
    "  environment.reset()\n",
    "\n",
    "  while episode_counter < num_episodes:\n",
    "    time_step = environment.current_time_step()\n",
    "    action_step = policy.action(time_step)\n",
    "    next_time_step = environment.step(action_step.action)\n",
    "    traj = trajectory.from_transition(time_step, action_step, next_time_step)\n",
    "\n",
    "    # Add trajectory to the replay buffer\n",
    "    replay_buffer.add_batch(traj)\n",
    "\n",
    "    if traj.is_boundary():\n",
    "      episode_counter += 1\n",
    "\n",
    "\n",
    "# This loop is so common in RL, that we provide standard implementations of\n",
    "# these. For more details see the drivers module."
   ]
  },
  {
   "cell_type": "markdown",
   "metadata": {
    "colab_type": "text",
    "id": "hBc9lj9VWWtZ"
   },
   "source": [
    "## Training the agent\n",
    "\n",
    "The training loop involves both collecting data from the environment and optimizing the agent's networks. Along the way, we will occasionally evaluate the agent's policy to see how we are doing.\n",
    "\n",
    "The following will take ~3 minutes to run."
   ]
  },
  {
   "cell_type": "code",
   "execution_count": 18,
   "metadata": {
    "colab": {},
    "colab_type": "code",
    "id": "0pTbJ3PeyF-u"
   },
   "outputs": [
    {
     "name": "stdout",
     "output_type": "stream",
     "text": [
      "step = 25: loss = -0.4090733528137207\n",
      "step = 50: loss = -0.7723028063774109\n",
      "step = 50: Average Return = 165.10000610351562\n",
      "step = 75: loss = 0.528182864189148\n",
      "step = 100: loss = -1.1267752647399902\n",
      "step = 100: Average Return = 173.6999969482422\n",
      "step = 125: loss = -2.243950605392456\n",
      "step = 150: loss = -1.9597879648208618\n",
      "step = 150: Average Return = 200.0\n",
      "step = 175: loss = -0.6833703517913818\n",
      "step = 200: loss = -0.9655342102050781\n",
      "step = 200: Average Return = 200.0\n",
      "step = 225: loss = -2.9547994136810303\n",
      "step = 250: loss = -3.8630611896514893\n",
      "step = 250: Average Return = 200.0\n"
     ]
    }
   ],
   "source": [
    "#@test {\"skip\": true}\n",
    "try:\n",
    "  %%time\n",
    "except:\n",
    "  pass\n",
    "\n",
    "# (Optional) Optimize by wrapping some of the code in a graph using TF function.\n",
    "tf_agent.train = common.function(tf_agent.train)\n",
    "\n",
    "# Reset the train step\n",
    "tf_agent.train_step_counter.assign(0)\n",
    "\n",
    "# Evaluate the agent's policy once before training.\n",
    "avg_return = compute_avg_return(eval_env, tf_agent.policy, num_eval_episodes)\n",
    "returns = [avg_return]\n",
    "\n",
    "for _ in range(num_iterations):\n",
    "\n",
    "  # Collect a few episodes using collect_policy and save to the replay buffer.\n",
    "  collect_episode(\n",
    "      train_env, tf_agent.collect_policy, collect_episodes_per_iteration)\n",
    "\n",
    "  # Use data from the buffer and update the agent's network.\n",
    "  experience = replay_buffer.gather_all()\n",
    "  train_loss = tf_agent.train(experience)\n",
    "  replay_buffer.clear()\n",
    "\n",
    "  step = tf_agent.train_step_counter.numpy()\n",
    "\n",
    "  if step % log_interval == 0:\n",
    "    print('step = {0}: loss = {1}'.format(step, train_loss.loss))\n",
    "\n",
    "  if step % eval_interval == 0:\n",
    "    avg_return = compute_avg_return(eval_env, tf_agent.policy, num_eval_episodes)\n",
    "    print('step = {0}: Average Return = {1}'.format(step, avg_return))\n",
    "    returns.append(avg_return)"
   ]
  },
  {
   "cell_type": "markdown",
   "metadata": {
    "colab_type": "text",
    "id": "68jNcA_TiJDq"
   },
   "source": [
    "## Visualization\n",
    "\n"
   ]
  },
  {
   "cell_type": "markdown",
   "metadata": {
    "colab_type": "text",
    "id": "aO-LWCdbbOIC"
   },
   "source": [
    "### Plots\n",
    "\n",
    "We can plot return vs global steps to see the performance of our agent. In `Cartpole-v0`, the environment gives a reward of +1 for every time step the pole stays up, and since the maximum number of steps is 200, the maximum possible return is also 200."
   ]
  },
  {
   "cell_type": "code",
   "execution_count": 19,
   "metadata": {
    "colab": {},
    "colab_type": "code",
    "id": "NxtL1mbOYCVO"
   },
   "outputs": [
    {
     "data": {
      "text/plain": [
       "(-0.025000000000000355, 250)"
      ]
     },
     "execution_count": 19,
     "metadata": {},
     "output_type": "execute_result"
    },
    {
     "data": {
      "image/png": "[encoded data removed]",
      "text/plain": [
       "<Figure size 432x288 with 1 Axes>"
      ]
     },
     "metadata": {
      "needs_background": "light"
     },
     "output_type": "display_data"
    }
   ],
   "source": [
    "#@test {\"skip\": true}\n",
    "\n",
    "steps = range(0, num_iterations + 1, eval_interval)\n",
    "plt.plot(steps, returns)\n",
    "plt.ylabel('Average Return')\n",
    "plt.xlabel('Step')\n",
    "plt.ylim(top=250)"
   ]
  },
  {
   "cell_type": "markdown",
   "metadata": {
    "colab_type": "text",
    "id": "M7-XpPP99Cy7"
   },
   "source": [
    "### Videos"
   ]
  },
  {
   "cell_type": "markdown",
   "metadata": {
    "colab_type": "text",
    "id": "9pGfGxSH32gn"
   },
   "source": [
    "It is helpful to visualize the performance of an agent by rendering the environment at each step. Before we do that, let us first create a function to embed videos in this colab."
   ]
  },
  {
   "cell_type": "code",
   "execution_count": 20,
   "metadata": {
    "colab": {},
    "colab_type": "code",
    "id": "ULaGr8pvOKbl"
   },
   "outputs": [],
   "source": [
    "def embed_mp4(filename):\n",
    "  \"\"\"Embeds an mp4 file in the notebook.\"\"\"\n",
    "  video = open(filename,'rb').read()\n",
    "  b64 = base64.b64encode(video)\n",
    "  tag = '''\n",
    "  <video width=\"640\" height=\"480\" controls>\n",
    "    <source src=\"data:video/mp4;base64,{0}\" type=\"video/mp4\">\n",
    "  Your browser does not support the video tag.\n",
    "  </video>'''.format(b64.decode())\n",
    "\n",
    "  return IPython.display.HTML(tag)"
   ]
  },
  {
   "cell_type": "markdown",
   "metadata": {
    "colab_type": "text",
    "id": "9c_PH-pX4Pr5"
   },
   "source": [
    "The following code visualizes the agent's policy for a few episodes:"
   ]
  },
  {
   "cell_type": "code",
   "execution_count": 21,
   "metadata": {
    "colab": {},
    "colab_type": "code",
    "id": "owOVWB158NlF"
   },
   "outputs": [
    {
     "name": "stderr",
     "output_type": "stream",
     "text": [
      "IMAGEIO FFMPEG_WRITER WARNING: input image is not divisible by macro_block_size=16, resizing from (600, 400) to (608, 400) to ensure video compatibility with most codecs and players. To prevent resizing, make your input image divisible by the macro_block_size or set the macro_block_size to 1 (risking incompatibility).\n"
     ]
    },
    {
     "data": {
      "text/html": [
       "\n",
       "  <video width=\"640\" height=\"480\" controls>\n",
       "    <source src=\"data:video/mp4;base64,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\" type=\"video/mp4\">\n",
       "  Your browser does not support the video tag.\n",
       "  </video>"
      ],
      "text/plain": [
       "<IPython.core.display.HTML object>"
      ]
     },
     "execution_count": 21,
     "metadata": {},
     "output_type": "execute_result"
    }
   ],
   "source": [
    "num_episodes = 3\n",
    "video_filename = 'imageio.mp4'\n",
    "with imageio.get_writer(video_filename, fps=60) as video:\n",
    "  for _ in range(num_episodes):\n",
    "    time_step = eval_env.reset()\n",
    "    video.append_data(eval_py_env.render())\n",
    "    while not time_step.is_last():\n",
    "      action_step = tf_agent.policy.action(time_step)\n",
    "      time_step = eval_env.step(action_step.action)\n",
    "      video.append_data(eval_py_env.render())\n",
    "\n",
    "embed_mp4(video_filename)"
   ]
  }
 ],
 "metadata": {
  "accelerator": "GPU",
  "colab": {
   "collapsed_sections": [],
   "name": "REINFORCE Tutorial.ipynb",
   "toc_visible": true,
   "version": "0.3.2"
  },
  "kernelspec": {
   "display_name": "Python 3",
   "language": "python",
   "name": "python3"
  },
  "language_info": {
   "codemirror_mode": {
    "name": "ipython",
    "version": 3
   },
   "file_extension": ".py",
   "mimetype": "text/x-python",
   "name": "python",
   "nbconvert_exporter": "python",
   "pygments_lexer": "ipython3",
   "version": "3.7.6"
  },
  "pycharm": {
   "stem_cell": {
    "cell_type": "raw",
    "metadata": {
     "collapsed": false
    },
    "source": []
   }
  }
 },
 "nbformat": 4,
 "nbformat_minor": 1
}
