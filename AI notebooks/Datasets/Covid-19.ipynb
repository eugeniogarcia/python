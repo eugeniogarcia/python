{
 "cells": [
  {
   "cell_type": "code",
   "execution_count": 1,
   "metadata": {},
   "outputs": [],
   "source": [
    "import pandas as pd\n",
    "import tensorflow as tf\n",
    "import matplotlib.pyplot as plt\n",
    "import numpy as np\n",
    "import math as m"
   ]
  },
  {
   "cell_type": "markdown",
   "metadata": {},
   "source": [
    "# Crecimiento exponencial"
   ]
  },
  {
   "cell_type": "code",
   "execution_count": 2,
   "metadata": {},
   "outputs": [],
   "source": [
    "# Calcula el logaritmo de una serie\n",
    "def logaritmo(x):\n",
    "    respuesta=[]\n",
    "    for i in x:\n",
    "        if(i>0):\n",
    "            respuesta.append(m.log(i,2))\n",
    "        else:\n",
    "            respuesta.append(0)\n",
    "    return respuesta"
   ]
  },
  {
   "cell_type": "code",
   "execution_count": 3,
   "metadata": {},
   "outputs": [],
   "source": [
    "# Calcula la tasa de crecimiento de una serie\n",
    "def tasaCrecimiento(x):\n",
    "    respuesta=[]\n",
    "    delta=0\n",
    "    for i in x:\n",
    "        if(i>0):\n",
    "            respuesta.append(round((2**(m.log(i,2)-delta)-1)*100,2))\n",
    "            delta=m.log(i,2)\n",
    "        else:\n",
    "            respuesta.append(round((2**(0-delta)-1)*100,2))\n",
    "            delta=0\n",
    "    return respuesta"
   ]
  },
  {
   "cell_type": "code",
   "execution_count": 4,
   "metadata": {},
   "outputs": [],
   "source": [
    "# Calcula la tasa de crecimiento de una serie\n",
    "def diasDuplicar(x):\n",
    "    respuesta=[]\n",
    "    delta=0\n",
    "    for i in x:\n",
    "        if(i>0):\n",
    "            if((m.log(i,2)-delta)==0):\n",
    "                respuesta.append(-1)\n",
    "            else:\n",
    "                respuesta.append(round(1/(m.log(i,2)-delta),2))\n",
    "            delta=m.log(i,2)\n",
    "        else:\n",
    "            if (0-delta == 0):\n",
    "                respuesta.append(-1)\n",
    "            else:\n",
    "                respuesta.append(round(1/(0-delta),2))\n",
    "            delta=0\n",
    "    return respuesta"
   ]
  },
  {
   "cell_type": "code",
   "execution_count": 5,
   "metadata": {},
   "outputs": [],
   "source": [
    "def delta(x):\n",
    "    respuesta=[]\n",
    "    delta=0\n",
    "    for i in x:\n",
    "        respuesta.append(i-delta)\n",
    "        delta=i\n",
    "    return respuesta"
   ]
  },
  {
   "cell_type": "markdown",
   "metadata": {},
   "source": [
    "Supongamos una serie que crece exponencialmente doblando el valor en cada interacción, y otra que lo triplica"
   ]
  },
  {
   "cell_type": "code",
   "execution_count": 6,
   "metadata": {},
   "outputs": [
    {
     "data": {
      "text/plain": [
       "[<matplotlib.lines.Line2D at 0x18dc339d2c8>,\n",
       " <matplotlib.lines.Line2D at 0x18dc33a5508>]"
      ]
     },
     "execution_count": 6,
     "metadata": {},
     "output_type": "execute_result"
    },
    {
     "data": {
      "image/png": "[encoded data removed]",
      "text/plain": [
       "<Figure size 432x288 with 1 Axes>"
      ]
     },
     "metadata": {
      "needs_background": "light"
     },
     "output_type": "display_data"
    }
   ],
   "source": [
    "x=range(0,20)\n",
    "y2=[2**i for i in x]\n",
    "y3=[3**i for i in x]\n",
    "plt.plot(x[:6],y2[:6],x[:6],y3[:6])"
   ]
  },
  {
   "cell_type": "markdown",
   "metadata": {},
   "source": [
    "La representacion logaritmica en base 2 nos mostrara que cuando la tasa se duplica la pendiente es uno (log(2)) y cuando se tripilca es log(3) "
   ]
  },
  {
   "cell_type": "code",
   "execution_count": 7,
   "metadata": {},
   "outputs": [
    {
     "data": {
      "text/plain": [
       "[<matplotlib.lines.Line2D at 0x18dc3459208>,\n",
       " <matplotlib.lines.Line2D at 0x18dc3460e08>]"
      ]
     },
     "execution_count": 7,
     "metadata": {},
     "output_type": "execute_result"
    },
    {
     "data": {
      "image/png": "[encoded data removed]",
      "text/plain": [
       "<Figure size 432x288 with 1 Axes>"
      ]
     },
     "metadata": {
      "needs_background": "light"
     },
     "output_type": "display_data"
    }
   ],
   "source": [
    "plt.plot(x,logaritmo(y2),x,logaritmo(y3))"
   ]
  },
  {
   "cell_type": "code",
   "execution_count": 8,
   "metadata": {},
   "outputs": [
    {
     "name": "stdout",
     "output_type": "stream",
     "text": [
      "La pendiente cuando se triplica el numero de infectados es 1.5849625007211563\n"
     ]
    }
   ],
   "source": [
    "print(\"La pendiente cuando se triplica el numero de infectados es {}\".format(m.log(3,2)))"
   ]
  },
  {
   "cell_type": "code",
   "execution_count": 9,
   "metadata": {},
   "outputs": [
    {
     "data": {
      "text/plain": [
       "[<matplotlib.lines.Line2D at 0x18dc34d8f88>,\n",
       " <matplotlib.lines.Line2D at 0x18dc44b4c88>]"
      ]
     },
     "execution_count": 9,
     "metadata": {},
     "output_type": "execute_result"
    },
    {
     "data": {
      "image/png": "[encoded data removed]",
      "text/plain": [
       "<Figure size 432x288 with 1 Axes>"
      ]
     },
     "metadata": {
      "needs_background": "light"
     },
     "output_type": "display_data"
    }
   ],
   "source": [
    "plt.plot(x[1:],tasaCrecimiento(y2[1:]),x[1:],tasaCrecimiento(y3[1:]))"
   ]
  },
  {
   "cell_type": "markdown",
   "metadata": {},
   "source": [
    "# Datos del Corona Virus\n",
    "\n",
    "Carga los datos de infecciones, fallecidos y curados"
   ]
  },
  {
   "cell_type": "code",
   "execution_count": 10,
   "metadata": {},
   "outputs": [],
   "source": [
    "casos = pd.read_csv('D:\\\\COVID-19\\\\csse_covid_19_data\\\\csse_covid_19_time_series\\\\time_series_covid19_confirmed_global.csv')"
   ]
  },
  {
   "cell_type": "code",
   "execution_count": 11,
   "metadata": {},
   "outputs": [],
   "source": [
    "muertes = pd.read_csv('D:\\\\COVID-19\\\\csse_covid_19_data\\\\csse_covid_19_time_series\\\\time_series_covid19_deaths_global.csv')"
   ]
  },
  {
   "cell_type": "code",
   "execution_count": 12,
   "metadata": {},
   "outputs": [],
   "source": [
    "curados = pd.read_csv('D:\\\\COVID-19\\\\csse_covid_19_data\\\\csse_covid_19_time_series\\\\time_series_covid19_recovered_global.csv')"
   ]
  },
  {
   "cell_type": "code",
   "execution_count": 13,
   "metadata": {},
   "outputs": [],
   "source": [
    "esp=casos[casos['Country/Region']=='Spain'].loc[:,'1/22/20':].T\n",
    "ita=casos[casos['Country/Region']=='Italy'].loc[:,'1/22/20':].T\n",
    "aut=casos[casos['Country/Region']=='Austria'].loc[:,'1/22/20':].T\n",
    "ger=casos[casos['Country/Region']=='Germany'].loc[:,'1/22/20':].T\n",
    "usa=casos[casos['Country/Region']=='US'].loc[:,'1/22/20':].T\n",
    "fra=casos[(casos['Country/Region']=='France') & (pd.isnull(casos['Province/State']))].loc[:,'1/22/20':].T\n",
    "uk=casos[(casos['Country/Region']=='United Kingdom') & (pd.isnull(casos['Province/State']))].loc[:,'1/22/20':].T"
   ]
  },
  {
   "cell_type": "code",
   "execution_count": 14,
   "metadata": {},
   "outputs": [],
   "source": [
    "total_casos = pd.DataFrame({'España':esp[esp.columns[0]],'Francia':fra[fra.columns[0]],'EEUU':usa[usa.columns[0]],'Alemania':ger[ger.columns[0]],'Italia':ita[ita.columns[0]],'Austria':aut[aut.columns[0]],'UK':uk[uk.columns[0]],})"
   ]
  },
  {
   "cell_type": "code",
   "execution_count": 15,
   "metadata": {},
   "outputs": [
    {
     "data": {
      "text/html": [
       "<div>\n",
       "<style scoped>\n",
       "    .dataframe tbody tr th:only-of-type {\n",
       "        vertical-align: middle;\n",
       "    }\n",
       "\n",
       "    .dataframe tbody tr th {\n",
       "        vertical-align: top;\n",
       "    }\n",
       "\n",
       "    .dataframe thead th {\n",
       "        text-align: right;\n",
       "    }\n",
       "</style>\n",
       "<table border=\"1\" class=\"dataframe\">\n",
       "  <thead>\n",
       "    <tr style=\"text-align: right;\">\n",
       "      <th></th>\n",
       "      <th>España</th>\n",
       "      <th>Francia</th>\n",
       "      <th>EEUU</th>\n",
       "      <th>Alemania</th>\n",
       "      <th>Italia</th>\n",
       "      <th>Austria</th>\n",
       "      <th>UK</th>\n",
       "    </tr>\n",
       "  </thead>\n",
       "  <tbody>\n",
       "    <tr>\n",
       "      <th>5/4/20</th>\n",
       "      <td>218011</td>\n",
       "      <td>167886</td>\n",
       "      <td>1180375</td>\n",
       "      <td>166152</td>\n",
       "      <td>211938</td>\n",
       "      <td>15621</td>\n",
       "      <td>190584</td>\n",
       "    </tr>\n",
       "    <tr>\n",
       "      <th>5/5/20</th>\n",
       "      <td>219329</td>\n",
       "      <td>168935</td>\n",
       "      <td>1204351</td>\n",
       "      <td>167007</td>\n",
       "      <td>213013</td>\n",
       "      <td>15650</td>\n",
       "      <td>194990</td>\n",
       "    </tr>\n",
       "    <tr>\n",
       "      <th>5/6/20</th>\n",
       "      <td>220325</td>\n",
       "      <td>172465</td>\n",
       "      <td>1228603</td>\n",
       "      <td>168162</td>\n",
       "      <td>214457</td>\n",
       "      <td>15684</td>\n",
       "      <td>201101</td>\n",
       "    </tr>\n",
       "    <tr>\n",
       "      <th>5/7/20</th>\n",
       "      <td>221447</td>\n",
       "      <td>173040</td>\n",
       "      <td>1257023</td>\n",
       "      <td>169430</td>\n",
       "      <td>215858</td>\n",
       "      <td>15752</td>\n",
       "      <td>206715</td>\n",
       "    </tr>\n",
       "    <tr>\n",
       "      <th>5/8/20</th>\n",
       "      <td>222857</td>\n",
       "      <td>174318</td>\n",
       "      <td>1283929</td>\n",
       "      <td>170588</td>\n",
       "      <td>217185</td>\n",
       "      <td>15774</td>\n",
       "      <td>211364</td>\n",
       "    </tr>\n",
       "  </tbody>\n",
       "</table>\n",
       "</div>"
      ],
      "text/plain": [
       "        España  Francia     EEUU  Alemania  Italia  Austria      UK\n",
       "5/4/20  218011   167886  1180375    166152  211938    15621  190584\n",
       "5/5/20  219329   168935  1204351    167007  213013    15650  194990\n",
       "5/6/20  220325   172465  1228603    168162  214457    15684  201101\n",
       "5/7/20  221447   173040  1257023    169430  215858    15752  206715\n",
       "5/8/20  222857   174318  1283929    170588  217185    15774  211364"
      ]
     },
     "execution_count": 15,
     "metadata": {},
     "output_type": "execute_result"
    }
   ],
   "source": [
    "total_casos.tail()"
   ]
  },
  {
   "cell_type": "code",
   "execution_count": 16,
   "metadata": {},
   "outputs": [],
   "source": [
    "esp=muertes[muertes['Country/Region']=='Spain'].loc[:,'1/22/20':].T\n",
    "ita=muertes[muertes['Country/Region']=='Italy'].loc[:,'1/22/20':].T\n",
    "aut=muertes[muertes['Country/Region']=='Austria'].loc[:,'1/22/20':].T\n",
    "ger=muertes[muertes['Country/Region']=='Germany'].loc[:,'1/22/20':].T\n",
    "usa=muertes[muertes['Country/Region']=='US'].loc[:,'1/22/20':].T\n",
    "fra=muertes[(muertes['Country/Region']=='France') & (pd.isnull(muertes['Province/State']))].loc[:,'1/22/20':].T\n",
    "uk=muertes[(muertes['Country/Region']=='United Kingdom') & (pd.isnull(muertes['Province/State']))].loc[:,'1/22/20':].T\n"
   ]
  },
  {
   "cell_type": "code",
   "execution_count": 17,
   "metadata": {},
   "outputs": [],
   "source": [
    "total_muertes = pd.DataFrame({'España':esp[esp.columns[0]],'Francia':fra[fra.columns[0]],'EEUU':usa[usa.columns[0]],'Alemania':ger[ger.columns[0]],'Italia':ita[ita.columns[0]],'Austria':aut[aut.columns[0]],'UK':uk[uk.columns[0]],})"
   ]
  },
  {
   "cell_type": "code",
   "execution_count": 18,
   "metadata": {},
   "outputs": [
    {
     "data": {
      "text/html": [
       "<div>\n",
       "<style scoped>\n",
       "    .dataframe tbody tr th:only-of-type {\n",
       "        vertical-align: middle;\n",
       "    }\n",
       "\n",
       "    .dataframe tbody tr th {\n",
       "        vertical-align: top;\n",
       "    }\n",
       "\n",
       "    .dataframe thead th {\n",
       "        text-align: right;\n",
       "    }\n",
       "</style>\n",
       "<table border=\"1\" class=\"dataframe\">\n",
       "  <thead>\n",
       "    <tr style=\"text-align: right;\">\n",
       "      <th></th>\n",
       "      <th>España</th>\n",
       "      <th>Francia</th>\n",
       "      <th>EEUU</th>\n",
       "      <th>Alemania</th>\n",
       "      <th>Italia</th>\n",
       "      <th>Austria</th>\n",
       "      <th>UK</th>\n",
       "    </tr>\n",
       "  </thead>\n",
       "  <tbody>\n",
       "    <tr>\n",
       "      <th>5/4/20</th>\n",
       "      <td>25428</td>\n",
       "      <td>25168</td>\n",
       "      <td>68922</td>\n",
       "      <td>6993</td>\n",
       "      <td>29079</td>\n",
       "      <td>600</td>\n",
       "      <td>28734</td>\n",
       "    </tr>\n",
       "    <tr>\n",
       "      <th>5/5/20</th>\n",
       "      <td>25613</td>\n",
       "      <td>25498</td>\n",
       "      <td>71064</td>\n",
       "      <td>6993</td>\n",
       "      <td>29315</td>\n",
       "      <td>606</td>\n",
       "      <td>29427</td>\n",
       "    </tr>\n",
       "    <tr>\n",
       "      <th>5/6/20</th>\n",
       "      <td>25857</td>\n",
       "      <td>25772</td>\n",
       "      <td>73431</td>\n",
       "      <td>7275</td>\n",
       "      <td>29684</td>\n",
       "      <td>608</td>\n",
       "      <td>30076</td>\n",
       "    </tr>\n",
       "    <tr>\n",
       "      <th>5/7/20</th>\n",
       "      <td>26070</td>\n",
       "      <td>25949</td>\n",
       "      <td>75662</td>\n",
       "      <td>7392</td>\n",
       "      <td>29958</td>\n",
       "      <td>609</td>\n",
       "      <td>30615</td>\n",
       "    </tr>\n",
       "    <tr>\n",
       "      <th>5/8/20</th>\n",
       "      <td>26299</td>\n",
       "      <td>26192</td>\n",
       "      <td>77180</td>\n",
       "      <td>7510</td>\n",
       "      <td>30201</td>\n",
       "      <td>614</td>\n",
       "      <td>31241</td>\n",
       "    </tr>\n",
       "  </tbody>\n",
       "</table>\n",
       "</div>"
      ],
      "text/plain": [
       "        España  Francia   EEUU  Alemania  Italia  Austria     UK\n",
       "5/4/20   25428    25168  68922      6993   29079      600  28734\n",
       "5/5/20   25613    25498  71064      6993   29315      606  29427\n",
       "5/6/20   25857    25772  73431      7275   29684      608  30076\n",
       "5/7/20   26070    25949  75662      7392   29958      609  30615\n",
       "5/8/20   26299    26192  77180      7510   30201      614  31241"
      ]
     },
     "execution_count": 18,
     "metadata": {},
     "output_type": "execute_result"
    }
   ],
   "source": [
    "total_muertes.tail()"
   ]
  },
  {
   "cell_type": "code",
   "execution_count": 19,
   "metadata": {},
   "outputs": [],
   "source": [
    "esp=curados[curados['Country/Region']=='Spain'].loc[:,'1/22/20':].T\n",
    "ita=curados[curados['Country/Region']=='Italy'].loc[:,'1/22/20':].T\n",
    "aut=curados[curados['Country/Region']=='Austria'].loc[:,'1/22/20':].T\n",
    "ger=curados[curados['Country/Region']=='Germany'].loc[:,'1/22/20':].T\n",
    "usa=curados[curados['Country/Region']=='US'].loc[:,'1/22/20':].T\n",
    "fra=curados[(curados['Country/Region']=='France') & (pd.isnull(curados['Province/State']))].loc[:,'1/22/20':].T\n",
    "uk=curados[(curados['Country/Region']=='United Kingdom') & (pd.isnull(curados['Province/State']))].loc[:,'1/22/20':].T"
   ]
  },
  {
   "cell_type": "code",
   "execution_count": 20,
   "metadata": {},
   "outputs": [],
   "source": [
    "total_curados = pd.DataFrame({'España':esp[esp.columns[0]],'Francia':fra[fra.columns[0]],'EEUU':usa[usa.columns[0]],'Alemania':ger[ger.columns[0]],'Italia':ita[ita.columns[0]],'Austria':aut[aut.columns[0]],'UK':uk[uk.columns[0]],})"
   ]
  },
  {
   "cell_type": "code",
   "execution_count": 21,
   "metadata": {},
   "outputs": [
    {
     "data": {
      "text/html": [
       "<div>\n",
       "<style scoped>\n",
       "    .dataframe tbody tr th:only-of-type {\n",
       "        vertical-align: middle;\n",
       "    }\n",
       "\n",
       "    .dataframe tbody tr th {\n",
       "        vertical-align: top;\n",
       "    }\n",
       "\n",
       "    .dataframe thead th {\n",
       "        text-align: right;\n",
       "    }\n",
       "</style>\n",
       "<table border=\"1\" class=\"dataframe\">\n",
       "  <thead>\n",
       "    <tr style=\"text-align: right;\">\n",
       "      <th></th>\n",
       "      <th>España</th>\n",
       "      <th>Francia</th>\n",
       "      <th>EEUU</th>\n",
       "      <th>Alemania</th>\n",
       "      <th>Italia</th>\n",
       "      <th>Austria</th>\n",
       "      <th>UK</th>\n",
       "    </tr>\n",
       "  </thead>\n",
       "  <tbody>\n",
       "    <tr>\n",
       "      <th>5/4/20</th>\n",
       "      <td>121343</td>\n",
       "      <td>50438</td>\n",
       "      <td>187180</td>\n",
       "      <td>132700</td>\n",
       "      <td>82879</td>\n",
       "      <td>13316</td>\n",
       "      <td>0</td>\n",
       "    </tr>\n",
       "    <tr>\n",
       "      <th>5/5/20</th>\n",
       "      <td>123486</td>\n",
       "      <td>51803</td>\n",
       "      <td>189791</td>\n",
       "      <td>135100</td>\n",
       "      <td>85231</td>\n",
       "      <td>13462</td>\n",
       "      <td>0</td>\n",
       "    </tr>\n",
       "    <tr>\n",
       "      <th>5/6/20</th>\n",
       "      <td>126002</td>\n",
       "      <td>53022</td>\n",
       "      <td>189910</td>\n",
       "      <td>139900</td>\n",
       "      <td>93245</td>\n",
       "      <td>13639</td>\n",
       "      <td>0</td>\n",
       "    </tr>\n",
       "    <tr>\n",
       "      <th>5/7/20</th>\n",
       "      <td>128511</td>\n",
       "      <td>54076</td>\n",
       "      <td>195036</td>\n",
       "      <td>141700</td>\n",
       "      <td>96276</td>\n",
       "      <td>13698</td>\n",
       "      <td>0</td>\n",
       "    </tr>\n",
       "    <tr>\n",
       "      <th>5/8/20</th>\n",
       "      <td>131148</td>\n",
       "      <td>54770</td>\n",
       "      <td>198993</td>\n",
       "      <td>141700</td>\n",
       "      <td>99023</td>\n",
       "      <td>13836</td>\n",
       "      <td>0</td>\n",
       "    </tr>\n",
       "  </tbody>\n",
       "</table>\n",
       "</div>"
      ],
      "text/plain": [
       "        España  Francia    EEUU  Alemania  Italia  Austria  UK\n",
       "5/4/20  121343    50438  187180    132700   82879    13316   0\n",
       "5/5/20  123486    51803  189791    135100   85231    13462   0\n",
       "5/6/20  126002    53022  189910    139900   93245    13639   0\n",
       "5/7/20  128511    54076  195036    141700   96276    13698   0\n",
       "5/8/20  131148    54770  198993    141700   99023    13836   0"
      ]
     },
     "execution_count": 21,
     "metadata": {},
     "output_type": "execute_result"
    }
   ],
   "source": [
    "total_curados.tail()"
   ]
  },
  {
   "cell_type": "code",
   "execution_count": 22,
   "metadata": {},
   "outputs": [],
   "source": [
    "%matplotlib inline"
   ]
  },
  {
   "cell_type": "markdown",
   "metadata": {},
   "source": [
    "# Total de Casos\n",
    "\n",
    "Evolución diaria del número de casos"
   ]
  },
  {
   "cell_type": "code",
   "execution_count": 23,
   "metadata": {},
   "outputs": [
    {
     "data": {
      "text/html": [
       "<div>\n",
       "<style scoped>\n",
       "    .dataframe tbody tr th:only-of-type {\n",
       "        vertical-align: middle;\n",
       "    }\n",
       "\n",
       "    .dataframe tbody tr th {\n",
       "        vertical-align: top;\n",
       "    }\n",
       "\n",
       "    .dataframe thead th {\n",
       "        text-align: right;\n",
       "    }\n",
       "</style>\n",
       "<table border=\"1\" class=\"dataframe\">\n",
       "  <thead>\n",
       "    <tr style=\"text-align: right;\">\n",
       "      <th></th>\n",
       "      <th>España</th>\n",
       "      <th>Francia</th>\n",
       "      <th>EEUU</th>\n",
       "      <th>Alemania</th>\n",
       "      <th>Italia</th>\n",
       "      <th>Austria</th>\n",
       "      <th>UK</th>\n",
       "    </tr>\n",
       "  </thead>\n",
       "  <tbody>\n",
       "    <tr>\n",
       "      <th>5/4/20</th>\n",
       "      <td>218011</td>\n",
       "      <td>167886</td>\n",
       "      <td>1180375</td>\n",
       "      <td>166152</td>\n",
       "      <td>211938</td>\n",
       "      <td>15621</td>\n",
       "      <td>190584</td>\n",
       "    </tr>\n",
       "    <tr>\n",
       "      <th>5/5/20</th>\n",
       "      <td>219329</td>\n",
       "      <td>168935</td>\n",
       "      <td>1204351</td>\n",
       "      <td>167007</td>\n",
       "      <td>213013</td>\n",
       "      <td>15650</td>\n",
       "      <td>194990</td>\n",
       "    </tr>\n",
       "    <tr>\n",
       "      <th>5/6/20</th>\n",
       "      <td>220325</td>\n",
       "      <td>172465</td>\n",
       "      <td>1228603</td>\n",
       "      <td>168162</td>\n",
       "      <td>214457</td>\n",
       "      <td>15684</td>\n",
       "      <td>201101</td>\n",
       "    </tr>\n",
       "    <tr>\n",
       "      <th>5/7/20</th>\n",
       "      <td>221447</td>\n",
       "      <td>173040</td>\n",
       "      <td>1257023</td>\n",
       "      <td>169430</td>\n",
       "      <td>215858</td>\n",
       "      <td>15752</td>\n",
       "      <td>206715</td>\n",
       "    </tr>\n",
       "    <tr>\n",
       "      <th>5/8/20</th>\n",
       "      <td>222857</td>\n",
       "      <td>174318</td>\n",
       "      <td>1283929</td>\n",
       "      <td>170588</td>\n",
       "      <td>217185</td>\n",
       "      <td>15774</td>\n",
       "      <td>211364</td>\n",
       "    </tr>\n",
       "  </tbody>\n",
       "</table>\n",
       "</div>"
      ],
      "text/plain": [
       "        España  Francia     EEUU  Alemania  Italia  Austria      UK\n",
       "5/4/20  218011   167886  1180375    166152  211938    15621  190584\n",
       "5/5/20  219329   168935  1204351    167007  213013    15650  194990\n",
       "5/6/20  220325   172465  1228603    168162  214457    15684  201101\n",
       "5/7/20  221447   173040  1257023    169430  215858    15752  206715\n",
       "5/8/20  222857   174318  1283929    170588  217185    15774  211364"
      ]
     },
     "execution_count": 23,
     "metadata": {},
     "output_type": "execute_result"
    }
   ],
   "source": [
    "total_casos.tail()"
   ]
  },
  {
   "cell_type": "code",
   "execution_count": 24,
   "metadata": {},
   "outputs": [
    {
     "data": {
      "text/plain": [
       "<matplotlib.axes._subplots.AxesSubplot at 0x18dc45b9448>"
      ]
     },
     "execution_count": 24,
     "metadata": {},
     "output_type": "execute_result"
    },
    {
     "data": {
      "image/png": "[encoded data removed]",
      "text/plain": [
       "<Figure size 432x288 with 1 Axes>"
      ]
     },
     "metadata": {
      "needs_background": "light"
     },
     "output_type": "display_data"
    }
   ],
   "source": [
    "total_casos[-20:].plot(title=\"Total de casos\")"
   ]
  },
  {
   "cell_type": "markdown",
   "metadata": {},
   "source": [
    "Vemos el total en escala logaritmica. Nos da una idea de cuan exponencial es el crecimiento:"
   ]
  },
  {
   "cell_type": "code",
   "execution_count": 25,
   "metadata": {},
   "outputs": [
    {
     "data": {
      "text/plain": [
       "<matplotlib.axes._subplots.AxesSubplot at 0x18dc44dcb48>"
      ]
     },
     "execution_count": 25,
     "metadata": {},
     "output_type": "execute_result"
    },
    {
     "data": {
      "image/png": "[encoded data removed]",
      "text/plain": [
       "<Figure size 432x288 with 1 Axes>"
      ]
     },
     "metadata": {
      "needs_background": "light"
     },
     "output_type": "display_data"
    }
   ],
   "source": [
    "total_casos[-20:].plot(title=\"Total de casos (logaritmica)\", logy=True)"
   ]
  },
  {
   "cell_type": "code",
   "execution_count": 26,
   "metadata": {},
   "outputs": [],
   "source": [
    "#total_casos.apply(np.log)"
   ]
  },
  {
   "cell_type": "code",
   "execution_count": 27,
   "metadata": {},
   "outputs": [],
   "source": [
    "#total_casos.apply(lambda x : [ m.log(i,2) if i>0 else 0 for i in x])"
   ]
  },
  {
   "cell_type": "markdown",
   "metadata": {},
   "source": [
    "Con la escala logaritmica podemos ver las tasas de crecimiento. Las diferencias parecen insignificantes, pero cada decimal pesa mucho, porque es la base del exponente de crecimiento. Por ejemplo, veamos los datos en los últimos cinco días:"
   ]
  },
  {
   "cell_type": "code",
   "execution_count": 28,
   "metadata": {},
   "outputs": [
    {
     "data": {
      "text/html": [
       "<div>\n",
       "<style scoped>\n",
       "    .dataframe tbody tr th:only-of-type {\n",
       "        vertical-align: middle;\n",
       "    }\n",
       "\n",
       "    .dataframe tbody tr th {\n",
       "        vertical-align: top;\n",
       "    }\n",
       "\n",
       "    .dataframe thead th {\n",
       "        text-align: right;\n",
       "    }\n",
       "</style>\n",
       "<table border=\"1\" class=\"dataframe\">\n",
       "  <thead>\n",
       "    <tr style=\"text-align: right;\">\n",
       "      <th></th>\n",
       "      <th>España</th>\n",
       "      <th>Francia</th>\n",
       "      <th>EEUU</th>\n",
       "      <th>Alemania</th>\n",
       "      <th>Italia</th>\n",
       "      <th>Austria</th>\n",
       "      <th>UK</th>\n",
       "    </tr>\n",
       "  </thead>\n",
       "  <tbody>\n",
       "    <tr>\n",
       "      <th>5/4/20</th>\n",
       "      <td>0.25</td>\n",
       "      <td>0.37</td>\n",
       "      <td>1.93</td>\n",
       "      <td>0.29</td>\n",
       "      <td>0.58</td>\n",
       "      <td>0.15</td>\n",
       "      <td>2.14</td>\n",
       "    </tr>\n",
       "    <tr>\n",
       "      <th>5/5/20</th>\n",
       "      <td>0.60</td>\n",
       "      <td>0.62</td>\n",
       "      <td>2.03</td>\n",
       "      <td>0.51</td>\n",
       "      <td>0.51</td>\n",
       "      <td>0.19</td>\n",
       "      <td>2.31</td>\n",
       "    </tr>\n",
       "    <tr>\n",
       "      <th>5/6/20</th>\n",
       "      <td>0.45</td>\n",
       "      <td>2.09</td>\n",
       "      <td>2.01</td>\n",
       "      <td>0.69</td>\n",
       "      <td>0.68</td>\n",
       "      <td>0.22</td>\n",
       "      <td>3.13</td>\n",
       "    </tr>\n",
       "    <tr>\n",
       "      <th>5/7/20</th>\n",
       "      <td>0.51</td>\n",
       "      <td>0.33</td>\n",
       "      <td>2.31</td>\n",
       "      <td>0.75</td>\n",
       "      <td>0.65</td>\n",
       "      <td>0.43</td>\n",
       "      <td>2.79</td>\n",
       "    </tr>\n",
       "    <tr>\n",
       "      <th>5/8/20</th>\n",
       "      <td>0.64</td>\n",
       "      <td>0.74</td>\n",
       "      <td>2.14</td>\n",
       "      <td>0.68</td>\n",
       "      <td>0.61</td>\n",
       "      <td>0.14</td>\n",
       "      <td>2.25</td>\n",
       "    </tr>\n",
       "  </tbody>\n",
       "</table>\n",
       "</div>"
      ],
      "text/plain": [
       "        España  Francia  EEUU  Alemania  Italia  Austria    UK\n",
       "5/4/20    0.25     0.37  1.93      0.29    0.58     0.15  2.14\n",
       "5/5/20    0.60     0.62  2.03      0.51    0.51     0.19  2.31\n",
       "5/6/20    0.45     2.09  2.01      0.69    0.68     0.22  3.13\n",
       "5/7/20    0.51     0.33  2.31      0.75    0.65     0.43  2.79\n",
       "5/8/20    0.64     0.74  2.14      0.68    0.61     0.14  2.25"
      ]
     },
     "execution_count": 28,
     "metadata": {},
     "output_type": "execute_result"
    }
   ],
   "source": [
    "total_casos.apply(tasaCrecimiento).tail()"
   ]
  },
  {
   "cell_type": "code",
   "execution_count": 29,
   "metadata": {},
   "outputs": [
    {
     "data": {
      "text/plain": [
       "<matplotlib.axes._subplots.AxesSubplot at 0x18dc48205c8>"
      ]
     },
     "execution_count": 29,
     "metadata": {},
     "output_type": "execute_result"
    },
    {
     "data": {
      "image/png": "[encoded data removed]",
      "text/plain": [
       "<Figure size 432x288 with 1 Axes>"
      ]
     },
     "metadata": {
      "needs_background": "light"
     },
     "output_type": "display_data"
    }
   ],
   "source": [
    "total_casos.apply(tasaCrecimiento)[-20:].plot(title=\"Tasa de crecimiento de casos\")"
   ]
  },
  {
   "cell_type": "markdown",
   "metadata": {},
   "source": [
    "Esto se traduce en el número de días que se necesitan para duplicar el número de casos. Vemos como las pequeñas diferencias que veiamos antes en las tasas, cuando las expresamos en días:"
   ]
  },
  {
   "cell_type": "code",
   "execution_count": 30,
   "metadata": {},
   "outputs": [
    {
     "data": {
      "text/html": [
       "<div>\n",
       "<style scoped>\n",
       "    .dataframe tbody tr th:only-of-type {\n",
       "        vertical-align: middle;\n",
       "    }\n",
       "\n",
       "    .dataframe tbody tr th {\n",
       "        vertical-align: top;\n",
       "    }\n",
       "\n",
       "    .dataframe thead th {\n",
       "        text-align: right;\n",
       "    }\n",
       "</style>\n",
       "<table border=\"1\" class=\"dataframe\">\n",
       "  <thead>\n",
       "    <tr style=\"text-align: right;\">\n",
       "      <th></th>\n",
       "      <th>España</th>\n",
       "      <th>Francia</th>\n",
       "      <th>EEUU</th>\n",
       "      <th>Alemania</th>\n",
       "      <th>Italia</th>\n",
       "      <th>Austria</th>\n",
       "      <th>UK</th>\n",
       "    </tr>\n",
       "  </thead>\n",
       "  <tbody>\n",
       "    <tr>\n",
       "      <th>5/4/20</th>\n",
       "      <td>276.93</td>\n",
       "      <td>189.18</td>\n",
       "      <td>36.28</td>\n",
       "      <td>235.65</td>\n",
       "      <td>119.97</td>\n",
       "      <td>450.81</td>\n",
       "      <td>32.80</td>\n",
       "    </tr>\n",
       "    <tr>\n",
       "      <th>5/5/20</th>\n",
       "      <td>115.00</td>\n",
       "      <td>111.28</td>\n",
       "      <td>34.47</td>\n",
       "      <td>135.05</td>\n",
       "      <td>137.00</td>\n",
       "      <td>373.71</td>\n",
       "      <td>30.33</td>\n",
       "    </tr>\n",
       "    <tr>\n",
       "      <th>5/6/20</th>\n",
       "      <td>152.98</td>\n",
       "      <td>33.52</td>\n",
       "      <td>34.77</td>\n",
       "      <td>100.57</td>\n",
       "      <td>102.60</td>\n",
       "      <td>319.40</td>\n",
       "      <td>22.46</td>\n",
       "    </tr>\n",
       "    <tr>\n",
       "      <th>5/7/20</th>\n",
       "      <td>136.46</td>\n",
       "      <td>208.25</td>\n",
       "      <td>30.31</td>\n",
       "      <td>92.27</td>\n",
       "      <td>106.45</td>\n",
       "      <td>160.22</td>\n",
       "      <td>25.17</td>\n",
       "    </tr>\n",
       "    <tr>\n",
       "      <th>5/8/20</th>\n",
       "      <td>109.21</td>\n",
       "      <td>94.20</td>\n",
       "      <td>32.73</td>\n",
       "      <td>101.76</td>\n",
       "      <td>113.10</td>\n",
       "      <td>496.64</td>\n",
       "      <td>31.17</td>\n",
       "    </tr>\n",
       "  </tbody>\n",
       "</table>\n",
       "</div>"
      ],
      "text/plain": [
       "        España  Francia   EEUU  Alemania  Italia  Austria     UK\n",
       "5/4/20  276.93   189.18  36.28    235.65  119.97   450.81  32.80\n",
       "5/5/20  115.00   111.28  34.47    135.05  137.00   373.71  30.33\n",
       "5/6/20  152.98    33.52  34.77    100.57  102.60   319.40  22.46\n",
       "5/7/20  136.46   208.25  30.31     92.27  106.45   160.22  25.17\n",
       "5/8/20  109.21    94.20  32.73    101.76  113.10   496.64  31.17"
      ]
     },
     "execution_count": 30,
     "metadata": {},
     "output_type": "execute_result"
    }
   ],
   "source": [
    "total_casos.apply(diasDuplicar).tail()"
   ]
  },
  {
   "cell_type": "code",
   "execution_count": 31,
   "metadata": {},
   "outputs": [
    {
     "data": {
      "text/plain": [
       "<matplotlib.axes._subplots.AxesSubplot at 0x18dc48de348>"
      ]
     },
     "execution_count": 31,
     "metadata": {},
     "output_type": "execute_result"
    },
    {
     "data": {
      "image/png": "[encoded data removed]",
      "text/plain": [
       "<Figure size 432x288 with 1 Axes>"
      ]
     },
     "metadata": {
      "needs_background": "light"
     },
     "output_type": "display_data"
    }
   ],
   "source": [
    "total_casos.apply(diasDuplicar)[-5:].plot(title=\"Dias necesarios para duplicar los casos\")"
   ]
  },
  {
   "cell_type": "code",
   "execution_count": 32,
   "metadata": {},
   "outputs": [
    {
     "data": {
      "text/plain": [
       "<matplotlib.axes._subplots.AxesSubplot at 0x18dc4958a88>"
      ]
     },
     "execution_count": 32,
     "metadata": {},
     "output_type": "execute_result"
    },
    {
     "data": {
      "image/png": "[encoded data removed]",
      "text/plain": [
       "<Figure size 432x288 with 1 Axes>"
      ]
     },
     "metadata": {
      "needs_background": "light"
     },
     "output_type": "display_data"
    }
   ],
   "source": [
    "total_casos.apply(diasDuplicar)[-5:].plot(title=\"Dias necesarios para duplicar los casos\")"
   ]
  },
  {
   "cell_type": "markdown",
   "metadata": {},
   "source": [
    "# Fallecidos"
   ]
  },
  {
   "cell_type": "code",
   "execution_count": 33,
   "metadata": {},
   "outputs": [
    {
     "data": {
      "text/html": [
       "<div>\n",
       "<style scoped>\n",
       "    .dataframe tbody tr th:only-of-type {\n",
       "        vertical-align: middle;\n",
       "    }\n",
       "\n",
       "    .dataframe tbody tr th {\n",
       "        vertical-align: top;\n",
       "    }\n",
       "\n",
       "    .dataframe thead th {\n",
       "        text-align: right;\n",
       "    }\n",
       "</style>\n",
       "<table border=\"1\" class=\"dataframe\">\n",
       "  <thead>\n",
       "    <tr style=\"text-align: right;\">\n",
       "      <th></th>\n",
       "      <th>España</th>\n",
       "      <th>Francia</th>\n",
       "      <th>EEUU</th>\n",
       "      <th>Alemania</th>\n",
       "      <th>Italia</th>\n",
       "      <th>Austria</th>\n",
       "      <th>UK</th>\n",
       "    </tr>\n",
       "  </thead>\n",
       "  <tbody>\n",
       "    <tr>\n",
       "      <th>5/5/20</th>\n",
       "      <td>25613</td>\n",
       "      <td>25498</td>\n",
       "      <td>71064</td>\n",
       "      <td>6993</td>\n",
       "      <td>29315</td>\n",
       "      <td>606</td>\n",
       "      <td>29427</td>\n",
       "    </tr>\n",
       "    <tr>\n",
       "      <th>5/6/20</th>\n",
       "      <td>244</td>\n",
       "      <td>274</td>\n",
       "      <td>2367</td>\n",
       "      <td>282</td>\n",
       "      <td>369</td>\n",
       "      <td>2</td>\n",
       "      <td>649</td>\n",
       "    </tr>\n",
       "    <tr>\n",
       "      <th>5/7/20</th>\n",
       "      <td>213</td>\n",
       "      <td>177</td>\n",
       "      <td>2231</td>\n",
       "      <td>117</td>\n",
       "      <td>274</td>\n",
       "      <td>1</td>\n",
       "      <td>539</td>\n",
       "    </tr>\n",
       "    <tr>\n",
       "      <th>5/8/20</th>\n",
       "      <td>229</td>\n",
       "      <td>243</td>\n",
       "      <td>1518</td>\n",
       "      <td>118</td>\n",
       "      <td>243</td>\n",
       "      <td>5</td>\n",
       "      <td>626</td>\n",
       "    </tr>\n",
       "  </tbody>\n",
       "</table>\n",
       "</div>"
      ],
      "text/plain": [
       "        España  Francia   EEUU  Alemania  Italia  Austria     UK\n",
       "5/5/20   25613    25498  71064      6993   29315      606  29427\n",
       "5/6/20     244      274   2367       282     369        2    649\n",
       "5/7/20     213      177   2231       117     274        1    539\n",
       "5/8/20     229      243   1518       118     243        5    626"
      ]
     },
     "execution_count": 33,
     "metadata": {},
     "output_type": "execute_result"
    }
   ],
   "source": [
    "total_muertes[-4:].apply(delta).tail()"
   ]
  },
  {
   "cell_type": "code",
   "execution_count": 34,
   "metadata": {},
   "outputs": [
    {
     "data": {
      "text/plain": [
       "<matplotlib.axes._subplots.AxesSubplot at 0x18dc4a17748>"
      ]
     },
     "execution_count": 34,
     "metadata": {},
     "output_type": "execute_result"
    },
    {
     "data": {
      "image/png": "[encoded data removed]",
      "text/plain": [
       "<Figure size 432x288 with 1 Axes>"
      ]
     },
     "metadata": {
      "needs_background": "light"
     },
     "output_type": "display_data"
    }
   ],
   "source": [
    "total_muertes[-20:].plot(title=\"Total de fallecidos (logaritmica)\", logy=True)"
   ]
  },
  {
   "cell_type": "code",
   "execution_count": 35,
   "metadata": {},
   "outputs": [
    {
     "name": "stdout",
     "output_type": "stream",
     "text": [
      "Valor máximo de fallecidos es 961\n"
     ]
    }
   ],
   "source": [
    "print(\"Valor máximo de fallecidos es {}\".format(max(total_muertes.apply(delta)['España'])))"
   ]
  },
  {
   "cell_type": "code",
   "execution_count": 36,
   "metadata": {},
   "outputs": [
    {
     "name": "stdout",
     "output_type": "stream",
     "text": [
      "Valor mínimo de fallecidos en los últimos quince dias 0\n"
     ]
    }
   ],
   "source": [
    "print(\"Valor mínimo de fallecidos en los últimos quince dias {}\".format(min(total_muertes.apply(delta)['España'][-15:])))"
   ]
  },
  {
   "cell_type": "code",
   "execution_count": 37,
   "metadata": {},
   "outputs": [
    {
     "data": {
      "text/plain": [
       "<matplotlib.axes._subplots.AxesSubplot at 0x18dc4b380c8>"
      ]
     },
     "execution_count": 37,
     "metadata": {},
     "output_type": "execute_result"
    },
    {
     "data": {
      "image/png": "[encoded data removed]",
      "text/plain": [
       "<Figure size 432x288 with 1 Axes>"
      ]
     },
     "metadata": {
      "needs_background": "light"
     },
     "output_type": "display_data"
    }
   ],
   "source": [
    "total_muertes.apply(delta)['España'][-20:].plot(title=\"Fallecidos por dia en España\")"
   ]
  },
  {
   "cell_type": "code",
   "execution_count": 38,
   "metadata": {},
   "outputs": [
    {
     "data": {
      "text/plain": [
       "<matplotlib.axes._subplots.AxesSubplot at 0x18dc4a945c8>"
      ]
     },
     "execution_count": 38,
     "metadata": {},
     "output_type": "execute_result"
    },
    {
     "data": {
      "image/png": "[encoded data removed]",
      "text/plain": [
       "<Figure size 432x288 with 1 Axes>"
      ]
     },
     "metadata": {
      "needs_background": "light"
     },
     "output_type": "display_data"
    }
   ],
   "source": [
    "total_muertes.apply(delta)['UK'][-20:].plot(title=\"Fallecidos por dia en UK\")"
   ]
  },
  {
   "cell_type": "markdown",
   "metadata": {},
   "source": [
    "# Balance de Ingresos y Salidas"
   ]
  },
  {
   "cell_type": "code",
   "execution_count": 39,
   "metadata": {},
   "outputs": [
    {
     "data": {
      "text/html": [
       "<div>\n",
       "<style scoped>\n",
       "    .dataframe tbody tr th:only-of-type {\n",
       "        vertical-align: middle;\n",
       "    }\n",
       "\n",
       "    .dataframe tbody tr th {\n",
       "        vertical-align: top;\n",
       "    }\n",
       "\n",
       "    .dataframe thead th {\n",
       "        text-align: right;\n",
       "    }\n",
       "</style>\n",
       "<table border=\"1\" class=\"dataframe\">\n",
       "  <thead>\n",
       "    <tr style=\"text-align: right;\">\n",
       "      <th></th>\n",
       "      <th>España</th>\n",
       "      <th>Francia</th>\n",
       "      <th>EEUU</th>\n",
       "      <th>Alemania</th>\n",
       "      <th>Italia</th>\n",
       "      <th>Austria</th>\n",
       "      <th>UK</th>\n",
       "    </tr>\n",
       "  </thead>\n",
       "  <tbody>\n",
       "    <tr>\n",
       "      <th>5/4/20</th>\n",
       "      <td>545</td>\n",
       "      <td>614</td>\n",
       "      <td>22335</td>\n",
       "      <td>488</td>\n",
       "      <td>1221</td>\n",
       "      <td>24</td>\n",
       "      <td>3985</td>\n",
       "    </tr>\n",
       "    <tr>\n",
       "      <th>5/5/20</th>\n",
       "      <td>1318</td>\n",
       "      <td>1049</td>\n",
       "      <td>23976</td>\n",
       "      <td>855</td>\n",
       "      <td>1075</td>\n",
       "      <td>29</td>\n",
       "      <td>4406</td>\n",
       "    </tr>\n",
       "    <tr>\n",
       "      <th>5/6/20</th>\n",
       "      <td>996</td>\n",
       "      <td>3530</td>\n",
       "      <td>24252</td>\n",
       "      <td>1155</td>\n",
       "      <td>1444</td>\n",
       "      <td>34</td>\n",
       "      <td>6111</td>\n",
       "    </tr>\n",
       "    <tr>\n",
       "      <th>5/7/20</th>\n",
       "      <td>1122</td>\n",
       "      <td>575</td>\n",
       "      <td>28420</td>\n",
       "      <td>1268</td>\n",
       "      <td>1401</td>\n",
       "      <td>68</td>\n",
       "      <td>5614</td>\n",
       "    </tr>\n",
       "    <tr>\n",
       "      <th>5/8/20</th>\n",
       "      <td>1410</td>\n",
       "      <td>1278</td>\n",
       "      <td>26906</td>\n",
       "      <td>1158</td>\n",
       "      <td>1327</td>\n",
       "      <td>22</td>\n",
       "      <td>4649</td>\n",
       "    </tr>\n",
       "  </tbody>\n",
       "</table>\n",
       "</div>"
      ],
      "text/plain": [
       "        España  Francia   EEUU  Alemania  Italia  Austria    UK\n",
       "5/4/20     545      614  22335       488    1221       24  3985\n",
       "5/5/20    1318     1049  23976       855    1075       29  4406\n",
       "5/6/20     996     3530  24252      1155    1444       34  6111\n",
       "5/7/20    1122      575  28420      1268    1401       68  5614\n",
       "5/8/20    1410     1278  26906      1158    1327       22  4649"
      ]
     },
     "execution_count": 39,
     "metadata": {},
     "output_type": "execute_result"
    }
   ],
   "source": [
    "total_casos.apply(delta).tail()"
   ]
  },
  {
   "cell_type": "code",
   "execution_count": 40,
   "metadata": {},
   "outputs": [
    {
     "data": {
      "text/html": [
       "<div>\n",
       "<style scoped>\n",
       "    .dataframe tbody tr th:only-of-type {\n",
       "        vertical-align: middle;\n",
       "    }\n",
       "\n",
       "    .dataframe tbody tr th {\n",
       "        vertical-align: top;\n",
       "    }\n",
       "\n",
       "    .dataframe thead th {\n",
       "        text-align: right;\n",
       "    }\n",
       "</style>\n",
       "<table border=\"1\" class=\"dataframe\">\n",
       "  <thead>\n",
       "    <tr style=\"text-align: right;\">\n",
       "      <th></th>\n",
       "      <th>España</th>\n",
       "      <th>Francia</th>\n",
       "      <th>EEUU</th>\n",
       "      <th>Alemania</th>\n",
       "      <th>Italia</th>\n",
       "      <th>Austria</th>\n",
       "      <th>UK</th>\n",
       "    </tr>\n",
       "  </thead>\n",
       "  <tbody>\n",
       "    <tr>\n",
       "      <th>5/4/20</th>\n",
       "      <td>2441</td>\n",
       "      <td>465</td>\n",
       "      <td>7028</td>\n",
       "      <td>2100</td>\n",
       "      <td>1225</td>\n",
       "      <td>88</td>\n",
       "      <td>0</td>\n",
       "    </tr>\n",
       "    <tr>\n",
       "      <th>5/5/20</th>\n",
       "      <td>2143</td>\n",
       "      <td>1365</td>\n",
       "      <td>2611</td>\n",
       "      <td>2400</td>\n",
       "      <td>2352</td>\n",
       "      <td>146</td>\n",
       "      <td>0</td>\n",
       "    </tr>\n",
       "    <tr>\n",
       "      <th>5/6/20</th>\n",
       "      <td>2516</td>\n",
       "      <td>1219</td>\n",
       "      <td>119</td>\n",
       "      <td>4800</td>\n",
       "      <td>8014</td>\n",
       "      <td>177</td>\n",
       "      <td>0</td>\n",
       "    </tr>\n",
       "    <tr>\n",
       "      <th>5/7/20</th>\n",
       "      <td>2509</td>\n",
       "      <td>1054</td>\n",
       "      <td>5126</td>\n",
       "      <td>1800</td>\n",
       "      <td>3031</td>\n",
       "      <td>59</td>\n",
       "      <td>0</td>\n",
       "    </tr>\n",
       "    <tr>\n",
       "      <th>5/8/20</th>\n",
       "      <td>2637</td>\n",
       "      <td>694</td>\n",
       "      <td>3957</td>\n",
       "      <td>0</td>\n",
       "      <td>2747</td>\n",
       "      <td>138</td>\n",
       "      <td>0</td>\n",
       "    </tr>\n",
       "  </tbody>\n",
       "</table>\n",
       "</div>"
      ],
      "text/plain": [
       "        España  Francia  EEUU  Alemania  Italia  Austria  UK\n",
       "5/4/20    2441      465  7028      2100    1225       88   0\n",
       "5/5/20    2143     1365  2611      2400    2352      146   0\n",
       "5/6/20    2516     1219   119      4800    8014      177   0\n",
       "5/7/20    2509     1054  5126      1800    3031       59   0\n",
       "5/8/20    2637      694  3957         0    2747      138   0"
      ]
     },
     "execution_count": 40,
     "metadata": {},
     "output_type": "execute_result"
    }
   ],
   "source": [
    "total_curados.apply(delta).tail()"
   ]
  },
  {
   "cell_type": "code",
   "execution_count": 41,
   "metadata": {},
   "outputs": [
    {
     "data": {
      "text/html": [
       "<div>\n",
       "<style scoped>\n",
       "    .dataframe tbody tr th:only-of-type {\n",
       "        vertical-align: middle;\n",
       "    }\n",
       "\n",
       "    .dataframe tbody tr th {\n",
       "        vertical-align: top;\n",
       "    }\n",
       "\n",
       "    .dataframe thead th {\n",
       "        text-align: right;\n",
       "    }\n",
       "</style>\n",
       "<table border=\"1\" class=\"dataframe\">\n",
       "  <thead>\n",
       "    <tr style=\"text-align: right;\">\n",
       "      <th></th>\n",
       "      <th>España</th>\n",
       "      <th>Francia</th>\n",
       "      <th>EEUU</th>\n",
       "      <th>Alemania</th>\n",
       "      <th>Italia</th>\n",
       "      <th>Austria</th>\n",
       "      <th>UK</th>\n",
       "    </tr>\n",
       "  </thead>\n",
       "  <tbody>\n",
       "    <tr>\n",
       "      <th>5/4/20</th>\n",
       "      <td>71240</td>\n",
       "      <td>92280</td>\n",
       "      <td>924273</td>\n",
       "      <td>26459</td>\n",
       "      <td>99980</td>\n",
       "      <td>1705</td>\n",
       "      <td>161850</td>\n",
       "    </tr>\n",
       "    <tr>\n",
       "      <th>5/5/20</th>\n",
       "      <td>70230</td>\n",
       "      <td>91634</td>\n",
       "      <td>943496</td>\n",
       "      <td>24914</td>\n",
       "      <td>98467</td>\n",
       "      <td>1582</td>\n",
       "      <td>165563</td>\n",
       "    </tr>\n",
       "    <tr>\n",
       "      <th>5/6/20</th>\n",
       "      <td>68466</td>\n",
       "      <td>93671</td>\n",
       "      <td>965262</td>\n",
       "      <td>20987</td>\n",
       "      <td>91528</td>\n",
       "      <td>1437</td>\n",
       "      <td>171025</td>\n",
       "    </tr>\n",
       "    <tr>\n",
       "      <th>5/7/20</th>\n",
       "      <td>66866</td>\n",
       "      <td>93015</td>\n",
       "      <td>986325</td>\n",
       "      <td>20338</td>\n",
       "      <td>89624</td>\n",
       "      <td>1445</td>\n",
       "      <td>176100</td>\n",
       "    </tr>\n",
       "    <tr>\n",
       "      <th>5/8/20</th>\n",
       "      <td>65410</td>\n",
       "      <td>93356</td>\n",
       "      <td>1007756</td>\n",
       "      <td>21378</td>\n",
       "      <td>87961</td>\n",
       "      <td>1324</td>\n",
       "      <td>180123</td>\n",
       "    </tr>\n",
       "  </tbody>\n",
       "</table>\n",
       "</div>"
      ],
      "text/plain": [
       "        España  Francia     EEUU  Alemania  Italia  Austria      UK\n",
       "5/4/20   71240    92280   924273     26459   99980     1705  161850\n",
       "5/5/20   70230    91634   943496     24914   98467     1582  165563\n",
       "5/6/20   68466    93671   965262     20987   91528     1437  171025\n",
       "5/7/20   66866    93015   986325     20338   89624     1445  176100\n",
       "5/8/20   65410    93356  1007756     21378   87961     1324  180123"
      ]
     },
     "execution_count": 41,
     "metadata": {},
     "output_type": "execute_result"
    }
   ],
   "source": [
    "(total_casos-total_muertes-total_curados)[-10:].tail()"
   ]
  },
  {
   "cell_type": "code",
   "execution_count": 42,
   "metadata": {},
   "outputs": [
    {
     "data": {
      "text/plain": [
       "<matplotlib.axes._subplots.AxesSubplot at 0x18dc4b38fc8>"
      ]
     },
     "execution_count": 42,
     "metadata": {},
     "output_type": "execute_result"
    },
    {
     "data": {
      "image/png": "[encoded data removed]",
      "text/plain": [
       "<Figure size 432x288 with 1 Axes>"
      ]
     },
     "metadata": {
      "needs_background": "light"
     },
     "output_type": "display_data"
    }
   ],
   "source": [
    "(total_casos-total_muertes-total_curados)[-20:].plot(title=\"Balance de casos\")"
   ]
  },
  {
   "cell_type": "code",
   "execution_count": 43,
   "metadata": {},
   "outputs": [
    {
     "data": {
      "text/plain": [
       "<matplotlib.axes._subplots.AxesSubplot at 0x18dc4cd72c8>"
      ]
     },
     "execution_count": 43,
     "metadata": {},
     "output_type": "execute_result"
    },
    {
     "data": {
      "image/png": "[encoded data removed]",
      "text/plain": [
       "<Figure size 432x288 with 1 Axes>"
      ]
     },
     "metadata": {
      "needs_background": "light"
     },
     "output_type": "display_data"
    }
   ],
   "source": [
    "(total_casos-total_muertes-total_curados)['España'][-10:].plot(title=\"Balance de casos en España\")"
   ]
  },
  {
   "cell_type": "code",
   "execution_count": 44,
   "metadata": {},
   "outputs": [
    {
     "data": {
      "text/plain": [
       "<matplotlib.axes._subplots.AxesSubplot at 0x18dc4d43848>"
      ]
     },
     "execution_count": 44,
     "metadata": {},
     "output_type": "execute_result"
    },
    {
     "data": {
      "image/png": "[encoded data removed]",
      "text/plain": [
       "<Figure size 432x288 with 1 Axes>"
      ]
     },
     "metadata": {
      "needs_background": "light"
     },
     "output_type": "display_data"
    }
   ],
   "source": [
    "(total_casos-total_muertes-total_curados)['Austria'][-10:].plot(title=\"Balance de casos en Austria\")"
   ]
  },
  {
   "cell_type": "code",
   "execution_count": 45,
   "metadata": {},
   "outputs": [
    {
     "data": {
      "text/plain": [
       "<matplotlib.axes._subplots.AxesSubplot at 0x18dc4dad2c8>"
      ]
     },
     "execution_count": 45,
     "metadata": {},
     "output_type": "execute_result"
    },
    {
     "data": {
      "image/png": "[encoded data removed]",
      "text/plain": [
       "<Figure size 432x288 with 1 Axes>"
      ]
     },
     "metadata": {
      "needs_background": "light"
     },
     "output_type": "display_data"
    }
   ],
   "source": [
    "(total_casos-total_muertes-total_curados)['UK'][-10:].plot(title=\"Balance de casos en UK\")"
   ]
  },
  {
   "cell_type": "code",
   "execution_count": null,
   "metadata": {},
   "outputs": [],
   "source": []
  }
 ],
 "metadata": {
  "kernelspec": {
   "display_name": "Python 3",
   "language": "python",
   "name": "python3"
  },
  "language_info": {
   "codemirror_mode": {
    "name": "ipython",
    "version": 3
   },
   "file_extension": ".py",
   "mimetype": "text/x-python",
   "name": "python",
   "nbconvert_exporter": "python",
   "pygments_lexer": "ipython3",
   "version": "3.7.7"
  }
 },
 "nbformat": 4,
 "nbformat_minor": 4
}
