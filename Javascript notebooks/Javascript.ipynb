{
 "cells": [
  {
   "cell_type": "markdown",
   "metadata": {},
   "source": [
    "# Function\n",
    "\n",
    "## Métodos incluidos en el prototype de Function\n",
    "\n",
    "### Bind\n",
    "\n",
    "El método bind() __asigna a una nueva función__, el valor de __this__, con una secuencia de argumentos dados precediendo a cualquiera entregados cuando la función es llamada. Las actuaciones que haga sobre this, serán sobre el this especificado con bind."
   ]
  },
  {
   "cell_type": "code",
   "execution_count": 1,
   "metadata": {},
   "outputs": [
    {
     "name": "stdout",
     "output_type": "stream",
     "text": [
      "81\n",
      "9\n",
      "81\n"
     ]
    }
   ],
   "source": [
    "this.x = 9;\n",
    "var module = {\n",
    "  x: 81,\n",
    "  getX: function() { return this.x; }\n",
    "};\n",
    "\n",
    "console.log(module.getX()); // 81\n",
    "\n",
    "var getX = module.getX;\n",
    "console.log(getX()); // 9, porque en este caso, \"this\" apunta al objeto global\n",
    "\n",
    "// Crear una nueva función con 'this' asociado al objeto original 'module'\n",
    "var boundGetX = getX.bind(module);\n",
    "console.log(boundGetX()); // 81"
   ]
  },
  {
   "cell_type": "markdown",
   "metadata": {},
   "source": [
    "### Call\n",
    "\n",
    "El método call() __llama a una función__ con un valor __this asignado y argumentos__ provistos de forma individual.\n",
    "\n",
    "\n",
    "En el primer ejemplo encadenamos constructores. Food y Toy invocan a la funcion Product, aka constructor de Product, usando la misma instancia, esto es, todas las propiedades que setea Product se setean en el objecto Food y Toy respectivamente.\n",
    "\n"
   ]
  },
  {
   "cell_type": "code",
   "execution_count": 2,
   "metadata": {},
   "outputs": [
    {
     "name": "stdout",
     "output_type": "stream",
     "text": [
      "Product {}\n",
      "Product { name: undefined, price: undefined }\n",
      "Product { name: undefined, price: undefined }\n",
      "Juguete {}\n"
     ]
    }
   ],
   "source": [
    "//define una funcion \n",
    "function Product(name, price) {\n",
    "  this.name = name;\n",
    "  this.price = price;\n",
    "\n",
    "  if (price < 0)\n",
    "    throw RangeError('Cannot create product \"' + name + '\" with a negative price');\n",
    "  return this;\n",
    "}\n",
    "\n",
    "function Food(name, price) {\n",
    "  Product.call(this, name, price);\n",
    "  this.category = 'food';\n",
    "}\n",
    "//Hacemos que el prototipo de Food sea Product. \n",
    "Food.prototype = new Product();\n",
    "\n",
    "function Toy(name, price) {\n",
    "  Product.call(this, name, price);\n",
    "  this.category = 'toy';\n",
    "}\n",
    "Toy.prototype = new Product();\n",
    "\n",
    "function Juguete(name, price) {\n",
    "  Product.call(this, name, price);\n",
    "  this.category = 'juguete';\n",
    "}\n",
    "\n",
    "var cheese = new Food('feta', 5);\n",
    "var fun = new Toy('robot', 40);\n",
    "var diversion = new Juguete('robot', 40);\n",
    "\n",
    "\n",
    "console.log(Product.prototype);\n",
    "console.log(Food.prototype);\n",
    "console.log(Toy.prototype);\n",
    "console.log(Juguete.prototype);"
   ]
  },
  {
   "cell_type": "code",
   "execution_count": 3,
   "metadata": {},
   "outputs": [
    {
     "name": "stdout",
     "output_type": "stream",
     "text": [
      "Product { name: 'feta', price: 5, category: 'food' }\n",
      "Product { name: 'robot', price: 40, category: 'toy' }\n",
      "Juguete { name: 'robot', price: 40, category: 'juguete' }\n"
     ]
    }
   ],
   "source": [
    "console.log(cheese);\n",
    "console.log(fun);\n",
    "console.log(diversion);"
   ]
  },
  {
   "cell_type": "markdown",
   "metadata": {},
   "source": [
    "Creamos una funcion anonimoa, a la que invocamos pasando con objeto, this, animals[i], y como argumento i."
   ]
  },
  {
   "cell_type": "code",
   "execution_count": 4,
   "metadata": {},
   "outputs": [
    {
     "name": "stdout",
     "output_type": "stream",
     "text": [
      "#0 Lion: King\n",
      "#1 Whale: Fail\n"
     ]
    }
   ],
   "source": [
    "var animals = [\n",
    "  {species: 'Lion', name: 'King'},\n",
    "  {species: 'Whale', name: 'Fail'}\n",
    "];\n",
    "\n",
    "for (var i = 0; i < animals.length; i++) {\n",
    "  (function (i) { \n",
    "    this.print = function () { \n",
    "      console.log('#' + i  + ' ' + this.species + ': ' + this.name); \n",
    "    } \n",
    "    this.print();\n",
    "  }).call(animals[i], i);\n",
    "}"
   ]
  },
  {
   "cell_type": "markdown",
   "metadata": {},
   "source": [
    "### Apply\n",
    "\n",
    "El método apply() invoca una determinada función asignando explícitamente el objeto this y un array o similar (array like object) como parámetros (argumentos) para dicha función. Es parecido a Call, solo que nos permite pasar un array"
   ]
  },
  {
   "cell_type": "code",
   "execution_count": 5,
   "metadata": {},
   "outputs": [
    {
     "data": {
      "text/plain": [
       "[Function]"
      ]
     },
     "execution_count": 5,
     "metadata": {},
     "output_type": "execute_result"
    }
   ],
   "source": [
    "//Añade al prototipo de Function un metodo llamado crea. Estara disponible en todas las funciones que creemos desde ahora\n",
    "Function.prototype.crea = function (aArgs) {\n",
    "    //Guarda el contexto desde el que se llamo a la funcion\n",
    "    var laFuncion = this;\n",
    "    \n",
    "    //crea otra funcion. En esta funcion llamamos a la original, pero con un argumento\n",
    "    //Cuando se cree esta funcion, el this sera otro al actual\n",
    "    var nuevaFuncion = function () {\n",
    "        laFuncion.apply(this, aArgs);\n",
    "    };\n",
    "    \n",
    "    //Vamos a retornar una instancia de esta nueva funcion, pero el prototipo que tendra la nueva funcion es el mismo \n",
    "    //que la original. Cuando hacemos new creara un nuevo this. El efecto neto será\n",
    "    //ejecutar la funcion original con un this diferente, y con un argumento extra, aArgs \n",
    "    nuevaFuncion.prototype =  laFuncion.prototype;\n",
    "    return new nuevaFuncion();\n",
    "};"
   ]
  },
  {
   "cell_type": "code",
   "execution_count": 6,
   "metadata": {},
   "outputs": [
    {
     "name": "stdout",
     "output_type": "stream",
     "text": [
      "4\n",
      "Hello world!\n",
      "false\n",
      "true\n",
      "[Function: MyConstructor]\n",
      "[ 4, 'Hello world!', false ]\n",
      "undefined\n",
      "undefined\n",
      "true\n",
      "[Function: MyConstructor]\n"
     ]
    }
   ],
   "source": [
    "//Declara una funcion llamada MyConstructor. Esta funcion usa el prototipo de las Function, \n",
    "//que ahora tiene el método crea\n",
    "function MyConstructor () {\n",
    "    //arguments no esta definido!!!\n",
    "    for (var nProp = 0; nProp < arguments.length; nProp++) {\n",
    "        //Crea una propiedad usando arguments\n",
    "        this[\"property\" + nProp] = arguments[nProp];\n",
    "    }\n",
    "}\n",
    "\n",
    "var myArray = [4, \"Hello world!\", false];\n",
    "\n",
    "//LLama al metodo crea que definimos en el prototipo\n",
    "//Esto hare un new, con lo que tendremos una instancia. La instancia se creara llamando al metodo MyConstructor, \n",
    "//myArray como argumento\n",
    "var myInstance = MyConstructor.crea(myArray);\n",
    "\n",
    "var myInstance1 = new MyConstructor(myArray);\n",
    "\n",
    "\n",
    "console.log(myInstance.property0); \n",
    "console.log(myInstance.property1); \n",
    "console.log(myInstance.property2); \n",
    "console.log(myInstance instanceof MyConstructor); // alerts \"true\"\n",
    "console.log(myInstance.constructor); // alerts \"MyConstructor\"\n",
    "\n",
    "console.log(myInstance1.property0); \n",
    "console.log(myInstance1.property1); \n",
    "console.log(myInstance1.property2); \n",
    "console.log(myInstance1 instanceof MyConstructor); // alerts \"true\"\n",
    "console.log(myInstance1.constructor); // alerts \"MyConstructor\"\n"
   ]
  },
  {
   "cell_type": "markdown",
   "metadata": {},
   "source": [
    "En resumen, cuando llamamos a Apply con un array como argumento, es como hacer Call con cada uno de los componentes del array.\n",
    "\n",
    "En el ejemplo anterior myInstance1 fue creada pasando el array y vemos como se creo una propiedad con el array como valor. Cuando hicimos apply con Apply, es como si hubieramos llamado al constructor con tres argumentos, cada uno de los componentes del array"
   ]
  },
  {
   "cell_type": "markdown",
   "metadata": {},
   "source": [
    "# Object"
   ]
  },
  {
   "cell_type": "code",
   "execution_count": 7,
   "metadata": {},
   "outputs": [],
   "source": [
    "var a={\n",
    "    nombre:'Eugenio',\n",
    "    edad:50,\n",
    "    nacimiento: function(){ return Date.now();}\n",
    "}"
   ]
  },
  {
   "cell_type": "code",
   "execution_count": 8,
   "metadata": {},
   "outputs": [
    {
     "name": "stdout",
     "output_type": "stream",
     "text": [
      "undefined\n"
     ]
    }
   ],
   "source": [
    "console.log(a.prototype)"
   ]
  },
  {
   "cell_type": "code",
   "execution_count": 9,
   "metadata": {},
   "outputs": [],
   "source": [
    "function b(){\n",
    "    return {\n",
    "    nombre:'Eugenio',\n",
    "    edad:50,\n",
    "    nacimiento: function(){ return Date.now();}\n",
    "};\n",
    "}"
   ]
  },
  {
   "cell_type": "code",
   "execution_count": 10,
   "metadata": {},
   "outputs": [
    {
     "name": "stdout",
     "output_type": "stream",
     "text": [
      "b {}\n"
     ]
    }
   ],
   "source": [
    "console.log(b.prototype)"
   ]
  },
  {
   "cell_type": "code",
   "execution_count": 11,
   "metadata": {},
   "outputs": [
    {
     "name": "stdout",
     "output_type": "stream",
     "text": [
      "My name is Matthew. Am I human? true\n"
     ]
    }
   ],
   "source": [
    "const person = {\n",
    "  isHuman: false,\n",
    "  printIntroduction: function () {\n",
    "    console.log(`My name is ${this.name}. Am I human? ${this.isHuman}`);\n",
    "  }\n",
    "};\n",
    "\n",
    "const me = Object.create(person);\n",
    "\n",
    "me.name = \"Matthew\"; // \"name\" is a property set on \"me\", but not on \"person\"\n",
    "me.isHuman = true; // inherited properties can be overwritten\n",
    "\n",
    "me.printIntroduction();"
   ]
  },
  {
   "cell_type": "code",
   "execution_count": 12,
   "metadata": {},
   "outputs": [
    {
     "name": "stdout",
     "output_type": "stream",
     "text": [
      "undefined\n"
     ]
    }
   ],
   "source": [
    "console.log(me.prototype)"
   ]
  },
  {
   "cell_type": "markdown",
   "metadata": {},
   "source": [
    "## Create\n",
    "\n",
    "Definimos una Function llamada Shape. Esto crea un prototype. Inicialmente el prototipo no tiene nada, {}, pero luego le añadimos una funcion. Las propiedades x e y no son parte del prototipo. Se crean dinámicamente cuando hagamos new Shape:"
   ]
  },
  {
   "cell_type": "code",
   "execution_count": 13,
   "metadata": {},
   "outputs": [
    {
     "name": "stdout",
     "output_type": "stream",
     "text": [
      "Shape { move: [Function] }\n"
     ]
    }
   ],
   "source": [
    "// Shape - superclase\n",
    "function Shape(x=0,y=0) {\n",
    "  this.x = x;\n",
    "  this.y = y;\n",
    "}\n",
    "\n",
    "// método de la superclase\n",
    "Shape.prototype.move = function(x, y) {\n",
    "    this.x += x;\n",
    "    this.y += y;\n",
    "    console.info(\"Shape moved.\");\n",
    "};\n",
    "\n",
    "console.log(Shape.prototype)"
   ]
  },
  {
   "cell_type": "markdown",
   "metadata": {},
   "source": [
    "Creamos otras objetos:"
   ]
  },
  {
   "cell_type": "code",
   "execution_count": 14,
   "metadata": {},
   "outputs": [
    {
     "name": "stdout",
     "output_type": "stream",
     "text": [
      "Rectangle {}\n",
      "Square {}\n",
      "Cuadrado {}\n"
     ]
    }
   ],
   "source": [
    "// Rectangle - subclase\n",
    "function Rectangle(a,b) {\n",
    "  this.shape=\"Rectangle\";\n",
    "  Shape.call(this,a,b); // llama al contructor de la superclase.\n",
    "}\n",
    "\n",
    "// Rectangle - subclase\n",
    "function Square(a) {\n",
    "  this.shape=\"Square\";\n",
    "  this.x=a;\n",
    "  this.y=a;\n",
    "  Shape.call(this,a,a); // llama al contructor de la superclase.\n",
    "}\n",
    "\n",
    "// Rectangle - subclase\n",
    "function Cuadrado(a) {\n",
    "  this.shape=\"Cuadrado\";\n",
    "  this.x=a;\n",
    "  this.y=a;\n",
    "  Shape.call(this,a,a); // llama al contructor de la superclase.\n",
    "}\n",
    "\n",
    "console.log(Rectangle.prototype)\n",
    "console.log(Square.prototype)\n",
    "console.log(Cuadrado.prototype)\n"
   ]
  },
  {
   "cell_type": "markdown",
   "metadata": {},
   "source": [
    "Vamos a alterar los objetos. vamos a hacer que el prototype de estos dos objetos sea shape. Notese que creamos un prototipo nuevo que es una copia del de Shape. De esta forma lo que estamos haciendo es que todos tienen sus propios prototipos, pero son \"hijos\" de Shape.\n",
    "\n"
   ]
  },
  {
   "cell_type": "code",
   "execution_count": 15,
   "metadata": {},
   "outputs": [
    {
     "data": {
      "text/plain": [
       "Shape {}"
      ]
     },
     "execution_count": 15,
     "metadata": {},
     "output_type": "execute_result"
    }
   ],
   "source": [
    "// subclase extiende superclase\n",
    "Rectangle.prototype = Object.create(Shape.prototype);\n",
    "Rectangle.prototype.constructor = Rectangle;\n",
    "Square.prototype = Object.create(Shape.prototype);\n",
    "Square.prototype.constructor = Square;\n",
    "Cuadrado.prototype = Object.create(Shape.prototype);"
   ]
  },
  {
   "cell_type": "code",
   "execution_count": 16,
   "metadata": {},
   "outputs": [
    {
     "name": "stdout",
     "output_type": "stream",
     "text": [
      "Rectangle { constructor: [Function: Rectangle] }\n",
      "Square { constructor: [Function: Square] }\n",
      "Shape {}\n"
     ]
    }
   ],
   "source": [
    "console.log(Rectangle.prototype)\n",
    "console.log(Square.prototype)\n",
    "console.log(Cuadrado.prototype)"
   ]
  },
  {
   "cell_type": "code",
   "execution_count": 17,
   "metadata": {},
   "outputs": [
    {
     "name": "stdout",
     "output_type": "stream",
     "text": [
      "Rectangle { shape: 'Rectangle', x: 2, y: 4 }\n",
      "Square { shape: 'Square', x: 2, y: 2 }\n",
      "Shape { shape: 'Cuadrado', x: 2, y: 2 }\n"
     ]
    }
   ],
   "source": [
    "var rect = new Rectangle(2,4);\n",
    "console.log(rect)\n",
    "\n",
    "var square = new Square(2);\n",
    "console.log(square)\n",
    "\n",
    "var cuadrado = new Cuadrado(2);\n",
    "console.log(cuadrado)"
   ]
  },
  {
   "cell_type": "code",
   "execution_count": 18,
   "metadata": {},
   "outputs": [
    {
     "name": "stdout",
     "output_type": "stream",
     "text": [
      "¿Es rect una instancia de Rectangle? true\n",
      "¿Es rect una instancia de Shape? true\n",
      "Shape moved.\n",
      "¿Es square una instancia de Square? true\n",
      "¿Es square una instancia de Shape? true\n",
      "Shape moved.\n",
      "¿Es cuadrado una instancia de Cuadrado? true\n",
      "¿Es cuadrado una instancia de Shape? true\n",
      "Shape moved.\n"
     ]
    }
   ],
   "source": [
    "console.log('¿Es rect una instancia de Rectangle?',\n",
    "  rect instanceof Rectangle); // true\n",
    "console.log('¿Es rect una instancia de Shape?',\n",
    "  rect instanceof Shape); // true\n",
    "rect.move(1, 1); // Imprime, 'Shape moved.'\n",
    "\n",
    "console.log('¿Es square una instancia de Square?',\n",
    "  square instanceof Square); // true\n",
    "console.log('¿Es square una instancia de Shape?',\n",
    "  square instanceof Shape); // true\n",
    "rect.move(1, 1); // Imprime, 'Shape moved.'\n",
    "\n",
    "console.log('¿Es cuadrado una instancia de Cuadrado?',\n",
    "  cuadrado instanceof Cuadrado); // true\n",
    "console.log('¿Es cuadrado una instancia de Shape?',\n",
    "  cuadrado instanceof Shape); // true\n",
    "rect.move(1, 1); // Imprime, 'Shape moved.'"
   ]
  },
  {
   "cell_type": "code",
   "execution_count": 19,
   "metadata": {},
   "outputs": [
    {
     "name": "stdout",
     "output_type": "stream",
     "text": [
      "¿Es forma1 una instancia de Shape? true\n",
      "¿Es forma1 una instancia de Rectangle? false\n",
      "¿Es forma1 una instancia de Square? false\n",
      "¿Es forma1 una instancia de Cuadrado? false\n",
      "Shape moved.\n",
      "¿Es forma1 una instancia de Shape? true\n",
      "¿Es forma1 una instancia de Rectangle? true\n",
      "¿Es forma1 una instancia de Square? false\n",
      "¿Es forma1 una instancia de Cuadrado? false\n",
      "Shape moved.\n",
      "¿Es forma1 una instancia de Shape? true\n",
      "¿Es forma1 una instancia de Rectangle? false\n",
      "¿Es forma1 una instancia de Square? true\n",
      "¿Es forma1 una instancia de Cuadrado? false\n",
      "Shape moved.\n",
      "¿Es forma1 una instancia de Shape? true\n",
      "¿Es forma1 una instancia de Rectangle? false\n",
      "¿Es forma1 una instancia de Square? false\n",
      "¿Es forma1 una instancia de Cuadrado? true\n",
      "Shape moved.\n"
     ]
    }
   ],
   "source": [
    "var forma1 = Object.create(Shape.prototype);\n",
    "var forma2 = Object.create(Rectangle.prototype);\n",
    "var forma3 = Object.create(Square.prototype);\n",
    "var forma4 = Object.create(Cuadrado.prototype);\n",
    "\n",
    "\n",
    "console.log('¿Es forma1 una instancia de Shape?',\n",
    "  forma1 instanceof Shape); // true\n",
    "console.log('¿Es forma1 una instancia de Rectangle?',\n",
    "  forma1 instanceof Rectangle); // true\n",
    "console.log('¿Es forma1 una instancia de Square?',\n",
    "  forma1 instanceof Square); // true\n",
    "console.log('¿Es forma1 una instancia de Cuadrado?',\n",
    "  forma1 instanceof Cuadrado); // true\n",
    "forma1.move(1, 1); // Imprime, 'Shape moved.'\n",
    "\n",
    "\n",
    "console.log('¿Es forma1 una instancia de Shape?',\n",
    "  forma2 instanceof Shape); // true\n",
    "console.log('¿Es forma1 una instancia de Rectangle?',\n",
    "  forma2 instanceof Rectangle); // true\n",
    "console.log('¿Es forma1 una instancia de Square?',\n",
    "  forma2 instanceof Square); // true\n",
    "console.log('¿Es forma1 una instancia de Cuadrado?',\n",
    "  forma2 instanceof Cuadrado); // true\n",
    "forma2.move(1, 1); // Imprime, 'Shape moved.'\n",
    "\n",
    "\n",
    "console.log('¿Es forma1 una instancia de Shape?',\n",
    "  forma3 instanceof Shape); // true\n",
    "console.log('¿Es forma1 una instancia de Rectangle?',\n",
    "  forma3 instanceof Rectangle); // true\n",
    "console.log('¿Es forma1 una instancia de Square?',\n",
    "  forma3 instanceof Square); // true\n",
    "console.log('¿Es forma1 una instancia de Cuadrado?',\n",
    "  forma3 instanceof Cuadrado); // true\n",
    "forma3.move(1, 1); // Imprime, 'Shape moved.'\n",
    "\n",
    "\n",
    "console.log('¿Es forma1 una instancia de Shape?',\n",
    "  forma4 instanceof Shape); // true\n",
    "console.log('¿Es forma1 una instancia de Rectangle?',\n",
    "  forma4 instanceof Rectangle); // true\n",
    "console.log('¿Es forma1 una instancia de Square?',\n",
    "  forma4 instanceof Square); // true\n",
    "console.log('¿Es forma1 una instancia de Cuadrado?',\n",
    "  forma4 instanceof Cuadrado); // true\n",
    "forma4.move(1, 1); // Imprime, 'Shape moved.'\n"
   ]
  },
  {
   "cell_type": "code",
   "execution_count": 20,
   "metadata": {},
   "outputs": [
    {
     "name": "stdout",
     "output_type": "stream",
     "text": [
      "Hi, I am Bob, the Builder\n",
      "Hi, I am Joe\n",
      "Hi, I am Red Green, the Handyman\n",
      "Hi, I am Mike\n"
     ]
    }
   ],
   "source": [
    "//Funcion Person, aka, constructor. Tiene un argumento\n",
    "var Person = function(name) {\n",
    "  this.name = name;\n",
    "  this.canTalk = true;\n",
    "};\n",
    "\n",
    "//Añade una \n",
    "Person.prototype.greet = function() {\n",
    "  if (this.canTalk) {\n",
    "    console.log('Hi, I am ' + this.name);\n",
    "  }\n",
    "};\n",
    "\n",
    "\n",
    "var Employee = function(name, title) {\n",
    "  //Lama a la funcion Person, aka, constructor, con el objeto this y un argumento\n",
    "  Person.call(this, name);\n",
    "  this.title = title;\n",
    "};\n",
    "\n",
    "Employee.prototype = Object.create(Person.prototype);\n",
    "Employee.prototype.constructor = Employee; //If you don't set Object.prototype.constructor to Employee, \n",
    "                                           //it will take prototype.constructor of Person (parent). \n",
    "                                           //To avoid that, we set the prototype.constructor to Employee (child).\n",
    "\n",
    "\n",
    "Employee.prototype.greet = function() {\n",
    "  if (this.canTalk) {\n",
    "    console.log('Hi, I am ' + this.name + ', the ' + this.title);\n",
    "  }\n",
    "};\n",
    "\n",
    "var Customer = function(name) {\n",
    "  Person.call(this, name);\n",
    "};\n",
    "\n",
    "Customer.prototype = Object.create(Person.prototype);\n",
    "Customer.prototype.constructor = Customer; //If you don't set Object.prototype.constructor to Customer, \n",
    "                                           //it will take prototype.constructor of Person (parent). \n",
    "                                           //To avoid that, we set the prototype.constructor to Customer (child).\n",
    "\n",
    "\n",
    "var Mime = function(name) {\n",
    "  Person.call(this, name);\n",
    "  this.canTalk = false;\n",
    "};\n",
    "\n",
    "Mime.prototype = Object.create(Person.prototype);\n",
    "Mime.prototype.constructor = Mime; \n",
    "\n",
    "\n",
    "var bob = new Employee('Bob', 'Builder');\n",
    "var joe = new Customer('Joe');\n",
    "var rg = new Employee('Red Green', 'Handyman');\n",
    "var mike = new Customer('Mike');\n",
    "var mime = new Mime('Mime');\n",
    "\n",
    "bob.greet();\n",
    "\n",
    "joe.greet();\n",
    "// Hi, I am Joe\n",
    "\n",
    "rg.greet();\n",
    "mike.greet();\n",
    "\n",
    "mime.greet();"
   ]
  },
  {
   "cell_type": "markdown",
   "metadata": {},
   "source": [
    "### getPrototypeOf"
   ]
  },
  {
   "cell_type": "code",
   "execution_count": 21,
   "metadata": {},
   "outputs": [
    {
     "data": {
      "text/plain": [
       "true"
      ]
     },
     "execution_count": 21,
     "metadata": {},
     "output_type": "execute_result"
    }
   ],
   "source": [
    "var proto = {};\n",
    "var obj = Object.create(proto);\n",
    "Object.getPrototypeOf(obj) === proto; // true"
   ]
  },
  {
   "cell_type": "code",
   "execution_count": 22,
   "metadata": {},
   "outputs": [
    {
     "data": {
      "text/plain": [
       "[String: '']"
      ]
     },
     "execution_count": 22,
     "metadata": {},
     "output_type": "execute_result"
    }
   ],
   "source": [
    "Object.getPrototypeOf('foo');\n",
    "// String.prototype"
   ]
  },
  {
   "cell_type": "markdown",
   "metadata": {},
   "source": [
    "### is"
   ]
  },
  {
   "cell_type": "code",
   "execution_count": 23,
   "metadata": {},
   "outputs": [
    {
     "name": "stdout",
     "output_type": "stream",
     "text": [
      "true\n",
      "false\n",
      "false\n",
      "true\n",
      "false\n",
      "true\n",
      "false\n",
      "true\n",
      "true\n"
     ]
    }
   ],
   "source": [
    "console.log(Object.is('foo', 'foo'));     // true\n",
    "\n",
    "console.log(Object.is('foo', 'bar'));     // false\n",
    "console.log(Object.is([], []));           // false\n",
    "\n",
    "var foo = { a: 1 };\n",
    "var bar = { a: 1 };\n",
    "console.log(Object.is(foo, foo));         // true\n",
    "console.log(Object.is(foo, bar));         // false\n",
    "\n",
    "console.log(Object.is(null, null));       // true\n",
    "\n",
    "// Special Cases\n",
    "console.log(Object.is(0, -0));            // false\n",
    "console.log(Object.is(-0, -0));           // true\n",
    "console.log(Object.is(NaN, 0/0));         // true"
   ]
  },
  {
   "cell_type": "markdown",
   "metadata": {},
   "source": [
    "### ValueOf"
   ]
  },
  {
   "cell_type": "code",
   "execution_count": 24,
   "metadata": {},
   "outputs": [
    {
     "name": "stdout",
     "output_type": "stream",
     "text": [
      "7\n"
     ]
    }
   ],
   "source": [
    "function MyNumberType(n) {\n",
    "  this.number = n;\n",
    "}\n",
    "\n",
    "MyNumberType.prototype.valueOf = function() {\n",
    "  return this.number;\n",
    "};\n",
    "\n",
    "const object1 = new MyNumberType(4);\n",
    "\n",
    "console.log(object1 + 3);\n",
    "// expected output: 7\n"
   ]
  },
  {
   "cell_type": "markdown",
   "metadata": {},
   "source": [
    "### hasOwnProperty"
   ]
  },
  {
   "cell_type": "code",
   "execution_count": 25,
   "metadata": {},
   "outputs": [
    {
     "ename": "TypeError",
     "evalue": "Assignment to constant variable.",
     "output_type": "error",
     "traceback": [
      "evalmachine.<anonymous>:1",
      "object1 = new Object();",
      "        ^",
      "",
      "TypeError: Assignment to constant variable.",
      "    at evalmachine.<anonymous>:1:9",
      "    at Script.runInThisContext (vm.js:122:20)",
      "    at Object.runInThisContext (vm.js:329:38)",
      "    at run ([eval]:1054:15)",
      "    at onRunRequest ([eval]:888:18)",
      "    at onMessage ([eval]:848:13)",
      "    at process.emit (events.js:198:13)",
      "    at emit (internal/child_process.js:832:12)",
      "    at process._tickCallback (internal/process/next_tick.js:63:19)"
     ]
    }
   ],
   "source": [
    "object1 = new Object();\n",
    "object1.property1 = 42;\n",
    "\n",
    "console.log(object1.hasOwnProperty('property1'));\n",
    "// expected output: true\n",
    "\n",
    "console.log(object1.hasOwnProperty('toString'));\n",
    "// expected output: false\n",
    "\n",
    "console.log(object1.hasOwnProperty('hasOwnProperty'));\n",
    "// expected output: false"
   ]
  },
  {
   "cell_type": "markdown",
   "metadata": {},
   "source": [
    "## Assign"
   ]
  },
  {
   "cell_type": "code",
   "execution_count": 26,
   "metadata": {},
   "outputs": [
    {
     "name": "stdout",
     "output_type": "stream",
     "text": [
      "{ a: 1, b: 4, c: 5 }\n",
      "{ a: 1, b: 4, c: 5 }\n"
     ]
    }
   ],
   "source": [
    "const target = { a: 1, b: 2 };\n",
    "const source = { b: 4, c: 5 };\n",
    "\n",
    "const returnedTarget = Object.assign(target, source);\n",
    "\n",
    "console.log(target);\n",
    "// expected output: Object { a: 1, b: 4, c: 5 }\n",
    "\n",
    "console.log(returnedTarget);\n",
    "// expected output: Object { a: 1, b: 4, c: 5 }\n"
   ]
  },
  {
   "cell_type": "markdown",
   "metadata": {},
   "source": [
    "### Warning for Deep Clone\n",
    "\n",
    "For deep cloning, we need to use alternatives, because Object.assign() copies property values.\n",
    "\n",
    "If the source value is a reference to an object, it only copies the reference value."
   ]
  },
  {
   "cell_type": "code",
   "execution_count": 27,
   "metadata": {},
   "outputs": [
    {
     "name": "stdout",
     "output_type": "stream",
     "text": [
      "{\"a\":0,\"b\":{\"c\":0}}\n",
      "{\"a\":1,\"b\":{\"c\":0}}\n",
      "{\"a\":0,\"b\":{\"c\":0}}\n",
      "{\"a\":1,\"b\":{\"c\":0}}\n",
      "{\"a\":2,\"b\":{\"c\":0}}\n",
      "{\"a\":1,\"b\":{\"c\":3}}\n",
      "{\"a\":2,\"b\":{\"c\":3}}\n",
      "{\"a\":0,\"b\":{\"c\":0}}\n"
     ]
    }
   ],
   "source": [
    "function test() {\n",
    "  'use strict';\n",
    "\n",
    "  let obj1 = { a: 0 , b: { c: 0}};\n",
    "  let obj2 = Object.assign({}, obj1);\n",
    "  console.log(JSON.stringify(obj2)); // { \"a\": 0, \"b\": { \"c\": 0}}\n",
    "  \n",
    "  obj1.a = 1;\n",
    "  console.log(JSON.stringify(obj1)); // { \"a\": 1, \"b\": { \"c\": 0}}\n",
    "  console.log(JSON.stringify(obj2)); // { \"a\": 0, \"b\": { \"c\": 0}}\n",
    "  \n",
    "  obj2.a = 2;\n",
    "  console.log(JSON.stringify(obj1)); // { \"a\": 1, \"b\": { \"c\": 0}}\n",
    "  console.log(JSON.stringify(obj2)); // { \"a\": 2, \"b\": { \"c\": 0}}\n",
    "  \n",
    "  obj2.b.c = 3;\n",
    "  console.log(JSON.stringify(obj1)); // { \"a\": 1, \"b\": { \"c\": 3}}\n",
    "  console.log(JSON.stringify(obj2)); // { \"a\": 2, \"b\": { \"c\": 3}}\n",
    "  \n",
    "  // Deep Clone\n",
    "  obj1 = { a: 0 , b: { c: 0}};\n",
    "  let obj3 = JSON.parse(JSON.stringify(obj1));\n",
    "  obj1.a = 4;\n",
    "  obj1.b.c = 4;\n",
    "  console.log(JSON.stringify(obj3)); // { \"a\": 0, \"b\": { \"c\": 0}}\n",
    "}\n",
    "\n",
    "test();"
   ]
  },
  {
   "cell_type": "markdown",
   "metadata": {},
   "source": [
    "### Merging objects"
   ]
  },
  {
   "cell_type": "code",
   "execution_count": 28,
   "metadata": {},
   "outputs": [
    {
     "name": "stdout",
     "output_type": "stream",
     "text": [
      "{ a: 1, b: 2, c: 3 }\n",
      "{ a: 1, b: 2, c: 3 }\n",
      "{ b: 2 }\n"
     ]
    }
   ],
   "source": [
    "o1 = { a: 1 };\n",
    "o2 = { b: 2 };\n",
    "o3 = { c: 3 };\n",
    "\n",
    "obj = Object.assign(o1, o2, o3);\n",
    "console.log(obj); // { a: 1, b: 2, c: 3 }\n",
    "console.log(o1);  // { a: 1, b: 2, c: 3 }, target object itself is changed.\n",
    "console.log(o2);"
   ]
  },
  {
   "cell_type": "markdown",
   "metadata": {},
   "source": [
    "## Entries"
   ]
  },
  {
   "cell_type": "code",
   "execution_count": 29,
   "metadata": {},
   "outputs": [
    {
     "name": "stdout",
     "output_type": "stream",
     "text": [
      "[ [ 'foo', 'bar' ], [ 'baz', 42 ] ]\n",
      "[ [ '0', 'a' ], [ '1', 'b' ], [ '2', 'c' ] ]\n",
      "[ [ '2', 'b' ], [ '7', 'c' ], [ '100', 'a' ] ]\n",
      "[ [ 'foo', 'bar' ] ]\n",
      "[ [ '0', 'f' ], [ '1', 'o' ], [ '2', 'o' ] ]\n",
      "[]\n",
      "a 5\n",
      "b 7\n",
      "c 9\n",
      "a 5\n",
      "b 7\n",
      "c 9\n"
     ]
    }
   ],
   "source": [
    "obj = { foo: 'bar', baz: 42 };\n",
    "console.log(Object.entries(obj)); // [ ['foo', 'bar'], ['baz', 42] ]\n",
    "\n",
    "// array like object\n",
    "obj = { 0: 'a', 1: 'b', 2: 'c' };\n",
    "console.log(Object.entries(obj)); // [ ['0', 'a'], ['1', 'b'], ['2', 'c'] ]\n",
    "\n",
    "// array like object with random key ordering\n",
    "anObj = { 100: 'a', 2: 'b', 7: 'c' };\n",
    "console.log(Object.entries(anObj)); // [ ['2', 'b'], ['7', 'c'], ['100', 'a'] ]\n",
    "\n",
    "// getFoo is property which isn't enumerable\n",
    "myObj = Object.create({}, { getFoo: { value() { return this.foo; } } });\n",
    "myObj.foo = 'bar';\n",
    "console.log(Object.entries(myObj)); // [ ['foo', 'bar'] ]\n",
    "\n",
    "// non-object argument will be coerced to an object\n",
    "console.log(Object.entries('foo')); // [ ['0', 'f'], ['1', 'o'], ['2', 'o'] ]\n",
    "\n",
    "// returns an empty array for any primitive type, since primitives have no own properties\n",
    "console.log(Object.entries(100)); // [ ]\n",
    "\n",
    "// iterate through key-value gracefully\n",
    "obj = { a: 5, b: 7, c: 9 };\n",
    "for (const [key, value] of Object.entries(obj)) {\n",
    "  console.log(`${key} ${value}`); // \"a 5\", \"b 7\", \"c 9\"\n",
    "}\n",
    "\n",
    "// Or, using array extras\n",
    "Object.entries(obj).forEach(([key, value]) => {\n",
    "  console.log(`${key} ${value}`); // \"a 5\", \"b 7\", \"c 9\"\n",
    "});"
   ]
  },
  {
   "cell_type": "markdown",
   "metadata": {},
   "source": [
    "### getOwnPropertyDescriptor"
   ]
  },
  {
   "cell_type": "code",
   "execution_count": 30,
   "metadata": {},
   "outputs": [
    {
     "ename": "TypeError",
     "evalue": "Assignment to constant variable.",
     "output_type": "error",
     "traceback": [
      "evalmachine.<anonymous>:1",
      "object1 = {",
      "        ^",
      "",
      "TypeError: Assignment to constant variable.",
      "    at evalmachine.<anonymous>:1:9",
      "    at Script.runInThisContext (vm.js:122:20)",
      "    at Object.runInThisContext (vm.js:329:38)",
      "    at run ([eval]:1054:15)",
      "    at onRunRequest ([eval]:888:18)",
      "    at onMessage ([eval]:848:13)",
      "    at process.emit (events.js:198:13)",
      "    at emit (internal/child_process.js:832:12)",
      "    at process._tickCallback (internal/process/next_tick.js:63:19)"
     ]
    }
   ],
   "source": [
    "object1 = {\n",
    "  property1: 42\n",
    "}\n",
    "\n",
    "descriptor1 = Object.getOwnPropertyDescriptor(object1, 'property1');\n",
    "\n",
    "console.log(descriptor1.configurable);\n",
    "// expected output: true\n",
    "\n",
    "console.log(descriptor1.value);\n",
    "// expected output: 42\n",
    "\n",
    "descriptors1 = Object.getOwnPropertyDescriptors(object1);\n",
    "\n",
    "console.log(descriptors1.property1.writable);\n",
    "// expected output: true\n",
    "\n",
    "console.log(descriptors1.property1.value);\n",
    "// expected output: 42\n"
   ]
  },
  {
   "cell_type": "markdown",
   "metadata": {},
   "source": [
    "### Keys and Values"
   ]
  },
  {
   "cell_type": "code",
   "execution_count": 31,
   "metadata": {},
   "outputs": [
    {
     "ename": "TypeError",
     "evalue": "Assignment to constant variable.",
     "output_type": "error",
     "traceback": [
      "evalmachine.<anonymous>:1",
      "object1 = {",
      "        ^",
      "",
      "TypeError: Assignment to constant variable.",
      "    at evalmachine.<anonymous>:1:9",
      "    at Script.runInThisContext (vm.js:122:20)",
      "    at Object.runInThisContext (vm.js:329:38)",
      "    at run ([eval]:1054:15)",
      "    at onRunRequest ([eval]:888:18)",
      "    at onMessage ([eval]:848:13)",
      "    at process.emit (events.js:198:13)",
      "    at emit (internal/child_process.js:832:12)",
      "    at process._tickCallback (internal/process/next_tick.js:63:19)"
     ]
    }
   ],
   "source": [
    "object1 = {\n",
    "  a: 'somestring',\n",
    "  b: 42,\n",
    "  c: false\n",
    "};\n",
    "\n",
    "console.log(Object.keys(object1));\n",
    "// expected output: Array [\"a\", \"b\", \"c\"]\n",
    "\n",
    "console.log(Object.values(object1));\n",
    "// expected output: Array [\"somestring\", 42, false]\n"
   ]
  },
  {
   "cell_type": "markdown",
   "metadata": {},
   "source": [
    "## Seal"
   ]
  },
  {
   "cell_type": "code",
   "execution_count": 32,
   "metadata": {},
   "outputs": [
    {
     "ename": "TypeError",
     "evalue": "Assignment to constant variable.",
     "output_type": "error",
     "traceback": [
      "evalmachine.<anonymous>:1",
      "object1 = {",
      "        ^",
      "",
      "TypeError: Assignment to constant variable.",
      "    at evalmachine.<anonymous>:1:9",
      "    at Script.runInThisContext (vm.js:122:20)",
      "    at Object.runInThisContext (vm.js:329:38)",
      "    at run ([eval]:1054:15)",
      "    at onRunRequest ([eval]:888:18)",
      "    at onMessage ([eval]:848:13)",
      "    at process.emit (events.js:198:13)",
      "    at emit (internal/child_process.js:832:12)",
      "    at process._tickCallback (internal/process/next_tick.js:63:19)"
     ]
    }
   ],
   "source": [
    "object1 = {\n",
    "  property1: 42\n",
    "};\n",
    "\n",
    "Object.seal(object1);\n",
    "object1.property1 = 33;\n",
    "console.log(object1.property1);\n",
    "// expected output: 33\n",
    "\n",
    "delete object1.property1; // cannot delete when sealed\n",
    "console.log(object1.property1);\n",
    "// expected output: 33\n",
    "\n",
    "console.log(Object.isSealed(object1));\n",
    "// expected output: true\n"
   ]
  },
  {
   "cell_type": "markdown",
   "metadata": {},
   "source": [
    "## Extensions"
   ]
  },
  {
   "cell_type": "code",
   "execution_count": 33,
   "metadata": {},
   "outputs": [
    {
     "ename": "TypeError",
     "evalue": "Assignment to constant variable.",
     "output_type": "error",
     "traceback": [
      "evalmachine.<anonymous>:1",
      "object1 = {};",
      "        ^",
      "",
      "TypeError: Assignment to constant variable.",
      "    at evalmachine.<anonymous>:1:9",
      "    at Script.runInThisContext (vm.js:122:20)",
      "    at Object.runInThisContext (vm.js:329:38)",
      "    at run ([eval]:1054:15)",
      "    at onRunRequest ([eval]:888:18)",
      "    at onMessage ([eval]:848:13)",
      "    at process.emit (events.js:198:13)",
      "    at emit (internal/child_process.js:832:12)",
      "    at process._tickCallback (internal/process/next_tick.js:63:19)"
     ]
    }
   ],
   "source": [
    "object1 = {};\n",
    "\n",
    "Object.preventExtensions(object1);\n",
    "\n",
    "try {\n",
    "  Object.defineProperty(object1, 'property1', {\n",
    "    value: 42\n",
    "  });\n",
    "} catch (e) {\n",
    "  console.log(e);\n",
    "  // Expected output: TypeError: Cannot define property property1, object is not extensible\n",
    "}\n",
    "\n",
    "console.log(Object.isExtensible(object1));"
   ]
  },
  {
   "cell_type": "markdown",
   "metadata": {},
   "source": [
    "## Freeze"
   ]
  },
  {
   "cell_type": "code",
   "execution_count": 34,
   "metadata": {},
   "outputs": [
    {
     "name": "stdout",
     "output_type": "stream",
     "text": [
      "42\n",
      "true\n"
     ]
    }
   ],
   "source": [
    "obj1 = {\n",
    "  prop: 42\n",
    "};\n",
    "\n",
    "Object.freeze(obj1);\n",
    "\n",
    "obj1.prop = 33;\n",
    "// Throws an error in strict mode\n",
    "\n",
    "console.log(obj1.prop);\n",
    "// expected output: 42\n",
    "\n",
    "console.log(Object.isFrozen(obj1));\n"
   ]
  },
  {
   "cell_type": "markdown",
   "metadata": {},
   "source": [
    "## Getters & Setters"
   ]
  },
  {
   "cell_type": "code",
   "execution_count": 35,
   "metadata": {},
   "outputs": [
    {
     "name": "stdout",
     "output_type": "stream",
     "text": [
      "5\n",
      "5\n"
     ]
    }
   ],
   "source": [
    "// Using the get operator\n",
    "var o = { get gimmeFive() { return 5; } };\n",
    "console.log(o.gimmeFive); // 5\n",
    "\n",
    "// Using Object.defineProperty\n",
    "var o = {};\n",
    "Object.defineProperty(o, 'gimmeFive', {\n",
    "  get: function() {\n",
    "    return 5;\n",
    "  }\n",
    "});\n",
    "console.log(o.gimmeFive); // 5"
   ]
  },
  {
   "cell_type": "code",
   "execution_count": 36,
   "metadata": {},
   "outputs": [
    {
     "name": "stdout",
     "output_type": "stream",
     "text": [
      "undefined\n",
      "5\n",
      "undefined\n",
      "5\n"
     ]
    }
   ],
   "source": [
    "// Standard-compliant ways\n",
    "\n",
    "// Using the set operator\n",
    "var o = { set value(val) { this.anotherValue = val; } };\n",
    "o.value = 5;\n",
    "console.log(o.value); // undefined\n",
    "console.log(o.anotherValue); // 5\n",
    "\n",
    "// Using Object.defineProperty\n",
    "var o = {};\n",
    "Object.defineProperty(o, 'value', {\n",
    "  set: function(val) {\n",
    "    this.anotherValue = val;\n",
    "  }\n",
    "});\n",
    "o.value = 5;\n",
    "console.log(o.value); // undefined\n",
    "console.log(o.anotherValue); // 5"
   ]
  }
 ],
 "metadata": {
  "kernelspec": {
   "display_name": "Javascript (Node.js)",
   "language": "javascript",
   "name": "javascript"
  },
  "language_info": {
   "file_extension": ".js",
   "mimetype": "application/javascript",
   "name": "javascript",
   "version": "10.16.3"
  }
 },
 "nbformat": 4,
 "nbformat_minor": 4
}
