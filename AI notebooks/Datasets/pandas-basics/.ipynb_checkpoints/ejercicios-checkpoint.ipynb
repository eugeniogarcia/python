{
 "cells": [
  {
   "cell_type": "code",
   "execution_count": 33,
   "metadata": {},
   "outputs": [],
   "source": [
    "import pandas as pd\n",
    "import numpy as np"
   ]
  },
  {
   "cell_type": "markdown",
   "metadata": {},
   "source": [
    "# 1. Archivos\n",
    "## 1.1 Lee datos\n",
    "Lee un Dataframe sin especificar el indice"
   ]
  },
  {
   "cell_type": "code",
   "execution_count": 17,
   "metadata": {},
   "outputs": [
    {
     "data": {
      "text/html": [
       "<div>\n",
       "<style scoped>\n",
       "    .dataframe tbody tr th:only-of-type {\n",
       "        vertical-align: middle;\n",
       "    }\n",
       "\n",
       "    .dataframe tbody tr th {\n",
       "        vertical-align: top;\n",
       "    }\n",
       "\n",
       "    .dataframe thead th {\n",
       "        text-align: right;\n",
       "    }\n",
       "</style>\n",
       "<table border=\"1\" class=\"dataframe\">\n",
       "  <thead>\n",
       "    <tr style=\"text-align: right;\">\n",
       "      <th></th>\n",
       "      <th>title</th>\n",
       "      <th>year</th>\n",
       "      <th>name</th>\n",
       "      <th>type</th>\n",
       "      <th>character</th>\n",
       "      <th>n</th>\n",
       "    </tr>\n",
       "  </thead>\n",
       "  <tbody>\n",
       "    <tr>\n",
       "      <th>0</th>\n",
       "      <td>Closet Monster</td>\n",
       "      <td>2015</td>\n",
       "      <td>Buffy #1</td>\n",
       "      <td>actor</td>\n",
       "      <td>Buffy 4</td>\n",
       "      <td>31.0</td>\n",
       "    </tr>\n",
       "    <tr>\n",
       "      <th>1</th>\n",
       "      <td>Suuri illusioni</td>\n",
       "      <td>1985</td>\n",
       "      <td>Homo $</td>\n",
       "      <td>actor</td>\n",
       "      <td>Guests</td>\n",
       "      <td>22.0</td>\n",
       "    </tr>\n",
       "    <tr>\n",
       "      <th>2</th>\n",
       "      <td>Battle of the Sexes</td>\n",
       "      <td>2017</td>\n",
       "      <td>$hutter</td>\n",
       "      <td>actor</td>\n",
       "      <td>Bobby Riggs Fan</td>\n",
       "      <td>10.0</td>\n",
       "    </tr>\n",
       "    <tr>\n",
       "      <th>3</th>\n",
       "      <td>Secret in Their Eyes</td>\n",
       "      <td>2015</td>\n",
       "      <td>$hutter</td>\n",
       "      <td>actor</td>\n",
       "      <td>2002 Dodger Fan</td>\n",
       "      <td>NaN</td>\n",
       "    </tr>\n",
       "    <tr>\n",
       "      <th>4</th>\n",
       "      <td>Steve Jobs</td>\n",
       "      <td>2015</td>\n",
       "      <td>$hutter</td>\n",
       "      <td>actor</td>\n",
       "      <td>1988 Opera House Patron</td>\n",
       "      <td>NaN</td>\n",
       "    </tr>\n",
       "  </tbody>\n",
       "</table>\n",
       "</div>"
      ],
      "text/plain": [
       "                  title  year      name   type                character     n\n",
       "0        Closet Monster  2015  Buffy #1  actor                  Buffy 4  31.0\n",
       "1       Suuri illusioni  1985    Homo $  actor                   Guests  22.0\n",
       "2   Battle of the Sexes  2017   $hutter  actor          Bobby Riggs Fan  10.0\n",
       "3  Secret in Their Eyes  2015   $hutter  actor          2002 Dodger Fan   NaN\n",
       "4            Steve Jobs  2015   $hutter  actor  1988 Opera House Patron   NaN"
      ]
     },
     "execution_count": 17,
     "metadata": {},
     "output_type": "execute_result"
    }
   ],
   "source": [
    "casts = pd.read_csv('./data/cast.csv', index_col=None)\n",
    "titles =pd.read_csv('./data/titles.csv', index_col =None)\n",
    "casts.head()"
   ]
  },
  {
   "cell_type": "code",
   "execution_count": 16,
   "metadata": {},
   "outputs": [
    {
     "data": {
      "text/html": [
       "<div>\n",
       "<style scoped>\n",
       "    .dataframe tbody tr th:only-of-type {\n",
       "        vertical-align: middle;\n",
       "    }\n",
       "\n",
       "    .dataframe tbody tr th {\n",
       "        vertical-align: top;\n",
       "    }\n",
       "\n",
       "    .dataframe thead th {\n",
       "        text-align: right;\n",
       "    }\n",
       "</style>\n",
       "<table border=\"1\" class=\"dataframe\">\n",
       "  <thead>\n",
       "    <tr style=\"text-align: right;\">\n",
       "      <th></th>\n",
       "      <th>title</th>\n",
       "      <th>year</th>\n",
       "    </tr>\n",
       "  </thead>\n",
       "  <tbody>\n",
       "    <tr>\n",
       "      <th>49995</th>\n",
       "      <td>Rebel</td>\n",
       "      <td>1970</td>\n",
       "    </tr>\n",
       "    <tr>\n",
       "      <th>49996</th>\n",
       "      <td>Suzanne</td>\n",
       "      <td>1996</td>\n",
       "    </tr>\n",
       "    <tr>\n",
       "      <th>49997</th>\n",
       "      <td>Bomba</td>\n",
       "      <td>2013</td>\n",
       "    </tr>\n",
       "    <tr>\n",
       "      <th>49998</th>\n",
       "      <td>Aao Jao Ghar Tumhara</td>\n",
       "      <td>1984</td>\n",
       "    </tr>\n",
       "    <tr>\n",
       "      <th>49999</th>\n",
       "      <td>Mrs. Munck</td>\n",
       "      <td>1995</td>\n",
       "    </tr>\n",
       "  </tbody>\n",
       "</table>\n",
       "</div>"
      ],
      "text/plain": [
       "                      title  year\n",
       "49995                 Rebel  1970\n",
       "49996               Suzanne  1996\n",
       "49997                 Bomba  2013\n",
       "49998  Aao Jao Ghar Tumhara  1984\n",
       "49999            Mrs. Munck  1995"
      ]
     },
     "execution_count": 16,
     "metadata": {},
     "output_type": "execute_result"
    }
   ],
   "source": [
    "titles.tail()"
   ]
  },
  {
   "cell_type": "code",
   "execution_count": 4,
   "metadata": {},
   "outputs": [
    {
     "data": {
      "text/plain": [
       "title         object\n",
       "year           int64\n",
       "name          object\n",
       "type          object\n",
       "character     object\n",
       "n            float64\n",
       "dtype: object"
      ]
     },
     "execution_count": 4,
     "metadata": {},
     "output_type": "execute_result"
    }
   ],
   "source": [
    "casts.dtypes"
   ]
  },
  {
   "cell_type": "markdown",
   "metadata": {},
   "source": [
    "Vemos que se crea un indice por defecto"
   ]
  },
  {
   "cell_type": "code",
   "execution_count": 5,
   "metadata": {},
   "outputs": [
    {
     "data": {
      "text/plain": [
       "RangeIndex(start=0, stop=75001, step=1)"
      ]
     },
     "execution_count": 5,
     "metadata": {},
     "output_type": "execute_result"
    }
   ],
   "source": [
    "casts.index"
   ]
  },
  {
   "cell_type": "code",
   "execution_count": 6,
   "metadata": {},
   "outputs": [
    {
     "data": {
      "text/plain": [
       "Index(['title', 'year', 'name', 'type', 'character', 'n'], dtype='object')"
      ]
     },
     "execution_count": 6,
     "metadata": {},
     "output_type": "execute_result"
    }
   ],
   "source": [
    "casts.columns"
   ]
  },
  {
   "cell_type": "markdown",
   "metadata": {},
   "source": [
    "Por defecto cuando escribimos un DataFrame nos muestra las 5 primeras y 5 ultimas filas. Podemos cambiar este valor por defecto con `set_options`"
   ]
  },
  {
   "cell_type": "code",
   "execution_count": 19,
   "metadata": {},
   "outputs": [
    {
     "data": {
      "text/html": [
       "<div>\n",
       "<style scoped>\n",
       "    .dataframe tbody tr th:only-of-type {\n",
       "        vertical-align: middle;\n",
       "    }\n",
       "\n",
       "    .dataframe tbody tr th {\n",
       "        vertical-align: top;\n",
       "    }\n",
       "\n",
       "    .dataframe thead th {\n",
       "        text-align: right;\n",
       "    }\n",
       "</style>\n",
       "<table border=\"1\" class=\"dataframe\">\n",
       "  <thead>\n",
       "    <tr style=\"text-align: right;\">\n",
       "      <th></th>\n",
       "      <th>title</th>\n",
       "      <th>year</th>\n",
       "    </tr>\n",
       "  </thead>\n",
       "  <tbody>\n",
       "    <tr>\n",
       "      <th>0</th>\n",
       "      <td>The Rising Son</td>\n",
       "      <td>1990</td>\n",
       "    </tr>\n",
       "    <tr>\n",
       "      <th>1</th>\n",
       "      <td>The Thousand Plane Raid</td>\n",
       "      <td>1969</td>\n",
       "    </tr>\n",
       "    <tr>\n",
       "      <th>2</th>\n",
       "      <td>Crucea de piatra</td>\n",
       "      <td>1993</td>\n",
       "    </tr>\n",
       "    <tr>\n",
       "      <th>3</th>\n",
       "      <td>Country</td>\n",
       "      <td>2000</td>\n",
       "    </tr>\n",
       "    <tr>\n",
       "      <th>4</th>\n",
       "      <td>Gaiking II</td>\n",
       "      <td>2011</td>\n",
       "    </tr>\n",
       "    <tr>\n",
       "      <th>...</th>\n",
       "      <td>...</td>\n",
       "      <td>...</td>\n",
       "    </tr>\n",
       "    <tr>\n",
       "      <th>49995</th>\n",
       "      <td>Rebel</td>\n",
       "      <td>1970</td>\n",
       "    </tr>\n",
       "    <tr>\n",
       "      <th>49996</th>\n",
       "      <td>Suzanne</td>\n",
       "      <td>1996</td>\n",
       "    </tr>\n",
       "    <tr>\n",
       "      <th>49997</th>\n",
       "      <td>Bomba</td>\n",
       "      <td>2013</td>\n",
       "    </tr>\n",
       "    <tr>\n",
       "      <th>49998</th>\n",
       "      <td>Aao Jao Ghar Tumhara</td>\n",
       "      <td>1984</td>\n",
       "    </tr>\n",
       "    <tr>\n",
       "      <th>49999</th>\n",
       "      <td>Mrs. Munck</td>\n",
       "      <td>1995</td>\n",
       "    </tr>\n",
       "  </tbody>\n",
       "</table>\n",
       "<p>50000 rows × 2 columns</p>\n",
       "</div>"
      ],
      "text/plain": [
       "                         title  year\n",
       "0               The Rising Son  1990\n",
       "1      The Thousand Plane Raid  1969\n",
       "2             Crucea de piatra  1993\n",
       "3                      Country  2000\n",
       "4                   Gaiking II  2011\n",
       "...                        ...   ...\n",
       "49995                    Rebel  1970\n",
       "49996                  Suzanne  1996\n",
       "49997                    Bomba  2013\n",
       "49998     Aao Jao Ghar Tumhara  1984\n",
       "49999               Mrs. Munck  1995\n",
       "\n",
       "[50000 rows x 2 columns]"
      ]
     },
     "execution_count": 19,
     "metadata": {},
     "output_type": "execute_result"
    }
   ],
   "source": [
    "titles"
   ]
  },
  {
   "cell_type": "code",
   "execution_count": 22,
   "metadata": {},
   "outputs": [
    {
     "data": {
      "text/html": [
       "<div>\n",
       "<style scoped>\n",
       "    .dataframe tbody tr th:only-of-type {\n",
       "        vertical-align: middle;\n",
       "    }\n",
       "\n",
       "    .dataframe tbody tr th {\n",
       "        vertical-align: top;\n",
       "    }\n",
       "\n",
       "    .dataframe thead th {\n",
       "        text-align: right;\n",
       "    }\n",
       "</style>\n",
       "<table border=\"1\" class=\"dataframe\">\n",
       "  <thead>\n",
       "    <tr style=\"text-align: right;\">\n",
       "      <th></th>\n",
       "      <th>title</th>\n",
       "      <th>year</th>\n",
       "    </tr>\n",
       "  </thead>\n",
       "  <tbody>\n",
       "    <tr>\n",
       "      <th>0</th>\n",
       "      <td>The Rising Son</td>\n",
       "      <td>1990</td>\n",
       "    </tr>\n",
       "    <tr>\n",
       "      <th>1</th>\n",
       "      <td>The Thousand Plane Raid</td>\n",
       "      <td>1969</td>\n",
       "    </tr>\n",
       "    <tr>\n",
       "      <th>...</th>\n",
       "      <td>...</td>\n",
       "      <td>...</td>\n",
       "    </tr>\n",
       "    <tr>\n",
       "      <th>49998</th>\n",
       "      <td>Aao Jao Ghar Tumhara</td>\n",
       "      <td>1984</td>\n",
       "    </tr>\n",
       "    <tr>\n",
       "      <th>49999</th>\n",
       "      <td>Mrs. Munck</td>\n",
       "      <td>1995</td>\n",
       "    </tr>\n",
       "  </tbody>\n",
       "</table>\n",
       "<p>50000 rows × 2 columns</p>\n",
       "</div>"
      ],
      "text/plain": [
       "                         title  year\n",
       "0               The Rising Son  1990\n",
       "1      The Thousand Plane Raid  1969\n",
       "...                        ...   ...\n",
       "49998     Aao Jao Ghar Tumhara  1984\n",
       "49999               Mrs. Munck  1995\n",
       "\n",
       "[50000 rows x 2 columns]"
      ]
     },
     "execution_count": 22,
     "metadata": {},
     "output_type": "execute_result"
    }
   ],
   "source": [
    "pd.set_option('max_rows', 4, 'max_columns', 10)\n",
    "titles"
   ]
  },
  {
   "cell_type": "markdown",
   "metadata": {},
   "source": [
    "Numero de filas de un Dataframe"
   ]
  },
  {
   "cell_type": "code",
   "execution_count": 23,
   "metadata": {},
   "outputs": [
    {
     "data": {
      "text/plain": [
       "50000"
      ]
     },
     "execution_count": 23,
     "metadata": {},
     "output_type": "execute_result"
    }
   ],
   "source": [
    "len(titles)"
   ]
  },
  {
   "cell_type": "code",
   "execution_count": null,
   "metadata": {},
   "outputs": [],
   "source": []
  },
  {
   "cell_type": "code",
   "execution_count": 257,
   "metadata": {},
   "outputs": [
    {
     "data": {
      "text/html": [
       "<div>\n",
       "<style scoped>\n",
       "    .dataframe tbody tr th:only-of-type {\n",
       "        vertical-align: middle;\n",
       "    }\n",
       "\n",
       "    .dataframe tbody tr th {\n",
       "        vertical-align: top;\n",
       "    }\n",
       "\n",
       "    .dataframe thead th {\n",
       "        text-align: right;\n",
       "    }\n",
       "</style>\n",
       "<table border=\"1\" class=\"dataframe\">\n",
       "  <thead>\n",
       "    <tr style=\"text-align: right;\">\n",
       "      <th></th>\n",
       "      <th>0</th>\n",
       "      <th>1</th>\n",
       "      <th>2</th>\n",
       "      <th>3</th>\n",
       "      <th>4</th>\n",
       "    </tr>\n",
       "  </thead>\n",
       "  <tbody>\n",
       "    <tr>\n",
       "      <th>0</th>\n",
       "      <td>1</td>\n",
       "      <td>2</td>\n",
       "      <td>3</td>\n",
       "      <td>4</td>\n",
       "      <td>hello</td>\n",
       "    </tr>\n",
       "    <tr>\n",
       "      <th>1</th>\n",
       "      <td>5</td>\n",
       "      <td>6</td>\n",
       "      <td>7</td>\n",
       "      <td>8</td>\n",
       "      <td>world</td>\n",
       "    </tr>\n",
       "    <tr>\n",
       "      <th>2</th>\n",
       "      <td>9</td>\n",
       "      <td>10</td>\n",
       "      <td>11</td>\n",
       "      <td>12</td>\n",
       "      <td>foo</td>\n",
       "    </tr>\n",
       "  </tbody>\n",
       "</table>\n",
       "</div>"
      ],
      "text/plain": [
       "   0   1   2   3      4\n",
       "0  1   2   3   4  hello\n",
       "1  5   6   7   8  world\n",
       "2  9  10  11  12    foo"
      ]
     },
     "execution_count": 257,
     "metadata": {},
     "output_type": "execute_result"
    }
   ],
   "source": [
    "ex2=pd.read_csv('./data/ex2.csv', header=None)\n",
    "ex2"
   ]
  },
  {
   "cell_type": "code",
   "execution_count": 258,
   "metadata": {},
   "outputs": [
    {
     "data": {
      "text/html": [
       "<div>\n",
       "<style scoped>\n",
       "    .dataframe tbody tr th:only-of-type {\n",
       "        vertical-align: middle;\n",
       "    }\n",
       "\n",
       "    .dataframe tbody tr th {\n",
       "        vertical-align: top;\n",
       "    }\n",
       "\n",
       "    .dataframe thead th {\n",
       "        text-align: right;\n",
       "    }\n",
       "</style>\n",
       "<table border=\"1\" class=\"dataframe\">\n",
       "  <thead>\n",
       "    <tr style=\"text-align: right;\">\n",
       "      <th></th>\n",
       "      <th>a</th>\n",
       "      <th>b</th>\n",
       "      <th>c</th>\n",
       "      <th>d</th>\n",
       "      <th>message</th>\n",
       "    </tr>\n",
       "  </thead>\n",
       "  <tbody>\n",
       "    <tr>\n",
       "      <th>0</th>\n",
       "      <td>1</td>\n",
       "      <td>2</td>\n",
       "      <td>3</td>\n",
       "      <td>4</td>\n",
       "      <td>hello</td>\n",
       "    </tr>\n",
       "    <tr>\n",
       "      <th>1</th>\n",
       "      <td>5</td>\n",
       "      <td>6</td>\n",
       "      <td>7</td>\n",
       "      <td>8</td>\n",
       "      <td>world</td>\n",
       "    </tr>\n",
       "    <tr>\n",
       "      <th>2</th>\n",
       "      <td>9</td>\n",
       "      <td>10</td>\n",
       "      <td>11</td>\n",
       "      <td>12</td>\n",
       "      <td>foo</td>\n",
       "    </tr>\n",
       "  </tbody>\n",
       "</table>\n",
       "</div>"
      ],
      "text/plain": [
       "   a   b   c   d message\n",
       "0  1   2   3   4   hello\n",
       "1  5   6   7   8   world\n",
       "2  9  10  11  12     foo"
      ]
     },
     "execution_count": 258,
     "metadata": {},
     "output_type": "execute_result"
    }
   ],
   "source": [
    "ex2=pd.read_csv('./data/ex2.csv', names=['a', 'b', 'c', 'd', 'message'])\n",
    "ex2"
   ]
  },
  {
   "cell_type": "code",
   "execution_count": 259,
   "metadata": {},
   "outputs": [
    {
     "data": {
      "text/html": [
       "<div>\n",
       "<style scoped>\n",
       "    .dataframe tbody tr th:only-of-type {\n",
       "        vertical-align: middle;\n",
       "    }\n",
       "\n",
       "    .dataframe tbody tr th {\n",
       "        vertical-align: top;\n",
       "    }\n",
       "\n",
       "    .dataframe thead th {\n",
       "        text-align: right;\n",
       "    }\n",
       "</style>\n",
       "<table border=\"1\" class=\"dataframe\">\n",
       "  <thead>\n",
       "    <tr style=\"text-align: right;\">\n",
       "      <th></th>\n",
       "      <th>a</th>\n",
       "      <th>b</th>\n",
       "      <th>c</th>\n",
       "      <th>d</th>\n",
       "    </tr>\n",
       "    <tr>\n",
       "      <th>message</th>\n",
       "      <th></th>\n",
       "      <th></th>\n",
       "      <th></th>\n",
       "      <th></th>\n",
       "    </tr>\n",
       "  </thead>\n",
       "  <tbody>\n",
       "    <tr>\n",
       "      <th>hello</th>\n",
       "      <td>1</td>\n",
       "      <td>2</td>\n",
       "      <td>3</td>\n",
       "      <td>4</td>\n",
       "    </tr>\n",
       "    <tr>\n",
       "      <th>world</th>\n",
       "      <td>5</td>\n",
       "      <td>6</td>\n",
       "      <td>7</td>\n",
       "      <td>8</td>\n",
       "    </tr>\n",
       "    <tr>\n",
       "      <th>foo</th>\n",
       "      <td>9</td>\n",
       "      <td>10</td>\n",
       "      <td>11</td>\n",
       "      <td>12</td>\n",
       "    </tr>\n",
       "  </tbody>\n",
       "</table>\n",
       "</div>"
      ],
      "text/plain": [
       "         a   b   c   d\n",
       "message               \n",
       "hello    1   2   3   4\n",
       "world    5   6   7   8\n",
       "foo      9  10  11  12"
      ]
     },
     "execution_count": 259,
     "metadata": {},
     "output_type": "execute_result"
    }
   ],
   "source": [
    "ex2=pd.read_csv('./data/ex2.csv', names=['a', 'b', 'c', 'd', 'message'], index_col='message')\n",
    "ex2"
   ]
  },
  {
   "cell_type": "markdown",
   "metadata": {},
   "source": [
    "## 1.2 Escribe datos"
   ]
  },
  {
   "cell_type": "code",
   "execution_count": 262,
   "metadata": {},
   "outputs": [],
   "source": [
    "ex2.to_csv('d_out2.csv', header=False, index=False)"
   ]
  },
  {
   "cell_type": "code",
   "execution_count": 263,
   "metadata": {},
   "outputs": [],
   "source": [
    "ex2.to_csv('d_out21.csv', header=True, index=False)"
   ]
  },
  {
   "cell_type": "code",
   "execution_count": 264,
   "metadata": {},
   "outputs": [],
   "source": [
    "ex2.to_csv('d_out22.csv', header=True, index=True)"
   ]
  },
  {
   "cell_type": "markdown",
   "metadata": {},
   "source": [
    "# 2. Operaciones\n",
    "## 2.1 Selecciona elementos"
   ]
  },
  {
   "cell_type": "markdown",
   "metadata": {},
   "source": [
    "Obtiene un Series con la columna title"
   ]
  },
  {
   "cell_type": "code",
   "execution_count": 25,
   "metadata": {},
   "outputs": [
    {
     "data": {
      "text/plain": [
       "pandas.core.series.Series"
      ]
     },
     "execution_count": 25,
     "metadata": {},
     "output_type": "execute_result"
    }
   ],
   "source": [
    "t = titles['title']\n",
    "type(t)"
   ]
  },
  {
   "cell_type": "code",
   "execution_count": 26,
   "metadata": {},
   "outputs": [
    {
     "data": {
      "text/plain": [
       "0             The Rising Son\n",
       "1    The Thousand Plane Raid\n",
       "              ...           \n",
       "3                    Country\n",
       "4                 Gaiking II\n",
       "Name: title, Length: 5, dtype: object"
      ]
     },
     "execution_count": 26,
     "metadata": {},
     "output_type": "execute_result"
    }
   ],
   "source": [
    "t.head()"
   ]
  },
  {
   "cell_type": "markdown",
   "metadata": {},
   "source": [
    "Accede a un valor por posicion. Aqui accedemos a la cuarta posicion"
   ]
  },
  {
   "cell_type": "code",
   "execution_count": 28,
   "metadata": {},
   "outputs": [
    {
     "data": {
      "text/plain": [
       "title    Country\n",
       "year        2000\n",
       "Name: 3, dtype: object"
      ]
     },
     "execution_count": 28,
     "metadata": {},
     "output_type": "execute_result"
    }
   ],
   "source": [
    "titles.iloc[3]"
   ]
  },
  {
   "cell_type": "code",
   "execution_count": 30,
   "metadata": {},
   "outputs": [
    {
     "data": {
      "text/html": [
       "<div>\n",
       "<style scoped>\n",
       "    .dataframe tbody tr th:only-of-type {\n",
       "        vertical-align: middle;\n",
       "    }\n",
       "\n",
       "    .dataframe tbody tr th {\n",
       "        vertical-align: top;\n",
       "    }\n",
       "\n",
       "    .dataframe thead th {\n",
       "        text-align: right;\n",
       "    }\n",
       "</style>\n",
       "<table border=\"1\" class=\"dataframe\">\n",
       "  <thead>\n",
       "    <tr style=\"text-align: right;\">\n",
       "      <th></th>\n",
       "      <th>title</th>\n",
       "      <th>year</th>\n",
       "    </tr>\n",
       "  </thead>\n",
       "  <tbody>\n",
       "    <tr>\n",
       "      <th>3</th>\n",
       "      <td>Country</td>\n",
       "      <td>2000</td>\n",
       "    </tr>\n",
       "    <tr>\n",
       "      <th>4</th>\n",
       "      <td>Gaiking II</td>\n",
       "      <td>2011</td>\n",
       "    </tr>\n",
       "  </tbody>\n",
       "</table>\n",
       "</div>"
      ],
      "text/plain": [
       "        title  year\n",
       "3     Country  2000\n",
       "4  Gaiking II  2011"
      ]
     },
     "execution_count": 30,
     "metadata": {},
     "output_type": "execute_result"
    }
   ],
   "source": [
    "titles.iloc[3:5]"
   ]
  },
  {
   "cell_type": "markdown",
   "metadata": {},
   "source": [
    "Podemos usar el indice para acceder a una posicion"
   ]
  },
  {
   "cell_type": "code",
   "execution_count": 32,
   "metadata": {},
   "outputs": [
    {
     "data": {
      "text/plain": [
       "title    Country\n",
       "year        2000\n",
       "Name: 3, dtype: object"
      ]
     },
     "execution_count": 32,
     "metadata": {},
     "output_type": "execute_result"
    }
   ],
   "source": [
    "titles.loc[3]"
   ]
  },
  {
   "cell_type": "markdown",
   "metadata": {},
   "source": [
    "Creamos un indice. Ahora la cuarta fila se corresponde con el valor del indice 4:"
   ]
  },
  {
   "cell_type": "code",
   "execution_count": 39,
   "metadata": {},
   "outputs": [
    {
     "data": {
      "text/plain": [
       "title    Country\n",
       "year        2000\n",
       "Name: 4, dtype: object"
      ]
     },
     "execution_count": 39,
     "metadata": {},
     "output_type": "execute_result"
    }
   ],
   "source": [
    "titles.index=np.arange(len(titles))+1\n",
    "titles.loc[4]"
   ]
  },
  {
   "cell_type": "code",
   "execution_count": 45,
   "metadata": {},
   "outputs": [
    {
     "data": {
      "text/html": [
       "<div>\n",
       "<style scoped>\n",
       "    .dataframe tbody tr th:only-of-type {\n",
       "        vertical-align: middle;\n",
       "    }\n",
       "\n",
       "    .dataframe tbody tr th {\n",
       "        vertical-align: top;\n",
       "    }\n",
       "\n",
       "    .dataframe thead th {\n",
       "        text-align: right;\n",
       "    }\n",
       "</style>\n",
       "<table border=\"1\" class=\"dataframe\">\n",
       "  <thead>\n",
       "    <tr style=\"text-align: right;\">\n",
       "      <th></th>\n",
       "      <th>title</th>\n",
       "      <th>year</th>\n",
       "    </tr>\n",
       "  </thead>\n",
       "  <tbody>\n",
       "    <tr>\n",
       "      <th>3</th>\n",
       "      <td>Crucea de piatra</td>\n",
       "      <td>1993</td>\n",
       "    </tr>\n",
       "    <tr>\n",
       "      <th>4</th>\n",
       "      <td>Country</td>\n",
       "      <td>2000</td>\n",
       "    </tr>\n",
       "    <tr>\n",
       "      <th>5</th>\n",
       "      <td>Gaiking II</td>\n",
       "      <td>2011</td>\n",
       "    </tr>\n",
       "  </tbody>\n",
       "</table>\n",
       "</div>"
      ],
      "text/plain": [
       "              title  year\n",
       "3  Crucea de piatra  1993\n",
       "4           Country  2000\n",
       "5        Gaiking II  2011"
      ]
     },
     "execution_count": 45,
     "metadata": {},
     "output_type": "execute_result"
    }
   ],
   "source": [
    "titles.iloc[2:5,:]"
   ]
  },
  {
   "cell_type": "code",
   "execution_count": 44,
   "metadata": {},
   "outputs": [
    {
     "data": {
      "text/html": [
       "<div>\n",
       "<style scoped>\n",
       "    .dataframe tbody tr th:only-of-type {\n",
       "        vertical-align: middle;\n",
       "    }\n",
       "\n",
       "    .dataframe tbody tr th {\n",
       "        vertical-align: top;\n",
       "    }\n",
       "\n",
       "    .dataframe thead th {\n",
       "        text-align: right;\n",
       "    }\n",
       "</style>\n",
       "<table border=\"1\" class=\"dataframe\">\n",
       "  <thead>\n",
       "    <tr style=\"text-align: right;\">\n",
       "      <th></th>\n",
       "      <th>title</th>\n",
       "      <th>year</th>\n",
       "    </tr>\n",
       "  </thead>\n",
       "  <tbody>\n",
       "    <tr>\n",
       "      <th>2</th>\n",
       "      <td>The Thousand Plane Raid</td>\n",
       "      <td>1969</td>\n",
       "    </tr>\n",
       "    <tr>\n",
       "      <th>3</th>\n",
       "      <td>Crucea de piatra</td>\n",
       "      <td>1993</td>\n",
       "    </tr>\n",
       "    <tr>\n",
       "      <th>4</th>\n",
       "      <td>Country</td>\n",
       "      <td>2000</td>\n",
       "    </tr>\n",
       "    <tr>\n",
       "      <th>5</th>\n",
       "      <td>Gaiking II</td>\n",
       "      <td>2011</td>\n",
       "    </tr>\n",
       "  </tbody>\n",
       "</table>\n",
       "</div>"
      ],
      "text/plain": [
       "                     title  year\n",
       "2  The Thousand Plane Raid  1969\n",
       "3         Crucea de piatra  1993\n",
       "4                  Country  2000\n",
       "5               Gaiking II  2011"
      ]
     },
     "execution_count": 44,
     "metadata": {},
     "output_type": "execute_result"
    }
   ],
   "source": [
    "titles.loc[2:5,:]"
   ]
  },
  {
   "cell_type": "markdown",
   "metadata": {},
   "source": [
    "Seleccionamos unas posiciones \"sueltas\""
   ]
  },
  {
   "cell_type": "code",
   "execution_count": 46,
   "metadata": {},
   "outputs": [
    {
     "data": {
      "text/html": [
       "<div>\n",
       "<style scoped>\n",
       "    .dataframe tbody tr th:only-of-type {\n",
       "        vertical-align: middle;\n",
       "    }\n",
       "\n",
       "    .dataframe tbody tr th {\n",
       "        vertical-align: top;\n",
       "    }\n",
       "\n",
       "    .dataframe thead th {\n",
       "        text-align: right;\n",
       "    }\n",
       "</style>\n",
       "<table border=\"1\" class=\"dataframe\">\n",
       "  <thead>\n",
       "    <tr style=\"text-align: right;\">\n",
       "      <th></th>\n",
       "      <th>title</th>\n",
       "      <th>year</th>\n",
       "    </tr>\n",
       "  </thead>\n",
       "  <tbody>\n",
       "    <tr>\n",
       "      <th>2</th>\n",
       "      <td>The Thousand Plane Raid</td>\n",
       "      <td>1969</td>\n",
       "    </tr>\n",
       "    <tr>\n",
       "      <th>4</th>\n",
       "      <td>Country</td>\n",
       "      <td>2000</td>\n",
       "    </tr>\n",
       "    <tr>\n",
       "      <th>6</th>\n",
       "      <td>Medusa (IV)</td>\n",
       "      <td>2015</td>\n",
       "    </tr>\n",
       "  </tbody>\n",
       "</table>\n",
       "</div>"
      ],
      "text/plain": [
       "                     title  year\n",
       "2  The Thousand Plane Raid  1969\n",
       "4                  Country  2000\n",
       "6              Medusa (IV)  2015"
      ]
     },
     "execution_count": 46,
     "metadata": {},
     "output_type": "execute_result"
    }
   ],
   "source": [
    "titles.loc[[2,4,6],:]"
   ]
  },
  {
   "cell_type": "code",
   "execution_count": 47,
   "metadata": {},
   "outputs": [
    {
     "data": {
      "text/html": [
       "<div>\n",
       "<style scoped>\n",
       "    .dataframe tbody tr th:only-of-type {\n",
       "        vertical-align: middle;\n",
       "    }\n",
       "\n",
       "    .dataframe tbody tr th {\n",
       "        vertical-align: top;\n",
       "    }\n",
       "\n",
       "    .dataframe thead th {\n",
       "        text-align: right;\n",
       "    }\n",
       "</style>\n",
       "<table border=\"1\" class=\"dataframe\">\n",
       "  <thead>\n",
       "    <tr style=\"text-align: right;\">\n",
       "      <th></th>\n",
       "      <th>title</th>\n",
       "      <th>year</th>\n",
       "    </tr>\n",
       "  </thead>\n",
       "  <tbody>\n",
       "    <tr>\n",
       "      <th>3</th>\n",
       "      <td>Crucea de piatra</td>\n",
       "      <td>1993</td>\n",
       "    </tr>\n",
       "    <tr>\n",
       "      <th>5</th>\n",
       "      <td>Gaiking II</td>\n",
       "      <td>2011</td>\n",
       "    </tr>\n",
       "    <tr>\n",
       "      <th>7</th>\n",
       "      <td>The Fresh Air Will Do You Good</td>\n",
       "      <td>2008</td>\n",
       "    </tr>\n",
       "  </tbody>\n",
       "</table>\n",
       "</div>"
      ],
      "text/plain": [
       "                            title  year\n",
       "3                Crucea de piatra  1993\n",
       "5                      Gaiking II  2011\n",
       "7  The Fresh Air Will Do You Good  2008"
      ]
     },
     "execution_count": 47,
     "metadata": {},
     "output_type": "execute_result"
    }
   ],
   "source": [
    "titles.iloc[[2,4,6],:]"
   ]
  },
  {
   "cell_type": "markdown",
   "metadata": {},
   "source": [
    "Podemos utilizar las columnas como hemos usado el indice. Es decir, podemos seleccionar una columna concreta, un rango de columnas, o una lista de columnas"
   ]
  },
  {
   "cell_type": "code",
   "execution_count": 48,
   "metadata": {},
   "outputs": [
    {
     "data": {
      "text/plain": [
       "2    The Thousand Plane Raid\n",
       "4                    Country\n",
       "6                Medusa (IV)\n",
       "Name: title, dtype: object"
      ]
     },
     "execution_count": 48,
     "metadata": {},
     "output_type": "execute_result"
    }
   ],
   "source": [
    "titles.loc[[2,4,6],'title']"
   ]
  },
  {
   "cell_type": "code",
   "execution_count": 65,
   "metadata": {},
   "outputs": [
    {
     "data": {
      "text/plain": [
       "2    The Thousand Plane Raid\n",
       "4                    Country\n",
       "6                Medusa (IV)\n",
       "Name: title, dtype: object"
      ]
     },
     "execution_count": 65,
     "metadata": {},
     "output_type": "execute_result"
    }
   ],
   "source": [
    "titles.iloc[[1,3,5],0]"
   ]
  },
  {
   "cell_type": "code",
   "execution_count": 49,
   "metadata": {},
   "outputs": [
    {
     "data": {
      "text/html": [
       "<div>\n",
       "<style scoped>\n",
       "    .dataframe tbody tr th:only-of-type {\n",
       "        vertical-align: middle;\n",
       "    }\n",
       "\n",
       "    .dataframe tbody tr th {\n",
       "        vertical-align: top;\n",
       "    }\n",
       "\n",
       "    .dataframe thead th {\n",
       "        text-align: right;\n",
       "    }\n",
       "</style>\n",
       "<table border=\"1\" class=\"dataframe\">\n",
       "  <thead>\n",
       "    <tr style=\"text-align: right;\">\n",
       "      <th></th>\n",
       "      <th>title</th>\n",
       "      <th>year</th>\n",
       "    </tr>\n",
       "  </thead>\n",
       "  <tbody>\n",
       "    <tr>\n",
       "      <th>2</th>\n",
       "      <td>The Thousand Plane Raid</td>\n",
       "      <td>1969</td>\n",
       "    </tr>\n",
       "    <tr>\n",
       "      <th>4</th>\n",
       "      <td>Country</td>\n",
       "      <td>2000</td>\n",
       "    </tr>\n",
       "    <tr>\n",
       "      <th>6</th>\n",
       "      <td>Medusa (IV)</td>\n",
       "      <td>2015</td>\n",
       "    </tr>\n",
       "  </tbody>\n",
       "</table>\n",
       "</div>"
      ],
      "text/plain": [
       "                     title  year\n",
       "2  The Thousand Plane Raid  1969\n",
       "4                  Country  2000\n",
       "6              Medusa (IV)  2015"
      ]
     },
     "execution_count": 49,
     "metadata": {},
     "output_type": "execute_result"
    }
   ],
   "source": [
    "titles.loc[[2,4,6],'title':'year']"
   ]
  },
  {
   "cell_type": "code",
   "execution_count": 67,
   "metadata": {},
   "outputs": [
    {
     "data": {
      "text/html": [
       "<div>\n",
       "<style scoped>\n",
       "    .dataframe tbody tr th:only-of-type {\n",
       "        vertical-align: middle;\n",
       "    }\n",
       "\n",
       "    .dataframe tbody tr th {\n",
       "        vertical-align: top;\n",
       "    }\n",
       "\n",
       "    .dataframe thead th {\n",
       "        text-align: right;\n",
       "    }\n",
       "</style>\n",
       "<table border=\"1\" class=\"dataframe\">\n",
       "  <thead>\n",
       "    <tr style=\"text-align: right;\">\n",
       "      <th></th>\n",
       "      <th>title</th>\n",
       "    </tr>\n",
       "  </thead>\n",
       "  <tbody>\n",
       "    <tr>\n",
       "      <th>2</th>\n",
       "      <td>The Thousand Plane Raid</td>\n",
       "    </tr>\n",
       "    <tr>\n",
       "      <th>4</th>\n",
       "      <td>Country</td>\n",
       "    </tr>\n",
       "    <tr>\n",
       "      <th>6</th>\n",
       "      <td>Medusa (IV)</td>\n",
       "    </tr>\n",
       "  </tbody>\n",
       "</table>\n",
       "</div>"
      ],
      "text/plain": [
       "                     title\n",
       "2  The Thousand Plane Raid\n",
       "4                  Country\n",
       "6              Medusa (IV)"
      ]
     },
     "execution_count": 67,
     "metadata": {},
     "output_type": "execute_result"
    }
   ],
   "source": [
    "titles.iloc[[1,3,5],0:1]"
   ]
  },
  {
   "cell_type": "code",
   "execution_count": 51,
   "metadata": {},
   "outputs": [
    {
     "data": {
      "text/html": [
       "<div>\n",
       "<style scoped>\n",
       "    .dataframe tbody tr th:only-of-type {\n",
       "        vertical-align: middle;\n",
       "    }\n",
       "\n",
       "    .dataframe tbody tr th {\n",
       "        vertical-align: top;\n",
       "    }\n",
       "\n",
       "    .dataframe thead th {\n",
       "        text-align: right;\n",
       "    }\n",
       "</style>\n",
       "<table border=\"1\" class=\"dataframe\">\n",
       "  <thead>\n",
       "    <tr style=\"text-align: right;\">\n",
       "      <th></th>\n",
       "      <th>title</th>\n",
       "      <th>year</th>\n",
       "    </tr>\n",
       "  </thead>\n",
       "  <tbody>\n",
       "    <tr>\n",
       "      <th>2</th>\n",
       "      <td>The Thousand Plane Raid</td>\n",
       "      <td>1969</td>\n",
       "    </tr>\n",
       "    <tr>\n",
       "      <th>4</th>\n",
       "      <td>Country</td>\n",
       "      <td>2000</td>\n",
       "    </tr>\n",
       "    <tr>\n",
       "      <th>6</th>\n",
       "      <td>Medusa (IV)</td>\n",
       "      <td>2015</td>\n",
       "    </tr>\n",
       "  </tbody>\n",
       "</table>\n",
       "</div>"
      ],
      "text/plain": [
       "                     title  year\n",
       "2  The Thousand Plane Raid  1969\n",
       "4                  Country  2000\n",
       "6              Medusa (IV)  2015"
      ]
     },
     "execution_count": 51,
     "metadata": {},
     "output_type": "execute_result"
    }
   ],
   "source": [
    "titles.loc[[2,4,6],['title','year']]"
   ]
  },
  {
   "cell_type": "code",
   "execution_count": 68,
   "metadata": {},
   "outputs": [
    {
     "data": {
      "text/html": [
       "<div>\n",
       "<style scoped>\n",
       "    .dataframe tbody tr th:only-of-type {\n",
       "        vertical-align: middle;\n",
       "    }\n",
       "\n",
       "    .dataframe tbody tr th {\n",
       "        vertical-align: top;\n",
       "    }\n",
       "\n",
       "    .dataframe thead th {\n",
       "        text-align: right;\n",
       "    }\n",
       "</style>\n",
       "<table border=\"1\" class=\"dataframe\">\n",
       "  <thead>\n",
       "    <tr style=\"text-align: right;\">\n",
       "      <th></th>\n",
       "      <th>title</th>\n",
       "      <th>year</th>\n",
       "    </tr>\n",
       "  </thead>\n",
       "  <tbody>\n",
       "    <tr>\n",
       "      <th>2</th>\n",
       "      <td>The Thousand Plane Raid</td>\n",
       "      <td>1969</td>\n",
       "    </tr>\n",
       "    <tr>\n",
       "      <th>4</th>\n",
       "      <td>Country</td>\n",
       "      <td>2000</td>\n",
       "    </tr>\n",
       "    <tr>\n",
       "      <th>6</th>\n",
       "      <td>Medusa (IV)</td>\n",
       "      <td>2015</td>\n",
       "    </tr>\n",
       "  </tbody>\n",
       "</table>\n",
       "</div>"
      ],
      "text/plain": [
       "                     title  year\n",
       "2  The Thousand Plane Raid  1969\n",
       "4                  Country  2000\n",
       "6              Medusa (IV)  2015"
      ]
     },
     "execution_count": 68,
     "metadata": {},
     "output_type": "execute_result"
    }
   ],
   "source": [
    "titles.iloc[[1,3,5],[0,1]]"
   ]
  },
  {
   "cell_type": "markdown",
   "metadata": {},
   "source": [
    "Podemos hacer lo mismo con una Serie"
   ]
  },
  {
   "cell_type": "code",
   "execution_count": 42,
   "metadata": {},
   "outputs": [
    {
     "data": {
      "text/plain": [
       "'Country'"
      ]
     },
     "execution_count": 42,
     "metadata": {},
     "output_type": "execute_result"
    }
   ],
   "source": [
    "t.iloc[3]"
   ]
  },
  {
   "cell_type": "code",
   "execution_count": 43,
   "metadata": {},
   "outputs": [
    {
     "data": {
      "text/plain": [
       "4     Gaiking II\n",
       "5    Medusa (IV)\n",
       "Name: title, dtype: object"
      ]
     },
     "execution_count": 43,
     "metadata": {},
     "output_type": "execute_result"
    }
   ],
   "source": [
    "t.loc[4:5]"
   ]
  },
  {
   "cell_type": "markdown",
   "metadata": {},
   "source": [
    "## 2.2 Selecciona una posicion"
   ]
  },
  {
   "cell_type": "code",
   "execution_count": 58,
   "metadata": {},
   "outputs": [
    {
     "data": {
      "text/plain": [
       "'Crucea de piatra'"
      ]
     },
     "execution_count": 58,
     "metadata": {},
     "output_type": "execute_result"
    }
   ],
   "source": [
    "titles.at[3,'title']"
   ]
  },
  {
   "cell_type": "code",
   "execution_count": 64,
   "metadata": {},
   "outputs": [
    {
     "data": {
      "text/plain": [
       "'Crucea de piatra'"
      ]
     },
     "execution_count": 64,
     "metadata": {},
     "output_type": "execute_result"
    }
   ],
   "source": [
    "titles.iat[2,0]"
   ]
  },
  {
   "cell_type": "markdown",
   "metadata": {},
   "source": [
    "## 2.3 Filtra Datos"
   ]
  },
  {
   "cell_type": "code",
   "execution_count": 69,
   "metadata": {},
   "outputs": [
    {
     "data": {
      "text/html": [
       "<div>\n",
       "<style scoped>\n",
       "    .dataframe tbody tr th:only-of-type {\n",
       "        vertical-align: middle;\n",
       "    }\n",
       "\n",
       "    .dataframe tbody tr th {\n",
       "        vertical-align: top;\n",
       "    }\n",
       "\n",
       "    .dataframe thead th {\n",
       "        text-align: right;\n",
       "    }\n",
       "</style>\n",
       "<table border=\"1\" class=\"dataframe\">\n",
       "  <thead>\n",
       "    <tr style=\"text-align: right;\">\n",
       "      <th></th>\n",
       "      <th>title</th>\n",
       "      <th>year</th>\n",
       "    </tr>\n",
       "  </thead>\n",
       "  <tbody>\n",
       "    <tr>\n",
       "      <th>1</th>\n",
       "      <td>The Rising Son</td>\n",
       "      <td>1990</td>\n",
       "    </tr>\n",
       "    <tr>\n",
       "      <th>3</th>\n",
       "      <td>Crucea de piatra</td>\n",
       "      <td>1993</td>\n",
       "    </tr>\n",
       "    <tr>\n",
       "      <th>...</th>\n",
       "      <td>...</td>\n",
       "      <td>...</td>\n",
       "    </tr>\n",
       "    <tr>\n",
       "      <th>5</th>\n",
       "      <td>Gaiking II</td>\n",
       "      <td>2011</td>\n",
       "    </tr>\n",
       "    <tr>\n",
       "      <th>6</th>\n",
       "      <td>Medusa (IV)</td>\n",
       "      <td>2015</td>\n",
       "    </tr>\n",
       "  </tbody>\n",
       "</table>\n",
       "<p>5 rows × 2 columns</p>\n",
       "</div>"
      ],
      "text/plain": [
       "               title  year\n",
       "1     The Rising Son  1990\n",
       "3   Crucea de piatra  1993\n",
       "..               ...   ...\n",
       "5         Gaiking II  2011\n",
       "6        Medusa (IV)  2015\n",
       "\n",
       "[5 rows x 2 columns]"
      ]
     },
     "execution_count": 69,
     "metadata": {},
     "output_type": "execute_result"
    }
   ],
   "source": [
    "after85 = titles[titles['year'] > 1985]\n",
    "after85.head()"
   ]
  },
  {
   "cell_type": "markdown",
   "metadata": {},
   "source": [
    "Podemos usar and y or: "
   ]
  },
  {
   "cell_type": "code",
   "execution_count": 70,
   "metadata": {},
   "outputs": [
    {
     "data": {
      "text/html": [
       "<div>\n",
       "<style scoped>\n",
       "    .dataframe tbody tr th:only-of-type {\n",
       "        vertical-align: middle;\n",
       "    }\n",
       "\n",
       "    .dataframe tbody tr th {\n",
       "        vertical-align: top;\n",
       "    }\n",
       "\n",
       "    .dataframe thead th {\n",
       "        text-align: right;\n",
       "    }\n",
       "</style>\n",
       "<table border=\"1\" class=\"dataframe\">\n",
       "  <thead>\n",
       "    <tr style=\"text-align: right;\">\n",
       "      <th></th>\n",
       "      <th>title</th>\n",
       "      <th>year</th>\n",
       "    </tr>\n",
       "  </thead>\n",
       "  <tbody>\n",
       "    <tr>\n",
       "      <th>1</th>\n",
       "      <td>The Rising Son</td>\n",
       "      <td>1990</td>\n",
       "    </tr>\n",
       "    <tr>\n",
       "      <th>3</th>\n",
       "      <td>Crucea de piatra</td>\n",
       "      <td>1993</td>\n",
       "    </tr>\n",
       "    <tr>\n",
       "      <th>...</th>\n",
       "      <td>...</td>\n",
       "      <td>...</td>\n",
       "    </tr>\n",
       "    <tr>\n",
       "      <th>20</th>\n",
       "      <td>Maa Durga Shakti</td>\n",
       "      <td>1999</td>\n",
       "    </tr>\n",
       "    <tr>\n",
       "      <th>25</th>\n",
       "      <td>Conflict of Interest</td>\n",
       "      <td>1993</td>\n",
       "    </tr>\n",
       "  </tbody>\n",
       "</table>\n",
       "<p>5 rows × 2 columns</p>\n",
       "</div>"
      ],
      "text/plain": [
       "                   title  year\n",
       "1         The Rising Son  1990\n",
       "3       Crucea de piatra  1993\n",
       "..                   ...   ...\n",
       "20      Maa Durga Shakti  1999\n",
       "25  Conflict of Interest  1993\n",
       "\n",
       "[5 rows x 2 columns]"
      ]
     },
     "execution_count": 70,
     "metadata": {},
     "output_type": "execute_result"
    }
   ],
   "source": [
    "t = titles\n",
    "movies90 = t[ (t['year']>=1990) & (t['year']<2000) ]\n",
    "movies90.head()"
   ]
  },
  {
   "cell_type": "markdown",
   "metadata": {},
   "source": [
    "## 2.4 Ordenar"
   ]
  },
  {
   "cell_type": "code",
   "execution_count": 72,
   "metadata": {},
   "outputs": [
    {
     "data": {
      "text/html": [
       "<div>\n",
       "<style scoped>\n",
       "    .dataframe tbody tr th:only-of-type {\n",
       "        vertical-align: middle;\n",
       "    }\n",
       "\n",
       "    .dataframe tbody tr th {\n",
       "        vertical-align: top;\n",
       "    }\n",
       "\n",
       "    .dataframe thead th {\n",
       "        text-align: right;\n",
       "    }\n",
       "</style>\n",
       "<table border=\"1\" class=\"dataframe\">\n",
       "  <thead>\n",
       "    <tr style=\"text-align: right;\">\n",
       "      <th></th>\n",
       "      <th>title</th>\n",
       "      <th>year</th>\n",
       "    </tr>\n",
       "  </thead>\n",
       "  <tbody>\n",
       "    <tr>\n",
       "      <th>4227</th>\n",
       "      <td>Macbeth</td>\n",
       "      <td>1913</td>\n",
       "    </tr>\n",
       "    <tr>\n",
       "      <th>9323</th>\n",
       "      <td>Macbeth</td>\n",
       "      <td>2006</td>\n",
       "    </tr>\n",
       "    <tr>\n",
       "      <th>...</th>\n",
       "      <td>...</td>\n",
       "      <td>...</td>\n",
       "    </tr>\n",
       "    <tr>\n",
       "      <th>17167</th>\n",
       "      <td>Macbeth</td>\n",
       "      <td>1997</td>\n",
       "    </tr>\n",
       "    <tr>\n",
       "      <th>25848</th>\n",
       "      <td>Macbeth</td>\n",
       "      <td>1998</td>\n",
       "    </tr>\n",
       "  </tbody>\n",
       "</table>\n",
       "<p>5 rows × 2 columns</p>\n",
       "</div>"
      ],
      "text/plain": [
       "         title  year\n",
       "4227   Macbeth  1913\n",
       "9323   Macbeth  2006\n",
       "...        ...   ...\n",
       "17167  Macbeth  1997\n",
       "25848  Macbeth  1998\n",
       "\n",
       "[5 rows x 2 columns]"
      ]
     },
     "execution_count": 72,
     "metadata": {},
     "output_type": "execute_result"
    }
   ],
   "source": [
    "macbeth = t[ t['title'] == 'Macbeth']\n",
    "macbeth.head()"
   ]
  },
  {
   "cell_type": "markdown",
   "metadata": {},
   "source": [
    "Ordenamos por indice"
   ]
  },
  {
   "cell_type": "code",
   "execution_count": 73,
   "metadata": {},
   "outputs": [
    {
     "data": {
      "text/html": [
       "<div>\n",
       "<style scoped>\n",
       "    .dataframe tbody tr th:only-of-type {\n",
       "        vertical-align: middle;\n",
       "    }\n",
       "\n",
       "    .dataframe tbody tr th {\n",
       "        vertical-align: top;\n",
       "    }\n",
       "\n",
       "    .dataframe thead th {\n",
       "        text-align: right;\n",
       "    }\n",
       "</style>\n",
       "<table border=\"1\" class=\"dataframe\">\n",
       "  <thead>\n",
       "    <tr style=\"text-align: right;\">\n",
       "      <th></th>\n",
       "      <th>title</th>\n",
       "      <th>year</th>\n",
       "    </tr>\n",
       "  </thead>\n",
       "  <tbody>\n",
       "    <tr>\n",
       "      <th>4227</th>\n",
       "      <td>Macbeth</td>\n",
       "      <td>1913</td>\n",
       "    </tr>\n",
       "    <tr>\n",
       "      <th>9323</th>\n",
       "      <td>Macbeth</td>\n",
       "      <td>2006</td>\n",
       "    </tr>\n",
       "    <tr>\n",
       "      <th>...</th>\n",
       "      <td>...</td>\n",
       "      <td>...</td>\n",
       "    </tr>\n",
       "    <tr>\n",
       "      <th>17167</th>\n",
       "      <td>Macbeth</td>\n",
       "      <td>1997</td>\n",
       "    </tr>\n",
       "    <tr>\n",
       "      <th>25848</th>\n",
       "      <td>Macbeth</td>\n",
       "      <td>1998</td>\n",
       "    </tr>\n",
       "  </tbody>\n",
       "</table>\n",
       "<p>5 rows × 2 columns</p>\n",
       "</div>"
      ],
      "text/plain": [
       "         title  year\n",
       "4227   Macbeth  1913\n",
       "9323   Macbeth  2006\n",
       "...        ...   ...\n",
       "17167  Macbeth  1997\n",
       "25848  Macbeth  1998\n",
       "\n",
       "[5 rows x 2 columns]"
      ]
     },
     "execution_count": 73,
     "metadata": {},
     "output_type": "execute_result"
    }
   ],
   "source": [
    "macbeth = t[ t['title'] == 'Macbeth'].sort_index()\n",
    "macbeth.head()"
   ]
  },
  {
   "cell_type": "markdown",
   "metadata": {},
   "source": [
    "Ordenamos por valor. En este caso por la serie `year`"
   ]
  },
  {
   "cell_type": "code",
   "execution_count": 75,
   "metadata": {},
   "outputs": [
    {
     "data": {
      "text/html": [
       "<div>\n",
       "<style scoped>\n",
       "    .dataframe tbody tr th:only-of-type {\n",
       "        vertical-align: middle;\n",
       "    }\n",
       "\n",
       "    .dataframe tbody tr th {\n",
       "        vertical-align: top;\n",
       "    }\n",
       "\n",
       "    .dataframe thead th {\n",
       "        text-align: right;\n",
       "    }\n",
       "</style>\n",
       "<table border=\"1\" class=\"dataframe\">\n",
       "  <thead>\n",
       "    <tr style=\"text-align: right;\">\n",
       "      <th></th>\n",
       "      <th>title</th>\n",
       "      <th>year</th>\n",
       "    </tr>\n",
       "  </thead>\n",
       "  <tbody>\n",
       "    <tr>\n",
       "      <th>4227</th>\n",
       "      <td>Macbeth</td>\n",
       "      <td>1913</td>\n",
       "    </tr>\n",
       "    <tr>\n",
       "      <th>17167</th>\n",
       "      <td>Macbeth</td>\n",
       "      <td>1997</td>\n",
       "    </tr>\n",
       "    <tr>\n",
       "      <th>...</th>\n",
       "      <td>...</td>\n",
       "      <td>...</td>\n",
       "    </tr>\n",
       "    <tr>\n",
       "      <th>9323</th>\n",
       "      <td>Macbeth</td>\n",
       "      <td>2006</td>\n",
       "    </tr>\n",
       "    <tr>\n",
       "      <th>11723</th>\n",
       "      <td>Macbeth</td>\n",
       "      <td>2013</td>\n",
       "    </tr>\n",
       "  </tbody>\n",
       "</table>\n",
       "<p>5 rows × 2 columns</p>\n",
       "</div>"
      ],
      "text/plain": [
       "         title  year\n",
       "4227   Macbeth  1913\n",
       "17167  Macbeth  1997\n",
       "...        ...   ...\n",
       "9323   Macbeth  2006\n",
       "11723  Macbeth  2013\n",
       "\n",
       "[5 rows x 2 columns]"
      ]
     },
     "execution_count": 75,
     "metadata": {},
     "output_type": "execute_result"
    }
   ],
   "source": [
    "macbeth = t[ t['title'] == 'Macbeth'].sort_values('year')\n",
    "macbeth.head()"
   ]
  },
  {
   "cell_type": "markdown",
   "metadata": {},
   "source": [
    "## 2.5 Null Values"
   ]
  },
  {
   "cell_type": "code",
   "execution_count": 77,
   "metadata": {},
   "outputs": [
    {
     "data": {
      "text/plain": [
       "0    False\n",
       "1    False\n",
       "     ...  \n",
       "3     True\n",
       "4     True\n",
       "Name: n, Length: 5, dtype: bool"
      ]
     },
     "execution_count": 77,
     "metadata": {},
     "output_type": "execute_result"
    }
   ],
   "source": [
    "c = casts\n",
    "c['n'].isnull().head()"
   ]
  },
  {
   "cell_type": "code",
   "execution_count": 79,
   "metadata": {},
   "outputs": [
    {
     "data": {
      "text/html": [
       "<div>\n",
       "<style scoped>\n",
       "    .dataframe tbody tr th:only-of-type {\n",
       "        vertical-align: middle;\n",
       "    }\n",
       "\n",
       "    .dataframe tbody tr th {\n",
       "        vertical-align: top;\n",
       "    }\n",
       "\n",
       "    .dataframe thead th {\n",
       "        text-align: right;\n",
       "    }\n",
       "</style>\n",
       "<table border=\"1\" class=\"dataframe\">\n",
       "  <thead>\n",
       "    <tr style=\"text-align: right;\">\n",
       "      <th></th>\n",
       "      <th>title</th>\n",
       "      <th>year</th>\n",
       "      <th>name</th>\n",
       "      <th>type</th>\n",
       "      <th>character</th>\n",
       "      <th>n</th>\n",
       "    </tr>\n",
       "  </thead>\n",
       "  <tbody>\n",
       "    <tr>\n",
       "      <th>0</th>\n",
       "      <td>False</td>\n",
       "      <td>False</td>\n",
       "      <td>False</td>\n",
       "      <td>False</td>\n",
       "      <td>False</td>\n",
       "      <td>False</td>\n",
       "    </tr>\n",
       "    <tr>\n",
       "      <th>1</th>\n",
       "      <td>False</td>\n",
       "      <td>False</td>\n",
       "      <td>False</td>\n",
       "      <td>False</td>\n",
       "      <td>False</td>\n",
       "      <td>False</td>\n",
       "    </tr>\n",
       "    <tr>\n",
       "      <th>...</th>\n",
       "      <td>...</td>\n",
       "      <td>...</td>\n",
       "      <td>...</td>\n",
       "      <td>...</td>\n",
       "      <td>...</td>\n",
       "      <td>...</td>\n",
       "    </tr>\n",
       "    <tr>\n",
       "      <th>3</th>\n",
       "      <td>False</td>\n",
       "      <td>False</td>\n",
       "      <td>False</td>\n",
       "      <td>False</td>\n",
       "      <td>False</td>\n",
       "      <td>True</td>\n",
       "    </tr>\n",
       "    <tr>\n",
       "      <th>4</th>\n",
       "      <td>False</td>\n",
       "      <td>False</td>\n",
       "      <td>False</td>\n",
       "      <td>False</td>\n",
       "      <td>False</td>\n",
       "      <td>True</td>\n",
       "    </tr>\n",
       "  </tbody>\n",
       "</table>\n",
       "<p>5 rows × 6 columns</p>\n",
       "</div>"
      ],
      "text/plain": [
       "    title   year   name   type  character      n\n",
       "0   False  False  False  False      False  False\n",
       "1   False  False  False  False      False  False\n",
       "..    ...    ...    ...    ...        ...    ...\n",
       "3   False  False  False  False      False   True\n",
       "4   False  False  False  False      False   True\n",
       "\n",
       "[5 rows x 6 columns]"
      ]
     },
     "execution_count": 79,
     "metadata": {},
     "output_type": "execute_result"
    }
   ],
   "source": [
    "c.isnull().head()"
   ]
  },
  {
   "cell_type": "code",
   "execution_count": 78,
   "metadata": {},
   "outputs": [
    {
     "data": {
      "text/plain": [
       "0     True\n",
       "1     True\n",
       "     ...  \n",
       "3    False\n",
       "4    False\n",
       "Name: n, Length: 5, dtype: bool"
      ]
     },
     "execution_count": 78,
     "metadata": {},
     "output_type": "execute_result"
    }
   ],
   "source": [
    "c['n'].notnull().head()"
   ]
  },
  {
   "cell_type": "code",
   "execution_count": 80,
   "metadata": {},
   "outputs": [
    {
     "data": {
      "text/html": [
       "<div>\n",
       "<style scoped>\n",
       "    .dataframe tbody tr th:only-of-type {\n",
       "        vertical-align: middle;\n",
       "    }\n",
       "\n",
       "    .dataframe tbody tr th {\n",
       "        vertical-align: top;\n",
       "    }\n",
       "\n",
       "    .dataframe thead th {\n",
       "        text-align: right;\n",
       "    }\n",
       "</style>\n",
       "<table border=\"1\" class=\"dataframe\">\n",
       "  <thead>\n",
       "    <tr style=\"text-align: right;\">\n",
       "      <th></th>\n",
       "      <th>title</th>\n",
       "      <th>year</th>\n",
       "      <th>name</th>\n",
       "      <th>type</th>\n",
       "      <th>character</th>\n",
       "      <th>n</th>\n",
       "    </tr>\n",
       "  </thead>\n",
       "  <tbody>\n",
       "    <tr>\n",
       "      <th>0</th>\n",
       "      <td>True</td>\n",
       "      <td>True</td>\n",
       "      <td>True</td>\n",
       "      <td>True</td>\n",
       "      <td>True</td>\n",
       "      <td>True</td>\n",
       "    </tr>\n",
       "    <tr>\n",
       "      <th>1</th>\n",
       "      <td>True</td>\n",
       "      <td>True</td>\n",
       "      <td>True</td>\n",
       "      <td>True</td>\n",
       "      <td>True</td>\n",
       "      <td>True</td>\n",
       "    </tr>\n",
       "    <tr>\n",
       "      <th>...</th>\n",
       "      <td>...</td>\n",
       "      <td>...</td>\n",
       "      <td>...</td>\n",
       "      <td>...</td>\n",
       "      <td>...</td>\n",
       "      <td>...</td>\n",
       "    </tr>\n",
       "    <tr>\n",
       "      <th>3</th>\n",
       "      <td>True</td>\n",
       "      <td>True</td>\n",
       "      <td>True</td>\n",
       "      <td>True</td>\n",
       "      <td>True</td>\n",
       "      <td>False</td>\n",
       "    </tr>\n",
       "    <tr>\n",
       "      <th>4</th>\n",
       "      <td>True</td>\n",
       "      <td>True</td>\n",
       "      <td>True</td>\n",
       "      <td>True</td>\n",
       "      <td>True</td>\n",
       "      <td>False</td>\n",
       "    </tr>\n",
       "  </tbody>\n",
       "</table>\n",
       "<p>5 rows × 6 columns</p>\n",
       "</div>"
      ],
      "text/plain": [
       "    title  year  name  type  character      n\n",
       "0    True  True  True  True       True   True\n",
       "1    True  True  True  True       True   True\n",
       "..    ...   ...   ...   ...        ...    ...\n",
       "3    True  True  True  True       True  False\n",
       "4    True  True  True  True       True  False\n",
       "\n",
       "[5 rows x 6 columns]"
      ]
     },
     "execution_count": 80,
     "metadata": {},
     "output_type": "execute_result"
    }
   ],
   "source": [
    "c.notnull().head()"
   ]
  },
  {
   "cell_type": "code",
   "execution_count": 81,
   "metadata": {},
   "outputs": [
    {
     "data": {
      "text/html": [
       "<div>\n",
       "<style scoped>\n",
       "    .dataframe tbody tr th:only-of-type {\n",
       "        vertical-align: middle;\n",
       "    }\n",
       "\n",
       "    .dataframe tbody tr th {\n",
       "        vertical-align: top;\n",
       "    }\n",
       "\n",
       "    .dataframe thead th {\n",
       "        text-align: right;\n",
       "    }\n",
       "</style>\n",
       "<table border=\"1\" class=\"dataframe\">\n",
       "  <thead>\n",
       "    <tr style=\"text-align: right;\">\n",
       "      <th></th>\n",
       "      <th>title</th>\n",
       "      <th>year</th>\n",
       "      <th>name</th>\n",
       "      <th>type</th>\n",
       "      <th>character</th>\n",
       "      <th>n</th>\n",
       "    </tr>\n",
       "  </thead>\n",
       "  <tbody>\n",
       "    <tr>\n",
       "      <th>3</th>\n",
       "      <td>Secret in Their Eyes</td>\n",
       "      <td>2015</td>\n",
       "      <td>$hutter</td>\n",
       "      <td>actor</td>\n",
       "      <td>2002 Dodger Fan</td>\n",
       "      <td>NaN</td>\n",
       "    </tr>\n",
       "    <tr>\n",
       "      <th>4</th>\n",
       "      <td>Steve Jobs</td>\n",
       "      <td>2015</td>\n",
       "      <td>$hutter</td>\n",
       "      <td>actor</td>\n",
       "      <td>1988 Opera House Patron</td>\n",
       "      <td>NaN</td>\n",
       "    </tr>\n",
       "    <tr>\n",
       "      <th>5</th>\n",
       "      <td>Straight Outta Compton</td>\n",
       "      <td>2015</td>\n",
       "      <td>$hutter</td>\n",
       "      <td>actor</td>\n",
       "      <td>Club Patron</td>\n",
       "      <td>NaN</td>\n",
       "    </tr>\n",
       "  </tbody>\n",
       "</table>\n",
       "</div>"
      ],
      "text/plain": [
       "                    title  year     name   type                character   n\n",
       "3    Secret in Their Eyes  2015  $hutter  actor          2002 Dodger Fan NaN\n",
       "4              Steve Jobs  2015  $hutter  actor  1988 Opera House Patron NaN\n",
       "5  Straight Outta Compton  2015  $hutter  actor              Club Patron NaN"
      ]
     },
     "execution_count": 81,
     "metadata": {},
     "output_type": "execute_result"
    }
   ],
   "source": [
    "c[c['n'].isnull()].head(3)"
   ]
  },
  {
   "cell_type": "code",
   "execution_count": 82,
   "metadata": {},
   "outputs": [
    {
     "data": {
      "text/html": [
       "<div>\n",
       "<style scoped>\n",
       "    .dataframe tbody tr th:only-of-type {\n",
       "        vertical-align: middle;\n",
       "    }\n",
       "\n",
       "    .dataframe tbody tr th {\n",
       "        vertical-align: top;\n",
       "    }\n",
       "\n",
       "    .dataframe thead th {\n",
       "        text-align: right;\n",
       "    }\n",
       "</style>\n",
       "<table border=\"1\" class=\"dataframe\">\n",
       "  <thead>\n",
       "    <tr style=\"text-align: right;\">\n",
       "      <th></th>\n",
       "      <th>title</th>\n",
       "      <th>year</th>\n",
       "      <th>name</th>\n",
       "      <th>type</th>\n",
       "      <th>character</th>\n",
       "      <th>n</th>\n",
       "    </tr>\n",
       "  </thead>\n",
       "  <tbody>\n",
       "    <tr>\n",
       "      <th>0</th>\n",
       "      <td>Closet Monster</td>\n",
       "      <td>2015</td>\n",
       "      <td>Buffy #1</td>\n",
       "      <td>actor</td>\n",
       "      <td>Buffy 4</td>\n",
       "      <td>31.0</td>\n",
       "    </tr>\n",
       "    <tr>\n",
       "      <th>1</th>\n",
       "      <td>Suuri illusioni</td>\n",
       "      <td>1985</td>\n",
       "      <td>Homo $</td>\n",
       "      <td>actor</td>\n",
       "      <td>Guests</td>\n",
       "      <td>22.0</td>\n",
       "    </tr>\n",
       "    <tr>\n",
       "      <th>2</th>\n",
       "      <td>Battle of the Sexes</td>\n",
       "      <td>2017</td>\n",
       "      <td>$hutter</td>\n",
       "      <td>actor</td>\n",
       "      <td>Bobby Riggs Fan</td>\n",
       "      <td>10.0</td>\n",
       "    </tr>\n",
       "  </tbody>\n",
       "</table>\n",
       "</div>"
      ],
      "text/plain": [
       "                 title  year      name   type        character     n\n",
       "0       Closet Monster  2015  Buffy #1  actor          Buffy 4  31.0\n",
       "1      Suuri illusioni  1985    Homo $  actor           Guests  22.0\n",
       "2  Battle of the Sexes  2017   $hutter  actor  Bobby Riggs Fan  10.0"
      ]
     },
     "execution_count": 82,
     "metadata": {},
     "output_type": "execute_result"
    }
   ],
   "source": [
    "c[c['n'].notnull()].head(3)"
   ]
  },
  {
   "cell_type": "code",
   "execution_count": 83,
   "metadata": {},
   "outputs": [
    {
     "data": {
      "text/html": [
       "<div>\n",
       "<style scoped>\n",
       "    .dataframe tbody tr th:only-of-type {\n",
       "        vertical-align: middle;\n",
       "    }\n",
       "\n",
       "    .dataframe tbody tr th {\n",
       "        vertical-align: top;\n",
       "    }\n",
       "\n",
       "    .dataframe thead th {\n",
       "        text-align: right;\n",
       "    }\n",
       "</style>\n",
       "<table border=\"1\" class=\"dataframe\">\n",
       "  <thead>\n",
       "    <tr style=\"text-align: right;\">\n",
       "      <th></th>\n",
       "      <th>title</th>\n",
       "      <th>year</th>\n",
       "      <th>name</th>\n",
       "      <th>type</th>\n",
       "      <th>character</th>\n",
       "      <th>n</th>\n",
       "    </tr>\n",
       "  </thead>\n",
       "  <tbody>\n",
       "    <tr>\n",
       "      <th>3</th>\n",
       "      <td>Secret in Their Eyes</td>\n",
       "      <td>2015</td>\n",
       "      <td>$hutter</td>\n",
       "      <td>actor</td>\n",
       "      <td>2002 Dodger Fan</td>\n",
       "      <td>NA</td>\n",
       "    </tr>\n",
       "    <tr>\n",
       "      <th>4</th>\n",
       "      <td>Steve Jobs</td>\n",
       "      <td>2015</td>\n",
       "      <td>$hutter</td>\n",
       "      <td>actor</td>\n",
       "      <td>1988 Opera House Patron</td>\n",
       "      <td>NA</td>\n",
       "    </tr>\n",
       "  </tbody>\n",
       "</table>\n",
       "</div>"
      ],
      "text/plain": [
       "                  title  year     name   type                character   n\n",
       "3  Secret in Their Eyes  2015  $hutter  actor          2002 Dodger Fan  NA\n",
       "4            Steve Jobs  2015  $hutter  actor  1988 Opera House Patron  NA"
      ]
     },
     "execution_count": 83,
     "metadata": {},
     "output_type": "execute_result"
    }
   ],
   "source": [
    "c_fill = c[c['n'].isnull()].fillna('NA')\n",
    "c_fill.head(2)"
   ]
  },
  {
   "cell_type": "markdown",
   "metadata": {},
   "source": [
    "## 2.6 Operaciones con String"
   ]
  },
  {
   "cell_type": "code",
   "execution_count": 84,
   "metadata": {},
   "outputs": [
    {
     "data": {
      "text/html": [
       "<div>\n",
       "<style scoped>\n",
       "    .dataframe tbody tr th:only-of-type {\n",
       "        vertical-align: middle;\n",
       "    }\n",
       "\n",
       "    .dataframe tbody tr th {\n",
       "        vertical-align: top;\n",
       "    }\n",
       "\n",
       "    .dataframe thead th {\n",
       "        text-align: right;\n",
       "    }\n",
       "</style>\n",
       "<table border=\"1\" class=\"dataframe\">\n",
       "  <thead>\n",
       "    <tr style=\"text-align: right;\">\n",
       "      <th></th>\n",
       "      <th>title</th>\n",
       "      <th>year</th>\n",
       "    </tr>\n",
       "  </thead>\n",
       "  <tbody>\n",
       "    <tr>\n",
       "      <th>20</th>\n",
       "      <td>Maa Durga Shakti</td>\n",
       "      <td>1999</td>\n",
       "    </tr>\n",
       "    <tr>\n",
       "      <th>3047</th>\n",
       "      <td>Maa Aur Mamta</td>\n",
       "      <td>1970</td>\n",
       "    </tr>\n",
       "    <tr>\n",
       "      <th>7471</th>\n",
       "      <td>Maa Vaibhav Laxmi</td>\n",
       "      <td>1989</td>\n",
       "    </tr>\n",
       "  </tbody>\n",
       "</table>\n",
       "</div>"
      ],
      "text/plain": [
       "                  title  year\n",
       "20     Maa Durga Shakti  1999\n",
       "3047      Maa Aur Mamta  1970\n",
       "7471  Maa Vaibhav Laxmi  1989"
      ]
     },
     "execution_count": 84,
     "metadata": {},
     "output_type": "execute_result"
    }
   ],
   "source": [
    "t[t['title'].str.startswith(\"Maa \")].head(3)"
   ]
  },
  {
   "cell_type": "markdown",
   "metadata": {},
   "source": [
    "## 2.7 Contar elementos"
   ]
  },
  {
   "cell_type": "code",
   "execution_count": 85,
   "metadata": {},
   "outputs": [
    {
     "data": {
      "text/plain": [
       "2016    2363\n",
       "2017    2138\n",
       "        ... \n",
       "2014    1701\n",
       "2013    1609\n",
       "Name: year, Length: 5, dtype: int64"
      ]
     },
     "execution_count": 85,
     "metadata": {},
     "output_type": "execute_result"
    }
   ],
   "source": [
    "t['year'].value_counts().head()"
   ]
  },
  {
   "cell_type": "markdown",
   "metadata": {},
   "source": [
    "## 2.8 Graficas"
   ]
  },
  {
   "cell_type": "code",
   "execution_count": 89,
   "metadata": {},
   "outputs": [],
   "source": [
    "import matplotlib.pyplot as plt"
   ]
  },
  {
   "cell_type": "markdown",
   "metadata": {},
   "source": [
    "Mostramos los graficos inline"
   ]
  },
  {
   "cell_type": "code",
   "execution_count": 90,
   "metadata": {},
   "outputs": [],
   "source": [
    "%matplotlib inline"
   ]
  },
  {
   "cell_type": "code",
   "execution_count": 91,
   "metadata": {},
   "outputs": [
    {
     "data": {
      "image/png": "[encoded data removed]",
      "text/plain": [
       "<Figure size 432x288 with 1 Axes>"
      ]
     },
     "metadata": {
      "needs_background": "light"
     },
     "output_type": "display_data"
    }
   ],
   "source": [
    "t = titles\n",
    "p = t['year'].value_counts()\n",
    "p.plot()\n",
    "#plt.show()"
   ]
  },
  {
   "cell_type": "markdown",
   "metadata": {},
   "source": [
    "Ordena por indice"
   ]
  },
  {
   "cell_type": "code",
   "execution_count": 92,
   "metadata": {},
   "outputs": [
    {
     "data": {
      "text/plain": [
       "<matplotlib.axes._subplots.AxesSubplot at 0x291bc2878c8>"
      ]
     },
     "execution_count": 92,
     "metadata": {},
     "output_type": "execute_result"
    },
    {
     "data": {
      "image/png": "[encoded data removed]",
      "text/plain": [
       "<Figure size 432x288 with 1 Axes>"
      ]
     },
     "metadata": {
      "needs_background": "light"
     },
     "output_type": "display_data"
    }
   ],
   "source": [
    "p.sort_index().plot()"
   ]
  },
  {
   "cell_type": "markdown",
   "metadata": {},
   "source": [
    "## 2.9 Eliminar duplicados"
   ]
  },
  {
   "cell_type": "code",
   "execution_count": 289,
   "metadata": {},
   "outputs": [
    {
     "data": {
      "text/html": [
       "<div>\n",
       "<style scoped>\n",
       "    .dataframe tbody tr th:only-of-type {\n",
       "        vertical-align: middle;\n",
       "    }\n",
       "\n",
       "    .dataframe tbody tr th {\n",
       "        vertical-align: top;\n",
       "    }\n",
       "\n",
       "    .dataframe thead th {\n",
       "        text-align: right;\n",
       "    }\n",
       "</style>\n",
       "<table border=\"1\" class=\"dataframe\">\n",
       "  <thead>\n",
       "    <tr style=\"text-align: right;\">\n",
       "      <th></th>\n",
       "      <th>k1</th>\n",
       "      <th>k2</th>\n",
       "    </tr>\n",
       "  </thead>\n",
       "  <tbody>\n",
       "    <tr>\n",
       "      <th>0</th>\n",
       "      <td>one</td>\n",
       "      <td>1</td>\n",
       "    </tr>\n",
       "    <tr>\n",
       "      <th>1</th>\n",
       "      <td>one</td>\n",
       "      <td>1</td>\n",
       "    </tr>\n",
       "    <tr>\n",
       "      <th>...</th>\n",
       "      <td>...</td>\n",
       "      <td>...</td>\n",
       "    </tr>\n",
       "    <tr>\n",
       "      <th>5</th>\n",
       "      <td>two</td>\n",
       "      <td>4</td>\n",
       "    </tr>\n",
       "    <tr>\n",
       "      <th>6</th>\n",
       "      <td>two</td>\n",
       "      <td>4</td>\n",
       "    </tr>\n",
       "  </tbody>\n",
       "</table>\n",
       "<p>7 rows × 2 columns</p>\n",
       "</div>"
      ],
      "text/plain": [
       "     k1  k2\n",
       "0   one   1\n",
       "1   one   1\n",
       "..  ...  ..\n",
       "5   two   4\n",
       "6   two   4\n",
       "\n",
       "[7 rows x 2 columns]"
      ]
     },
     "execution_count": 289,
     "metadata": {},
     "output_type": "execute_result"
    }
   ],
   "source": [
    "dforiginal = pd.DataFrame({'k1':['one']*3 + ['two']*4,\n",
    "... 'k2':[1,1,2,3,3,4,4]})\n",
    "df=dforiginal.copy()\n",
    "df"
   ]
  },
  {
   "cell_type": "code",
   "execution_count": 290,
   "metadata": {},
   "outputs": [
    {
     "data": {
      "text/plain": [
       "0    False\n",
       "1     True\n",
       "     ...  \n",
       "5    False\n",
       "6     True\n",
       "Length: 7, dtype: bool"
      ]
     },
     "execution_count": 290,
     "metadata": {},
     "output_type": "execute_result"
    }
   ],
   "source": [
    "df.duplicated()"
   ]
  },
  {
   "cell_type": "code",
   "execution_count": 291,
   "metadata": {},
   "outputs": [
    {
     "data": {
      "text/html": [
       "<div>\n",
       "<style scoped>\n",
       "    .dataframe tbody tr th:only-of-type {\n",
       "        vertical-align: middle;\n",
       "    }\n",
       "\n",
       "    .dataframe tbody tr th {\n",
       "        vertical-align: top;\n",
       "    }\n",
       "\n",
       "    .dataframe thead th {\n",
       "        text-align: right;\n",
       "    }\n",
       "</style>\n",
       "<table border=\"1\" class=\"dataframe\">\n",
       "  <thead>\n",
       "    <tr style=\"text-align: right;\">\n",
       "      <th></th>\n",
       "      <th>k1</th>\n",
       "      <th>k2</th>\n",
       "    </tr>\n",
       "  </thead>\n",
       "  <tbody>\n",
       "    <tr>\n",
       "      <th>1</th>\n",
       "      <td>one</td>\n",
       "      <td>1</td>\n",
       "    </tr>\n",
       "    <tr>\n",
       "      <th>4</th>\n",
       "      <td>two</td>\n",
       "      <td>3</td>\n",
       "    </tr>\n",
       "    <tr>\n",
       "      <th>6</th>\n",
       "      <td>two</td>\n",
       "      <td>4</td>\n",
       "    </tr>\n",
       "  </tbody>\n",
       "</table>\n",
       "</div>"
      ],
      "text/plain": [
       "    k1  k2\n",
       "1  one   1\n",
       "4  two   3\n",
       "6  two   4"
      ]
     },
     "execution_count": 291,
     "metadata": {},
     "output_type": "execute_result"
    }
   ],
   "source": [
    "df[df.duplicated()]"
   ]
  },
  {
   "cell_type": "markdown",
   "metadata": {},
   "source": [
    "Borra los duplicados, sobre el propio DataStream"
   ]
  },
  {
   "cell_type": "code",
   "execution_count": 292,
   "metadata": {},
   "outputs": [
    {
     "data": {
      "text/html": [
       "<div>\n",
       "<style scoped>\n",
       "    .dataframe tbody tr th:only-of-type {\n",
       "        vertical-align: middle;\n",
       "    }\n",
       "\n",
       "    .dataframe tbody tr th {\n",
       "        vertical-align: top;\n",
       "    }\n",
       "\n",
       "    .dataframe thead th {\n",
       "        text-align: right;\n",
       "    }\n",
       "</style>\n",
       "<table border=\"1\" class=\"dataframe\">\n",
       "  <thead>\n",
       "    <tr style=\"text-align: right;\">\n",
       "      <th></th>\n",
       "      <th>k1</th>\n",
       "      <th>k2</th>\n",
       "    </tr>\n",
       "  </thead>\n",
       "  <tbody>\n",
       "    <tr>\n",
       "      <th>0</th>\n",
       "      <td>one</td>\n",
       "      <td>1</td>\n",
       "    </tr>\n",
       "    <tr>\n",
       "      <th>2</th>\n",
       "      <td>one</td>\n",
       "      <td>2</td>\n",
       "    </tr>\n",
       "    <tr>\n",
       "      <th>3</th>\n",
       "      <td>two</td>\n",
       "      <td>3</td>\n",
       "    </tr>\n",
       "    <tr>\n",
       "      <th>5</th>\n",
       "      <td>two</td>\n",
       "      <td>4</td>\n",
       "    </tr>\n",
       "  </tbody>\n",
       "</table>\n",
       "</div>"
      ],
      "text/plain": [
       "    k1  k2\n",
       "0  one   1\n",
       "2  one   2\n",
       "3  two   3\n",
       "5  two   4"
      ]
     },
     "execution_count": 292,
     "metadata": {},
     "output_type": "execute_result"
    }
   ],
   "source": [
    "df.drop_duplicates(inplace=True)\n",
    "df.duplicated()\n",
    "df"
   ]
  },
  {
   "cell_type": "markdown",
   "metadata": {},
   "source": [
    "Borra los duplicados, pero eligiendo conservar la ultima instancia encontrada. Fijarse en los indices"
   ]
  },
  {
   "cell_type": "code",
   "execution_count": 293,
   "metadata": {},
   "outputs": [
    {
     "data": {
      "text/html": [
       "<div>\n",
       "<style scoped>\n",
       "    .dataframe tbody tr th:only-of-type {\n",
       "        vertical-align: middle;\n",
       "    }\n",
       "\n",
       "    .dataframe tbody tr th {\n",
       "        vertical-align: top;\n",
       "    }\n",
       "\n",
       "    .dataframe thead th {\n",
       "        text-align: right;\n",
       "    }\n",
       "</style>\n",
       "<table border=\"1\" class=\"dataframe\">\n",
       "  <thead>\n",
       "    <tr style=\"text-align: right;\">\n",
       "      <th></th>\n",
       "      <th>k1</th>\n",
       "      <th>k2</th>\n",
       "    </tr>\n",
       "  </thead>\n",
       "  <tbody>\n",
       "    <tr>\n",
       "      <th>1</th>\n",
       "      <td>one</td>\n",
       "      <td>1</td>\n",
       "    </tr>\n",
       "    <tr>\n",
       "      <th>2</th>\n",
       "      <td>one</td>\n",
       "      <td>2</td>\n",
       "    </tr>\n",
       "    <tr>\n",
       "      <th>4</th>\n",
       "      <td>two</td>\n",
       "      <td>3</td>\n",
       "    </tr>\n",
       "    <tr>\n",
       "      <th>6</th>\n",
       "      <td>two</td>\n",
       "      <td>4</td>\n",
       "    </tr>\n",
       "  </tbody>\n",
       "</table>\n",
       "</div>"
      ],
      "text/plain": [
       "    k1  k2\n",
       "1  one   1\n",
       "2  one   2\n",
       "4  two   3\n",
       "6  two   4"
      ]
     },
     "execution_count": 293,
     "metadata": {},
     "output_type": "execute_result"
    }
   ],
   "source": [
    "df=dforiginal.copy()\n",
    "df.drop_duplicates(keep=\"last\",inplace=True)\n",
    "df"
   ]
  },
  {
   "cell_type": "markdown",
   "metadata": {},
   "source": [
    "## 2.10 Buscar y reemplazar"
   ]
  },
  {
   "cell_type": "code",
   "execution_count": 294,
   "metadata": {},
   "outputs": [
    {
     "data": {
      "text/html": [
       "<div>\n",
       "<style scoped>\n",
       "    .dataframe tbody tr th:only-of-type {\n",
       "        vertical-align: middle;\n",
       "    }\n",
       "\n",
       "    .dataframe tbody tr th {\n",
       "        vertical-align: top;\n",
       "    }\n",
       "\n",
       "    .dataframe thead th {\n",
       "        text-align: right;\n",
       "    }\n",
       "</style>\n",
       "<table border=\"1\" class=\"dataframe\">\n",
       "  <thead>\n",
       "    <tr style=\"text-align: right;\">\n",
       "      <th></th>\n",
       "      <th>k1</th>\n",
       "      <th>k2</th>\n",
       "    </tr>\n",
       "  </thead>\n",
       "  <tbody>\n",
       "    <tr>\n",
       "      <th>0</th>\n",
       "      <td>one</td>\n",
       "      <td>1</td>\n",
       "    </tr>\n",
       "    <tr>\n",
       "      <th>1</th>\n",
       "      <td>one</td>\n",
       "      <td>1</td>\n",
       "    </tr>\n",
       "    <tr>\n",
       "      <th>...</th>\n",
       "      <td>...</td>\n",
       "      <td>...</td>\n",
       "    </tr>\n",
       "    <tr>\n",
       "      <th>5</th>\n",
       "      <td>two</td>\n",
       "      <td>4</td>\n",
       "    </tr>\n",
       "    <tr>\n",
       "      <th>6</th>\n",
       "      <td>two</td>\n",
       "      <td>4</td>\n",
       "    </tr>\n",
       "  </tbody>\n",
       "</table>\n",
       "<p>7 rows × 2 columns</p>\n",
       "</div>"
      ],
      "text/plain": [
       "     k1  k2\n",
       "0   one   1\n",
       "1   one   1\n",
       "..  ...  ..\n",
       "5   two   4\n",
       "6   two   4\n",
       "\n",
       "[7 rows x 2 columns]"
      ]
     },
     "execution_count": 294,
     "metadata": {},
     "output_type": "execute_result"
    }
   ],
   "source": [
    "df=dforiginal.copy()\n",
    "df"
   ]
  },
  {
   "cell_type": "code",
   "execution_count": 296,
   "metadata": {},
   "outputs": [
    {
     "data": {
      "text/html": [
       "<div>\n",
       "<style scoped>\n",
       "    .dataframe tbody tr th:only-of-type {\n",
       "        vertical-align: middle;\n",
       "    }\n",
       "\n",
       "    .dataframe tbody tr th {\n",
       "        vertical-align: top;\n",
       "    }\n",
       "\n",
       "    .dataframe thead th {\n",
       "        text-align: right;\n",
       "    }\n",
       "</style>\n",
       "<table border=\"1\" class=\"dataframe\">\n",
       "  <thead>\n",
       "    <tr style=\"text-align: right;\">\n",
       "      <th></th>\n",
       "      <th>k1</th>\n",
       "      <th>k2</th>\n",
       "    </tr>\n",
       "  </thead>\n",
       "  <tbody>\n",
       "    <tr>\n",
       "      <th>0</th>\n",
       "      <td>One</td>\n",
       "      <td>1</td>\n",
       "    </tr>\n",
       "    <tr>\n",
       "      <th>1</th>\n",
       "      <td>One</td>\n",
       "      <td>1</td>\n",
       "    </tr>\n",
       "    <tr>\n",
       "      <th>...</th>\n",
       "      <td>...</td>\n",
       "      <td>...</td>\n",
       "    </tr>\n",
       "    <tr>\n",
       "      <th>5</th>\n",
       "      <td>two</td>\n",
       "      <td>4</td>\n",
       "    </tr>\n",
       "    <tr>\n",
       "      <th>6</th>\n",
       "      <td>two</td>\n",
       "      <td>4</td>\n",
       "    </tr>\n",
       "  </tbody>\n",
       "</table>\n",
       "<p>7 rows × 2 columns</p>\n",
       "</div>"
      ],
      "text/plain": [
       "     k1  k2\n",
       "0   One   1\n",
       "1   One   1\n",
       "..  ...  ..\n",
       "5   two   4\n",
       "6   two   4\n",
       "\n",
       "[7 rows x 2 columns]"
      ]
     },
     "execution_count": 296,
     "metadata": {},
     "output_type": "execute_result"
    }
   ],
   "source": [
    "df.replace('one', 'One',inplace=True)\n",
    "df"
   ]
  },
  {
   "cell_type": "markdown",
   "metadata": {},
   "source": [
    "Reemplaza varios a la vez"
   ]
  },
  {
   "cell_type": "code",
   "execution_count": 298,
   "metadata": {},
   "outputs": [
    {
     "data": {
      "text/html": [
       "<div>\n",
       "<style scoped>\n",
       "    .dataframe tbody tr th:only-of-type {\n",
       "        vertical-align: middle;\n",
       "    }\n",
       "\n",
       "    .dataframe tbody tr th {\n",
       "        vertical-align: top;\n",
       "    }\n",
       "\n",
       "    .dataframe thead th {\n",
       "        text-align: right;\n",
       "    }\n",
       "</style>\n",
       "<table border=\"1\" class=\"dataframe\">\n",
       "  <thead>\n",
       "    <tr style=\"text-align: right;\">\n",
       "      <th></th>\n",
       "      <th>k1</th>\n",
       "      <th>k2</th>\n",
       "    </tr>\n",
       "  </thead>\n",
       "  <tbody>\n",
       "    <tr>\n",
       "      <th>0</th>\n",
       "      <td>One</td>\n",
       "      <td>10</td>\n",
       "    </tr>\n",
       "    <tr>\n",
       "      <th>1</th>\n",
       "      <td>One</td>\n",
       "      <td>10</td>\n",
       "    </tr>\n",
       "    <tr>\n",
       "      <th>...</th>\n",
       "      <td>...</td>\n",
       "      <td>...</td>\n",
       "    </tr>\n",
       "    <tr>\n",
       "      <th>5</th>\n",
       "      <td>Two</td>\n",
       "      <td>4</td>\n",
       "    </tr>\n",
       "    <tr>\n",
       "      <th>6</th>\n",
       "      <td>Two</td>\n",
       "      <td>4</td>\n",
       "    </tr>\n",
       "  </tbody>\n",
       "</table>\n",
       "<p>7 rows × 2 columns</p>\n",
       "</div>"
      ],
      "text/plain": [
       "     k1  k2\n",
       "0   One  10\n",
       "1   One  10\n",
       "..  ...  ..\n",
       "5   Two   4\n",
       "6   Two   4\n",
       "\n",
       "[7 rows x 2 columns]"
      ]
     },
     "execution_count": 298,
     "metadata": {},
     "output_type": "execute_result"
    }
   ],
   "source": [
    "df.replace({'two':'Two', 1:10},inplace=True)\n",
    "df"
   ]
  },
  {
   "cell_type": "markdown",
   "metadata": {},
   "source": [
    "# 3. Group By"
   ]
  },
  {
   "cell_type": "code",
   "execution_count": 94,
   "metadata": {},
   "outputs": [
    {
     "data": {
      "text/plain": [
       "<matplotlib.axes._subplots.AxesSubplot at 0x291bc444c48>"
      ]
     },
     "execution_count": 94,
     "metadata": {},
     "output_type": "execute_result"
    },
    {
     "data": {
      "image/png": "[encoded data removed]",
      "text/plain": [
       "<Figure size 432x288 with 1 Axes>"
      ]
     },
     "metadata": {
      "needs_background": "light"
     },
     "output_type": "display_data"
    }
   ],
   "source": [
    "cg = c.groupby(['year']).size()\n",
    "cg.plot()"
   ]
  },
  {
   "cell_type": "code",
   "execution_count": 95,
   "metadata": {},
   "outputs": [
    {
     "data": {
      "text/plain": [
       "year\n",
       "2003    2\n",
       "2004    2\n",
       "       ..\n",
       "2006    1\n",
       "2007    2\n",
       "Length: 5, dtype: int64"
      ]
     },
     "execution_count": 95,
     "metadata": {},
     "output_type": "execute_result"
    }
   ],
   "source": [
    "c = casts\n",
    "cf = c[c['name'] == 'Aaron Abrams']\n",
    "cf.groupby(['year']).size().head()"
   ]
  },
  {
   "cell_type": "markdown",
   "metadata": {},
   "source": [
    "Hace un group by usando mas de una columna"
   ]
  },
  {
   "cell_type": "code",
   "execution_count": 96,
   "metadata": {},
   "outputs": [
    {
     "data": {
      "text/plain": [
       "year  title                               \n",
       "2003  The In-Laws                             1\n",
       "      The Visual Bible: The Gospel of John    1\n",
       "                                             ..\n",
       "2004  Siblings                                1\n",
       "2005  Cinderella Man                          1\n",
       "Length: 5, dtype: int64"
      ]
     },
     "execution_count": 96,
     "metadata": {},
     "output_type": "execute_result"
    }
   ],
   "source": [
    "cf.groupby(['year', 'title']).size().head()"
   ]
  },
  {
   "cell_type": "code",
   "execution_count": 97,
   "metadata": {},
   "outputs": [
    {
     "data": {
      "text/plain": [
       "year\n",
       "1912     6.0\n",
       "1913    14.0\n",
       "        ... \n",
       "1915    14.0\n",
       "1916    35.0\n",
       "Name: n, Length: 5, dtype: float64"
      ]
     },
     "execution_count": 97,
     "metadata": {},
     "output_type": "execute_result"
    }
   ],
   "source": [
    "c.groupby(['year']).n.max().head()"
   ]
  },
  {
   "cell_type": "code",
   "execution_count": 98,
   "metadata": {},
   "outputs": [
    {
     "data": {
      "text/plain": [
       "year\n",
       "1912    6.0\n",
       "1913    1.0\n",
       "       ... \n",
       "1915    1.0\n",
       "1916    1.0\n",
       "Name: n, Length: 5, dtype: float64"
      ]
     },
     "execution_count": 98,
     "metadata": {},
     "output_type": "execute_result"
    }
   ],
   "source": [
    "c.groupby(['year']).n.min().head()"
   ]
  },
  {
   "cell_type": "code",
   "execution_count": 99,
   "metadata": {},
   "outputs": [
    {
     "data": {
      "text/plain": [
       "year\n",
       "1912    6.000000\n",
       "1913    4.142857\n",
       "          ...   \n",
       "1915    4.236111\n",
       "1916    5.037736\n",
       "Name: n, Length: 5, dtype: float64"
      ]
     },
     "execution_count": 99,
     "metadata": {},
     "output_type": "execute_result"
    }
   ],
   "source": [
    "c.groupby(['year']).n.mean().head()"
   ]
  },
  {
   "cell_type": "markdown",
   "metadata": {},
   "source": [
    "Tambien podemos hacer un group by por un campo __custom__:"
   ]
  },
  {
   "cell_type": "code",
   "execution_count": 101,
   "metadata": {},
   "outputs": [
    {
     "data": {
      "text/plain": [
       "year\n",
       "1910     669\n",
       "1920    1121\n",
       "        ... \n",
       "1940    3997\n",
       "1950    3892\n",
       "Name: n, Length: 5, dtype: int64"
      ]
     },
     "execution_count": 101,
     "metadata": {},
     "output_type": "execute_result"
    }
   ],
   "source": [
    "decade = c['year']//10*10\n",
    "c_dec = c.groupby(decade).n.size()\n",
    "c_dec.head()"
   ]
  },
  {
   "cell_type": "code",
   "execution_count": 321,
   "metadata": {},
   "outputs": [
    {
     "data": {
      "text/html": [
       "<div>\n",
       "<style scoped>\n",
       "    .dataframe tbody tr th:only-of-type {\n",
       "        vertical-align: middle;\n",
       "    }\n",
       "\n",
       "    .dataframe tbody tr th {\n",
       "        vertical-align: top;\n",
       "    }\n",
       "\n",
       "    .dataframe thead th {\n",
       "        text-align: right;\n",
       "    }\n",
       "</style>\n",
       "<table border=\"1\" class=\"dataframe\">\n",
       "  <thead>\n",
       "    <tr style=\"text-align: right;\">\n",
       "      <th></th>\n",
       "      <th>year</th>\n",
       "      <th>name</th>\n",
       "      <th>type</th>\n",
       "      <th>character</th>\n",
       "      <th>n</th>\n",
       "    </tr>\n",
       "    <tr>\n",
       "      <th>title</th>\n",
       "      <th></th>\n",
       "      <th></th>\n",
       "      <th></th>\n",
       "      <th></th>\n",
       "      <th></th>\n",
       "    </tr>\n",
       "  </thead>\n",
       "  <tbody>\n",
       "    <tr>\n",
       "      <th>#1 Serial Killer</th>\n",
       "      <td>2013</td>\n",
       "      <td>Michael Alton</td>\n",
       "      <td>actor</td>\n",
       "      <td>Detective Roberts</td>\n",
       "      <td>17.0</td>\n",
       "    </tr>\n",
       "    <tr>\n",
       "      <th>#DigitalLivesMatter</th>\n",
       "      <td>2016</td>\n",
       "      <td>Rashan Ali</td>\n",
       "      <td>actress</td>\n",
       "      <td>News Reporter</td>\n",
       "      <td>NaN</td>\n",
       "    </tr>\n",
       "    <tr>\n",
       "      <th>...</th>\n",
       "      <td>...</td>\n",
       "      <td>...</td>\n",
       "      <td>...</td>\n",
       "      <td>...</td>\n",
       "      <td>...</td>\n",
       "    </tr>\n",
       "    <tr>\n",
       "      <th>xXx: Return of Xander Cage</th>\n",
       "      <td>2017</td>\n",
       "      <td>Wayne Ambrose</td>\n",
       "      <td>actor</td>\n",
       "      <td>Choir Members</td>\n",
       "      <td>34.0</td>\n",
       "    </tr>\n",
       "    <tr>\n",
       "      <th>xXx: State of the Union</th>\n",
       "      <td>2005</td>\n",
       "      <td>Robert Alonzo</td>\n",
       "      <td>actor</td>\n",
       "      <td>Guard</td>\n",
       "      <td>NaN</td>\n",
       "    </tr>\n",
       "  </tbody>\n",
       "</table>\n",
       "<p>75001 rows × 5 columns</p>\n",
       "</div>"
      ],
      "text/plain": [
       "                            year           name     type          character  \\\n",
       "title                                                                         \n",
       "#1 Serial Killer            2013  Michael Alton    actor  Detective Roberts   \n",
       "#DigitalLivesMatter         2016     Rashan Ali  actress      News Reporter   \n",
       "...                          ...            ...      ...                ...   \n",
       "xXx: Return of Xander Cage  2017  Wayne Ambrose    actor      Choir Members   \n",
       "xXx: State of the Union     2005  Robert Alonzo    actor              Guard   \n",
       "\n",
       "                               n  \n",
       "title                             \n",
       "#1 Serial Killer            17.0  \n",
       "#DigitalLivesMatter          NaN  \n",
       "...                          ...  \n",
       "xXx: Return of Xander Cage  34.0  \n",
       "xXx: State of the Union      NaN  \n",
       "\n",
       "[75001 rows x 5 columns]"
      ]
     },
     "execution_count": 321,
     "metadata": {},
     "output_type": "execute_result"
    }
   ],
   "source": [
    "c"
   ]
  },
  {
   "cell_type": "code",
   "execution_count": 309,
   "metadata": {},
   "outputs": [
    {
     "data": {
      "text/plain": [
       "<pandas.core.groupby.generic.SeriesGroupBy object at 0x00000291C0AAB988>"
      ]
     },
     "execution_count": 309,
     "metadata": {},
     "output_type": "execute_result"
    }
   ],
   "source": [
    "cg1=c['name'].groupby(c['year'])\n",
    "cg1"
   ]
  },
  {
   "cell_type": "code",
   "execution_count": 325,
   "metadata": {},
   "outputs": [
    {
     "name": "stdout",
     "output_type": "stream",
     "text": [
      "1912\n",
      "title\n",
      "From the Manger to the Cross; or, Jesus of Nazareth    James D. Ainsley\n",
      "Karnevalsnattens Gaade                                       Gyda Aller\n",
      "Satana                                                       Rina Albry\n",
      "Name: name, dtype: object\n",
      "1913\n",
      "title\n",
      "Ballettens Datter              Svend Aggerholm\n",
      "Die Augen des Ole Brandis           Emil Albes\n",
      "                                    ...       \n",
      "Prinsesse Elena                Svend Aggerholm\n",
      "The Girl of the Sunny South          Sol Alkin\n",
      "Name: name, Length: 10, dtype: object\n",
      "1914\n",
      "title\n",
      "After the Ball                 Nina (II) Allen\n",
      "After the Ball                      G.H. Adams\n",
      "                                  ...         \n",
      "Where the Trail Divides        Constance Adams\n",
      "Zigo                       Hakon Ahnfelt-R?nne\n",
      "Name: name, Length: 61, dtype: object\n",
      "1915\n",
      "title\n",
      "'Twas Ever Thus            Art Acord\n",
      "1914                     Gerald Ames\n",
      "                           ...      \n",
      "Whoso Diggeth a Pit      Gerald Ames\n",
      "Young Romance          Dorothy Abril\n",
      "Name: name, Length: 82, dtype: object\n",
      "1916\n",
      "title\n",
      "20,000 Leagues Under the Sea    Lois Alexander\n",
      "A Bird of Prey                   Kathryn Adams\n",
      "                                     ...      \n",
      "When Love Is King                Lucille Allen\n",
      "Whispering Smith                    Hugh Adams\n",
      "Name: name, Length: 116, dtype: object\n",
      "1917\n",
      "title\n",
      "A Child of the Wild          John G. Adolfi\n",
      "A Gamble for Love               Gerald Ames\n",
      "                                  ...      \n",
      "Trooper 44                    Lynn G. Adams\n",
      "Vengeance - and the Woman         Tex Allen\n",
      "Name: name, Length: 117, dtype: object\n",
      "1918\n",
      "title\n",
      "A Fortune at Stake             Gerald Ames\n",
      "A Gentleman's Agreement       Jacob Abrams\n",
      "                                  ...     \n",
      "With Neatness and Dispatch     Ricca Allen\n",
      "Woman                          Diana Allen\n",
      "Name: name, Length: 133, dtype: object\n",
      "1919\n",
      "title\n",
      "A Damsel in Distress              Arthur Albro\n",
      "A Gentleman of Quality           Kathryn Adams\n",
      "                                    ...       \n",
      "You Never Saw Such a Girl     Gerard Alexander\n",
      "Zwischen Lachen und Weinen     Georg Alexander\n",
      "Name: name, Length: 147, dtype: object\n",
      "1920\n",
      "title\n",
      "39 East          Frank Allworth\n",
      "39 East            Luis Alberni\n",
      "                      ...      \n",
      "Wits vs. Wits    Coit Albertson\n",
      "Yes or No          Lionel Adams\n",
      "Name: name, Length: 127, dtype: object\n",
      "1921\n",
      "title\n",
      "A Poor Relation           Sidney Ainsworth\n",
      "A Shocking Night                Alta Allen\n",
      "                                ...       \n",
      "Winners of the West              Art Acord\n",
      "You Find It Everywhere    Dora Mills Adams\n",
      "Name: name, Length: 112, dtype: object\n",
      "1922\n",
      "title\n",
      "A Dangerous Game       Spottiswoode Aitken\n",
      "A Dangerous Game              Robert Agnew\n",
      "                              ...         \n",
      "Who Are My Parents?           Robert Agnew\n",
      "Without Fear                  Robert Agnew\n",
      "Name: name, Length: 94, dtype: object\n",
      "1923\n",
      "title\n",
      "A Gentleman of Leisure      Alfred Allen\n",
      "A Man's Man               Arthur Allardt\n",
      "                               ...      \n",
      "Why Worry?                    John Aasen\n",
      "Woman-Proof                 Robert Agnew\n",
      "Name: name, Length: 100, dtype: object\n",
      "1924\n",
      "title\n",
      "$50,000 Reward          Augusta Ain\n",
      "A Fool's Awakening       Mary Alden\n",
      "                          ...      \n",
      "Youth for Sale        Dorothy Allen\n",
      "Youth for Sale          May Allison\n",
      "Name: name, Length: 95, dtype: object\n",
      "1925\n",
      "title\n",
      "A Daughter of the Sioux              Fay Adams\n",
      "Accused                    Spottiswoode Aitken\n",
      "                                  ...         \n",
      "Yser                                  L?o Adel\n",
      "Yser                             Adjudant Aeke\n",
      "Name: name, Length: 134, dtype: object\n",
      "1926\n",
      "title\n",
      "A Hero of the Big Snows    Don Alvarado\n",
      "Akunin de atta kare           Gishi Abe\n",
      "                               ...     \n",
      "Wild Oats Lane             Robert Agnew\n",
      "Yellow Fingers             Claire Adams\n",
      "Name: name, Length: 98, dtype: object\n",
      "1927\n",
      "title\n",
      "A Daughter in Revolt    Patrick Aherne\n",
      "A Woman Redeemed          Brian Aherne\n",
      "                             ...      \n",
      "Zare                      M. Aghamalov\n",
      "Zare                    N. Aghambekyan\n",
      "Name: name, Length: 113, dtype: object\n",
      "1928\n",
      "title\n",
      "A Certain Young Man           Ren?e Ador?e\n",
      "A Girl in Every Port            Maria Alba\n",
      "                                ...       \n",
      "What a Night!                  Ernie Adams\n",
      "Yego prevoskhoditelstvo    Tamara Adelgeym\n",
      "Name: name, Length: 116, dtype: object\n",
      "1929\n",
      "title\n",
      "45 Calibre War                                                 Floyd Ames\n",
      "Acquitted                                                Erville Alderson\n",
      "                                                               ...       \n",
      "Words and Music                                           Darline Addison\n",
      "Zwischen vierzehn und siebzehn - Sexualnot der Jugend       Fritz Alberti\n",
      "Name: name, Length: 132, dtype: object\n",
      "1930\n",
      "title\n",
      "A Devil with Women    Luana Alca?iz\n",
      "A Lady to Love          Robert Ames\n",
      "                          ...      \n",
      "Zwei Menschen         Fritz Alberti\n",
      "Zwei Menschen           Bernd Aldor\n",
      "Name: name, Length: 186, dtype: object\n",
      "1931\n",
      "title\n",
      "1914, die letzten Tage vor dem Weltbrand        Alfred Abel\n",
      "1914, die letzten Tage vor dem Weltbrand      Fritz Alberti\n",
      "                                                 ...       \n",
      "Young Sinners                               Hardie Albright\n",
      "Ze soboty na nedeli                          Jindrich Adolf\n",
      "Name: name, Length: 220, dtype: object\n",
      "1932\n",
      "title\n",
      "A Farewell to Arms                  Alice Adair\n",
      "A Parisian Romance                 Luis Alberni\n",
      "                                    ...        \n",
      "Zaganella e il cavaliere        Marcella Albani\n",
      "Zwei Herzen und ein Schlag    Wolf Albach-Retty\n",
      "Name: name, Length: 252, dtype: object\n",
      "1933\n",
      "title\n",
      "42nd Street            Harry Akst\n",
      "A Bedtime Story     Adrienne Ames\n",
      "                        ...      \n",
      "Yes, Madam            Muriel Aked\n",
      "Zoo in Budapest    Wally Albright\n",
      "Name: name, Length: 249, dtype: object\n",
      "1934\n",
      "title\n",
      "A Demon for Trouble      Don Alvarado\n",
      "A Very Honorable Guy      Ernie Adams\n",
      "                            ...      \n",
      "You're Telling Me!      Adrienne Ames\n",
      "Young and Beautiful      Judith Allen\n",
      "Name: name, Length: 351, dtype: object\n",
      "1935\n",
      "title\n",
      "A Feather in Her Hat        Harry Allen\n",
      "A Feather in Her Hat       Lowden Adams\n",
      "                             ...       \n",
      "Women Must Dress        Hardie Albright\n",
      "Yasmin                  Alexander (III)\n",
      "Name: name, Length: 398, dtype: object\n",
      "1936\n",
      "title\n",
      "36 Hours to Kill       James Adamson\n",
      "65, 66 och jag            Elof Ahrle\n",
      "                          ...       \n",
      "Woman Trap          Francisco Alonso\n",
      "Yellowstone           Claud Allister\n",
      "Name: name, Length: 444, dtype: object\n",
      "1937\n",
      "title\n",
      "23 1/2 Hours Leave               Murray Alper\n",
      "45 Fathers                          Leon Ames\n",
      "                                   ...       \n",
      "Zu neuen Ufern                   Boris Alekin\n",
      "Zweimal zwei im Himmelbett    Georg Alexander\n",
      "Name: name, Length: 470, dtype: object\n",
      "1938\n",
      "title\n",
      "A Rosa do Adro    Adelina Abranches\n",
      "A Rosa do Adro    Silvestre Alegrim\n",
      "                        ...        \n",
      "Zangezur             Hasmik Agopyan\n",
      "Zangezur           Tsolak Amerikyan\n",
      "Name: name, Length: 431, dtype: object\n",
      "1939\n",
      "title\n",
      "...One Third of a Nation...        Iris Adrian\n",
      "6,000 Enemies                      Ernie Adams\n",
      "                                    ...       \n",
      "Zangiku monogatari              Fumiko Akimoto\n",
      "Zolotoy klyuchik               Tamara Adelgeym\n",
      "Name: name, Length: 447, dtype: object\n",
      "1940\n",
      "title\n",
      "'Swing it' magistern     Carl-Mikael Alw\n",
      "'Swing it' magistern     Gunnar Almqvist\n",
      "                              ...       \n",
      "Yukon Flight                 Ernie Adams\n",
      "Zakon zhizni            Aleksey Alekseev\n",
      "Name: name, Length: 435, dtype: object\n",
      "1941\n",
      "title\n",
      "'Pimpernel' Smith             Hector Abbas\n",
      "49th Parallel        George (IV) Alexander\n",
      "                             ...          \n",
      "Ziegfeld Girl             Betty (II) Allen\n",
      "Ziegfeld Girl                   Jimmy Ames\n",
      "Name: name, Length: 444, dtype: object\n",
      "1942\n",
      "title\n",
      "A Date with the Falcon      Fred Aldrich\n",
      "A Night to Remember         Brian Aherne\n",
      "                               ...      \n",
      "Zamindar                  M. (III) Ajmal\n",
      "Zamindar                          Akhtar\n",
      "Name: name, Length: 447, dtype: object\n",
      "1943\n",
      "title\n",
      "A '28-as'            ?gnes Alm?ssy\n",
      "A Gentle Gangster      Ernie Adams\n",
      "                         ...      \n",
      "Young Ideas           Fred Aldrich\n",
      "Young Ideas             Ed Agresti\n",
      "Name: name, Length: 404, dtype: object\n",
      "1944\n",
      "title\n",
      "A Canterbury Tale           Baby Alder\n",
      "A Canterbury Tale          Joss Ambler\n",
      "                            ...       \n",
      "Zhila-byla devochka    Vera Altayskaya\n",
      "Zoya                    Tamara Altseva\n",
      "Name: name, Length: 382, dtype: object\n",
      "1945\n",
      "title\n",
      "13 stolar                Harry Ahlin\n",
      "13 stolar            Folke Algotsson\n",
      "                          ...       \n",
      "Ziegfeld Follies    Robert (II) Ames\n",
      "Ziegfeld Follies       Rod Alexander\n",
      "Name: name, Length: 397, dtype: object\n",
      "1946\n",
      "title\n",
      "100 dragspel och en flicka      Elof Ahrle\n",
      "13 Rue Madeleine               Walter Abel\n",
      "                                  ...     \n",
      "Without Reservations            Eric Alden\n",
      "Without Reservations          Fred Aldrich\n",
      "Name: name, Length: 384, dtype: object\n",
      "1947\n",
      "title\n",
      "'Fun on a Week-End'         Lester Allen\n",
      "2 cuentos para 2       Francisco Alarc?n\n",
      "                             ...        \n",
      "Wyoming                      Eddie Acuff\n",
      "Yankee Fakir                 Ernie Adams\n",
      "Name: name, Length: 389, dtype: object\n",
      "1948\n",
      "title\n",
      "A Date with Judy             Aladdin\n",
      "A Date with Judy           Leon Ames\n",
      "                            ...     \n",
      "Yo soy tu padre          Julio Ahuet\n",
      "You Gotta Stay Happy    Eddie Albert\n",
      "Name: name, Length: 366, dtype: object\n",
      "1949\n",
      "title\n",
      "A Connecticut Yankee in King Arthur's Court    Fred Aldrich\n",
      "A Connecticut Yankee in King Arthur's Court      Eric Alden\n",
      "                                                   ...     \n",
      "Zorina                                             Luz Alba\n",
      "Zorina                                           Luis Ald?s\n",
      "Name: name, Length: 349, dtype: object\n",
      "1950\n",
      "title\n",
      "48 oras                     Max Alvarado\n",
      "711 Ocean Drive             Fred Aldrich\n",
      "                             ...        \n",
      "Zhukovsky              Vsevolod Aksyonov\n",
      "Zwei in einem Anzug    Wolf Albach-Retty\n",
      "Name: name, Length: 373, dtype: object\n",
      "1951\n",
      "title\n",
      "91:an Karlssons bravader                           Georg Adelly\n",
      "Abbott and Costello Meet the Invisible Man           Bud Abbott\n",
      "                                                    ...        \n",
      "You're in the Navy Now                             Eddie Albert\n",
      "Zwei in einem Auto                            Wolf Albach-Retty\n",
      "Name: name, Length: 388, dtype: object\n",
      "1952\n",
      "title\n",
      "5 Fingers                        Diane Adrian\n",
      "A Killer Walks                 John Ainsworth\n",
      "                                    ...      \n",
      "Yukon Gold                        Iris Adrian\n",
      "Zombies of the Stratosphere       Frank Alten\n",
      "Name: name, Length: 418, dtype: object\n",
      "1953\n",
      "title\n",
      "36 Hours                Elsie Albiin\n",
      "36 Hours            Christine Adrian\n",
      "                          ...       \n",
      "Zastava v gorakh        Nina Agapova\n",
      "Zvezda                      Yu Abikh\n",
      "Name: name, Length: 448, dtype: object\n",
      "1954\n",
      "title\n",
      "08/15                            Mario Adorf\n",
      "A Bullet Is Waiting             Brian Aherne\n",
      "                               ...          \n",
      "Zapasnoy igrok         Konstantin Adashevsky\n",
      "Zemlya                     Tatyana Alekseeva\n",
      "Name: name, Length: 364, dtype: object\n",
      "1955\n",
      "title\n",
      "08/15 - In der Heimat         Mario Adorf\n",
      "08/15 - Zweiter Teil          Mario Adorf\n",
      "                               ...       \n",
      "Zoku keisatsu nikki              T?ru Abe\n",
      "Zvezdy na krylyakh       Aleksey Alekseev\n",
      "Name: name, Length: 377, dtype: object\n",
      "1956\n",
      "title\n",
      "1984                             Patrick Allen\n",
      "23 Paces to Baker Street         Robin Alalouf\n",
      "                                    ...       \n",
      "You Can't Run Away from It        Elvia Allman\n",
      "Za vlast Sovetov              Aleksey Alekseev\n",
      "Name: name, Length: 433, dtype: object\n",
      "1957\n",
      "title\n",
      "'Mal de amores' (Rogaciano el huapanguero)    Miguel Aceves Mej?a\n",
      "3:10 to Yuma                                        Dorothy Adams\n",
      "                                                     ...         \n",
      "Zagubione uczucia                                     Jan Adamski\n",
      "Zoo Baby                                            Peter Allenby\n",
      "Name: name, Length: 356, dtype: object\n",
      "1958\n",
      "title\n",
      "...und abends in die Scala       Richard Allan\n",
      "12 O'Clock                          Abrar Alvi\n",
      "                                    ...       \n",
      "Zum goldenen Ochsen            Willy Ackermann\n",
      "Zum goldenen Ochsen           Else Ackerschott\n",
      "Name: name, Length: 361, dtype: object\n",
      "1959\n",
      "title\n",
      "...Smena nachinayetsya v shest         Nina Agapova\n",
      "125 rue Montmartre                      Alfred Adam\n",
      "                                        ...        \n",
      "Zorro Rides Again                 Richard Alexander\n",
      "Zverolovy                                K. Albanov\n",
      "Name: name, Length: 374, dtype: object\n",
      "1960\n",
      "title\n",
      "2000 naftes ki ena koritsi            Linda Alma\n",
      "A Circle of Deception               Ronald Allen\n",
      "                                     ...        \n",
      "Zhdite pisem                    Vsevolod Abdulov\n",
      "Zvigenis kbili                Arsen Abramishvili\n",
      "Name: name, Length: 340, dtype: object\n",
      "1961\n",
      "title\n",
      "A Cold Wind in August    Lola Albright\n",
      "A Fever in the Blood        Don Ameche\n",
      "                             ...      \n",
      "Zindagi Aur Khwab                 Agha\n",
      "Zindagi Aur Khwab                 Ajit\n",
      "Name: name, Length: 344, dtype: object\n",
      "1962\n",
      "title\n",
      "...und deine Liebe auch        Bertina Acevedo\n",
      "10000 malchikov            Elizaveta Alekseeva\n",
      "                                  ...         \n",
      "Zwei Bayern in Bonn            Helmut Alimonta\n",
      "Zwei Bayern in Bonn               Thomas Alder\n",
      "Name: name, Length: 356, dtype: object\n",
      "1963\n",
      "title\n",
      "13 Frightened Girls                John Alvar\n",
      "4 for Texas                       Wesley Addy\n",
      "                                ...          \n",
      "Yo, el mujeriego              Antonio Aguilar\n",
      "Znakomtes, Baluyev!    Boris (II) Aleksandrov\n",
      "Name: name, Length: 337, dtype: object\n",
      "1964\n",
      "title\n",
      "13 dni                  Yanush Alurkov\n",
      "36 Hours                    Leon Alton\n",
      "                          ...         \n",
      "Zvezda Ulugbeka           Seifi Alimov\n",
      "Zvezda Ulugbeka    Ulmas Alikhodzhayev\n",
      "Name: name, Length: 379, dtype: object\n",
      "1965\n",
      "title\n",
      "100.000 dollari per Ringo    Rafael Albaic?n\n",
      "24 Hours to Kill               Melvina Amine\n",
      "                                  ...       \n",
      "Zatoichi sakate giri         Masako Akeboshi\n",
      "Zebra in the Kitchen          Victor Adamson\n",
      "Name: name, Length: 373, dtype: object\n",
      "1966\n",
      "title\n",
      "07 con el 2 delante (Agente: Jaime Bonet)    Francisco Aguilera\n",
      "10:30 P.M. Summer                                     Tota Alba\n",
      "                                                    ...        \n",
      "Zemlya ottsov                                   Murat Akhmadiev\n",
      "Zhen jia jin hu die                                      Wai Ai\n",
      "Name: name, Length: 358, dtype: object\n",
      "1967\n",
      "title\n",
      "10,000 dollari per un massacro     Adriana Ambesi\n",
      "15 forche per un assassino        Rafael Albaic?n\n",
      "                                       ...       \n",
      "Zinda Laash                             Allauddin\n",
      "Zlatna pracka                       Danica Acimac\n",
      "Name: name, Length: 403, dtype: object\n",
      "1968\n",
      "title\n",
      "30 Is a Dangerous Age, Cynthia    Yemi Goodman Ajibade\n",
      "5 de chocolate y 1 de fresa             V?ctor Alcocer\n",
      "                                          ...         \n",
      "Zapomnim etot den                   Voldemar Akuraters\n",
      "Zvuchi tam-tam!                        Murad Abuseytov\n",
      "Name: name, Length: 394, dtype: object\n",
      "1969\n",
      "title\n",
      "12 + 1                       Antonio Altoviti\n",
      "2000 Years Later                  John Abbott\n",
      "                                   ...       \n",
      "Zoku otoko wa tsurai yo         Taisaku Akino\n",
      "Zorro marchese di Navarra        Ugo Adinolfi\n",
      "Name: name, Length: 459, dtype: object\n",
      "1970\n",
      "title\n",
      "A Bullet for Pretty Boy            Jeff Alexander\n",
      "A Bullet for Pretty Boy               Ethan Allen\n",
      "                                       ...       \n",
      "Znaki na drodze                    Boleslaw Abart\n",
      "Zorro alla corte d'Inghilterra    Tullio Altamura\n",
      "Name: name, Length: 452, dtype: object\n",
      "1971\n",
      "title\n",
      "'Doc'             Vivian Allen\n",
      "'Doc'       Florencio Amarilla\n",
      "                   ...        \n",
      "Zeppelin           Ronald Adam\n",
      "Zlozor          Jozef Adamovic\n",
      "Name: name, Length: 423, dtype: object\n",
      "1972\n",
      "title\n",
      "150 na godzine     Aleksander Aleksy\n",
      "1776                      Andy Albin\n",
      "                         ...        \n",
      "Zaraza                Boleslaw Abart\n",
      "Zindagi Zindagi           Jalal Agha\n",
      "Name: name, Length: 398, dtype: object\n",
      "1973\n",
      "title\n",
      "...E di Saul e dei sicari sulle vie di Damasco            Jamil Amad\n",
      "...E di Saul e dei sicari sulle vie di Damasco            Jamil Amad\n",
      "                                                         ...        \n",
      "Zoom, Zoom, Superman!                                   Max Alvarado\n",
      "Zuta                                              Slobodan Aligrudic\n",
      "Name: name, Length: 430, dtype: object\n",
      "1974\n",
      "title\n",
      "'n Sonneblom uit Parys              Kitty Albertyn\n",
      "4 marmittoni alle grandi manovre       Gianni Agus\n",
      "                                         ...      \n",
      "Zoku tameiki                          Keiko Aikawa\n",
      "Zvezda ekrana                         Nina Agapova\n",
      "Name: name, Length: 478, dtype: object\n",
      "1975\n",
      "title\n",
      "'Sheba, Baby'                                                  Mike (IV) Adams\n",
      "A Taste of Decadence                                             John Alderman\n",
      "                                                                 ...          \n",
      "Zvezda plenitelnogo schastya                             Eleonora Aleksandrova\n",
      "Zwaarmoedige verhalen voor bij de centrale verwarming               Henny Alma\n",
      "Name: name, Length: 438, dtype: object\n",
      "1976\n",
      "title\n",
      "40 gradi all'ombra del lenzuolo              Christian Aligny\n",
      "72 gradusa nizhe nulya                      Aleksandr Abdulov\n",
      "                                                  ...        \n",
      "Won Ton Ton: The Dog Who Saved Hollywood          Robert Alda\n",
      "Yaman delikanli                                Leman Ak?atepe\n",
      "Name: name, Length: 447, dtype: object\n",
      "1977\n",
      "title\n",
      ".357 Magnum                Priscilla Alden\n",
      "A Bridge Too Far         Sebastian Abineri\n",
      "                               ...        \n",
      "Yerkunq                      Vera Alentova\n",
      "You Light Up My Life    Rosemary Alexander\n",
      "Name: name, Length: 435, dtype: object\n",
      "1978\n",
      "title\n",
      "1922                      Antigoni Amanitou\n",
      "A Different Story            Richard Altman\n",
      "                                ...        \n",
      "Zi yue shi si xing ye                Fei Ai\n",
      "Zwischengleis            Alexander Allerson\n",
      "Name: name, Length: 423, dtype: object\n",
      "1979\n",
      "title\n",
      "10                         Jesse Adams\n",
      "10                         Julie Alter\n",
      "                             ...      \n",
      "Zivi bili pa vidjeli      Bozidar Alic\n",
      "Zombi 2                 Nick Alexander\n",
      "Name: name, Length: 419, dtype: object\n",
      "1980\n",
      "title\n",
      "1958            Margot Alfstad\n",
      "203 kochi       Shigeru Amachi\n",
      "                     ...      \n",
      "Za spichkami      Olavi Ahonen\n",
      "Zappatore        Gerardo Amato\n",
      "Name: name, Length: 427, dtype: object\n",
      "1981\n",
      "title\n",
      "...All the Marbles              Angela Aames\n",
      "...All the Marbles      Irma Eugenia Aguilar\n",
      "                                ...         \n",
      "Zoot Suit                     Charles Aidman\n",
      "Zorro: The Gay Blade         Eduardo Alcaraz\n",
      "Name: name, Length: 501, dtype: object\n",
      "1982\n",
      "title\n",
      "13. jul                         Slobodan Aligrudic\n",
      "1990: I guerrieri del Bronx         Nick Alexander\n",
      "                                      ...         \n",
      "Zolotaya osen                  Dinmukhamet Akhimov\n",
      "Zolotoye runo                      Rudzhab Adashev\n",
      "Name: name, Length: 487, dtype: object\n",
      "1983\n",
      "title\n",
      "10 to Midnight                            Daniel Ades\n",
      "A Night to Dismember                   Alexandria (V)\n",
      "                                          ...        \n",
      "Zvezda i smert Khoakina Muryety    Sokrat Abdukadyrov\n",
      "Zvezda i smert Khoakina Muryety        Adel Al-Khadad\n",
      "Name: name, Length: 484, dtype: object\n",
      "1984\n",
      "title\n",
      "'Merika        Boogie Abaya\n",
      "'Merika       Cesar Aliparo\n",
      "                  ...      \n",
      "Yosma            Tarik Akan\n",
      "Zavallilar     Zehra Akt?rk\n",
      "Name: name, Length: 531, dtype: object\n",
      "1985\n",
      "title\n",
      "1918                 Norma (II) Allen\n",
      "1918             Allan (II) Alexander\n",
      "                         ...         \n",
      "Zulm Ka Badla                  Ameeta\n",
      "Zuma                Rey 'PJ' Abellana\n",
      "Name: name, Length: 620, dtype: object\n",
      "1986\n",
      "title\n",
      "3 Supermen in S. Domingo        Bitto Albertini\n",
      "3:15                                John Achorn\n",
      "                                   ...         \n",
      "Zloty pociag                   Mircea Albulescu\n",
      "Zloty pociag                Wlodzimierz Adamski\n",
      "Name: name, Length: 535, dtype: object\n",
      "1987\n",
      "title\n",
      "*batteries not included              Tom Aldredge\n",
      "3 Men and a Baby                  Alexandra Amini\n",
      "                                    ...          \n",
      "Zyat iz provintsii            Dinmukhamet Akhimov\n",
      "Zyat iz provintsii         Kalampyr Ajsangaliyeva\n",
      "Name: name, Length: 655, dtype: object\n",
      "1988\n",
      "title\n",
      "'Crocodile' Dundee II    Jace Alexander\n",
      "'Crocodile' Dundee II       Tatyana Ali\n",
      "                              ...      \n",
      "Zombi 3                    Rene Abadeza\n",
      "Zombie Brigade           Shane Abdullah\n",
      "Name: name, Length: 655, dtype: object\n",
      "1989\n",
      "title\n",
      "A Case of Honor                                       Aleli Abadilla\n",
      "A More Perfect Union: America Becomes a Nation      K. Haybron Adams\n",
      "                                                         ...        \n",
      "Zhi zun wu shang                                         Mike Abbott\n",
      "Zona V-2                                          Marian Aleksandrov\n",
      "Name: name, Length: 659, dtype: object\n",
      "1990\n",
      "title\n",
      "3 Men and a Little Lady       Rosalind Allen\n",
      "A Man Called... Rainbo         Scott Altizer\n",
      "                                 ...        \n",
      "Zhenskiy den               Tatyana Agafonova\n",
      "Zoo Radio                        Mike Akrawi\n",
      "Name: name, Length: 679, dtype: object\n",
      "1991\n",
      "title\n",
      "'Merci la vie'                    Bruno Abraham-Kremer\n",
      "29th Street                               Danny Aiello\n",
      "                                          ...         \n",
      "Zwischen Pankow und Zehlendorf            Eugen Albert\n",
      "Zwischen Pankow und Zehlendorf       Kathrin Ackermann\n",
      "Name: name, Length: 637, dtype: object\n",
      "1992\n",
      "title\n",
      "92: Hak Mooi Gwai dui Hak Mooi Gwai    Lawrence Ah Mon\n",
      "A League of Their Own                    Shelly Adlard\n",
      "                                            ...       \n",
      "Zlatne godine                           Dejan Acimovic\n",
      "Zvezda sherifa                         Irina Alfyorova\n",
      "Name: name, Length: 623, dtype: object\n",
      "1993\n",
      "title\n",
      "23h58                  Val?rie Aberman\n",
      "A Bronx Tale          Elizabeth Abassi\n",
      "                            ...       \n",
      "Zong heng tian xia          Greg Algie\n",
      "Zong heng tian xia        Jimmy Aluisi\n",
      "Name: name, Length: 644, dtype: object\n",
      "1994\n",
      "title\n",
      "00 Schneider - Jagd auf Nihil Baxter                        Werner Abrolat\n",
      "119                                                          Hidekazu Akai\n",
      "                                                               ...        \n",
      "Zirzami                                                  Farman Abdullayev\n",
      "Zivot a neobycejna dobrodruzstvi vojaka Ivana Conkina    Tatyana Agafonova\n",
      "Name: name, Length: 691, dtype: object\n",
      "1995\n",
      "title\n",
      "...And the Earth Did Not Swallow Him     Jose Alcala\n",
      "30:e november                            Steve Aalam\n",
      "                                            ...     \n",
      "Writer's Block                           Robyn Allen\n",
      "Yaqui indomable                         Mario Almada\n",
      "Name: name, Length: 783, dtype: object\n",
      "1996\n",
      "title\n",
      "$40,000                      Michael Agbabian\n",
      "2 Days in the Valley             Danny Aiello\n",
      "                                   ...       \n",
      "Zolgot Hadma'ot Me'atzman          Yael Almog\n",
      "Zone 39                       Shane Alexander\n",
      "Name: name, Length: 769, dtype: object\n",
      "1997\n",
      "title\n",
      "'El Chicko' - der Verdacht        Karim Allaoui\n",
      "'Til There Was You                  John Achorn\n",
      "                                    ...        \n",
      "Yung po giu yeung             Ricardo Alexander\n",
      "Ziddi                               Richa Ahuja\n",
      "Name: name, Length: 929, dtype: object\n",
      "1998\n",
      "title\n",
      "16 en la lista    Laura Alexandra\n",
      "2 secondes           Carl Alacchi\n",
      "                       ...       \n",
      "fl 19,99            Marijke Aerts\n",
      "fl 19,99              Thomas Acda\n",
      "Name: name, Length: 867, dtype: object\n",
      "1999\n",
      "title\n",
      "'Di puwedeng hindi puwede!            Bayani Agbayani\n",
      "'Di puwedeng hindi puwede!               Nick Aladdin\n",
      "                                       ...           \n",
      "Zombie Spoof                  Christian (II) Ackerman\n",
      "Zombie Spoof                       Chad (IV) Ackerman\n",
      "Name: name, Length: 1030, dtype: object\n",
      "2000\n",
      "title\n",
      "...und das ist erst der Anfang        Sinan Akkus\n",
      "100 Girls                         Kristina Anapau\n",
      "                                       ...       \n",
      "Zora la vampira                     Elda Alvigini\n",
      "Zzikhimyeon jukneunda                Jae-hwan Ahn\n",
      "Name: name, Length: 1069, dtype: object\n",
      "2001\n",
      "title\n",
      "'R Xmas      Raul (II) Acosta\n",
      "'R Xmas         Anne Ackerman\n",
      "                   ...       \n",
      "Zoolander         Angel 11:11\n",
      "Zoolander     Heidi Albertsen\n",
      "Name: name, Length: 1099, dtype: object\n",
      "2002\n",
      "title\n",
      "11'09''01 - September 11            Taleb Adlah\n",
      "11'09''01 - September 11    Hesham Abd Elkhaleq\n",
      "                                   ...         \n",
      "Zendan-e zanan                 Pegah Ahangarani\n",
      "Zwischen den Sternen                 Fatih Alas\n",
      "Name: name, Length: 1168, dtype: object\n",
      "2003\n",
      "title\n",
      "...The Making of...     Noor (III) Ahmed\n",
      "1 2 3                        Jared Adams\n",
      "                             ...        \n",
      "Zero Day               Serataren Adragna\n",
      "Zurdo                       Daniel Acu?a\n",
      "Name: name, Length: 1153, dtype: object\n",
      "2004\n",
      "title\n",
      "(Past Present Future) Imperfect    Christine Adams\n",
      "06/05                                 Dave Abspoel\n",
      "                                        ...       \n",
      "Zeyda and the Hitman                   Onalee Ames\n",
      "inter.m@tes                            Jojo Alejar\n",
      "Name: name, Length: 1372, dtype: object\n",
      "2005\n",
      "title\n",
      "'D'                             Ishrat Ali\n",
      "...Yahaan                  Dolly Ahluwalia\n",
      "                                ...       \n",
      "Zwarte zwanen              Adewale Akwande\n",
      "xXx: State of the Union      Robert Alonzo\n",
      "Name: name, Length: 1627, dtype: object\n",
      "2006\n",
      "title\n",
      "'Wag kang lilingon      Marvin Agustin\n",
      "'Wag kang lilingon    Girlie Alcantara\n",
      "                            ...       \n",
      "Zuzu Angel                S?rgio Abreu\n",
      "Zwartboek                  Tomer Agami\n",
      "Name: name, Length: 1910, dtype: object\n",
      "2007\n",
      "title\n",
      ".hack//G.U. Trilogy         Sayaka Aida\n",
      "07-y menyaet kurs      Victor Afanasiev\n",
      "                             ...       \n",
      "Zone libre             Lionel Abelanski\n",
      "w Delta z                 Barbara Adair\n",
      "Name: name, Length: 1996, dtype: object\n",
      "2008\n",
      "title\n",
      "$5 a Day            Sequoyah Adams-Rice\n",
      "$5 a Day                Lynda Alhussiny\n",
      "                           ...         \n",
      "Zombie Strippers               Jen Alex\n",
      "Zombthology                  Eero Aames\n",
      "Name: name, Length: 2293, dtype: object\n",
      "2009\n",
      "title\n",
      "(500) Days of Summer    Eileen Abarrca\n",
      "1 Day                    Rianna Aldred\n",
      "                             ...      \n",
      "Zone of the Dead           Steve Agnew\n",
      "Zone of the Dead        Stevan Aleksic\n",
      "Name: name, Length: 2512, dtype: object\n",
      "2010\n",
      "title\n",
      "'Master Harold' ... And the Boys      Mervyn Africa\n",
      "'Master Harold' ... And the Boys    Sheena Abrahams\n",
      "                                         ...       \n",
      "Zombrex: Dead Rising Sun              Hiroko Aihara\n",
      "Zot van A.                             R. Kan Albay\n",
      "Name: name, Length: 2553, dtype: object\n",
      "2011\n",
      "title\n",
      "00 - Zero Zero 3D              Massimiliano Alto\n",
      "03:34 Terremoto en Chile    Marcelo (III) Alonso\n",
      "                                    ...         \n",
      "eCupid                          Christy Alvarado\n",
      "eCupid                                Shon Abram\n",
      "Name: name, Length: 2780, dtype: object\n",
      "2012\n",
      "title\n",
      "009 Re: Cyborg          Gregory Abbey\n",
      "009 Re: Cyborg            Saeko Akiho\n",
      "                         ...         \n",
      "Zvyozdniy vors           Boris Akimov\n",
      "Zvyozdniy vors    Ruslan Abdrakhmanov\n",
      "Name: name, Length: 3011, dtype: object\n",
      "2013\n",
      "title\n",
      "#1 Serial Killer              Michael Alton\n",
      ".357                 Michael (VIII) Alvarez\n",
      "                              ...          \n",
      "Zug der Abenteuer          Eldrid Alveratis\n",
      "Zulu                          Ivan Abrahams\n",
      "Name: name, Length: 3110, dtype: object\n",
      "2014\n",
      "title\n",
      "#Nerealnaya lyubov    Marina Aleksandrova\n",
      "#Stuck                       Gaby Alcazar\n",
      "                             ...         \n",
      "bestefreunde            Tina Amon Amonsen\n",
      "el Ziara                  Manel Abdelkoui\n",
      "Name: name, Length: 3309, dtype: object\n",
      "2015\n",
      "title\n",
      "#Horror                                 Emma Adler\n",
      "#Lucky Number                         Grace Abbott\n",
      "                                      ...         \n",
      "Zombies of the Living Dead          Chase Ackerman\n",
      "Zombieworld                   Kevin Allen-Bicknell\n",
      "Name: name, Length: 3439, dtype: object\n",
      "2016\n",
      "title\n",
      "#DigitalLivesMatter                Rashan Ali\n",
      "#modelswanted               Stephanie Almeida\n",
      "                                  ...        \n",
      "kingdom of ants                 Zayar Abdulla\n",
      "les aventures d'archives          Buzz Aldrin\n",
      "Name: name, Length: 3841, dtype: object\n",
      "2017\n",
      "title\n",
      "#FromJennifer                 Christian Ackerman\n",
      "#FromJennifer                       Aaron Abrams\n",
      "                                     ...        \n",
      "xXx: Return of Xander Cage           Jeimi Abila\n",
      "xXx: Return of Xander Cage         Wayne Ambrose\n",
      "Name: name, Length: 2159, dtype: object\n",
      "2018\n",
      "title\n",
      "1 vs. 100: The Quality of Love          Jill Adler\n",
      "24 Hours Away                      Fernando Abadie\n",
      "                                        ...       \n",
      "Yes?                                   Ed Amatrudo\n",
      "Zelda's Pepperonis                Sarah Alexandria\n",
      "Name: name, Length: 158, dtype: object\n",
      "2019\n",
      "title\n",
      "Charley Willis        James Alcorn\n",
      "DarkNet           Chozy Rani Aiyub\n",
      "                        ...       \n",
      "Toy Story 4              Lori Alan\n",
      "Why Bully Me        Jamal Alkhaldi\n",
      "Name: name, Length: 16, dtype: object\n",
      "2020\n",
      "title\n",
      "Bses Slwl I: The Musical Journey         Sudarshan Acharya\n",
      "Gordon's Quest                               Kaniah Alston\n",
      "Nostradamus Mission 3: Alien Invasion          Misan Akuya\n",
      "Roses in the Concrete                        Darren Alford\n",
      "Name: name, dtype: object\n",
      "2023\n",
      "title\n",
      "Inside Me    Victoria Alcala\n",
      "Inside Me    Victoria Alcala\n",
      "Inside Me     Antonio Alcala\n",
      "Name: name, dtype: object\n"
     ]
    }
   ],
   "source": [
    "for ano,nombre in cg1:\n",
    "    print(ano)\n",
    "    print(nombre)"
   ]
  },
  {
   "cell_type": "code",
   "execution_count": 322,
   "metadata": {},
   "outputs": [],
   "source": [
    "cg2=c['name'].groupby([c['type'],c['year']])"
   ]
  },
  {
   "cell_type": "code",
   "execution_count": 326,
   "metadata": {},
   "outputs": [
    {
     "name": "stdout",
     "output_type": "stream",
     "text": [
      "1912\n",
      "actor\n",
      "title\n",
      "From the Manger to the Cross; or, Jesus of Nazareth    James D. Ainsley\n",
      "Name: name, dtype: object\n",
      "1913\n",
      "actor\n",
      "title\n",
      "Ballettens Datter              Svend Aggerholm\n",
      "Die Augen des Ole Brandis           Emil Albes\n",
      "                                    ...       \n",
      "Prinsesse Elena                Svend Aggerholm\n",
      "The Girl of the Sunny South          Sol Alkin\n",
      "Name: name, Length: 9, dtype: object\n",
      "1914\n",
      "actor\n",
      "title\n",
      "After the Ball             G.H. Adams\n",
      "Arbejdet adler          Enoch Aagaard\n",
      "                         ...         \n",
      "Uriel Acosta                 B. Adler\n",
      "Zigo              Hakon Ahnfelt-R?nne\n",
      "Name: name, Length: 38, dtype: object\n",
      "1915\n",
      "actor\n",
      "title\n",
      "'Twas Ever Thus               Art Acord\n",
      "1914                        Gerald Ames\n",
      "                             ...       \n",
      "The White Sister       Sidney Ainsworth\n",
      "Whoso Diggeth a Pit         Gerald Ames\n",
      "Name: name, Length: 50, dtype: object\n",
      "1916\n",
      "actor\n",
      "title\n",
      "A Child of Mystery        Alfred Allen\n",
      "A Soul Enslaved           Alfred Allen\n",
      "                              ...     \n",
      "When Knights Were Bold     Gerald Ames\n",
      "Whispering Smith            Hugh Adams\n",
      "Name: name, Length: 57, dtype: object\n",
      "1917\n",
      "actor\n",
      "title\n",
      "A Child of the Wild          John G. Adolfi\n",
      "A Gamble for Love               Gerald Ames\n",
      "                                  ...      \n",
      "Trooper 44                    Lynn G. Adams\n",
      "Vengeance - and the Woman         Tex Allen\n",
      "Name: name, Length: 58, dtype: object\n",
      "1918\n",
      "actor\n",
      "title\n",
      "A Fortune at Stake                Gerald Ames\n",
      "A Gentleman's Agreement          Jacob Abrams\n",
      "                                  ...        \n",
      "Winner Takes All                 Alfred Allen\n",
      "With Hoops of Steel        Clifford Alexander\n",
      "Name: name, Length: 88, dtype: object\n",
      "1919\n",
      "actor\n",
      "title\n",
      "A Damsel in Distress              Arthur Albro\n",
      "A Man and His Money           Sidney Ainsworth\n",
      "                                    ...       \n",
      "Who's Your Brother?             Coit Albertson\n",
      "Zwischen Lachen und Weinen     Georg Alexander\n",
      "Name: name, Length: 83, dtype: object\n",
      "1920\n",
      "actor\n",
      "title\n",
      "39 East          Frank Allworth\n",
      "39 East            Luis Alberni\n",
      "                      ...      \n",
      "Wits vs. Wits    Coit Albertson\n",
      "Yes or No          Lionel Adams\n",
      "Name: name, Length: 67, dtype: object\n",
      "1921\n",
      "actor\n",
      "title\n",
      "A Poor Relation         Sidney Ainsworth\n",
      "A Tale of Two Worlds          Yutaka Abe\n",
      "                              ...       \n",
      "Winners of the West            Art Acord\n",
      "Winners of the West            Art Acord\n",
      "Name: name, Length: 64, dtype: object\n",
      "1922\n",
      "actor\n",
      "title\n",
      "A Dangerous Game       Spottiswoode Aitken\n",
      "A Dangerous Game              Robert Agnew\n",
      "                              ...         \n",
      "Who Are My Parents?           Robert Agnew\n",
      "Without Fear                  Robert Agnew\n",
      "Name: name, Length: 45, dtype: object\n",
      "1923\n",
      "actor\n",
      "title\n",
      "A Gentleman of Leisure      Alfred Allen\n",
      "A Man's Man               Arthur Allardt\n",
      "                               ...      \n",
      "Why Worry?                    John Aasen\n",
      "Woman-Proof                 Robert Agnew\n",
      "Name: name, Length: 64, dtype: object\n",
      "1924\n",
      "actor\n",
      "title\n",
      "A Girl of the Limberlost     Alfred Allen\n",
      "A Self-Made Failure         Ben Alexander\n",
      "                                ...      \n",
      "Wine                         Robert Agnew\n",
      "Wine of Youth                Robert Agnew\n",
      "Name: name, Length: 49, dtype: object\n",
      "1925\n",
      "actor\n",
      "title\n",
      "A Daughter of the Sioux              Fay Adams\n",
      "Accused                    Spottiswoode Aitken\n",
      "                                  ...         \n",
      "Yser                                  L?o Adel\n",
      "Yser                             Adjudant Aeke\n",
      "Name: name, Length: 88, dtype: object\n",
      "1926\n",
      "actor\n",
      "title\n",
      "A Hero of the Big Snows    Don Alvarado\n",
      "Akunin de atta kare           Gishi Abe\n",
      "                               ...     \n",
      "Western Pluck                 Art Acord\n",
      "Wild Oats Lane             Robert Agnew\n",
      "Name: name, Length: 69, dtype: object\n",
      "1927\n",
      "actor\n",
      "title\n",
      "A Daughter in Revolt    Patrick Aherne\n",
      "A Woman Redeemed          Brian Aherne\n",
      "                             ...      \n",
      "Woman's Law                  Sam Allen\n",
      "Zare                      M. Aghamalov\n",
      "Name: name, Length: 87, dtype: object\n",
      "1928\n",
      "actor\n",
      "title\n",
      "A Light Woman            Gerald Ames\n",
      "A Woman's Way            Ernie Adams\n",
      "                           ...      \n",
      "Virginia's Husband    Patrick Aherne\n",
      "What a Night!            Ernie Adams\n",
      "Name: name, Length: 83, dtype: object\n",
      "1929\n",
      "actor\n",
      "title\n",
      "45 Calibre War                                                 Floyd Ames\n",
      "Acquitted                                                Erville Alderson\n",
      "                                                               ...       \n",
      "Words and Music                                           Frank Albertson\n",
      "Zwischen vierzehn und siebzehn - Sexualnot der Jugend       Fritz Alberti\n",
      "Name: name, Length: 94, dtype: object\n",
      "1930\n",
      "actor\n",
      "title\n",
      "A Lady to Love                          Robert Ames\n",
      "All Quiet on the Western Front    Richard Alexander\n",
      "                                        ...        \n",
      "Zwei Menschen                         Fritz Alberti\n",
      "Zwei Menschen                           Bernd Aldor\n",
      "Name: name, Length: 138, dtype: object\n",
      "1931\n",
      "actor\n",
      "title\n",
      "1914, die letzten Tage vor dem Weltbrand        Alfred Abel\n",
      "1914, die letzten Tage vor dem Weltbrand      Fritz Alberti\n",
      "                                                 ...       \n",
      "Young Sinners                               Hardie Albright\n",
      "Ze soboty na nedeli                          Jindrich Adolf\n",
      "Name: name, Length: 175, dtype: object\n",
      "1932\n",
      "actor\n",
      "title\n",
      "A Parisian Romance                 Luis Alberni\n",
      "A Successful Calamity                 Leon Ames\n",
      "                                    ...        \n",
      "Winner Take All                 Ernie Alexander\n",
      "Zwei Herzen und ein Schlag    Wolf Albach-Retty\n",
      "Name: name, Length: 193, dtype: object\n",
      "1933\n",
      "actor\n",
      "title\n",
      "42nd Street                Harry Akst\n",
      "A Lady's Profession       Ernie Adams\n",
      "                            ...      \n",
      "When Ladies Meet         Luis Alberni\n",
      "Zoo in Budapest        Wally Albright\n",
      "Name: name, Length: 182, dtype: object\n",
      "1934\n",
      "actor\n",
      "title\n",
      "A Demon for Trouble           Don Alvarado\n",
      "A Very Honorable Guy           Ernie Adams\n",
      "                                 ...      \n",
      "You Belong to Me            Wally Albright\n",
      "You Can't Buy Everything     Tad Alexander\n",
      "Name: name, Length: 246, dtype: object\n",
      "1935\n",
      "actor\n",
      "title\n",
      "A Feather in Her Hat        Harry Allen\n",
      "A Feather in Her Hat       Lowden Adams\n",
      "                             ...       \n",
      "Women Must Dress        Hardie Albright\n",
      "Yasmin                  Alexander (III)\n",
      "Name: name, Length: 297, dtype: object\n",
      "1936\n",
      "actor\n",
      "title\n",
      "36 Hours to Kill       James Adamson\n",
      "65, 66 och jag            Elof Ahrle\n",
      "                          ...       \n",
      "Woman Trap          Francisco Alonso\n",
      "Yellowstone           Claud Allister\n",
      "Name: name, Length: 348, dtype: object\n",
      "1937\n",
      "actor\n",
      "title\n",
      "23 1/2 Hours Leave               Murray Alper\n",
      "45 Fathers                          Leon Ames\n",
      "                                   ...       \n",
      "Zu neuen Ufern                   Boris Alekin\n",
      "Zweimal zwei im Himmelbett    Georg Alexander\n",
      "Name: name, Length: 363, dtype: object\n",
      "1938\n",
      "actor\n",
      "title\n",
      "A Rosa do Adro     Silvestre Alegrim\n",
      "A Trip to Paris         Don Alvarado\n",
      "                         ...        \n",
      "Yvette                Curt Ackermann\n",
      "Zangezur            Tsolak Amerikyan\n",
      "Name: name, Length: 338, dtype: object\n",
      "1939\n",
      "actor\n",
      "title\n",
      "6,000 Enemies           Ernie Adams\n",
      "A People Eternal       Hector Abbas\n",
      "                          ...      \n",
      "Young Mr. Lincoln       Ernie Adams\n",
      "Zangiku monogatari    Jinichi Amano\n",
      "Name: name, Length: 348, dtype: object\n",
      "1940\n",
      "actor\n",
      "title\n",
      "'Swing it' magistern     Carl-Mikael Alw\n",
      "'Swing it' magistern     Gunnar Almqvist\n",
      "                              ...       \n",
      "Yukon Flight                 Ernie Adams\n",
      "Zakon zhizni            Aleksey Alekseev\n",
      "Name: name, Length: 327, dtype: object\n",
      "1941\n",
      "actor\n",
      "title\n",
      "'Pimpernel' Smith                  Hector Abbas\n",
      "49th Parallel             George (IV) Alexander\n",
      "                                  ...          \n",
      "You're in the Army Now             Murray Alper\n",
      "Ziegfeld Girl                        Jimmy Ames\n",
      "Name: name, Length: 334, dtype: object\n",
      "1942\n",
      "actor\n",
      "title\n",
      "A Date with the Falcon      Fred Aldrich\n",
      "A Night to Remember         Brian Aherne\n",
      "                               ...      \n",
      "Youth on Parade              Eddie Acuff\n",
      "Zamindar                  M. (III) Ajmal\n",
      "Name: name, Length: 348, dtype: object\n",
      "1943\n",
      "actor\n",
      "title\n",
      "A Gentle Gangster     Ernie Adams\n",
      "A Guy Named Joe         Kirk Alyn\n",
      "                         ...     \n",
      "Young Ideas          Fred Aldrich\n",
      "Young Ideas            Ed Agresti\n",
      "Name: name, Length: 304, dtype: object\n",
      "1944\n",
      "actor\n",
      "title\n",
      "A Canterbury Tale                Baby Alder\n",
      "A Canterbury Tale               Joss Ambler\n",
      "                                ...        \n",
      "Winged Victory           Jerry (VIII) Adler\n",
      "You Can't Ration Love           Harry Allen\n",
      "Name: name, Length: 287, dtype: object\n",
      "1945\n",
      "actor\n",
      "title\n",
      "13 stolar                Harry Ahlin\n",
      "13 stolar            Folke Algotsson\n",
      "                          ...       \n",
      "Ziegfeld Follies    Robert (II) Ames\n",
      "Ziegfeld Follies       Rod Alexander\n",
      "Name: name, Length: 299, dtype: object\n",
      "1946\n",
      "actor\n",
      "title\n",
      "100 dragspel och en flicka      Elof Ahrle\n",
      "13 Rue Madeleine               Walter Abel\n",
      "                                  ...     \n",
      "Without Reservations            Eric Alden\n",
      "Without Reservations          Fred Aldrich\n",
      "Name: name, Length: 286, dtype: object\n",
      "1947\n",
      "actor\n",
      "title\n",
      "'Fun on a Week-End'         Lester Allen\n",
      "2 cuentos para 2       Francisco Alarc?n\n",
      "                             ...        \n",
      "Wyoming                      Eddie Acuff\n",
      "Yankee Fakir                 Ernie Adams\n",
      "Name: name, Length: 311, dtype: object\n",
      "1948\n",
      "actor\n",
      "title\n",
      "A Date with Judy             Aladdin\n",
      "A Date with Judy           Leon Ames\n",
      "                            ...     \n",
      "Yo soy tu padre          Julio Ahuet\n",
      "You Gotta Stay Happy    Eddie Albert\n",
      "Name: name, Length: 271, dtype: object\n",
      "1949\n",
      "actor\n",
      "title\n",
      "A Connecticut Yankee in King Arthur's Court    Fred Aldrich\n",
      "A Connecticut Yankee in King Arthur's Court      Eric Alden\n",
      "                                                   ...     \n",
      "You're My Everything                           Robert Adler\n",
      "Zorina                                           Luis Ald?s\n",
      "Name: name, Length: 247, dtype: object\n",
      "1950\n",
      "actor\n",
      "title\n",
      "48 oras                     Max Alvarado\n",
      "711 Ocean Drive             Fred Aldrich\n",
      "                             ...        \n",
      "Zhukovsky              Vsevolod Aksyonov\n",
      "Zwei in einem Anzug    Wolf Albach-Retty\n",
      "Name: name, Length: 276, dtype: object\n",
      "1951\n",
      "actor\n",
      "title\n",
      "91:an Karlssons bravader                           Georg Adelly\n",
      "Abbott and Costello Meet the Invisible Man           Bud Abbott\n",
      "                                                    ...        \n",
      "You're in the Navy Now                             Eddie Albert\n",
      "Zwei in einem Auto                            Wolf Albach-Retty\n",
      "Name: name, Length: 299, dtype: object\n",
      "1952\n",
      "actor\n",
      "title\n",
      "A Killer Walks                   John Ainsworth\n",
      "Aaron Slick from Punkin Crick      Fred Aldrich\n",
      "                                      ...      \n",
      "Young Man with Ideas              John Albright\n",
      "Zombies of the Stratosphere         Frank Alten\n",
      "Name: name, Length: 322, dtype: object\n",
      "1953\n",
      "actor\n",
      "title\n",
      "99 River Street                      Jay Adler\n",
      "A Lion Is in the Streets        Victor Adamson\n",
      "                                   ...        \n",
      "Woman They Almost Lynched    Richard Alexander\n",
      "Zastava v gorakh              Aleksey Alekseev\n",
      "Name: name, Length: 348, dtype: object\n",
      "1954\n",
      "actor\n",
      "title\n",
      "08/15                            Mario Adorf\n",
      "A Bullet Is Waiting             Brian Aherne\n",
      "                               ...          \n",
      "Yaban kiz                    M?mtaz Alpaslan\n",
      "Zapasnoy igrok         Konstantin Adashevsky\n",
      "Name: name, Length: 273, dtype: object\n",
      "1955\n",
      "actor\n",
      "title\n",
      "08/15 - In der Heimat         Mario Adorf\n",
      "08/15 - Zweiter Teil          Mario Adorf\n",
      "                               ...       \n",
      "Zoku keisatsu nikki              T?ru Abe\n",
      "Zvezdy na krylyakh       Aleksey Alekseev\n",
      "Name: name, Length: 284, dtype: object\n",
      "1956\n",
      "actor\n",
      "title\n",
      "1984                             Patrick Allen\n",
      "23 Paces to Baker Street         Robin Alalouf\n",
      "                                    ...       \n",
      "You Can't Run Away from It      Jack Albertson\n",
      "Za vlast Sovetov              Aleksey Alekseev\n",
      "Name: name, Length: 312, dtype: object\n",
      "1957\n",
      "actor\n",
      "title\n",
      "'Mal de amores' (Rogaciano el huapanguero)    Miguel Aceves Mej?a\n",
      "A Baronesa Transviada                                Luiz Almeida\n",
      "                                                     ...         \n",
      "Zagubione uczucia                                     Jan Adamski\n",
      "Zoo Baby                                            Peter Allenby\n",
      "Name: name, Length: 249, dtype: object\n",
      "1958\n",
      "actor\n",
      "title\n",
      "...und abends in die Scala      Richard Allan\n",
      "12 O'Clock                         Abrar Alvi\n",
      "                                   ...       \n",
      "Yoru no kiba                         T?ru Abe\n",
      "Zum goldenen Ochsen           Willy Ackermann\n",
      "Name: name, Length: 265, dtype: object\n",
      "1959\n",
      "actor\n",
      "title\n",
      "125 rue Montmartre                                 Alfred Adam\n",
      "800 leguas por el Amazonas o (La jangada)      Enrique Aguilar\n",
      "                                                   ...        \n",
      "Zorro Rides Again                            Richard Alexander\n",
      "Zverolovy                                           K. Albanov\n",
      "Name: name, Length: 249, dtype: object\n",
      "1960\n",
      "actor\n",
      "title\n",
      "A Circle of Deception          Ronald Allen\n",
      "A tiro limpio                  Jorge Alzaga\n",
      "                                ...        \n",
      "Zhdite pisem               Vsevolod Abdulov\n",
      "Zvigenis kbili           Arsen Abramishvili\n",
      "Name: name, Length: 258, dtype: object\n",
      "1961\n",
      "actor\n",
      "title\n",
      "A Fever in the Blood    Don Ameche\n",
      "A Thunder of Drums      Mark Allen\n",
      "                           ...    \n",
      "Zindagi Aur Khwab             Agha\n",
      "Zindagi Aur Khwab             Ajit\n",
      "Name: name, Length: 244, dtype: object\n",
      "1962\n",
      "actor\n",
      "title\n",
      "13 West Street                Stanley Adams\n",
      "2 samurai per 100 geishe        Gianni Agus\n",
      "                                 ...       \n",
      "Zwei Bayern in Bonn         Helmut Alimonta\n",
      "Zwei Bayern in Bonn            Thomas Alder\n",
      "Name: name, Length: 271, dtype: object\n",
      "1963\n",
      "actor\n",
      "title\n",
      "13 Frightened Girls                John Alvar\n",
      "4 for Texas                       Wesley Addy\n",
      "                                ...          \n",
      "Yo, el mujeriego              Antonio Aguilar\n",
      "Znakomtes, Baluyev!    Boris (II) Aleksandrov\n",
      "Name: name, Length: 254, dtype: object\n",
      "1964\n",
      "actor\n",
      "title\n",
      "13 dni                  Yanush Alurkov\n",
      "36 Hours                    Leon Alton\n",
      "                          ...         \n",
      "Zvezda Ulugbeka           Seifi Alimov\n",
      "Zvezda Ulugbeka    Ulmas Alikhodzhayev\n",
      "Name: name, Length: 278, dtype: object\n",
      "1965\n",
      "actor\n",
      "title\n",
      "100.000 dollari per Ringo    Rafael Albaic?n\n",
      "24 Hours to Kill                Rachid Alami\n",
      "                                  ...       \n",
      "Young Dillinger                   Nick Adams\n",
      "Zebra in the Kitchen          Victor Adamson\n",
      "Name: name, Length: 277, dtype: object\n",
      "1966\n",
      "actor\n",
      "title\n",
      "07 con el 2 delante (Agente: Jaime Bonet)    Francisco Aguilera\n",
      "13 Number Feku Ostagar Lane                           Altaf (V)\n",
      "                                                    ...        \n",
      "Zemlya ottsov                                   Murat Akhmadiev\n",
      "Zhen jia jin hu die                                      Wai Ai\n",
      "Name: name, Length: 267, dtype: object\n",
      "1967\n",
      "actor\n",
      "title\n",
      "15 forche per un assassino     Rafael Albaic?n\n",
      "A Guide for the Married Man       Robert Aiken\n",
      "                                    ...       \n",
      "You Only Live Twice             Anthony Ainley\n",
      "Zinda Laash                          Allauddin\n",
      "Name: name, Length: 297, dtype: object\n",
      "1968\n",
      "actor\n",
      "title\n",
      "30 Is a Dangerous Age, Cynthia    Yemi Goodman Ajibade\n",
      "5 de chocolate y 1 de fresa             V?ctor Alcocer\n",
      "                                          ...         \n",
      "Zapomnim etot den                   Voldemar Akuraters\n",
      "Zvuchi tam-tam!                        Murad Abuseytov\n",
      "Name: name, Length: 302, dtype: object\n",
      "1969\n",
      "actor\n",
      "title\n",
      "12 + 1                       Antonio Altoviti\n",
      "2000 Years Later                  John Abbott\n",
      "                                   ...       \n",
      "Zoku otoko wa tsurai yo         Taisaku Akino\n",
      "Zorro marchese di Navarra        Ugo Adinolfi\n",
      "Name: name, Length: 327, dtype: object\n",
      "1970\n",
      "actor\n",
      "title\n",
      "A Bullet for Pretty Boy            Jeff Alexander\n",
      "A Bullet for Pretty Boy               Ethan Allen\n",
      "                                       ...       \n",
      "Znaki na drodze                    Boleslaw Abart\n",
      "Zorro alla corte d'Inghilterra    Tullio Altamura\n",
      "Name: name, Length: 332, dtype: object\n",
      "1971\n",
      "actor\n",
      "title\n",
      "'Doc'       Florencio Amarilla\n",
      "3                     Arne Aas\n",
      "                   ...        \n",
      "Zeppelin           Ronald Adam\n",
      "Zlozor          Jozef Adamovic\n",
      "Name: name, Length: 295, dtype: object\n",
      "1972\n",
      "actor\n",
      "title\n",
      "150 na godzine     Aleksander Aleksy\n",
      "1776                      Andy Albin\n",
      "                         ...        \n",
      "Zaraza                Boleslaw Abart\n",
      "Zindagi Zindagi           Jalal Agha\n",
      "Name: name, Length: 281, dtype: object\n",
      "1973\n",
      "actor\n",
      "title\n",
      "...E di Saul e dei sicari sulle vie di Damasco            Jamil Amad\n",
      "...E di Saul e dei sicari sulle vie di Damasco            Jamil Amad\n",
      "                                                         ...        \n",
      "Zoom, Zoom, Superman!                                   Max Alvarado\n",
      "Zuta                                              Slobodan Aligrudic\n",
      "Name: name, Length: 298, dtype: object\n",
      "1974\n",
      "actor\n",
      "title\n",
      "4 marmittoni alle grandi manovre        Gianni Agus\n",
      "4 marmittoni alle grandi manovre    Franco Agostini\n",
      "                                         ...       \n",
      "Zhuo shu ji                             Tung-Kua Ai\n",
      "Zir-e poost-e shab                   Morteza Aghili\n",
      "Name: name, Length: 338, dtype: object\n",
      "1975\n",
      "actor\n",
      "title\n",
      "'Sheba, Baby'               Mike (IV) Adams\n",
      "A Taste of Decadence          John Alderman\n",
      "                               ...         \n",
      "Zig Zig                         Yves Afonso\n",
      "Zorro                   Giampiero Albertini\n",
      "Name: name, Length: 312, dtype: object\n",
      "1976\n",
      "actor\n",
      "title\n",
      "40 gradi all'ombra del lenzuolo                 Christian Aligny\n",
      "72 gradusa nizhe nulya                         Aleksandr Abdulov\n",
      "                                                    ...         \n",
      "Wienfilm 1896-1976                          Friedrich Achleitner\n",
      "Won Ton Ton: The Dog Who Saved Hollywood             Robert Alda\n",
      "Name: name, Length: 313, dtype: object\n",
      "1977\n",
      "actor\n",
      "title\n",
      "A Bridge Too Far         Sebastian Abineri\n",
      "A un dios desconocido       H?ctor Alterio\n",
      "                               ...        \n",
      "Yehi Hai Zindagi                Adil Amaan\n",
      "Yerkunq                  Khoren Abrahamyan\n",
      "Name: name, Length: 317, dtype: object\n",
      "1978\n",
      "actor\n",
      "title\n",
      "A Different Story            Richard Altman\n",
      "Aahuti                                 Ajit\n",
      "                                ...        \n",
      "Zi yue shi si xing ye                Fei Ai\n",
      "Zwischengleis            Alexander Allerson\n",
      "Name: name, Length: 285, dtype: object\n",
      "1979\n",
      "actor\n",
      "title\n",
      "10                              Jesse Adams\n",
      "10                      Walter George Alton\n",
      "                               ...         \n",
      "Zivi bili pa vidjeli           Bozidar Alic\n",
      "Zombi 2                      Nick Alexander\n",
      "Name: name, Length: 273, dtype: object\n",
      "1980\n",
      "actor\n",
      "title\n",
      "203 kochi       Shigeru Amachi\n",
      "Aakrosh           Mohan Agashe\n",
      "                     ...      \n",
      "Za spichkami      Olavi Ahonen\n",
      "Zappatore        Gerardo Amato\n",
      "Name: name, Length: 268, dtype: object\n",
      "1981\n",
      "actor\n",
      "title\n",
      "127 millones libres de impuestos      Rafael Alonso\n",
      "A Man Called 'Tolongges'               Max Alvarado\n",
      "                                         ...       \n",
      "Zoot Suit                            Charles Aidman\n",
      "Zorro: The Gay Blade                Eduardo Alcaraz\n",
      "Name: name, Length: 314, dtype: object\n",
      "1982\n",
      "actor\n",
      "title\n",
      "13. jul                         Slobodan Aligrudic\n",
      "1990: I guerrieri del Bronx         Nick Alexander\n",
      "                                      ...         \n",
      "Zolotaya osen                  Dinmukhamet Akhimov\n",
      "Zolotoye runo                      Rudzhab Adashev\n",
      "Name: name, Length: 305, dtype: object\n",
      "1983\n",
      "actor\n",
      "title\n",
      "10 to Midnight                            Daniel Ades\n",
      "Aa Rathri                                   Lalu Alex\n",
      "                                          ...        \n",
      "Zvezda i smert Khoakina Muryety    Sokrat Abdukadyrov\n",
      "Zvezda i smert Khoakina Muryety        Adel Al-Khadad\n",
      "Name: name, Length: 315, dtype: object\n",
      "1984\n",
      "actor\n",
      "title\n",
      "'Merika     Boogie Abaya\n",
      "'Merika    Cesar Aliparo\n",
      "               ...      \n",
      "Yosma          Nuri Al?o\n",
      "Yosma         Tarik Akan\n",
      "Name: name, Length: 345, dtype: object\n",
      "1985\n",
      "actor\n",
      "title\n",
      "1918                 Allan (II) Alexander\n",
      "3D Saamri                 Anirudh Agarwal\n",
      "                             ...         \n",
      "Zoj taht al-talab        Said Abdel Ghani\n",
      "Zuma                    Rey 'PJ' Abellana\n",
      "Name: name, Length: 405, dtype: object\n",
      "1986\n",
      "actor\n",
      "title\n",
      "3 Supermen in S. Domingo        Bitto Albertini\n",
      "3:15                                John Achorn\n",
      "                                   ...         \n",
      "Zloty pociag                   Mircea Albulescu\n",
      "Zloty pociag                Wlodzimierz Adamski\n",
      "Name: name, Length: 341, dtype: object\n",
      "1987\n",
      "actor\n",
      "title\n",
      "*batteries not included           Tom Aldredge\n",
      "Aankiliyude Tharattu                 Lalu Alex\n",
      "                                  ...         \n",
      "Zombie High                     Walter Addison\n",
      "Zyat iz provintsii         Dinmukhamet Akhimov\n",
      "Name: name, Length: 400, dtype: object\n",
      "1988\n",
      "actor\n",
      "title\n",
      "'Crocodile' Dundee II     Jace Alexander\n",
      "32 dicembre              Antonio Allocca\n",
      "                              ...       \n",
      "Zombi 3                     Rene Abadeza\n",
      "Zombie Brigade            Shane Abdullah\n",
      "Name: name, Length: 412, dtype: object\n",
      "1989\n",
      "actor\n",
      "title\n",
      "A Case of Honor                                       Aleli Abadilla\n",
      "A More Perfect Union: America Becomes a Nation      K. Haybron Adams\n",
      "                                                         ...        \n",
      "Zhi zun wu shang                                         Mike Abbott\n",
      "Zona V-2                                          Marian Aleksandrov\n",
      "Name: name, Length: 460, dtype: object\n",
      "1990\n",
      "actor\n",
      "title\n",
      "A Man Called... Rainbo    Scott Altizer\n",
      "A Shock to the System      Jos? Alvarez\n",
      "                              ...      \n",
      "Zakhmi Zameen                Ishrat Ali\n",
      "Zoo Radio                   Mike Akrawi\n",
      "Name: name, Length: 436, dtype: object\n",
      "1991\n",
      "actor\n",
      "title\n",
      "'Merci la vie'                    Bruno Abraham-Kremer\n",
      "29th Street                               Danny Aiello\n",
      "                                          ...         \n",
      "Zhitiye Aleksandra Nevskogo            Sherkhan Abilov\n",
      "Zwischen Pankow und Zehlendorf            Eugen Albert\n",
      "Name: name, Length: 444, dtype: object\n",
      "1992\n",
      "actor\n",
      "title\n",
      "92: Hak Mooi Gwai dui Hak Mooi Gwai    Lawrence Ah Mon\n",
      "A River Runs Through It                  Chuck Adamson\n",
      "                                            ...       \n",
      "Yudhpath                                    Ishrat Ali\n",
      "Zlatne godine                           Dejan Acimovic\n",
      "Name: name, Length: 430, dtype: object\n",
      "1993\n",
      "actor\n",
      "title\n",
      "A Saga do Guerreiro Alumioso     Chico Alves\n",
      "Aadmi                                   Ajit\n",
      "                                    ...     \n",
      "Zong heng tian xia                Greg Algie\n",
      "Zong heng tian xia              Jimmy Aluisi\n",
      "Name: name, Length: 413, dtype: object\n",
      "1994\n",
      "actor\n",
      "title\n",
      "00 Schneider - Jagd auf Nihil Baxter       Werner Abrolat\n",
      "119                                         Hidekazu Akai\n",
      "                                              ...        \n",
      "Zero Tolerance                                  Jed Allan\n",
      "Zirzami                                 Farman Abdullayev\n",
      "Name: name, Length: 460, dtype: object\n",
      "1995\n",
      "actor\n",
      "title\n",
      "...And the Earth Did Not Swallow Him      Jose Alcala\n",
      "30:e november                             Steve Aalam\n",
      "                                            ...      \n",
      "Wild Bill                               Andre Alexsen\n",
      "Yaqui indomable                          Mario Almada\n",
      "Name: name, Length: 523, dtype: object\n",
      "1996\n",
      "actor\n",
      "title\n",
      "$40,000                 Michael Agbabian\n",
      "2 Days in the Valley        Danny Aiello\n",
      "                              ...       \n",
      "Zapico                     ?ngel Alc?zar\n",
      "Zone 39                  Shane Alexander\n",
      "Name: name, Length: 509, dtype: object\n",
      "1997\n",
      "actor\n",
      "title\n",
      "'El Chicko' - der Verdacht        Karim Allaoui\n",
      "'Til There Was You                  John Achorn\n",
      "                                    ...        \n",
      "Yit huet jui keung              Lawrence Ah Mon\n",
      "Yung po giu yeung             Ricardo Alexander\n",
      "Name: name, Length: 637, dtype: object\n",
      "1998\n",
      "actor\n",
      "title\n",
      "2 secondes                               Carl Alacchi\n",
      "3 Ninjas: High Noon at Mega Mountain    Joseph Ackler\n",
      "                                            ...      \n",
      "Zor: Never Underestimate the Force       Mohan Agashe\n",
      "fl 19,99                                  Thomas Acda\n",
      "Name: name, Length: 574, dtype: object\n",
      "1999\n",
      "actor\n",
      "title\n",
      "'Di puwedeng hindi puwede!            Bayani Agbayani\n",
      "'Di puwedeng hindi puwede!               Nick Aladdin\n",
      "                                       ...           \n",
      "Zombie Spoof                  Christian (II) Ackerman\n",
      "Zombie Spoof                       Chad (IV) Ackerman\n",
      "Name: name, Length: 682, dtype: object\n",
      "2000\n",
      "actor\n",
      "title\n",
      "...und das ist erst der Anfang        Sinan Akkus\n",
      "15-Sai: Gakko IV                    Hidekazu Akai\n",
      "                                       ...       \n",
      "Zakochani                         Barry Abdullaje\n",
      "Zzikhimyeon jukneunda                Jae-hwan Ahn\n",
      "Name: name, Length: 691, dtype: object\n",
      "2001\n",
      "actor\n",
      "title\n",
      "'R Xmas               Raul (II) Acosta\n",
      "(Paris: XY)        Emile Abossolo M'bo\n",
      "                          ...         \n",
      "Zhyoltyy karlik      Aleksandr Abdulov\n",
      "Zoolander                  Angel 11:11\n",
      "Name: name, Length: 711, dtype: object\n",
      "2002\n",
      "actor\n",
      "title\n",
      "11'09''01 - September 11            Taleb Adlah\n",
      "11'09''01 - September 11    Hesham Abd Elkhaleq\n",
      "                                   ...         \n",
      "Zaymemsya lyubovyu            Aleksandr Ablizov\n",
      "Zwischen den Sternen                 Fatih Alas\n",
      "Name: name, Length: 726, dtype: object\n",
      "2003\n",
      "actor\n"
     ]
    },
    {
     "name": "stdout",
     "output_type": "stream",
     "text": [
      "title\n",
      "...The Making of...     Noor (III) Ahmed\n",
      "1 2 3                        Jared Adams\n",
      "                             ...        \n",
      "Zero Day               Serataren Adragna\n",
      "Zurdo                       Daniel Acu?a\n",
      "Name: name, Length: 768, dtype: object\n",
      "2004\n",
      "actor\n",
      "title\n",
      "06/05                         Dave Abspoel\n",
      "107 Street              Roy (II) Alexandre\n",
      "                               ...        \n",
      "Zeyda and the Hitman          Danny Aiello\n",
      "inter.m@tes                    Jojo Alejar\n",
      "Name: name, Length: 848, dtype: object\n",
      "2005\n",
      "actor\n",
      "title\n",
      "'D'                             Ishrat Ali\n",
      "...en fin, el mar             Ever Alvarez\n",
      "                                ...       \n",
      "Zwarte zwanen              Adewale Akwande\n",
      "xXx: State of the Union      Robert Alonzo\n",
      "Name: name, Length: 1042, dtype: object\n",
      "2006\n",
      "actor\n",
      "title\n",
      "'Wag kang lilingon     Marvin Agustin\n",
      "'Wag kang lilingon    Archie Alemania\n",
      "                           ...       \n",
      "Zuzu Angel               S?rgio Abreu\n",
      "Zwartboek                 Tomer Agami\n",
      "Name: name, Length: 1254, dtype: object\n",
      "2007\n",
      "actor\n",
      "title\n",
      "07-y menyaet kurs    Victor Afanasiev\n",
      "07-y menyaet kurs     Kamran Abdulaev\n",
      "                           ...       \n",
      "Zodiac                   Hayati Akbas\n",
      "Zone libre           Lionel Abelanski\n",
      "Name: name, Length: 1264, dtype: object\n",
      "2008\n",
      "actor\n",
      "title\n",
      "$5 a Day          Sequoyah Adams-Rice\n",
      "'Side by Each'            Teddy Allen\n",
      "                         ...         \n",
      "Zift                   Milen Aleksiev\n",
      "Zombthology                Eero Aames\n",
      "Name: name, Length: 1432, dtype: object\n",
      "2009\n",
      "actor\n",
      "title\n",
      "100Volta               M?rio Almeida\n",
      "100Volta            Pedro (IV) Alves\n",
      "                          ...       \n",
      "Zone of the Dead         Steve Agnew\n",
      "Zone of the Dead      Stevan Aleksic\n",
      "Name: name, Length: 1632, dtype: object\n",
      "2010\n",
      "actor\n",
      "title\n",
      "'Master Harold' ... And the Boys        Mervyn Africa\n",
      "...Be yom hashlishi                  Sharon Alexander\n",
      "                                          ...        \n",
      "Zomblies                            Shahriar Abdullah\n",
      "Zot van A.                               R. Kan Albay\n",
      "Name: name, Length: 1644, dtype: object\n",
      "2011\n",
      "actor\n",
      "title\n",
      "00 - Zero Zero 3D              Massimiliano Alto\n",
      "03:34 Terremoto en Chile    Marcelo (III) Alonso\n",
      "                                    ...         \n",
      "Zombie Infection                   Vasily Agapov\n",
      "eCupid                                Shon Abram\n",
      "Name: name, Length: 1765, dtype: object\n",
      "2012\n",
      "actor\n",
      "title\n",
      "009 Re: Cyborg               Gregory Abbey\n",
      "10                David (XXVIII) Alexander\n",
      "                            ...           \n",
      "Zvyozdniy vors                Boris Akimov\n",
      "Zvyozdniy vors         Ruslan Abdrakhmanov\n",
      "Name: name, Length: 1919, dtype: object\n",
      "2013\n",
      "actor\n",
      "title\n",
      "#1 Serial Killer                 Michael Alton\n",
      ".357                    Michael (VIII) Alvarez\n",
      "                                 ...          \n",
      "Zombies from Ireland               Marcus Akin\n",
      "Zulu                             Ivan Abrahams\n",
      "Name: name, Length: 1980, dtype: object\n",
      "2014\n",
      "actor\n",
      "title\n",
      "#Stuck                Logan Agayan\n",
      "#Y                      Jun Abrina\n",
      "                        ...       \n",
      "Zwischen Welten      Mohsin Ahmady\n",
      "el Ziara           Manel Abdelkoui\n",
      "Name: name, Length: 2094, dtype: object\n",
      "2015\n",
      "actor\n",
      "title\n",
      "1.7 Alpha                     Matthew (XIII) Alexander\n",
      "10 Endrathukulla                             Ajay (IX)\n",
      "                                        ...           \n",
      "Zombies of the Living Dead              Chase Ackerman\n",
      "Zombieworld                       Kevin Allen-Bicknell\n",
      "Name: name, Length: 2175, dtype: object\n",
      "2016\n",
      "actor\n",
      "title\n",
      "$elfie Shootout                Shawn Alfaro\n",
      "$elfie Shootout             Joseph Altamuro\n",
      "                                 ...       \n",
      "kingdom of ants               Zayar Abdulla\n",
      "les aventures d'archives        Buzz Aldrin\n",
      "Name: name, Length: 2424, dtype: object\n",
      "2017\n",
      "actor\n",
      "title\n",
      "#FromJennifer                 Christian Ackerman\n",
      "#FromJennifer                       Aaron Abrams\n",
      "                                     ...        \n",
      "xXx: Return of Xander Cage          Julie Abcede\n",
      "xXx: Return of Xander Cage         Wayne Ambrose\n",
      "Name: name, Length: 1418, dtype: object\n",
      "2018\n",
      "actor\n",
      "title\n",
      "24 Hours Away       Fernando Abadie\n",
      "A Helical                  Rob Akin\n",
      "                         ...       \n",
      "Unholy Communion      Gaetano Amato\n",
      "Yes?                    Ed Amatrudo\n",
      "Name: name, Length: 91, dtype: object\n",
      "2019\n",
      "actor\n",
      "title\n",
      "Charley Willis        James Alcorn\n",
      "DarkNet           Chozy Rani Aiyub\n",
      "                        ...       \n",
      "Toy Story 4              Tim Allen\n",
      "Why Bully Me        Jamal Alkhaldi\n",
      "Name: name, Length: 13, dtype: object\n",
      "2020\n",
      "actor\n",
      "title\n",
      "Bses Slwl I: The Musical Journey         Sudarshan Acharya\n",
      "Nostradamus Mission 3: Alien Invasion          Misan Akuya\n",
      "Roses in the Concrete                        Darren Alford\n",
      "Name: name, dtype: object\n",
      "2023\n",
      "actor\n",
      "title\n",
      "Inside Me    Antonio Alcala\n",
      "Name: name, dtype: object\n",
      "1912\n",
      "actress\n",
      "title\n",
      "Karnevalsnattens Gaade    Gyda Aller\n",
      "Satana                    Rina Albry\n",
      "Name: name, dtype: object\n",
      "1913\n",
      "actress\n",
      "title\n",
      "Nelly's Forlovelse    Ellen Aggerholm\n",
      "Name: name, dtype: object\n",
      "1914\n",
      "actress\n",
      "title\n",
      "After the Ball                Nina (II) Allen\n",
      "After the Ball                   Edythe Adams\n",
      "                                   ...       \n",
      "Tillie's Punctured Romance      Phyllis Allen\n",
      "Where the Trail Divides       Constance Adams\n",
      "Name: name, Length: 23, dtype: object\n",
      "1915\n",
      "actress\n",
      "title\n",
      "A Black Sheep              Virginia Ainsworth\n",
      "A Fool There Was                  May Allison\n",
      "                                  ...        \n",
      "When We Were Twenty-One        Winifred Allen\n",
      "Young Romance                   Dorothy Abril\n",
      "Name: name, Length: 32, dtype: object\n",
      "1916\n",
      "actress\n",
      "title\n",
      "20,000 Leagues Under the Sea              Lois Alexander\n",
      "A Bird of Prey                             Kathryn Adams\n",
      "                                              ...       \n",
      "What's Bred... Comes Out in the Flesh    Janet Alexander\n",
      "When Love Is King                          Lucille Allen\n",
      "Name: name, Length: 59, dtype: object\n",
      "1917\n",
      "actress\n",
      "title\n",
      "A Girl's Folly              Jane Adair\n",
      "A School for Husbands     Irene Aldwyn\n",
      "                             ...      \n",
      "Their Compact            Mildred Adams\n",
      "Those Without Sin        Dorothy Abril\n",
      "Name: name, Length: 59, dtype: object\n",
      "1918\n",
      "actress\n",
      "title\n",
      "A Successful Adventure           May Allison\n",
      "All Woman                     Lois Alexander\n",
      "                                   ...      \n",
      "With Neatness and Dispatch       Ricca Allen\n",
      "Woman                            Diana Allen\n",
      "Name: name, Length: 45, dtype: object\n",
      "1919\n",
      "actress\n",
      "title\n",
      "A Gentleman of Quality             Kathryn Adams\n",
      "A Little Brother of the Rich       Kathryn Adams\n",
      "                                      ...       \n",
      "Yankee Doodle in Berlin          Jane (II) Allen\n",
      "You Never Saw Such a Girl       Gerard Alexander\n",
      "Name: name, Length: 64, dtype: object\n",
      "1920\n",
      "actress\n",
      "title\n",
      "813                  Kathryn Adams\n",
      "An Arabian Knight       Jean Acker\n",
      "                         ...      \n",
      "Voices                 Diana Allen\n",
      "White Youth          Phyllis Allen\n",
      "Name: name, Length: 60, dtype: object\n",
      "1921\n",
      "actress\n",
      "title\n",
      "A Shocking Night                Alta Allen\n",
      "A Small Town Idol          Jane (II) Allen\n",
      "                                ...       \n",
      "Western Firebrands          Virginia Adair\n",
      "You Find It Everywhere    Dora Mills Adams\n",
      "Name: name, Length: 48, dtype: object\n",
      "1922\n",
      "actress\n",
      "title\n",
      "A Pasteboard Crown      Dora Mills Adams\n",
      "A Self-Made Man             Ren?e Ador?e\n",
      "                             ...        \n",
      "When Romance Rides          Claire Adams\n",
      "White Eagle           Virginia Ainsworth\n",
      "Name: name, Length: 49, dtype: object\n",
      "1923\n",
      "actress\n",
      "title\n",
      "A Wife's Romance            Lillian Adrian\n",
      "Backbone                     Marion Abbott\n",
      "                                ...       \n",
      "Trimmed in Scarlet        Gerard Alexander\n",
      "Where the North Begins        Claire Adams\n",
      "Name: name, Length: 36, dtype: object\n",
      "1924\n",
      "actress\n",
      "title\n",
      "$50,000 Reward          Augusta Ain\n",
      "A Fool's Awakening       Mary Alden\n",
      "                          ...      \n",
      "Youth for Sale        Dorothy Allen\n",
      "Youth for Sale          May Allison\n",
      "Name: name, Length: 46, dtype: object\n",
      "1925\n",
      "actress\n",
      "title\n",
      "As Man Desires       Edneh Altemus\n",
      "Braveheart              Jean Acker\n",
      "                        ...       \n",
      "Webs of Steel     Lassie Lou Ahern\n",
      "Wreckage               May Allison\n",
      "Name: name, Length: 46, dtype: object\n",
      "1926\n",
      "actress\n",
      "title\n",
      "April Fool                        Mary Alden\n",
      "Blarney (II)                    Ren?e Ador?e\n",
      "                                 ...        \n",
      "Why Girls Go Back Home    Virginia Ainsworth\n",
      "Yellow Fingers                  Claire Adams\n",
      "Name: name, Length: 29, dtype: object\n",
      "1927\n",
      "actress\n",
      "title\n",
      "Back to God's Country          Ren?e Ador?e\n",
      "Chelovek iz restorana    K. (II) Alekseyeva\n",
      "                                ...        \n",
      "Uncle Tom's Cabin          Lassie Lou Ahern\n",
      "Zare                         N. Aghambekyan\n",
      "Name: name, Length: 26, dtype: object\n",
      "1928\n",
      "actress\n",
      "title\n",
      "A Certain Young Man           Ren?e Ador?e\n",
      "A Girl in Every Port            Maria Alba\n",
      "                                ...       \n",
      "The Trail of '98           Josephine Adair\n",
      "Yego prevoskhoditelstvo    Tamara Adelgeym\n",
      "Name: name, Length: 33, dtype: object\n",
      "1929\n",
      "actress\n",
      "title\n",
      "Asphalt                Betty Amann\n",
      "Big News           Helen Ainsworth\n",
      "                        ...       \n",
      "Words and Music        Sugar Adair\n",
      "Words and Music    Darline Addison\n",
      "Name: name, Length: 38, dtype: object\n",
      "1930\n",
      "actress\n",
      "title\n",
      "A Devil with Women         Luana Alca?iz\n",
      "A Sister to Assist 'Er       Muriel Aked\n",
      "                               ...      \n",
      "Young Man of Manhattan    Lorraine Aalbu\n",
      "Zeinab                      Dawlad Abiad\n",
      "Name: name, Length: 48, dtype: object\n",
      "1931\n",
      "actress\n",
      "title\n",
      "24 Hours            Adrienne Ames\n",
      "A Severa            Mariana Alves\n",
      "                        ...      \n",
      "West of Broadway    Astrid Allwyn\n",
      "Working Girls       Adrienne Ames\n",
      "Name: name, Length: 45, dtype: object\n",
      "1932\n",
      "actress\n",
      "title\n",
      "A Farewell to Arms                  Alice Adair\n",
      "After the Ball                    Jean Adrienne\n",
      "                                     ...       \n",
      "When a Fellow Needs a Friend         Mary Alden\n",
      "Zaganella e il cavaliere        Marcella Albani\n",
      "Name: name, Length: 59, dtype: object\n",
      "1933\n",
      "actress\n",
      "title\n",
      "A Bedtime Story      Adrienne Ames\n",
      "Ace of Aces        Elizabeth Allan\n",
      "                        ...       \n",
      "Torch Singer            Jean Acker\n",
      "Yes, Madam             Muriel Aked\n",
      "Name: name, Length: 67, dtype: object\n",
      "1934\n",
      "actress\n",
      "title\n",
      "A Wicked Woman         Miami Alvarez\n",
      "All of Me              Astrid Allwyn\n",
      "                           ...      \n",
      "You're Telling Me!     Adrienne Ames\n",
      "Young and Beautiful     Judith Allen\n",
      "Name: name, Length: 105, dtype: object\n",
      "1935\n",
      "actress\n",
      "title\n",
      "A Tale of Two Cities       Elizabeth Allan\n",
      "Abdul the Damned             Adrienne Ames\n",
      "                                ...       \n",
      "Whispering Smith Speaks        Maude Allen\n",
      "Woman Wanted                 Adrienne Ames\n",
      "Name: name, Length: 101, dtype: object\n",
      "1936\n",
      "actress\n",
      "title\n",
      "A Woman Rebels        Elizabeth Allan\n",
      "After the Thin Man        Eadie Adams\n",
      "                           ...       \n",
      "We Went to College        Maude Allen\n",
      "Wives Never Know       Gertrude Alter\n",
      "Name: name, Length: 96, dtype: object\n",
      "1937\n",
      "actress\n",
      "title\n",
      "A Damsel in Distress    Pearl Amatore\n",
      "A Damsel in Distress     Gracie Allen\n",
      "                            ...      \n",
      "Woman-Wise              Astrid Allwyn\n",
      "You Live and Learn          Glen Alyn\n",
      "Name: name, Length: 107, dtype: object\n",
      "1938\n",
      "actress\n",
      "title\n",
      "A Rosa do Adro           Adelina Abranches\n",
      "A Trip to Paris           Carol (II) Adams\n",
      "                               ...        \n",
      "While New York Sleeps     Carol (II) Adams\n",
      "Zangezur                    Hasmik Agopyan\n",
      "Name: name, Length: 93, dtype: object\n",
      "1939\n",
      "actress\n",
      "title\n",
      "...One Third of a Nation...        Iris Adrian\n",
      "A Child Is Born                  Dorothy Adams\n",
      "                                    ...       \n",
      "Zangiku monogatari              Fumiko Akimoto\n",
      "Zolotoy klyuchik               Tamara Adelgeym\n",
      "Name: name, Length: 99, dtype: object\n",
      "1940\n",
      "actress\n",
      "title\n",
      "A Night at Earl Carroll's    Elvia Allman\n",
      "A Window in London              Glen Alyn\n",
      "                                 ...     \n",
      "Yesterday's Heroes           Kay Aldridge\n",
      "Young Tom Edison              Maude Allen\n",
      "Name: name, Length: 108, dtype: object\n",
      "1941\n",
      "actress\n",
      "title\n",
      "A Woman's Face           Hauk (II) Aabel\n",
      "Affectionately Yours       Dorothy Adams\n",
      "                              ...       \n",
      "You're the One           Mariska Aldrich\n",
      "Ziegfeld Girl           Betty (II) Allen\n",
      "Name: name, Length: 110, dtype: object\n",
      "1942\n",
      "actress\n",
      "title\n",
      "All Through the Night             Jean Ames\n",
      "Always in My Heart                Jean Ames\n",
      "                                ...        \n",
      "You're Telling Me        Kathryn (II) Adams\n",
      "Zamindar                             Akhtar\n",
      "Name: name, Length: 99, dtype: object\n",
      "1943\n",
      "actress\n",
      "title\n",
      "A '28-as'                           ?gnes Alm?ssy\n",
      "Action in the North Atlantic          Iris Adrian\n",
      "                                      ...        \n",
      "Wien 1910                       Rosa Albach-Retty\n",
      "Yellow Canary                     Grace Allardyce\n",
      "Name: name, Length: 100, dtype: object\n",
      "1944\n",
      "actress\n",
      "title\n",
      "A Wave, a WAC and a Marine        Ramsay Ames\n",
      "A Wave, a WAC and a Marine       Elvia Allman\n",
      "                                   ...       \n",
      "Zhila-byla devochka           Vera Altayskaya\n",
      "Zoya                           Tamara Altseva\n",
      "Name: name, Length: 95, dtype: object\n",
      "1945\n",
      "actress\n",
      "title\n",
      "A Bell for Adano                Mimi Aguglia\n",
      "A Thousand and One Nights      Francine Ames\n",
      "                                  ...       \n",
      "Wonder Man                        Jane Allen\n",
      "You Came Along               Grace Albertson\n",
      "Name: name, Length: 98, dtype: object\n",
      "1946\n",
      "actress\n",
      "title\n",
      "Avanti a lui tremava tutta Roma     Edda Albertini\n",
      "Barbacka                               Emmy Albiin\n",
      "                                        ...       \n",
      "Vacation in Reno                       Iris Adrian\n",
      "White Tie and Tails                Patricia Alphin\n",
      "Name: name, Length: 98, dtype: object\n",
      "1947\n",
      "actress\n",
      "title\n",
      "A Double Life           Clare Alden\n",
      "Akakis akvani       Leila Abashidze\n",
      "                         ...       \n",
      "Welcome Stranger       Ariane Allen\n",
      "Woman to Woman          Fajni Amand\n",
      "Name: name, Length: 78, dtype: object\n",
      "1948\n",
      "actress\n",
      "title\n",
      "A Sister to Assist 'Er       Muriel Aked\n",
      "A Woman's Vengeance           Mari Aldon\n",
      "                               ...      \n",
      "Words and Music           Dorothy Abbott\n",
      "Words and Music             June Allyson\n",
      "Name: name, Length: 95, dtype: object\n",
      "1949\n",
      "actress\n",
      "title\n",
      "Akademik Ivan Pavlov         Nina Alisova\n",
      "Alice in Wonderland     Nathalie Alexeeff\n",
      "                              ...        \n",
      "Zorina                       Leonora Amar\n",
      "Zorina                           Luz Alba\n",
      "Name: name, Length: 102, dtype: object\n",
      "1950\n",
      "actress\n",
      "title\n",
      "A La Habana me voy        Blanquita Amaro\n",
      "A Life of Her Own          Dorothy Abbott\n",
      "                              ...        \n",
      "Yo quiero ser hombre    Alma Rosa Aguirre\n",
      "Yo quiero ser hombre    Alma Rosa Aguirre\n",
      "Name: name, Length: 97, dtype: object\n",
      "1951\n",
      "actress\n",
      "title\n",
      "Amor perdido            Amalia Aguilar\n",
      "Amor perdido              Lily Aclemar\n",
      "                             ...      \n",
      "Week-End with Father      Elvia Allman\n",
      "When Worlds Collide        Rachel Ames\n",
      "Name: name, Length: 89, dtype: object\n",
      "1952\n",
      "actress\n",
      "title\n",
      "5 Fingers                          Diane Adrian\n",
      "Aaron Slick from Punkin Crick    Dorothy Abbott\n",
      "                                      ...      \n",
      "Young Man with Ideas                 Jean Acker\n",
      "Yukon Gold                          Iris Adrian\n",
      "Name: name, Length: 96, dtype: object\n",
      "1953\n",
      "actress\n",
      "title\n",
      "36 Hours                Elsie Albiin\n",
      "36 Hours            Christine Adrian\n",
      "                          ...       \n",
      "Zastava v gorakh        Nina Agapova\n",
      "Zvezda                      Yu Abikh\n",
      "Name: name, Length: 100, dtype: object\n",
      "1954\n",
      "actress\n",
      "title\n",
      "About Mrs. Leslie      Mabel Albertson\n",
      "Amor sobre ruedas     Alicia Altabella\n",
      "                           ...        \n",
      "Yaban kiz                  Leyla Altin\n",
      "Zemlya               Tatyana Alekseeva\n",
      "Name: name, Length: 91, dtype: object\n",
      "1955\n",
      "actress\n",
      "title\n",
      "Al diablo las mujeres     Alma Rosa Aguirre\n",
      "Artists and Models              Jane Adrian\n",
      "                                ...        \n",
      "Value for Money                  Jill Adams\n",
      "You're Never Too Young         Heather Ames\n",
      "Name: name, Length: 93, dtype: object\n",
      "1956\n",
      "actress\n",
      "title\n",
      "A Town Like Alice                  Mary Allen\n",
      "Abezara                       Leila Abashidze\n",
      "                                   ...       \n",
      "You Can't Run Away from It       June Allyson\n",
      "You Can't Run Away from It       Elvia Allman\n",
      "Name: name, Length: 121, dtype: object\n",
      "1957\n",
      "actress\n",
      "title\n",
      "3:10 to Yuma                     Dorothy Adams\n",
      "A Baronesa Transviada            Marly Almeida\n",
      "                                   ...        \n",
      "Tumsa Nahin Dekha                       Ameeta\n",
      "Un marido de ida y vuelta    Ana Mar?a Alberta\n",
      "Name: name, Length: 107, dtype: object\n",
      "1958\n",
      "actress\n",
      "title\n",
      "Andreyka                Zoya Aleksandrova\n",
      "Ankokugai no bijo         Setsuko Amamiya\n",
      "                              ...        \n",
      "Zhenikh s togo sveta      Vera Altayskaya\n",
      "Zum goldenen Ochsen      Else Ackerschott\n",
      "Name: name, Length: 96, dtype: object\n",
      "1959\n",
      "actress\n",
      "title\n",
      "...Smena nachinayetsya v shest       Nina Agapova\n",
      "15 bajo la lona                   Mercedes Alonso\n",
      "                                       ...       \n",
      "Voulez-vous danser avec moi           Dawn Addams\n",
      "Yks' tavallinen Virtanen           Pirkko Alatalo\n",
      "Name: name, Length: 125, dtype: object\n",
      "1960\n",
      "actress\n",
      "title\n",
      "2000 naftes ki ena koritsi           Linda Alma\n",
      "All the Fine Young Cannibals    Mabel Albertson\n",
      "                                     ...       \n",
      "Tormented                         Lillian Adams\n",
      "Verano violento                   Vicky Aguirre\n",
      "Name: name, Length: 82, dtype: object\n",
      "1961\n",
      "actress\n",
      "title\n",
      "A Cold Wind in August                  Lola Albright\n",
      "A Majority of One                      Lillian Adams\n",
      "                                         ...        \n",
      "Was macht Papa denn in Italien?          Elke Aberle\n",
      "Za dvumya zaytsami                 Lyudmila Alfimova\n",
      "Name: name, Length: 100, dtype: object\n",
      "1962\n",
      "actress\n",
      "title\n",
      "...und deine Liebe auch                 Bertina Acevedo\n",
      "10000 malchikov                     Elizaveta Alekseeva\n",
      "                                           ...         \n",
      "Vzroslye deti                        Liliya Aleshnikova\n",
      "What Ever Happened to Baby Jane?           Julie Allred\n",
      "Name: name, Length: 85, dtype: object\n",
      "1963\n",
      "actress\n",
      "title\n",
      "4 for Texas                 Allyson Ames\n",
      "A Gathering of Eagles     Dorothy Abbott\n",
      "                              ...       \n",
      "Wall of Noise                 Totty Ames\n",
      "Ya kupil papu            Svetlana Ageeva\n",
      "Name: name, Length: 83, dtype: object\n",
      "1964\n",
      "actress\n",
      "title\n",
      "A House Is Not a Home     Allyson Ames\n",
      "Akai satsui                Ranko Akagi\n",
      "                             ...      \n",
      "Zitianos tis Agapis      Kakia Analyti\n",
      "Zoi gemati pono          Kakia Analyti\n",
      "Name: name, Length: 101, dtype: object\n",
      "1965\n",
      "actress\n",
      "title\n",
      "24 Hours to Kill          Melvina Amine\n",
      "A Very Special Favor      Lillian Adams\n",
      "                             ...       \n",
      "Winter Kept Us Warm          Janet Amos\n",
      "Zatoichi sakate giri    Masako Akeboshi\n",
      "Name: name, Length: 96, dtype: object\n",
      "1966\n",
      "actress\n",
      "title\n",
      "10:30 P.M. Summer              Tota Alba\n",
      "A Fine Madness           Mabel Albertson\n",
      "                              ...       \n",
      "Where the Bullets Fly        Dawn Addams\n",
      "Wild Wild Winter          Vicky Albright\n",
      "Name: name, Length: 91, dtype: object\n",
      "1967\n",
      "actress\n",
      "title\n",
      "10,000 dollari per un massacro    Adriana Ambesi\n",
      "3 pistole contro Cesare           Adriana Ambesi\n",
      "                                       ...      \n",
      "Zatoichi tekka tabi                Masako Aboshi\n",
      "Zlatna pracka                      Danica Acimac\n",
      "Name: name, Length: 106, dtype: object\n",
      "1968\n",
      "actress\n",
      "title\n",
      "A Woman in Love               Vera Allik\n",
      "Adawiya                Naima Al Soghayar\n",
      "                             ...        \n",
      "Witchfinder General        Gillian Aldam\n",
      "Yan nu                             Li Ai\n",
      "Name: name, Length: 92, dtype: object\n",
      "1969\n",
      "actress\n",
      "title\n",
      "24 ores zontohira            Kakia Analyti\n",
      "A Boy Named Charlie Brown      Ann Altieri\n",
      "                                 ...      \n",
      "Zeta One                     Gillian Aldam\n",
      "Zeta One                       Dawn Addams\n",
      "Name: name, Length: 132, dtype: object\n",
      "1970\n",
      "actress\n",
      "title\n",
      "Act of the Heart                  Sharon Acker\n",
      "Affair in the Air                  Bambi Allen\n",
      "                                 ...          \n",
      "Yedi belalilar           Katayun Amir Ebrahimi\n",
      "Yo soy Chucho el Roto         Susana Alexander\n",
      "Name: name, Length: 120, dtype: object\n",
      "1971\n",
      "actress\n",
      "title\n",
      "'Doc'                                    Vivian Allen\n",
      "'Doc'                                  Penelope Allen\n",
      "                                            ...      \n",
      "Willy Wonka & the Chocolate Factory      Dora Altmann\n",
      "Zedj                                    Sabina Ajrula\n",
      "Name: name, Length: 128, dtype: object\n",
      "1972\n",
      "actress\n",
      "title\n",
      "A Clock Work Blue              Jane Allyson\n",
      "Ai no nukumori                 Keiko Aikawa\n",
      "                                ...        \n",
      "You'll Like My Mother    Sian Barbara Allen\n",
      "Zabijcie czarna owce            Ewa Adamska\n",
      "Name: name, Length: 117, dtype: object\n",
      "1973\n",
      "actress\n",
      "title\n",
      "A Promessa                 Celeste Alves\n",
      "A Taste of Hell             Nela Alvarez\n",
      "                              ...       \n",
      "Zolotye roga             Vera Altayskaya\n",
      "Zoom, Zoom, Superman!        Gina Alajar\n",
      "Name: name, Length: 132, dtype: object\n",
      "1974\n",
      "actress\n",
      "title\n",
      "'n Sonneblom uit Parys         Kitty Albertyn\n",
      "A Woman Under the Influence        Elsie Ames\n",
      "                                    ...      \n",
      "Zoku tameiki                     Keiko Aikawa\n",
      "Zvezda ekrana                    Nina Agapova\n",
      "Name: name, Length: 140, dtype: object\n",
      "1975\n",
      "actress\n",
      "title\n",
      "Actorul si salbaticii                                         Tricy Abramovici\n",
      "Ai xin jian wan wan                                                      Ti Ai\n",
      "                                                                 ...          \n",
      "Zvezda plenitelnogo schastya                             Eleonora Aleksandrova\n",
      "Zwaarmoedige verhalen voor bij de centrale verwarming               Henny Alma\n",
      "Name: name, Length: 126, dtype: object\n",
      "1976\n",
      "actress\n",
      "title\n",
      "A Sweeter Song            Deni Allaire\n",
      "A World of Chirldren      Samira Ahmed\n",
      "                             ...      \n",
      "Welcome to L.A.         Diahnne Abbott\n",
      "Yaman delikanli         Leman Ak?atepe\n",
      "Name: name, Length: 134, dtype: object\n",
      "1977\n",
      "actress\n",
      "title\n",
      ".357 Magnum                 Priscilla Alden\n",
      "A Bridge Too Far        Marlies van Alcmaer\n",
      "                               ...         \n",
      "Yerkunq                       Vera Alentova\n",
      "You Light Up My Life     Rosemary Alexander\n",
      "Name: name, Length: 118, dtype: object\n",
      "1978\n",
      "actress\n",
      "title\n",
      "1922                                        Antigoni Amanitou\n",
      "A Hero Ain't Nothin' But a Sandwich            Barbara Alston\n",
      "                                                ...          \n",
      "You're Driving Me Crazy                       Suzie Alexander\n",
      "Yubiley dante                          Zarnigyar Agakishiyeva\n",
      "Name: name, Length: 138, dtype: object\n",
      "1979\n",
      "actress\n",
      "title\n",
      "10                Julie Alter\n",
      "1941              Nancy Allen\n",
      "                    ...      \n",
      "Winter Kills     Billie Allen\n",
      "Yanks           Gertie Almond\n",
      "Name: name, Length: 146, dtype: object\n",
      "1980\n",
      "actress\n",
      "title\n",
      "1958                             Margot Alfstad\n",
      "5% de risque                    Chantal Akerman\n",
      "                                     ...       \n",
      "You Better Watch Out               Rutanya Alda\n",
      "Yuan fu yin wa feng sha shou              Ti Ai\n",
      "Name: name, Length: 159, dtype: object\n",
      "1981\n",
      "actress\n",
      "title\n",
      "...All the Marbles                  Angela Aames\n",
      "...All the Marbles          Irma Eugenia Aguilar\n",
      "                                    ...         \n",
      "Waitress!                        Sarah Albertson\n",
      "Whose Life Is It Anyway?            Alston Ahern\n",
      "Name: name, Length: 187, dtype: object\n",
      "1982\n",
      "actress\n",
      "title\n",
      "41 el hombre perfecto    Clarissa Ahuet\n",
      "A Little Sex                Betsy Aidem\n",
      "                              ...      \n",
      "Zapped!                      Sandy Alan\n",
      "Zhu nu sa liu fang                Ti Ai\n",
      "Name: name, Length: 182, dtype: object\n",
      "1983\n",
      "actress\n",
      "title\n",
      "A Night to Dismember     Alexandria (V)\n",
      "Akujo kamakiri             Keiko Akashi\n",
      "                             ...       \n",
      "Zero in condotta        Tiziana Altieri\n",
      "Zille und ick              Doris Abe?er\n",
      "Name: name, Length: 169, dtype: object\n",
      "1984\n",
      "actress\n",
      "title\n",
      "All Rounder         Rati Agnihotri\n",
      "American Dreamer      Annick Alane\n",
      "                         ...      \n",
      "Yeh Desh               Zeenat Aman\n",
      "Zavallilar            Zehra Akt?rk\n",
      "Name: name, Length: 186, dtype: object\n",
      "1985\n",
      "actress\n",
      "title\n",
      "1918                      Norma (II) Allen\n",
      "3 hommes et un couffin        Annick Alane\n",
      "                                ...       \n",
      "Zoj taht al-talab              Angel Aaram\n",
      "Zulm Ka Badla                       Ameeta\n",
      "Name: name, Length: 215, dtype: object\n",
      "1986\n",
      "actress\n",
      "title\n",
      "3:15                                  Lisa Adams\n",
      "40 Quadratmeter Deutschland      Stephanie Ammer\n",
      "                                     ...        \n",
      "Zina-Zinulya                   Valentina Ananina\n",
      "Zina-Zinulya                   Tatyana Agafonova\n",
      "Name: name, Length: 194, dtype: object\n",
      "1987\n",
      "actress\n",
      "title\n",
      "3 Men and a Baby                                      Alexandra Amini\n",
      "A Nightmare on Elm Street 3: Dream Warriors              Stacey Alden\n",
      "                                                        ...          \n",
      "Zawgat Ragoul Mohem                                       Mervat Amin\n",
      "Zyat iz provintsii                             Kalampyr Ajsangaliyeva\n",
      "Name: name, Length: 255, dtype: object\n",
      "1988\n",
      "actress\n",
      "title\n",
      "'Crocodile' Dundee II        Tatyana Ali\n",
      "A Fish Called Wanda         Maria Aitken\n",
      "                              ...       \n",
      "Zalzala                   Rati Agnihotri\n",
      "Zerkalo dlya geroya      Natalya Akimova\n",
      "Name: name, Length: 243, dtype: object\n",
      "1989\n",
      "actress\n",
      "title\n",
      "A Nightmare on Elm Street: The Dream Child        Jill Adler\n",
      "A Whisper to a Scream                         Kate Alexander\n",
      "                                                   ...      \n",
      "Warm Summer Rain                                 Lupe Amador\n",
      "Wild Man                                          Kari Allen\n",
      "Name: name, Length: 199, dtype: object\n",
      "1990\n",
      "actress\n",
      "title\n",
      "3 Men and a Little Lady       Rosalind Allen\n",
      "A Shattered Dream               Ashley Allyn\n",
      "                                 ...        \n",
      "Zakhmi Zameen               Mona Ambegaonkar\n",
      "Zhenskiy den               Tatyana Agafonova\n",
      "Name: name, Length: 243, dtype: object\n",
      "1991\n",
      "actress\n",
      "title\n",
      "29th Street                       Hope Alexander-Willis\n",
      "A Grande Arte                               Maria Alves\n",
      "                                          ...          \n",
      "Zeiramu                                    Mayumi Aguni\n",
      "Zwischen Pankow und Zehlendorf        Kathrin Ackermann\n",
      "Name: name, Length: 193, dtype: object\n",
      "1992\n",
      "actress\n",
      "title\n",
      "A League of Their Own      Shelly Adlard\n",
      "A League of Their Own     Rae (II) Allen\n",
      "                              ...       \n",
      "Zipperface                 Marilyn Adams\n",
      "Zvezda sherifa           Irina Alfyorova\n",
      "Name: name, Length: 193, dtype: object\n",
      "1993\n",
      "actress\n",
      "title\n",
      "23h58                Val?rie Aberman\n",
      "A Bronx Tale        Elizabeth Abassi\n",
      "                        ...         \n",
      "Zero Patience    Lisa (II) Alexander\n",
      "Zohar                     Alina (II)\n",
      "Name: name, Length: 231, dtype: object\n",
      "1994\n",
      "actress\n",
      "title\n",
      "A Caixa                                                        Sofia Alves\n",
      "A Caixa                                                      Sharon Ahrens\n",
      "                                                               ...        \n",
      "Zinat                                                      Shahin Alizadeh\n",
      "Zivot a neobycejna dobrodruzstvi vojaka Ivana Conkina    Tatyana Agafonova\n",
      "Name: name, Length: 231, dtype: object\n",
      "1995\n",
      "actress\n",
      "title\n",
      "A Boy Called Hate    Stephanie Allain\n",
      "A Modern Affair        Caroline Aaron\n",
      "                           ...       \n",
      "Witch Academy            Suzanne Ager\n",
      "Writer's Block            Robyn Allen\n",
      "Name: name, Length: 260, dtype: object\n",
      "1996\n",
      "actress\n",
      "title\n",
      "80. Adim                                Derya Alabora\n",
      "A Thin Line Between Love and Hate      Tangie Ambrose\n",
      "                                           ...       \n",
      "Zapico                               Patricia Adriani\n",
      "Zolgot Hadma'ot Me'atzman                  Yael Almog\n",
      "Name: name, Length: 260, dtype: object\n",
      "1997\n",
      "actress\n",
      "title\n",
      "'Til There Was You            Karen Allen\n",
      "9 millimeter          Helena Af Sandeberg\n",
      "                             ...         \n",
      "Wounded                     M?dchen Amick\n",
      "Ziddi                         Richa Ahuja\n",
      "Name: name, Length: 292, dtype: object\n",
      "1998\n",
      "actress\n",
      "title\n",
      "16 en la lista                    Laura Alexandra\n",
      "2 sinaloenses y 3 colombianas    Socorro Albarr?n\n",
      "                                       ...       \n",
      "Zona J                             S?lvia Alberto\n",
      "fl 19,99                            Marijke Aerts\n",
      "Name: name, Length: 293, dtype: object\n",
      "1999\n",
      "actress\n",
      "title\n",
      "...Quando Troveja                  Maria Jo?o Aguiar\n",
      "14 Ways to Wear Lipstick    Elizabeth Maccari Alvaro\n",
      "                                      ...           \n",
      "Yellow Pages                         Elisabeth Adwin\n",
      "Yepeto                                Margara Alonso\n",
      "Name: name, Length: 348, dtype: object\n",
      "2000\n",
      "actress\n",
      "title\n",
      "100 Girls           Kristina Anapau\n",
      "15-Sai: Gakko IV         Y?ko Akino\n",
      "                         ...       \n",
      "Zavist bogov          Vera Alentova\n",
      "Zora la vampira       Elda Alvigini\n",
      "Name: name, Length: 378, dtype: object\n",
      "2001\n",
      "actress\n",
      "title\n",
      "'R Xmas                            Anne Ackerman\n",
      "...Or Forever Hold Your Peace     Melinda Ahrens\n",
      "                                      ...       \n",
      "Zir-e poost-e shahr                 Golab Adineh\n",
      "Zoolander                        Heidi Albertsen\n",
      "Name: name, Length: 388, dtype: object\n",
      "2002\n",
      "actress\n",
      "title\n",
      "12:35                           Sarah (V) Allen\n",
      "24 Hour Party People                Fiona Allen\n",
      "                                     ...       \n",
      "Yesterday, Today & Tomorrow         Leah Allers\n",
      "Zendan-e zanan                 Pegah Ahangarani\n",
      "Name: name, Length: 442, dtype: object\n",
      "2003\n",
      "actress\n",
      "title\n",
      "2 Fast 2 Furious              Limary Agosto\n",
      "2 ryk og en aflevering        Sofie Ahlgren\n",
      "                                ...        \n",
      "X2                          Sideah Alladice\n",
      "Zelary                    Jaroslava Adamov?\n",
      "Name: name, Length: 385, dtype: object\n",
      "2004\n",
      "actress\n",
      "title\n",
      "(Past Present Future) Imperfect      Christine Adams\n",
      "06/05                                     Alix Adams\n",
      "                                         ...        \n",
      "Za'er                              Fatima Abdulrahim\n",
      "Zeyda and the Hitman                     Onalee Ames\n",
      "Name: name, Length: 524, dtype: object\n",
      "2005\n",
      "actress\n",
      "title\n",
      "...Yahaan                               Dolly Ahluwalia\n",
      "3 Needles                              Mabel (II) Adams\n",
      "                                            ...        \n",
      "Zaky Chan                             Yasmin Abdel Aziz\n",
      "Zerkalnye voyny. Otrazhenie pervoe    Kseniya Alfyorova\n",
      "Name: name, Length: 585, dtype: object\n",
      "2006\n",
      "actress\n",
      "title\n",
      "'Wag kang lilingon    Girlie Alcantara\n",
      "10,000 Apologies       Genevieve Adell\n",
      "                            ...       \n",
      "Zuzu Angel              Camila Almeida\n",
      "Zuzu Angel               Regiane Alves\n",
      "Name: name, Length: 656, dtype: object\n",
      "2007\n",
      "actress\n",
      "title\n",
      ".hack//G.U. Trilogy       Sayaka Aida\n",
      "1, 2, 3, Whiteout      Karine Adrover\n",
      "                            ...      \n",
      "Zibahkhana             Mohammad Akbar\n",
      "w Delta z               Barbara Adair\n",
      "Name: name, Length: 732, dtype: object\n",
      "2008\n",
      "actress\n",
      "title\n",
      "$5 a Day            Lynda Alhussiny\n",
      ") (                   Silvia Albert\n",
      "                         ...       \n",
      "Zimbabwe              Abigail (VII)\n",
      "Zombie Strippers           Jen Alex\n",
      "Name: name, Length: 861, dtype: object\n",
      "2009\n",
      "actress\n",
      "title\n",
      "(500) Days of Summer    Eileen Abarrca\n",
      "1 Day                    Rianna Aldred\n",
      "                             ...      \n",
      "Zombieland              Elle Alexander\n",
      "Zona sur                Ximena Alvarez\n",
      "Name: name, Length: 880, dtype: object\n",
      "2010\n",
      "actress\n",
      "title\n",
      "'Master Harold' ... And the Boys            Sheena Abrahams\n",
      "180 moires                          Penelope Anastasopoulou\n",
      "                                             ...           \n",
      "Zombrex: Dead Rising Sun                     Yukiko Akasaki\n",
      "Zombrex: Dead Rising Sun                      Hiroko Aihara\n",
      "Name: name, Length: 909, dtype: object\n",
      "2011\n",
      "actress\n",
      "title\n",
      "0s & 1s        Bianca Alatorre\n",
      "1 Message    Ashley Kate Adams\n",
      "                   ...        \n",
      "Zookeeper         Diana Afonso\n",
      "eCupid        Christy Alvarado\n",
      "Name: name, Length: 1015, dtype: object\n",
      "2012\n",
      "actress\n",
      "title\n",
      "009 Re: Cyborg                     Saeko Akiho\n",
      "10Terrorists                     Katie Allison\n",
      "                                   ...        \n",
      "Zombie Mutation             Samantha Alexandra\n",
      "Zombies from Outer Space         Kristin Anaid\n",
      "Name: name, Length: 1092, dtype: object\n",
      "2013\n",
      "actress\n",
      "title\n",
      ".357                                     Amari (II)\n",
      "009-1: The End of the Beginning       Mami (II) Abe\n",
      "                                         ...       \n",
      "Zindagi 50 50                        Swati Aggarwal\n",
      "Zug der Abenteuer                  Eldrid Alveratis\n",
      "Name: name, Length: 1130, dtype: object\n",
      "2014\n",
      "actress\n",
      "title\n",
      "#Nerealnaya lyubov    Marina Aleksandrova\n",
      "#Stuck                       Gaby Alcazar\n",
      "                             ...         \n",
      "Zvezda                 Ekaterina Abramova\n",
      "bestefreunde            Tina Amon Amonsen\n",
      "Name: name, Length: 1215, dtype: object\n",
      "2015\n",
      "actress\n",
      "title\n",
      "#Horror                              Emma Adler\n",
      "#Lucky Number                      Grace Abbott\n",
      "                                    ...        \n",
      "Zombie Bounty Hunter M.D.       Meaghan Aitkens\n",
      "Zombies of the Living Dead    Danielle Ackerman\n",
      "Name: name, Length: 1264, dtype: object\n",
      "2016\n",
      "actress\n",
      "title\n",
      "#DigitalLivesMatter           Rashan Ali\n",
      "#modelswanted          Stephanie Almeida\n",
      "                             ...        \n",
      "Zoologiya              Katya Alexandrina\n",
      "kingdom of ants          Rupak Abdulkadr\n",
      "Name: name, Length: 1417, dtype: object\n",
      "2017\n",
      "actress\n",
      "title\n",
      "#REALITYHIGH                  Suzanne Altfeld\n",
      "1                                 Alice Amter\n",
      "                                   ...       \n",
      "Zombinatrix                    Bianca Allaine\n",
      "xXx: Return of Xander Cage        Jeimi Abila\n",
      "Name: name, Length: 741, dtype: object\n",
      "2018\n",
      "actress\n",
      "title\n",
      "1 vs. 100: The Quality of Love          Jill Adler\n",
      "24 Hours Away                             Adi Alfa\n",
      "                                        ...       \n",
      "Witchula                            Tade Adepoyibi\n",
      "Zelda's Pepperonis                Sarah Alexandria\n",
      "Name: name, Length: 67, dtype: object\n",
      "2019\n",
      "actress\n",
      "title\n",
      "Scream, Spermula, Scream! Rise of the Ghoul Squad    Simone Abrahamsohn\n",
      "Thee Recluse: Thieves in the Temple.                         Quben Alex\n",
      "Toy Story 4                                                   Lori Alan\n",
      "Name: name, dtype: object\n",
      "2020\n",
      "actress\n",
      "title\n",
      "Gordon's Quest    Kaniah Alston\n",
      "Name: name, dtype: object\n",
      "2023\n",
      "actress\n",
      "title\n",
      "Inside Me    Victoria Alcala\n",
      "Inside Me    Victoria Alcala\n",
      "Name: name, dtype: object\n"
     ]
    }
   ],
   "source": [
    "for (tipo,ano),nombre in cg2:\n",
    "    print(ano)\n",
    "    print(tipo)\n",
    "    print(nombre)"
   ]
  },
  {
   "cell_type": "markdown",
   "metadata": {},
   "source": [
    "# 4. Unstack"
   ]
  },
  {
   "cell_type": "markdown",
   "metadata": {},
   "source": [
    "Hacemos el groupby por dos campos, uno de ellos custom"
   ]
  },
  {
   "cell_type": "code",
   "execution_count": 104,
   "metadata": {},
   "outputs": [
    {
     "data": {
      "text/plain": [
       "type   year\n",
       "actor  1910     384\n",
       "       1920     710\n",
       "               ... \n",
       "       1970    3044\n",
       "       1980    3565\n",
       "Length: 8, dtype: int64"
      ]
     },
     "execution_count": 104,
     "metadata": {},
     "output_type": "execute_result"
    }
   ],
   "source": [
    "c = casts\n",
    "c_decade = c.groupby( ['type', c['year']//10*10] ).size()\n",
    "c_decade.head(8)"
   ]
  },
  {
   "cell_type": "code",
   "execution_count": 105,
   "metadata": {},
   "outputs": [
    {
     "data": {
      "text/plain": [
       "type     year\n",
       "actor    1910     384\n",
       "         1920     710\n",
       "                 ... \n",
       "actress  2010    8853\n",
       "         2020       3\n",
       "Length: 24, dtype: int64"
      ]
     },
     "execution_count": 105,
     "metadata": {},
     "output_type": "execute_result"
    }
   ],
   "source": [
    "c_decade"
   ]
  },
  {
   "cell_type": "markdown",
   "metadata": {},
   "source": [
    "__Bonito!__"
   ]
  },
  {
   "cell_type": "code",
   "execution_count": 106,
   "metadata": {},
   "outputs": [
    {
     "data": {
      "text/html": [
       "<div>\n",
       "<style scoped>\n",
       "    .dataframe tbody tr th:only-of-type {\n",
       "        vertical-align: middle;\n",
       "    }\n",
       "\n",
       "    .dataframe tbody tr th {\n",
       "        vertical-align: top;\n",
       "    }\n",
       "\n",
       "    .dataframe thead th {\n",
       "        text-align: right;\n",
       "    }\n",
       "</style>\n",
       "<table border=\"1\" class=\"dataframe\">\n",
       "  <thead>\n",
       "    <tr style=\"text-align: right;\">\n",
       "      <th>year</th>\n",
       "      <th>1910</th>\n",
       "      <th>1920</th>\n",
       "      <th>1930</th>\n",
       "      <th>1940</th>\n",
       "      <th>1950</th>\n",
       "      <th>...</th>\n",
       "      <th>1980</th>\n",
       "      <th>1990</th>\n",
       "      <th>2000</th>\n",
       "      <th>2010</th>\n",
       "      <th>2020</th>\n",
       "    </tr>\n",
       "    <tr>\n",
       "      <th>type</th>\n",
       "      <th></th>\n",
       "      <th></th>\n",
       "      <th></th>\n",
       "      <th></th>\n",
       "      <th></th>\n",
       "      <th></th>\n",
       "      <th></th>\n",
       "      <th></th>\n",
       "      <th></th>\n",
       "      <th></th>\n",
       "      <th></th>\n",
       "    </tr>\n",
       "  </thead>\n",
       "  <tbody>\n",
       "    <tr>\n",
       "      <th>actor</th>\n",
       "      <td>384</td>\n",
       "      <td>710</td>\n",
       "      <td>2628</td>\n",
       "      <td>3014</td>\n",
       "      <td>2877</td>\n",
       "      <td>...</td>\n",
       "      <td>3565</td>\n",
       "      <td>5108</td>\n",
       "      <td>10368</td>\n",
       "      <td>15523</td>\n",
       "      <td>4</td>\n",
       "    </tr>\n",
       "    <tr>\n",
       "      <th>actress</th>\n",
       "      <td>285</td>\n",
       "      <td>411</td>\n",
       "      <td>820</td>\n",
       "      <td>983</td>\n",
       "      <td>1015</td>\n",
       "      <td>...</td>\n",
       "      <td>1989</td>\n",
       "      <td>2544</td>\n",
       "      <td>5831</td>\n",
       "      <td>8853</td>\n",
       "      <td>3</td>\n",
       "    </tr>\n",
       "  </tbody>\n",
       "</table>\n",
       "<p>2 rows × 12 columns</p>\n",
       "</div>"
      ],
      "text/plain": [
       "year     1910  1920  1930  1940  1950  ...  1980  1990   2000   2010  2020\n",
       "type                                   ...                                \n",
       "actor     384   710  2628  3014  2877  ...  3565  5108  10368  15523     4\n",
       "actress   285   411   820   983  1015  ...  1989  2544   5831   8853     3\n",
       "\n",
       "[2 rows x 12 columns]"
      ]
     },
     "execution_count": 106,
     "metadata": {},
     "output_type": "execute_result"
    }
   ],
   "source": [
    "c_decade.unstack()"
   ]
  },
  {
   "cell_type": "code",
   "execution_count": 108,
   "metadata": {},
   "outputs": [
    {
     "data": {
      "text/html": [
       "<div>\n",
       "<style scoped>\n",
       "    .dataframe tbody tr th:only-of-type {\n",
       "        vertical-align: middle;\n",
       "    }\n",
       "\n",
       "    .dataframe tbody tr th {\n",
       "        vertical-align: top;\n",
       "    }\n",
       "\n",
       "    .dataframe thead th {\n",
       "        text-align: right;\n",
       "    }\n",
       "</style>\n",
       "<table border=\"1\" class=\"dataframe\">\n",
       "  <thead>\n",
       "    <tr style=\"text-align: right;\">\n",
       "      <th>year</th>\n",
       "      <th>1910</th>\n",
       "      <th>1920</th>\n",
       "      <th>1930</th>\n",
       "      <th>1940</th>\n",
       "      <th>1950</th>\n",
       "      <th>...</th>\n",
       "      <th>1980</th>\n",
       "      <th>1990</th>\n",
       "      <th>2000</th>\n",
       "      <th>2010</th>\n",
       "      <th>2020</th>\n",
       "    </tr>\n",
       "    <tr>\n",
       "      <th>type</th>\n",
       "      <th></th>\n",
       "      <th></th>\n",
       "      <th></th>\n",
       "      <th></th>\n",
       "      <th></th>\n",
       "      <th></th>\n",
       "      <th></th>\n",
       "      <th></th>\n",
       "      <th></th>\n",
       "      <th></th>\n",
       "      <th></th>\n",
       "    </tr>\n",
       "  </thead>\n",
       "  <tbody>\n",
       "    <tr>\n",
       "      <th>actor</th>\n",
       "      <td>384</td>\n",
       "      <td>710</td>\n",
       "      <td>2628</td>\n",
       "      <td>3014</td>\n",
       "      <td>2877</td>\n",
       "      <td>...</td>\n",
       "      <td>3565</td>\n",
       "      <td>5108</td>\n",
       "      <td>10368</td>\n",
       "      <td>15523</td>\n",
       "      <td>4</td>\n",
       "    </tr>\n",
       "    <tr>\n",
       "      <th>actress</th>\n",
       "      <td>285</td>\n",
       "      <td>411</td>\n",
       "      <td>820</td>\n",
       "      <td>983</td>\n",
       "      <td>1015</td>\n",
       "      <td>...</td>\n",
       "      <td>1989</td>\n",
       "      <td>2544</td>\n",
       "      <td>5831</td>\n",
       "      <td>8853</td>\n",
       "      <td>3</td>\n",
       "    </tr>\n",
       "  </tbody>\n",
       "</table>\n",
       "<p>2 rows × 12 columns</p>\n",
       "</div>"
      ],
      "text/plain": [
       "year     1910  1920  1930  1940  1950  ...  1980  1990   2000   2010  2020\n",
       "type                                   ...                                \n",
       "actor     384   710  2628  3014  2877  ...  3565  5108  10368  15523     4\n",
       "actress   285   411   820   983  1015  ...  1989  2544   5831   8853     3\n",
       "\n",
       "[2 rows x 12 columns]"
      ]
     },
     "execution_count": 108,
     "metadata": {},
     "output_type": "execute_result"
    }
   ],
   "source": [
    "c_decade.unstack()"
   ]
  },
  {
   "cell_type": "markdown",
   "metadata": {},
   "source": [
    "Muestra un grafico de barras:"
   ]
  },
  {
   "cell_type": "code",
   "execution_count": 110,
   "metadata": {},
   "outputs": [
    {
     "data": {
      "text/plain": [
       "<matplotlib.axes._subplots.AxesSubplot at 0x291bc7101c8>"
      ]
     },
     "execution_count": 110,
     "metadata": {},
     "output_type": "execute_result"
    },
    {
     "data": {
      "image/png": "[encoded data removed]",
      "text/plain": [
       "<Figure size 432x288 with 1 Axes>"
      ]
     },
     "metadata": {
      "needs_background": "light"
     },
     "output_type": "display_data"
    }
   ],
   "source": [
    "c_decade.unstack().plot(kind='bar')"
   ]
  },
  {
   "cell_type": "markdown",
   "metadata": {},
   "source": [
    "Hacemos la transpuesta del Dataframe para representarlo"
   ]
  },
  {
   "cell_type": "code",
   "execution_count": 111,
   "metadata": {},
   "outputs": [
    {
     "data": {
      "text/plain": [
       "<matplotlib.axes._subplots.AxesSubplot at 0x291bdb07d48>"
      ]
     },
     "execution_count": 111,
     "metadata": {},
     "output_type": "execute_result"
    },
    {
     "data": {
      "image/png": "[encoded data removed]",
      "text/plain": [
       "<Figure size 432x288 with 1 Axes>"
      ]
     },
     "metadata": {
      "needs_background": "light"
     },
     "output_type": "display_data"
    }
   ],
   "source": [
    "c_decade.unstack().T.plot()"
   ]
  },
  {
   "cell_type": "markdown",
   "metadata": {},
   "source": [
    "Podemos especificar que variable desapilar. En nuestro dataframe tenemos type y actor"
   ]
  },
  {
   "cell_type": "code",
   "execution_count": 114,
   "metadata": {},
   "outputs": [
    {
     "data": {
      "text/plain": [
       "type     year\n",
       "actor    1910     384\n",
       "         1920     710\n",
       "                 ... \n",
       "actress  2010    8853\n",
       "         2020       3\n",
       "Length: 24, dtype: int64"
      ]
     },
     "execution_count": 114,
     "metadata": {},
     "output_type": "execute_result"
    }
   ],
   "source": [
    "c_decade"
   ]
  },
  {
   "cell_type": "markdown",
   "metadata": {},
   "source": [
    "Por defecto unstack() es equivalente a unstack(-1). En nuestro caso unstack(-1) es lo mismo que unstack(1)"
   ]
  },
  {
   "cell_type": "code",
   "execution_count": 115,
   "metadata": {},
   "outputs": [
    {
     "data": {
      "text/html": [
       "<div>\n",
       "<style scoped>\n",
       "    .dataframe tbody tr th:only-of-type {\n",
       "        vertical-align: middle;\n",
       "    }\n",
       "\n",
       "    .dataframe tbody tr th {\n",
       "        vertical-align: top;\n",
       "    }\n",
       "\n",
       "    .dataframe thead th {\n",
       "        text-align: right;\n",
       "    }\n",
       "</style>\n",
       "<table border=\"1\" class=\"dataframe\">\n",
       "  <thead>\n",
       "    <tr style=\"text-align: right;\">\n",
       "      <th>year</th>\n",
       "      <th>1910</th>\n",
       "      <th>1920</th>\n",
       "      <th>1930</th>\n",
       "      <th>1940</th>\n",
       "      <th>1950</th>\n",
       "      <th>...</th>\n",
       "      <th>1980</th>\n",
       "      <th>1990</th>\n",
       "      <th>2000</th>\n",
       "      <th>2010</th>\n",
       "      <th>2020</th>\n",
       "    </tr>\n",
       "    <tr>\n",
       "      <th>type</th>\n",
       "      <th></th>\n",
       "      <th></th>\n",
       "      <th></th>\n",
       "      <th></th>\n",
       "      <th></th>\n",
       "      <th></th>\n",
       "      <th></th>\n",
       "      <th></th>\n",
       "      <th></th>\n",
       "      <th></th>\n",
       "      <th></th>\n",
       "    </tr>\n",
       "  </thead>\n",
       "  <tbody>\n",
       "    <tr>\n",
       "      <th>actor</th>\n",
       "      <td>384</td>\n",
       "      <td>710</td>\n",
       "      <td>2628</td>\n",
       "      <td>3014</td>\n",
       "      <td>2877</td>\n",
       "      <td>...</td>\n",
       "      <td>3565</td>\n",
       "      <td>5108</td>\n",
       "      <td>10368</td>\n",
       "      <td>15523</td>\n",
       "      <td>4</td>\n",
       "    </tr>\n",
       "    <tr>\n",
       "      <th>actress</th>\n",
       "      <td>285</td>\n",
       "      <td>411</td>\n",
       "      <td>820</td>\n",
       "      <td>983</td>\n",
       "      <td>1015</td>\n",
       "      <td>...</td>\n",
       "      <td>1989</td>\n",
       "      <td>2544</td>\n",
       "      <td>5831</td>\n",
       "      <td>8853</td>\n",
       "      <td>3</td>\n",
       "    </tr>\n",
       "  </tbody>\n",
       "</table>\n",
       "<p>2 rows × 12 columns</p>\n",
       "</div>"
      ],
      "text/plain": [
       "year     1910  1920  1930  1940  1950  ...  1980  1990   2000   2010  2020\n",
       "type                                   ...                                \n",
       "actor     384   710  2628  3014  2877  ...  3565  5108  10368  15523     4\n",
       "actress   285   411   820   983  1015  ...  1989  2544   5831   8853     3\n",
       "\n",
       "[2 rows x 12 columns]"
      ]
     },
     "execution_count": 115,
     "metadata": {},
     "output_type": "execute_result"
    }
   ],
   "source": [
    "c_decade.unstack(1)"
   ]
  },
  {
   "cell_type": "code",
   "execution_count": 116,
   "metadata": {},
   "outputs": [
    {
     "data": {
      "text/html": [
       "<div>\n",
       "<style scoped>\n",
       "    .dataframe tbody tr th:only-of-type {\n",
       "        vertical-align: middle;\n",
       "    }\n",
       "\n",
       "    .dataframe tbody tr th {\n",
       "        vertical-align: top;\n",
       "    }\n",
       "\n",
       "    .dataframe thead th {\n",
       "        text-align: right;\n",
       "    }\n",
       "</style>\n",
       "<table border=\"1\" class=\"dataframe\">\n",
       "  <thead>\n",
       "    <tr style=\"text-align: right;\">\n",
       "      <th>type</th>\n",
       "      <th>actor</th>\n",
       "      <th>actress</th>\n",
       "    </tr>\n",
       "    <tr>\n",
       "      <th>year</th>\n",
       "      <th></th>\n",
       "      <th></th>\n",
       "    </tr>\n",
       "  </thead>\n",
       "  <tbody>\n",
       "    <tr>\n",
       "      <th>1910</th>\n",
       "      <td>384</td>\n",
       "      <td>285</td>\n",
       "    </tr>\n",
       "    <tr>\n",
       "      <th>1920</th>\n",
       "      <td>710</td>\n",
       "      <td>411</td>\n",
       "    </tr>\n",
       "    <tr>\n",
       "      <th>...</th>\n",
       "      <td>...</td>\n",
       "      <td>...</td>\n",
       "    </tr>\n",
       "    <tr>\n",
       "      <th>2010</th>\n",
       "      <td>15523</td>\n",
       "      <td>8853</td>\n",
       "    </tr>\n",
       "    <tr>\n",
       "      <th>2020</th>\n",
       "      <td>4</td>\n",
       "      <td>3</td>\n",
       "    </tr>\n",
       "  </tbody>\n",
       "</table>\n",
       "<p>12 rows × 2 columns</p>\n",
       "</div>"
      ],
      "text/plain": [
       "type  actor  actress\n",
       "year                \n",
       "1910    384      285\n",
       "1920    710      411\n",
       "...     ...      ...\n",
       "2010  15523     8853\n",
       "2020      4        3\n",
       "\n",
       "[12 rows x 2 columns]"
      ]
     },
     "execution_count": 116,
     "metadata": {},
     "output_type": "execute_result"
    }
   ],
   "source": [
    "c_decade.unstack(0)"
   ]
  },
  {
   "cell_type": "code",
   "execution_count": 117,
   "metadata": {},
   "outputs": [
    {
     "data": {
      "text/plain": [
       "<matplotlib.axes._subplots.AxesSubplot at 0x291bfcf44c8>"
      ]
     },
     "execution_count": 117,
     "metadata": {},
     "output_type": "execute_result"
    },
    {
     "data": {
      "image/png": "[encoded data removed]",
      "text/plain": [
       "<Figure size 432x288 with 1 Axes>"
      ]
     },
     "metadata": {
      "needs_background": "light"
     },
     "output_type": "display_data"
    }
   ],
   "source": [
    "c_decade.unstack(0).plot(kind='bar')"
   ]
  },
  {
   "cell_type": "markdown",
   "metadata": {},
   "source": [
    "# 5. Merge (joins)"
   ]
  },
  {
   "cell_type": "code",
   "execution_count": 120,
   "metadata": {},
   "outputs": [
    {
     "data": {
      "text/html": [
       "<div>\n",
       "<style scoped>\n",
       "    .dataframe tbody tr th:only-of-type {\n",
       "        vertical-align: middle;\n",
       "    }\n",
       "\n",
       "    .dataframe tbody tr th {\n",
       "        vertical-align: top;\n",
       "    }\n",
       "\n",
       "    .dataframe thead th {\n",
       "        text-align: right;\n",
       "    }\n",
       "</style>\n",
       "<table border=\"1\" class=\"dataframe\">\n",
       "  <thead>\n",
       "    <tr style=\"text-align: right;\">\n",
       "      <th></th>\n",
       "      <th>title</th>\n",
       "      <th>year</th>\n",
       "      <th>country</th>\n",
       "      <th>date</th>\n",
       "    </tr>\n",
       "  </thead>\n",
       "  <tbody>\n",
       "    <tr>\n",
       "      <th>0</th>\n",
       "      <td>#73, Shaanthi Nivaasa</td>\n",
       "      <td>2007</td>\n",
       "      <td>India</td>\n",
       "      <td>2007-06-15</td>\n",
       "    </tr>\n",
       "    <tr>\n",
       "      <th>1</th>\n",
       "      <td>#Beings</td>\n",
       "      <td>2015</td>\n",
       "      <td>Romania</td>\n",
       "      <td>2015-01-29</td>\n",
       "    </tr>\n",
       "    <tr>\n",
       "      <th>...</th>\n",
       "      <td>...</td>\n",
       "      <td>...</td>\n",
       "      <td>...</td>\n",
       "      <td>...</td>\n",
       "    </tr>\n",
       "    <tr>\n",
       "      <th>3</th>\n",
       "      <td>#Ewankosau saranghaeyo</td>\n",
       "      <td>2015</td>\n",
       "      <td>Philippines</td>\n",
       "      <td>2015-01-21</td>\n",
       "    </tr>\n",
       "    <tr>\n",
       "      <th>4</th>\n",
       "      <td>#Horror</td>\n",
       "      <td>2015</td>\n",
       "      <td>USA</td>\n",
       "      <td>2015-11-20</td>\n",
       "    </tr>\n",
       "  </tbody>\n",
       "</table>\n",
       "<p>5 rows × 4 columns</p>\n",
       "</div>"
      ],
      "text/plain": [
       "                     title  year      country        date\n",
       "0    #73, Shaanthi Nivaasa  2007        India  2007-06-15\n",
       "1                  #Beings  2015      Romania  2015-01-29\n",
       "..                     ...   ...          ...         ...\n",
       "3   #Ewankosau saranghaeyo  2015  Philippines  2015-01-21\n",
       "4                  #Horror  2015          USA  2015-11-20\n",
       "\n",
       "[5 rows x 4 columns]"
      ]
     },
     "execution_count": 120,
     "metadata": {},
     "output_type": "execute_result"
    }
   ],
   "source": [
    "release = pd.read_csv('./data/release_dates.csv', index_col=None)\n",
    "release.head()"
   ]
  },
  {
   "cell_type": "code",
   "execution_count": 121,
   "metadata": {},
   "outputs": [
    {
     "data": {
      "text/html": [
       "<div>\n",
       "<style scoped>\n",
       "    .dataframe tbody tr th:only-of-type {\n",
       "        vertical-align: middle;\n",
       "    }\n",
       "\n",
       "    .dataframe tbody tr th {\n",
       "        vertical-align: top;\n",
       "    }\n",
       "\n",
       "    .dataframe thead th {\n",
       "        text-align: right;\n",
       "    }\n",
       "</style>\n",
       "<table border=\"1\" class=\"dataframe\">\n",
       "  <thead>\n",
       "    <tr style=\"text-align: right;\">\n",
       "      <th></th>\n",
       "      <th>title</th>\n",
       "      <th>year</th>\n",
       "      <th>name</th>\n",
       "      <th>type</th>\n",
       "      <th>character</th>\n",
       "      <th>n</th>\n",
       "    </tr>\n",
       "  </thead>\n",
       "  <tbody>\n",
       "    <tr>\n",
       "      <th>0</th>\n",
       "      <td>Closet Monster</td>\n",
       "      <td>2015</td>\n",
       "      <td>Buffy #1</td>\n",
       "      <td>actor</td>\n",
       "      <td>Buffy 4</td>\n",
       "      <td>31.0</td>\n",
       "    </tr>\n",
       "    <tr>\n",
       "      <th>1</th>\n",
       "      <td>Suuri illusioni</td>\n",
       "      <td>1985</td>\n",
       "      <td>Homo $</td>\n",
       "      <td>actor</td>\n",
       "      <td>Guests</td>\n",
       "      <td>22.0</td>\n",
       "    </tr>\n",
       "    <tr>\n",
       "      <th>...</th>\n",
       "      <td>...</td>\n",
       "      <td>...</td>\n",
       "      <td>...</td>\n",
       "      <td>...</td>\n",
       "      <td>...</td>\n",
       "      <td>...</td>\n",
       "    </tr>\n",
       "    <tr>\n",
       "      <th>3</th>\n",
       "      <td>Secret in Their Eyes</td>\n",
       "      <td>2015</td>\n",
       "      <td>$hutter</td>\n",
       "      <td>actor</td>\n",
       "      <td>2002 Dodger Fan</td>\n",
       "      <td>NaN</td>\n",
       "    </tr>\n",
       "    <tr>\n",
       "      <th>4</th>\n",
       "      <td>Steve Jobs</td>\n",
       "      <td>2015</td>\n",
       "      <td>$hutter</td>\n",
       "      <td>actor</td>\n",
       "      <td>1988 Opera House Patron</td>\n",
       "      <td>NaN</td>\n",
       "    </tr>\n",
       "  </tbody>\n",
       "</table>\n",
       "<p>5 rows × 6 columns</p>\n",
       "</div>"
      ],
      "text/plain": [
       "                   title  year      name   type                character     n\n",
       "0         Closet Monster  2015  Buffy #1  actor                  Buffy 4  31.0\n",
       "1        Suuri illusioni  1985    Homo $  actor                   Guests  22.0\n",
       "..                   ...   ...       ...    ...                      ...   ...\n",
       "3   Secret in Their Eyes  2015   $hutter  actor          2002 Dodger Fan   NaN\n",
       "4             Steve Jobs  2015   $hutter  actor  1988 Opera House Patron   NaN\n",
       "\n",
       "[5 rows x 6 columns]"
      ]
     },
     "execution_count": 121,
     "metadata": {},
     "output_type": "execute_result"
    }
   ],
   "source": [
    "casts.head()"
   ]
  },
  {
   "cell_type": "code",
   "execution_count": 123,
   "metadata": {},
   "outputs": [
    {
     "data": {
      "text/html": [
       "<div>\n",
       "<style scoped>\n",
       "    .dataframe tbody tr th:only-of-type {\n",
       "        vertical-align: middle;\n",
       "    }\n",
       "\n",
       "    .dataframe tbody tr th {\n",
       "        vertical-align: top;\n",
       "    }\n",
       "\n",
       "    .dataframe thead th {\n",
       "        text-align: right;\n",
       "    }\n",
       "</style>\n",
       "<table border=\"1\" class=\"dataframe\">\n",
       "  <thead>\n",
       "    <tr style=\"text-align: right;\">\n",
       "      <th></th>\n",
       "      <th>title</th>\n",
       "      <th>year</th>\n",
       "      <th>name</th>\n",
       "      <th>type</th>\n",
       "      <th>character</th>\n",
       "      <th>n</th>\n",
       "    </tr>\n",
       "  </thead>\n",
       "  <tbody>\n",
       "    <tr>\n",
       "      <th>5767</th>\n",
       "      <td>Amelia</td>\n",
       "      <td>2009</td>\n",
       "      <td>Aaron Abrams</td>\n",
       "      <td>actor</td>\n",
       "      <td>Slim Gordon</td>\n",
       "      <td>8.0</td>\n",
       "    </tr>\n",
       "    <tr>\n",
       "      <th>23319</th>\n",
       "      <td>Amelia</td>\n",
       "      <td>2009</td>\n",
       "      <td>Jeremy Akerman</td>\n",
       "      <td>actor</td>\n",
       "      <td>Sheriff</td>\n",
       "      <td>19.0</td>\n",
       "    </tr>\n",
       "  </tbody>\n",
       "</table>\n",
       "</div>"
      ],
      "text/plain": [
       "        title  year            name   type    character     n\n",
       "5767   Amelia  2009    Aaron Abrams  actor  Slim Gordon   8.0\n",
       "23319  Amelia  2009  Jeremy Akerman  actor      Sheriff  19.0"
      ]
     },
     "execution_count": 123,
     "metadata": {},
     "output_type": "execute_result"
    }
   ],
   "source": [
    "c_amelia = casts[ casts['title'] == 'Amelia']\n",
    "c_amelia.head()"
   ]
  },
  {
   "cell_type": "code",
   "execution_count": 124,
   "metadata": {},
   "outputs": [
    {
     "data": {
      "text/html": [
       "<div>\n",
       "<style scoped>\n",
       "    .dataframe tbody tr th:only-of-type {\n",
       "        vertical-align: middle;\n",
       "    }\n",
       "\n",
       "    .dataframe tbody tr th {\n",
       "        vertical-align: top;\n",
       "    }\n",
       "\n",
       "    .dataframe thead th {\n",
       "        text-align: right;\n",
       "    }\n",
       "</style>\n",
       "<table border=\"1\" class=\"dataframe\">\n",
       "  <thead>\n",
       "    <tr style=\"text-align: right;\">\n",
       "      <th></th>\n",
       "      <th>title</th>\n",
       "      <th>year</th>\n",
       "      <th>country</th>\n",
       "      <th>date</th>\n",
       "    </tr>\n",
       "  </thead>\n",
       "  <tbody>\n",
       "    <tr>\n",
       "      <th>20543</th>\n",
       "      <td>Amelia</td>\n",
       "      <td>1966</td>\n",
       "      <td>Mexico</td>\n",
       "      <td>1966-03-10</td>\n",
       "    </tr>\n",
       "    <tr>\n",
       "      <th>20544</th>\n",
       "      <td>Amelia</td>\n",
       "      <td>2009</td>\n",
       "      <td>Canada</td>\n",
       "      <td>2009-10-23</td>\n",
       "    </tr>\n",
       "    <tr>\n",
       "      <th>...</th>\n",
       "      <td>...</td>\n",
       "      <td>...</td>\n",
       "      <td>...</td>\n",
       "      <td>...</td>\n",
       "    </tr>\n",
       "    <tr>\n",
       "      <th>20546</th>\n",
       "      <td>Amelia</td>\n",
       "      <td>2009</td>\n",
       "      <td>Australia</td>\n",
       "      <td>2009-11-12</td>\n",
       "    </tr>\n",
       "    <tr>\n",
       "      <th>20547</th>\n",
       "      <td>Amelia</td>\n",
       "      <td>2009</td>\n",
       "      <td>Singapore</td>\n",
       "      <td>2009-11-12</td>\n",
       "    </tr>\n",
       "  </tbody>\n",
       "</table>\n",
       "<p>5 rows × 4 columns</p>\n",
       "</div>"
      ],
      "text/plain": [
       "        title  year    country        date\n",
       "20543  Amelia  1966     Mexico  1966-03-10\n",
       "20544  Amelia  2009     Canada  2009-10-23\n",
       "...       ...   ...        ...         ...\n",
       "20546  Amelia  2009  Australia  2009-11-12\n",
       "20547  Amelia  2009  Singapore  2009-11-12\n",
       "\n",
       "[5 rows x 4 columns]"
      ]
     },
     "execution_count": 124,
     "metadata": {},
     "output_type": "execute_result"
    }
   ],
   "source": [
    "release [ release['title'] == 'Amelia' ].head()"
   ]
  },
  {
   "cell_type": "markdown",
   "metadata": {},
   "source": [
    "Hace el merge de los dos DataFrame usando los campos que son comunes en ambos:"
   ]
  },
  {
   "cell_type": "code",
   "execution_count": 125,
   "metadata": {},
   "outputs": [
    {
     "data": {
      "text/html": [
       "<div>\n",
       "<style scoped>\n",
       "    .dataframe tbody tr th:only-of-type {\n",
       "        vertical-align: middle;\n",
       "    }\n",
       "\n",
       "    .dataframe tbody tr th {\n",
       "        vertical-align: top;\n",
       "    }\n",
       "\n",
       "    .dataframe thead th {\n",
       "        text-align: right;\n",
       "    }\n",
       "</style>\n",
       "<table border=\"1\" class=\"dataframe\">\n",
       "  <thead>\n",
       "    <tr style=\"text-align: right;\">\n",
       "      <th></th>\n",
       "      <th>title</th>\n",
       "      <th>year</th>\n",
       "      <th>name</th>\n",
       "      <th>type</th>\n",
       "      <th>character</th>\n",
       "      <th>n</th>\n",
       "      <th>country</th>\n",
       "      <th>date</th>\n",
       "    </tr>\n",
       "  </thead>\n",
       "  <tbody>\n",
       "    <tr>\n",
       "      <th>0</th>\n",
       "      <td>Amelia</td>\n",
       "      <td>2009</td>\n",
       "      <td>Aaron Abrams</td>\n",
       "      <td>actor</td>\n",
       "      <td>Slim Gordon</td>\n",
       "      <td>8.0</td>\n",
       "      <td>Canada</td>\n",
       "      <td>2009-10-23</td>\n",
       "    </tr>\n",
       "    <tr>\n",
       "      <th>1</th>\n",
       "      <td>Amelia</td>\n",
       "      <td>2009</td>\n",
       "      <td>Aaron Abrams</td>\n",
       "      <td>actor</td>\n",
       "      <td>Slim Gordon</td>\n",
       "      <td>8.0</td>\n",
       "      <td>USA</td>\n",
       "      <td>2009-10-23</td>\n",
       "    </tr>\n",
       "    <tr>\n",
       "      <th>...</th>\n",
       "      <td>...</td>\n",
       "      <td>...</td>\n",
       "      <td>...</td>\n",
       "      <td>...</td>\n",
       "      <td>...</td>\n",
       "      <td>...</td>\n",
       "      <td>...</td>\n",
       "      <td>...</td>\n",
       "    </tr>\n",
       "    <tr>\n",
       "      <th>3</th>\n",
       "      <td>Amelia</td>\n",
       "      <td>2009</td>\n",
       "      <td>Aaron Abrams</td>\n",
       "      <td>actor</td>\n",
       "      <td>Slim Gordon</td>\n",
       "      <td>8.0</td>\n",
       "      <td>Singapore</td>\n",
       "      <td>2009-11-12</td>\n",
       "    </tr>\n",
       "    <tr>\n",
       "      <th>4</th>\n",
       "      <td>Amelia</td>\n",
       "      <td>2009</td>\n",
       "      <td>Aaron Abrams</td>\n",
       "      <td>actor</td>\n",
       "      <td>Slim Gordon</td>\n",
       "      <td>8.0</td>\n",
       "      <td>Ireland</td>\n",
       "      <td>2009-11-13</td>\n",
       "    </tr>\n",
       "  </tbody>\n",
       "</table>\n",
       "<p>5 rows × 8 columns</p>\n",
       "</div>"
      ],
      "text/plain": [
       "     title  year          name   type    character    n    country        date\n",
       "0   Amelia  2009  Aaron Abrams  actor  Slim Gordon  8.0     Canada  2009-10-23\n",
       "1   Amelia  2009  Aaron Abrams  actor  Slim Gordon  8.0        USA  2009-10-23\n",
       "..     ...   ...           ...    ...          ...  ...        ...         ...\n",
       "3   Amelia  2009  Aaron Abrams  actor  Slim Gordon  8.0  Singapore  2009-11-12\n",
       "4   Amelia  2009  Aaron Abrams  actor  Slim Gordon  8.0    Ireland  2009-11-13\n",
       "\n",
       "[5 rows x 8 columns]"
      ]
     },
     "execution_count": 125,
     "metadata": {},
     "output_type": "execute_result"
    }
   ],
   "source": [
    "c_amelia.merge(release).head()"
   ]
  },
  {
   "cell_type": "markdown",
   "metadata": {},
   "source": [
    "## 5.1 Merge consigo mismo"
   ]
  },
  {
   "cell_type": "code",
   "execution_count": 129,
   "metadata": {},
   "outputs": [
    {
     "data": {
      "text/html": [
       "<div>\n",
       "<style scoped>\n",
       "    .dataframe tbody tr th:only-of-type {\n",
       "        vertical-align: middle;\n",
       "    }\n",
       "\n",
       "    .dataframe tbody tr th {\n",
       "        vertical-align: top;\n",
       "    }\n",
       "\n",
       "    .dataframe thead th {\n",
       "        text-align: right;\n",
       "    }\n",
       "</style>\n",
       "<table border=\"1\" class=\"dataframe\">\n",
       "  <thead>\n",
       "    <tr style=\"text-align: right;\">\n",
       "      <th></th>\n",
       "      <th>title</th>\n",
       "      <th>year</th>\n",
       "      <th>name</th>\n",
       "      <th>type</th>\n",
       "      <th>character</th>\n",
       "      <th>n</th>\n",
       "    </tr>\n",
       "  </thead>\n",
       "  <tbody>\n",
       "    <tr>\n",
       "      <th>5765</th>\n",
       "      <td>#FromJennifer</td>\n",
       "      <td>2017</td>\n",
       "      <td>Aaron Abrams</td>\n",
       "      <td>actor</td>\n",
       "      <td>Ralph Sinclair</td>\n",
       "      <td>NaN</td>\n",
       "    </tr>\n",
       "    <tr>\n",
       "      <th>5766</th>\n",
       "      <td>388 Arletta Avenue</td>\n",
       "      <td>2011</td>\n",
       "      <td>Aaron Abrams</td>\n",
       "      <td>actor</td>\n",
       "      <td>Alex</td>\n",
       "      <td>4.0</td>\n",
       "    </tr>\n",
       "  </tbody>\n",
       "</table>\n",
       "</div>"
      ],
      "text/plain": [
       "                   title  year          name   type       character    n\n",
       "5765       #FromJennifer  2017  Aaron Abrams  actor  Ralph Sinclair  NaN\n",
       "5766  388 Arletta Avenue  2011  Aaron Abrams  actor            Alex  4.0"
      ]
     },
     "execution_count": 129,
     "metadata": {},
     "output_type": "execute_result"
    }
   ],
   "source": [
    "c = casts[ casts['name']=='Aaron Abrams' ]\n",
    "c.head(2)"
   ]
  },
  {
   "cell_type": "code",
   "execution_count": 127,
   "metadata": {},
   "outputs": [
    {
     "data": {
      "text/html": [
       "<div>\n",
       "<style scoped>\n",
       "    .dataframe tbody tr th:only-of-type {\n",
       "        vertical-align: middle;\n",
       "    }\n",
       "\n",
       "    .dataframe tbody tr th {\n",
       "        vertical-align: top;\n",
       "    }\n",
       "\n",
       "    .dataframe thead th {\n",
       "        text-align: right;\n",
       "    }\n",
       "</style>\n",
       "<table border=\"1\" class=\"dataframe\">\n",
       "  <thead>\n",
       "    <tr style=\"text-align: right;\">\n",
       "      <th></th>\n",
       "      <th>title</th>\n",
       "      <th>year</th>\n",
       "      <th>name_x</th>\n",
       "      <th>type_x</th>\n",
       "      <th>character_x</th>\n",
       "      <th>n_x</th>\n",
       "      <th>name_y</th>\n",
       "      <th>type_y</th>\n",
       "      <th>character_y</th>\n",
       "      <th>n_y</th>\n",
       "    </tr>\n",
       "  </thead>\n",
       "  <tbody>\n",
       "    <tr>\n",
       "      <th>0</th>\n",
       "      <td>#FromJennifer</td>\n",
       "      <td>2017</td>\n",
       "      <td>Aaron Abrams</td>\n",
       "      <td>actor</td>\n",
       "      <td>Ralph Sinclair</td>\n",
       "      <td>NaN</td>\n",
       "      <td>Aaron Abrams</td>\n",
       "      <td>actor</td>\n",
       "      <td>Ralph Sinclair</td>\n",
       "      <td>NaN</td>\n",
       "    </tr>\n",
       "    <tr>\n",
       "      <th>1</th>\n",
       "      <td>#FromJennifer</td>\n",
       "      <td>2017</td>\n",
       "      <td>Aaron Abrams</td>\n",
       "      <td>actor</td>\n",
       "      <td>Ralph Sinclair</td>\n",
       "      <td>NaN</td>\n",
       "      <td>Christian Ackerman</td>\n",
       "      <td>actor</td>\n",
       "      <td>Simon</td>\n",
       "      <td>NaN</td>\n",
       "    </tr>\n",
       "    <tr>\n",
       "      <th>...</th>\n",
       "      <td>...</td>\n",
       "      <td>...</td>\n",
       "      <td>...</td>\n",
       "      <td>...</td>\n",
       "      <td>...</td>\n",
       "      <td>...</td>\n",
       "      <td>...</td>\n",
       "      <td>...</td>\n",
       "      <td>...</td>\n",
       "      <td>...</td>\n",
       "    </tr>\n",
       "    <tr>\n",
       "      <th>3</th>\n",
       "      <td>388 Arletta Avenue</td>\n",
       "      <td>2011</td>\n",
       "      <td>Aaron Abrams</td>\n",
       "      <td>actor</td>\n",
       "      <td>Alex</td>\n",
       "      <td>4.0</td>\n",
       "      <td>Aaron Abrams</td>\n",
       "      <td>actor</td>\n",
       "      <td>Alex</td>\n",
       "      <td>4.0</td>\n",
       "    </tr>\n",
       "    <tr>\n",
       "      <th>4</th>\n",
       "      <td>Amelia</td>\n",
       "      <td>2009</td>\n",
       "      <td>Aaron Abrams</td>\n",
       "      <td>actor</td>\n",
       "      <td>Slim Gordon</td>\n",
       "      <td>8.0</td>\n",
       "      <td>Aaron Abrams</td>\n",
       "      <td>actor</td>\n",
       "      <td>Slim Gordon</td>\n",
       "      <td>8.0</td>\n",
       "    </tr>\n",
       "  </tbody>\n",
       "</table>\n",
       "<p>5 rows × 10 columns</p>\n",
       "</div>"
      ],
      "text/plain": [
       "                 title  year        name_x type_x     character_x  n_x  \\\n",
       "0        #FromJennifer  2017  Aaron Abrams  actor  Ralph Sinclair  NaN   \n",
       "1        #FromJennifer  2017  Aaron Abrams  actor  Ralph Sinclair  NaN   \n",
       "..                 ...   ...           ...    ...             ...  ...   \n",
       "3   388 Arletta Avenue  2011  Aaron Abrams  actor            Alex  4.0   \n",
       "4               Amelia  2009  Aaron Abrams  actor     Slim Gordon  8.0   \n",
       "\n",
       "                name_y type_y     character_y  n_y  \n",
       "0         Aaron Abrams  actor  Ralph Sinclair  NaN  \n",
       "1   Christian Ackerman  actor           Simon  NaN  \n",
       "..                 ...    ...             ...  ...  \n",
       "3         Aaron Abrams  actor            Alex  4.0  \n",
       "4         Aaron Abrams  actor     Slim Gordon  8.0  \n",
       "\n",
       "[5 rows x 10 columns]"
      ]
     },
     "execution_count": 127,
     "metadata": {},
     "output_type": "execute_result"
    }
   ],
   "source": [
    "c.merge(casts, on=['title', 'year']).head()"
   ]
  },
  {
   "cell_type": "markdown",
   "metadata": {},
   "source": [
    "## 5.2 Avanzado"
   ]
  },
  {
   "cell_type": "code",
   "execution_count": 266,
   "metadata": {},
   "outputs": [
    {
     "data": {
      "text/html": [
       "<div>\n",
       "<style scoped>\n",
       "    .dataframe tbody tr th:only-of-type {\n",
       "        vertical-align: middle;\n",
       "    }\n",
       "\n",
       "    .dataframe tbody tr th {\n",
       "        vertical-align: top;\n",
       "    }\n",
       "\n",
       "    .dataframe thead th {\n",
       "        text-align: right;\n",
       "    }\n",
       "</style>\n",
       "<table border=\"1\" class=\"dataframe\">\n",
       "  <thead>\n",
       "    <tr style=\"text-align: right;\">\n",
       "      <th></th>\n",
       "      <th>key</th>\n",
       "      <th>data1</th>\n",
       "    </tr>\n",
       "  </thead>\n",
       "  <tbody>\n",
       "    <tr>\n",
       "      <th>0</th>\n",
       "      <td>b</td>\n",
       "      <td>0</td>\n",
       "    </tr>\n",
       "    <tr>\n",
       "      <th>1</th>\n",
       "      <td>b</td>\n",
       "      <td>1</td>\n",
       "    </tr>\n",
       "    <tr>\n",
       "      <th>...</th>\n",
       "      <td>...</td>\n",
       "      <td>...</td>\n",
       "    </tr>\n",
       "    <tr>\n",
       "      <th>5</th>\n",
       "      <td>a</td>\n",
       "      <td>5</td>\n",
       "    </tr>\n",
       "    <tr>\n",
       "      <th>6</th>\n",
       "      <td>b</td>\n",
       "      <td>6</td>\n",
       "    </tr>\n",
       "  </tbody>\n",
       "</table>\n",
       "<p>7 rows × 2 columns</p>\n",
       "</div>"
      ],
      "text/plain": [
       "   key  data1\n",
       "0    b      0\n",
       "1    b      1\n",
       "..  ..    ...\n",
       "5    a      5\n",
       "6    b      6\n",
       "\n",
       "[7 rows x 2 columns]"
      ]
     },
     "execution_count": 266,
     "metadata": {},
     "output_type": "execute_result"
    }
   ],
   "source": [
    "df1 = pd.DataFrame({ 'key' : ['b', 'b', 'a', 'c', 'a', 'a', 'b'],\n",
    "... 'data1' : range(7)})\n",
    "df1"
   ]
  },
  {
   "cell_type": "code",
   "execution_count": 267,
   "metadata": {},
   "outputs": [
    {
     "data": {
      "text/html": [
       "<div>\n",
       "<style scoped>\n",
       "    .dataframe tbody tr th:only-of-type {\n",
       "        vertical-align: middle;\n",
       "    }\n",
       "\n",
       "    .dataframe tbody tr th {\n",
       "        vertical-align: top;\n",
       "    }\n",
       "\n",
       "    .dataframe thead th {\n",
       "        text-align: right;\n",
       "    }\n",
       "</style>\n",
       "<table border=\"1\" class=\"dataframe\">\n",
       "  <thead>\n",
       "    <tr style=\"text-align: right;\">\n",
       "      <th></th>\n",
       "      <th>key</th>\n",
       "      <th>data2</th>\n",
       "    </tr>\n",
       "  </thead>\n",
       "  <tbody>\n",
       "    <tr>\n",
       "      <th>0</th>\n",
       "      <td>a</td>\n",
       "      <td>0</td>\n",
       "    </tr>\n",
       "    <tr>\n",
       "      <th>1</th>\n",
       "      <td>b</td>\n",
       "      <td>1</td>\n",
       "    </tr>\n",
       "    <tr>\n",
       "      <th>2</th>\n",
       "      <td>d</td>\n",
       "      <td>2</td>\n",
       "    </tr>\n",
       "  </tbody>\n",
       "</table>\n",
       "</div>"
      ],
      "text/plain": [
       "  key  data2\n",
       "0   a      0\n",
       "1   b      1\n",
       "2   d      2"
      ]
     },
     "execution_count": 267,
     "metadata": {},
     "output_type": "execute_result"
    }
   ],
   "source": [
    "df2 = pd.DataFrame({ 'key' : ['a', 'b', 'd'],\n",
    "... 'data2' : range(3)})\n",
    "df2"
   ]
  },
  {
   "cell_type": "code",
   "execution_count": 269,
   "metadata": {},
   "outputs": [
    {
     "data": {
      "text/html": [
       "<div>\n",
       "<style scoped>\n",
       "    .dataframe tbody tr th:only-of-type {\n",
       "        vertical-align: middle;\n",
       "    }\n",
       "\n",
       "    .dataframe tbody tr th {\n",
       "        vertical-align: top;\n",
       "    }\n",
       "\n",
       "    .dataframe thead th {\n",
       "        text-align: right;\n",
       "    }\n",
       "</style>\n",
       "<table border=\"1\" class=\"dataframe\">\n",
       "  <thead>\n",
       "    <tr style=\"text-align: right;\">\n",
       "      <th></th>\n",
       "      <th>key1</th>\n",
       "      <th>data1</th>\n",
       "    </tr>\n",
       "  </thead>\n",
       "  <tbody>\n",
       "    <tr>\n",
       "      <th>0</th>\n",
       "      <td>b</td>\n",
       "      <td>0</td>\n",
       "    </tr>\n",
       "    <tr>\n",
       "      <th>1</th>\n",
       "      <td>b</td>\n",
       "      <td>1</td>\n",
       "    </tr>\n",
       "    <tr>\n",
       "      <th>...</th>\n",
       "      <td>...</td>\n",
       "      <td>...</td>\n",
       "    </tr>\n",
       "    <tr>\n",
       "      <th>5</th>\n",
       "      <td>a</td>\n",
       "      <td>5</td>\n",
       "    </tr>\n",
       "    <tr>\n",
       "      <th>6</th>\n",
       "      <td>b</td>\n",
       "      <td>6</td>\n",
       "    </tr>\n",
       "  </tbody>\n",
       "</table>\n",
       "<p>7 rows × 2 columns</p>\n",
       "</div>"
      ],
      "text/plain": [
       "   key1  data1\n",
       "0     b      0\n",
       "1     b      1\n",
       "..  ...    ...\n",
       "5     a      5\n",
       "6     b      6\n",
       "\n",
       "[7 rows x 2 columns]"
      ]
     },
     "execution_count": 269,
     "metadata": {},
     "output_type": "execute_result"
    }
   ],
   "source": [
    "df3 = pd.DataFrame({ 'key1' : ['b', 'b', 'a', 'c', 'a', 'a', 'b'],\n",
    "... 'data1' : range(7)})\n",
    "df3"
   ]
  },
  {
   "cell_type": "code",
   "execution_count": 271,
   "metadata": {},
   "outputs": [
    {
     "data": {
      "text/html": [
       "<div>\n",
       "<style scoped>\n",
       "    .dataframe tbody tr th:only-of-type {\n",
       "        vertical-align: middle;\n",
       "    }\n",
       "\n",
       "    .dataframe tbody tr th {\n",
       "        vertical-align: top;\n",
       "    }\n",
       "\n",
       "    .dataframe thead th {\n",
       "        text-align: right;\n",
       "    }\n",
       "</style>\n",
       "<table border=\"1\" class=\"dataframe\">\n",
       "  <thead>\n",
       "    <tr style=\"text-align: right;\">\n",
       "      <th></th>\n",
       "      <th>key2</th>\n",
       "      <th>data1</th>\n",
       "    </tr>\n",
       "  </thead>\n",
       "  <tbody>\n",
       "    <tr>\n",
       "      <th>0</th>\n",
       "      <td>a</td>\n",
       "      <td>0</td>\n",
       "    </tr>\n",
       "    <tr>\n",
       "      <th>1</th>\n",
       "      <td>b</td>\n",
       "      <td>1</td>\n",
       "    </tr>\n",
       "    <tr>\n",
       "      <th>2</th>\n",
       "      <td>d</td>\n",
       "      <td>2</td>\n",
       "    </tr>\n",
       "    <tr>\n",
       "      <th>3</th>\n",
       "      <td>b</td>\n",
       "      <td>3</td>\n",
       "    </tr>\n",
       "  </tbody>\n",
       "</table>\n",
       "</div>"
      ],
      "text/plain": [
       "  key2  data1\n",
       "0    a      0\n",
       "1    b      1\n",
       "2    d      2\n",
       "3    b      3"
      ]
     },
     "execution_count": 271,
     "metadata": {},
     "output_type": "execute_result"
    }
   ],
   "source": [
    "df4 = pd.DataFrame({ 'key2' : ['a', 'b', 'd', 'b'],\n",
    "... 'data1' : range(4)})\n",
    "df4"
   ]
  },
  {
   "cell_type": "markdown",
   "metadata": {},
   "source": [
    "### 5.2.1 Many to One"
   ]
  },
  {
   "cell_type": "markdown",
   "metadata": {},
   "source": [
    "Utiliza los campos que son comunes en ambos DataFrames para hacer el join:"
   ]
  },
  {
   "cell_type": "code",
   "execution_count": 268,
   "metadata": {},
   "outputs": [
    {
     "data": {
      "text/html": [
       "<div>\n",
       "<style scoped>\n",
       "    .dataframe tbody tr th:only-of-type {\n",
       "        vertical-align: middle;\n",
       "    }\n",
       "\n",
       "    .dataframe tbody tr th {\n",
       "        vertical-align: top;\n",
       "    }\n",
       "\n",
       "    .dataframe thead th {\n",
       "        text-align: right;\n",
       "    }\n",
       "</style>\n",
       "<table border=\"1\" class=\"dataframe\">\n",
       "  <thead>\n",
       "    <tr style=\"text-align: right;\">\n",
       "      <th></th>\n",
       "      <th>key</th>\n",
       "      <th>data1</th>\n",
       "      <th>data2</th>\n",
       "    </tr>\n",
       "  </thead>\n",
       "  <tbody>\n",
       "    <tr>\n",
       "      <th>0</th>\n",
       "      <td>b</td>\n",
       "      <td>0</td>\n",
       "      <td>1</td>\n",
       "    </tr>\n",
       "    <tr>\n",
       "      <th>1</th>\n",
       "      <td>b</td>\n",
       "      <td>1</td>\n",
       "      <td>1</td>\n",
       "    </tr>\n",
       "    <tr>\n",
       "      <th>...</th>\n",
       "      <td>...</td>\n",
       "      <td>...</td>\n",
       "      <td>...</td>\n",
       "    </tr>\n",
       "    <tr>\n",
       "      <th>4</th>\n",
       "      <td>a</td>\n",
       "      <td>4</td>\n",
       "      <td>0</td>\n",
       "    </tr>\n",
       "    <tr>\n",
       "      <th>5</th>\n",
       "      <td>a</td>\n",
       "      <td>5</td>\n",
       "      <td>0</td>\n",
       "    </tr>\n",
       "  </tbody>\n",
       "</table>\n",
       "<p>6 rows × 3 columns</p>\n",
       "</div>"
      ],
      "text/plain": [
       "   key  data1  data2\n",
       "0    b      0      1\n",
       "1    b      1      1\n",
       "..  ..    ...    ...\n",
       "4    a      4      0\n",
       "5    a      5      0\n",
       "\n",
       "[6 rows x 3 columns]"
      ]
     },
     "execution_count": 268,
     "metadata": {},
     "output_type": "execute_result"
    }
   ],
   "source": [
    "pd.merge(df1, df2)"
   ]
  },
  {
   "cell_type": "markdown",
   "metadata": {},
   "source": [
    "Estos dos dataframes no tienen ningun campo comun. Tenemos que especificar al har el join que camnpos se deben utilizar"
   ]
  },
  {
   "cell_type": "code",
   "execution_count": 273,
   "metadata": {},
   "outputs": [
    {
     "data": {
      "text/html": [
       "<div>\n",
       "<style scoped>\n",
       "    .dataframe tbody tr th:only-of-type {\n",
       "        vertical-align: middle;\n",
       "    }\n",
       "\n",
       "    .dataframe tbody tr th {\n",
       "        vertical-align: top;\n",
       "    }\n",
       "\n",
       "    .dataframe thead th {\n",
       "        text-align: right;\n",
       "    }\n",
       "</style>\n",
       "<table border=\"1\" class=\"dataframe\">\n",
       "  <thead>\n",
       "    <tr style=\"text-align: right;\">\n",
       "      <th></th>\n",
       "      <th>key1</th>\n",
       "      <th>data1_x</th>\n",
       "      <th>key2</th>\n",
       "      <th>data1_y</th>\n",
       "    </tr>\n",
       "  </thead>\n",
       "  <tbody>\n",
       "    <tr>\n",
       "      <th>0</th>\n",
       "      <td>b</td>\n",
       "      <td>0</td>\n",
       "      <td>b</td>\n",
       "      <td>1</td>\n",
       "    </tr>\n",
       "    <tr>\n",
       "      <th>1</th>\n",
       "      <td>b</td>\n",
       "      <td>0</td>\n",
       "      <td>b</td>\n",
       "      <td>3</td>\n",
       "    </tr>\n",
       "    <tr>\n",
       "      <th>...</th>\n",
       "      <td>...</td>\n",
       "      <td>...</td>\n",
       "      <td>...</td>\n",
       "      <td>...</td>\n",
       "    </tr>\n",
       "    <tr>\n",
       "      <th>7</th>\n",
       "      <td>a</td>\n",
       "      <td>4</td>\n",
       "      <td>a</td>\n",
       "      <td>0</td>\n",
       "    </tr>\n",
       "    <tr>\n",
       "      <th>8</th>\n",
       "      <td>a</td>\n",
       "      <td>5</td>\n",
       "      <td>a</td>\n",
       "      <td>0</td>\n",
       "    </tr>\n",
       "  </tbody>\n",
       "</table>\n",
       "<p>9 rows × 4 columns</p>\n",
       "</div>"
      ],
      "text/plain": [
       "   key1  data1_x key2  data1_y\n",
       "0     b        0    b        1\n",
       "1     b        0    b        3\n",
       "..  ...      ...  ...      ...\n",
       "7     a        4    a        0\n",
       "8     a        5    a        0\n",
       "\n",
       "[9 rows x 4 columns]"
      ]
     },
     "execution_count": 273,
     "metadata": {},
     "output_type": "execute_result"
    }
   ],
   "source": [
    "pd.merge(df3, df4, left_on='key1', right_on='key2')"
   ]
  },
  {
   "cell_type": "markdown",
   "metadata": {},
   "source": [
    "### 5.2.2 Inner and outer join"
   ]
  },
  {
   "cell_type": "markdown",
   "metadata": {},
   "source": [
    "Un __left join__:"
   ]
  },
  {
   "cell_type": "code",
   "execution_count": 274,
   "metadata": {},
   "outputs": [
    {
     "data": {
      "text/html": [
       "<div>\n",
       "<style scoped>\n",
       "    .dataframe tbody tr th:only-of-type {\n",
       "        vertical-align: middle;\n",
       "    }\n",
       "\n",
       "    .dataframe tbody tr th {\n",
       "        vertical-align: top;\n",
       "    }\n",
       "\n",
       "    .dataframe thead th {\n",
       "        text-align: right;\n",
       "    }\n",
       "</style>\n",
       "<table border=\"1\" class=\"dataframe\">\n",
       "  <thead>\n",
       "    <tr style=\"text-align: right;\">\n",
       "      <th></th>\n",
       "      <th>key1</th>\n",
       "      <th>data1_x</th>\n",
       "      <th>key2</th>\n",
       "      <th>data1_y</th>\n",
       "    </tr>\n",
       "  </thead>\n",
       "  <tbody>\n",
       "    <tr>\n",
       "      <th>0</th>\n",
       "      <td>b</td>\n",
       "      <td>0</td>\n",
       "      <td>b</td>\n",
       "      <td>1.0</td>\n",
       "    </tr>\n",
       "    <tr>\n",
       "      <th>1</th>\n",
       "      <td>b</td>\n",
       "      <td>0</td>\n",
       "      <td>b</td>\n",
       "      <td>3.0</td>\n",
       "    </tr>\n",
       "    <tr>\n",
       "      <th>...</th>\n",
       "      <td>...</td>\n",
       "      <td>...</td>\n",
       "      <td>...</td>\n",
       "      <td>...</td>\n",
       "    </tr>\n",
       "    <tr>\n",
       "      <th>8</th>\n",
       "      <td>b</td>\n",
       "      <td>6</td>\n",
       "      <td>b</td>\n",
       "      <td>1.0</td>\n",
       "    </tr>\n",
       "    <tr>\n",
       "      <th>9</th>\n",
       "      <td>b</td>\n",
       "      <td>6</td>\n",
       "      <td>b</td>\n",
       "      <td>3.0</td>\n",
       "    </tr>\n",
       "  </tbody>\n",
       "</table>\n",
       "<p>10 rows × 4 columns</p>\n",
       "</div>"
      ],
      "text/plain": [
       "   key1  data1_x key2  data1_y\n",
       "0     b        0    b      1.0\n",
       "1     b        0    b      3.0\n",
       "..  ...      ...  ...      ...\n",
       "8     b        6    b      1.0\n",
       "9     b        6    b      3.0\n",
       "\n",
       "[10 rows x 4 columns]"
      ]
     },
     "execution_count": 274,
     "metadata": {},
     "output_type": "execute_result"
    }
   ],
   "source": [
    "pd.merge(df3, df4, left_on='key1', right_on='key2', how=\"left\")"
   ]
  },
  {
   "cell_type": "markdown",
   "metadata": {},
   "source": [
    "Un __right__ join: "
   ]
  },
  {
   "cell_type": "code",
   "execution_count": 275,
   "metadata": {},
   "outputs": [
    {
     "data": {
      "text/html": [
       "<div>\n",
       "<style scoped>\n",
       "    .dataframe tbody tr th:only-of-type {\n",
       "        vertical-align: middle;\n",
       "    }\n",
       "\n",
       "    .dataframe tbody tr th {\n",
       "        vertical-align: top;\n",
       "    }\n",
       "\n",
       "    .dataframe thead th {\n",
       "        text-align: right;\n",
       "    }\n",
       "</style>\n",
       "<table border=\"1\" class=\"dataframe\">\n",
       "  <thead>\n",
       "    <tr style=\"text-align: right;\">\n",
       "      <th></th>\n",
       "      <th>key1</th>\n",
       "      <th>data1_x</th>\n",
       "      <th>key2</th>\n",
       "      <th>data1_y</th>\n",
       "    </tr>\n",
       "  </thead>\n",
       "  <tbody>\n",
       "    <tr>\n",
       "      <th>0</th>\n",
       "      <td>b</td>\n",
       "      <td>0.0</td>\n",
       "      <td>b</td>\n",
       "      <td>1</td>\n",
       "    </tr>\n",
       "    <tr>\n",
       "      <th>1</th>\n",
       "      <td>b</td>\n",
       "      <td>1.0</td>\n",
       "      <td>b</td>\n",
       "      <td>1</td>\n",
       "    </tr>\n",
       "    <tr>\n",
       "      <th>...</th>\n",
       "      <td>...</td>\n",
       "      <td>...</td>\n",
       "      <td>...</td>\n",
       "      <td>...</td>\n",
       "    </tr>\n",
       "    <tr>\n",
       "      <th>8</th>\n",
       "      <td>a</td>\n",
       "      <td>5.0</td>\n",
       "      <td>a</td>\n",
       "      <td>0</td>\n",
       "    </tr>\n",
       "    <tr>\n",
       "      <th>9</th>\n",
       "      <td>NaN</td>\n",
       "      <td>NaN</td>\n",
       "      <td>d</td>\n",
       "      <td>2</td>\n",
       "    </tr>\n",
       "  </tbody>\n",
       "</table>\n",
       "<p>10 rows × 4 columns</p>\n",
       "</div>"
      ],
      "text/plain": [
       "   key1  data1_x key2  data1_y\n",
       "0     b      0.0    b        1\n",
       "1     b      1.0    b        1\n",
       "..  ...      ...  ...      ...\n",
       "8     a      5.0    a        0\n",
       "9   NaN      NaN    d        2\n",
       "\n",
       "[10 rows x 4 columns]"
      ]
     },
     "execution_count": 275,
     "metadata": {},
     "output_type": "execute_result"
    }
   ],
   "source": [
    "pd.merge(df3, df4, left_on='key1', right_on='key2', how=\"right\")"
   ]
  },
  {
   "cell_type": "markdown",
   "metadata": {},
   "source": [
    "Un __outer__ join: "
   ]
  },
  {
   "cell_type": "code",
   "execution_count": 276,
   "metadata": {},
   "outputs": [
    {
     "data": {
      "text/html": [
       "<div>\n",
       "<style scoped>\n",
       "    .dataframe tbody tr th:only-of-type {\n",
       "        vertical-align: middle;\n",
       "    }\n",
       "\n",
       "    .dataframe tbody tr th {\n",
       "        vertical-align: top;\n",
       "    }\n",
       "\n",
       "    .dataframe thead th {\n",
       "        text-align: right;\n",
       "    }\n",
       "</style>\n",
       "<table border=\"1\" class=\"dataframe\">\n",
       "  <thead>\n",
       "    <tr style=\"text-align: right;\">\n",
       "      <th></th>\n",
       "      <th>key1</th>\n",
       "      <th>data1_x</th>\n",
       "      <th>key2</th>\n",
       "      <th>data1_y</th>\n",
       "    </tr>\n",
       "  </thead>\n",
       "  <tbody>\n",
       "    <tr>\n",
       "      <th>0</th>\n",
       "      <td>b</td>\n",
       "      <td>0.0</td>\n",
       "      <td>b</td>\n",
       "      <td>1.0</td>\n",
       "    </tr>\n",
       "    <tr>\n",
       "      <th>1</th>\n",
       "      <td>b</td>\n",
       "      <td>0.0</td>\n",
       "      <td>b</td>\n",
       "      <td>3.0</td>\n",
       "    </tr>\n",
       "    <tr>\n",
       "      <th>...</th>\n",
       "      <td>...</td>\n",
       "      <td>...</td>\n",
       "      <td>...</td>\n",
       "      <td>...</td>\n",
       "    </tr>\n",
       "    <tr>\n",
       "      <th>9</th>\n",
       "      <td>c</td>\n",
       "      <td>3.0</td>\n",
       "      <td>NaN</td>\n",
       "      <td>NaN</td>\n",
       "    </tr>\n",
       "    <tr>\n",
       "      <th>10</th>\n",
       "      <td>NaN</td>\n",
       "      <td>NaN</td>\n",
       "      <td>d</td>\n",
       "      <td>2.0</td>\n",
       "    </tr>\n",
       "  </tbody>\n",
       "</table>\n",
       "<p>11 rows × 4 columns</p>\n",
       "</div>"
      ],
      "text/plain": [
       "   key1  data1_x key2  data1_y\n",
       "0     b      0.0    b      1.0\n",
       "1     b      0.0    b      3.0\n",
       "..  ...      ...  ...      ...\n",
       "9     c      3.0  NaN      NaN\n",
       "10  NaN      NaN    d      2.0\n",
       "\n",
       "[11 rows x 4 columns]"
      ]
     },
     "execution_count": 276,
     "metadata": {},
     "output_type": "execute_result"
    }
   ],
   "source": [
    "pd.merge(df3, df4, left_on='key1', right_on='key2', how=\"outer\")"
   ]
  },
  {
   "cell_type": "markdown",
   "metadata": {},
   "source": [
    "# 6. Indices"
   ]
  },
  {
   "cell_type": "markdown",
   "metadata": {},
   "source": [
    "Medimos el tiempo que se necesita para hacer ciertas operaciones con y sin indice\n",
    "\n",
    "Usamos la magic function __%%time__"
   ]
  },
  {
   "cell_type": "code",
   "execution_count": 137,
   "metadata": {},
   "outputs": [],
   "source": [
    "interpretes=pd.read_csv('./data/cast.csv', index_col=None)"
   ]
  },
  {
   "cell_type": "code",
   "execution_count": 138,
   "metadata": {},
   "outputs": [
    {
     "name": "stdout",
     "output_type": "stream",
     "text": [
      "Wall time: 10.8 ms\n"
     ]
    },
    {
     "data": {
      "text/html": [
       "<div>\n",
       "<style scoped>\n",
       "    .dataframe tbody tr th:only-of-type {\n",
       "        vertical-align: middle;\n",
       "    }\n",
       "\n",
       "    .dataframe tbody tr th {\n",
       "        vertical-align: top;\n",
       "    }\n",
       "\n",
       "    .dataframe thead th {\n",
       "        text-align: right;\n",
       "    }\n",
       "</style>\n",
       "<table border=\"1\" class=\"dataframe\">\n",
       "  <thead>\n",
       "    <tr style=\"text-align: right;\">\n",
       "      <th></th>\n",
       "      <th>title</th>\n",
       "      <th>year</th>\n",
       "      <th>name</th>\n",
       "      <th>type</th>\n",
       "      <th>character</th>\n",
       "      <th>n</th>\n",
       "    </tr>\n",
       "  </thead>\n",
       "  <tbody>\n",
       "    <tr>\n",
       "      <th>12868</th>\n",
       "      <td>Macbeth</td>\n",
       "      <td>2015</td>\n",
       "      <td>Darren Adamson</td>\n",
       "      <td>actor</td>\n",
       "      <td>Soldier</td>\n",
       "      <td>NaN</td>\n",
       "    </tr>\n",
       "    <tr>\n",
       "      <th>22302</th>\n",
       "      <td>Macbeth</td>\n",
       "      <td>1916</td>\n",
       "      <td>Spottiswoode Aitken</td>\n",
       "      <td>actor</td>\n",
       "      <td>Duncan</td>\n",
       "      <td>4.0</td>\n",
       "    </tr>\n",
       "    <tr>\n",
       "      <th>...</th>\n",
       "      <td>...</td>\n",
       "      <td>...</td>\n",
       "      <td>...</td>\n",
       "      <td>...</td>\n",
       "      <td>...</td>\n",
       "      <td>...</td>\n",
       "    </tr>\n",
       "    <tr>\n",
       "      <th>60543</th>\n",
       "      <td>Macbeth</td>\n",
       "      <td>2014</td>\n",
       "      <td>Moyo Akand?</td>\n",
       "      <td>actress</td>\n",
       "      <td>Witch</td>\n",
       "      <td>NaN</td>\n",
       "    </tr>\n",
       "    <tr>\n",
       "      <th>63776</th>\n",
       "      <td>Macbeth</td>\n",
       "      <td>1916</td>\n",
       "      <td>Mary Alden</td>\n",
       "      <td>actress</td>\n",
       "      <td>Lady Macduff</td>\n",
       "      <td>6.0</td>\n",
       "    </tr>\n",
       "  </tbody>\n",
       "</table>\n",
       "<p>8 rows × 6 columns</p>\n",
       "</div>"
      ],
      "text/plain": [
       "         title  year                 name     type     character    n\n",
       "12868  Macbeth  2015       Darren Adamson    actor       Soldier  NaN\n",
       "22302  Macbeth  1916  Spottiswoode Aitken    actor        Duncan  4.0\n",
       "...        ...   ...                  ...      ...           ...  ...\n",
       "60543  Macbeth  2014          Moyo Akand?  actress         Witch  NaN\n",
       "63776  Macbeth  1916           Mary Alden  actress  Lady Macduff  6.0\n",
       "\n",
       "[8 rows x 6 columns]"
      ]
     },
     "execution_count": 138,
     "metadata": {},
     "output_type": "execute_result"
    }
   ],
   "source": [
    "%%time\n",
    "\n",
    "interpretes[interpretes['title']=='Macbeth']"
   ]
  },
  {
   "cell_type": "markdown",
   "metadata": {},
   "source": [
    "Usamos la magic function __%%timeit__. Es mas precisa que %%time"
   ]
  },
  {
   "cell_type": "code",
   "execution_count": 140,
   "metadata": {},
   "outputs": [
    {
     "name": "stdout",
     "output_type": "stream",
     "text": [
      "11.7 ms ± 378 µs per loop (mean ± std. dev. of 7 runs, 100 loops each)\n"
     ]
    }
   ],
   "source": [
    "%%timeit\n",
    "\n",
    "interpretes[interpretes['title']=='Macbeth']"
   ]
  },
  {
   "cell_type": "markdown",
   "metadata": {},
   "source": [
    "Fijamos una de las columnas como indice. Al hacerlo podremos buscar usando el indice. Notese que la Serie usada ya no figura en la relacion de columnas"
   ]
  },
  {
   "cell_type": "code",
   "execution_count": 151,
   "metadata": {},
   "outputs": [
    {
     "data": {
      "text/html": [
       "<div>\n",
       "<style scoped>\n",
       "    .dataframe tbody tr th:only-of-type {\n",
       "        vertical-align: middle;\n",
       "    }\n",
       "\n",
       "    .dataframe tbody tr th {\n",
       "        vertical-align: top;\n",
       "    }\n",
       "\n",
       "    .dataframe thead th {\n",
       "        text-align: right;\n",
       "    }\n",
       "</style>\n",
       "<table border=\"1\" class=\"dataframe\">\n",
       "  <thead>\n",
       "    <tr style=\"text-align: right;\">\n",
       "      <th></th>\n",
       "      <th>year</th>\n",
       "      <th>name</th>\n",
       "      <th>type</th>\n",
       "      <th>character</th>\n",
       "      <th>n</th>\n",
       "    </tr>\n",
       "    <tr>\n",
       "      <th>title</th>\n",
       "      <th></th>\n",
       "      <th></th>\n",
       "      <th></th>\n",
       "      <th></th>\n",
       "      <th></th>\n",
       "    </tr>\n",
       "  </thead>\n",
       "  <tbody>\n",
       "    <tr>\n",
       "      <th>#1 Serial Killer</th>\n",
       "      <td>2013</td>\n",
       "      <td>Michael Alton</td>\n",
       "      <td>actor</td>\n",
       "      <td>Detective Roberts</td>\n",
       "      <td>17.0</td>\n",
       "    </tr>\n",
       "    <tr>\n",
       "      <th>#DigitalLivesMatter</th>\n",
       "      <td>2016</td>\n",
       "      <td>Rashan Ali</td>\n",
       "      <td>actress</td>\n",
       "      <td>News Reporter</td>\n",
       "      <td>NaN</td>\n",
       "    </tr>\n",
       "    <tr>\n",
       "      <th>...</th>\n",
       "      <td>...</td>\n",
       "      <td>...</td>\n",
       "      <td>...</td>\n",
       "      <td>...</td>\n",
       "      <td>...</td>\n",
       "    </tr>\n",
       "    <tr>\n",
       "      <th>#FromJennifer</th>\n",
       "      <td>2017</td>\n",
       "      <td>Aaron Abrams</td>\n",
       "      <td>actor</td>\n",
       "      <td>Ralph Sinclair</td>\n",
       "      <td>NaN</td>\n",
       "    </tr>\n",
       "    <tr>\n",
       "      <th>#Horror</th>\n",
       "      <td>2015</td>\n",
       "      <td>Emma Adler</td>\n",
       "      <td>actress</td>\n",
       "      <td>Georgie</td>\n",
       "      <td>1.0</td>\n",
       "    </tr>\n",
       "  </tbody>\n",
       "</table>\n",
       "<p>5 rows × 5 columns</p>\n",
       "</div>"
      ],
      "text/plain": [
       "                     year           name     type          character     n\n",
       "title                                                                     \n",
       "#1 Serial Killer     2013  Michael Alton    actor  Detective Roberts  17.0\n",
       "#DigitalLivesMatter  2016     Rashan Ali  actress      News Reporter   NaN\n",
       "...                   ...            ...      ...                ...   ...\n",
       "#FromJennifer        2017   Aaron Abrams    actor     Ralph Sinclair   NaN\n",
       "#Horror              2015     Emma Adler  actress            Georgie   1.0\n",
       "\n",
       "[5 rows x 5 columns]"
      ]
     },
     "execution_count": 151,
     "metadata": {},
     "output_type": "execute_result"
    }
   ],
   "source": [
    "c = interpretes.set_index('title')\n",
    "c.head()"
   ]
  },
  {
   "cell_type": "code",
   "execution_count": 145,
   "metadata": {},
   "outputs": [
    {
     "data": {
      "text/plain": [
       "Index(['year', 'name', 'type', 'character', 'n'], dtype='object')"
      ]
     },
     "execution_count": 145,
     "metadata": {},
     "output_type": "execute_result"
    }
   ],
   "source": [
    "c.columns"
   ]
  },
  {
   "cell_type": "code",
   "execution_count": 146,
   "metadata": {},
   "outputs": [
    {
     "name": "stdout",
     "output_type": "stream",
     "text": [
      "Wall time: 23.7 ms\n"
     ]
    },
    {
     "data": {
      "text/html": [
       "<div>\n",
       "<style scoped>\n",
       "    .dataframe tbody tr th:only-of-type {\n",
       "        vertical-align: middle;\n",
       "    }\n",
       "\n",
       "    .dataframe tbody tr th {\n",
       "        vertical-align: top;\n",
       "    }\n",
       "\n",
       "    .dataframe thead th {\n",
       "        text-align: right;\n",
       "    }\n",
       "</style>\n",
       "<table border=\"1\" class=\"dataframe\">\n",
       "  <thead>\n",
       "    <tr style=\"text-align: right;\">\n",
       "      <th></th>\n",
       "      <th>year</th>\n",
       "      <th>name</th>\n",
       "      <th>type</th>\n",
       "      <th>character</th>\n",
       "      <th>n</th>\n",
       "    </tr>\n",
       "    <tr>\n",
       "      <th>title</th>\n",
       "      <th></th>\n",
       "      <th></th>\n",
       "      <th></th>\n",
       "      <th></th>\n",
       "      <th></th>\n",
       "    </tr>\n",
       "  </thead>\n",
       "  <tbody>\n",
       "    <tr>\n",
       "      <th>Macbeth</th>\n",
       "      <td>2015</td>\n",
       "      <td>Darren Adamson</td>\n",
       "      <td>actor</td>\n",
       "      <td>Soldier</td>\n",
       "      <td>NaN</td>\n",
       "    </tr>\n",
       "    <tr>\n",
       "      <th>Macbeth</th>\n",
       "      <td>1916</td>\n",
       "      <td>Spottiswoode Aitken</td>\n",
       "      <td>actor</td>\n",
       "      <td>Duncan</td>\n",
       "      <td>4.0</td>\n",
       "    </tr>\n",
       "    <tr>\n",
       "      <th>...</th>\n",
       "      <td>...</td>\n",
       "      <td>...</td>\n",
       "      <td>...</td>\n",
       "      <td>...</td>\n",
       "      <td>...</td>\n",
       "    </tr>\n",
       "    <tr>\n",
       "      <th>Macbeth</th>\n",
       "      <td>2014</td>\n",
       "      <td>Moyo Akand?</td>\n",
       "      <td>actress</td>\n",
       "      <td>Witch</td>\n",
       "      <td>NaN</td>\n",
       "    </tr>\n",
       "    <tr>\n",
       "      <th>Macbeth</th>\n",
       "      <td>1916</td>\n",
       "      <td>Mary Alden</td>\n",
       "      <td>actress</td>\n",
       "      <td>Lady Macduff</td>\n",
       "      <td>6.0</td>\n",
       "    </tr>\n",
       "  </tbody>\n",
       "</table>\n",
       "<p>8 rows × 5 columns</p>\n",
       "</div>"
      ],
      "text/plain": [
       "         year                 name     type     character    n\n",
       "title                                                         \n",
       "Macbeth  2015       Darren Adamson    actor       Soldier  NaN\n",
       "Macbeth  1916  Spottiswoode Aitken    actor        Duncan  4.0\n",
       "...       ...                  ...      ...           ...  ...\n",
       "Macbeth  2014          Moyo Akand?  actress         Witch  NaN\n",
       "Macbeth  1916           Mary Alden  actress  Lady Macduff  6.0\n",
       "\n",
       "[8 rows x 5 columns]"
      ]
     },
     "execution_count": 146,
     "metadata": {},
     "output_type": "execute_result"
    }
   ],
   "source": [
    "%%time\n",
    "\n",
    "c.loc['Macbeth']"
   ]
  },
  {
   "cell_type": "code",
   "execution_count": 153,
   "metadata": {},
   "outputs": [
    {
     "name": "stdout",
     "output_type": "stream",
     "text": [
      "371 µs ± 11.7 µs per loop (mean ± std. dev. of 7 runs, 1000 loops each)\n"
     ]
    }
   ],
   "source": [
    "%%timeit\n",
    "\n",
    "c.loc['Macbeth']"
   ]
  },
  {
   "cell_type": "markdown",
   "metadata": {},
   "source": [
    "Conclusion: __es mucho mas rápido__  \n",
    "  \n",
    "Vamos a ordenar el indice. Veamos cual es el resultado de la busqueda una vez hemos ordenado el indice"
   ]
  },
  {
   "cell_type": "code",
   "execution_count": 154,
   "metadata": {},
   "outputs": [],
   "source": [
    "c = interpretes.set_index('title').sort_index()"
   ]
  },
  {
   "cell_type": "code",
   "execution_count": 155,
   "metadata": {},
   "outputs": [
    {
     "name": "stdout",
     "output_type": "stream",
     "text": [
      "Wall time: 19.6 ms\n"
     ]
    },
    {
     "data": {
      "text/html": [
       "<div>\n",
       "<style scoped>\n",
       "    .dataframe tbody tr th:only-of-type {\n",
       "        vertical-align: middle;\n",
       "    }\n",
       "\n",
       "    .dataframe tbody tr th {\n",
       "        vertical-align: top;\n",
       "    }\n",
       "\n",
       "    .dataframe thead th {\n",
       "        text-align: right;\n",
       "    }\n",
       "</style>\n",
       "<table border=\"1\" class=\"dataframe\">\n",
       "  <thead>\n",
       "    <tr style=\"text-align: right;\">\n",
       "      <th></th>\n",
       "      <th>year</th>\n",
       "      <th>name</th>\n",
       "      <th>type</th>\n",
       "      <th>character</th>\n",
       "      <th>n</th>\n",
       "    </tr>\n",
       "    <tr>\n",
       "      <th>title</th>\n",
       "      <th></th>\n",
       "      <th></th>\n",
       "      <th></th>\n",
       "      <th></th>\n",
       "      <th></th>\n",
       "    </tr>\n",
       "  </thead>\n",
       "  <tbody>\n",
       "    <tr>\n",
       "      <th>Macbeth</th>\n",
       "      <td>1948</td>\n",
       "      <td>William Alland</td>\n",
       "      <td>actor</td>\n",
       "      <td>Second Murderer</td>\n",
       "      <td>18.0</td>\n",
       "    </tr>\n",
       "    <tr>\n",
       "      <th>Macbeth</th>\n",
       "      <td>1916</td>\n",
       "      <td>Spottiswoode Aitken</td>\n",
       "      <td>actor</td>\n",
       "      <td>Duncan</td>\n",
       "      <td>4.0</td>\n",
       "    </tr>\n",
       "    <tr>\n",
       "      <th>...</th>\n",
       "      <td>...</td>\n",
       "      <td>...</td>\n",
       "      <td>...</td>\n",
       "      <td>...</td>\n",
       "      <td>...</td>\n",
       "    </tr>\n",
       "    <tr>\n",
       "      <th>Macbeth</th>\n",
       "      <td>2014</td>\n",
       "      <td>Moyo Akand?</td>\n",
       "      <td>actress</td>\n",
       "      <td>Witch</td>\n",
       "      <td>NaN</td>\n",
       "    </tr>\n",
       "    <tr>\n",
       "      <th>Macbeth</th>\n",
       "      <td>2015</td>\n",
       "      <td>Darren Adamson</td>\n",
       "      <td>actor</td>\n",
       "      <td>Soldier</td>\n",
       "      <td>NaN</td>\n",
       "    </tr>\n",
       "  </tbody>\n",
       "</table>\n",
       "<p>8 rows × 5 columns</p>\n",
       "</div>"
      ],
      "text/plain": [
       "         year                 name     type        character     n\n",
       "title                                                             \n",
       "Macbeth  1948       William Alland    actor  Second Murderer  18.0\n",
       "Macbeth  1916  Spottiswoode Aitken    actor           Duncan   4.0\n",
       "...       ...                  ...      ...              ...   ...\n",
       "Macbeth  2014          Moyo Akand?  actress            Witch   NaN\n",
       "Macbeth  2015       Darren Adamson    actor          Soldier   NaN\n",
       "\n",
       "[8 rows x 5 columns]"
      ]
     },
     "execution_count": 155,
     "metadata": {},
     "output_type": "execute_result"
    }
   ],
   "source": [
    "%%time\n",
    "\n",
    "c.loc['Macbeth']"
   ]
  },
  {
   "cell_type": "code",
   "execution_count": 156,
   "metadata": {},
   "outputs": [
    {
     "name": "stdout",
     "output_type": "stream",
     "text": [
      "376 µs ± 16.8 µs per loop (mean ± std. dev. of 7 runs, 1000 loops each)\n"
     ]
    }
   ],
   "source": [
    "%%timeit\n",
    "\n",
    "c.loc['Macbeth']"
   ]
  },
  {
   "cell_type": "markdown",
   "metadata": {},
   "source": [
    "Conclusion: el indice __ordenado__ es __extremadamente mas rápido__"
   ]
  },
  {
   "cell_type": "markdown",
   "metadata": {},
   "source": [
    "## 6.1 Más de un indice"
   ]
  },
  {
   "cell_type": "code",
   "execution_count": 234,
   "metadata": {},
   "outputs": [
    {
     "data": {
      "text/html": [
       "<div>\n",
       "<style scoped>\n",
       "    .dataframe tbody tr th:only-of-type {\n",
       "        vertical-align: middle;\n",
       "    }\n",
       "\n",
       "    .dataframe tbody tr th {\n",
       "        vertical-align: top;\n",
       "    }\n",
       "\n",
       "    .dataframe thead th {\n",
       "        text-align: right;\n",
       "    }\n",
       "</style>\n",
       "<table border=\"1\" class=\"dataframe\">\n",
       "  <thead>\n",
       "    <tr style=\"text-align: right;\">\n",
       "      <th></th>\n",
       "      <th></th>\n",
       "      <th>year</th>\n",
       "      <th>name</th>\n",
       "      <th>type</th>\n",
       "      <th>character</th>\n",
       "    </tr>\n",
       "    <tr>\n",
       "      <th>title</th>\n",
       "      <th>n</th>\n",
       "      <th></th>\n",
       "      <th></th>\n",
       "      <th></th>\n",
       "      <th></th>\n",
       "    </tr>\n",
       "  </thead>\n",
       "  <tbody>\n",
       "    <tr>\n",
       "      <th>#1 Serial Killer</th>\n",
       "      <th>17.0</th>\n",
       "      <td>2013</td>\n",
       "      <td>Michael Alton</td>\n",
       "      <td>actor</td>\n",
       "      <td>Detective Roberts</td>\n",
       "    </tr>\n",
       "    <tr>\n",
       "      <th>#DigitalLivesMatter</th>\n",
       "      <th>NaN</th>\n",
       "      <td>2016</td>\n",
       "      <td>Rashan Ali</td>\n",
       "      <td>actress</td>\n",
       "      <td>News Reporter</td>\n",
       "    </tr>\n",
       "  </tbody>\n",
       "</table>\n",
       "</div>"
      ],
      "text/plain": [
       "                           year           name     type          character\n",
       "title               n                                                     \n",
       "#1 Serial Killer    17.0   2013  Michael Alton    actor  Detective Roberts\n",
       "#DigitalLivesMatter NaN    2016     Rashan Ali  actress      News Reporter"
      ]
     },
     "execution_count": 234,
     "metadata": {},
     "output_type": "execute_result"
    }
   ],
   "source": [
    "cm = interpretes.set_index(['title', 'n']).sort_index()\n",
    "cm.head(2)"
   ]
  },
  {
   "cell_type": "code",
   "execution_count": 235,
   "metadata": {},
   "outputs": [
    {
     "data": {
      "text/plain": [
       "MultiIndex([(          '#1 Serial Killer', 17.0),\n",
       "            (       '#DigitalLivesMatter',  nan),\n",
       "            (             '#FromJennifer',  nan),\n",
       "            (             '#FromJennifer',  nan),\n",
       "            (                   '#Horror',  1.0),\n",
       "            (             '#Lucky Number', 31.0),\n",
       "            (        '#Nerealnaya lyubov',  nan),\n",
       "            (              '#REALITYHIGH',  nan),\n",
       "            (                     '#Roxy',  nan),\n",
       "            (                    '#Stuck', 18.0),\n",
       "            ...\n",
       "            (                      'iBoy',  9.0),\n",
       "            (               'inter.m@tes',  6.0),\n",
       "            (           'kingdom of ants',  nan),\n",
       "            (           'kingdom of ants',  nan),\n",
       "            (  'les aventures d'archives',  nan),\n",
       "            (                 'w Delta z',  8.0),\n",
       "            ('xXx: Return of Xander Cage', 34.0),\n",
       "            ('xXx: Return of Xander Cage', 64.0),\n",
       "            ('xXx: Return of Xander Cage', 84.0),\n",
       "            (   'xXx: State of the Union',  nan)],\n",
       "           names=['title', 'n'], length=75001)"
      ]
     },
     "execution_count": 235,
     "metadata": {},
     "output_type": "execute_result"
    }
   ],
   "source": [
    "cm.index"
   ]
  },
  {
   "cell_type": "markdown",
   "metadata": {},
   "source": [
    "Si ahora buscamos por uno de los dos indices, notese que el DataFrame resultante sigue teniendo un indice:"
   ]
  },
  {
   "cell_type": "code",
   "execution_count": 236,
   "metadata": {},
   "outputs": [
    {
     "data": {
      "text/html": [
       "<div>\n",
       "<style scoped>\n",
       "    .dataframe tbody tr th:only-of-type {\n",
       "        vertical-align: middle;\n",
       "    }\n",
       "\n",
       "    .dataframe tbody tr th {\n",
       "        vertical-align: top;\n",
       "    }\n",
       "\n",
       "    .dataframe thead th {\n",
       "        text-align: right;\n",
       "    }\n",
       "</style>\n",
       "<table border=\"1\" class=\"dataframe\">\n",
       "  <thead>\n",
       "    <tr style=\"text-align: right;\">\n",
       "      <th></th>\n",
       "      <th>year</th>\n",
       "      <th>name</th>\n",
       "      <th>type</th>\n",
       "      <th>character</th>\n",
       "    </tr>\n",
       "    <tr>\n",
       "      <th>n</th>\n",
       "      <th></th>\n",
       "      <th></th>\n",
       "      <th></th>\n",
       "      <th></th>\n",
       "    </tr>\n",
       "  </thead>\n",
       "  <tbody>\n",
       "    <tr>\n",
       "      <th>4.0</th>\n",
       "      <td>1916</td>\n",
       "      <td>Spottiswoode Aitken</td>\n",
       "      <td>actor</td>\n",
       "      <td>Duncan</td>\n",
       "    </tr>\n",
       "    <tr>\n",
       "      <th>6.0</th>\n",
       "      <td>1916</td>\n",
       "      <td>Mary Alden</td>\n",
       "      <td>actress</td>\n",
       "      <td>Lady Macduff</td>\n",
       "    </tr>\n",
       "    <tr>\n",
       "      <th>...</th>\n",
       "      <td>...</td>\n",
       "      <td>...</td>\n",
       "      <td>...</td>\n",
       "      <td>...</td>\n",
       "    </tr>\n",
       "    <tr>\n",
       "      <th>NaN</th>\n",
       "      <td>2016</td>\n",
       "      <td>John Albasiny</td>\n",
       "      <td>actor</td>\n",
       "      <td>Doctor</td>\n",
       "    </tr>\n",
       "    <tr>\n",
       "      <th>NaN</th>\n",
       "      <td>2014</td>\n",
       "      <td>Moyo Akand?</td>\n",
       "      <td>actress</td>\n",
       "      <td>Witch</td>\n",
       "    </tr>\n",
       "  </tbody>\n",
       "</table>\n",
       "<p>8 rows × 4 columns</p>\n",
       "</div>"
      ],
      "text/plain": [
       "     year                 name     type     character\n",
       "n                                                    \n",
       "4.0  1916  Spottiswoode Aitken    actor        Duncan\n",
       "6.0  1916           Mary Alden  actress  Lady Macduff\n",
       "..    ...                  ...      ...           ...\n",
       "NaN  2016        John Albasiny    actor        Doctor\n",
       "NaN  2014          Moyo Akand?  actress         Witch\n",
       "\n",
       "[8 rows x 4 columns]"
      ]
     },
     "execution_count": 236,
     "metadata": {},
     "output_type": "execute_result"
    }
   ],
   "source": [
    "cm.loc['Macbeth']"
   ]
  },
  {
   "cell_type": "markdown",
   "metadata": {},
   "source": [
    "Podemos ahora hacer una busqueda __usando los dos__ indices:"
   ]
  },
  {
   "cell_type": "code",
   "execution_count": 249,
   "metadata": {},
   "outputs": [
    {
     "data": {
      "text/plain": [
       "year                        1916\n",
       "name         Spottiswoode Aitken\n",
       "type                       actor\n",
       "character                 Duncan\n",
       "Name: 4.0, dtype: object"
      ]
     },
     "execution_count": 249,
     "metadata": {},
     "output_type": "execute_result"
    }
   ],
   "source": [
    "cm.loc['Macbeth'].loc[4]"
   ]
  },
  {
   "cell_type": "code",
   "execution_count": 250,
   "metadata": {},
   "outputs": [
    {
     "name": "stderr",
     "output_type": "stream",
     "text": [
      "C:\\Users\\Eugenio\\Anaconda3\\envs\\tf2\\lib\\site-packages\\ipykernel_launcher.py:1: PerformanceWarning: indexing past lexsort depth may impact performance.\n",
      "  \"\"\"Entry point for launching an IPython kernel.\n"
     ]
    },
    {
     "data": {
      "text/html": [
       "<div>\n",
       "<style scoped>\n",
       "    .dataframe tbody tr th:only-of-type {\n",
       "        vertical-align: middle;\n",
       "    }\n",
       "\n",
       "    .dataframe tbody tr th {\n",
       "        vertical-align: top;\n",
       "    }\n",
       "\n",
       "    .dataframe thead th {\n",
       "        text-align: right;\n",
       "    }\n",
       "</style>\n",
       "<table border=\"1\" class=\"dataframe\">\n",
       "  <thead>\n",
       "    <tr style=\"text-align: right;\">\n",
       "      <th></th>\n",
       "      <th></th>\n",
       "      <th>year</th>\n",
       "      <th>name</th>\n",
       "      <th>type</th>\n",
       "      <th>character</th>\n",
       "    </tr>\n",
       "    <tr>\n",
       "      <th>title</th>\n",
       "      <th>n</th>\n",
       "      <th></th>\n",
       "      <th></th>\n",
       "      <th></th>\n",
       "      <th></th>\n",
       "    </tr>\n",
       "  </thead>\n",
       "  <tbody>\n",
       "    <tr>\n",
       "      <th>Macbeth</th>\n",
       "      <th>6.0</th>\n",
       "      <td>1916</td>\n",
       "      <td>Mary Alden</td>\n",
       "      <td>actress</td>\n",
       "      <td>Lady Macduff</td>\n",
       "    </tr>\n",
       "  </tbody>\n",
       "</table>\n",
       "</div>"
      ],
      "text/plain": [
       "             year        name     type     character\n",
       "title   n                                           \n",
       "Macbeth 6.0  1916  Mary Alden  actress  Lady Macduff"
      ]
     },
     "execution_count": 250,
     "metadata": {},
     "output_type": "execute_result"
    }
   ],
   "source": [
    "cm.loc['Macbeth',6]"
   ]
  },
  {
   "cell_type": "markdown",
   "metadata": {},
   "source": [
    "## 6.2 Eliminar un indice"
   ]
  },
  {
   "cell_type": "code",
   "execution_count": 165,
   "metadata": {},
   "outputs": [
    {
     "data": {
      "text/plain": [
       "Index(['#1 Serial Killer', '#DigitalLivesMatter', '#FromJennifer',\n",
       "       '#FromJennifer', '#Horror', '#Lucky Number', '#Nerealnaya lyubov',\n",
       "       '#REALITYHIGH', '#Roxy', '#Stuck',\n",
       "       ...\n",
       "       'iBoy', 'inter.m@tes', 'kingdom of ants', 'kingdom of ants',\n",
       "       'les aventures d'archives', 'w Delta z', 'xXx: Return of Xander Cage',\n",
       "       'xXx: Return of Xander Cage', 'xXx: Return of Xander Cage',\n",
       "       'xXx: State of the Union'],\n",
       "      dtype='object', name='title', length=75001)"
      ]
     },
     "execution_count": 165,
     "metadata": {},
     "output_type": "execute_result"
    }
   ],
   "source": [
    "cm = cm.reset_index('n')\n",
    "cm.index"
   ]
  },
  {
   "cell_type": "markdown",
   "metadata": {},
   "source": [
    "Una vez hemos eliminado el indice, la Serie vuelve a su sitio. Fijemo nos en la columna `n`:"
   ]
  },
  {
   "cell_type": "code",
   "execution_count": 166,
   "metadata": {},
   "outputs": [
    {
     "data": {
      "text/plain": [
       "Index(['n', 'year', 'name', 'type', 'character'], dtype='object')"
      ]
     },
     "execution_count": 166,
     "metadata": {},
     "output_type": "execute_result"
    }
   ],
   "source": [
    "cm.columns"
   ]
  },
  {
   "cell_type": "code",
   "execution_count": 167,
   "metadata": {},
   "outputs": [
    {
     "data": {
      "text/plain": [
       "RangeIndex(start=0, stop=75001, step=1)"
      ]
     },
     "execution_count": 167,
     "metadata": {},
     "output_type": "execute_result"
    }
   ],
   "source": [
    "cm = cm.reset_index('title')\n",
    "cm.index"
   ]
  },
  {
   "cell_type": "code",
   "execution_count": 168,
   "metadata": {},
   "outputs": [
    {
     "data": {
      "text/plain": [
       "Index(['title', 'n', 'year', 'name', 'type', 'character'], dtype='object')"
      ]
     },
     "execution_count": 168,
     "metadata": {},
     "output_type": "execute_result"
    }
   ],
   "source": [
    "cm.columns"
   ]
  },
  {
   "cell_type": "code",
   "execution_count": 169,
   "metadata": {},
   "outputs": [
    {
     "data": {
      "text/html": [
       "<div>\n",
       "<style scoped>\n",
       "    .dataframe tbody tr th:only-of-type {\n",
       "        vertical-align: middle;\n",
       "    }\n",
       "\n",
       "    .dataframe tbody tr th {\n",
       "        vertical-align: top;\n",
       "    }\n",
       "\n",
       "    .dataframe thead th {\n",
       "        text-align: right;\n",
       "    }\n",
       "</style>\n",
       "<table border=\"1\" class=\"dataframe\">\n",
       "  <thead>\n",
       "    <tr style=\"text-align: right;\">\n",
       "      <th></th>\n",
       "      <th>title</th>\n",
       "      <th>n</th>\n",
       "      <th>year</th>\n",
       "      <th>name</th>\n",
       "      <th>type</th>\n",
       "      <th>character</th>\n",
       "    </tr>\n",
       "  </thead>\n",
       "  <tbody>\n",
       "    <tr>\n",
       "      <th>0</th>\n",
       "      <td>#1 Serial Killer</td>\n",
       "      <td>17.0</td>\n",
       "      <td>2013</td>\n",
       "      <td>Michael Alton</td>\n",
       "      <td>actor</td>\n",
       "      <td>Detective Roberts</td>\n",
       "    </tr>\n",
       "    <tr>\n",
       "      <th>1</th>\n",
       "      <td>#DigitalLivesMatter</td>\n",
       "      <td>NaN</td>\n",
       "      <td>2016</td>\n",
       "      <td>Rashan Ali</td>\n",
       "      <td>actress</td>\n",
       "      <td>News Reporter</td>\n",
       "    </tr>\n",
       "    <tr>\n",
       "      <th>...</th>\n",
       "      <td>...</td>\n",
       "      <td>...</td>\n",
       "      <td>...</td>\n",
       "      <td>...</td>\n",
       "      <td>...</td>\n",
       "      <td>...</td>\n",
       "    </tr>\n",
       "    <tr>\n",
       "      <th>74999</th>\n",
       "      <td>xXx: Return of Xander Cage</td>\n",
       "      <td>84.0</td>\n",
       "      <td>2017</td>\n",
       "      <td>Julie Abcede</td>\n",
       "      <td>actor</td>\n",
       "      <td>Catwalk Partiers</td>\n",
       "    </tr>\n",
       "    <tr>\n",
       "      <th>75000</th>\n",
       "      <td>xXx: State of the Union</td>\n",
       "      <td>NaN</td>\n",
       "      <td>2005</td>\n",
       "      <td>Robert Alonzo</td>\n",
       "      <td>actor</td>\n",
       "      <td>Guard</td>\n",
       "    </tr>\n",
       "  </tbody>\n",
       "</table>\n",
       "<p>75001 rows × 6 columns</p>\n",
       "</div>"
      ],
      "text/plain": [
       "                            title     n  year           name     type  \\\n",
       "0                #1 Serial Killer  17.0  2013  Michael Alton    actor   \n",
       "1             #DigitalLivesMatter   NaN  2016     Rashan Ali  actress   \n",
       "...                           ...   ...   ...            ...      ...   \n",
       "74999  xXx: Return of Xander Cage  84.0  2017   Julie Abcede    actor   \n",
       "75000     xXx: State of the Union   NaN  2005  Robert Alonzo    actor   \n",
       "\n",
       "               character  \n",
       "0      Detective Roberts  \n",
       "1          News Reporter  \n",
       "...                  ...  \n",
       "74999   Catwalk Partiers  \n",
       "75000              Guard  \n",
       "\n",
       "[75001 rows x 6 columns]"
      ]
     },
     "execution_count": 169,
     "metadata": {},
     "output_type": "execute_result"
    }
   ],
   "source": [
    "cm"
   ]
  },
  {
   "cell_type": "markdown",
   "metadata": {},
   "source": [
    "## 6.3 Finalmente  \n",
    "Podemos crear una Serie o un DataStream a partir de una lista con datos, pero tambien podemos especificar una lista con los valores del indice"
   ]
  },
  {
   "cell_type": "code",
   "execution_count": 226,
   "metadata": {},
   "outputs": [
    {
     "data": {
      "text/plain": [
       "a    10\n",
       "a    20\n",
       "     ..\n",
       "a    40\n",
       "b    15\n",
       "Length: 5, dtype: int64"
      ]
     },
     "execution_count": 226,
     "metadata": {},
     "output_type": "execute_result"
    }
   ],
   "source": [
    "data = pd.Series([10, 20, 30, 40, 15, 25, 35, 25], index = ['a', 'a',\n",
    "... 'a', 'a', 'b', 'b', 'b', 'b'])\n",
    "data.head()"
   ]
  },
  {
   "cell_type": "markdown",
   "metadata": {},
   "source": [
    "Podriamos crea el indece multi-indice, si pasasemos dos listas:"
   ]
  },
  {
   "cell_type": "code",
   "execution_count": 227,
   "metadata": {},
   "outputs": [
    {
     "data": {
      "text/plain": [
       "a  obj1    10\n",
       "   obj2    20\n",
       "           ..\n",
       "   obj4    40\n",
       "b  obj1    15\n",
       "Length: 5, dtype: int64"
      ]
     },
     "execution_count": 227,
     "metadata": {},
     "output_type": "execute_result"
    }
   ],
   "source": [
    "data = pd.Series([10, 20, 30, 40, 15, 25, 35, 25], index = [['a', 'a',\n",
    "... 'a', 'a', 'b', 'b', 'b', 'b'], ['obj1', 'obj2', 'obj3', 'obj4', 'obj1',\n",
    "... 'obj2', 'obj3', 'obj4']])\n",
    "data.head()"
   ]
  },
  {
   "cell_type": "markdown",
   "metadata": {},
   "source": [
    "Podriamos especificar el nombre de los indices si pasasemos un diccionario:"
   ]
  },
  {
   "cell_type": "markdown",
   "metadata": {},
   "source": [
    "# 7. Numpy"
   ]
  },
  {
   "cell_type": "markdown",
   "metadata": {},
   "source": [
    "## 7.1 Matrices  \n",
    "Matriz de Rango 1"
   ]
  },
  {
   "cell_type": "code",
   "execution_count": 170,
   "metadata": {},
   "outputs": [],
   "source": [
    "import numpy as np"
   ]
  },
  {
   "cell_type": "code",
   "execution_count": 171,
   "metadata": {},
   "outputs": [
    {
     "data": {
      "text/plain": [
       "numpy.ndarray"
      ]
     },
     "execution_count": 171,
     "metadata": {},
     "output_type": "execute_result"
    }
   ],
   "source": [
    "d = np.array([1, 2, 3])\n",
    "type(d)"
   ]
  },
  {
   "cell_type": "code",
   "execution_count": 172,
   "metadata": {},
   "outputs": [
    {
     "data": {
      "text/plain": [
       "array([1, 2, 3])"
      ]
     },
     "execution_count": 172,
     "metadata": {},
     "output_type": "execute_result"
    }
   ],
   "source": [
    "d"
   ]
  },
  {
   "cell_type": "code",
   "execution_count": 176,
   "metadata": {},
   "outputs": [
    {
     "data": {
      "text/plain": [
       "(3,)"
      ]
     },
     "execution_count": 176,
     "metadata": {},
     "output_type": "execute_result"
    }
   ],
   "source": [
    "d.shape"
   ]
  },
  {
   "cell_type": "markdown",
   "metadata": {},
   "source": [
    "Matriz de rango 2"
   ]
  },
  {
   "cell_type": "code",
   "execution_count": 174,
   "metadata": {},
   "outputs": [
    {
     "data": {
      "text/plain": [
       "numpy.ndarray"
      ]
     },
     "execution_count": 174,
     "metadata": {},
     "output_type": "execute_result"
    }
   ],
   "source": [
    "nd = np.array([[1, 2, 3], [3, 4, 5], [10, 11, 12]])\n",
    "type(nd)"
   ]
  },
  {
   "cell_type": "code",
   "execution_count": 175,
   "metadata": {},
   "outputs": [
    {
     "data": {
      "text/plain": [
       "(3, 3)"
      ]
     },
     "execution_count": 175,
     "metadata": {},
     "output_type": "execute_result"
    }
   ],
   "source": [
    "nd.shape"
   ]
  },
  {
   "cell_type": "code",
   "execution_count": 185,
   "metadata": {},
   "outputs": [
    {
     "data": {
      "text/plain": [
       "dtype('int32')"
      ]
     },
     "execution_count": 185,
     "metadata": {},
     "output_type": "execute_result"
    }
   ],
   "source": [
    "nd.dtype"
   ]
  },
  {
   "cell_type": "code",
   "execution_count": 177,
   "metadata": {},
   "outputs": [
    {
     "data": {
      "text/plain": [
       "array([0., 0., 0.])"
      ]
     },
     "execution_count": 177,
     "metadata": {},
     "output_type": "execute_result"
    }
   ],
   "source": [
    "np.zeros(3)"
   ]
  },
  {
   "cell_type": "code",
   "execution_count": 181,
   "metadata": {},
   "outputs": [
    {
     "data": {
      "text/plain": [
       "array([1., 1., 1.])"
      ]
     },
     "execution_count": 181,
     "metadata": {},
     "output_type": "execute_result"
    }
   ],
   "source": [
    "np.ones(3)"
   ]
  },
  {
   "cell_type": "code",
   "execution_count": 187,
   "metadata": {},
   "outputs": [],
   "source": [
    "uno=np.ones((3,3))"
   ]
  },
  {
   "cell_type": "code",
   "execution_count": 182,
   "metadata": {},
   "outputs": [
    {
     "data": {
      "text/plain": [
       "array([[1., 0., 0.],\n",
       "       [0., 1., 0.],\n",
       "       [0., 0., 1.]])"
      ]
     },
     "execution_count": 182,
     "metadata": {},
     "output_type": "execute_result"
    }
   ],
   "source": [
    "np.eye(3)"
   ]
  },
  {
   "cell_type": "code",
   "execution_count": 190,
   "metadata": {},
   "outputs": [
    {
     "data": {
      "text/plain": [
       "array([[5., 5., 5.],\n",
       "       [5., 5., 5.],\n",
       "       [5., 5., 5.]])"
      ]
     },
     "execution_count": 190,
     "metadata": {},
     "output_type": "execute_result"
    }
   ],
   "source": [
    "e2=uno+4\n",
    "e2"
   ]
  },
  {
   "cell_type": "markdown",
   "metadata": {},
   "source": [
    "Crea una matriz con unos con la misma shape que e2"
   ]
  },
  {
   "cell_type": "code",
   "execution_count": 191,
   "metadata": {},
   "outputs": [
    {
     "data": {
      "text/plain": [
       "array([[1., 1., 1.],\n",
       "       [1., 1., 1.],\n",
       "       [1., 1., 1.]])"
      ]
     },
     "execution_count": 191,
     "metadata": {},
     "output_type": "execute_result"
    }
   ],
   "source": [
    "np.ones_like(e2)"
   ]
  },
  {
   "cell_type": "markdown",
   "metadata": {},
   "source": [
    "Convierte una lista en matriz"
   ]
  },
  {
   "cell_type": "code",
   "execution_count": 194,
   "metadata": {},
   "outputs": [
    {
     "data": {
      "text/plain": [
       "['1', '2', '3']"
      ]
     },
     "execution_count": 194,
     "metadata": {},
     "output_type": "execute_result"
    }
   ],
   "source": [
    "a = ['1', '2', '3']\n",
    "a"
   ]
  },
  {
   "cell_type": "code",
   "execution_count": 197,
   "metadata": {},
   "outputs": [
    {
     "data": {
      "text/plain": [
       "array([b'1', b'2', b'3'], dtype='|S1')"
      ]
     },
     "execution_count": 197,
     "metadata": {},
     "output_type": "execute_result"
    }
   ],
   "source": [
    "a_arr = np.array(a, dtype=np.string_)\n",
    "a_arr"
   ]
  },
  {
   "cell_type": "markdown",
   "metadata": {},
   "source": [
    "## 7.2 Boolean indexing"
   ]
  },
  {
   "cell_type": "code",
   "execution_count": 199,
   "metadata": {},
   "outputs": [
    {
     "data": {
      "text/plain": [
       "(5, 3)"
      ]
     },
     "execution_count": 199,
     "metadata": {},
     "output_type": "execute_result"
    }
   ],
   "source": [
    "data = np.random.randn(5, 3)\n",
    "data.shape"
   ]
  },
  {
   "cell_type": "code",
   "execution_count": 200,
   "metadata": {},
   "outputs": [],
   "source": [
    "name = np.array(['a', 'b', 'c', 'a', 'b'])"
   ]
  },
  {
   "cell_type": "markdown",
   "metadata": {},
   "source": [
    "Retorna una matriz booleana con el resultado de la comparacion:"
   ]
  },
  {
   "cell_type": "code",
   "execution_count": 201,
   "metadata": {},
   "outputs": [
    {
     "data": {
      "text/plain": [
       "array([ True, False, False,  True, False])"
      ]
     },
     "execution_count": 201,
     "metadata": {},
     "output_type": "execute_result"
    }
   ],
   "source": [
    "name=='a'"
   ]
  },
  {
   "cell_type": "markdown",
   "metadata": {},
   "source": [
    "Este vector booleano lo podemos pasar como argumento de modo que aquellas filas que sean true seran recuperadas "
   ]
  },
  {
   "cell_type": "code",
   "execution_count": 202,
   "metadata": {},
   "outputs": [
    {
     "data": {
      "text/plain": [
       "array([[-0.84606815,  0.68303438,  1.02399111],\n",
       "       [ 1.05637751, -0.39539286,  0.42956646],\n",
       "       [ 0.27515014, -0.18804705, -1.2136559 ],\n",
       "       [-1.56145951, -0.91844565,  0.0812462 ],\n",
       "       [ 2.31562554,  0.53892769, -1.56776391]])"
      ]
     },
     "execution_count": 202,
     "metadata": {},
     "output_type": "execute_result"
    }
   ],
   "source": [
    "data"
   ]
  },
  {
   "cell_type": "markdown",
   "metadata": {},
   "source": [
    "__Excelente!!!__. Podemos recuperar las filas que nos interese de nuestra matriz"
   ]
  },
  {
   "cell_type": "code",
   "execution_count": 203,
   "metadata": {},
   "outputs": [
    {
     "data": {
      "text/plain": [
       "array([[-0.84606815,  0.68303438,  1.02399111],\n",
       "       [-1.56145951, -0.91844565,  0.0812462 ]])"
      ]
     },
     "execution_count": 203,
     "metadata": {},
     "output_type": "execute_result"
    }
   ],
   "source": [
    "data[name=='a']"
   ]
  },
  {
   "cell_type": "code",
   "execution_count": 204,
   "metadata": {},
   "outputs": [
    {
     "data": {
      "text/plain": [
       "array([[ 1.05637751, -0.39539286,  0.42956646],\n",
       "       [ 0.27515014, -0.18804705, -1.2136559 ],\n",
       "       [ 2.31562554,  0.53892769, -1.56776391]])"
      ]
     },
     "execution_count": 204,
     "metadata": {},
     "output_type": "execute_result"
    }
   ],
   "source": [
    "data[name != 'a']"
   ]
  },
  {
   "cell_type": "code",
   "execution_count": 205,
   "metadata": {},
   "outputs": [
    {
     "data": {
      "text/plain": [
       "array([[ 1.05637751, -0.39539286,  0.42956646],\n",
       "       [ 0.27515014, -0.18804705, -1.2136559 ],\n",
       "       [ 2.31562554,  0.53892769, -1.56776391]])"
      ]
     },
     "execution_count": 205,
     "metadata": {},
     "output_type": "execute_result"
    }
   ],
   "source": [
    "data[(name == 'b') | (name=='c')]"
   ]
  },
  {
   "cell_type": "markdown",
   "metadata": {},
   "source": [
    "Si le pasamos __una matriz booleana__ con la misma dimension que la propia matriz, aplica una especie de __mascara__, retornando aquellas celdas en las que el valor sea true"
   ]
  },
  {
   "cell_type": "code",
   "execution_count": 208,
   "metadata": {},
   "outputs": [
    {
     "data": {
      "text/plain": [
       "array([1.02399111, 1.05637751])"
      ]
     },
     "execution_count": 208,
     "metadata": {},
     "output_type": "execute_result"
    }
   ],
   "source": [
    "data[ (data > 1) & (data < 2) ]"
   ]
  },
  {
   "cell_type": "markdown",
   "metadata": {},
   "source": [
    "## 7.3 Reshape"
   ]
  },
  {
   "cell_type": "code",
   "execution_count": 210,
   "metadata": {},
   "outputs": [
    {
     "data": {
      "text/plain": [
       "(20,)"
      ]
     },
     "execution_count": 210,
     "metadata": {},
     "output_type": "execute_result"
    }
   ],
   "source": [
    "a = np.arange(0, 20)\n",
    "a.shape"
   ]
  },
  {
   "cell_type": "code",
   "execution_count": 211,
   "metadata": {},
   "outputs": [
    {
     "data": {
      "text/plain": [
       "array([[ 0,  1,  2,  3,  4],\n",
       "       [ 5,  6,  7,  8,  9],\n",
       "       [10, 11, 12, 13, 14],\n",
       "       [15, 16, 17, 18, 19]])"
      ]
     },
     "execution_count": 211,
     "metadata": {},
     "output_type": "execute_result"
    }
   ],
   "source": [
    "a45 = a.reshape(4, 5)\n",
    "a45"
   ]
  },
  {
   "cell_type": "markdown",
   "metadata": {},
   "source": [
    "Recupera ciertas filas de la matriz"
   ]
  },
  {
   "cell_type": "code",
   "execution_count": 212,
   "metadata": {},
   "outputs": [
    {
     "data": {
      "text/plain": [
       "array([[10, 11, 12, 13, 14],\n",
       "       [ 0,  1,  2,  3,  4],\n",
       "       [ 5,  6,  7,  8,  9]])"
      ]
     },
     "execution_count": 212,
     "metadata": {},
     "output_type": "execute_result"
    }
   ],
   "source": [
    "b = a45[ [2, 0, 1] ]\n",
    "b"
   ]
  },
  {
   "cell_type": "markdown",
   "metadata": {},
   "source": [
    "Traspuesta"
   ]
  },
  {
   "cell_type": "code",
   "execution_count": 213,
   "metadata": {},
   "outputs": [
    {
     "data": {
      "text/plain": [
       "array([[10,  0,  5],\n",
       "       [11,  1,  6],\n",
       "       [12,  2,  7],\n",
       "       [13,  3,  8],\n",
       "       [14,  4,  9]])"
      ]
     },
     "execution_count": 213,
     "metadata": {},
     "output_type": "execute_result"
    }
   ],
   "source": [
    "b.T"
   ]
  },
  {
   "cell_type": "markdown",
   "metadata": {},
   "source": [
    "## 7.4 Concatenating"
   ]
  },
  {
   "cell_type": "markdown",
   "metadata": {},
   "source": [
    "Para muestras de la normal N(mu, sigma^2), usar:\n",
    "\n",
    "sigma * np.random.randn(...) + mu"
   ]
  },
  {
   "cell_type": "code",
   "execution_count": 219,
   "metadata": {},
   "outputs": [
    {
     "data": {
      "text/plain": [
       "(3, 4)"
      ]
     },
     "execution_count": 219,
     "metadata": {},
     "output_type": "execute_result"
    }
   ],
   "source": [
    "arr = np.arange(12).reshape(3,4)\n",
    "rn = np.random.randn(3, 4)\n",
    "rn.shape"
   ]
  },
  {
   "cell_type": "code",
   "execution_count": 221,
   "metadata": {},
   "outputs": [
    {
     "data": {
      "text/plain": [
       "(6, 4)"
      ]
     },
     "execution_count": 221,
     "metadata": {},
     "output_type": "execute_result"
    }
   ],
   "source": [
    "np.concatenate([arr, rn]).shape"
   ]
  },
  {
   "cell_type": "code",
   "execution_count": 222,
   "metadata": {},
   "outputs": [
    {
     "data": {
      "text/plain": [
       "(3, 8)"
      ]
     },
     "execution_count": 222,
     "metadata": {},
     "output_type": "execute_result"
    }
   ],
   "source": [
    "np.concatenate([arr, rn], axis=1).shape"
   ]
  },
  {
   "cell_type": "markdown",
   "metadata": {},
   "source": [
    "# 8. Time Series"
   ]
  },
  {
   "cell_type": "code",
   "execution_count": 327,
   "metadata": {},
   "outputs": [
    {
     "data": {
      "text/plain": [
       "DatetimeIndex(['2011-03-31 10:15:00', '2011-04-30 10:15:00',\n",
       "               '2011-05-31 10:15:00', '2011-06-30 10:15:00',\n",
       "               '2011-07-31 10:15:00', '2011-08-31 10:15:00',\n",
       "               '2011-09-30 10:15:00', '2011-10-31 10:15:00',\n",
       "               '2011-11-30 10:15:00', '2011-12-31 10:15:00'],\n",
       "              dtype='datetime64[ns]', freq='M')"
      ]
     },
     "execution_count": 327,
     "metadata": {},
     "output_type": "execute_result"
    }
   ],
   "source": [
    "rng = pd.date_range('2011-03-01 10:15', periods = 10, freq = 'M')\n",
    "rng"
   ]
  },
  {
   "cell_type": "code",
   "execution_count": 328,
   "metadata": {},
   "outputs": [
    {
     "data": {
      "text/plain": [
       "DatetimeIndex(['2015-07-31 10:15:00', '2015-08-31 10:15:00',\n",
       "               '2015-09-30 10:15:00', '2015-10-31 10:15:00',\n",
       "               '2015-11-30 10:15:00', '2015-12-31 10:15:00',\n",
       "               '2016-01-31 10:15:00', '2016-02-29 10:15:00',\n",
       "               '2016-03-31 10:15:00', '2016-04-30 10:15:00'],\n",
       "              dtype='datetime64[ns]', freq='M')"
      ]
     },
     "execution_count": 328,
     "metadata": {},
     "output_type": "execute_result"
    }
   ],
   "source": [
    "rng = pd.date_range('2015 Jul 2 10:15', periods = 10, freq = 'M')\n",
    "rng"
   ]
  },
  {
   "cell_type": "code",
   "execution_count": 329,
   "metadata": {},
   "outputs": [
    {
     "data": {
      "text/plain": [
       "DatetimeIndex(['2015-07-02 10:15:00', '2015-07-02 22:15:00',\n",
       "               '2015-07-03 10:15:00', '2015-07-03 22:15:00',\n",
       "               '2015-07-04 10:15:00', '2015-07-04 22:15:00',\n",
       "               '2015-07-05 10:15:00', '2015-07-05 22:15:00',\n",
       "               '2015-07-06 10:15:00', '2015-07-06 22:15:00',\n",
       "               '2015-07-07 10:15:00', '2015-07-07 22:15:00',\n",
       "               '2015-07-08 10:15:00', '2015-07-08 22:15:00',\n",
       "               '2015-07-09 10:15:00', '2015-07-09 22:15:00',\n",
       "               '2015-07-10 10:15:00', '2015-07-10 22:15:00',\n",
       "               '2015-07-11 10:15:00', '2015-07-11 22:15:00'],\n",
       "              dtype='datetime64[ns]', freq='12H')"
      ]
     },
     "execution_count": 329,
     "metadata": {},
     "output_type": "execute_result"
    }
   ],
   "source": [
    "rng = pd.date_range(start = '2015 Jul 2 10:15', end = '2015 July 12', freq = '12H')\n",
    "rng"
   ]
  },
  {
   "cell_type": "code",
   "execution_count": 331,
   "metadata": {},
   "outputs": [
    {
     "data": {
      "text/plain": [
       "DatetimeIndex(['2015-07-02 10:15:00+05:30', '2015-07-02 22:15:00+05:30',\n",
       "               '2015-07-03 10:15:00+05:30', '2015-07-03 22:15:00+05:30',\n",
       "               '2015-07-04 10:15:00+05:30', '2015-07-04 22:15:00+05:30',\n",
       "               '2015-07-05 10:15:00+05:30', '2015-07-05 22:15:00+05:30',\n",
       "               '2015-07-06 10:15:00+05:30', '2015-07-06 22:15:00+05:30',\n",
       "               '2015-07-07 10:15:00+05:30', '2015-07-07 22:15:00+05:30',\n",
       "               '2015-07-08 10:15:00+05:30', '2015-07-08 22:15:00+05:30',\n",
       "               '2015-07-09 10:15:00+05:30', '2015-07-09 22:15:00+05:30',\n",
       "               '2015-07-10 10:15:00+05:30', '2015-07-10 22:15:00+05:30',\n",
       "               '2015-07-11 10:15:00+05:30', '2015-07-11 22:15:00+05:30'],\n",
       "              dtype='datetime64[ns, Asia/Kolkata]', freq='12H')"
      ]
     },
     "execution_count": 331,
     "metadata": {},
     "output_type": "execute_result"
    }
   ],
   "source": [
    "rng = pd.date_range(start = '2015 Jul 2 10:15', end = '2015 July 12', freq = '12H', tz='Asia/Kolkata')\n",
    "rng"
   ]
  },
  {
   "cell_type": "code",
   "execution_count": 332,
   "metadata": {},
   "outputs": [
    {
     "data": {
      "text/plain": [
       "pandas._libs.tslibs.timestamps.Timestamp"
      ]
     },
     "execution_count": 332,
     "metadata": {},
     "output_type": "execute_result"
    }
   ],
   "source": [
    "type(rng[0])"
   ]
  },
  {
   "cell_type": "markdown",
   "metadata": {},
   "source": [
    "## 8.1 Convertir Strings a Fechas"
   ]
  },
  {
   "cell_type": "code",
   "execution_count": null,
   "metadata": {},
   "outputs": [],
   "source": []
  }
 ],
 "metadata": {
  "kernelspec": {
   "display_name": "Python 3",
   "language": "python",
   "name": "python3"
  },
  "language_info": {
   "codemirror_mode": {
    "name": "ipython",
    "version": 3
   },
   "file_extension": ".py",
   "mimetype": "text/x-python",
   "name": "python",
   "nbconvert_exporter": "python",
   "pygments_lexer": "ipython3",
   "version": "3.7.5"
  }
 },
 "nbformat": 4,
 "nbformat_minor": 2
}
