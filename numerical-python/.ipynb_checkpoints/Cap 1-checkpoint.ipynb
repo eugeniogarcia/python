{
 "cells": [
  {
   "cell_type": "markdown",
   "metadata": {},
   "source": [
    "Hay que instalar los siguientes paquetes:  \n",
    "```\n",
    "pip install scipy-stack  \n",
    "pip install ipywidges\n",
    "```"
   ]
  },
  {
   "cell_type": "code",
   "execution_count": 1,
   "metadata": {},
   "outputs": [],
   "source": [
    "import matplotlib.pyplot as plt\n",
    "import numpy as np\n",
    "from scipy import stats\n",
    "\n",
    "def f(mu):\n",
    "    X=stats.norm(loc=mu, scale=np.sqrt(mu))\n",
    "    N=stats.poisson(mu)\n",
    "    x=np.linspace(0,X.ppf(0.999))\n",
    "    n=np.arange(0,x[-1])\n",
    "    \n",
    "    fig, ax= plt.subplots()\n",
    "    ax.plot(x, X.pdf(x),color='black',lw=2, label='Normal ($\\mu=%d, \\sigma^2=%d$)' % (mu,mu))\n",
    "    ax.bar(n,N.pmf(n), align='edge', label =r\"Poisson ($\\lambda=%d$)\" % mu)\n",
    "    ax.set_ylim(0,X.pdf(x).max()*1.25)\n",
    "    ax.legend(loc=2, ncol=2)\n",
    "\n",
    "    plt.close(fig)\n",
    "    return fig\n",
    "    \n"
   ]
  },
  {
   "cell_type": "code",
   "execution_count": 2,
   "metadata": {},
   "outputs": [],
   "source": [
    "from ipywidgets import interact\n",
    "import ipywidgets as widgets"
   ]
  },
  {
   "cell_type": "code",
   "execution_count": 3,
   "metadata": {},
   "outputs": [
    {
     "data": {
      "application/vnd.jupyter.widget-view+json": {
       "model_id": "5633aee223b743ccb3762564fd04efd8",
       "version_major": 2,
       "version_minor": 0
      },
      "text/plain": [
       "interactive(children=(FloatSlider(value=1.0, description='mu', max=20.0, min=1.0, step=1.0), Output()), _dom_c…"
      ]
     },
     "metadata": {},
     "output_type": "display_data"
    }
   ],
   "source": [
    "interact(f, mu=widgets.FloatSlider(min=1.0, max=20.0, step=1.0));"
   ]
  },
  {
   "cell_type": "raw",
   "metadata": {},
   "source": []
  }
 ],
 "metadata": {
  "kernelspec": {
   "display_name": "Python 3",
   "language": "python",
   "name": "python3"
  },
  "language_info": {
   "codemirror_mode": {
    "name": "ipython",
    "version": 3
   },
   "file_extension": ".py",
   "mimetype": "text/x-python",
   "name": "python",
   "nbconvert_exporter": "python",
   "pygments_lexer": "ipython3",
   "version": "3.7.4"
  }
 },
 "nbformat": 4,
 "nbformat_minor": 2
}
