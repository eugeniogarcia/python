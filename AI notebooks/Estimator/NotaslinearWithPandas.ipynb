{
 "cells": [
  {
   "cell_type": "markdown",
   "metadata": {
    "colab_type": "text",
    "id": "C81KT2D_j-xR"
   },
   "source": [
    "# Comentarios sobre linearWithPandas\n"
   ]
  },
  {
   "cell_type": "code",
   "execution_count": 1,
   "metadata": {
    "colab": {},
    "colab_type": "code",
    "id": "rutbJGmpqvm3"
   },
   "outputs": [],
   "source": [
    "!pip install -q sklearn"
   ]
  },
  {
   "cell_type": "code",
   "execution_count": 2,
   "metadata": {
    "colab": {},
    "colab_type": "code",
    "id": "54mb4J9PqqDh"
   },
   "outputs": [],
   "source": [
    "from __future__ import absolute_import, division, print_function, unicode_literals\n",
    "\n",
    "import os\n",
    "import sys\n",
    "\n",
    "import numpy as np\n",
    "import pandas as pd\n",
    "import matplotlib.pyplot as plt\n",
    "from IPython.display import clear_output\n",
    "from six.moves import urllib"
   ]
  },
  {
   "cell_type": "markdown",
   "metadata": {
    "colab_type": "text",
    "id": "fsjkwfsGOBMT"
   },
   "source": [
    "## Load the titanic dataset\n",
    "You will use the Titanic dataset with the (rather morbid) goal of predicting passenger survival, given characteristics such as gender, age, class, etc."
   ]
  },
  {
   "cell_type": "code",
   "execution_count": 3,
   "metadata": {
    "colab": {},
    "colab_type": "code",
    "id": "bNiwh-APcRVD"
   },
   "outputs": [],
   "source": [
    "try:\n",
    "  # %tensorflow_version only exists in Colab.\n",
    "  %tensorflow_version 2.x\n",
    "except Exception:\n",
    "  pass\n",
    "import tensorflow.compat.v2.feature_column as fc\n",
    "\n",
    "import tensorflow as tf"
   ]
  },
  {
   "cell_type": "code",
   "execution_count": 4,
   "metadata": {
    "colab": {},
    "colab_type": "code",
    "id": "DSeMKcx03d5R"
   },
   "outputs": [],
   "source": [
    "# Load dataset.\n",
    "dftrain = pd.read_csv('https://storage.googleapis.com/tf-datasets/titanic/train.csv')\n",
    "dfeval = pd.read_csv('https://storage.googleapis.com/tf-datasets/titanic/eval.csv')\n",
    "y_train = dftrain.pop('survived')\n",
    "y_eval = dfeval.pop('survived')"
   ]
  },
  {
   "cell_type": "markdown",
   "metadata": {
    "colab_type": "text",
    "id": "jjm4Qj0u7_cp"
   },
   "source": [
    "## Explore the data"
   ]
  },
  {
   "cell_type": "markdown",
   "metadata": {
    "colab_type": "text",
    "id": "UrQzxKKh4d6u"
   },
   "source": [
    "The dataset contains the following features"
   ]
  },
  {
   "cell_type": "code",
   "execution_count": 5,
   "metadata": {
    "colab": {},
    "colab_type": "code",
    "id": "rTjugo3n308g"
   },
   "outputs": [
    {
     "data": {
      "text/html": [
       "<div>\n",
       "<style scoped>\n",
       "    .dataframe tbody tr th:only-of-type {\n",
       "        vertical-align: middle;\n",
       "    }\n",
       "\n",
       "    .dataframe tbody tr th {\n",
       "        vertical-align: top;\n",
       "    }\n",
       "\n",
       "    .dataframe thead th {\n",
       "        text-align: right;\n",
       "    }\n",
       "</style>\n",
       "<table border=\"1\" class=\"dataframe\">\n",
       "  <thead>\n",
       "    <tr style=\"text-align: right;\">\n",
       "      <th></th>\n",
       "      <th>sex</th>\n",
       "      <th>age</th>\n",
       "      <th>n_siblings_spouses</th>\n",
       "      <th>parch</th>\n",
       "      <th>fare</th>\n",
       "      <th>class</th>\n",
       "      <th>deck</th>\n",
       "      <th>embark_town</th>\n",
       "      <th>alone</th>\n",
       "    </tr>\n",
       "  </thead>\n",
       "  <tbody>\n",
       "    <tr>\n",
       "      <th>0</th>\n",
       "      <td>male</td>\n",
       "      <td>22.0</td>\n",
       "      <td>1</td>\n",
       "      <td>0</td>\n",
       "      <td>7.2500</td>\n",
       "      <td>Third</td>\n",
       "      <td>unknown</td>\n",
       "      <td>Southampton</td>\n",
       "      <td>n</td>\n",
       "    </tr>\n",
       "    <tr>\n",
       "      <th>1</th>\n",
       "      <td>female</td>\n",
       "      <td>38.0</td>\n",
       "      <td>1</td>\n",
       "      <td>0</td>\n",
       "      <td>71.2833</td>\n",
       "      <td>First</td>\n",
       "      <td>C</td>\n",
       "      <td>Cherbourg</td>\n",
       "      <td>n</td>\n",
       "    </tr>\n",
       "    <tr>\n",
       "      <th>2</th>\n",
       "      <td>female</td>\n",
       "      <td>26.0</td>\n",
       "      <td>0</td>\n",
       "      <td>0</td>\n",
       "      <td>7.9250</td>\n",
       "      <td>Third</td>\n",
       "      <td>unknown</td>\n",
       "      <td>Southampton</td>\n",
       "      <td>y</td>\n",
       "    </tr>\n",
       "    <tr>\n",
       "      <th>3</th>\n",
       "      <td>female</td>\n",
       "      <td>35.0</td>\n",
       "      <td>1</td>\n",
       "      <td>0</td>\n",
       "      <td>53.1000</td>\n",
       "      <td>First</td>\n",
       "      <td>C</td>\n",
       "      <td>Southampton</td>\n",
       "      <td>n</td>\n",
       "    </tr>\n",
       "    <tr>\n",
       "      <th>4</th>\n",
       "      <td>male</td>\n",
       "      <td>28.0</td>\n",
       "      <td>0</td>\n",
       "      <td>0</td>\n",
       "      <td>8.4583</td>\n",
       "      <td>Third</td>\n",
       "      <td>unknown</td>\n",
       "      <td>Queenstown</td>\n",
       "      <td>y</td>\n",
       "    </tr>\n",
       "  </tbody>\n",
       "</table>\n",
       "</div>"
      ],
      "text/plain": [
       "      sex   age  n_siblings_spouses  parch     fare  class     deck  \\\n",
       "0    male  22.0                   1      0   7.2500  Third  unknown   \n",
       "1  female  38.0                   1      0  71.2833  First        C   \n",
       "2  female  26.0                   0      0   7.9250  Third  unknown   \n",
       "3  female  35.0                   1      0  53.1000  First        C   \n",
       "4    male  28.0                   0      0   8.4583  Third  unknown   \n",
       "\n",
       "   embark_town alone  \n",
       "0  Southampton     n  \n",
       "1    Cherbourg     n  \n",
       "2  Southampton     y  \n",
       "3  Southampton     n  \n",
       "4   Queenstown     y  "
      ]
     },
     "execution_count": 5,
     "metadata": {},
     "output_type": "execute_result"
    }
   ],
   "source": [
    "dftrain.head()"
   ]
  },
  {
   "cell_type": "code",
   "execution_count": 6,
   "metadata": {
    "colab": {},
    "colab_type": "code",
    "id": "Fs3Nu5pV4v5J"
   },
   "outputs": [
    {
     "data": {
      "text/plain": [
       "(627, 264)"
      ]
     },
     "execution_count": 6,
     "metadata": {},
     "output_type": "execute_result"
    }
   ],
   "source": [
    "dftrain.shape[0], dfeval.shape[0]"
   ]
  },
  {
   "cell_type": "code",
   "execution_count": 7,
   "metadata": {},
   "outputs": [
    {
     "data": {
      "text/plain": [
       "((627, 9), (264, 9))"
      ]
     },
     "execution_count": 7,
     "metadata": {},
     "output_type": "execute_result"
    }
   ],
   "source": [
    "dftrain.shape,dfeval.shape"
   ]
  },
  {
   "cell_type": "markdown",
   "metadata": {
    "colab_type": "text",
    "id": "VqDKQLZn8L-B"
   },
   "source": [
    "## Feature Engineering for the Model\n",
    "\n",
    "### Base Feature Columns\n",
    "\n",
    "Con Pandas tenemos la opción de poder convertir una columna categorica a one-shot. Lo podemos ver en acción con la Serie sex. Más adelante vemos el uso más estandar con `feature_columns`:"
   ]
  },
  {
   "cell_type": "code",
   "execution_count": 8,
   "metadata": {},
   "outputs": [],
   "source": [
    "dftrain['sex'] = pd.Categorical(dftrain['sex'])\n",
    "dftrain['sex'] = dftrain.sex.cat.codes\n",
    "dfeval['sex'] = pd.Categorical(dfeval['sex'])\n",
    "dfeval['sex'] = dfeval.sex.cat.codes"
   ]
  },
  {
   "cell_type": "code",
   "execution_count": 9,
   "metadata": {},
   "outputs": [
    {
     "data": {
      "text/html": [
       "<div>\n",
       "<style scoped>\n",
       "    .dataframe tbody tr th:only-of-type {\n",
       "        vertical-align: middle;\n",
       "    }\n",
       "\n",
       "    .dataframe tbody tr th {\n",
       "        vertical-align: top;\n",
       "    }\n",
       "\n",
       "    .dataframe thead th {\n",
       "        text-align: right;\n",
       "    }\n",
       "</style>\n",
       "<table border=\"1\" class=\"dataframe\">\n",
       "  <thead>\n",
       "    <tr style=\"text-align: right;\">\n",
       "      <th></th>\n",
       "      <th>sex</th>\n",
       "      <th>age</th>\n",
       "      <th>n_siblings_spouses</th>\n",
       "      <th>parch</th>\n",
       "      <th>fare</th>\n",
       "      <th>class</th>\n",
       "      <th>deck</th>\n",
       "      <th>embark_town</th>\n",
       "      <th>alone</th>\n",
       "    </tr>\n",
       "  </thead>\n",
       "  <tbody>\n",
       "    <tr>\n",
       "      <th>0</th>\n",
       "      <td>1</td>\n",
       "      <td>22.0</td>\n",
       "      <td>1</td>\n",
       "      <td>0</td>\n",
       "      <td>7.2500</td>\n",
       "      <td>Third</td>\n",
       "      <td>unknown</td>\n",
       "      <td>Southampton</td>\n",
       "      <td>n</td>\n",
       "    </tr>\n",
       "    <tr>\n",
       "      <th>1</th>\n",
       "      <td>0</td>\n",
       "      <td>38.0</td>\n",
       "      <td>1</td>\n",
       "      <td>0</td>\n",
       "      <td>71.2833</td>\n",
       "      <td>First</td>\n",
       "      <td>C</td>\n",
       "      <td>Cherbourg</td>\n",
       "      <td>n</td>\n",
       "    </tr>\n",
       "    <tr>\n",
       "      <th>2</th>\n",
       "      <td>0</td>\n",
       "      <td>26.0</td>\n",
       "      <td>0</td>\n",
       "      <td>0</td>\n",
       "      <td>7.9250</td>\n",
       "      <td>Third</td>\n",
       "      <td>unknown</td>\n",
       "      <td>Southampton</td>\n",
       "      <td>y</td>\n",
       "    </tr>\n",
       "    <tr>\n",
       "      <th>3</th>\n",
       "      <td>0</td>\n",
       "      <td>35.0</td>\n",
       "      <td>1</td>\n",
       "      <td>0</td>\n",
       "      <td>53.1000</td>\n",
       "      <td>First</td>\n",
       "      <td>C</td>\n",
       "      <td>Southampton</td>\n",
       "      <td>n</td>\n",
       "    </tr>\n",
       "    <tr>\n",
       "      <th>4</th>\n",
       "      <td>1</td>\n",
       "      <td>28.0</td>\n",
       "      <td>0</td>\n",
       "      <td>0</td>\n",
       "      <td>8.4583</td>\n",
       "      <td>Third</td>\n",
       "      <td>unknown</td>\n",
       "      <td>Queenstown</td>\n",
       "      <td>y</td>\n",
       "    </tr>\n",
       "  </tbody>\n",
       "</table>\n",
       "</div>"
      ],
      "text/plain": [
       "   sex   age  n_siblings_spouses  parch     fare  class     deck  embark_town  \\\n",
       "0    1  22.0                   1      0   7.2500  Third  unknown  Southampton   \n",
       "1    0  38.0                   1      0  71.2833  First        C    Cherbourg   \n",
       "2    0  26.0                   0      0   7.9250  Third  unknown  Southampton   \n",
       "3    0  35.0                   1      0  53.1000  First        C  Southampton   \n",
       "4    1  28.0                   0      0   8.4583  Third  unknown   Queenstown   \n",
       "\n",
       "  alone  \n",
       "0     n  \n",
       "1     n  \n",
       "2     y  \n",
       "3     n  \n",
       "4     y  "
      ]
     },
     "execution_count": 9,
     "metadata": {},
     "output_type": "execute_result"
    }
   ],
   "source": [
    "dftrain.head()"
   ]
  },
  {
   "cell_type": "code",
   "execution_count": 10,
   "metadata": {
    "colab": {},
    "colab_type": "code",
    "id": "GpveXYSsADS6"
   },
   "outputs": [],
   "source": [
    "CATEGORICAL_COLUMNS = ['n_siblings_spouses', 'parch', 'class', 'deck',\n",
    "                       'embark_town', 'alone']\n",
    "NUMERIC_COLUMNS = ['age', 'fare','sex']\n",
    "\n",
    "feature_columns = []\n",
    "for feature_name in CATEGORICAL_COLUMNS:\n",
    "  vocabulary = dftrain[feature_name].unique()\n",
    "  feature_columns.append(tf.feature_column.categorical_column_with_vocabulary_list(feature_name, vocabulary))\n",
    "\n",
    "for feature_name in NUMERIC_COLUMNS:\n",
    "  feature_columns.append(tf.feature_column.numeric_column(feature_name, dtype=tf.float32))"
   ]
  },
  {
   "cell_type": "markdown",
   "metadata": {},
   "source": [
    "En `feature_columns` lo que tenemos es un diccionario con el criterio que vamos a utilizar para convertir el dataset en un conjunto de datasets categoricos o numericos.\n",
    "\n",
    "Los categoricos se definen con `tf.feature_column.categorical_column_with_vocabulary_list(nombre, vocabulary)`\n",
    "\n",
    "- El primer argumento es el nombre de la feature\n",
    "- El segundo argumento es el diccionario, el dominio de valores a categorizar\n",
    "\n",
    "Los numéricos se definen con `tf.feature_column.numeric_column(feature_name, dtype=tf.float32)`\n",
    "\n",
    "- El primer argumento es el nombre de la feature\n",
    "- El segundo argumento es el tipo de dato\n"
   ]
  },
  {
   "cell_type": "code",
   "execution_count": 11,
   "metadata": {},
   "outputs": [
    {
     "data": {
      "text/plain": [
       "[VocabularyListCategoricalColumn(key='n_siblings_spouses', vocabulary_list=(1, 0, 3, 4, 2, 5, 8), dtype=tf.int64, default_value=-1, num_oov_buckets=0),\n",
       " VocabularyListCategoricalColumn(key='parch', vocabulary_list=(0, 1, 2, 5, 3, 4), dtype=tf.int64, default_value=-1, num_oov_buckets=0),\n",
       " VocabularyListCategoricalColumn(key='class', vocabulary_list=('Third', 'First', 'Second'), dtype=tf.string, default_value=-1, num_oov_buckets=0),\n",
       " VocabularyListCategoricalColumn(key='deck', vocabulary_list=('unknown', 'C', 'G', 'A', 'B', 'D', 'F', 'E'), dtype=tf.string, default_value=-1, num_oov_buckets=0),\n",
       " VocabularyListCategoricalColumn(key='embark_town', vocabulary_list=('Southampton', 'Cherbourg', 'Queenstown', 'unknown'), dtype=tf.string, default_value=-1, num_oov_buckets=0),\n",
       " VocabularyListCategoricalColumn(key='alone', vocabulary_list=('n', 'y'), dtype=tf.string, default_value=-1, num_oov_buckets=0),\n",
       " NumericColumn(key='age', shape=(1,), default_value=None, dtype=tf.float32, normalizer_fn=None),\n",
       " NumericColumn(key='fare', shape=(1,), default_value=None, dtype=tf.float32, normalizer_fn=None),\n",
       " NumericColumn(key='sex', shape=(1,), default_value=None, dtype=tf.float32, normalizer_fn=None)]"
      ]
     },
     "execution_count": 11,
     "metadata": {},
     "output_type": "execute_result"
    }
   ],
   "source": [
    "feature_columns"
   ]
  },
  {
   "cell_type": "code",
   "execution_count": 12,
   "metadata": {},
   "outputs": [],
   "source": [
    "def make_input_fn(data_df, label_df, num_epochs=10, shuffle=True, batch_size=32):\n",
    "  def input_function():\n",
    "    #Creamos un diccionario a partir del dataframe Panda. Esto es la clave\n",
    "    ds = tf.data.Dataset.from_tensor_slices((dict(data_df), label_df))\n",
    "    if shuffle:\n",
    "      ds = ds.shuffle(1000)\n",
    "    ds = ds.batch(batch_size).repeat(num_epochs)\n",
    "    return ds\n",
    "  return input_function"
   ]
  },
  {
   "cell_type": "markdown",
   "metadata": {},
   "source": [
    "Aqui vamos a definir una funcion que devuelve una funcion. La funcion que devolvemos es una funcion queno tiene argumentos y que nos devolvera un dataset cada vez que la llamemos `input_function()`.\n",
    "\n",
    "El dataset que nos devuelve tiene la siguiente particularidad:\n",
    "\n",
    "- Podemos controlar el tamaño de la muestra con el argumento `batch_size`\n",
    "- Podemos controlar si los datos se van a barajar. Si se barajan se barajan en grupos de 1000\n",
    "- Podemos indicar cuantas veces vamos a consumir los datos - cuantos epochs\n",
    "\n",
    "Antes de utilizar la funcion para crear el dataset para el entrenamiento, echemos un vistazo al dataset, para entender como manejarlo.\n",
    "\n",
    "### Analizar el Dataset\n",
    "\n",
    "El factor de forma es:"
   ]
  },
  {
   "cell_type": "code",
   "execution_count": 13,
   "metadata": {},
   "outputs": [
    {
     "data": {
      "text/plain": [
       "((627, 9), (627,))"
      ]
     },
     "execution_count": 13,
     "metadata": {},
     "output_type": "execute_result"
    }
   ],
   "source": [
    "dftrain.shape, y_train.shape"
   ]
  },
  {
   "cell_type": "markdown",
   "metadata": {},
   "source": [
    "Tenemos 627 muestras. Cada muestra consiste de 9 features. Los tipos de cada feature, y de la salida son:"
   ]
  },
  {
   "cell_type": "code",
   "execution_count": 14,
   "metadata": {},
   "outputs": [
    {
     "data": {
      "text/plain": [
       "(sex                      int8\n",
       " age                   float64\n",
       " n_siblings_spouses      int64\n",
       " parch                   int64\n",
       " fare                  float64\n",
       " class                  object\n",
       " deck                   object\n",
       " embark_town            object\n",
       " alone                  object\n",
       " dtype: object,\n",
       " dtype('int64'))"
      ]
     },
     "execution_count": 14,
     "metadata": {},
     "output_type": "execute_result"
    }
   ],
   "source": [
    "dftrain.dtypes,y_train.dtypes"
   ]
  },
  {
   "cell_type": "markdown",
   "metadata": {},
   "source": [
    "Veamos que pinta tienen los datos:"
   ]
  },
  {
   "cell_type": "code",
   "execution_count": 15,
   "metadata": {},
   "outputs": [
    {
     "data": {
      "text/html": [
       "<div>\n",
       "<style scoped>\n",
       "    .dataframe tbody tr th:only-of-type {\n",
       "        vertical-align: middle;\n",
       "    }\n",
       "\n",
       "    .dataframe tbody tr th {\n",
       "        vertical-align: top;\n",
       "    }\n",
       "\n",
       "    .dataframe thead th {\n",
       "        text-align: right;\n",
       "    }\n",
       "</style>\n",
       "<table border=\"1\" class=\"dataframe\">\n",
       "  <thead>\n",
       "    <tr style=\"text-align: right;\">\n",
       "      <th></th>\n",
       "      <th>sex</th>\n",
       "      <th>age</th>\n",
       "      <th>n_siblings_spouses</th>\n",
       "      <th>parch</th>\n",
       "      <th>fare</th>\n",
       "      <th>class</th>\n",
       "      <th>deck</th>\n",
       "      <th>embark_town</th>\n",
       "      <th>alone</th>\n",
       "    </tr>\n",
       "  </thead>\n",
       "  <tbody>\n",
       "    <tr>\n",
       "      <th>0</th>\n",
       "      <td>1</td>\n",
       "      <td>22.0</td>\n",
       "      <td>1</td>\n",
       "      <td>0</td>\n",
       "      <td>7.2500</td>\n",
       "      <td>Third</td>\n",
       "      <td>unknown</td>\n",
       "      <td>Southampton</td>\n",
       "      <td>n</td>\n",
       "    </tr>\n",
       "    <tr>\n",
       "      <th>1</th>\n",
       "      <td>0</td>\n",
       "      <td>38.0</td>\n",
       "      <td>1</td>\n",
       "      <td>0</td>\n",
       "      <td>71.2833</td>\n",
       "      <td>First</td>\n",
       "      <td>C</td>\n",
       "      <td>Cherbourg</td>\n",
       "      <td>n</td>\n",
       "    </tr>\n",
       "    <tr>\n",
       "      <th>2</th>\n",
       "      <td>0</td>\n",
       "      <td>26.0</td>\n",
       "      <td>0</td>\n",
       "      <td>0</td>\n",
       "      <td>7.9250</td>\n",
       "      <td>Third</td>\n",
       "      <td>unknown</td>\n",
       "      <td>Southampton</td>\n",
       "      <td>y</td>\n",
       "    </tr>\n",
       "    <tr>\n",
       "      <th>3</th>\n",
       "      <td>0</td>\n",
       "      <td>35.0</td>\n",
       "      <td>1</td>\n",
       "      <td>0</td>\n",
       "      <td>53.1000</td>\n",
       "      <td>First</td>\n",
       "      <td>C</td>\n",
       "      <td>Southampton</td>\n",
       "      <td>n</td>\n",
       "    </tr>\n",
       "    <tr>\n",
       "      <th>4</th>\n",
       "      <td>1</td>\n",
       "      <td>28.0</td>\n",
       "      <td>0</td>\n",
       "      <td>0</td>\n",
       "      <td>8.4583</td>\n",
       "      <td>Third</td>\n",
       "      <td>unknown</td>\n",
       "      <td>Queenstown</td>\n",
       "      <td>y</td>\n",
       "    </tr>\n",
       "  </tbody>\n",
       "</table>\n",
       "</div>"
      ],
      "text/plain": [
       "   sex   age  n_siblings_spouses  parch     fare  class     deck  embark_town  \\\n",
       "0    1  22.0                   1      0   7.2500  Third  unknown  Southampton   \n",
       "1    0  38.0                   1      0  71.2833  First        C    Cherbourg   \n",
       "2    0  26.0                   0      0   7.9250  Third  unknown  Southampton   \n",
       "3    0  35.0                   1      0  53.1000  First        C  Southampton   \n",
       "4    1  28.0                   0      0   8.4583  Third  unknown   Queenstown   \n",
       "\n",
       "  alone  \n",
       "0     n  \n",
       "1     n  \n",
       "2     y  \n",
       "3     n  \n",
       "4     y  "
      ]
     },
     "execution_count": 15,
     "metadata": {},
     "output_type": "execute_result"
    }
   ],
   "source": [
    "dftrain.head()"
   ]
  },
  {
   "cell_type": "markdown",
   "metadata": {},
   "source": [
    "Para utilizar los dataframes en el entrenamiento podemos covertirlo en un diccionario. Al hacerlo cada serie - columna - del datastream se convierte en una key del diccionario. El tipo de datos es el que tenía en el datastream. Por ejemplo, la serie `class` quedaría:"
   ]
  },
  {
   "cell_type": "code",
   "execution_count": 16,
   "metadata": {},
   "outputs": [
    {
     "data": {
      "text/plain": [
       "((627,), dtype('O'))"
      ]
     },
     "execution_count": 16,
     "metadata": {},
     "output_type": "execute_result"
    }
   ],
   "source": [
    "dict(dftrain).get('class').shape,dict(dftrain).get('class').dtypes"
   ]
  },
  {
   "cell_type": "markdown",
   "metadata": {},
   "source": [
    "Y la serie `age`:"
   ]
  },
  {
   "cell_type": "code",
   "execution_count": 17,
   "metadata": {},
   "outputs": [
    {
     "data": {
      "text/plain": [
       "((627,), dtype('float64'))"
      ]
     },
     "execution_count": 17,
     "metadata": {},
     "output_type": "execute_result"
    }
   ],
   "source": [
    "dict(dftrain).get('age').shape,dict(dftrain).get('age').dtypes"
   ]
  },
  {
   "cell_type": "markdown",
   "metadata": {},
   "source": [
    "Podemos recuperar un valor del diccionario:"
   ]
  },
  {
   "cell_type": "code",
   "execution_count": 18,
   "metadata": {},
   "outputs": [
    {
     "data": {
      "text/plain": [
       "('Third', 22.0)"
      ]
     },
     "execution_count": 18,
     "metadata": {},
     "output_type": "execute_result"
    }
   ],
   "source": [
    "dict(dftrain).get('class')[0],dict(dftrain).get('age')[0]"
   ]
  },
  {
   "cell_type": "code",
   "execution_count": 19,
   "metadata": {},
   "outputs": [
    {
     "data": {
      "text/plain": [
       "0    0\n",
       "1    1\n",
       "2    1\n",
       "3    1\n",
       "4    0\n",
       "Name: survived, dtype: int64"
      ]
     },
     "execution_count": 19,
     "metadata": {},
     "output_type": "execute_result"
    }
   ],
   "source": [
    "y_train.head()"
   ]
  },
  {
   "cell_type": "markdown",
   "metadata": {},
   "source": [
    "### Crear los datasets para el entrenamiento\n",
    "\n",
    "La funcion que prepara el dataset toma como entrada el dataframe. Creara un tensor convirtiendo el dataframe en un diccionario, y luego aplicando sobre el dataset los metodos habitules para desordenar los datos, hacer lotes, transformar, ..."
   ]
  },
  {
   "cell_type": "code",
   "execution_count": 20,
   "metadata": {
    "colab": {},
    "colab_type": "code",
    "id": "qVtrIHFnAe7w"
   },
   "outputs": [],
   "source": [
    "train_input_fn = make_input_fn(dftrain, y_train)\n",
    "eval_input_fn = make_input_fn(dfeval, y_eval, num_epochs=1, shuffle=False)"
   ]
  },
  {
   "cell_type": "markdown",
   "metadata": {},
   "source": [
    "Veamos la funcion"
   ]
  },
  {
   "cell_type": "code",
   "execution_count": 21,
   "metadata": {},
   "outputs": [
    {
     "data": {
      "text/plain": [
       "<function __main__.make_input_fn.<locals>.input_function()>"
      ]
     },
     "execution_count": 21,
     "metadata": {},
     "output_type": "execute_result"
    }
   ],
   "source": [
    "train_input_fn"
   ]
  },
  {
   "cell_type": "markdown",
   "metadata": {},
   "source": [
    "Veamos la ejecución de la función"
   ]
  },
  {
   "cell_type": "code",
   "execution_count": 22,
   "metadata": {},
   "outputs": [
    {
     "data": {
      "text/plain": [
       "<RepeatDataset shapes: ({sex: (None,), age: (None,), n_siblings_spouses: (None,), parch: (None,), fare: (None,), class: (None,), deck: (None,), embark_town: (None,), alone: (None,)}, (None,)), types: ({sex: tf.int32, age: tf.float64, n_siblings_spouses: tf.int32, parch: tf.int32, fare: tf.float64, class: tf.string, deck: tf.string, embark_town: tf.string, alone: tf.string}, tf.int32)>"
      ]
     },
     "execution_count": 22,
     "metadata": {},
     "output_type": "execute_result"
    }
   ],
   "source": [
    "train_input_fn()"
   ]
  },
  {
   "cell_type": "markdown",
   "metadata": {
    "colab_type": "text",
    "id": "P7UMVkQnkrgb"
   },
   "source": [
    "You can inspect the dataset:"
   ]
  },
  {
   "cell_type": "code",
   "execution_count": 23,
   "metadata": {
    "colab": {},
    "colab_type": "code",
    "id": "8ZcG_3KiCb1M"
   },
   "outputs": [
    {
     "name": "stdout",
     "output_type": "stream",
     "text": [
      "Some feature keys: ['sex', 'age', 'n_siblings_spouses', 'parch', 'fare', 'class', 'deck', 'embark_town', 'alone']\n",
      "\n",
      "A batch of class: [b'Third' b'Third' b'Third' b'Third' b'First' b'Third' b'Third' b'Third'\n",
      " b'First' b'Third']\n",
      "\n",
      "A batch of Labels: [0 0 1 0 1 1 1 1 0 0]\n"
     ]
    }
   ],
   "source": [
    "#Obtiene un dataset\n",
    "ds = make_input_fn(dftrain, y_train, batch_size=10)()\n",
    "\n",
    "#El dataset es una dupla, con las features y el resultado esperado\n",
    "#Las features son un diccionario que tiene una key para cada una de las feauture\n",
    "for feature_batch, label_batch in ds.take(1):\n",
    "  print('Some feature keys:', list(feature_batch.keys()))\n",
    "  print()\n",
    "  #Convierte en un array de numpy\n",
    "  print('A batch of class:', feature_batch['class'].numpy())\n",
    "  print()\n",
    "  print('A batch of Labels:', label_batch.numpy())"
   ]
  },
  {
   "cell_type": "markdown",
   "metadata": {},
   "source": [
    "### Utilizar las Feature Columns\n",
    "\n",
    "Podemos utilizar las feature columns que hemos creado antes. Lo que haremos es aplicar la feature column sobre los datos para obtener el resultado de la feature column. Por ejemplo, podemos aplicar la feature column para obtener los datos categorizados en lugar de la columna original. \n",
    "\n",
    "Probamos primero con la columna edad. Esta es numérica:"
   ]
  },
  {
   "cell_type": "code",
   "execution_count": 24,
   "metadata": {
    "colab": {},
    "colab_type": "code",
    "id": "IMjlmbPlDmkB"
   },
   "outputs": [
    {
     "name": "stdout",
     "output_type": "stream",
     "text": [
      "WARNING:tensorflow:Layer dense_features is casting an input tensor from dtype float64 to the layer's dtype of float32, which is new behavior in TensorFlow 2.  The layer has dtype float32 because it's dtype defaults to floatx.\n",
      "\n",
      "If you intended to run this layer in float32, you can safely ignore this warning. If in doubt, this warning is likely only an issue if you are porting a TensorFlow 1.X model to TensorFlow 2.\n",
      "\n",
      "To change all layers to have dtype float64 by default, call `tf.keras.backend.set_floatx('float64')`. To change just this layer, pass dtype='float64' to the layer constructor. If you are the author of this layer, you can disable autocasting by passing autocast=False to the base Layer constructor.\n",
      "\n"
     ]
    },
    {
     "data": {
      "text/plain": [
       "array([[  7.925 ],\n",
       "       [  7.25  ],\n",
       "       [ 20.575 ],\n",
       "       [  0.    ],\n",
       "       [227.525 ],\n",
       "       [  7.2292],\n",
       "       [ 12.475 ],\n",
       "       [ 16.1   ],\n",
       "       [ 30.    ],\n",
       "       [ 46.9   ]], dtype=float32)"
      ]
     },
     "execution_count": 24,
     "metadata": {},
     "output_type": "execute_result"
    }
   ],
   "source": [
    "age_column = feature_columns[7]\n",
    "tf.keras.layers.DenseFeatures([age_column])(feature_batch).numpy()"
   ]
  },
  {
   "cell_type": "markdown",
   "metadata": {},
   "source": [
    "Hemos visto como la feature column utiliaza su nombre para identificar la columna del dataset que debe retornar. Podemos hacer lo mismo con una feature column que sea categorizada. Fijemonos como obtenermos los datos categorizados:"
   ]
  },
  {
   "cell_type": "code",
   "execution_count": 25,
   "metadata": {
    "colab": {},
    "colab_type": "code",
    "id": "1VXmXFTSFEvv"
   },
   "outputs": [
    {
     "name": "stdout",
     "output_type": "stream",
     "text": [
      "WARNING:tensorflow:Layer dense_features_1 is casting an input tensor from dtype float64 to the layer's dtype of float32, which is new behavior in TensorFlow 2.  The layer has dtype float32 because it's dtype defaults to floatx.\n",
      "\n",
      "If you intended to run this layer in float32, you can safely ignore this warning. If in doubt, this warning is likely only an issue if you are porting a TensorFlow 1.X model to TensorFlow 2.\n",
      "\n",
      "To change all layers to have dtype float64 by default, call `tf.keras.backend.set_floatx('float64')`. To change just this layer, pass dtype='float64' to the layer constructor. If you are the author of this layer, you can disable autocasting by passing autocast=False to the base Layer constructor.\n",
      "\n",
      "WARNING:tensorflow:From C:\\Users\\Eugenio\\AppData\\Roaming\\Python\\Python37\\site-packages\\tensorflow_core\\python\\feature_column\\feature_column_v2.py:4266: IndicatorColumn._variable_shape (from tensorflow.python.feature_column.feature_column_v2) is deprecated and will be removed in a future version.\n",
      "Instructions for updating:\n",
      "The old _FeatureColumn APIs are being deprecated. Please use the new FeatureColumn APIs instead.\n",
      "WARNING:tensorflow:From C:\\Users\\Eugenio\\AppData\\Roaming\\Python\\Python37\\site-packages\\tensorflow_core\\python\\feature_column\\feature_column_v2.py:4321: VocabularyListCategoricalColumn._num_buckets (from tensorflow.python.feature_column.feature_column_v2) is deprecated and will be removed in a future version.\n",
      "Instructions for updating:\n",
      "The old _FeatureColumn APIs are being deprecated. Please use the new FeatureColumn APIs instead.\n"
     ]
    },
    {
     "data": {
      "text/plain": [
       "array([[0., 1., 0., 0., 0., 0., 0.],\n",
       "       [0., 1., 0., 0., 0., 0., 0.],\n",
       "       [1., 0., 0., 0., 0., 0., 0.],\n",
       "       [0., 1., 0., 0., 0., 0., 0.],\n",
       "       [0., 1., 0., 0., 0., 0., 0.],\n",
       "       [0., 1., 0., 0., 0., 0., 0.],\n",
       "       [0., 1., 0., 0., 0., 0., 0.],\n",
       "       [1., 0., 0., 0., 0., 0., 0.],\n",
       "       [0., 1., 0., 0., 0., 0., 0.],\n",
       "       [0., 0., 0., 0., 0., 1., 0.]], dtype=float32)"
      ]
     },
     "execution_count": 25,
     "metadata": {},
     "output_type": "execute_result"
    }
   ],
   "source": [
    "gender_column = feature_columns[0]\n",
    "tf.keras.layers.DenseFeatures([tf.feature_column.indicator_column(gender_column)])(feature_batch).numpy()"
   ]
  },
  {
   "cell_type": "markdown",
   "metadata": {
    "colab_type": "text",
    "id": "MEp59g5UkHYY"
   },
   "source": [
    "After adding all the base features to the model, let's train the model. Training a model is just a single command using the `tf.estimator` API:"
   ]
  },
  {
   "cell_type": "code",
   "execution_count": 26,
   "metadata": {
    "colab": {},
    "colab_type": "code",
    "id": "aGXjdnqqdgIs"
   },
   "outputs": [
    {
     "name": "stdout",
     "output_type": "stream",
     "text": [
      "{'accuracy': 0.77272725, 'accuracy_baseline': 0.625, 'auc': 0.8362718, 'auc_precision_recall': 0.7739983, 'average_loss': 0.4742783, 'label/mean': 0.375, 'loss': 0.46532747, 'precision': 0.7532467, 'prediction/mean': 0.36155233, 'recall': 0.5858586, 'global_step': 200}\n"
     ]
    }
   ],
   "source": [
    "linear_est = tf.estimator.LinearClassifier(feature_columns=feature_columns)\n",
    "linear_est.train(train_input_fn)\n",
    "result = linear_est.evaluate(eval_input_fn)\n",
    "\n",
    "clear_output()\n",
    "print(result)"
   ]
  },
  {
   "cell_type": "markdown",
   "metadata": {},
   "source": [
    "Interesante. Estamos usando un modelo previamente enlatado, en tf.estimator. El modelo lo tenemos que entrenar, pero la funcion de entrenamiento es bastante simple: tiene como argumento de entrada un método que cuando se invoca retorna un dataset.\n",
    "\n",
    "Hay que destacar que el `LinearClassifier` tiene como argumento una colección de feature columns. Podemos ver cada una de estas feature columns como una transformación que aplicamos sobre el dataset para generar el datos que se utilice como training set.\n",
    "\n",
    "El método que evalua el modelo también usa una funcion como entrada"
   ]
  },
  {
   "cell_type": "code",
   "execution_count": 27,
   "metadata": {},
   "outputs": [
    {
     "data": {
      "text/plain": [
       "[({'sex': array([1, 1, 0, 0, 1, 0, 0, 1, 0, 0, 0, 1, 0, 1, 0, 0, 1, 0, 0, 1, 1, 1,\n",
       "          0, 1, 0, 0, 1, 1, 1, 0, 1, 0]),\n",
       "   'age': array([35., 54., 58., 55., 34., 15.,  8., 21., 18., 19., 28., 21.,  5.,\n",
       "          28., 29., 16., 26., 17., 33., 29., 20., 26., 21., 38., 20.,  2.,\n",
       "          21., 54., 12., 28., 33., 29.]),\n",
       "   'n_siblings_spouses': array([0, 0, 0, 0, 0, 0, 3, 0, 2, 0, 0, 0, 1, 0, 0, 5, 1, 0, 3, 0, 0, 1,\n",
       "          0, 0, 1, 4, 2, 0, 1, 1, 0, 1]),\n",
       "   'parch': array([0, 0, 0, 0, 0, 0, 1, 0, 0, 0, 0, 0, 2, 0, 0, 2, 0, 0, 0, 0, 0, 2,\n",
       "          0, 0, 0, 2, 0, 1, 0, 1, 0, 0]),\n",
       "   'fare': array([ 8.05  , 51.8625, 26.55  , 16.    , 13.    ,  8.0292, 21.075 ,\n",
       "           8.05  , 18.    ,  7.8792,  7.75  ,  7.8   , 27.75  , 27.7208,\n",
       "          10.5   , 46.9   , 14.4542, 10.5   , 15.85  ,  8.05  ,  7.8542,\n",
       "          20.575 ,  7.65  ,  7.8958,  9.825 , 31.275 , 73.5   , 77.2875,\n",
       "          11.2417, 22.3583,  7.8958, 26.    ]),\n",
       "   'class': array([b'Third', b'First', b'First', b'Second', b'Second', b'Third',\n",
       "          b'Third', b'Third', b'Third', b'Third', b'Third', b'Third',\n",
       "          b'Second', b'First', b'Second', b'Third', b'Third', b'Second',\n",
       "          b'Third', b'Third', b'Third', b'Third', b'Third', b'Third',\n",
       "          b'Third', b'Third', b'Second', b'First', b'Third', b'Third',\n",
       "          b'Third', b'Second'], dtype=object),\n",
       "   'deck': array([b'unknown', b'E', b'C', b'unknown', b'D', b'unknown', b'unknown',\n",
       "          b'unknown', b'unknown', b'unknown', b'unknown', b'unknown',\n",
       "          b'unknown', b'unknown', b'F', b'unknown', b'unknown', b'unknown',\n",
       "          b'unknown', b'unknown', b'unknown', b'unknown', b'unknown',\n",
       "          b'unknown', b'unknown', b'unknown', b'unknown', b'D', b'unknown',\n",
       "          b'F', b'unknown', b'unknown'], dtype=object),\n",
       "   'embark_town': array([b'Southampton', b'Southampton', b'Southampton', b'Southampton',\n",
       "          b'Southampton', b'Queenstown', b'Southampton', b'Southampton',\n",
       "          b'Southampton', b'Queenstown', b'Queenstown', b'Southampton',\n",
       "          b'Southampton', b'Cherbourg', b'Southampton', b'Southampton',\n",
       "          b'Cherbourg', b'Southampton', b'Southampton', b'Southampton',\n",
       "          b'Southampton', b'Southampton', b'Southampton', b'Southampton',\n",
       "          b'Southampton', b'Southampton', b'Southampton', b'Southampton',\n",
       "          b'Cherbourg', b'Cherbourg', b'Cherbourg', b'Southampton'],\n",
       "         dtype=object),\n",
       "   'alone': array([b'y', b'y', b'y', b'y', b'y', b'y', b'n', b'y', b'n', b'y', b'y',\n",
       "          b'y', b'n', b'y', b'y', b'n', b'n', b'y', b'n', b'y', b'y', b'n',\n",
       "          b'y', b'y', b'n', b'n', b'n', b'n', b'n', b'n', b'y', b'n'],\n",
       "         dtype=object)},\n",
       "  array([0, 0, 1, 1, 1, 1, 0, 0, 0, 1, 1, 0, 1, 0, 1, 0, 0, 1, 1, 0, 0, 0,\n",
       "         1, 0, 0, 0, 0, 0, 1, 1, 0, 1]))]"
      ]
     },
     "execution_count": 27,
     "metadata": {},
     "output_type": "execute_result"
    }
   ],
   "source": [
    "#Tomamos un set de datos\n",
    "esUnDataset =eval_input_fn().take(1)\n",
    "#los incluimos en una lista\n",
    "list(esUnDataset.as_numpy_iterator()) "
   ]
  },
  {
   "cell_type": "markdown",
   "metadata": {},
   "source": [
    "Otra forma similar de verlo:"
   ]
  },
  {
   "cell_type": "code",
   "execution_count": 28,
   "metadata": {},
   "outputs": [
    {
     "data": {
      "text/plain": [
       "[({'sex': array([1, 1, 0, 0, 1, 0, 0, 1, 0, 0, 0, 1, 0, 1, 0, 0, 1, 0, 0, 1, 1, 1,\n",
       "          0, 1, 0, 0, 1, 1, 1, 0, 1, 0]),\n",
       "   'age': array([35., 54., 58., 55., 34., 15.,  8., 21., 18., 19., 28., 21.,  5.,\n",
       "          28., 29., 16., 26., 17., 33., 29., 20., 26., 21., 38., 20.,  2.,\n",
       "          21., 54., 12., 28., 33., 29.]),\n",
       "   'n_siblings_spouses': array([0, 0, 0, 0, 0, 0, 3, 0, 2, 0, 0, 0, 1, 0, 0, 5, 1, 0, 3, 0, 0, 1,\n",
       "          0, 0, 1, 4, 2, 0, 1, 1, 0, 1]),\n",
       "   'parch': array([0, 0, 0, 0, 0, 0, 1, 0, 0, 0, 0, 0, 2, 0, 0, 2, 0, 0, 0, 0, 0, 2,\n",
       "          0, 0, 0, 2, 0, 1, 0, 1, 0, 0]),\n",
       "   'fare': array([ 8.05  , 51.8625, 26.55  , 16.    , 13.    ,  8.0292, 21.075 ,\n",
       "           8.05  , 18.    ,  7.8792,  7.75  ,  7.8   , 27.75  , 27.7208,\n",
       "          10.5   , 46.9   , 14.4542, 10.5   , 15.85  ,  8.05  ,  7.8542,\n",
       "          20.575 ,  7.65  ,  7.8958,  9.825 , 31.275 , 73.5   , 77.2875,\n",
       "          11.2417, 22.3583,  7.8958, 26.    ]),\n",
       "   'class': array([b'Third', b'First', b'First', b'Second', b'Second', b'Third',\n",
       "          b'Third', b'Third', b'Third', b'Third', b'Third', b'Third',\n",
       "          b'Second', b'First', b'Second', b'Third', b'Third', b'Second',\n",
       "          b'Third', b'Third', b'Third', b'Third', b'Third', b'Third',\n",
       "          b'Third', b'Third', b'Second', b'First', b'Third', b'Third',\n",
       "          b'Third', b'Second'], dtype=object),\n",
       "   'deck': array([b'unknown', b'E', b'C', b'unknown', b'D', b'unknown', b'unknown',\n",
       "          b'unknown', b'unknown', b'unknown', b'unknown', b'unknown',\n",
       "          b'unknown', b'unknown', b'F', b'unknown', b'unknown', b'unknown',\n",
       "          b'unknown', b'unknown', b'unknown', b'unknown', b'unknown',\n",
       "          b'unknown', b'unknown', b'unknown', b'unknown', b'D', b'unknown',\n",
       "          b'F', b'unknown', b'unknown'], dtype=object),\n",
       "   'embark_town': array([b'Southampton', b'Southampton', b'Southampton', b'Southampton',\n",
       "          b'Southampton', b'Queenstown', b'Southampton', b'Southampton',\n",
       "          b'Southampton', b'Queenstown', b'Queenstown', b'Southampton',\n",
       "          b'Southampton', b'Cherbourg', b'Southampton', b'Southampton',\n",
       "          b'Cherbourg', b'Southampton', b'Southampton', b'Southampton',\n",
       "          b'Southampton', b'Southampton', b'Southampton', b'Southampton',\n",
       "          b'Southampton', b'Southampton', b'Southampton', b'Southampton',\n",
       "          b'Cherbourg', b'Cherbourg', b'Cherbourg', b'Southampton'],\n",
       "         dtype=object),\n",
       "   'alone': array([b'y', b'y', b'y', b'y', b'y', b'y', b'n', b'y', b'n', b'y', b'y',\n",
       "          b'y', b'n', b'y', b'y', b'n', b'n', b'y', b'n', b'y', b'y', b'n',\n",
       "          b'y', b'y', b'n', b'n', b'n', b'n', b'n', b'n', b'y', b'n'],\n",
       "         dtype=object)},\n",
       "  array([0, 0, 1, 1, 1, 1, 0, 0, 0, 1, 1, 0, 1, 0, 1, 0, 0, 1, 1, 0, 0, 0,\n",
       "         1, 0, 0, 0, 0, 0, 1, 1, 0, 1])),\n",
       " ({'sex': array([1, 0, 1, 1, 1, 1, 0, 1, 0, 1, 0, 1, 1, 0, 1, 1, 1, 1, 1, 1, 1, 1,\n",
       "          1, 1, 1, 0, 1, 1, 1, 0, 1, 0]),\n",
       "   'age': array([25. , 24. , 19. , 27. , 36.5, 42. , 22. , 30. , 40. ,  9. , 45. ,\n",
       "          28. , 61. ,  1. , 21. , 56. ,  1. , 28. , 40. , 19. , 42. , 45.5,\n",
       "          18. , 24. , 30. , 32. , 27. , 28. , 38. ,  5. , 24. ,  8. ]),\n",
       "   'n_siblings_spouses': array([0, 1, 1, 0, 0, 0, 1, 0, 0, 0, 1, 0, 0, 1, 0, 0, 2, 0, 1, 0, 0, 0,\n",
       "          0, 0, 0, 0, 0, 0, 1, 4, 0, 0]),\n",
       "   'parch': array([0, 0, 1, 0, 2, 0, 0, 0, 0, 2, 4, 0, 0, 1, 0, 0, 1, 0, 1, 0, 1, 0,\n",
       "          0, 0, 0, 0, 0, 0, 0, 2, 0, 2]),\n",
       "   'fare': array([13.    , 15.85  , 36.75  ,  7.7958, 26.    , 13.    , 66.6   ,\n",
       "           8.05  , 15.75  , 20.525 , 27.9   , 25.925 , 33.5   , 11.1333,\n",
       "           7.925 , 30.6958, 39.    , 50.    , 15.5   , 13.    ,  8.4042,\n",
       "           7.225 ,  8.05  ,  7.05  , 13.    , 76.2917, 13.    ,  7.8958,\n",
       "          90.    , 31.3875, 10.5   , 26.25  ]),\n",
       "   'class': array([b'Second', b'Third', b'Second', b'Third', b'Second', b'Second',\n",
       "          b'First', b'Third', b'Second', b'Third', b'Third', b'First',\n",
       "          b'First', b'Third', b'Third', b'First', b'Second', b'First',\n",
       "          b'Third', b'Second', b'Third', b'Third', b'Third', b'Third',\n",
       "          b'Second', b'First', b'Second', b'Third', b'First', b'Third',\n",
       "          b'Second', b'Second'], dtype=object),\n",
       "   'deck': array([b'unknown', b'unknown', b'unknown', b'unknown', b'F', b'unknown',\n",
       "          b'C', b'unknown', b'unknown', b'unknown', b'unknown', b'unknown',\n",
       "          b'B', b'unknown', b'unknown', b'A', b'F', b'A', b'unknown',\n",
       "          b'unknown', b'unknown', b'unknown', b'unknown', b'unknown',\n",
       "          b'unknown', b'D', b'unknown', b'unknown', b'C', b'unknown',\n",
       "          b'unknown', b'unknown'], dtype=object),\n",
       "   'embark_town': array([b'Southampton', b'Southampton', b'Southampton', b'Southampton',\n",
       "          b'Southampton', b'Southampton', b'Southampton', b'Southampton',\n",
       "          b'Southampton', b'Southampton', b'Southampton', b'Southampton',\n",
       "          b'Southampton', b'Southampton', b'Southampton', b'Cherbourg',\n",
       "          b'Southampton', b'Southampton', b'Queenstown', b'Southampton',\n",
       "          b'Southampton', b'Cherbourg', b'Southampton', b'Southampton',\n",
       "          b'Southampton', b'Cherbourg', b'Southampton', b'Southampton',\n",
       "          b'Southampton', b'Southampton', b'Southampton', b'Southampton'],\n",
       "         dtype=object),\n",
       "   'alone': array([b'y', b'n', b'n', b'y', b'n', b'y', b'n', b'y', b'y', b'n', b'n',\n",
       "          b'y', b'y', b'n', b'y', b'y', b'n', b'y', b'n', b'y', b'n', b'y',\n",
       "          b'y', b'y', b'y', b'y', b'y', b'y', b'n', b'n', b'y', b'n'],\n",
       "         dtype=object)},\n",
       "  array([0, 1, 0, 1, 0, 0, 1, 0, 1, 1, 0, 0, 0, 1, 0, 0, 1, 0, 0, 0, 0, 0,\n",
       "         1, 0, 0, 1, 0, 0, 1, 1, 0, 1])),\n",
       " ({'sex': array([1, 0, 1, 1, 1, 0, 0, 1, 1, 1, 1, 1, 1, 1, 0, 0, 0, 1, 1, 0, 1, 1,\n",
       "          0, 1, 0, 0, 0, 1, 1, 0, 1, 0]),\n",
       "   'age': array([29.  , 25.  , 37.  , 54.  , 62.  , 29.  , 30.  , 52.  , 65.  ,\n",
       "          19.  , 33.  , 30.  , 22.  , 42.  , 22.  , 19.  , 24.  , 28.  ,\n",
       "          23.5 ,  2.  , 28.  ,  0.92, 26.  , 54.  , 30.  , 36.  , 16.  ,\n",
       "          45.5 , 16.  , 41.  ,  2.  , 24.  ]),\n",
       "   'n_siblings_spouses': array([0, 0, 1, 1, 0, 0, 0, 1, 0, 0, 0, 0, 0, 0, 0, 1, 0, 0, 0, 1, 2, 1,\n",
       "          0, 0, 0, 0, 0, 0, 2, 0, 1, 3]),\n",
       "   'parch': array([0, 0, 1, 0, 0, 2, 0, 1, 0, 0, 0, 0, 0, 0, 0, 0, 0, 0, 0, 2, 0, 2,\n",
       "          0, 0, 0, 0, 1, 0, 0, 0, 1, 2]),\n",
       "   'fare': array([ 10.5   ,   7.775 ,  52.5542,  26.    ,  26.55  ,  15.2458,\n",
       "           86.5   ,  79.65  ,   7.75  ,   8.05  ,   8.6625,   9.5   ,\n",
       "            7.8958,  13.    ,   7.75  ,  91.0792,   8.85  ,  27.7208,\n",
       "            7.2292, 151.55  ,  23.25  , 151.55  ,   7.8542,  14.    ,\n",
       "           12.35  ,  13.    ,  57.9792,  28.5   ,  18.    , 134.5   ,\n",
       "           26.    , 263.    ]),\n",
       "   'class': array([b'Second', b'Third', b'First', b'Second', b'First', b'Third',\n",
       "          b'First', b'First', b'Third', b'Third', b'Third', b'Third',\n",
       "          b'Third', b'Second', b'Third', b'First', b'Third', b'First',\n",
       "          b'Third', b'First', b'Third', b'First', b'Third', b'Second',\n",
       "          b'Second', b'Second', b'First', b'First', b'Third', b'First',\n",
       "          b'Second', b'First'], dtype=object),\n",
       "   'deck': array([b'unknown', b'unknown', b'D', b'unknown', b'C', b'unknown', b'B',\n",
       "          b'E', b'unknown', b'unknown', b'unknown', b'unknown', b'unknown',\n",
       "          b'unknown', b'unknown', b'B', b'unknown', b'unknown', b'unknown',\n",
       "          b'C', b'unknown', b'C', b'unknown', b'unknown', b'unknown', b'D',\n",
       "          b'B', b'C', b'unknown', b'E', b'F', b'C'], dtype=object),\n",
       "   'embark_town': array([b'Southampton', b'Southampton', b'Southampton', b'Southampton',\n",
       "          b'Southampton', b'Cherbourg', b'Southampton', b'Southampton',\n",
       "          b'Queenstown', b'Southampton', b'Cherbourg', b'Southampton',\n",
       "          b'Southampton', b'Southampton', b'Queenstown', b'Cherbourg',\n",
       "          b'Southampton', b'Cherbourg', b'Cherbourg', b'Southampton',\n",
       "          b'Queenstown', b'Southampton', b'Southampton', b'Southampton',\n",
       "          b'Queenstown', b'Southampton', b'Cherbourg', b'Southampton',\n",
       "          b'Southampton', b'Cherbourg', b'Southampton', b'Southampton'],\n",
       "         dtype=object),\n",
       "   'alone': array([b'y', b'y', b'n', b'n', b'y', b'n', b'y', b'n', b'y', b'y', b'y',\n",
       "          b'y', b'y', b'y', b'y', b'n', b'y', b'y', b'y', b'n', b'n', b'n',\n",
       "          b'y', b'y', b'y', b'y', b'n', b'y', b'n', b'y', b'n', b'n'],\n",
       "         dtype=object)},\n",
       "  array([0, 0, 1, 0, 0, 1, 1, 0, 0, 1, 0, 1, 0, 1, 1, 1, 0, 0, 0, 0, 1, 1,\n",
       "         1, 0, 1, 1, 1, 0, 0, 1, 1, 1])),\n",
       " ({'sex': array([1, 1, 1, 1, 1, 1, 1, 0, 0, 1, 0, 0, 0, 1, 0, 0, 0, 1, 0, 0, 1, 0,\n",
       "          1, 0, 0, 1, 1, 0, 1, 1, 0, 1]),\n",
       "   'age': array([ 3., 42., 23., 28., 30., 25., 22.,  3., 22., 20.,  1., 35., 36.,\n",
       "          28., 28., 21., 20., 51., 33., 10., 29., 28., 28., 28., 21., 25.,\n",
       "           4., 13., 28., 28., 50., 28.]),\n",
       "   'n_siblings_spouses': array([1, 0, 0, 0, 0, 1, 0, 3, 0, 0, 0, 1, 0, 2, 0, 1, 0, 0, 1, 0, 0, 1,\n",
       "          0, 1, 2, 1, 0, 0, 1, 0, 0, 0]),\n",
       "   'parch': array([1, 0, 0, 0, 0, 0, 0, 1, 0, 0, 2, 0, 0, 0, 0, 0, 0, 0, 0, 2, 0, 1,\n",
       "          0, 0, 2, 0, 2, 1, 0, 0, 0, 0]),\n",
       "   'fare': array([ 15.9   ,   8.6625,   9.225 ,  35.    ,   7.25  ,  55.4417,\n",
       "          135.6333,  21.075 ,   7.25  ,   4.0125,  15.7417,  52.    ,\n",
       "           13.    ,   7.925 ,  12.65  ,   9.825 ,   8.6625,   7.75  ,\n",
       "           90.    ,  24.15  ,   7.875 ,  14.4   ,   7.25  ,  26.    ,\n",
       "           34.375 ,   7.775 ,  81.8583,  19.5   ,  19.9667,   8.05  ,\n",
       "           10.5   ,   7.75  ]),\n",
       "   'class': array([b'Third', b'Third', b'Third', b'First', b'Third', b'First',\n",
       "          b'First', b'Third', b'Third', b'Third', b'Third', b'First',\n",
       "          b'Second', b'Third', b'Second', b'Third', b'Third', b'Third',\n",
       "          b'First', b'Third', b'Third', b'Third', b'Third', b'Second',\n",
       "          b'Third', b'Third', b'First', b'Second', b'Third', b'Third',\n",
       "          b'Second', b'Third'], dtype=object),\n",
       "   'deck': array([b'unknown', b'unknown', b'unknown', b'C', b'unknown', b'E',\n",
       "          b'unknown', b'unknown', b'unknown', b'unknown', b'unknown',\n",
       "          b'unknown', b'unknown', b'unknown', b'unknown', b'unknown',\n",
       "          b'unknown', b'unknown', b'C', b'unknown', b'unknown', b'unknown',\n",
       "          b'unknown', b'unknown', b'unknown', b'unknown', b'A', b'unknown',\n",
       "          b'unknown', b'unknown', b'unknown', b'unknown'], dtype=object),\n",
       "   'embark_town': array([b'Southampton', b'Southampton', b'Southampton', b'Southampton',\n",
       "          b'Southampton', b'Cherbourg', b'Cherbourg', b'Southampton',\n",
       "          b'Southampton', b'Cherbourg', b'Cherbourg', b'Southampton',\n",
       "          b'Southampton', b'Southampton', b'Southampton', b'Southampton',\n",
       "          b'Southampton', b'Southampton', b'Queenstown', b'Southampton',\n",
       "          b'Southampton', b'Southampton', b'Southampton', b'Southampton',\n",
       "          b'Southampton', b'Southampton', b'Southampton', b'Southampton',\n",
       "          b'Southampton', b'Southampton', b'Southampton', b'Queenstown'],\n",
       "         dtype=object),\n",
       "   'alone': array([b'n', b'y', b'y', b'y', b'y', b'n', b'y', b'n', b'y', b'y', b'n',\n",
       "          b'n', b'y', b'n', b'y', b'n', b'y', b'y', b'n', b'n', b'y', b'n',\n",
       "          b'y', b'n', b'n', b'n', b'n', b'n', b'n', b'y', b'y', b'y'],\n",
       "         dtype=object)},\n",
       "  array([1, 0, 0, 0, 0, 1, 0, 0, 1, 0, 1, 1, 1, 0, 1, 0, 0, 0, 1, 0, 0, 0,\n",
       "         0, 1, 0, 0, 1, 1, 0, 0, 1, 0])),\n",
       " ({'sex': array([1, 1, 1, 0, 1, 1, 1, 1, 1, 1, 0, 1, 1, 0, 0, 1, 1, 1, 1, 1, 1, 1,\n",
       "          1, 1, 1, 1, 1, 1, 1, 1, 0, 1]),\n",
       "   'age': array([48., 28., 38., 22., 22., 50., 30., 21., 55., 28., 54., 28., 24.,\n",
       "          28., 16., 28., 29., 28., 36., 28., 28., 39., 28., 28., 32., 64.,\n",
       "           8., 22., 62., 28., 28., 28.]),\n",
       "   'n_siblings_spouses': array([0, 0, 0, 0, 0, 0, 0, 0, 0, 0, 1, 0, 0, 0, 0, 0, 0, 0, 0, 0, 0, 0,\n",
       "          0, 0, 1, 0, 1, 0, 0, 0, 0, 0]),\n",
       "   'parch': array([0, 0, 0, 0, 0, 0, 0, 0, 0, 0, 0, 0, 0, 0, 0, 0, 0, 0, 0, 0, 0, 0,\n",
       "          0, 0, 0, 0, 1, 0, 0, 0, 0, 0]),\n",
       "   'fare': array([13.    ,  0.    ,  8.6625,  9.8375,  7.5208,  8.05  ,  8.05  ,\n",
       "           7.25  , 30.5   , 14.4583, 78.2667, 15.1   ,  7.7958,  7.6292,\n",
       "          86.5   , 22.525 ,  7.75  ,  8.05  , 26.2875, 24.15  ,  7.225 ,\n",
       "           7.925 ,  7.2292, 14.5   , 26.    , 26.    , 36.75  ,  7.225 ,\n",
       "          26.55  , 13.5   ,  8.05  ,  7.2292]),\n",
       "   'class': array([b'Second', b'Second', b'Third', b'Third', b'Third', b'Third',\n",
       "          b'Third', b'Third', b'First', b'Third', b'First', b'Third',\n",
       "          b'Third', b'Third', b'First', b'Third', b'Third', b'Third',\n",
       "          b'First', b'Third', b'Third', b'Third', b'Third', b'Third',\n",
       "          b'Second', b'First', b'Second', b'Third', b'First', b'Second',\n",
       "          b'Third', b'Third'], dtype=object),\n",
       "   'deck': array([b'unknown', b'unknown', b'unknown', b'unknown', b'unknown',\n",
       "          b'unknown', b'unknown', b'unknown', b'C', b'unknown', b'D',\n",
       "          b'unknown', b'unknown', b'unknown', b'B', b'unknown', b'unknown',\n",
       "          b'unknown', b'E', b'unknown', b'unknown', b'unknown', b'unknown',\n",
       "          b'unknown', b'unknown', b'unknown', b'unknown', b'unknown',\n",
       "          b'unknown', b'unknown', b'unknown', b'unknown'], dtype=object),\n",
       "   'embark_town': array([b'Southampton', b'Southampton', b'Southampton', b'Southampton',\n",
       "          b'Southampton', b'Southampton', b'Southampton', b'Southampton',\n",
       "          b'Southampton', b'Cherbourg', b'Cherbourg', b'Southampton',\n",
       "          b'Southampton', b'Queenstown', b'Southampton', b'Southampton',\n",
       "          b'Queenstown', b'Southampton', b'Southampton', b'Queenstown',\n",
       "          b'Cherbourg', b'Southampton', b'Cherbourg', b'Southampton',\n",
       "          b'Southampton', b'Southampton', b'Southampton', b'Cherbourg',\n",
       "          b'Southampton', b'Southampton', b'Southampton', b'Cherbourg'],\n",
       "         dtype=object),\n",
       "   'alone': array([b'y', b'y', b'y', b'y', b'y', b'y', b'y', b'y', b'y', b'y', b'n',\n",
       "          b'y', b'y', b'y', b'y', b'y', b'y', b'y', b'y', b'y', b'y', b'y',\n",
       "          b'y', b'y', b'n', b'y', b'n', b'y', b'y', b'y', b'y', b'y'],\n",
       "         dtype=object)},\n",
       "  array([0, 0, 0, 0, 0, 0, 0, 0, 0, 0, 1, 0, 0, 0, 1, 0, 1, 0, 1, 0, 0, 0,\n",
       "         0, 0, 1, 0, 1, 1, 0, 0, 0, 0])),\n",
       " ({'sex': array([0, 1, 0, 0, 1, 0, 1, 1, 0, 1, 0, 1, 1, 1, 1, 0, 0, 1, 1, 1, 1, 1,\n",
       "          1, 0, 0, 1, 1, 0, 0, 1, 1, 1]),\n",
       "   'age': array([28., 19., 39., 28., 32., 39., 54., 28., 18., 22., 24., 28., 28.,\n",
       "          44., 28., 26.,  4., 27., 42., 21., 21., 28., 31., 24.,  2., 19.,\n",
       "          56., 28., 18., 23., 58., 40.]),\n",
       "   'n_siblings_spouses': array([0, 0, 1, 1, 0, 1, 0, 0, 0, 0, 2, 0, 0, 0, 0, 1, 2, 1, 1, 0, 0, 0,\n",
       "          1, 0, 3, 0, 0, 0, 0, 0, 0, 0]),\n",
       "   'parch': array([0, 0, 0, 0, 0, 1, 0, 0, 2, 0, 1, 0, 0, 0, 0, 0, 1, 0, 0, 0, 0, 0,\n",
       "          1, 0, 2, 0, 0, 0, 0, 0, 2, 0]),\n",
       "   'fare': array([  7.75  ,  14.5   ,  55.9   ,  14.4583,   7.925 , 110.8833,\n",
       "           26.    ,   8.7125,  79.65  ,   8.05  ,  27.    ,   7.8958,\n",
       "           42.4   ,   8.05  ,   7.75  ,  16.1   ,  39.    ,  14.4542,\n",
       "           52.5542,   7.8542,  16.1   ,   0.    ,  26.25  ,  69.3   ,\n",
       "           27.9   ,   7.8958,  35.5   ,   7.8292,   6.75  ,  13.    ,\n",
       "          113.275 ,   7.225 ]),\n",
       "   'class': array([b'Third', b'Third', b'First', b'Third', b'Third', b'First',\n",
       "          b'Second', b'Third', b'First', b'Third', b'Second', b'Third',\n",
       "          b'First', b'Third', b'Third', b'Third', b'Second', b'Third',\n",
       "          b'First', b'Third', b'Third', b'First', b'Second', b'First',\n",
       "          b'Third', b'Third', b'First', b'Third', b'Third', b'Second',\n",
       "          b'First', b'Third'], dtype=object),\n",
       "   'deck': array([b'unknown', b'unknown', b'E', b'unknown', b'unknown', b'C',\n",
       "          b'unknown', b'unknown', b'E', b'unknown', b'unknown', b'unknown',\n",
       "          b'unknown', b'unknown', b'unknown', b'unknown', b'F', b'unknown',\n",
       "          b'D', b'unknown', b'unknown', b'unknown', b'unknown', b'B',\n",
       "          b'unknown', b'unknown', b'A', b'unknown', b'unknown', b'unknown',\n",
       "          b'D', b'unknown'], dtype=object),\n",
       "   'embark_town': array([b'Queenstown', b'Southampton', b'Southampton', b'Cherbourg',\n",
       "          b'Southampton', b'Cherbourg', b'Southampton', b'Cherbourg',\n",
       "          b'Southampton', b'Southampton', b'Southampton', b'Southampton',\n",
       "          b'Southampton', b'Southampton', b'Queenstown', b'Southampton',\n",
       "          b'Southampton', b'Cherbourg', b'Southampton', b'Southampton',\n",
       "          b'Southampton', b'Southampton', b'Southampton', b'Cherbourg',\n",
       "          b'Southampton', b'Southampton', b'Cherbourg', b'Queenstown',\n",
       "          b'Queenstown', b'Southampton', b'Cherbourg', b'Cherbourg'],\n",
       "         dtype=object),\n",
       "   'alone': array([b'y', b'y', b'n', b'n', b'y', b'n', b'y', b'y', b'n', b'y', b'n',\n",
       "          b'y', b'y', b'y', b'y', b'n', b'n', b'n', b'n', b'y', b'y', b'y',\n",
       "          b'n', b'y', b'n', b'y', b'y', b'y', b'y', b'y', b'n', b'y'],\n",
       "         dtype=object)},\n",
       "  array([1, 0, 1, 0, 1, 1, 0, 0, 1, 0, 1, 0, 0, 0, 0, 0, 1, 0, 1, 0, 0, 0,\n",
       "         0, 1, 0, 0, 1, 1, 0, 0, 0, 0])),\n",
       " ({'sex': array([1, 0, 1, 1, 0, 0, 1, 1, 1, 1, 1, 1, 0, 0, 1, 0, 1, 1, 1, 1, 1, 0,\n",
       "          1, 0, 1, 1, 1, 0, 1, 1, 1, 1]),\n",
       "   'age': array([32.  , 28.  , 70.  , 24.5 , 43.  , 28.  , 25.  , 14.  , 25.  ,\n",
       "          52.  , 44.  , 42.  , 18.  , 18.  , 26.  , 45.  , 42.  , 52.  ,\n",
       "          17.  , 34.  , 20.  , 28.  , 28.5 , 48.  , 28.  , 31.  , 16.  ,\n",
       "          30.  , 19.  , 31.  ,  0.67, 18.  ]),\n",
       "   'n_siblings_spouses': array([2, 1, 0, 0, 1, 0, 1, 4, 0, 0, 0, 0, 1, 0, 1, 0, 0, 0, 1, 0, 0, 0,\n",
       "          0, 1, 0, 0, 1, 0, 1, 0, 1, 0]),\n",
       "   'parch': array([0, 0, 0, 0, 6, 0, 2, 1, 0, 0, 0, 0, 0, 1, 0, 0, 0, 0, 0, 0, 0, 0,\n",
       "          0, 3, 0, 0, 1, 0, 0, 0, 1, 0]),\n",
       "   'fare': array([ 73.5   ,  52.    ,  10.5   ,   8.05  ,  46.9   ,   8.1375,\n",
       "           41.5792,  39.6875,   7.225 ,  13.5   ,   8.05  ,   7.65  ,\n",
       "          227.525 ,  14.4542,   7.8542,  13.5   ,  26.2875,  13.    ,\n",
       "            7.0542,  13.    ,   8.6625,   7.7375,  16.1   ,  34.375 ,\n",
       "           30.    ,   7.925 ,  20.25  ,  13.    ,  53.1   ,   7.75  ,\n",
       "           14.5   ,  11.5   ]),\n",
       "   'class': array([b'Second', b'First', b'Second', b'Third', b'Third', b'Third',\n",
       "          b'Second', b'Third', b'Third', b'Second', b'Third', b'Third',\n",
       "          b'First', b'Third', b'Third', b'Second', b'First', b'Second',\n",
       "          b'Third', b'Second', b'Third', b'Third', b'Third', b'Third',\n",
       "          b'First', b'Third', b'Third', b'Second', b'First', b'Third',\n",
       "          b'Second', b'Second'], dtype=object),\n",
       "   'deck': array([b'unknown', b'C', b'unknown', b'unknown', b'unknown', b'unknown',\n",
       "          b'unknown', b'unknown', b'unknown', b'unknown', b'unknown', b'F',\n",
       "          b'C', b'unknown', b'unknown', b'unknown', b'E', b'unknown',\n",
       "          b'unknown', b'unknown', b'unknown', b'unknown', b'unknown',\n",
       "          b'unknown', b'D', b'unknown', b'unknown', b'unknown', b'D',\n",
       "          b'unknown', b'unknown', b'unknown'], dtype=object),\n",
       "   'embark_town': array([b'Southampton', b'Southampton', b'Southampton', b'Southampton',\n",
       "          b'Southampton', b'Queenstown', b'Cherbourg', b'Southampton',\n",
       "          b'Cherbourg', b'Southampton', b'Southampton', b'Southampton',\n",
       "          b'Cherbourg', b'Cherbourg', b'Southampton', b'Southampton',\n",
       "          b'Southampton', b'Southampton', b'Southampton', b'Southampton',\n",
       "          b'Southampton', b'Queenstown', b'Southampton', b'Southampton',\n",
       "          b'Southampton', b'Southampton', b'Southampton', b'Southampton',\n",
       "          b'Southampton', b'Queenstown', b'Southampton', b'Southampton'],\n",
       "         dtype=object),\n",
       "   'alone': array([b'n', b'n', b'y', b'y', b'n', b'y', b'n', b'n', b'y', b'y', b'y',\n",
       "          b'y', b'n', b'n', b'n', b'y', b'y', b'y', b'n', b'y', b'y', b'y',\n",
       "          b'y', b'n', b'y', b'y', b'n', b'y', b'n', b'y', b'n', b'y'],\n",
       "         dtype=object)},\n",
       "  array([0, 1, 0, 0, 0, 0, 0, 0, 0, 0, 0, 0, 1, 0, 0, 1, 1, 0, 0, 0, 0, 1,\n",
       "         0, 0, 1, 1, 0, 1, 0, 0, 1, 0])),\n",
       " ({'sex': array([0, 0, 1, 0, 1, 1, 0, 1, 0, 0, 1, 0, 1, 1, 1, 0, 0, 1, 1, 0, 1, 0,\n",
       "          1, 1, 1, 1, 1, 0, 0, 1, 1, 0]),\n",
       "   'age': array([33.  , 36.  , 16.  , 30.5 , 24.  , 28.  , 54.  , 28.  , 43.  ,\n",
       "          13.  , 25.  , 18.  ,  8.  ,  0.42, 27.  , 18.  ,  6.  , 43.  ,\n",
       "          38.  , 27.  ,  1.  , 62.  ,  0.83, 32.  , 20.  , 17.  , 74.  ,\n",
       "           9.  , 44.  , 28.  , 21.  , 48.  ]),\n",
       "   'n_siblings_spouses': array([0, 1, 0, 0, 0, 0, 1, 0, 0, 0, 0, 0, 4, 0, 0, 0, 4, 0, 0, 0, 0, 0,\n",
       "          1, 0, 0, 0, 0, 1, 1, 0, 1, 0]),\n",
       "   'parch': array([0, 2, 0, 0, 0, 0, 3, 0, 1, 0, 0, 0, 1, 1, 0, 0, 2, 0, 0, 1, 2, 0,\n",
       "          1, 0, 0, 0, 0, 1, 0, 0, 0, 0]),\n",
       "   'fare': array([ 86.5   , 120.    ,   7.775 ,   7.75  ,   9.5   ,   7.225 ,\n",
       "           23.    ,   7.7375, 211.3375,   7.2292,   7.25  ,   7.4958,\n",
       "           29.125 ,   8.5167,   6.975 ,   7.775 ,  31.275 ,   6.45  ,\n",
       "            0.    ,  12.475 ,  37.0042,  80.    ,  18.75  ,  56.4958,\n",
       "            7.925 ,   8.6625,   7.775 ,  15.2458,  26.    ,   7.2292,\n",
       "           11.5   ,  25.9292]),\n",
       "   'class': array([b'First', b'First', b'Third', b'Third', b'Third', b'Third',\n",
       "          b'Second', b'Third', b'First', b'Third', b'Third', b'Third',\n",
       "          b'Third', b'Third', b'Third', b'Third', b'Third', b'Third',\n",
       "          b'First', b'Third', b'Second', b'First', b'Second', b'Third',\n",
       "          b'Third', b'Third', b'Third', b'Third', b'Second', b'Third',\n",
       "          b'Second', b'First'], dtype=object),\n",
       "   'deck': array([b'B', b'B', b'unknown', b'unknown', b'unknown', b'unknown',\n",
       "          b'unknown', b'unknown', b'B', b'unknown', b'unknown', b'unknown',\n",
       "          b'unknown', b'unknown', b'unknown', b'unknown', b'unknown',\n",
       "          b'unknown', b'unknown', b'E', b'unknown', b'B', b'unknown',\n",
       "          b'unknown', b'unknown', b'unknown', b'unknown', b'unknown',\n",
       "          b'unknown', b'unknown', b'unknown', b'D'], dtype=object),\n",
       "   'embark_town': array([b'Southampton', b'Southampton', b'Southampton', b'Queenstown',\n",
       "          b'Southampton', b'Cherbourg', b'Southampton', b'Queenstown',\n",
       "          b'Southampton', b'Cherbourg', b'Southampton', b'Southampton',\n",
       "          b'Queenstown', b'Cherbourg', b'Southampton', b'Southampton',\n",
       "          b'Southampton', b'Southampton', b'Southampton', b'Southampton',\n",
       "          b'Cherbourg', b'unknown', b'Southampton', b'Southampton',\n",
       "          b'Southampton', b'Southampton', b'Southampton', b'Cherbourg',\n",
       "          b'Southampton', b'Cherbourg', b'Southampton', b'Southampton'],\n",
       "         dtype=object),\n",
       "   'alone': array([b'y', b'n', b'y', b'y', b'y', b'y', b'n', b'y', b'n', b'y', b'y',\n",
       "          b'y', b'n', b'n', b'y', b'y', b'n', b'y', b'y', b'n', b'n', b'y',\n",
       "          b'n', b'y', b'y', b'y', b'y', b'n', b'n', b'y', b'n', b'y'],\n",
       "         dtype=object)},\n",
       "  array([1, 1, 0, 0, 0, 0, 1, 0, 1, 1, 0, 1, 0, 1, 1, 0, 0, 0, 0, 1, 1, 1,\n",
       "         1, 1, 0, 0, 0, 0, 0, 0, 0, 1])),\n",
       " ({'sex': array([0, 1, 0, 0, 1, 0, 1, 1]),\n",
       "   'age': array([28., 28., 56., 25., 33., 39., 27., 26.]),\n",
       "   'n_siblings_spouses': array([8, 0, 0, 0, 0, 0, 0, 0]),\n",
       "   'parch': array([2, 0, 1, 1, 0, 5, 0, 0]),\n",
       "   'fare': array([69.55  ,  9.5   , 83.1583, 26.    ,  7.8958, 29.125 , 13.    ,\n",
       "          30.    ]),\n",
       "   'class': array([b'Third', b'Third', b'First', b'Second', b'Third', b'Third',\n",
       "          b'Second', b'First'], dtype=object),\n",
       "   'deck': array([b'unknown', b'unknown', b'C', b'unknown', b'unknown', b'unknown',\n",
       "          b'unknown', b'C'], dtype=object),\n",
       "   'embark_town': array([b'Southampton', b'Southampton', b'Cherbourg', b'Southampton',\n",
       "          b'Southampton', b'Queenstown', b'Southampton', b'Cherbourg'],\n",
       "         dtype=object),\n",
       "   'alone': array([b'n', b'y', b'n', b'n', b'y', b'n', b'y', b'y'], dtype=object)},\n",
       "  array([0, 0, 1, 1, 0, 0, 0, 1]))]"
      ]
     },
     "execution_count": 28,
     "metadata": {},
     "output_type": "execute_result"
    }
   ],
   "source": [
    "esUnDataset =eval_input_fn()\n",
    "list(esUnDataset.as_numpy_iterator()) "
   ]
  },
  {
   "cell_type": "code",
   "execution_count": 29,
   "metadata": {},
   "outputs": [
    {
     "data": {
      "text/plain": [
       "({'sex': array([1, 1, 0, 0, 1, 0, 0, 1, 0, 0, 0, 1, 0, 1, 0, 0, 1, 0, 0, 1, 1, 1,\n",
       "         0, 1, 0, 0, 1, 1, 1, 0, 1, 0]),\n",
       "  'age': array([35., 54., 58., 55., 34., 15.,  8., 21., 18., 19., 28., 21.,  5.,\n",
       "         28., 29., 16., 26., 17., 33., 29., 20., 26., 21., 38., 20.,  2.,\n",
       "         21., 54., 12., 28., 33., 29.]),\n",
       "  'n_siblings_spouses': array([0, 0, 0, 0, 0, 0, 3, 0, 2, 0, 0, 0, 1, 0, 0, 5, 1, 0, 3, 0, 0, 1,\n",
       "         0, 0, 1, 4, 2, 0, 1, 1, 0, 1]),\n",
       "  'parch': array([0, 0, 0, 0, 0, 0, 1, 0, 0, 0, 0, 0, 2, 0, 0, 2, 0, 0, 0, 0, 0, 2,\n",
       "         0, 0, 0, 2, 0, 1, 0, 1, 0, 0]),\n",
       "  'fare': array([ 8.05  , 51.8625, 26.55  , 16.    , 13.    ,  8.0292, 21.075 ,\n",
       "          8.05  , 18.    ,  7.8792,  7.75  ,  7.8   , 27.75  , 27.7208,\n",
       "         10.5   , 46.9   , 14.4542, 10.5   , 15.85  ,  8.05  ,  7.8542,\n",
       "         20.575 ,  7.65  ,  7.8958,  9.825 , 31.275 , 73.5   , 77.2875,\n",
       "         11.2417, 22.3583,  7.8958, 26.    ]),\n",
       "  'class': array([b'Third', b'First', b'First', b'Second', b'Second', b'Third',\n",
       "         b'Third', b'Third', b'Third', b'Third', b'Third', b'Third',\n",
       "         b'Second', b'First', b'Second', b'Third', b'Third', b'Second',\n",
       "         b'Third', b'Third', b'Third', b'Third', b'Third', b'Third',\n",
       "         b'Third', b'Third', b'Second', b'First', b'Third', b'Third',\n",
       "         b'Third', b'Second'], dtype=object),\n",
       "  'deck': array([b'unknown', b'E', b'C', b'unknown', b'D', b'unknown', b'unknown',\n",
       "         b'unknown', b'unknown', b'unknown', b'unknown', b'unknown',\n",
       "         b'unknown', b'unknown', b'F', b'unknown', b'unknown', b'unknown',\n",
       "         b'unknown', b'unknown', b'unknown', b'unknown', b'unknown',\n",
       "         b'unknown', b'unknown', b'unknown', b'unknown', b'D', b'unknown',\n",
       "         b'F', b'unknown', b'unknown'], dtype=object),\n",
       "  'embark_town': array([b'Southampton', b'Southampton', b'Southampton', b'Southampton',\n",
       "         b'Southampton', b'Queenstown', b'Southampton', b'Southampton',\n",
       "         b'Southampton', b'Queenstown', b'Queenstown', b'Southampton',\n",
       "         b'Southampton', b'Cherbourg', b'Southampton', b'Southampton',\n",
       "         b'Cherbourg', b'Southampton', b'Southampton', b'Southampton',\n",
       "         b'Southampton', b'Southampton', b'Southampton', b'Southampton',\n",
       "         b'Southampton', b'Southampton', b'Southampton', b'Southampton',\n",
       "         b'Cherbourg', b'Cherbourg', b'Cherbourg', b'Southampton'],\n",
       "        dtype=object),\n",
       "  'alone': array([b'y', b'y', b'y', b'y', b'y', b'y', b'n', b'y', b'n', b'y', b'y',\n",
       "         b'y', b'n', b'y', b'y', b'n', b'n', b'y', b'n', b'y', b'y', b'n',\n",
       "         b'y', b'y', b'n', b'n', b'n', b'n', b'n', b'n', b'y', b'n'],\n",
       "        dtype=object)},\n",
       " array([0, 0, 1, 1, 1, 1, 0, 0, 0, 1, 1, 0, 1, 0, 1, 0, 0, 1, 1, 0, 0, 0,\n",
       "        1, 0, 0, 0, 0, 0, 1, 1, 0, 1]))"
      ]
     },
     "execution_count": 29,
     "metadata": {},
     "output_type": "execute_result"
    }
   ],
   "source": [
    "next(esUnDataset.as_numpy_iterator())"
   ]
  }
 ],
 "metadata": {
  "colab": {
   "collapsed_sections": [],
   "name": "linear.ipynb",
   "private_outputs": true,
   "provenance": [],
   "toc_visible": true,
   "version": "0.3.2"
  },
  "kernelspec": {
   "display_name": "Python 3",
   "language": "python",
   "name": "python3"
  },
  "language_info": {
   "codemirror_mode": {
    "name": "ipython",
    "version": 3
   },
   "file_extension": ".py",
   "mimetype": "text/x-python",
   "name": "python",
   "nbconvert_exporter": "python",
   "pygments_lexer": "ipython3",
   "version": "3.7.7"
  }
 },
 "nbformat": 4,
 "nbformat_minor": 1
}
