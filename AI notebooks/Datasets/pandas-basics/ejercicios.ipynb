{
 "cells": [
  {
   "cell_type": "code",
   "execution_count": 3,
   "metadata": {},
   "outputs": [],
   "source": [
    "import pandas as pd\n",
    "import numpy as np"
   ]
  },
  {
   "cell_type": "markdown",
   "metadata": {},
   "source": [
    "# 1. Archivos\n",
    "## 1.1 Lee datos\n",
    "Lee un Dataframe sin especificar el indice"
   ]
  },
  {
   "cell_type": "code",
   "execution_count": 4,
   "metadata": {},
   "outputs": [
    {
     "data": {
      "text/html": [
       "<div>\n",
       "<style scoped>\n",
       "    .dataframe tbody tr th:only-of-type {\n",
       "        vertical-align: middle;\n",
       "    }\n",
       "\n",
       "    .dataframe tbody tr th {\n",
       "        vertical-align: top;\n",
       "    }\n",
       "\n",
       "    .dataframe thead th {\n",
       "        text-align: right;\n",
       "    }\n",
       "</style>\n",
       "<table border=\"1\" class=\"dataframe\">\n",
       "  <thead>\n",
       "    <tr style=\"text-align: right;\">\n",
       "      <th></th>\n",
       "      <th>title</th>\n",
       "      <th>year</th>\n",
       "      <th>name</th>\n",
       "      <th>type</th>\n",
       "      <th>character</th>\n",
       "      <th>n</th>\n",
       "    </tr>\n",
       "  </thead>\n",
       "  <tbody>\n",
       "    <tr>\n",
       "      <th>0</th>\n",
       "      <td>Closet Monster</td>\n",
       "      <td>2015</td>\n",
       "      <td>Buffy #1</td>\n",
       "      <td>actor</td>\n",
       "      <td>Buffy 4</td>\n",
       "      <td>31.0</td>\n",
       "    </tr>\n",
       "    <tr>\n",
       "      <th>1</th>\n",
       "      <td>Suuri illusioni</td>\n",
       "      <td>1985</td>\n",
       "      <td>Homo $</td>\n",
       "      <td>actor</td>\n",
       "      <td>Guests</td>\n",
       "      <td>22.0</td>\n",
       "    </tr>\n",
       "    <tr>\n",
       "      <th>2</th>\n",
       "      <td>Battle of the Sexes</td>\n",
       "      <td>2017</td>\n",
       "      <td>$hutter</td>\n",
       "      <td>actor</td>\n",
       "      <td>Bobby Riggs Fan</td>\n",
       "      <td>10.0</td>\n",
       "    </tr>\n",
       "    <tr>\n",
       "      <th>3</th>\n",
       "      <td>Secret in Their Eyes</td>\n",
       "      <td>2015</td>\n",
       "      <td>$hutter</td>\n",
       "      <td>actor</td>\n",
       "      <td>2002 Dodger Fan</td>\n",
       "      <td>NaN</td>\n",
       "    </tr>\n",
       "    <tr>\n",
       "      <th>4</th>\n",
       "      <td>Steve Jobs</td>\n",
       "      <td>2015</td>\n",
       "      <td>$hutter</td>\n",
       "      <td>actor</td>\n",
       "      <td>1988 Opera House Patron</td>\n",
       "      <td>NaN</td>\n",
       "    </tr>\n",
       "  </tbody>\n",
       "</table>\n",
       "</div>"
      ],
      "text/plain": [
       "                  title  year      name   type                character     n\n",
       "0        Closet Monster  2015  Buffy #1  actor                  Buffy 4  31.0\n",
       "1       Suuri illusioni  1985    Homo $  actor                   Guests  22.0\n",
       "2   Battle of the Sexes  2017   $hutter  actor          Bobby Riggs Fan  10.0\n",
       "3  Secret in Their Eyes  2015   $hutter  actor          2002 Dodger Fan   NaN\n",
       "4            Steve Jobs  2015   $hutter  actor  1988 Opera House Patron   NaN"
      ]
     },
     "execution_count": 4,
     "metadata": {},
     "output_type": "execute_result"
    }
   ],
   "source": [
    "casts = pd.read_csv('./data/cast.csv', index_col=None)\n",
    "titles =pd.read_csv('./data/titles.csv', index_col =None)\n",
    "casts.head()"
   ]
  },
  {
   "cell_type": "code",
   "execution_count": 5,
   "metadata": {},
   "outputs": [
    {
     "data": {
      "text/html": [
       "<div>\n",
       "<style scoped>\n",
       "    .dataframe tbody tr th:only-of-type {\n",
       "        vertical-align: middle;\n",
       "    }\n",
       "\n",
       "    .dataframe tbody tr th {\n",
       "        vertical-align: top;\n",
       "    }\n",
       "\n",
       "    .dataframe thead th {\n",
       "        text-align: right;\n",
       "    }\n",
       "</style>\n",
       "<table border=\"1\" class=\"dataframe\">\n",
       "  <thead>\n",
       "    <tr style=\"text-align: right;\">\n",
       "      <th></th>\n",
       "      <th>title</th>\n",
       "      <th>year</th>\n",
       "    </tr>\n",
       "  </thead>\n",
       "  <tbody>\n",
       "    <tr>\n",
       "      <th>49995</th>\n",
       "      <td>Rebel</td>\n",
       "      <td>1970</td>\n",
       "    </tr>\n",
       "    <tr>\n",
       "      <th>49996</th>\n",
       "      <td>Suzanne</td>\n",
       "      <td>1996</td>\n",
       "    </tr>\n",
       "    <tr>\n",
       "      <th>49997</th>\n",
       "      <td>Bomba</td>\n",
       "      <td>2013</td>\n",
       "    </tr>\n",
       "    <tr>\n",
       "      <th>49998</th>\n",
       "      <td>Aao Jao Ghar Tumhara</td>\n",
       "      <td>1984</td>\n",
       "    </tr>\n",
       "    <tr>\n",
       "      <th>49999</th>\n",
       "      <td>Mrs. Munck</td>\n",
       "      <td>1995</td>\n",
       "    </tr>\n",
       "  </tbody>\n",
       "</table>\n",
       "</div>"
      ],
      "text/plain": [
       "                      title  year\n",
       "49995                 Rebel  1970\n",
       "49996               Suzanne  1996\n",
       "49997                 Bomba  2013\n",
       "49998  Aao Jao Ghar Tumhara  1984\n",
       "49999            Mrs. Munck  1995"
      ]
     },
     "execution_count": 5,
     "metadata": {},
     "output_type": "execute_result"
    }
   ],
   "source": [
    "titles.tail()"
   ]
  },
  {
   "cell_type": "code",
   "execution_count": 6,
   "metadata": {},
   "outputs": [
    {
     "data": {
      "text/plain": [
       "title         object\n",
       "year           int64\n",
       "name          object\n",
       "type          object\n",
       "character     object\n",
       "n            float64\n",
       "dtype: object"
      ]
     },
     "execution_count": 6,
     "metadata": {},
     "output_type": "execute_result"
    }
   ],
   "source": [
    "casts.dtypes"
   ]
  },
  {
   "cell_type": "markdown",
   "metadata": {},
   "source": [
    "Vemos que se crea un indice por defecto"
   ]
  },
  {
   "cell_type": "code",
   "execution_count": 7,
   "metadata": {},
   "outputs": [
    {
     "data": {
      "text/plain": [
       "RangeIndex(start=0, stop=75001, step=1)"
      ]
     },
     "execution_count": 7,
     "metadata": {},
     "output_type": "execute_result"
    }
   ],
   "source": [
    "casts.index"
   ]
  },
  {
   "cell_type": "code",
   "execution_count": 8,
   "metadata": {},
   "outputs": [
    {
     "data": {
      "text/plain": [
       "Index(['title', 'year', 'name', 'type', 'character', 'n'], dtype='object')"
      ]
     },
     "execution_count": 8,
     "metadata": {},
     "output_type": "execute_result"
    }
   ],
   "source": [
    "casts.columns"
   ]
  },
  {
   "cell_type": "markdown",
   "metadata": {},
   "source": [
    "Por defecto cuando escribimos un DataFrame nos muestra las 5 primeras y 5 ultimas filas. Podemos cambiar este valor por defecto con `set_options`"
   ]
  },
  {
   "cell_type": "code",
   "execution_count": 9,
   "metadata": {},
   "outputs": [
    {
     "data": {
      "text/html": [
       "<div>\n",
       "<style scoped>\n",
       "    .dataframe tbody tr th:only-of-type {\n",
       "        vertical-align: middle;\n",
       "    }\n",
       "\n",
       "    .dataframe tbody tr th {\n",
       "        vertical-align: top;\n",
       "    }\n",
       "\n",
       "    .dataframe thead th {\n",
       "        text-align: right;\n",
       "    }\n",
       "</style>\n",
       "<table border=\"1\" class=\"dataframe\">\n",
       "  <thead>\n",
       "    <tr style=\"text-align: right;\">\n",
       "      <th></th>\n",
       "      <th>title</th>\n",
       "      <th>year</th>\n",
       "    </tr>\n",
       "  </thead>\n",
       "  <tbody>\n",
       "    <tr>\n",
       "      <th>0</th>\n",
       "      <td>The Rising Son</td>\n",
       "      <td>1990</td>\n",
       "    </tr>\n",
       "    <tr>\n",
       "      <th>1</th>\n",
       "      <td>The Thousand Plane Raid</td>\n",
       "      <td>1969</td>\n",
       "    </tr>\n",
       "    <tr>\n",
       "      <th>2</th>\n",
       "      <td>Crucea de piatra</td>\n",
       "      <td>1993</td>\n",
       "    </tr>\n",
       "    <tr>\n",
       "      <th>3</th>\n",
       "      <td>Country</td>\n",
       "      <td>2000</td>\n",
       "    </tr>\n",
       "    <tr>\n",
       "      <th>4</th>\n",
       "      <td>Gaiking II</td>\n",
       "      <td>2011</td>\n",
       "    </tr>\n",
       "    <tr>\n",
       "      <th>...</th>\n",
       "      <td>...</td>\n",
       "      <td>...</td>\n",
       "    </tr>\n",
       "    <tr>\n",
       "      <th>49995</th>\n",
       "      <td>Rebel</td>\n",
       "      <td>1970</td>\n",
       "    </tr>\n",
       "    <tr>\n",
       "      <th>49996</th>\n",
       "      <td>Suzanne</td>\n",
       "      <td>1996</td>\n",
       "    </tr>\n",
       "    <tr>\n",
       "      <th>49997</th>\n",
       "      <td>Bomba</td>\n",
       "      <td>2013</td>\n",
       "    </tr>\n",
       "    <tr>\n",
       "      <th>49998</th>\n",
       "      <td>Aao Jao Ghar Tumhara</td>\n",
       "      <td>1984</td>\n",
       "    </tr>\n",
       "    <tr>\n",
       "      <th>49999</th>\n",
       "      <td>Mrs. Munck</td>\n",
       "      <td>1995</td>\n",
       "    </tr>\n",
       "  </tbody>\n",
       "</table>\n",
       "<p>50000 rows × 2 columns</p>\n",
       "</div>"
      ],
      "text/plain": [
       "                         title  year\n",
       "0               The Rising Son  1990\n",
       "1      The Thousand Plane Raid  1969\n",
       "2             Crucea de piatra  1993\n",
       "3                      Country  2000\n",
       "4                   Gaiking II  2011\n",
       "...                        ...   ...\n",
       "49995                    Rebel  1970\n",
       "49996                  Suzanne  1996\n",
       "49997                    Bomba  2013\n",
       "49998     Aao Jao Ghar Tumhara  1984\n",
       "49999               Mrs. Munck  1995\n",
       "\n",
       "[50000 rows x 2 columns]"
      ]
     },
     "execution_count": 9,
     "metadata": {},
     "output_type": "execute_result"
    }
   ],
   "source": [
    "titles"
   ]
  },
  {
   "cell_type": "code",
   "execution_count": 10,
   "metadata": {},
   "outputs": [
    {
     "data": {
      "text/html": [
       "<div>\n",
       "<style scoped>\n",
       "    .dataframe tbody tr th:only-of-type {\n",
       "        vertical-align: middle;\n",
       "    }\n",
       "\n",
       "    .dataframe tbody tr th {\n",
       "        vertical-align: top;\n",
       "    }\n",
       "\n",
       "    .dataframe thead th {\n",
       "        text-align: right;\n",
       "    }\n",
       "</style>\n",
       "<table border=\"1\" class=\"dataframe\">\n",
       "  <thead>\n",
       "    <tr style=\"text-align: right;\">\n",
       "      <th></th>\n",
       "      <th>title</th>\n",
       "      <th>year</th>\n",
       "    </tr>\n",
       "  </thead>\n",
       "  <tbody>\n",
       "    <tr>\n",
       "      <th>0</th>\n",
       "      <td>The Rising Son</td>\n",
       "      <td>1990</td>\n",
       "    </tr>\n",
       "    <tr>\n",
       "      <th>1</th>\n",
       "      <td>The Thousand Plane Raid</td>\n",
       "      <td>1969</td>\n",
       "    </tr>\n",
       "    <tr>\n",
       "      <th>...</th>\n",
       "      <td>...</td>\n",
       "      <td>...</td>\n",
       "    </tr>\n",
       "    <tr>\n",
       "      <th>49998</th>\n",
       "      <td>Aao Jao Ghar Tumhara</td>\n",
       "      <td>1984</td>\n",
       "    </tr>\n",
       "    <tr>\n",
       "      <th>49999</th>\n",
       "      <td>Mrs. Munck</td>\n",
       "      <td>1995</td>\n",
       "    </tr>\n",
       "  </tbody>\n",
       "</table>\n",
       "<p>50000 rows × 2 columns</p>\n",
       "</div>"
      ],
      "text/plain": [
       "                         title  year\n",
       "0               The Rising Son  1990\n",
       "1      The Thousand Plane Raid  1969\n",
       "...                        ...   ...\n",
       "49998     Aao Jao Ghar Tumhara  1984\n",
       "49999               Mrs. Munck  1995\n",
       "\n",
       "[50000 rows x 2 columns]"
      ]
     },
     "execution_count": 10,
     "metadata": {},
     "output_type": "execute_result"
    }
   ],
   "source": [
    "pd.set_option('max_rows', 4, 'max_columns', 10)\n",
    "titles"
   ]
  },
  {
   "cell_type": "markdown",
   "metadata": {},
   "source": [
    "Numero de filas de un Dataframe"
   ]
  },
  {
   "cell_type": "code",
   "execution_count": 11,
   "metadata": {},
   "outputs": [
    {
     "data": {
      "text/plain": [
       "50000"
      ]
     },
     "execution_count": 11,
     "metadata": {},
     "output_type": "execute_result"
    }
   ],
   "source": [
    "len(titles)"
   ]
  },
  {
   "cell_type": "code",
   "execution_count": null,
   "metadata": {},
   "outputs": [],
   "source": []
  },
  {
   "cell_type": "code",
   "execution_count": 12,
   "metadata": {},
   "outputs": [
    {
     "data": {
      "text/html": [
       "<div>\n",
       "<style scoped>\n",
       "    .dataframe tbody tr th:only-of-type {\n",
       "        vertical-align: middle;\n",
       "    }\n",
       "\n",
       "    .dataframe tbody tr th {\n",
       "        vertical-align: top;\n",
       "    }\n",
       "\n",
       "    .dataframe thead th {\n",
       "        text-align: right;\n",
       "    }\n",
       "</style>\n",
       "<table border=\"1\" class=\"dataframe\">\n",
       "  <thead>\n",
       "    <tr style=\"text-align: right;\">\n",
       "      <th></th>\n",
       "      <th>0</th>\n",
       "      <th>1</th>\n",
       "      <th>2</th>\n",
       "      <th>3</th>\n",
       "      <th>4</th>\n",
       "    </tr>\n",
       "  </thead>\n",
       "  <tbody>\n",
       "    <tr>\n",
       "      <th>0</th>\n",
       "      <td>1</td>\n",
       "      <td>2</td>\n",
       "      <td>3</td>\n",
       "      <td>4</td>\n",
       "      <td>hello</td>\n",
       "    </tr>\n",
       "    <tr>\n",
       "      <th>1</th>\n",
       "      <td>5</td>\n",
       "      <td>6</td>\n",
       "      <td>7</td>\n",
       "      <td>8</td>\n",
       "      <td>world</td>\n",
       "    </tr>\n",
       "    <tr>\n",
       "      <th>2</th>\n",
       "      <td>9</td>\n",
       "      <td>10</td>\n",
       "      <td>11</td>\n",
       "      <td>12</td>\n",
       "      <td>foo</td>\n",
       "    </tr>\n",
       "  </tbody>\n",
       "</table>\n",
       "</div>"
      ],
      "text/plain": [
       "   0   1   2   3      4\n",
       "0  1   2   3   4  hello\n",
       "1  5   6   7   8  world\n",
       "2  9  10  11  12    foo"
      ]
     },
     "execution_count": 12,
     "metadata": {},
     "output_type": "execute_result"
    }
   ],
   "source": [
    "ex2=pd.read_csv('./data/ex2.csv', header=None)\n",
    "ex2"
   ]
  },
  {
   "cell_type": "code",
   "execution_count": 13,
   "metadata": {},
   "outputs": [
    {
     "data": {
      "text/html": [
       "<div>\n",
       "<style scoped>\n",
       "    .dataframe tbody tr th:only-of-type {\n",
       "        vertical-align: middle;\n",
       "    }\n",
       "\n",
       "    .dataframe tbody tr th {\n",
       "        vertical-align: top;\n",
       "    }\n",
       "\n",
       "    .dataframe thead th {\n",
       "        text-align: right;\n",
       "    }\n",
       "</style>\n",
       "<table border=\"1\" class=\"dataframe\">\n",
       "  <thead>\n",
       "    <tr style=\"text-align: right;\">\n",
       "      <th></th>\n",
       "      <th>a</th>\n",
       "      <th>b</th>\n",
       "      <th>c</th>\n",
       "      <th>d</th>\n",
       "      <th>message</th>\n",
       "    </tr>\n",
       "  </thead>\n",
       "  <tbody>\n",
       "    <tr>\n",
       "      <th>0</th>\n",
       "      <td>1</td>\n",
       "      <td>2</td>\n",
       "      <td>3</td>\n",
       "      <td>4</td>\n",
       "      <td>hello</td>\n",
       "    </tr>\n",
       "    <tr>\n",
       "      <th>1</th>\n",
       "      <td>5</td>\n",
       "      <td>6</td>\n",
       "      <td>7</td>\n",
       "      <td>8</td>\n",
       "      <td>world</td>\n",
       "    </tr>\n",
       "    <tr>\n",
       "      <th>2</th>\n",
       "      <td>9</td>\n",
       "      <td>10</td>\n",
       "      <td>11</td>\n",
       "      <td>12</td>\n",
       "      <td>foo</td>\n",
       "    </tr>\n",
       "  </tbody>\n",
       "</table>\n",
       "</div>"
      ],
      "text/plain": [
       "   a   b   c   d message\n",
       "0  1   2   3   4   hello\n",
       "1  5   6   7   8   world\n",
       "2  9  10  11  12     foo"
      ]
     },
     "execution_count": 13,
     "metadata": {},
     "output_type": "execute_result"
    }
   ],
   "source": [
    "ex2=pd.read_csv('./data/ex2.csv', names=['a', 'b', 'c', 'd', 'message'])\n",
    "ex2"
   ]
  },
  {
   "cell_type": "code",
   "execution_count": 14,
   "metadata": {},
   "outputs": [
    {
     "data": {
      "text/html": [
       "<div>\n",
       "<style scoped>\n",
       "    .dataframe tbody tr th:only-of-type {\n",
       "        vertical-align: middle;\n",
       "    }\n",
       "\n",
       "    .dataframe tbody tr th {\n",
       "        vertical-align: top;\n",
       "    }\n",
       "\n",
       "    .dataframe thead th {\n",
       "        text-align: right;\n",
       "    }\n",
       "</style>\n",
       "<table border=\"1\" class=\"dataframe\">\n",
       "  <thead>\n",
       "    <tr style=\"text-align: right;\">\n",
       "      <th></th>\n",
       "      <th>a</th>\n",
       "      <th>b</th>\n",
       "      <th>c</th>\n",
       "      <th>d</th>\n",
       "    </tr>\n",
       "    <tr>\n",
       "      <th>message</th>\n",
       "      <th></th>\n",
       "      <th></th>\n",
       "      <th></th>\n",
       "      <th></th>\n",
       "    </tr>\n",
       "  </thead>\n",
       "  <tbody>\n",
       "    <tr>\n",
       "      <th>hello</th>\n",
       "      <td>1</td>\n",
       "      <td>2</td>\n",
       "      <td>3</td>\n",
       "      <td>4</td>\n",
       "    </tr>\n",
       "    <tr>\n",
       "      <th>world</th>\n",
       "      <td>5</td>\n",
       "      <td>6</td>\n",
       "      <td>7</td>\n",
       "      <td>8</td>\n",
       "    </tr>\n",
       "    <tr>\n",
       "      <th>foo</th>\n",
       "      <td>9</td>\n",
       "      <td>10</td>\n",
       "      <td>11</td>\n",
       "      <td>12</td>\n",
       "    </tr>\n",
       "  </tbody>\n",
       "</table>\n",
       "</div>"
      ],
      "text/plain": [
       "         a   b   c   d\n",
       "message               \n",
       "hello    1   2   3   4\n",
       "world    5   6   7   8\n",
       "foo      9  10  11  12"
      ]
     },
     "execution_count": 14,
     "metadata": {},
     "output_type": "execute_result"
    }
   ],
   "source": [
    "ex2=pd.read_csv('./data/ex2.csv', names=['a', 'b', 'c', 'd', 'message'], index_col='message')\n",
    "ex2"
   ]
  },
  {
   "cell_type": "markdown",
   "metadata": {},
   "source": [
    "## 1.2 Escribe datos"
   ]
  },
  {
   "cell_type": "code",
   "execution_count": 15,
   "metadata": {},
   "outputs": [],
   "source": [
    "ex2.to_csv('d_out2.csv', header=False, index=False)"
   ]
  },
  {
   "cell_type": "code",
   "execution_count": 16,
   "metadata": {},
   "outputs": [],
   "source": [
    "ex2.to_csv('d_out21.csv', header=True, index=False)"
   ]
  },
  {
   "cell_type": "code",
   "execution_count": 17,
   "metadata": {},
   "outputs": [],
   "source": [
    "ex2.to_csv('d_out22.csv', header=True, index=True)"
   ]
  },
  {
   "cell_type": "markdown",
   "metadata": {},
   "source": [
    "# 2. Operaciones\n",
    "## 2.1 Selecciona elementos"
   ]
  },
  {
   "cell_type": "markdown",
   "metadata": {},
   "source": [
    "Obtiene un Series con la columna title"
   ]
  },
  {
   "cell_type": "code",
   "execution_count": 18,
   "metadata": {},
   "outputs": [
    {
     "data": {
      "text/plain": [
       "pandas.core.series.Series"
      ]
     },
     "execution_count": 18,
     "metadata": {},
     "output_type": "execute_result"
    }
   ],
   "source": [
    "t = titles['title']\n",
    "type(t)"
   ]
  },
  {
   "cell_type": "code",
   "execution_count": 19,
   "metadata": {},
   "outputs": [
    {
     "data": {
      "text/plain": [
       "0             The Rising Son\n",
       "1    The Thousand Plane Raid\n",
       "              ...           \n",
       "3                    Country\n",
       "4                 Gaiking II\n",
       "Name: title, Length: 5, dtype: object"
      ]
     },
     "execution_count": 19,
     "metadata": {},
     "output_type": "execute_result"
    }
   ],
   "source": [
    "t.head()"
   ]
  },
  {
   "cell_type": "markdown",
   "metadata": {},
   "source": [
    "Accede a un valor por posicion. Aqui accedemos a la cuarta posicion"
   ]
  },
  {
   "cell_type": "code",
   "execution_count": 20,
   "metadata": {},
   "outputs": [
    {
     "data": {
      "text/plain": [
       "title    Country\n",
       "year        2000\n",
       "Name: 3, dtype: object"
      ]
     },
     "execution_count": 20,
     "metadata": {},
     "output_type": "execute_result"
    }
   ],
   "source": [
    "titles.iloc[3]"
   ]
  },
  {
   "cell_type": "code",
   "execution_count": 21,
   "metadata": {},
   "outputs": [
    {
     "data": {
      "text/html": [
       "<div>\n",
       "<style scoped>\n",
       "    .dataframe tbody tr th:only-of-type {\n",
       "        vertical-align: middle;\n",
       "    }\n",
       "\n",
       "    .dataframe tbody tr th {\n",
       "        vertical-align: top;\n",
       "    }\n",
       "\n",
       "    .dataframe thead th {\n",
       "        text-align: right;\n",
       "    }\n",
       "</style>\n",
       "<table border=\"1\" class=\"dataframe\">\n",
       "  <thead>\n",
       "    <tr style=\"text-align: right;\">\n",
       "      <th></th>\n",
       "      <th>title</th>\n",
       "      <th>year</th>\n",
       "    </tr>\n",
       "  </thead>\n",
       "  <tbody>\n",
       "    <tr>\n",
       "      <th>3</th>\n",
       "      <td>Country</td>\n",
       "      <td>2000</td>\n",
       "    </tr>\n",
       "    <tr>\n",
       "      <th>4</th>\n",
       "      <td>Gaiking II</td>\n",
       "      <td>2011</td>\n",
       "    </tr>\n",
       "  </tbody>\n",
       "</table>\n",
       "</div>"
      ],
      "text/plain": [
       "        title  year\n",
       "3     Country  2000\n",
       "4  Gaiking II  2011"
      ]
     },
     "execution_count": 21,
     "metadata": {},
     "output_type": "execute_result"
    }
   ],
   "source": [
    "titles.iloc[3:5]"
   ]
  },
  {
   "cell_type": "markdown",
   "metadata": {},
   "source": [
    "Podemos usar el indice para acceder a una posicion"
   ]
  },
  {
   "cell_type": "code",
   "execution_count": 22,
   "metadata": {},
   "outputs": [
    {
     "data": {
      "text/plain": [
       "title    Country\n",
       "year        2000\n",
       "Name: 3, dtype: object"
      ]
     },
     "execution_count": 22,
     "metadata": {},
     "output_type": "execute_result"
    }
   ],
   "source": [
    "titles.loc[3]"
   ]
  },
  {
   "cell_type": "markdown",
   "metadata": {},
   "source": [
    "Creamos un indice. Ahora la cuarta fila se corresponde con el valor del indice 4:"
   ]
  },
  {
   "cell_type": "code",
   "execution_count": 23,
   "metadata": {},
   "outputs": [
    {
     "data": {
      "text/plain": [
       "title    Country\n",
       "year        2000\n",
       "Name: 4, dtype: object"
      ]
     },
     "execution_count": 23,
     "metadata": {},
     "output_type": "execute_result"
    }
   ],
   "source": [
    "titles.index=np.arange(len(titles))+1\n",
    "titles.loc[4]"
   ]
  },
  {
   "cell_type": "code",
   "execution_count": 24,
   "metadata": {},
   "outputs": [
    {
     "data": {
      "text/html": [
       "<div>\n",
       "<style scoped>\n",
       "    .dataframe tbody tr th:only-of-type {\n",
       "        vertical-align: middle;\n",
       "    }\n",
       "\n",
       "    .dataframe tbody tr th {\n",
       "        vertical-align: top;\n",
       "    }\n",
       "\n",
       "    .dataframe thead th {\n",
       "        text-align: right;\n",
       "    }\n",
       "</style>\n",
       "<table border=\"1\" class=\"dataframe\">\n",
       "  <thead>\n",
       "    <tr style=\"text-align: right;\">\n",
       "      <th></th>\n",
       "      <th>title</th>\n",
       "      <th>year</th>\n",
       "    </tr>\n",
       "  </thead>\n",
       "  <tbody>\n",
       "    <tr>\n",
       "      <th>3</th>\n",
       "      <td>Crucea de piatra</td>\n",
       "      <td>1993</td>\n",
       "    </tr>\n",
       "    <tr>\n",
       "      <th>4</th>\n",
       "      <td>Country</td>\n",
       "      <td>2000</td>\n",
       "    </tr>\n",
       "    <tr>\n",
       "      <th>5</th>\n",
       "      <td>Gaiking II</td>\n",
       "      <td>2011</td>\n",
       "    </tr>\n",
       "  </tbody>\n",
       "</table>\n",
       "</div>"
      ],
      "text/plain": [
       "              title  year\n",
       "3  Crucea de piatra  1993\n",
       "4           Country  2000\n",
       "5        Gaiking II  2011"
      ]
     },
     "execution_count": 24,
     "metadata": {},
     "output_type": "execute_result"
    }
   ],
   "source": [
    "titles.iloc[2:5,:]"
   ]
  },
  {
   "cell_type": "code",
   "execution_count": 25,
   "metadata": {},
   "outputs": [
    {
     "data": {
      "text/html": [
       "<div>\n",
       "<style scoped>\n",
       "    .dataframe tbody tr th:only-of-type {\n",
       "        vertical-align: middle;\n",
       "    }\n",
       "\n",
       "    .dataframe tbody tr th {\n",
       "        vertical-align: top;\n",
       "    }\n",
       "\n",
       "    .dataframe thead th {\n",
       "        text-align: right;\n",
       "    }\n",
       "</style>\n",
       "<table border=\"1\" class=\"dataframe\">\n",
       "  <thead>\n",
       "    <tr style=\"text-align: right;\">\n",
       "      <th></th>\n",
       "      <th>title</th>\n",
       "      <th>year</th>\n",
       "    </tr>\n",
       "  </thead>\n",
       "  <tbody>\n",
       "    <tr>\n",
       "      <th>2</th>\n",
       "      <td>The Thousand Plane Raid</td>\n",
       "      <td>1969</td>\n",
       "    </tr>\n",
       "    <tr>\n",
       "      <th>3</th>\n",
       "      <td>Crucea de piatra</td>\n",
       "      <td>1993</td>\n",
       "    </tr>\n",
       "    <tr>\n",
       "      <th>4</th>\n",
       "      <td>Country</td>\n",
       "      <td>2000</td>\n",
       "    </tr>\n",
       "    <tr>\n",
       "      <th>5</th>\n",
       "      <td>Gaiking II</td>\n",
       "      <td>2011</td>\n",
       "    </tr>\n",
       "  </tbody>\n",
       "</table>\n",
       "</div>"
      ],
      "text/plain": [
       "                     title  year\n",
       "2  The Thousand Plane Raid  1969\n",
       "3         Crucea de piatra  1993\n",
       "4                  Country  2000\n",
       "5               Gaiking II  2011"
      ]
     },
     "execution_count": 25,
     "metadata": {},
     "output_type": "execute_result"
    }
   ],
   "source": [
    "titles.loc[2:5,:]"
   ]
  },
  {
   "cell_type": "markdown",
   "metadata": {},
   "source": [
    "Seleccionamos unas posiciones \"sueltas\""
   ]
  },
  {
   "cell_type": "code",
   "execution_count": 26,
   "metadata": {},
   "outputs": [
    {
     "data": {
      "text/html": [
       "<div>\n",
       "<style scoped>\n",
       "    .dataframe tbody tr th:only-of-type {\n",
       "        vertical-align: middle;\n",
       "    }\n",
       "\n",
       "    .dataframe tbody tr th {\n",
       "        vertical-align: top;\n",
       "    }\n",
       "\n",
       "    .dataframe thead th {\n",
       "        text-align: right;\n",
       "    }\n",
       "</style>\n",
       "<table border=\"1\" class=\"dataframe\">\n",
       "  <thead>\n",
       "    <tr style=\"text-align: right;\">\n",
       "      <th></th>\n",
       "      <th>title</th>\n",
       "      <th>year</th>\n",
       "    </tr>\n",
       "  </thead>\n",
       "  <tbody>\n",
       "    <tr>\n",
       "      <th>2</th>\n",
       "      <td>The Thousand Plane Raid</td>\n",
       "      <td>1969</td>\n",
       "    </tr>\n",
       "    <tr>\n",
       "      <th>4</th>\n",
       "      <td>Country</td>\n",
       "      <td>2000</td>\n",
       "    </tr>\n",
       "    <tr>\n",
       "      <th>6</th>\n",
       "      <td>Medusa (IV)</td>\n",
       "      <td>2015</td>\n",
       "    </tr>\n",
       "  </tbody>\n",
       "</table>\n",
       "</div>"
      ],
      "text/plain": [
       "                     title  year\n",
       "2  The Thousand Plane Raid  1969\n",
       "4                  Country  2000\n",
       "6              Medusa (IV)  2015"
      ]
     },
     "execution_count": 26,
     "metadata": {},
     "output_type": "execute_result"
    }
   ],
   "source": [
    "titles.loc[[2,4,6],:]"
   ]
  },
  {
   "cell_type": "code",
   "execution_count": 27,
   "metadata": {},
   "outputs": [
    {
     "data": {
      "text/html": [
       "<div>\n",
       "<style scoped>\n",
       "    .dataframe tbody tr th:only-of-type {\n",
       "        vertical-align: middle;\n",
       "    }\n",
       "\n",
       "    .dataframe tbody tr th {\n",
       "        vertical-align: top;\n",
       "    }\n",
       "\n",
       "    .dataframe thead th {\n",
       "        text-align: right;\n",
       "    }\n",
       "</style>\n",
       "<table border=\"1\" class=\"dataframe\">\n",
       "  <thead>\n",
       "    <tr style=\"text-align: right;\">\n",
       "      <th></th>\n",
       "      <th>title</th>\n",
       "      <th>year</th>\n",
       "    </tr>\n",
       "  </thead>\n",
       "  <tbody>\n",
       "    <tr>\n",
       "      <th>3</th>\n",
       "      <td>Crucea de piatra</td>\n",
       "      <td>1993</td>\n",
       "    </tr>\n",
       "    <tr>\n",
       "      <th>5</th>\n",
       "      <td>Gaiking II</td>\n",
       "      <td>2011</td>\n",
       "    </tr>\n",
       "    <tr>\n",
       "      <th>7</th>\n",
       "      <td>The Fresh Air Will Do You Good</td>\n",
       "      <td>2008</td>\n",
       "    </tr>\n",
       "  </tbody>\n",
       "</table>\n",
       "</div>"
      ],
      "text/plain": [
       "                            title  year\n",
       "3                Crucea de piatra  1993\n",
       "5                      Gaiking II  2011\n",
       "7  The Fresh Air Will Do You Good  2008"
      ]
     },
     "execution_count": 27,
     "metadata": {},
     "output_type": "execute_result"
    }
   ],
   "source": [
    "titles.iloc[[2,4,6],:]"
   ]
  },
  {
   "cell_type": "markdown",
   "metadata": {},
   "source": [
    "Podemos utilizar las columnas como hemos usado el indice. Es decir, podemos seleccionar una columna concreta, un rango de columnas, o una lista de columnas"
   ]
  },
  {
   "cell_type": "code",
   "execution_count": 28,
   "metadata": {},
   "outputs": [
    {
     "data": {
      "text/plain": [
       "2    The Thousand Plane Raid\n",
       "4                    Country\n",
       "6                Medusa (IV)\n",
       "Name: title, dtype: object"
      ]
     },
     "execution_count": 28,
     "metadata": {},
     "output_type": "execute_result"
    }
   ],
   "source": [
    "titles.loc[[2,4,6],'title']"
   ]
  },
  {
   "cell_type": "code",
   "execution_count": 29,
   "metadata": {},
   "outputs": [
    {
     "data": {
      "text/plain": [
       "2    The Thousand Plane Raid\n",
       "4                    Country\n",
       "6                Medusa (IV)\n",
       "Name: title, dtype: object"
      ]
     },
     "execution_count": 29,
     "metadata": {},
     "output_type": "execute_result"
    }
   ],
   "source": [
    "titles.iloc[[1,3,5],0]"
   ]
  },
  {
   "cell_type": "code",
   "execution_count": 30,
   "metadata": {},
   "outputs": [
    {
     "data": {
      "text/html": [
       "<div>\n",
       "<style scoped>\n",
       "    .dataframe tbody tr th:only-of-type {\n",
       "        vertical-align: middle;\n",
       "    }\n",
       "\n",
       "    .dataframe tbody tr th {\n",
       "        vertical-align: top;\n",
       "    }\n",
       "\n",
       "    .dataframe thead th {\n",
       "        text-align: right;\n",
       "    }\n",
       "</style>\n",
       "<table border=\"1\" class=\"dataframe\">\n",
       "  <thead>\n",
       "    <tr style=\"text-align: right;\">\n",
       "      <th></th>\n",
       "      <th>title</th>\n",
       "      <th>year</th>\n",
       "    </tr>\n",
       "  </thead>\n",
       "  <tbody>\n",
       "    <tr>\n",
       "      <th>2</th>\n",
       "      <td>The Thousand Plane Raid</td>\n",
       "      <td>1969</td>\n",
       "    </tr>\n",
       "    <tr>\n",
       "      <th>4</th>\n",
       "      <td>Country</td>\n",
       "      <td>2000</td>\n",
       "    </tr>\n",
       "    <tr>\n",
       "      <th>6</th>\n",
       "      <td>Medusa (IV)</td>\n",
       "      <td>2015</td>\n",
       "    </tr>\n",
       "  </tbody>\n",
       "</table>\n",
       "</div>"
      ],
      "text/plain": [
       "                     title  year\n",
       "2  The Thousand Plane Raid  1969\n",
       "4                  Country  2000\n",
       "6              Medusa (IV)  2015"
      ]
     },
     "execution_count": 30,
     "metadata": {},
     "output_type": "execute_result"
    }
   ],
   "source": [
    "titles.loc[[2,4,6],'title':'year']"
   ]
  },
  {
   "cell_type": "code",
   "execution_count": 31,
   "metadata": {},
   "outputs": [
    {
     "data": {
      "text/html": [
       "<div>\n",
       "<style scoped>\n",
       "    .dataframe tbody tr th:only-of-type {\n",
       "        vertical-align: middle;\n",
       "    }\n",
       "\n",
       "    .dataframe tbody tr th {\n",
       "        vertical-align: top;\n",
       "    }\n",
       "\n",
       "    .dataframe thead th {\n",
       "        text-align: right;\n",
       "    }\n",
       "</style>\n",
       "<table border=\"1\" class=\"dataframe\">\n",
       "  <thead>\n",
       "    <tr style=\"text-align: right;\">\n",
       "      <th></th>\n",
       "      <th>title</th>\n",
       "    </tr>\n",
       "  </thead>\n",
       "  <tbody>\n",
       "    <tr>\n",
       "      <th>2</th>\n",
       "      <td>The Thousand Plane Raid</td>\n",
       "    </tr>\n",
       "    <tr>\n",
       "      <th>4</th>\n",
       "      <td>Country</td>\n",
       "    </tr>\n",
       "    <tr>\n",
       "      <th>6</th>\n",
       "      <td>Medusa (IV)</td>\n",
       "    </tr>\n",
       "  </tbody>\n",
       "</table>\n",
       "</div>"
      ],
      "text/plain": [
       "                     title\n",
       "2  The Thousand Plane Raid\n",
       "4                  Country\n",
       "6              Medusa (IV)"
      ]
     },
     "execution_count": 31,
     "metadata": {},
     "output_type": "execute_result"
    }
   ],
   "source": [
    "titles.iloc[[1,3,5],0:1]"
   ]
  },
  {
   "cell_type": "code",
   "execution_count": 32,
   "metadata": {},
   "outputs": [
    {
     "data": {
      "text/html": [
       "<div>\n",
       "<style scoped>\n",
       "    .dataframe tbody tr th:only-of-type {\n",
       "        vertical-align: middle;\n",
       "    }\n",
       "\n",
       "    .dataframe tbody tr th {\n",
       "        vertical-align: top;\n",
       "    }\n",
       "\n",
       "    .dataframe thead th {\n",
       "        text-align: right;\n",
       "    }\n",
       "</style>\n",
       "<table border=\"1\" class=\"dataframe\">\n",
       "  <thead>\n",
       "    <tr style=\"text-align: right;\">\n",
       "      <th></th>\n",
       "      <th>title</th>\n",
       "      <th>year</th>\n",
       "    </tr>\n",
       "  </thead>\n",
       "  <tbody>\n",
       "    <tr>\n",
       "      <th>2</th>\n",
       "      <td>The Thousand Plane Raid</td>\n",
       "      <td>1969</td>\n",
       "    </tr>\n",
       "    <tr>\n",
       "      <th>4</th>\n",
       "      <td>Country</td>\n",
       "      <td>2000</td>\n",
       "    </tr>\n",
       "    <tr>\n",
       "      <th>6</th>\n",
       "      <td>Medusa (IV)</td>\n",
       "      <td>2015</td>\n",
       "    </tr>\n",
       "  </tbody>\n",
       "</table>\n",
       "</div>"
      ],
      "text/plain": [
       "                     title  year\n",
       "2  The Thousand Plane Raid  1969\n",
       "4                  Country  2000\n",
       "6              Medusa (IV)  2015"
      ]
     },
     "execution_count": 32,
     "metadata": {},
     "output_type": "execute_result"
    }
   ],
   "source": [
    "titles.loc[[2,4,6],['title','year']]"
   ]
  },
  {
   "cell_type": "code",
   "execution_count": 33,
   "metadata": {},
   "outputs": [
    {
     "data": {
      "text/html": [
       "<div>\n",
       "<style scoped>\n",
       "    .dataframe tbody tr th:only-of-type {\n",
       "        vertical-align: middle;\n",
       "    }\n",
       "\n",
       "    .dataframe tbody tr th {\n",
       "        vertical-align: top;\n",
       "    }\n",
       "\n",
       "    .dataframe thead th {\n",
       "        text-align: right;\n",
       "    }\n",
       "</style>\n",
       "<table border=\"1\" class=\"dataframe\">\n",
       "  <thead>\n",
       "    <tr style=\"text-align: right;\">\n",
       "      <th></th>\n",
       "      <th>title</th>\n",
       "      <th>year</th>\n",
       "    </tr>\n",
       "  </thead>\n",
       "  <tbody>\n",
       "    <tr>\n",
       "      <th>2</th>\n",
       "      <td>The Thousand Plane Raid</td>\n",
       "      <td>1969</td>\n",
       "    </tr>\n",
       "    <tr>\n",
       "      <th>4</th>\n",
       "      <td>Country</td>\n",
       "      <td>2000</td>\n",
       "    </tr>\n",
       "    <tr>\n",
       "      <th>6</th>\n",
       "      <td>Medusa (IV)</td>\n",
       "      <td>2015</td>\n",
       "    </tr>\n",
       "  </tbody>\n",
       "</table>\n",
       "</div>"
      ],
      "text/plain": [
       "                     title  year\n",
       "2  The Thousand Plane Raid  1969\n",
       "4                  Country  2000\n",
       "6              Medusa (IV)  2015"
      ]
     },
     "execution_count": 33,
     "metadata": {},
     "output_type": "execute_result"
    }
   ],
   "source": [
    "titles.iloc[[1,3,5],[0,1]]"
   ]
  },
  {
   "cell_type": "markdown",
   "metadata": {},
   "source": [
    "Podemos hacer lo mismo con una Serie"
   ]
  },
  {
   "cell_type": "code",
   "execution_count": 34,
   "metadata": {},
   "outputs": [
    {
     "data": {
      "text/plain": [
       "'Country'"
      ]
     },
     "execution_count": 34,
     "metadata": {},
     "output_type": "execute_result"
    }
   ],
   "source": [
    "t.iloc[3]"
   ]
  },
  {
   "cell_type": "code",
   "execution_count": 35,
   "metadata": {},
   "outputs": [
    {
     "data": {
      "text/plain": [
       "4     Gaiking II\n",
       "5    Medusa (IV)\n",
       "Name: title, dtype: object"
      ]
     },
     "execution_count": 35,
     "metadata": {},
     "output_type": "execute_result"
    }
   ],
   "source": [
    "t.loc[4:5]"
   ]
  },
  {
   "cell_type": "markdown",
   "metadata": {},
   "source": [
    "## 2.2 Selecciona una posicion"
   ]
  },
  {
   "cell_type": "code",
   "execution_count": 36,
   "metadata": {},
   "outputs": [
    {
     "data": {
      "text/plain": [
       "'Crucea de piatra'"
      ]
     },
     "execution_count": 36,
     "metadata": {},
     "output_type": "execute_result"
    }
   ],
   "source": [
    "titles.at[3,'title']"
   ]
  },
  {
   "cell_type": "code",
   "execution_count": 37,
   "metadata": {},
   "outputs": [
    {
     "data": {
      "text/plain": [
       "'Crucea de piatra'"
      ]
     },
     "execution_count": 37,
     "metadata": {},
     "output_type": "execute_result"
    }
   ],
   "source": [
    "titles.iat[2,0]"
   ]
  },
  {
   "cell_type": "markdown",
   "metadata": {},
   "source": [
    "## 2.3 Filtra Datos"
   ]
  },
  {
   "cell_type": "code",
   "execution_count": 38,
   "metadata": {},
   "outputs": [
    {
     "data": {
      "text/html": [
       "<div>\n",
       "<style scoped>\n",
       "    .dataframe tbody tr th:only-of-type {\n",
       "        vertical-align: middle;\n",
       "    }\n",
       "\n",
       "    .dataframe tbody tr th {\n",
       "        vertical-align: top;\n",
       "    }\n",
       "\n",
       "    .dataframe thead th {\n",
       "        text-align: right;\n",
       "    }\n",
       "</style>\n",
       "<table border=\"1\" class=\"dataframe\">\n",
       "  <thead>\n",
       "    <tr style=\"text-align: right;\">\n",
       "      <th></th>\n",
       "      <th>title</th>\n",
       "      <th>year</th>\n",
       "    </tr>\n",
       "  </thead>\n",
       "  <tbody>\n",
       "    <tr>\n",
       "      <th>1</th>\n",
       "      <td>The Rising Son</td>\n",
       "      <td>1990</td>\n",
       "    </tr>\n",
       "    <tr>\n",
       "      <th>3</th>\n",
       "      <td>Crucea de piatra</td>\n",
       "      <td>1993</td>\n",
       "    </tr>\n",
       "    <tr>\n",
       "      <th>...</th>\n",
       "      <td>...</td>\n",
       "      <td>...</td>\n",
       "    </tr>\n",
       "    <tr>\n",
       "      <th>5</th>\n",
       "      <td>Gaiking II</td>\n",
       "      <td>2011</td>\n",
       "    </tr>\n",
       "    <tr>\n",
       "      <th>6</th>\n",
       "      <td>Medusa (IV)</td>\n",
       "      <td>2015</td>\n",
       "    </tr>\n",
       "  </tbody>\n",
       "</table>\n",
       "<p>5 rows × 2 columns</p>\n",
       "</div>"
      ],
      "text/plain": [
       "               title  year\n",
       "1     The Rising Son  1990\n",
       "3   Crucea de piatra  1993\n",
       "..               ...   ...\n",
       "5         Gaiking II  2011\n",
       "6        Medusa (IV)  2015\n",
       "\n",
       "[5 rows x 2 columns]"
      ]
     },
     "execution_count": 38,
     "metadata": {},
     "output_type": "execute_result"
    }
   ],
   "source": [
    "after85 = titles[titles['year'] > 1985]\n",
    "after85.head()"
   ]
  },
  {
   "cell_type": "markdown",
   "metadata": {},
   "source": [
    "Podemos usar and y or: "
   ]
  },
  {
   "cell_type": "code",
   "execution_count": 39,
   "metadata": {},
   "outputs": [
    {
     "data": {
      "text/html": [
       "<div>\n",
       "<style scoped>\n",
       "    .dataframe tbody tr th:only-of-type {\n",
       "        vertical-align: middle;\n",
       "    }\n",
       "\n",
       "    .dataframe tbody tr th {\n",
       "        vertical-align: top;\n",
       "    }\n",
       "\n",
       "    .dataframe thead th {\n",
       "        text-align: right;\n",
       "    }\n",
       "</style>\n",
       "<table border=\"1\" class=\"dataframe\">\n",
       "  <thead>\n",
       "    <tr style=\"text-align: right;\">\n",
       "      <th></th>\n",
       "      <th>title</th>\n",
       "      <th>year</th>\n",
       "    </tr>\n",
       "  </thead>\n",
       "  <tbody>\n",
       "    <tr>\n",
       "      <th>1</th>\n",
       "      <td>The Rising Son</td>\n",
       "      <td>1990</td>\n",
       "    </tr>\n",
       "    <tr>\n",
       "      <th>3</th>\n",
       "      <td>Crucea de piatra</td>\n",
       "      <td>1993</td>\n",
       "    </tr>\n",
       "    <tr>\n",
       "      <th>...</th>\n",
       "      <td>...</td>\n",
       "      <td>...</td>\n",
       "    </tr>\n",
       "    <tr>\n",
       "      <th>20</th>\n",
       "      <td>Maa Durga Shakti</td>\n",
       "      <td>1999</td>\n",
       "    </tr>\n",
       "    <tr>\n",
       "      <th>25</th>\n",
       "      <td>Conflict of Interest</td>\n",
       "      <td>1993</td>\n",
       "    </tr>\n",
       "  </tbody>\n",
       "</table>\n",
       "<p>5 rows × 2 columns</p>\n",
       "</div>"
      ],
      "text/plain": [
       "                   title  year\n",
       "1         The Rising Son  1990\n",
       "3       Crucea de piatra  1993\n",
       "..                   ...   ...\n",
       "20      Maa Durga Shakti  1999\n",
       "25  Conflict of Interest  1993\n",
       "\n",
       "[5 rows x 2 columns]"
      ]
     },
     "execution_count": 39,
     "metadata": {},
     "output_type": "execute_result"
    }
   ],
   "source": [
    "t = titles\n",
    "movies90 = t[ (t['year']>=1990) & (t['year']<2000) ]\n",
    "movies90.head()"
   ]
  },
  {
   "cell_type": "markdown",
   "metadata": {},
   "source": [
    "## 2.4 Ordenar"
   ]
  },
  {
   "cell_type": "code",
   "execution_count": 40,
   "metadata": {},
   "outputs": [
    {
     "data": {
      "text/html": [
       "<div>\n",
       "<style scoped>\n",
       "    .dataframe tbody tr th:only-of-type {\n",
       "        vertical-align: middle;\n",
       "    }\n",
       "\n",
       "    .dataframe tbody tr th {\n",
       "        vertical-align: top;\n",
       "    }\n",
       "\n",
       "    .dataframe thead th {\n",
       "        text-align: right;\n",
       "    }\n",
       "</style>\n",
       "<table border=\"1\" class=\"dataframe\">\n",
       "  <thead>\n",
       "    <tr style=\"text-align: right;\">\n",
       "      <th></th>\n",
       "      <th>title</th>\n",
       "      <th>year</th>\n",
       "    </tr>\n",
       "  </thead>\n",
       "  <tbody>\n",
       "    <tr>\n",
       "      <th>4227</th>\n",
       "      <td>Macbeth</td>\n",
       "      <td>1913</td>\n",
       "    </tr>\n",
       "    <tr>\n",
       "      <th>9323</th>\n",
       "      <td>Macbeth</td>\n",
       "      <td>2006</td>\n",
       "    </tr>\n",
       "    <tr>\n",
       "      <th>...</th>\n",
       "      <td>...</td>\n",
       "      <td>...</td>\n",
       "    </tr>\n",
       "    <tr>\n",
       "      <th>17167</th>\n",
       "      <td>Macbeth</td>\n",
       "      <td>1997</td>\n",
       "    </tr>\n",
       "    <tr>\n",
       "      <th>25848</th>\n",
       "      <td>Macbeth</td>\n",
       "      <td>1998</td>\n",
       "    </tr>\n",
       "  </tbody>\n",
       "</table>\n",
       "<p>5 rows × 2 columns</p>\n",
       "</div>"
      ],
      "text/plain": [
       "         title  year\n",
       "4227   Macbeth  1913\n",
       "9323   Macbeth  2006\n",
       "...        ...   ...\n",
       "17167  Macbeth  1997\n",
       "25848  Macbeth  1998\n",
       "\n",
       "[5 rows x 2 columns]"
      ]
     },
     "execution_count": 40,
     "metadata": {},
     "output_type": "execute_result"
    }
   ],
   "source": [
    "macbeth = t[ t['title'] == 'Macbeth']\n",
    "macbeth.head()"
   ]
  },
  {
   "cell_type": "markdown",
   "metadata": {},
   "source": [
    "Ordenamos por indice"
   ]
  },
  {
   "cell_type": "code",
   "execution_count": 41,
   "metadata": {},
   "outputs": [
    {
     "data": {
      "text/html": [
       "<div>\n",
       "<style scoped>\n",
       "    .dataframe tbody tr th:only-of-type {\n",
       "        vertical-align: middle;\n",
       "    }\n",
       "\n",
       "    .dataframe tbody tr th {\n",
       "        vertical-align: top;\n",
       "    }\n",
       "\n",
       "    .dataframe thead th {\n",
       "        text-align: right;\n",
       "    }\n",
       "</style>\n",
       "<table border=\"1\" class=\"dataframe\">\n",
       "  <thead>\n",
       "    <tr style=\"text-align: right;\">\n",
       "      <th></th>\n",
       "      <th>title</th>\n",
       "      <th>year</th>\n",
       "    </tr>\n",
       "  </thead>\n",
       "  <tbody>\n",
       "    <tr>\n",
       "      <th>4227</th>\n",
       "      <td>Macbeth</td>\n",
       "      <td>1913</td>\n",
       "    </tr>\n",
       "    <tr>\n",
       "      <th>9323</th>\n",
       "      <td>Macbeth</td>\n",
       "      <td>2006</td>\n",
       "    </tr>\n",
       "    <tr>\n",
       "      <th>...</th>\n",
       "      <td>...</td>\n",
       "      <td>...</td>\n",
       "    </tr>\n",
       "    <tr>\n",
       "      <th>17167</th>\n",
       "      <td>Macbeth</td>\n",
       "      <td>1997</td>\n",
       "    </tr>\n",
       "    <tr>\n",
       "      <th>25848</th>\n",
       "      <td>Macbeth</td>\n",
       "      <td>1998</td>\n",
       "    </tr>\n",
       "  </tbody>\n",
       "</table>\n",
       "<p>5 rows × 2 columns</p>\n",
       "</div>"
      ],
      "text/plain": [
       "         title  year\n",
       "4227   Macbeth  1913\n",
       "9323   Macbeth  2006\n",
       "...        ...   ...\n",
       "17167  Macbeth  1997\n",
       "25848  Macbeth  1998\n",
       "\n",
       "[5 rows x 2 columns]"
      ]
     },
     "execution_count": 41,
     "metadata": {},
     "output_type": "execute_result"
    }
   ],
   "source": [
    "macbeth = t[ t['title'] == 'Macbeth'].sort_index()\n",
    "macbeth.head()"
   ]
  },
  {
   "cell_type": "markdown",
   "metadata": {},
   "source": [
    "Ordenamos por valor. En este caso por la serie `year`"
   ]
  },
  {
   "cell_type": "code",
   "execution_count": 42,
   "metadata": {},
   "outputs": [
    {
     "data": {
      "text/html": [
       "<div>\n",
       "<style scoped>\n",
       "    .dataframe tbody tr th:only-of-type {\n",
       "        vertical-align: middle;\n",
       "    }\n",
       "\n",
       "    .dataframe tbody tr th {\n",
       "        vertical-align: top;\n",
       "    }\n",
       "\n",
       "    .dataframe thead th {\n",
       "        text-align: right;\n",
       "    }\n",
       "</style>\n",
       "<table border=\"1\" class=\"dataframe\">\n",
       "  <thead>\n",
       "    <tr style=\"text-align: right;\">\n",
       "      <th></th>\n",
       "      <th>title</th>\n",
       "      <th>year</th>\n",
       "    </tr>\n",
       "  </thead>\n",
       "  <tbody>\n",
       "    <tr>\n",
       "      <th>4227</th>\n",
       "      <td>Macbeth</td>\n",
       "      <td>1913</td>\n",
       "    </tr>\n",
       "    <tr>\n",
       "      <th>17167</th>\n",
       "      <td>Macbeth</td>\n",
       "      <td>1997</td>\n",
       "    </tr>\n",
       "    <tr>\n",
       "      <th>...</th>\n",
       "      <td>...</td>\n",
       "      <td>...</td>\n",
       "    </tr>\n",
       "    <tr>\n",
       "      <th>9323</th>\n",
       "      <td>Macbeth</td>\n",
       "      <td>2006</td>\n",
       "    </tr>\n",
       "    <tr>\n",
       "      <th>11723</th>\n",
       "      <td>Macbeth</td>\n",
       "      <td>2013</td>\n",
       "    </tr>\n",
       "  </tbody>\n",
       "</table>\n",
       "<p>5 rows × 2 columns</p>\n",
       "</div>"
      ],
      "text/plain": [
       "         title  year\n",
       "4227   Macbeth  1913\n",
       "17167  Macbeth  1997\n",
       "...        ...   ...\n",
       "9323   Macbeth  2006\n",
       "11723  Macbeth  2013\n",
       "\n",
       "[5 rows x 2 columns]"
      ]
     },
     "execution_count": 42,
     "metadata": {},
     "output_type": "execute_result"
    }
   ],
   "source": [
    "macbeth = t[ t['title'] == 'Macbeth'].sort_values('year')\n",
    "macbeth.head()"
   ]
  },
  {
   "cell_type": "markdown",
   "metadata": {},
   "source": [
    "## 2.5 Null Values"
   ]
  },
  {
   "cell_type": "code",
   "execution_count": 43,
   "metadata": {},
   "outputs": [
    {
     "data": {
      "text/plain": [
       "0    False\n",
       "1    False\n",
       "     ...  \n",
       "3     True\n",
       "4     True\n",
       "Name: n, Length: 5, dtype: bool"
      ]
     },
     "execution_count": 43,
     "metadata": {},
     "output_type": "execute_result"
    }
   ],
   "source": [
    "c = casts\n",
    "c['n'].isnull().head()"
   ]
  },
  {
   "cell_type": "code",
   "execution_count": 44,
   "metadata": {},
   "outputs": [
    {
     "data": {
      "text/html": [
       "<div>\n",
       "<style scoped>\n",
       "    .dataframe tbody tr th:only-of-type {\n",
       "        vertical-align: middle;\n",
       "    }\n",
       "\n",
       "    .dataframe tbody tr th {\n",
       "        vertical-align: top;\n",
       "    }\n",
       "\n",
       "    .dataframe thead th {\n",
       "        text-align: right;\n",
       "    }\n",
       "</style>\n",
       "<table border=\"1\" class=\"dataframe\">\n",
       "  <thead>\n",
       "    <tr style=\"text-align: right;\">\n",
       "      <th></th>\n",
       "      <th>title</th>\n",
       "      <th>year</th>\n",
       "      <th>name</th>\n",
       "      <th>type</th>\n",
       "      <th>character</th>\n",
       "      <th>n</th>\n",
       "    </tr>\n",
       "  </thead>\n",
       "  <tbody>\n",
       "    <tr>\n",
       "      <th>0</th>\n",
       "      <td>False</td>\n",
       "      <td>False</td>\n",
       "      <td>False</td>\n",
       "      <td>False</td>\n",
       "      <td>False</td>\n",
       "      <td>False</td>\n",
       "    </tr>\n",
       "    <tr>\n",
       "      <th>1</th>\n",
       "      <td>False</td>\n",
       "      <td>False</td>\n",
       "      <td>False</td>\n",
       "      <td>False</td>\n",
       "      <td>False</td>\n",
       "      <td>False</td>\n",
       "    </tr>\n",
       "    <tr>\n",
       "      <th>...</th>\n",
       "      <td>...</td>\n",
       "      <td>...</td>\n",
       "      <td>...</td>\n",
       "      <td>...</td>\n",
       "      <td>...</td>\n",
       "      <td>...</td>\n",
       "    </tr>\n",
       "    <tr>\n",
       "      <th>3</th>\n",
       "      <td>False</td>\n",
       "      <td>False</td>\n",
       "      <td>False</td>\n",
       "      <td>False</td>\n",
       "      <td>False</td>\n",
       "      <td>True</td>\n",
       "    </tr>\n",
       "    <tr>\n",
       "      <th>4</th>\n",
       "      <td>False</td>\n",
       "      <td>False</td>\n",
       "      <td>False</td>\n",
       "      <td>False</td>\n",
       "      <td>False</td>\n",
       "      <td>True</td>\n",
       "    </tr>\n",
       "  </tbody>\n",
       "</table>\n",
       "<p>5 rows × 6 columns</p>\n",
       "</div>"
      ],
      "text/plain": [
       "    title   year   name   type  character      n\n",
       "0   False  False  False  False      False  False\n",
       "1   False  False  False  False      False  False\n",
       "..    ...    ...    ...    ...        ...    ...\n",
       "3   False  False  False  False      False   True\n",
       "4   False  False  False  False      False   True\n",
       "\n",
       "[5 rows x 6 columns]"
      ]
     },
     "execution_count": 44,
     "metadata": {},
     "output_type": "execute_result"
    }
   ],
   "source": [
    "c.isnull().head()"
   ]
  },
  {
   "cell_type": "code",
   "execution_count": 45,
   "metadata": {},
   "outputs": [
    {
     "data": {
      "text/plain": [
       "0     True\n",
       "1     True\n",
       "     ...  \n",
       "3    False\n",
       "4    False\n",
       "Name: n, Length: 5, dtype: bool"
      ]
     },
     "execution_count": 45,
     "metadata": {},
     "output_type": "execute_result"
    }
   ],
   "source": [
    "c['n'].notnull().head()"
   ]
  },
  {
   "cell_type": "code",
   "execution_count": 46,
   "metadata": {},
   "outputs": [
    {
     "data": {
      "text/html": [
       "<div>\n",
       "<style scoped>\n",
       "    .dataframe tbody tr th:only-of-type {\n",
       "        vertical-align: middle;\n",
       "    }\n",
       "\n",
       "    .dataframe tbody tr th {\n",
       "        vertical-align: top;\n",
       "    }\n",
       "\n",
       "    .dataframe thead th {\n",
       "        text-align: right;\n",
       "    }\n",
       "</style>\n",
       "<table border=\"1\" class=\"dataframe\">\n",
       "  <thead>\n",
       "    <tr style=\"text-align: right;\">\n",
       "      <th></th>\n",
       "      <th>title</th>\n",
       "      <th>year</th>\n",
       "      <th>name</th>\n",
       "      <th>type</th>\n",
       "      <th>character</th>\n",
       "      <th>n</th>\n",
       "    </tr>\n",
       "  </thead>\n",
       "  <tbody>\n",
       "    <tr>\n",
       "      <th>0</th>\n",
       "      <td>True</td>\n",
       "      <td>True</td>\n",
       "      <td>True</td>\n",
       "      <td>True</td>\n",
       "      <td>True</td>\n",
       "      <td>True</td>\n",
       "    </tr>\n",
       "    <tr>\n",
       "      <th>1</th>\n",
       "      <td>True</td>\n",
       "      <td>True</td>\n",
       "      <td>True</td>\n",
       "      <td>True</td>\n",
       "      <td>True</td>\n",
       "      <td>True</td>\n",
       "    </tr>\n",
       "    <tr>\n",
       "      <th>...</th>\n",
       "      <td>...</td>\n",
       "      <td>...</td>\n",
       "      <td>...</td>\n",
       "      <td>...</td>\n",
       "      <td>...</td>\n",
       "      <td>...</td>\n",
       "    </tr>\n",
       "    <tr>\n",
       "      <th>3</th>\n",
       "      <td>True</td>\n",
       "      <td>True</td>\n",
       "      <td>True</td>\n",
       "      <td>True</td>\n",
       "      <td>True</td>\n",
       "      <td>False</td>\n",
       "    </tr>\n",
       "    <tr>\n",
       "      <th>4</th>\n",
       "      <td>True</td>\n",
       "      <td>True</td>\n",
       "      <td>True</td>\n",
       "      <td>True</td>\n",
       "      <td>True</td>\n",
       "      <td>False</td>\n",
       "    </tr>\n",
       "  </tbody>\n",
       "</table>\n",
       "<p>5 rows × 6 columns</p>\n",
       "</div>"
      ],
      "text/plain": [
       "    title  year  name  type  character      n\n",
       "0    True  True  True  True       True   True\n",
       "1    True  True  True  True       True   True\n",
       "..    ...   ...   ...   ...        ...    ...\n",
       "3    True  True  True  True       True  False\n",
       "4    True  True  True  True       True  False\n",
       "\n",
       "[5 rows x 6 columns]"
      ]
     },
     "execution_count": 46,
     "metadata": {},
     "output_type": "execute_result"
    }
   ],
   "source": [
    "c.notnull().head()"
   ]
  },
  {
   "cell_type": "code",
   "execution_count": 47,
   "metadata": {},
   "outputs": [
    {
     "data": {
      "text/html": [
       "<div>\n",
       "<style scoped>\n",
       "    .dataframe tbody tr th:only-of-type {\n",
       "        vertical-align: middle;\n",
       "    }\n",
       "\n",
       "    .dataframe tbody tr th {\n",
       "        vertical-align: top;\n",
       "    }\n",
       "\n",
       "    .dataframe thead th {\n",
       "        text-align: right;\n",
       "    }\n",
       "</style>\n",
       "<table border=\"1\" class=\"dataframe\">\n",
       "  <thead>\n",
       "    <tr style=\"text-align: right;\">\n",
       "      <th></th>\n",
       "      <th>title</th>\n",
       "      <th>year</th>\n",
       "      <th>name</th>\n",
       "      <th>type</th>\n",
       "      <th>character</th>\n",
       "      <th>n</th>\n",
       "    </tr>\n",
       "  </thead>\n",
       "  <tbody>\n",
       "    <tr>\n",
       "      <th>3</th>\n",
       "      <td>Secret in Their Eyes</td>\n",
       "      <td>2015</td>\n",
       "      <td>$hutter</td>\n",
       "      <td>actor</td>\n",
       "      <td>2002 Dodger Fan</td>\n",
       "      <td>NaN</td>\n",
       "    </tr>\n",
       "    <tr>\n",
       "      <th>4</th>\n",
       "      <td>Steve Jobs</td>\n",
       "      <td>2015</td>\n",
       "      <td>$hutter</td>\n",
       "      <td>actor</td>\n",
       "      <td>1988 Opera House Patron</td>\n",
       "      <td>NaN</td>\n",
       "    </tr>\n",
       "    <tr>\n",
       "      <th>5</th>\n",
       "      <td>Straight Outta Compton</td>\n",
       "      <td>2015</td>\n",
       "      <td>$hutter</td>\n",
       "      <td>actor</td>\n",
       "      <td>Club Patron</td>\n",
       "      <td>NaN</td>\n",
       "    </tr>\n",
       "  </tbody>\n",
       "</table>\n",
       "</div>"
      ],
      "text/plain": [
       "                    title  year     name   type                character   n\n",
       "3    Secret in Their Eyes  2015  $hutter  actor          2002 Dodger Fan NaN\n",
       "4              Steve Jobs  2015  $hutter  actor  1988 Opera House Patron NaN\n",
       "5  Straight Outta Compton  2015  $hutter  actor              Club Patron NaN"
      ]
     },
     "execution_count": 47,
     "metadata": {},
     "output_type": "execute_result"
    }
   ],
   "source": [
    "c[c['n'].isnull()].head(3)"
   ]
  },
  {
   "cell_type": "code",
   "execution_count": 48,
   "metadata": {},
   "outputs": [
    {
     "data": {
      "text/html": [
       "<div>\n",
       "<style scoped>\n",
       "    .dataframe tbody tr th:only-of-type {\n",
       "        vertical-align: middle;\n",
       "    }\n",
       "\n",
       "    .dataframe tbody tr th {\n",
       "        vertical-align: top;\n",
       "    }\n",
       "\n",
       "    .dataframe thead th {\n",
       "        text-align: right;\n",
       "    }\n",
       "</style>\n",
       "<table border=\"1\" class=\"dataframe\">\n",
       "  <thead>\n",
       "    <tr style=\"text-align: right;\">\n",
       "      <th></th>\n",
       "      <th>title</th>\n",
       "      <th>year</th>\n",
       "      <th>name</th>\n",
       "      <th>type</th>\n",
       "      <th>character</th>\n",
       "      <th>n</th>\n",
       "    </tr>\n",
       "  </thead>\n",
       "  <tbody>\n",
       "    <tr>\n",
       "      <th>0</th>\n",
       "      <td>Closet Monster</td>\n",
       "      <td>2015</td>\n",
       "      <td>Buffy #1</td>\n",
       "      <td>actor</td>\n",
       "      <td>Buffy 4</td>\n",
       "      <td>31.0</td>\n",
       "    </tr>\n",
       "    <tr>\n",
       "      <th>1</th>\n",
       "      <td>Suuri illusioni</td>\n",
       "      <td>1985</td>\n",
       "      <td>Homo $</td>\n",
       "      <td>actor</td>\n",
       "      <td>Guests</td>\n",
       "      <td>22.0</td>\n",
       "    </tr>\n",
       "    <tr>\n",
       "      <th>2</th>\n",
       "      <td>Battle of the Sexes</td>\n",
       "      <td>2017</td>\n",
       "      <td>$hutter</td>\n",
       "      <td>actor</td>\n",
       "      <td>Bobby Riggs Fan</td>\n",
       "      <td>10.0</td>\n",
       "    </tr>\n",
       "  </tbody>\n",
       "</table>\n",
       "</div>"
      ],
      "text/plain": [
       "                 title  year      name   type        character     n\n",
       "0       Closet Monster  2015  Buffy #1  actor          Buffy 4  31.0\n",
       "1      Suuri illusioni  1985    Homo $  actor           Guests  22.0\n",
       "2  Battle of the Sexes  2017   $hutter  actor  Bobby Riggs Fan  10.0"
      ]
     },
     "execution_count": 48,
     "metadata": {},
     "output_type": "execute_result"
    }
   ],
   "source": [
    "c[c['n'].notnull()].head(3)"
   ]
  },
  {
   "cell_type": "code",
   "execution_count": 49,
   "metadata": {},
   "outputs": [
    {
     "data": {
      "text/html": [
       "<div>\n",
       "<style scoped>\n",
       "    .dataframe tbody tr th:only-of-type {\n",
       "        vertical-align: middle;\n",
       "    }\n",
       "\n",
       "    .dataframe tbody tr th {\n",
       "        vertical-align: top;\n",
       "    }\n",
       "\n",
       "    .dataframe thead th {\n",
       "        text-align: right;\n",
       "    }\n",
       "</style>\n",
       "<table border=\"1\" class=\"dataframe\">\n",
       "  <thead>\n",
       "    <tr style=\"text-align: right;\">\n",
       "      <th></th>\n",
       "      <th>title</th>\n",
       "      <th>year</th>\n",
       "      <th>name</th>\n",
       "      <th>type</th>\n",
       "      <th>character</th>\n",
       "      <th>n</th>\n",
       "    </tr>\n",
       "  </thead>\n",
       "  <tbody>\n",
       "    <tr>\n",
       "      <th>3</th>\n",
       "      <td>Secret in Their Eyes</td>\n",
       "      <td>2015</td>\n",
       "      <td>$hutter</td>\n",
       "      <td>actor</td>\n",
       "      <td>2002 Dodger Fan</td>\n",
       "      <td>NA</td>\n",
       "    </tr>\n",
       "    <tr>\n",
       "      <th>4</th>\n",
       "      <td>Steve Jobs</td>\n",
       "      <td>2015</td>\n",
       "      <td>$hutter</td>\n",
       "      <td>actor</td>\n",
       "      <td>1988 Opera House Patron</td>\n",
       "      <td>NA</td>\n",
       "    </tr>\n",
       "  </tbody>\n",
       "</table>\n",
       "</div>"
      ],
      "text/plain": [
       "                  title  year     name   type                character   n\n",
       "3  Secret in Their Eyes  2015  $hutter  actor          2002 Dodger Fan  NA\n",
       "4            Steve Jobs  2015  $hutter  actor  1988 Opera House Patron  NA"
      ]
     },
     "execution_count": 49,
     "metadata": {},
     "output_type": "execute_result"
    }
   ],
   "source": [
    "c_fill = c[c['n'].isnull()].fillna('NA')\n",
    "c_fill.head(2)"
   ]
  },
  {
   "cell_type": "markdown",
   "metadata": {},
   "source": [
    "## 2.6 Operaciones con String"
   ]
  },
  {
   "cell_type": "code",
   "execution_count": 50,
   "metadata": {},
   "outputs": [
    {
     "data": {
      "text/html": [
       "<div>\n",
       "<style scoped>\n",
       "    .dataframe tbody tr th:only-of-type {\n",
       "        vertical-align: middle;\n",
       "    }\n",
       "\n",
       "    .dataframe tbody tr th {\n",
       "        vertical-align: top;\n",
       "    }\n",
       "\n",
       "    .dataframe thead th {\n",
       "        text-align: right;\n",
       "    }\n",
       "</style>\n",
       "<table border=\"1\" class=\"dataframe\">\n",
       "  <thead>\n",
       "    <tr style=\"text-align: right;\">\n",
       "      <th></th>\n",
       "      <th>title</th>\n",
       "      <th>year</th>\n",
       "    </tr>\n",
       "  </thead>\n",
       "  <tbody>\n",
       "    <tr>\n",
       "      <th>20</th>\n",
       "      <td>Maa Durga Shakti</td>\n",
       "      <td>1999</td>\n",
       "    </tr>\n",
       "    <tr>\n",
       "      <th>3047</th>\n",
       "      <td>Maa Aur Mamta</td>\n",
       "      <td>1970</td>\n",
       "    </tr>\n",
       "    <tr>\n",
       "      <th>7471</th>\n",
       "      <td>Maa Vaibhav Laxmi</td>\n",
       "      <td>1989</td>\n",
       "    </tr>\n",
       "  </tbody>\n",
       "</table>\n",
       "</div>"
      ],
      "text/plain": [
       "                  title  year\n",
       "20     Maa Durga Shakti  1999\n",
       "3047      Maa Aur Mamta  1970\n",
       "7471  Maa Vaibhav Laxmi  1989"
      ]
     },
     "execution_count": 50,
     "metadata": {},
     "output_type": "execute_result"
    }
   ],
   "source": [
    "t[t['title'].str.startswith(\"Maa \")].head(3)"
   ]
  },
  {
   "cell_type": "markdown",
   "metadata": {},
   "source": [
    "## 2.7 Contar elementos"
   ]
  },
  {
   "cell_type": "code",
   "execution_count": 51,
   "metadata": {},
   "outputs": [
    {
     "data": {
      "text/plain": [
       "2016    2363\n",
       "2017    2138\n",
       "        ... \n",
       "2014    1701\n",
       "2013    1609\n",
       "Name: year, Length: 5, dtype: int64"
      ]
     },
     "execution_count": 51,
     "metadata": {},
     "output_type": "execute_result"
    }
   ],
   "source": [
    "t['year'].value_counts().head()"
   ]
  },
  {
   "cell_type": "markdown",
   "metadata": {},
   "source": [
    "## 2.8 Graficas"
   ]
  },
  {
   "cell_type": "code",
   "execution_count": 52,
   "metadata": {},
   "outputs": [],
   "source": [
    "import matplotlib.pyplot as plt"
   ]
  },
  {
   "cell_type": "markdown",
   "metadata": {},
   "source": [
    "Mostramos los graficos inline"
   ]
  },
  {
   "cell_type": "code",
   "execution_count": 53,
   "metadata": {},
   "outputs": [],
   "source": [
    "%matplotlib inline"
   ]
  },
  {
   "cell_type": "code",
   "execution_count": 54,
   "metadata": {},
   "outputs": [
    {
     "data": {
      "text/plain": [
       "<matplotlib.axes._subplots.AxesSubplot at 0x229e819fec8>"
      ]
     },
     "execution_count": 54,
     "metadata": {},
     "output_type": "execute_result"
    },
    {
     "data": {
      "image/png": "[encoded data removed]",
      "text/plain": [
       "<Figure size 432x288 with 1 Axes>"
      ]
     },
     "metadata": {
      "needs_background": "light"
     },
     "output_type": "display_data"
    }
   ],
   "source": [
    "t = titles\n",
    "p = t['year'].value_counts()\n",
    "p.plot()\n",
    "#plt.show()"
   ]
  },
  {
   "cell_type": "markdown",
   "metadata": {},
   "source": [
    "Ordena por indice"
   ]
  },
  {
   "cell_type": "code",
   "execution_count": 55,
   "metadata": {},
   "outputs": [
    {
     "data": {
      "text/plain": [
       "<matplotlib.axes._subplots.AxesSubplot at 0x229e822f848>"
      ]
     },
     "execution_count": 55,
     "metadata": {},
     "output_type": "execute_result"
    },
    {
     "data": {
      "image/png": "[encoded data removed]",
      "text/plain": [
       "<Figure size 432x288 with 1 Axes>"
      ]
     },
     "metadata": {
      "needs_background": "light"
     },
     "output_type": "display_data"
    }
   ],
   "source": [
    "p.sort_index().plot()"
   ]
  },
  {
   "cell_type": "markdown",
   "metadata": {},
   "source": [
    "## 2.9 Eliminar duplicados"
   ]
  },
  {
   "cell_type": "code",
   "execution_count": 56,
   "metadata": {},
   "outputs": [
    {
     "data": {
      "text/html": [
       "<div>\n",
       "<style scoped>\n",
       "    .dataframe tbody tr th:only-of-type {\n",
       "        vertical-align: middle;\n",
       "    }\n",
       "\n",
       "    .dataframe tbody tr th {\n",
       "        vertical-align: top;\n",
       "    }\n",
       "\n",
       "    .dataframe thead th {\n",
       "        text-align: right;\n",
       "    }\n",
       "</style>\n",
       "<table border=\"1\" class=\"dataframe\">\n",
       "  <thead>\n",
       "    <tr style=\"text-align: right;\">\n",
       "      <th></th>\n",
       "      <th>k1</th>\n",
       "      <th>k2</th>\n",
       "    </tr>\n",
       "  </thead>\n",
       "  <tbody>\n",
       "    <tr>\n",
       "      <th>0</th>\n",
       "      <td>one</td>\n",
       "      <td>1</td>\n",
       "    </tr>\n",
       "    <tr>\n",
       "      <th>1</th>\n",
       "      <td>one</td>\n",
       "      <td>1</td>\n",
       "    </tr>\n",
       "    <tr>\n",
       "      <th>...</th>\n",
       "      <td>...</td>\n",
       "      <td>...</td>\n",
       "    </tr>\n",
       "    <tr>\n",
       "      <th>5</th>\n",
       "      <td>two</td>\n",
       "      <td>4</td>\n",
       "    </tr>\n",
       "    <tr>\n",
       "      <th>6</th>\n",
       "      <td>two</td>\n",
       "      <td>4</td>\n",
       "    </tr>\n",
       "  </tbody>\n",
       "</table>\n",
       "<p>7 rows × 2 columns</p>\n",
       "</div>"
      ],
      "text/plain": [
       "     k1  k2\n",
       "0   one   1\n",
       "1   one   1\n",
       "..  ...  ..\n",
       "5   two   4\n",
       "6   two   4\n",
       "\n",
       "[7 rows x 2 columns]"
      ]
     },
     "execution_count": 56,
     "metadata": {},
     "output_type": "execute_result"
    }
   ],
   "source": [
    "dforiginal = pd.DataFrame({'k1':['one']*3 + ['two']*4,\n",
    "... 'k2':[1,1,2,3,3,4,4]})\n",
    "df=dforiginal.copy()\n",
    "df"
   ]
  },
  {
   "cell_type": "code",
   "execution_count": 57,
   "metadata": {},
   "outputs": [
    {
     "data": {
      "text/plain": [
       "0    False\n",
       "1     True\n",
       "     ...  \n",
       "5    False\n",
       "6     True\n",
       "Length: 7, dtype: bool"
      ]
     },
     "execution_count": 57,
     "metadata": {},
     "output_type": "execute_result"
    }
   ],
   "source": [
    "df.duplicated()"
   ]
  },
  {
   "cell_type": "code",
   "execution_count": 58,
   "metadata": {},
   "outputs": [
    {
     "data": {
      "text/html": [
       "<div>\n",
       "<style scoped>\n",
       "    .dataframe tbody tr th:only-of-type {\n",
       "        vertical-align: middle;\n",
       "    }\n",
       "\n",
       "    .dataframe tbody tr th {\n",
       "        vertical-align: top;\n",
       "    }\n",
       "\n",
       "    .dataframe thead th {\n",
       "        text-align: right;\n",
       "    }\n",
       "</style>\n",
       "<table border=\"1\" class=\"dataframe\">\n",
       "  <thead>\n",
       "    <tr style=\"text-align: right;\">\n",
       "      <th></th>\n",
       "      <th>k1</th>\n",
       "      <th>k2</th>\n",
       "    </tr>\n",
       "  </thead>\n",
       "  <tbody>\n",
       "    <tr>\n",
       "      <th>1</th>\n",
       "      <td>one</td>\n",
       "      <td>1</td>\n",
       "    </tr>\n",
       "    <tr>\n",
       "      <th>4</th>\n",
       "      <td>two</td>\n",
       "      <td>3</td>\n",
       "    </tr>\n",
       "    <tr>\n",
       "      <th>6</th>\n",
       "      <td>two</td>\n",
       "      <td>4</td>\n",
       "    </tr>\n",
       "  </tbody>\n",
       "</table>\n",
       "</div>"
      ],
      "text/plain": [
       "    k1  k2\n",
       "1  one   1\n",
       "4  two   3\n",
       "6  two   4"
      ]
     },
     "execution_count": 58,
     "metadata": {},
     "output_type": "execute_result"
    }
   ],
   "source": [
    "df[df.duplicated()]"
   ]
  },
  {
   "cell_type": "markdown",
   "metadata": {},
   "source": [
    "Borra los duplicados, sobre el propio DataStream"
   ]
  },
  {
   "cell_type": "code",
   "execution_count": 59,
   "metadata": {},
   "outputs": [
    {
     "data": {
      "text/html": [
       "<div>\n",
       "<style scoped>\n",
       "    .dataframe tbody tr th:only-of-type {\n",
       "        vertical-align: middle;\n",
       "    }\n",
       "\n",
       "    .dataframe tbody tr th {\n",
       "        vertical-align: top;\n",
       "    }\n",
       "\n",
       "    .dataframe thead th {\n",
       "        text-align: right;\n",
       "    }\n",
       "</style>\n",
       "<table border=\"1\" class=\"dataframe\">\n",
       "  <thead>\n",
       "    <tr style=\"text-align: right;\">\n",
       "      <th></th>\n",
       "      <th>k1</th>\n",
       "      <th>k2</th>\n",
       "    </tr>\n",
       "  </thead>\n",
       "  <tbody>\n",
       "    <tr>\n",
       "      <th>0</th>\n",
       "      <td>one</td>\n",
       "      <td>1</td>\n",
       "    </tr>\n",
       "    <tr>\n",
       "      <th>2</th>\n",
       "      <td>one</td>\n",
       "      <td>2</td>\n",
       "    </tr>\n",
       "    <tr>\n",
       "      <th>3</th>\n",
       "      <td>two</td>\n",
       "      <td>3</td>\n",
       "    </tr>\n",
       "    <tr>\n",
       "      <th>5</th>\n",
       "      <td>two</td>\n",
       "      <td>4</td>\n",
       "    </tr>\n",
       "  </tbody>\n",
       "</table>\n",
       "</div>"
      ],
      "text/plain": [
       "    k1  k2\n",
       "0  one   1\n",
       "2  one   2\n",
       "3  two   3\n",
       "5  two   4"
      ]
     },
     "execution_count": 59,
     "metadata": {},
     "output_type": "execute_result"
    }
   ],
   "source": [
    "df.drop_duplicates(inplace=True)\n",
    "df.duplicated()\n",
    "df"
   ]
  },
  {
   "cell_type": "markdown",
   "metadata": {},
   "source": [
    "Borra los duplicados, pero eligiendo conservar la ultima instancia encontrada. Fijarse en los indices"
   ]
  },
  {
   "cell_type": "code",
   "execution_count": 60,
   "metadata": {},
   "outputs": [
    {
     "data": {
      "text/html": [
       "<div>\n",
       "<style scoped>\n",
       "    .dataframe tbody tr th:only-of-type {\n",
       "        vertical-align: middle;\n",
       "    }\n",
       "\n",
       "    .dataframe tbody tr th {\n",
       "        vertical-align: top;\n",
       "    }\n",
       "\n",
       "    .dataframe thead th {\n",
       "        text-align: right;\n",
       "    }\n",
       "</style>\n",
       "<table border=\"1\" class=\"dataframe\">\n",
       "  <thead>\n",
       "    <tr style=\"text-align: right;\">\n",
       "      <th></th>\n",
       "      <th>k1</th>\n",
       "      <th>k2</th>\n",
       "    </tr>\n",
       "  </thead>\n",
       "  <tbody>\n",
       "    <tr>\n",
       "      <th>1</th>\n",
       "      <td>one</td>\n",
       "      <td>1</td>\n",
       "    </tr>\n",
       "    <tr>\n",
       "      <th>2</th>\n",
       "      <td>one</td>\n",
       "      <td>2</td>\n",
       "    </tr>\n",
       "    <tr>\n",
       "      <th>4</th>\n",
       "      <td>two</td>\n",
       "      <td>3</td>\n",
       "    </tr>\n",
       "    <tr>\n",
       "      <th>6</th>\n",
       "      <td>two</td>\n",
       "      <td>4</td>\n",
       "    </tr>\n",
       "  </tbody>\n",
       "</table>\n",
       "</div>"
      ],
      "text/plain": [
       "    k1  k2\n",
       "1  one   1\n",
       "2  one   2\n",
       "4  two   3\n",
       "6  two   4"
      ]
     },
     "execution_count": 60,
     "metadata": {},
     "output_type": "execute_result"
    }
   ],
   "source": [
    "df=dforiginal.copy()\n",
    "df.drop_duplicates(keep=\"last\",inplace=True)\n",
    "df"
   ]
  },
  {
   "cell_type": "markdown",
   "metadata": {},
   "source": [
    "## 2.10 Buscar y reemplazar"
   ]
  },
  {
   "cell_type": "code",
   "execution_count": 61,
   "metadata": {},
   "outputs": [
    {
     "data": {
      "text/html": [
       "<div>\n",
       "<style scoped>\n",
       "    .dataframe tbody tr th:only-of-type {\n",
       "        vertical-align: middle;\n",
       "    }\n",
       "\n",
       "    .dataframe tbody tr th {\n",
       "        vertical-align: top;\n",
       "    }\n",
       "\n",
       "    .dataframe thead th {\n",
       "        text-align: right;\n",
       "    }\n",
       "</style>\n",
       "<table border=\"1\" class=\"dataframe\">\n",
       "  <thead>\n",
       "    <tr style=\"text-align: right;\">\n",
       "      <th></th>\n",
       "      <th>k1</th>\n",
       "      <th>k2</th>\n",
       "    </tr>\n",
       "  </thead>\n",
       "  <tbody>\n",
       "    <tr>\n",
       "      <th>0</th>\n",
       "      <td>one</td>\n",
       "      <td>1</td>\n",
       "    </tr>\n",
       "    <tr>\n",
       "      <th>1</th>\n",
       "      <td>one</td>\n",
       "      <td>1</td>\n",
       "    </tr>\n",
       "    <tr>\n",
       "      <th>...</th>\n",
       "      <td>...</td>\n",
       "      <td>...</td>\n",
       "    </tr>\n",
       "    <tr>\n",
       "      <th>5</th>\n",
       "      <td>two</td>\n",
       "      <td>4</td>\n",
       "    </tr>\n",
       "    <tr>\n",
       "      <th>6</th>\n",
       "      <td>two</td>\n",
       "      <td>4</td>\n",
       "    </tr>\n",
       "  </tbody>\n",
       "</table>\n",
       "<p>7 rows × 2 columns</p>\n",
       "</div>"
      ],
      "text/plain": [
       "     k1  k2\n",
       "0   one   1\n",
       "1   one   1\n",
       "..  ...  ..\n",
       "5   two   4\n",
       "6   two   4\n",
       "\n",
       "[7 rows x 2 columns]"
      ]
     },
     "execution_count": 61,
     "metadata": {},
     "output_type": "execute_result"
    }
   ],
   "source": [
    "df=dforiginal.copy()\n",
    "df"
   ]
  },
  {
   "cell_type": "code",
   "execution_count": 62,
   "metadata": {},
   "outputs": [
    {
     "data": {
      "text/html": [
       "<div>\n",
       "<style scoped>\n",
       "    .dataframe tbody tr th:only-of-type {\n",
       "        vertical-align: middle;\n",
       "    }\n",
       "\n",
       "    .dataframe tbody tr th {\n",
       "        vertical-align: top;\n",
       "    }\n",
       "\n",
       "    .dataframe thead th {\n",
       "        text-align: right;\n",
       "    }\n",
       "</style>\n",
       "<table border=\"1\" class=\"dataframe\">\n",
       "  <thead>\n",
       "    <tr style=\"text-align: right;\">\n",
       "      <th></th>\n",
       "      <th>k1</th>\n",
       "      <th>k2</th>\n",
       "    </tr>\n",
       "  </thead>\n",
       "  <tbody>\n",
       "    <tr>\n",
       "      <th>0</th>\n",
       "      <td>One</td>\n",
       "      <td>1</td>\n",
       "    </tr>\n",
       "    <tr>\n",
       "      <th>1</th>\n",
       "      <td>One</td>\n",
       "      <td>1</td>\n",
       "    </tr>\n",
       "    <tr>\n",
       "      <th>...</th>\n",
       "      <td>...</td>\n",
       "      <td>...</td>\n",
       "    </tr>\n",
       "    <tr>\n",
       "      <th>5</th>\n",
       "      <td>two</td>\n",
       "      <td>4</td>\n",
       "    </tr>\n",
       "    <tr>\n",
       "      <th>6</th>\n",
       "      <td>two</td>\n",
       "      <td>4</td>\n",
       "    </tr>\n",
       "  </tbody>\n",
       "</table>\n",
       "<p>7 rows × 2 columns</p>\n",
       "</div>"
      ],
      "text/plain": [
       "     k1  k2\n",
       "0   One   1\n",
       "1   One   1\n",
       "..  ...  ..\n",
       "5   two   4\n",
       "6   two   4\n",
       "\n",
       "[7 rows x 2 columns]"
      ]
     },
     "execution_count": 62,
     "metadata": {},
     "output_type": "execute_result"
    }
   ],
   "source": [
    "df.replace('one', 'One',inplace=True)\n",
    "df"
   ]
  },
  {
   "cell_type": "markdown",
   "metadata": {},
   "source": [
    "Reemplaza varios a la vez"
   ]
  },
  {
   "cell_type": "code",
   "execution_count": 63,
   "metadata": {},
   "outputs": [
    {
     "data": {
      "text/html": [
       "<div>\n",
       "<style scoped>\n",
       "    .dataframe tbody tr th:only-of-type {\n",
       "        vertical-align: middle;\n",
       "    }\n",
       "\n",
       "    .dataframe tbody tr th {\n",
       "        vertical-align: top;\n",
       "    }\n",
       "\n",
       "    .dataframe thead th {\n",
       "        text-align: right;\n",
       "    }\n",
       "</style>\n",
       "<table border=\"1\" class=\"dataframe\">\n",
       "  <thead>\n",
       "    <tr style=\"text-align: right;\">\n",
       "      <th></th>\n",
       "      <th>k1</th>\n",
       "      <th>k2</th>\n",
       "    </tr>\n",
       "  </thead>\n",
       "  <tbody>\n",
       "    <tr>\n",
       "      <th>0</th>\n",
       "      <td>One</td>\n",
       "      <td>10</td>\n",
       "    </tr>\n",
       "    <tr>\n",
       "      <th>1</th>\n",
       "      <td>One</td>\n",
       "      <td>10</td>\n",
       "    </tr>\n",
       "    <tr>\n",
       "      <th>...</th>\n",
       "      <td>...</td>\n",
       "      <td>...</td>\n",
       "    </tr>\n",
       "    <tr>\n",
       "      <th>5</th>\n",
       "      <td>Two</td>\n",
       "      <td>4</td>\n",
       "    </tr>\n",
       "    <tr>\n",
       "      <th>6</th>\n",
       "      <td>Two</td>\n",
       "      <td>4</td>\n",
       "    </tr>\n",
       "  </tbody>\n",
       "</table>\n",
       "<p>7 rows × 2 columns</p>\n",
       "</div>"
      ],
      "text/plain": [
       "     k1  k2\n",
       "0   One  10\n",
       "1   One  10\n",
       "..  ...  ..\n",
       "5   Two   4\n",
       "6   Two   4\n",
       "\n",
       "[7 rows x 2 columns]"
      ]
     },
     "execution_count": 63,
     "metadata": {},
     "output_type": "execute_result"
    }
   ],
   "source": [
    "df.replace({'two':'Two', 1:10},inplace=True)\n",
    "df"
   ]
  },
  {
   "cell_type": "markdown",
   "metadata": {},
   "source": [
    "## 2.11 Aplicar un lambda"
   ]
  },
  {
   "cell_type": "code",
   "execution_count": 245,
   "metadata": {},
   "outputs": [],
   "source": [
    "def num_missing(x):\n",
    "  return sum(x.isnull())"
   ]
  },
  {
   "cell_type": "code",
   "execution_count": 246,
   "metadata": {},
   "outputs": [
    {
     "data": {
      "text/plain": [
       "AA      0\n",
       "GE      0\n",
       "IBM     0\n",
       "MSFT    0\n",
       "dtype: int64"
      ]
     },
     "execution_count": 246,
     "metadata": {},
     "output_type": "execute_result"
    }
   ],
   "source": [
    "df.apply(num_missing, axis=0).head()"
   ]
  },
  {
   "cell_type": "code",
   "execution_count": 247,
   "metadata": {},
   "outputs": [
    {
     "data": {
      "text/plain": [
       "date\n",
       "1990-01-02    0\n",
       "1990-02-02    0\n",
       "             ..\n",
       "1990-06-02    0\n",
       "1990-07-02    0\n",
       "Length: 5, dtype: int64"
      ]
     },
     "execution_count": 247,
     "metadata": {},
     "output_type": "execute_result"
    }
   ],
   "source": [
    "df.apply(num_missing, axis=1).head()"
   ]
  },
  {
   "cell_type": "markdown",
   "metadata": {},
   "source": [
    "# 3. Group By"
   ]
  },
  {
   "cell_type": "code",
   "execution_count": 64,
   "metadata": {},
   "outputs": [
    {
     "data": {
      "text/plain": [
       "<matplotlib.axes._subplots.AxesSubplot at 0x229e82f8f88>"
      ]
     },
     "execution_count": 64,
     "metadata": {},
     "output_type": "execute_result"
    },
    {
     "data": {
      "image/png": "[encoded data removed]",
      "text/plain": [
       "<Figure size 432x288 with 1 Axes>"
      ]
     },
     "metadata": {
      "needs_background": "light"
     },
     "output_type": "display_data"
    }
   ],
   "source": [
    "cg = c.groupby(['year']).size()\n",
    "cg.plot()"
   ]
  },
  {
   "cell_type": "code",
   "execution_count": 65,
   "metadata": {},
   "outputs": [
    {
     "data": {
      "text/plain": [
       "year\n",
       "2003    2\n",
       "2004    2\n",
       "       ..\n",
       "2006    1\n",
       "2007    2\n",
       "Length: 5, dtype: int64"
      ]
     },
     "execution_count": 65,
     "metadata": {},
     "output_type": "execute_result"
    }
   ],
   "source": [
    "c = casts\n",
    "cf = c[c['name'] == 'Aaron Abrams']\n",
    "cf.groupby(['year']).size().head()"
   ]
  },
  {
   "cell_type": "markdown",
   "metadata": {},
   "source": [
    "Hace un group by usando mas de una columna"
   ]
  },
  {
   "cell_type": "code",
   "execution_count": 66,
   "metadata": {},
   "outputs": [
    {
     "data": {
      "text/plain": [
       "year  title                               \n",
       "2003  The In-Laws                             1\n",
       "      The Visual Bible: The Gospel of John    1\n",
       "                                             ..\n",
       "2004  Siblings                                1\n",
       "2005  Cinderella Man                          1\n",
       "Length: 5, dtype: int64"
      ]
     },
     "execution_count": 66,
     "metadata": {},
     "output_type": "execute_result"
    }
   ],
   "source": [
    "cf.groupby(['year', 'title']).size().head()"
   ]
  },
  {
   "cell_type": "code",
   "execution_count": 67,
   "metadata": {},
   "outputs": [
    {
     "data": {
      "text/plain": [
       "year\n",
       "1912     6.0\n",
       "1913    14.0\n",
       "        ... \n",
       "1915    14.0\n",
       "1916    35.0\n",
       "Name: n, Length: 5, dtype: float64"
      ]
     },
     "execution_count": 67,
     "metadata": {},
     "output_type": "execute_result"
    }
   ],
   "source": [
    "c.groupby(['year']).n.max().head()"
   ]
  },
  {
   "cell_type": "code",
   "execution_count": 68,
   "metadata": {},
   "outputs": [
    {
     "data": {
      "text/plain": [
       "year\n",
       "1912    6.0\n",
       "1913    1.0\n",
       "       ... \n",
       "1915    1.0\n",
       "1916    1.0\n",
       "Name: n, Length: 5, dtype: float64"
      ]
     },
     "execution_count": 68,
     "metadata": {},
     "output_type": "execute_result"
    }
   ],
   "source": [
    "c.groupby(['year']).n.min().head()"
   ]
  },
  {
   "cell_type": "code",
   "execution_count": 69,
   "metadata": {},
   "outputs": [
    {
     "data": {
      "text/plain": [
       "year\n",
       "1912    6.000000\n",
       "1913    4.142857\n",
       "          ...   \n",
       "1915    4.236111\n",
       "1916    5.037736\n",
       "Name: n, Length: 5, dtype: float64"
      ]
     },
     "execution_count": 69,
     "metadata": {},
     "output_type": "execute_result"
    }
   ],
   "source": [
    "c.groupby(['year']).n.mean().head()"
   ]
  },
  {
   "cell_type": "markdown",
   "metadata": {},
   "source": [
    "Tambien podemos hacer un group by por un campo __custom__:"
   ]
  },
  {
   "cell_type": "code",
   "execution_count": 70,
   "metadata": {},
   "outputs": [
    {
     "data": {
      "text/plain": [
       "year\n",
       "1910     669\n",
       "1920    1121\n",
       "        ... \n",
       "1940    3997\n",
       "1950    3892\n",
       "Name: n, Length: 5, dtype: int64"
      ]
     },
     "execution_count": 70,
     "metadata": {},
     "output_type": "execute_result"
    }
   ],
   "source": [
    "decade = c['year']//10*10\n",
    "c_dec = c.groupby(decade).n.size()\n",
    "c_dec.head()"
   ]
  },
  {
   "cell_type": "code",
   "execution_count": 71,
   "metadata": {},
   "outputs": [
    {
     "data": {
      "text/html": [
       "<div>\n",
       "<style scoped>\n",
       "    .dataframe tbody tr th:only-of-type {\n",
       "        vertical-align: middle;\n",
       "    }\n",
       "\n",
       "    .dataframe tbody tr th {\n",
       "        vertical-align: top;\n",
       "    }\n",
       "\n",
       "    .dataframe thead th {\n",
       "        text-align: right;\n",
       "    }\n",
       "</style>\n",
       "<table border=\"1\" class=\"dataframe\">\n",
       "  <thead>\n",
       "    <tr style=\"text-align: right;\">\n",
       "      <th></th>\n",
       "      <th>title</th>\n",
       "      <th>year</th>\n",
       "      <th>name</th>\n",
       "      <th>type</th>\n",
       "      <th>character</th>\n",
       "      <th>n</th>\n",
       "    </tr>\n",
       "  </thead>\n",
       "  <tbody>\n",
       "    <tr>\n",
       "      <th>0</th>\n",
       "      <td>Closet Monster</td>\n",
       "      <td>2015</td>\n",
       "      <td>Buffy #1</td>\n",
       "      <td>actor</td>\n",
       "      <td>Buffy 4</td>\n",
       "      <td>31.0</td>\n",
       "    </tr>\n",
       "    <tr>\n",
       "      <th>1</th>\n",
       "      <td>Suuri illusioni</td>\n",
       "      <td>1985</td>\n",
       "      <td>Homo $</td>\n",
       "      <td>actor</td>\n",
       "      <td>Guests</td>\n",
       "      <td>22.0</td>\n",
       "    </tr>\n",
       "    <tr>\n",
       "      <th>...</th>\n",
       "      <td>...</td>\n",
       "      <td>...</td>\n",
       "      <td>...</td>\n",
       "      <td>...</td>\n",
       "      <td>...</td>\n",
       "      <td>...</td>\n",
       "    </tr>\n",
       "    <tr>\n",
       "      <th>74999</th>\n",
       "      <td>Toxic Tutu</td>\n",
       "      <td>2016</td>\n",
       "      <td>Zoe Anastassiou</td>\n",
       "      <td>actress</td>\n",
       "      <td>Demon of Toxicity</td>\n",
       "      <td>NaN</td>\n",
       "    </tr>\n",
       "    <tr>\n",
       "      <th>75000</th>\n",
       "      <td>Fugitive Pieces</td>\n",
       "      <td>2007</td>\n",
       "      <td>Anastassia Anastassopoulou</td>\n",
       "      <td>actress</td>\n",
       "      <td>Laundry Girl</td>\n",
       "      <td>25.0</td>\n",
       "    </tr>\n",
       "  </tbody>\n",
       "</table>\n",
       "<p>75001 rows × 6 columns</p>\n",
       "</div>"
      ],
      "text/plain": [
       "                 title  year                        name     type  \\\n",
       "0       Closet Monster  2015                    Buffy #1    actor   \n",
       "1      Suuri illusioni  1985                      Homo $    actor   \n",
       "...                ...   ...                         ...      ...   \n",
       "74999       Toxic Tutu  2016             Zoe Anastassiou  actress   \n",
       "75000  Fugitive Pieces  2007  Anastassia Anastassopoulou  actress   \n",
       "\n",
       "               character     n  \n",
       "0                Buffy 4  31.0  \n",
       "1                 Guests  22.0  \n",
       "...                  ...   ...  \n",
       "74999  Demon of Toxicity   NaN  \n",
       "75000       Laundry Girl  25.0  \n",
       "\n",
       "[75001 rows x 6 columns]"
      ]
     },
     "execution_count": 71,
     "metadata": {},
     "output_type": "execute_result"
    }
   ],
   "source": [
    "c"
   ]
  },
  {
   "cell_type": "code",
   "execution_count": 72,
   "metadata": {},
   "outputs": [
    {
     "data": {
      "text/plain": [
       "<pandas.core.groupby.generic.SeriesGroupBy object at 0x00000229E839CCC8>"
      ]
     },
     "execution_count": 72,
     "metadata": {},
     "output_type": "execute_result"
    }
   ],
   "source": [
    "cg1=c['name'].groupby(c['year'])\n",
    "cg1"
   ]
  },
  {
   "cell_type": "code",
   "execution_count": 73,
   "metadata": {},
   "outputs": [
    {
     "name": "stdout",
     "output_type": "stream",
     "text": [
      "1912\n",
      "21879    James D. Ainsley\n",
      "63234          Rina Albry\n",
      "69034          Gyda Aller\n",
      "Name: name, dtype: object\n",
      "1913\n",
      "14100        Eric Adeney\n",
      "17190    Svend Aggerholm\n",
      "              ...       \n",
      "44273       Carl Alstrup\n",
      "57767    Ellen Aggerholm\n",
      "Name: name, Length: 10, dtype: object\n",
      "1914\n",
      "55                   Paddy 'Malid\n",
      "334                 Enoch Aagaard\n",
      "                   ...           \n",
      "69031                  Gyda Aller\n",
      "70127    Italia Almirante-Manzini\n",
      "Name: name, Length: 61, dtype: object\n",
      "1915\n",
      "1737     Charles S. Abbe\n",
      "1738     Charles S. Abbe\n",
      "              ...       \n",
      "69387        May Allison\n",
      "71030       Lottie Alter\n",
      "Name: name, Length: 82, dtype: object\n",
      "1916\n",
      "4510     William L. Abingdon\n",
      "7542        Fritz Achterberg\n",
      "                ...         \n",
      "71031           Lottie Alter\n",
      "74930          Alice Anaroni\n",
      "Name: name, Length: 116, dtype: object\n",
      "1917\n",
      "282                    Hauk Aabel\n",
      "2014                  Jack Abbott\n",
      "                   ...           \n",
      "69384                 May Allison\n",
      "70129    Italia Almirante-Manzini\n",
      "Name: name, Length: 117, dtype: object\n",
      "1918\n",
      "335         Joakim Aagaard\n",
      "526          Adolf Aanesen\n",
      "               ...        \n",
      "71987    Adeline M. Alvord\n",
      "72002           Jean Alwyn\n",
      "Name: name, Length: 133, dtype: object\n",
      "1919\n",
      "1569      Hector Abbas\n",
      "3390        Yutaka Abe\n",
      "             ...      \n",
      "74208    Ot?lia Amorim\n",
      "74209    Ot?lia Amorim\n",
      "Name: name, Length: 147, dtype: object\n",
      "1920\n",
      "1561                 Hector Abbas\n",
      "1733              Charles S. Abbe\n",
      "                   ...           \n",
      "69391                 May Allison\n",
      "70128    Italia Almirante-Manzini\n",
      "Name: name, Length: 127, dtype: object\n",
      "1921\n",
      "292        Linus Aaberg\n",
      "1178     Vaso Abashidze\n",
      "              ...      \n",
      "69381       May Allison\n",
      "72905     Violet Ambert\n",
      "Name: name, Length: 112, dtype: object\n",
      "1922\n",
      "1559        Hector Abbas\n",
      "1734     Charles S. Abbe\n",
      "              ...       \n",
      "69393        May Allison\n",
      "73377          Anna Ames\n",
      "Name: name, Length: 94, dtype: object\n",
      "1923\n",
      "762                  Uuno Aarto\n",
      "812                  John Aasen\n",
      "                  ...          \n",
      "68624             Phyllis Allen\n",
      "73119    Maria Ambroziewicz?wna\n",
      "Name: name, Length: 100, dtype: object\n",
      "1924\n",
      "8199       Art Acord\n",
      "8205       Art Acord\n",
      "            ...     \n",
      "69358    May Allison\n",
      "69395    May Allison\n",
      "Name: name, Length: 95, dtype: object\n",
      "1925\n",
      "1989          Frank Abbott\n",
      "4028     Hovhannes Abelyan\n",
      "               ...        \n",
      "70979        Edneh Altemus\n",
      "72051    Varvara Alyokhina\n",
      "Name: name, Length: 134, dtype: object\n",
      "1926\n",
      "1179     Vaso Abashidze\n",
      "3198          Gishi Abe\n",
      "              ...      \n",
      "72480       Betty Amann\n",
      "73123      Irene Ambrus\n",
      "Name: name, Length: 98, dtype: object\n",
      "1927\n",
      "285          Hauk Aabel\n",
      "809          John Aasen\n",
      "              ...      \n",
      "72656         Amary-Lys\n",
      "73884    Evridiki Amira\n",
      "Name: name, Length: 113, dtype: object\n",
      "1928\n",
      "1560               Hector Abbas\n",
      "3541                Alfred Abel\n",
      "                  ...          \n",
      "68378             Lillian Allen\n",
      "73118    Maria Ambroziewicz?wna\n",
      "Name: name, Length: 116, dtype: object\n",
      "1929\n",
      "810         John Aasen\n",
      "2005     George Abbott\n",
      "             ...      \n",
      "73353    Adrienne Ames\n",
      "73477        Lucy Ames\n",
      "Name: name, Length: 132, dtype: object\n",
      "1930\n",
      "489      Kristian Aamodt\n",
      "1567        Hector Abbas\n",
      "              ...       \n",
      "73124       Irene Ambrus\n",
      "73126       Irene Ambrus\n",
      "Name: name, Length: 186, dtype: object\n",
      "1931\n",
      "134          5 Artonis\n",
      "1563      Hector Abbas\n",
      "             ...      \n",
      "73362    Adrienne Ames\n",
      "73381    Beatrice Ames\n",
      "Name: name, Length: 220, dtype: object\n",
      "1932\n",
      "284         Hauk Aabel\n",
      "808         John Aasen\n",
      "             ...      \n",
      "73360    Adrienne Ames\n",
      "73539    Rosemary Ames\n",
      "Name: name, Length: 252, dtype: object\n",
      "1933\n",
      "543      Satyanarayana Aarani\n",
      "1571             Hector Abbas\n",
      "                 ...         \n",
      "73356           Adrienne Ames\n",
      "73540           Rosemary Ames\n",
      "Name: name, Length: 249, dtype: object\n",
      "1934\n",
      "1523       Abdullah Abbas\n",
      "1531       Abdullah Abbas\n",
      "               ...       \n",
      "73904    Tsatsa Amirejibi\n",
      "74134      Hildegard Amon\n",
      "Name: name, Length: 351, dtype: object\n",
      "1935\n",
      "283            Hauk Aabel\n",
      "806            John Aasen\n",
      "               ...       \n",
      "73596      Estela Ametler\n",
      "73901    Tsatsa Amirejibi\n",
      "Name: name, Length: 398, dtype: object\n",
      "1936\n",
      "805          John Aasen\n",
      "807          John Aasen\n",
      "              ...      \n",
      "74339    Leonor Amparan\n",
      "74619          Anaclara\n",
      "Name: name, Length: 444, dtype: object\n",
      "1937\n",
      "1511       Abdullah Abbas\n",
      "1570         Hector Abbas\n",
      "               ...       \n",
      "73837    Marianne Aminoff\n",
      "74618            Anaclara\n",
      "Name: name, Length: 470, dtype: object\n",
      "1938\n",
      "286            Hauk Aabel\n",
      "441        Kosti Aaltonen\n",
      "               ...       \n",
      "73831    Marianne Aminoff\n",
      "73843    Marianne Aminoff\n",
      "Name: name, Length: 431, dtype: object\n",
      "1939\n",
      "437        Kosti Aaltonen\n",
      "470         Yrj? Aaltonen\n",
      "               ...       \n",
      "73359       Adrienne Ames\n",
      "73834    Marianne Aminoff\n",
      "Name: name, Length: 447, dtype: object\n",
      "1940\n",
      "440              Kosti Aaltonen\n",
      "1938                 Bud Abbott\n",
      "                  ...          \n",
      "73840          Marianne Aminoff\n",
      "74059    Princess Vanessa Ammon\n",
      "Name: name, Length: 435, dtype: object\n",
      "1941\n",
      "1499     Abdullah Abbas\n",
      "1530     Abdullah Abbas\n",
      "              ...      \n",
      "73437         Jean Ames\n",
      "73439         Jean Ames\n",
      "Name: name, Length: 444, dtype: object\n",
      "1942\n",
      "288             Per Aabel\n",
      "289             Per Aabel\n",
      "               ...       \n",
      "73444           Jean Ames\n",
      "73844    Marianne Aminoff\n",
      "Name: name, Length: 447, dtype: object\n",
      "1943\n",
      "446        Kosti Aaltonen\n",
      "849       Kaarlo Aavajoki\n",
      "               ...       \n",
      "73594      Estela Ametler\n",
      "74070    Consuelo del Amo\n",
      "Name: name, Length: 404, dtype: object\n",
      "1944\n",
      "338      Karl Aagard ?stvig\n",
      "444          Kosti Aaltonen\n",
      "                ...        \n",
      "73523           Ramsay Ames\n",
      "73528           Ramsay Ames\n",
      "Name: name, Length: 382, dtype: object\n",
      "1945\n",
      "429      Heikki Aaltoila\n",
      "848      Kaarlo Aavajoki\n",
      "              ...       \n",
      "74177          Pita Amor\n",
      "74556     Denise Amyenne\n",
      "Name: name, Length: 397, dtype: object\n",
      "1946\n",
      "616      Charles Aaron\n",
      "617      Charles Aaron\n",
      "             ...      \n",
      "73619     Ebba Amfeldt\n",
      "74837        Uma Anand\n",
      "Name: name, Length: 384, dtype: object\n",
      "1947\n",
      "445                 Kosti Aaltonen\n",
      "587      Aaron Gonzales' Orchestra\n",
      "                   ...            \n",
      "73531                  Ramsay Ames\n",
      "73830             Marianne Aminoff\n",
      "Name: name, Length: 389, dtype: object\n",
      "1948\n",
      "281       Andreas Aabel\n",
      "443      Kosti Aaltonen\n",
      "              ...      \n",
      "73520       Ramsay Ames\n",
      "74178         Rita Amor\n",
      "Name: name, Length: 366, dtype: object\n",
      "1949\n",
      "442      Kosti Aaltonen\n",
      "1520     Abdullah Abbas\n",
      "              ...      \n",
      "73738       Norma Amigo\n",
      "74602             Qi An\n",
      "Name: name, Length: 349, dtype: object\n",
      "1950\n",
      "273       Subba Rao A.V.\n",
      "438       Kosti Aaltonen\n",
      "              ...       \n",
      "72538       Leonora Amar\n",
      "72637    Blanquita Amaro\n",
      "Name: name, Length: 373, dtype: object\n",
      "1951\n",
      "1202         Adel Abass\n",
      "1508     Abdullah Abbas\n",
      "              ...      \n",
      "73565      Suzanne Ames\n",
      "74072      Laly del Amo\n",
      "Name: name, Length: 388, dtype: object\n",
      "1952\n",
      "372            Lee Aaker\n",
      "374            Lee Aaker\n",
      "              ...       \n",
      "73564       Suzanne Ames\n",
      "74025    Maria Ammassari\n",
      "Name: name, Length: 418, dtype: object\n",
      "1953\n",
      "120      Die 3 Motorellos\n",
      "287             Per Aabel\n",
      "               ...       \n",
      "73563        Suzanne Ames\n",
      "73739         Norma Amigo\n",
      "Name: name, Length: 448, dtype: object\n",
      "1954\n",
      "274          Subba Rao A.V.\n",
      "370               Lee Aaker\n",
      "                ...        \n",
      "73626          Ebba Amfeldt\n",
      "74187    Maria Teresa Amore\n",
      "Name: name, Length: 364, dtype: object\n",
      "1955\n",
      "365            Dee Aaker\n",
      "428      Heikki Aaltoila\n",
      "              ...       \n",
      "74005             Ammaji\n",
      "74235    Svetla Amortov?\n",
      "Name: name, Length: 377, dtype: object\n",
      "1956\n",
      "112      Quartetto 2+2\n",
      "363          Dee Aaker\n",
      "             ...      \n",
      "74476      Birte Amter\n",
      "74606              Ana\n",
      "Name: name, Length: 433, dtype: object\n",
      "1957\n",
      "68       'Stretch' Cox Troupe\n",
      "471             Yrj? Aaltonen\n",
      "                 ...         \n",
      "74236         Svetla Amortov?\n",
      "74663           Isabel Analla\n",
      "Name: name, Length: 356, dtype: object\n",
      "1958\n",
      "70       Frans 't Hoen\n",
      "388          Lee Aaker\n",
      "             ...      \n",
      "74254        Beth Amos\n",
      "74664    Isabel Analla\n",
      "Name: name, Length: 361, dtype: object\n",
      "1959\n",
      "1173       Gocha Abashidze\n",
      "1174       Gocha Abashidze\n",
      "               ...        \n",
      "74691        Kakia Analyti\n",
      "74884    Valentina Ananina\n",
      "Name: name, Length: 374, dtype: object\n",
      "1960\n",
      "69                  Frans 't Hoen\n",
      "117      2nd Marine Division Band\n",
      "                   ...           \n",
      "74700               Kakia Analyti\n",
      "74701               Kakia Analyti\n",
      "Name: name, Length: 340, dtype: object\n",
      "1961\n",
      "534                 Aapeli\n",
      "735          Alan Aaronson\n",
      "               ...        \n",
      "74698        Kakia Analyti\n",
      "74869    Valentina Ananina\n",
      "Name: name, Length: 344, dtype: object\n",
      "1962\n",
      "466      Risto Aaltonen\n",
      "1502     Abdullah Abbas\n",
      "              ...      \n",
      "74696     Kakia Analyti\n",
      "74699     Kakia Analyti\n",
      "Name: name, Length: 356, dtype: object\n",
      "1963\n",
      "32          'El Guisa'\n",
      "34           'El Viti'\n",
      "             ...      \n",
      "74681    Kakia Analyti\n",
      "74685    Kakia Analyti\n",
      "Name: name, Length: 337, dtype: object\n",
      "1964\n",
      "576           Annu Aarnela\n",
      "775               Arne Aas\n",
      "               ...        \n",
      "74703        Kakia Analyti\n",
      "74886    Valentina Ananina\n",
      "Name: name, Length: 379, dtype: object\n",
      "1965\n",
      "648         Levy Aaron\n",
      "789           Arne Aas\n",
      "             ...      \n",
      "74678    Kakia Analyti\n",
      "74683    Kakia Analyti\n",
      "Name: name, Length: 373, dtype: object\n",
      "1966\n",
      "1146        Dodo Abashidze\n",
      "1147        Dodo Abashidze\n",
      "               ...        \n",
      "74875    Valentina Ananina\n",
      "74883    Valentina Ananina\n",
      "Name: name, Length: 358, dtype: object\n",
      "1967\n",
      "782           Arne Aas\n",
      "899          Jos? Abad\n",
      "             ...      \n",
      "74813     Sujata Anand\n",
      "74937    Nita Anastase\n",
      "Name: name, Length: 403, dtype: object\n",
      "1968\n",
      "171              Equipe 84\n",
      "776               Arne Aas\n",
      "               ...        \n",
      "73881           Amira (II)\n",
      "74868    Valentina Ananina\n",
      "Name: name, Length: 394, dtype: object\n",
      "1969\n",
      "105         13th Committee\n",
      "458         Risto Aaltonen\n",
      "               ...        \n",
      "74672        Kakia Analyti\n",
      "74877    Valentina Ananina\n",
      "Name: name, Length: 459, dtype: object\n",
      "1970\n",
      "114           Ballett 2000\n",
      "460         Risto Aaltonen\n",
      "               ...        \n",
      "74654            Anakorita\n",
      "74879    Valentina Ananina\n",
      "Name: name, Length: 452, dtype: object\n",
      "1971\n",
      "41               Murray the 'K'\n",
      "545               Efisio Aarbus\n",
      "                  ...          \n",
      "73794               Mervat Amin\n",
      "74483    Margarita Amuch?stegui\n",
      "Name: name, Length: 423, dtype: object\n",
      "1972\n",
      "1124     Boleslaw Abart\n",
      "1158     Dodo Abashidze\n",
      "              ...      \n",
      "73847     Elena Aminova\n",
      "74605             An-Ni\n",
      "Name: name, Length: 398, dtype: object\n",
      "1973\n",
      "514         Peter Aanensen\n",
      "621       David (IV) Aaron\n",
      "               ...        \n",
      "74820         Sujata Anand\n",
      "74881    Valentina Ananina\n",
      "Name: name, Length: 430, dtype: object\n",
      "1974\n",
      "777               Arne Aas\n",
      "788               Arne Aas\n",
      "               ...        \n",
      "74673        Kakia Analyti\n",
      "74871    Valentina Ananina\n",
      "Name: name, Length: 478, dtype: object\n",
      "1975\n",
      "43          Murray the 'K'\n",
      "729          Gerald Aarons\n",
      "               ...        \n",
      "74822         Sujata Anand\n",
      "74873    Valentina Ananina\n",
      "Name: name, Length: 438, dtype: object\n",
      "1976\n",
      "109      The 18 Wheelers of Interstate 5\n",
      "422                          Petri Aalto\n",
      "                      ...               \n",
      "74870                  Valentina Ananina\n",
      "74878                  Valentina Ananina\n",
      "Name: name, Length: 447, dtype: object\n",
      "1977\n",
      "20       Ramon 'Cartucho' Pena\n",
      "295                   Ole Aaby\n",
      "                 ...          \n",
      "74809              Shoma Anand\n",
      "74885        Valentina Ananina\n",
      "Name: name, Length: 435, dtype: object\n",
      "1978\n",
      "42        Murray the 'K'\n",
      "290        Dennis Aaberg\n",
      "              ...       \n",
      "74936      Nita Anastase\n",
      "74990    Doina Anastasiu\n",
      "Name: name, Length: 423, dtype: object\n",
      "1979\n",
      "486           Willie Aames\n",
      "536                Jim Aar\n",
      "               ...        \n",
      "74874    Valentina Ananina\n",
      "74880    Valentina Ananina\n",
      "Name: name, Length: 419, dtype: object\n",
      "1980\n",
      "197            Bobby A.\n",
      "432      Jouko Aaltonen\n",
      "              ...      \n",
      "74792       Shoma Anand\n",
      "74804       Shoma Anand\n",
      "Name: name, Length: 427, dtype: object\n",
      "1981\n",
      "436      Kalevi Aaltonen\n",
      "450        Remu Aaltonen\n",
      "              ...       \n",
      "73693       Souad Amidou\n",
      "74781        Shoma Anand\n",
      "Name: name, Length: 501, dtype: object\n",
      "1982\n",
      "121              33 1/3\n",
      "137              Mick 5\n",
      "              ...      \n",
      "74625    Roza Anagnosti\n",
      "74818      Sujata Anand\n",
      "Name: name, Length: 487, dtype: object\n",
      "1983\n",
      "125      4 Out of 5 Doctors\n",
      "461          Risto Aaltonen\n",
      "                ...        \n",
      "74787           Shoma Anand\n",
      "74800           Shoma Anand\n",
      "Name: name, Length: 484, dtype: object\n",
      "1984\n",
      "71           Dick 't Hooft\n",
      "182      Yussuf Abed A'Nur\n",
      "               ...        \n",
      "74790          Shoma Anand\n",
      "74872    Valentina Ananina\n",
      "Name: name, Length: 531, dtype: object\n",
      "1985\n",
      "1                Homo $\n",
      "452      Risto Aaltonen\n",
      "              ...      \n",
      "74806       Shoma Anand\n",
      "74825      Sujata Anand\n",
      "Name: name, Length: 620, dtype: object\n",
      "1986\n",
      "122           The 39 Steps\n",
      "348                 Aakash\n",
      "               ...        \n",
      "74819         Sujata Anand\n",
      "74887    Valentina Ananina\n",
      "Name: name, Length: 535, dtype: object\n",
      "1987\n",
      "178      Brett A'Hearn\n",
      "610          Bob Aaron\n",
      "             ...      \n",
      "74817     Sujata Anand\n",
      "74828     Sujata Anand\n",
      "Name: name, Length: 655, dtype: object\n",
      "1988\n",
      "210           Prasad A.\n",
      "463      Risto Aaltonen\n",
      "              ...      \n",
      "74834     Suparna Anand\n",
      "74836     Suparna Anand\n",
      "Name: name, Length: 655, dtype: object\n",
      "1989\n",
      "188              Yunga A\n",
      "469      Veikko Aaltonen\n",
      "              ...       \n",
      "74823       Sujata Anand\n",
      "74835      Suparna Anand\n",
      "Name: name, Length: 659, dtype: object\n",
      "1990\n",
      "609              Bob Aaron\n",
      "736      Bob (II) Aaronson\n",
      "               ...        \n",
      "74831        Suparna Anand\n",
      "74832        Suparna Anand\n"
     ]
    },
    {
     "name": "stdout",
     "output_type": "stream",
     "text": [
      "Name: name, Length: 679, dtype: object\n",
      "1991\n",
      "456      Risto Aaltonen\n",
      "757      Reidar Aarsand\n",
      "              ...      \n",
      "74827      Sujata Anand\n",
      "74833     Suparna Anand\n",
      "Name: name, Length: 637, dtype: object\n",
      "1992\n",
      "51       Tony 'La Chispa'\n",
      "342         Larry Aagesen\n",
      "               ...       \n",
      "74706              Anamia\n",
      "74830       Suparna Anand\n",
      "Name: name, Length: 623, dtype: object\n",
      "1993\n",
      "31           F?lix 'El Gato'\n",
      "38       Van 'Igor' Morrison\n",
      "                ...         \n",
      "74815           Sujata Anand\n",
      "74988          Zoe Anastasis\n",
      "Name: name, Length: 644, dtype: object\n",
      "1994\n",
      "65       Chris 'Slick' Nesevitch\n",
      "414               Preben Aalholt\n",
      "                  ...           \n",
      "74816               Sujata Anand\n",
      "74826               Sujata Anand\n",
      "Name: name, Length: 691, dtype: object\n",
      "1995\n",
      "52          Tony 'La Chispa'\n",
      "181          Charles A'Lexis\n",
      "                ...         \n",
      "74620    Marinella Anaclerio\n",
      "74928     Angeliki Anargyrou\n",
      "Name: name, Length: 783, dtype: object\n",
      "1996\n",
      "44       N?stor 'Kick Boxer'\n",
      "180          Charles A'Lexis\n",
      "                ...         \n",
      "74971     Maria Anastasiadou\n",
      "74972     Maria Anastasiadou\n",
      "Name: name, Length: 769, dtype: object\n",
      "1997\n",
      "19       Joseph 'Byron' Sese\n",
      "110                    2 Bal\n",
      "                ...         \n",
      "74616        Kristen Anacker\n",
      "74829          Suparna Anand\n",
      "Name: name, Length: 929, dtype: object\n",
      "1998\n",
      "12       Michael 'babeepower' Viera\n",
      "104                         Nick 13\n",
      "                    ...            \n",
      "74546                  Oshinsky Amy\n",
      "74659                   Rena Anakwe\n",
      "Name: name, Length: 867, dtype: object\n",
      "1999\n",
      "116               Chali 2na\n",
      "131                40 Glocc\n",
      "                ...        \n",
      "74459        Lisa Amsterdam\n",
      "74513    Eva Amurri Martino\n",
      "Name: name, Length: 1030, dtype: object\n",
      "2000\n",
      "13       Steven 'Bear'Boyd\n",
      "130               40 Glocc\n",
      "               ...        \n",
      "74912      Kristina Anapau\n",
      "74933               Anasol\n",
      "Name: name, Length: 1069, dtype: object\n",
      "2001\n",
      "33       Luis 'El Plojo'\n",
      "100          Angel 11:11\n",
      "              ...       \n",
      "74752      Sabitha Anand\n",
      "74921    Kristina Anapau\n",
      "Name: name, Length: 1099, dtype: object\n",
      "2002\n",
      "60                    'Raff'\n",
      "99               Angel 11:11\n",
      "                ...         \n",
      "74889          Seetha Ananth\n",
      "74980    Valentina Anastasio\n",
      "Name: name, Length: 1168, dtype: object\n",
      "2003\n",
      "123       3rd Storee\n",
      "127           4-Zone\n",
      "            ...     \n",
      "74851         Anandi\n",
      "74858    Helen Anang\n",
      "Name: name, Length: 1153, dtype: object\n",
      "2004\n",
      "457             Risto Aaltonen\n",
      "645                Lance Aaron\n",
      "                 ...          \n",
      "74986          Niki Anastasiou\n",
      "74997    Tiannah Anastassiades\n",
      "Name: name, Length: 1372, dtype: object\n",
      "2005\n",
      "48       Johnny 'Koolout' Starks\n",
      "132                     40 Glocc\n",
      "                  ...           \n",
      "74931            Risa Lin Anasky\n",
      "74932            Taina M. Anasky\n",
      "Name: name, Length: 1627, dtype: object\n",
      "2006\n",
      "53       Yradier 'Lito' Tejada\n",
      "97                      Mac 10\n",
      "                 ...          \n",
      "74946          Anastasia (XXV)\n",
      "74958          Joyce Anastasia\n",
      "Name: name, Length: 1910, dtype: object\n",
      "2007\n",
      "24             Jesse 'Casper' Brown\n",
      "124                          4 Cats\n",
      "                    ...            \n",
      "74983    Christina Rosas Anastasiou\n",
      "75000    Anastassia Anastassopoulou\n",
      "Name: name, Length: 1996, dtype: object\n",
      "2008\n",
      "40          David 'Jumbles' Cook\n",
      "45       Johnny 'Koolout' Starks\n",
      "                  ...           \n",
      "74987          Sophia Anastasiou\n",
      "74992       Julia Anastasopoulos\n",
      "Name: name, Length: 2293, dtype: object\n",
      "2009\n",
      "7                   Bee Moe $lim\n",
      "21          Jesse 'Casper' Brown\n",
      "                  ...           \n",
      "74985        Evmorfia Anastasiou\n",
      "74995    Penelope Anastasopoulou\n",
      "Name: name, Length: 2512, dtype: object\n",
      "2010\n",
      "16        George 'Bootsy' Thomas\n",
      "17        George 'Bootsy' Thomas\n",
      "                  ...           \n",
      "74994    Penelope Anastasopoulou\n",
      "74998            Zoe Anastassiou\n",
      "Name: name, Length: 2553, dtype: object\n",
      "2011\n",
      "23          Jesse 'Casper' Brown\n",
      "26          Jesse 'Casper' Brown\n",
      "                  ...           \n",
      "74954       Dumitrescu Anastasia\n",
      "74996    Penelope Anastasopoulou\n",
      "Name: name, Length: 2780, dtype: object\n",
      "2012\n",
      "79                   Francis -\n",
      "87       Isaiah Entsua -Mensah\n",
      "                 ...          \n",
      "74962         Masayu Anastasia\n",
      "74977         Alexia Anastasio\n",
      "Name: name, Length: 3011, dtype: object\n",
      "2013\n",
      "22       Jesse 'Casper' Brown\n",
      "37       Marcelo 'Hos' Bearzi\n",
      "                 ...         \n",
      "74960       Lindsay Anastasia\n",
      "74993     Mara Anastasopoulou\n",
      "Name: name, Length: 3110, dtype: object\n",
      "2014\n",
      "8        Jori ' Danilo' Jurado Jr.\n",
      "9                 Syaiful 'Ariffin\n",
      "                   ...            \n",
      "74976             Alexia Anastasio\n",
      "74991             Jenny Anastasoff\n",
      "Name: name, Length: 3309, dtype: object\n",
      "2015\n",
      "0                          Buffy #1\n",
      "3                           $hutter\n",
      "                    ...            \n",
      "74956                Erin Anastasia\n",
      "74984    Christina Rosas Anastasiou\n",
      "Name: name, Length: 3439, dtype: object\n",
      "2016\n",
      "14           Kirlew 'bliss' Vilbon\n",
      "56       Cameron 'Mascot' Benjamin\n",
      "                   ...            \n",
      "74989             Denisa Anastasiu\n",
      "74999              Zoe Anastassiou\n",
      "Name: name, Length: 3841, dtype: object\n",
      "2017\n",
      "2                      $hutter\n",
      "15       Kirlew 'bliss' Vilbon\n",
      "                 ...          \n",
      "74926          Kristina Anapau\n",
      "74929             Sarah Anarna\n",
      "Name: name, Length: 2159, dtype: object\n",
      "2018\n",
      "663         Nicholas Aaron\n",
      "799      Synne Odland Aase\n",
      "               ...        \n",
      "74200           Ana Amorim\n",
      "74864    Victoria Ananieva\n",
      "Name: name, Length: 158, dtype: object\n",
      "2019\n",
      "244       Sergey A.\n",
      "16812     Ian Agard\n",
      "            ...    \n",
      "62017     Lori Alan\n",
      "64680    Quben Alex\n",
      "Name: name, Length: 16, dtype: object\n",
      "2020\n",
      "7343     Sudarshan Acharya\n",
      "24732          Misan Akuya\n",
      "35687        Darren Alford\n",
      "70800        Kaniah Alston\n",
      "Name: name, dtype: object\n",
      "2023\n",
      "28874     Antonio Alcala\n",
      "63300    Victoria Alcala\n",
      "63301    Victoria Alcala\n",
      "Name: name, dtype: object\n"
     ]
    }
   ],
   "source": [
    "for ano,nombre in cg1:\n",
    "    print(ano)\n",
    "    print(nombre)"
   ]
  },
  {
   "cell_type": "code",
   "execution_count": 74,
   "metadata": {},
   "outputs": [],
   "source": [
    "cg2=c['name'].groupby([c['type'],c['year']])"
   ]
  },
  {
   "cell_type": "code",
   "execution_count": 75,
   "metadata": {},
   "outputs": [
    {
     "name": "stdout",
     "output_type": "stream",
     "text": [
      "1912\n",
      "actor\n",
      "21879    James D. Ainsley\n",
      "Name: name, dtype: object\n",
      "1913\n",
      "actor\n",
      "14100        Eric Adeney\n",
      "17190    Svend Aggerholm\n",
      "              ...       \n",
      "44272       Carl Alstrup\n",
      "44273       Carl Alstrup\n",
      "Name: name, Length: 9, dtype: object\n",
      "1914\n",
      "actor\n",
      "55        Paddy 'Malid\n",
      "334      Enoch Aagaard\n",
      "             ...      \n",
      "49490      Gerald Ames\n",
      "49492      Gerald Ames\n",
      "Name: name, Length: 38, dtype: object\n",
      "1915\n",
      "actor\n",
      "1737     Charles S. Abbe\n",
      "1738     Charles S. Abbe\n",
      "              ...       \n",
      "49509        Gerald Ames\n",
      "49512        Gerald Ames\n",
      "Name: name, Length: 50, dtype: object\n",
      "1916\n",
      "actor\n",
      "4510     William L. Abingdon\n",
      "7542        Fritz Achterberg\n",
      "                ...         \n",
      "49504            Gerald Ames\n",
      "49511            Gerald Ames\n",
      "Name: name, Length: 57, dtype: object\n",
      "1917\n",
      "actor\n",
      "282       Hauk Aabel\n",
      "2014     Jack Abbott\n",
      "            ...     \n",
      "49474    Gerald Ames\n",
      "49506    Gerald Ames\n",
      "Name: name, Length: 58, dtype: object\n",
      "1918\n",
      "actor\n",
      "335      Joakim Aagaard\n",
      "526       Adolf Aanesen\n",
      "              ...      \n",
      "49467       Gerald Ames\n",
      "49482       Gerald Ames\n",
      "Name: name, Length: 88, dtype: object\n",
      "1919\n",
      "actor\n",
      "1569     Hector Abbas\n",
      "3390       Yutaka Abe\n",
      "             ...     \n",
      "49496     Gerald Ames\n",
      "49503     Gerald Ames\n",
      "Name: name, Length: 83, dtype: object\n",
      "1920\n",
      "actor\n",
      "1561        Hector Abbas\n",
      "1733     Charles S. Abbe\n",
      "              ...       \n",
      "49487        Gerald Ames\n",
      "49774        Robert Ames\n",
      "Name: name, Length: 67, dtype: object\n",
      "1921\n",
      "actor\n",
      "292        Linus Aaberg\n",
      "1178     Vaso Abashidze\n",
      "              ...      \n",
      "49486       Gerald Ames\n",
      "49513       Gerald Ames\n",
      "Name: name, Length: 64, dtype: object\n",
      "1922\n",
      "actor\n",
      "1559        Hector Abbas\n",
      "1734     Charles S. Abbe\n",
      "              ...       \n",
      "40493          Sam Allen\n",
      "44271       Carl Alstrup\n",
      "Name: name, Length: 45, dtype: object\n",
      "1923\n",
      "actor\n",
      "762       Uuno Aarto\n",
      "812       John Aasen\n",
      "            ...     \n",
      "49510    Gerald Ames\n",
      "49750     Percy Ames\n",
      "Name: name, Length: 64, dtype: object\n",
      "1924\n",
      "actor\n",
      "8199                        Art Acord\n",
      "8205                        Art Acord\n",
      "                     ...             \n",
      "44475    Parshwanath Yeshwant Altekar\n",
      "45730                    Don Alvarado\n",
      "Name: name, Length: 49, dtype: object\n",
      "1925\n",
      "actor\n",
      "1989          Frank Abbott\n",
      "4028     Hovhannes Abelyan\n",
      "               ...        \n",
      "49769          Robert Ames\n",
      "49775          Robert Ames\n",
      "Name: name, Length: 88, dtype: object\n",
      "1926\n",
      "actor\n",
      "1179     Vaso Abashidze\n",
      "3198          Gishi Abe\n",
      "              ...      \n",
      "49766       Robert Ames\n",
      "49770       Robert Ames\n",
      "Name: name, Length: 69, dtype: object\n",
      "1927\n",
      "actor\n",
      "285       Hauk Aabel\n",
      "809       John Aasen\n",
      "            ...     \n",
      "49498    Gerald Ames\n",
      "49500    Gerald Ames\n",
      "Name: name, Length: 87, dtype: object\n",
      "1928\n",
      "actor\n",
      "1560     Hector Abbas\n",
      "3541      Alfred Abel\n",
      "             ...     \n",
      "49457     Gerald Ames\n",
      "49507     Gerald Ames\n",
      "Name: name, Length: 83, dtype: object\n",
      "1929\n",
      "actor\n",
      "810         John Aasen\n",
      "2005     George Abbott\n",
      "             ...      \n",
      "49767      Robert Ames\n",
      "49768      Robert Ames\n",
      "Name: name, Length: 94, dtype: object\n",
      "1930\n",
      "actor\n",
      "489      Kristian Aamodt\n",
      "1567        Hector Abbas\n",
      "              ...       \n",
      "49761        Robert Ames\n",
      "49773        Robert Ames\n",
      "Name: name, Length: 138, dtype: object\n",
      "1931\n",
      "actor\n",
      "134         5 Artonis\n",
      "1563     Hector Abbas\n",
      "             ...     \n",
      "49765     Robert Ames\n",
      "49771     Robert Ames\n",
      "Name: name, Length: 175, dtype: object\n",
      "1932\n",
      "actor\n",
      "284       Hauk Aabel\n",
      "808       John Aasen\n",
      "            ...     \n",
      "49732      Leon Ames\n",
      "49772    Robert Ames\n",
      "Name: name, Length: 193, dtype: object\n",
      "1933\n",
      "actor\n",
      "543      Satyanarayana Aarani\n",
      "1571             Hector Abbas\n",
      "                 ...         \n",
      "49689               Leon Ames\n",
      "49711               Leon Ames\n",
      "Name: name, Length: 182, dtype: object\n",
      "1934\n",
      "actor\n",
      "1523     Abdullah Abbas\n",
      "1531     Abdullah Abbas\n",
      "              ...      \n",
      "49751        Percy Ames\n",
      "49910     D. Amiberkyan\n",
      "Name: name, Length: 246, dtype: object\n",
      "1935\n",
      "actor\n",
      "283      Hauk Aabel\n",
      "806      John Aasen\n",
      "            ...    \n",
      "49697     Leon Ames\n",
      "49928     Joe Amick\n",
      "Name: name, Length: 297, dtype: object\n",
      "1936\n",
      "actor\n",
      "805      John Aasen\n",
      "807      John Aasen\n",
      "            ...    \n",
      "48932    Don Ameche\n",
      "49640     Leon Ames\n",
      "Name: name, Length: 348, dtype: object\n",
      "1937\n",
      "actor\n",
      "1511     Abdullah Abbas\n",
      "1570       Hector Abbas\n",
      "              ...      \n",
      "49639         Leon Ames\n",
      "49666         Leon Ames\n",
      "Name: name, Length: 363, dtype: object\n",
      "1938\n",
      "actor\n",
      "286          Hauk Aabel\n",
      "441      Kosti Aaltonen\n",
      "              ...      \n",
      "49720         Leon Ames\n",
      "49733         Leon Ames\n",
      "Name: name, Length: 338, dtype: object\n",
      "1939\n",
      "actor\n",
      "437      Kosti Aaltonen\n",
      "470       Yrj? Aaltonen\n",
      "              ...      \n",
      "49712         Leon Ames\n",
      "49726         Leon Ames\n",
      "Name: name, Length: 348, dtype: object\n",
      "1940\n",
      "actor\n",
      "440      Kosti Aaltonen\n",
      "1938         Bud Abbott\n",
      "              ...      \n",
      "49453       George Ames\n",
      "49642         Leon Ames\n",
      "Name: name, Length: 327, dtype: object\n",
      "1941\n",
      "actor\n",
      "1499     Abdullah Abbas\n",
      "1530     Abdullah Abbas\n",
      "              ...      \n",
      "49643         Leon Ames\n",
      "49670         Leon Ames\n",
      "Name: name, Length: 334, dtype: object\n",
      "1942\n",
      "actor\n",
      "288       Per Aabel\n",
      "289       Per Aabel\n",
      "            ...    \n",
      "49585    Jimmy Ames\n",
      "49647     Leon Ames\n",
      "Name: name, Length: 348, dtype: object\n",
      "1943\n",
      "actor\n",
      "446       Kosti Aaltonen\n",
      "849      Kaarlo Aavajoki\n",
      "              ...       \n",
      "49637          Leon Ames\n",
      "49710          Leon Ames\n",
      "Name: name, Length: 304, dtype: object\n",
      "1944\n",
      "actor\n",
      "338      Karl Aagard ?stvig\n",
      "444          Kosti Aaltonen\n",
      "                ...        \n",
      "49663             Leon Ames\n",
      "49725             Leon Ames\n",
      "Name: name, Length: 287, dtype: object\n",
      "1945\n",
      "actor\n",
      "429       Heikki Aaltoila\n",
      "848       Kaarlo Aavajoki\n",
      "               ...       \n",
      "49736           Leon Ames\n",
      "49777    Robert (II) Ames\n",
      "Name: name, Length: 299, dtype: object\n",
      "1946\n",
      "actor\n",
      "616      Charles Aaron\n",
      "617      Charles Aaron\n",
      "             ...      \n",
      "49717        Leon Ames\n",
      "49718        Leon Ames\n",
      "Name: name, Length: 286, dtype: object\n",
      "1947\n",
      "actor\n",
      "445                 Kosti Aaltonen\n",
      "587      Aaron Gonzales' Orchestra\n",
      "                   ...            \n",
      "49693                    Leon Ames\n",
      "49731                    Leon Ames\n",
      "Name: name, Length: 311, dtype: object\n",
      "1948\n",
      "actor\n",
      "281       Andreas Aabel\n",
      "443      Kosti Aaltonen\n",
      "              ...      \n",
      "49674         Leon Ames\n",
      "49722         Leon Ames\n",
      "Name: name, Length: 271, dtype: object\n",
      "1949\n",
      "actor\n",
      "442      Kosti Aaltonen\n",
      "1520     Abdullah Abbas\n",
      "              ...      \n",
      "49661         Leon Ames\n",
      "49687         Leon Ames\n",
      "Name: name, Length: 247, dtype: object\n",
      "1950\n",
      "actor\n",
      "273      Subba Rao A.V.\n",
      "438      Kosti Aaltonen\n",
      "              ...      \n",
      "49719         Leon Ames\n",
      "49734         Leon Ames\n",
      "Name: name, Length: 276, dtype: object\n",
      "1951\n",
      "actor\n",
      "1202           Adel Abass\n",
      "1508       Abdullah Abbas\n",
      "               ...       \n",
      "49675           Leon Ames\n",
      "49776    Robert (II) Ames\n",
      "Name: name, Length: 299, dtype: object\n",
      "1952\n",
      "actor\n",
      "372       Lee Aaker\n",
      "374       Lee Aaker\n",
      "            ...    \n",
      "49574    Jimmy Ames\n",
      "49582    Jimmy Ames\n",
      "Name: name, Length: 322, dtype: object\n",
      "1953\n",
      "actor\n",
      "120      Die 3 Motorellos\n",
      "287             Per Aabel\n",
      "               ...       \n",
      "49660           Leon Ames\n",
      "49686           Leon Ames\n",
      "Name: name, Length: 348, dtype: object\n",
      "1954\n",
      "actor\n",
      "274      Subba Rao A.V.\n",
      "370           Lee Aaker\n",
      "              ...      \n",
      "49557        Jimmy Ames\n",
      "49572        Jimmy Ames\n",
      "Name: name, Length: 273, dtype: object\n",
      "1955\n",
      "actor\n",
      "365            Dee Aaker\n",
      "428      Heikki Aaltoila\n",
      "              ...       \n",
      "49440       Florenz Ames\n",
      "49538         Jimmy Ames\n",
      "Name: name, Length: 284, dtype: object\n",
      "1956\n",
      "actor\n",
      "112      Quartetto 2+2\n",
      "363          Dee Aaker\n",
      "             ...      \n",
      "49445     Florenz Ames\n",
      "49447     Florenz Ames\n",
      "Name: name, Length: 312, dtype: object\n",
      "1957\n",
      "actor\n",
      "68       'Stretch' Cox Troupe\n",
      "471             Yrj? Aaltonen\n",
      "                 ...         \n",
      "49443            Florenz Ames\n",
      "49681               Leon Ames\n",
      "Name: name, Length: 249, dtype: object\n",
      "1958\n",
      "actor\n",
      "70       Frans 't Hoen\n",
      "388          Lee Aaker\n",
      "             ...      \n",
      "49740      Lionel Ames\n",
      "49742      Lionel Ames\n",
      "Name: name, Length: 265, dtype: object\n",
      "1959\n",
      "actor\n",
      "1173     Gocha Abashidze\n",
      "1174     Gocha Abashidze\n",
      "              ...       \n",
      "49584         Jimmy Ames\n",
      "49741        Lionel Ames\n",
      "Name: name, Length: 249, dtype: object\n",
      "1960\n",
      "actor\n",
      "69                  Frans 't Hoen\n",
      "117      2nd Marine Division Band\n",
      "                   ...           \n",
      "49645                   Leon Ames\n",
      "49743                 Lionel Ames\n",
      "Name: name, Length: 258, dtype: object\n",
      "1961\n",
      "actor\n",
      "534             Aapeli\n",
      "735      Alan Aaronson\n",
      "             ...      \n",
      "49564       Jimmy Ames\n",
      "49702        Leon Ames\n",
      "Name: name, Length: 244, dtype: object\n",
      "1962\n",
      "actor\n",
      "466      Risto Aaltonen\n",
      "1502     Abdullah Abbas\n",
      "              ...      \n",
      "49737       Lionel Ames\n",
      "49787       Warren Ames\n",
      "Name: name, Length: 271, dtype: object\n",
      "1963\n",
      "actor\n",
      "32        'El Guisa'\n",
      "34         'El Viti'\n",
      "            ...     \n",
      "49272    Duane Ament\n",
      "49691      Leon Ames\n",
      "Name: name, Length: 254, dtype: object\n",
      "1964\n",
      "actor\n",
      "576      Annu Aarnela\n",
      "775          Arne Aas\n",
      "             ...     \n",
      "49715       Leon Ames\n",
      "49948    Gianni Amico\n",
      "Name: name, Length: 278, dtype: object\n",
      "1965\n",
      "actor\n",
      "648      Levy Aaron\n",
      "789        Arne Aas\n",
      "            ...    \n",
      "49394     Lem Amero\n",
      "49716     Leon Ames\n",
      "Name: name, Length: 277, dtype: object\n",
      "1966\n",
      "actor\n",
      "1146            Dodo Abashidze\n",
      "1147            Dodo Abashidze\n",
      "                 ...          \n",
      "49355    Jay and the Americans\n",
      "49436                  Ed Ames\n",
      "Name: name, Length: 267, dtype: object\n",
      "1967\n",
      "actor\n",
      "782       Arne Aas\n",
      "899      Jos? Abad\n",
      "           ...    \n",
      "49391    Lem Amero\n",
      "49392    Lem Amero\n",
      "Name: name, Length: 297, dtype: object\n",
      "1968\n",
      "actor\n",
      "171        Equipe 84\n",
      "776         Arne Aas\n",
      "            ...     \n",
      "49387     John Amero\n",
      "49739    Lionel Ames\n",
      "Name: name, Length: 302, dtype: object\n",
      "1969\n",
      "actor\n",
      "105      13th Committee\n",
      "458      Risto Aaltonen\n",
      "              ...      \n",
      "48460        Lars Amble\n",
      "49035        Rafi Ameer\n",
      "Name: name, Length: 327, dtype: object\n",
      "1970\n",
      "actor\n",
      "114        Ballett 2000\n",
      "460      Risto Aaltonen\n",
      "              ...      \n",
      "49730         Leon Ames\n",
      "49947      Gianni Amico\n",
      "Name: name, Length: 332, dtype: object\n",
      "1971\n",
      "actor\n",
      "41       Murray the 'K'\n",
      "545       Efisio Aarbus\n",
      "              ...      \n",
      "49728         Leon Ames\n",
      "49729         Leon Ames\n",
      "Name: name, Length: 295, dtype: object\n",
      "1972\n",
      "actor\n",
      "1124     Boleslaw Abart\n",
      "1158     Dodo Abashidze\n",
      "              ...      \n",
      "49343      Paul America\n",
      "49650         Leon Ames\n",
      "Name: name, Length: 281, dtype: object\n",
      "1973\n",
      "actor\n",
      "514        Peter Aanensen\n",
      "621      David (IV) Aaron\n",
      "               ...       \n",
      "49626           Leon Ames\n",
      "49738         Lionel Ames\n",
      "Name: name, Length: 298, dtype: object\n",
      "1974\n",
      "actor\n",
      "777       Arne Aas\n",
      "788       Arne Aas\n",
      "           ...    \n",
      "49432     Don Ames\n",
      "49700    Leon Ames\n",
      "Name: name, Length: 338, dtype: object\n",
      "1975\n",
      "actor\n",
      "43       Murray the 'K'\n",
      "729       Gerald Aarons\n",
      "              ...      \n",
      "49713         Leon Ames\n",
      "49727         Leon Ames\n",
      "Name: name, Length: 312, dtype: object\n",
      "1976\n",
      "actor\n",
      "109      The 18 Wheelers of Interstate 5\n",
      "422                          Petri Aalto\n",
      "                      ...               \n",
      "49433                           Don Ames\n",
      "49793                    Alfredo Amestoy\n",
      "Name: name, Length: 313, dtype: object\n",
      "1977\n",
      "actor\n",
      "20       Ramon 'Cartucho' Pena\n",
      "295                   Ole Aaby\n",
      "                 ...          \n",
      "49212       Ferruccio Amendola\n",
      "49633                Leon Ames\n",
      "Name: name, Length: 317, dtype: object\n",
      "1978\n",
      "actor\n",
      "42       Murray the 'K'\n",
      "290       Dennis Aaberg\n",
      "              ...      \n",
      "49406        Carl Amery\n",
      "49830        Harry Amey\n",
      "Name: name, Length: 285, dtype: object\n",
      "1979\n",
      "actor\n",
      "486           Willie Aames\n",
      "536                Jim Aar\n",
      "               ...        \n",
      "49335    Enrico (II) Ameri\n",
      "49657            Leon Ames\n",
      "Name: name, Length: 273, dtype: object\n",
      "1980\n",
      "actor\n",
      "197                   Bobby A.\n",
      "432             Jouko Aaltonen\n",
      "                 ...          \n",
      "48127            Gerardo Amato\n",
      "49351    George American Horse\n",
      "Name: name, Length: 268, dtype: object\n",
      "1981\n",
      "actor\n",
      "436      Kalevi Aaltonen\n",
      "450        Remu Aaltonen\n",
      "              ...       \n",
      "48841      Andr?s Ambrus\n",
      "49398     Albert Amerson\n",
      "Name: name, Length: 314, dtype: object\n",
      "1982\n",
      "actor\n",
      "121            33 1/3\n",
      "137            Mick 5\n",
      "             ...     \n",
      "49339    America (II)\n",
      "49918    Alvaro Amici\n"
     ]
    },
    {
     "name": "stdout",
     "output_type": "stream",
     "text": [
      "Name: name, Length: 305, dtype: object\n",
      "1983\n",
      "actor\n",
      "125      4 Out of 5 Doctors\n",
      "461          Risto Aaltonen\n",
      "                ...        \n",
      "49255         Don Amendolia\n",
      "49699             Leon Ames\n",
      "Name: name, Length: 315, dtype: object\n",
      "1984\n",
      "actor\n",
      "71           Dick 't Hooft\n",
      "182      Yussuf Abed A'Nur\n",
      "               ...        \n",
      "49158     Claudio Amendola\n",
      "49192     Claudio Amendola\n",
      "Name: name, Length: 345, dtype: object\n",
      "1985\n",
      "actor\n",
      "1                 Homo $\n",
      "452       Risto Aaltonen\n",
      "              ...       \n",
      "49225      Tony Amendola\n",
      "49790    Hugues Amesland\n",
      "Name: name, Length: 405, dtype: object\n",
      "1986\n",
      "actor\n",
      "122       The 39 Steps\n",
      "348             Aakash\n",
      "             ...      \n",
      "49680        Leon Ames\n",
      "49907    Marvin Amiana\n",
      "Name: name, Length: 341, dtype: object\n",
      "1987\n",
      "actor\n",
      "178      Brett A'Hearn\n",
      "610          Bob Aaron\n",
      "             ...      \n",
      "49949       Hank Amico\n",
      "49950       Hank Amico\n",
      "Name: name, Length: 400, dtype: object\n",
      "1988\n",
      "actor\n",
      "210           Prasad A.\n",
      "463      Risto Aaltonen\n",
      "              ...      \n",
      "49990      Robert Amico\n",
      "49992      Robert Amico\n",
      "Name: name, Length: 412, dtype: object\n",
      "1989\n",
      "actor\n",
      "188              Yunga A\n",
      "469      Veikko Aaltonen\n",
      "              ...       \n",
      "49330    Christian Ameri\n",
      "49526     Granville Ames\n",
      "Name: name, Length: 460, dtype: object\n",
      "1990\n",
      "actor\n",
      "609              Bob Aaron\n",
      "736      Bob (II) Aaronson\n",
      "               ...        \n",
      "49935      Ryan Paul Amick\n",
      "49983         Robert Amico\n",
      "Name: name, Length: 436, dtype: object\n",
      "1991\n",
      "actor\n",
      "456      Risto Aaltonen\n",
      "757      Reidar Aarsand\n",
      "              ...      \n",
      "49876      Jos? Amezola\n",
      "49973      Robert Amico\n",
      "Name: name, Length: 444, dtype: object\n",
      "1992\n",
      "actor\n",
      "51        Tony 'La Chispa'\n",
      "342          Larry Aagesen\n",
      "               ...        \n",
      "49878    Raymond Amezquita\n",
      "49938            Tom Amick\n",
      "Name: name, Length: 430, dtype: object\n",
      "1993\n",
      "actor\n",
      "31           F?lix 'El Gato'\n",
      "38       Van 'Igor' Morrison\n",
      "                ...         \n",
      "49883          Hassan Amghar\n",
      "49994           Robert Amico\n",
      "Name: name, Length: 413, dtype: object\n",
      "1994\n",
      "actor\n",
      "65       Chris 'Slick' Nesevitch\n",
      "414               Preben Aalholt\n",
      "                  ...           \n",
      "49523             Granville Ames\n",
      "49866            Rodolfo Amezcua\n",
      "Name: name, Length: 460, dtype: object\n",
      "1995\n",
      "actor\n",
      "52       Tony 'La Chispa'\n",
      "181       Charles A'Lexis\n",
      "               ...       \n",
      "49884        Jamal Amhali\n",
      "49893        Najib Amhali\n",
      "Name: name, Length: 523, dtype: object\n",
      "1996\n",
      "actor\n",
      "44       N?stor 'Kick Boxer'\n",
      "180          Charles A'Lexis\n",
      "                ...         \n",
      "49971           Robert Amico\n",
      "49981           Robert Amico\n",
      "Name: name, Length: 509, dtype: object\n",
      "1997\n",
      "actor\n",
      "19       Joseph 'Byron' Sese\n",
      "110                    2 Bal\n",
      "                ...         \n",
      "49520         Granville Ames\n",
      "49979           Robert Amico\n",
      "Name: name, Length: 637, dtype: object\n",
      "1998\n",
      "actor\n",
      "12       Michael 'babeepower' Viera\n",
      "104                         Nick 13\n",
      "                    ...            \n",
      "49916              Joey Amic-Angelo\n",
      "49969                  Robert Amico\n",
      "Name: name, Length: 574, dtype: object\n",
      "1999\n",
      "actor\n",
      "116         Chali 2na\n",
      "131          40 Glocc\n",
      "             ...     \n",
      "49977    Robert Amico\n",
      "49978    Robert Amico\n",
      "Name: name, Length: 682, dtype: object\n",
      "2000\n",
      "actor\n",
      "13       Steven 'Bear'Boyd\n",
      "130               40 Glocc\n",
      "               ...        \n",
      "49927            Ben Amick\n",
      "49944       Fr?d?ric Amico\n",
      "Name: name, Length: 691, dtype: object\n",
      "2001\n",
      "actor\n",
      "33       Luis 'El Plojo'\n",
      "100          Angel 11:11\n",
      "              ...       \n",
      "49982       Robert Amico\n",
      "49986       Robert Amico\n",
      "Name: name, Length: 711, dtype: object\n",
      "2002\n",
      "actor\n",
      "60             'Raff'\n",
      "99        Angel 11:11\n",
      "             ...     \n",
      "49860     Arturo Amez\n",
      "49864    Remi Amezcua\n",
      "Name: name, Length: 726, dtype: object\n",
      "2003\n",
      "actor\n",
      "123          3rd Storee\n",
      "127              4-Zone\n",
      "              ...      \n",
      "49946    Fr?d?ric Amico\n",
      "49989      Robert Amico\n",
      "Name: name, Length: 768, dtype: object\n",
      "2004\n",
      "actor\n",
      "457      Risto Aaltonen\n",
      "645         Lance Aaron\n",
      "              ...      \n",
      "49913       Martin Amic\n",
      "49996       Tracy Amico\n",
      "Name: name, Length: 848, dtype: object\n",
      "2005\n",
      "actor\n",
      "48       Johnny 'Koolout' Starks\n",
      "132                     40 Glocc\n",
      "                  ...           \n",
      "49856               Kwesi Ameyaw\n",
      "49974               Robert Amico\n",
      "Name: name, Length: 1042, dtype: object\n",
      "2006\n",
      "actor\n",
      "53       Yradier 'Lito' Tejada\n",
      "97                      Mac 10\n",
      "                 ...          \n",
      "49899            Franck Amiach\n",
      "49970             Robert Amico\n",
      "Name: name, Length: 1254, dtype: object\n",
      "2007\n",
      "actor\n",
      "24       Jesse 'Casper' Brown\n",
      "124                    4 Cats\n",
      "                 ...         \n",
      "49911             Martin Amic\n",
      "49920              Greg Amici\n",
      "Name: name, Length: 1264, dtype: object\n",
      "2008\n",
      "actor\n",
      "40          David 'Jumbles' Cook\n",
      "45       Johnny 'Koolout' Starks\n",
      "                  ...           \n",
      "49879                        AMG\n",
      "49976               Robert Amico\n",
      "Name: name, Length: 1432, dtype: object\n",
      "2009\n",
      "actor\n",
      "7                Bee Moe $lim\n",
      "21       Jesse 'Casper' Brown\n",
      "                 ...         \n",
      "49958              Phil Amico\n",
      "49975            Robert Amico\n",
      "Name: name, Length: 1632, dtype: object\n",
      "2010\n",
      "actor\n",
      "16       George 'Bootsy' Thomas\n",
      "17       George 'Bootsy' Thomas\n",
      "                  ...          \n",
      "49960                Phil Amico\n",
      "49987              Robert Amico\n",
      "Name: name, Length: 1644, dtype: object\n",
      "2011\n",
      "actor\n",
      "23       Jesse 'Casper' Brown\n",
      "26       Jesse 'Casper' Brown\n",
      "                 ...         \n",
      "49984            Robert Amico\n",
      "49995             Scott Amico\n",
      "Name: name, Length: 1765, dtype: object\n",
      "2012\n",
      "actor\n",
      "79                   Francis -\n",
      "87       Isaiah Entsua -Mensah\n",
      "                 ...          \n",
      "49991             Robert Amico\n",
      "49993             Robert Amico\n",
      "Name: name, Length: 1919, dtype: object\n",
      "2013\n",
      "actor\n",
      "22       Jesse 'Casper' Brown\n",
      "37       Marcelo 'Hos' Bearzi\n",
      "                 ...         \n",
      "49932              Matt Amick\n",
      "49951              Phil Amico\n",
      "Name: name, Length: 1980, dtype: object\n",
      "2014\n",
      "actor\n",
      "8        Jori ' Danilo' Jurado Jr.\n",
      "9                 Syaiful 'Ariffin\n",
      "                   ...            \n",
      "49937                     TJ Amick\n",
      "49939                Traysie Amick\n",
      "Name: name, Length: 2094, dtype: object\n",
      "2015\n",
      "actor\n",
      "0          Buffy #1\n",
      "3           $hutter\n",
      "            ...    \n",
      "49953    Phil Amico\n",
      "49957    Phil Amico\n",
      "Name: name, Length: 2175, dtype: object\n",
      "2016\n",
      "actor\n",
      "14           Kirlew 'bliss' Vilbon\n",
      "56       Cameron 'Mascot' Benjamin\n",
      "                   ...            \n",
      "49998                    Zac Amico\n",
      "49999                    Zac Amico\n",
      "Name: name, Length: 2424, dtype: object\n",
      "2017\n",
      "actor\n",
      "2                      $hutter\n",
      "15       Kirlew 'bliss' Vilbon\n",
      "                 ...          \n",
      "49985             Robert Amico\n",
      "49997              Vinny Amico\n",
      "Name: name, Length: 1418, dtype: object\n",
      "2018\n",
      "actor\n",
      "663         Nicholas Aaron\n",
      "799      Synne Odland Aase\n",
      "               ...        \n",
      "49074         Robbie Amell\n",
      "49082        Stephen Amell\n",
      "Name: name, Length: 91, dtype: object\n",
      "2019\n",
      "actor\n",
      "244             Sergey A.\n",
      "16812           Ian Agard\n",
      "               ...       \n",
      "44824         Ron Althoff\n",
      "45040    John (II) Altman\n",
      "Name: name, Length: 13, dtype: object\n",
      "2020\n",
      "actor\n",
      "7343     Sudarshan Acharya\n",
      "24732          Misan Akuya\n",
      "35687        Darren Alford\n",
      "Name: name, dtype: object\n",
      "2023\n",
      "actor\n",
      "28874    Antonio Alcala\n",
      "Name: name, dtype: object\n",
      "1912\n",
      "actress\n",
      "63234    Rina Albry\n",
      "69034    Gyda Aller\n",
      "Name: name, dtype: object\n",
      "1913\n",
      "actress\n",
      "57767    Ellen Aggerholm\n",
      "Name: name, dtype: object\n",
      "1914\n",
      "actress\n",
      "50123            Mathaleen Aamold\n",
      "50699                   May Abbey\n",
      "                   ...           \n",
      "69031                  Gyda Aller\n",
      "70127    Italia Almirante-Manzini\n",
      "Name: name, Length: 23, dtype: object\n",
      "1915\n",
      "actress\n",
      "52284     Dorothy Abril\n",
      "53611    Margaret Adair\n",
      "              ...      \n",
      "69387       May Allison\n",
      "71030      Lottie Alter\n",
      "Name: name, Length: 32, dtype: object\n",
      "1916\n",
      "actress\n",
      "50864            Gypsy Abbott\n",
      "51405    Antonine Abelishvili\n",
      "                 ...         \n",
      "71031            Lottie Alter\n",
      "74930           Alice Anaroni\n",
      "Name: name, Length: 59, dtype: object\n",
      "1917\n",
      "actress\n",
      "50859                Gypsy Abbott\n",
      "52281               Dorothy Abril\n",
      "                   ...           \n",
      "69384                 May Allison\n",
      "70129    Italia Almirante-Manzini\n",
      "Name: name, Length: 59, dtype: object\n",
      "1918\n",
      "actress\n",
      "50310            Magda Aas\n",
      "50731         Aimee Abbott\n",
      "               ...        \n",
      "71987    Adeline M. Alvord\n",
      "72002           Jean Alwyn\n",
      "Name: name, Length: 45, dtype: object\n",
      "1919\n",
      "actress\n",
      "50007      Mrs. A'Costa\n",
      "50744    Blanche Abbott\n",
      "              ...      \n",
      "74208     Ot?lia Amorim\n",
      "74209     Ot?lia Amorim\n",
      "Name: name, Length: 64, dtype: object\n",
      "1920\n",
      "actress\n",
      "52280               Dorothy Abril\n",
      "52922                  Jean Acker\n",
      "                   ...           \n",
      "69391                 May Allison\n",
      "70128    Italia Almirante-Manzini\n",
      "Name: name, Length: 60, dtype: object\n",
      "1921\n",
      "actress\n",
      "50898    Marion Abbott\n",
      "52924       Jean Acker\n",
      "             ...      \n",
      "69381      May Allison\n",
      "72905    Violet Ambert\n",
      "Name: name, Length: 48, dtype: object\n",
      "1922\n",
      "actress\n",
      "52150    Rita Abrams\n",
      "52930     Jean Acker\n",
      "            ...     \n",
      "69393    May Allison\n",
      "73377      Anna Ames\n",
      "Name: name, Length: 49, dtype: object\n",
      "1923\n",
      "actress\n",
      "50897             Marion Abbott\n",
      "52960                Jean Acker\n",
      "                  ...          \n",
      "68624             Phyllis Allen\n",
      "73119    Maria Ambroziewicz?wna\n",
      "Name: name, Length: 36, dtype: object\n",
      "1924\n",
      "actress\n",
      "53619    Molly Adair\n",
      "53620    Molly Adair\n",
      "            ...     \n",
      "69358    May Allison\n",
      "69395    May Allison\n",
      "Name: name, Length: 46, dtype: object\n",
      "1925\n",
      "actress\n",
      "52923           Jean Acker\n",
      "54285         Claire Adams\n",
      "               ...        \n",
      "70979        Edneh Altemus\n",
      "72051    Varvara Alyokhina\n",
      "Name: name, Length: 46, dtype: object\n",
      "1926\n",
      "actress\n",
      "50316    Ranveig Aasgaard\n",
      "50518      Taso Abashidze\n",
      "               ...       \n",
      "72480         Betty Amann\n",
      "73123        Irene Ambrus\n",
      "Name: name, Length: 29, dtype: object\n",
      "1927\n",
      "actress\n",
      "52955        Jean Acker\n",
      "53519       Alice Adair\n",
      "              ...      \n",
      "72656         Amary-Lys\n",
      "73884    Evridiki Amira\n",
      "Name: name, Length: 26, dtype: object\n",
      "1928\n",
      "actress\n",
      "53517               Alice Adair\n",
      "53596           Josephine Adair\n",
      "                  ...          \n",
      "68378             Lillian Allen\n",
      "73118    Maria Ambroziewicz?wna\n",
      "Name: name, Length: 33, dtype: object\n",
      "1929\n",
      "actress\n",
      "51383     Roberta Abel\n",
      "53521      Alice Adair\n",
      "             ...      \n",
      "73353    Adrienne Ames\n",
      "73477        Lucy Ames\n",
      "Name: name, Length: 38, dtype: object\n",
      "1930\n",
      "actress\n",
      "50059    Aileene Aalbu\n",
      "50060       Fern Aalbu\n",
      "             ...      \n",
      "73124     Irene Ambrus\n",
      "73126     Irene Ambrus\n",
      "Name: name, Length: 48, dtype: object\n",
      "1931\n",
      "actress\n",
      "53030    Jean Ackerman\n",
      "53572     Janice Adair\n",
      "             ...      \n",
      "73362    Adrienne Ames\n",
      "73381    Beatrice Ames\n",
      "Name: name, Length: 45, dtype: object\n",
      "1932\n",
      "actress\n",
      "50446    Judith Abarbanel\n",
      "53514         Alice Adair\n",
      "               ...       \n",
      "73360       Adrienne Ames\n",
      "73539       Rosemary Ames\n",
      "Name: name, Length: 59, dtype: object\n",
      "1933\n",
      "actress\n",
      "50578       Marta Abba\n",
      "51658     Dawlad Abiad\n",
      "             ...      \n",
      "73356    Adrienne Ames\n",
      "73540    Rosemary Ames\n",
      "Name: name, Length: 67, dtype: object\n",
      "1934\n",
      "actress\n",
      "50003    The 1934 Goldwyn Girls\n",
      "50579                Marta Abba\n",
      "                  ...          \n",
      "73904          Tsatsa Amirejibi\n",
      "74134            Hildegard Amon\n",
      "Name: name, Length: 105, dtype: object\n",
      "1935\n",
      "actress\n",
      "50279    Shirley Aaronson\n",
      "50280    Shirley Aaronson\n",
      "               ...       \n",
      "73596      Estela Ametler\n",
      "73901    Tsatsa Amirejibi\n",
      "Name: name, Length: 101, dtype: object\n",
      "1936\n",
      "actress\n",
      "51362         Ilse Abel\n",
      "51363         Ilse Abel\n",
      "              ...      \n",
      "74339    Leonor Amparan\n",
      "74619          Anaclara\n",
      "Name: name, Length: 96, dtype: object\n",
      "1937\n",
      "actress\n",
      "50443    Lorraine Abarbanal\n",
      "50445      Judith Abarbanel\n",
      "                ...        \n",
      "73837      Marianne Aminoff\n",
      "74618              Anaclara\n",
      "Name: name, Length: 107, dtype: object\n",
      "1938\n",
      "actress\n",
      "51365            Ilse Abel\n",
      "52183    Adelina Abranches\n",
      "               ...        \n",
      "73831     Marianne Aminoff\n",
      "73843     Marianne Aminoff\n",
      "Name: name, Length: 93, dtype: object\n",
      "1939\n",
      "actress\n",
      "52928          Jean Acker\n",
      "53625       Phyllis Adair\n",
      "               ...       \n",
      "73359       Adrienne Ames\n",
      "73834    Marianne Aminoff\n",
      "Name: name, Length: 99, dtype: object\n",
      "1940\n",
      "actress\n",
      "50444          Judith Abarbanel\n",
      "50852          Elizabeth Abbott\n",
      "                  ...          \n",
      "73840          Marianne Aminoff\n",
      "74059    Princess Vanessa Ammon\n",
      "Name: name, Length: 108, dtype: object\n",
      "1941\n",
      "actress\n",
      "50024    Hauk (II) Aabel\n",
      "50509    Leila Abashidze\n",
      "              ...       \n",
      "73437          Jean Ames\n",
      "73439          Jean Ames\n"
     ]
    },
    {
     "name": "stdout",
     "output_type": "stream",
     "text": [
      "Name: name, Length: 110, dtype: object\n",
      "1942\n",
      "actress\n",
      "52942          Jean Acker\n",
      "53315          Acquanetta\n",
      "               ...       \n",
      "73444           Jean Ames\n",
      "73844    Marianne Aminoff\n",
      "Name: name, Length: 99, dtype: object\n",
      "1943\n",
      "actress\n",
      "53317          Acquanetta\n",
      "53321          Acquanetta\n",
      "               ...       \n",
      "73594      Estela Ametler\n",
      "74070    Consuelo del Amo\n",
      "Name: name, Length: 100, dtype: object\n",
      "1944\n",
      "actress\n",
      "50700    Miss Sarah Abbey\n",
      "51838        Aurora Aboim\n",
      "               ...       \n",
      "73523         Ramsay Ames\n",
      "73528         Ramsay Ames\n",
      "Name: name, Length: 95, dtype: object\n",
      "1945\n",
      "actress\n",
      "50117      Marlene Aames\n",
      "50508    Leila Abashidze\n",
      "              ...       \n",
      "74177          Pita Amor\n",
      "74556     Denise Amyenne\n",
      "Name: name, Length: 98, dtype: object\n",
      "1946\n",
      "actress\n",
      "50118     Marlene Aames\n",
      "50845    Dorothy Abbott\n",
      "              ...      \n",
      "73619      Ebba Amfeldt\n",
      "74837         Uma Anand\n",
      "Name: name, Length: 98, dtype: object\n",
      "1947\n",
      "actress\n",
      "50308           Ami Aar?e\n",
      "50497     Leila Abashidze\n",
      "               ...       \n",
      "73531         Ramsay Ames\n",
      "73830    Marianne Aminoff\n",
      "Name: name, Length: 78, dtype: object\n",
      "1948\n",
      "actress\n",
      "50119    Marlene Aames\n",
      "50121    Marlene Aames\n",
      "             ...      \n",
      "73520      Ramsay Ames\n",
      "74178        Rita Amor\n",
      "Name: name, Length: 95, dtype: object\n",
      "1949\n",
      "actress\n",
      "50307           Ami Aar?e\n",
      "50374    Mar?a Luisa Abad\n",
      "               ...       \n",
      "73738         Norma Amigo\n",
      "74602               Qi An\n",
      "Name: name, Length: 102, dtype: object\n",
      "1950\n",
      "actress\n",
      "50803     Dorothy Abbott\n",
      "50807     Dorothy Abbott\n",
      "              ...       \n",
      "72538       Leonora Amar\n",
      "72637    Blanquita Amaro\n",
      "Name: name, Length: 97, dtype: object\n",
      "1951\n",
      "actress\n",
      "50032    Beverly Aadland\n",
      "50334         Marika Aba\n",
      "              ...       \n",
      "73565       Suzanne Ames\n",
      "74072       Laly del Amo\n",
      "Name: name, Length: 89, dtype: object\n",
      "1952\n",
      "actress\n",
      "50333         Marika Aba\n",
      "50679       Nancy Abbate\n",
      "              ...       \n",
      "73564       Suzanne Ames\n",
      "74025    Maria Ammassari\n",
      "Name: name, Length: 96, dtype: object\n",
      "1953\n",
      "actress\n",
      "50120    Marlene Aames\n",
      "50680     Nancy Abbate\n",
      "             ...      \n",
      "73563     Suzanne Ames\n",
      "73739      Norma Amigo\n",
      "Name: name, Length: 100, dtype: object\n",
      "1954\n",
      "actress\n",
      "50373      Mar?a Luisa Abad\n",
      "50498       Leila Abashidze\n",
      "                ...        \n",
      "73626          Ebba Amfeldt\n",
      "74187    Maria Teresa Amore\n",
      "Name: name, Length: 91, dtype: object\n",
      "1955\n",
      "actress\n",
      "50041      Hanne Aagesen\n",
      "50347    Carmencita Abad\n",
      "              ...       \n",
      "74005             Ammaji\n",
      "74235    Svetla Amortov?\n",
      "Name: name, Length: 93, dtype: object\n",
      "1956\n",
      "actress\n",
      "50496    Leila Abashidze\n",
      "50499    Leila Abashidze\n",
      "              ...       \n",
      "74476        Birte Amter\n",
      "74606                Ana\n",
      "Name: name, Length: 121, dtype: object\n",
      "1957\n",
      "actress\n",
      "50815     Dorothy Abbott\n",
      "50818     Dorothy Abbott\n",
      "              ...       \n",
      "74236    Svetla Amortov?\n",
      "74663      Isabel Analla\n",
      "Name: name, Length: 107, dtype: object\n",
      "1958\n",
      "actress\n",
      "50033    Beverly Aadland\n",
      "50034    Beverly Aadland\n",
      "              ...       \n",
      "74254          Beth Amos\n",
      "74664      Isabel Analla\n",
      "Name: name, Length: 96, dtype: object\n",
      "1959\n",
      "actress\n",
      "50031      Beverly Aadland\n",
      "50345      Carmencita Abad\n",
      "               ...        \n",
      "74691        Kakia Analyti\n",
      "74884    Valentina Ananina\n",
      "Name: name, Length: 125, dtype: object\n",
      "1960\n",
      "actress\n",
      "50828    Dorothy Abbott\n",
      "50839    Dorothy Abbott\n",
      "              ...      \n",
      "74700     Kakia Analyti\n",
      "74701     Kakia Analyti\n",
      "Name: name, Length: 82, dtype: object\n",
      "1961\n",
      "actress\n",
      "50808       Dorothy Abbott\n",
      "50822       Dorothy Abbott\n",
      "               ...        \n",
      "74698        Kakia Analyti\n",
      "74869    Valentina Ananina\n",
      "Name: name, Length: 100, dtype: object\n",
      "1962\n",
      "actress\n",
      "50091      Elin Aaltonen\n",
      "50571    Manana Abazadze\n",
      "              ...       \n",
      "74696      Kakia Analyti\n",
      "74699      Kakia Analyti\n",
      "Name: name, Length: 85, dtype: object\n",
      "1963\n",
      "actress\n",
      "50090    Elin Aaltonen\n",
      "50092    Elin Aaltonen\n",
      "             ...      \n",
      "74681    Kakia Analyti\n",
      "74685    Kakia Analyti\n",
      "Name: name, Length: 83, dtype: object\n",
      "1964\n",
      "actress\n",
      "50504      Leila Abashidze\n",
      "50685     Cinzia Abbenante\n",
      "               ...        \n",
      "74703        Kakia Analyti\n",
      "74886    Valentina Ananina\n",
      "Name: name, Length: 101, dtype: object\n",
      "1965\n",
      "actress\n",
      "50408        Aicha Abadir\n",
      "51027    Lobna Abdel Aziz\n",
      "               ...       \n",
      "74678       Kakia Analyti\n",
      "74683       Kakia Analyti\n",
      "Name: name, Length: 96, dtype: object\n",
      "1966\n",
      "actress\n",
      "50512      Leila Abashidze\n",
      "50513      Leila Abashidze\n",
      "               ...        \n",
      "74875    Valentina Ananina\n",
      "74883    Valentina Ananina\n",
      "Name: name, Length: 91, dtype: object\n",
      "1967\n",
      "actress\n",
      "50071            Aalia\n",
      "50232      Lindy Aaron\n",
      "             ...      \n",
      "74813     Sujata Anand\n",
      "74937    Nita Anastase\n",
      "Name: name, Length: 106, dtype: object\n",
      "1968\n",
      "actress\n",
      "51505           Sivi Aberg\n",
      "52071     Katica Abramovic\n",
      "               ...        \n",
      "73881           Amira (II)\n",
      "74868    Valentina Ananina\n",
      "Name: name, Length: 92, dtype: object\n",
      "1969\n",
      "actress\n",
      "50501      Leila Abashidze\n",
      "50507      Leila Abashidze\n",
      "               ...        \n",
      "74672        Kakia Analyti\n",
      "74877    Valentina Ananina\n",
      "Name: name, Length: 132, dtype: object\n",
      "1970\n",
      "actress\n",
      "50089        Elin Aaltonen\n",
      "50500      Leila Abashidze\n",
      "               ...        \n",
      "74654            Anakorita\n",
      "74879    Valentina Ananina\n",
      "Name: name, Length: 120, dtype: object\n",
      "1971\n",
      "actress\n",
      "50095            Jatta Aaltonen\n",
      "50277               Sira Aarons\n",
      "                  ...          \n",
      "73794               Mervat Amin\n",
      "74483    Margarita Amuch?stegui\n",
      "Name: name, Length: 128, dtype: object\n",
      "1972\n",
      "actress\n",
      "50297            Aarti\n",
      "50900       Mia Abbott\n",
      "             ...      \n",
      "73847    Elena Aminova\n",
      "74605            An-Ni\n",
      "Name: name, Length: 117, dtype: object\n",
      "1973\n",
      "actress\n",
      "50133          Angel Aaram\n",
      "50296                Aarti\n",
      "               ...        \n",
      "74820         Sujata Anand\n",
      "74881    Valentina Ananina\n",
      "Name: name, Length: 132, dtype: object\n",
      "1974\n",
      "actress\n",
      "50163      Ann Marie Aaron\n",
      "50330          Chantal Aba\n",
      "               ...        \n",
      "74673        Kakia Analyti\n",
      "74871    Valentina Ananina\n",
      "Name: name, Length: 140, dtype: object\n",
      "1975\n",
      "actress\n",
      "50321                Aasia\n",
      "50899       Maureen Abbott\n",
      "               ...        \n",
      "74822         Sujata Anand\n",
      "74873    Valentina Ananina\n",
      "Name: name, Length: 126, dtype: object\n",
      "1976\n",
      "actress\n",
      "50054                Aalam\n",
      "50075               Aaliya\n",
      "               ...        \n",
      "74870    Valentina Ananina\n",
      "74878    Valentina Ananina\n",
      "Name: name, Length: 134, dtype: object\n",
      "1977\n",
      "actress\n",
      "50300                Aarti\n",
      "50752         Chris Abbott\n",
      "               ...        \n",
      "74809          Shoma Anand\n",
      "74885    Valentina Ananina\n",
      "Name: name, Length: 118, dtype: object\n",
      "1978\n",
      "actress\n",
      "50067      Mariann Aalda\n",
      "50113       Angela Aames\n",
      "              ...       \n",
      "74936      Nita Anastase\n",
      "74990    Doina Anastasiu\n",
      "Name: name, Length: 138, dtype: object\n",
      "1979\n",
      "actress\n",
      "50083         Inkeri Aalto\n",
      "50114         Angela Aames\n",
      "               ...        \n",
      "74874    Valentina Ananina\n",
      "74880    Valentina Ananina\n",
      "Name: name, Length: 146, dtype: object\n",
      "1980\n",
      "actress\n",
      "50295             Aarti\n",
      "50584    Axelle Abbadie\n",
      "              ...      \n",
      "74792       Shoma Anand\n",
      "74804       Shoma Anand\n",
      "Name: name, Length: 159, dtype: object\n",
      "1981\n",
      "actress\n",
      "50072           Aalia\n",
      "50108    Angela Aames\n",
      "             ...     \n",
      "73693    Souad Amidou\n",
      "74781     Shoma Anand\n",
      "Name: name, Length: 187, dtype: object\n",
      "1982\n",
      "actress\n",
      "50111      Angela Aames\n",
      "50181    Caroline Aaron\n",
      "              ...      \n",
      "74625    Roza Anagnosti\n",
      "74818      Sujata Anand\n",
      "Name: name, Length: 182, dtype: object\n",
      "1983\n",
      "actress\n",
      "50115      Angela Aames\n",
      "50173    Caroline Aaron\n",
      "              ...      \n",
      "74787       Shoma Anand\n",
      "74800       Shoma Anand\n",
      "Name: name, Length: 169, dtype: object\n",
      "1984\n",
      "actress\n",
      "50109         Angela Aames\n",
      "50116         Angela Aames\n",
      "               ...        \n",
      "74790          Shoma Anand\n",
      "74872    Valentina Ananina\n",
      "Name: name, Length: 186, dtype: object\n",
      "1985\n",
      "actress\n",
      "50056    Roxanne Aalam\n",
      "50080           Aaloka\n",
      "             ...      \n",
      "74806      Shoma Anand\n",
      "74825     Sujata Anand\n",
      "Name: name, Length: 215, dtype: object\n",
      "1986\n",
      "actress\n",
      "50093        Irma Aaltonen\n",
      "50112         Angela Aames\n",
      "               ...        \n",
      "74819         Sujata Anand\n",
      "74887    Valentina Ananina\n",
      "Name: name, Length: 194, dtype: object\n",
      "1987\n",
      "actress\n",
      "50079                 Aaloka\n",
      "50101    Veera (II) Aaltonen\n",
      "                ...         \n",
      "74817           Sujata Anand\n",
      "74828           Sujata Anand\n",
      "Name: name, Length: 255, dtype: object\n",
      "1988\n",
      "actress\n",
      "50063       Mariann Aalda\n",
      "50159    Kimberleigh Aarn\n",
      "               ...       \n",
      "74834       Suparna Anand\n",
      "74836       Suparna Anand\n",
      "Name: name, Length: 243, dtype: object\n",
      "1989\n",
      "actress\n",
      "50004    1988 Montclair Squad\n",
      "50082              Eeva Aalto\n",
      "                 ...         \n",
      "74823            Sujata Anand\n",
      "74835           Suparna Anand\n",
      "Name: name, Length: 199, dtype: object\n",
      "1990\n",
      "actress\n",
      "50065    Mariann Aalda\n",
      "50066    Mariann Aalda\n",
      "             ...      \n",
      "74831    Suparna Anand\n",
      "74832    Suparna Anand\n",
      "Name: name, Length: 243, dtype: object\n",
      "1991\n",
      "actress\n",
      "50097    Minna Aaltonen\n",
      "50231         Lee Aaron\n",
      "              ...      \n",
      "74827      Sujata Anand\n",
      "74833     Suparna Anand\n",
      "Name: name, Length: 193, dtype: object\n",
      "1992\n",
      "actress\n",
      "50064    Mariann Aalda\n",
      "50135      Angel Aaram\n",
      "             ...      \n",
      "74706           Anamia\n",
      "74830    Suparna Anand\n",
      "Name: name, Length: 193, dtype: object\n",
      "1993\n",
      "actress\n",
      "50026    Per (II) Aabel\n",
      "50105            Aamani\n",
      "              ...      \n",
      "74815      Sujata Anand\n",
      "74988     Zoe Anastasis\n",
      "Name: name, Length: 231, dtype: object\n",
      "1994\n",
      "actress\n",
      "50103          Aamani\n",
      "50106          Aamani\n",
      "             ...     \n",
      "74816    Sujata Anand\n",
      "74826    Sujata Anand\n",
      "Name: name, Length: 231, dtype: object\n",
      "1995\n",
      "actress\n",
      "50005           7 Year Bitch\n",
      "50017              M?nica A.\n",
      "                ...         \n",
      "74620    Marinella Anaclerio\n",
      "74928     Angeliki Anargyrou\n",
      "Name: name, Length: 260, dtype: object\n",
      "1996\n",
      "actress\n",
      "50175        Caroline Aaron\n",
      "50190        Caroline Aaron\n",
      "                ...        \n",
      "74971    Maria Anastasiadou\n",
      "74972    Maria Anastasiadou\n",
      "Name: name, Length: 260, dtype: object\n",
      "1997\n",
      "actress\n",
      "50100     Minna Aaltonen\n",
      "50183     Caroline Aaron\n",
      "              ...       \n",
      "74616    Kristen Anacker\n",
      "74829      Suparna Anand\n",
      "Name: name, Length: 292, dtype: object\n",
      "1998\n",
      "actress\n",
      "50055       Leyla Aalam\n",
      "50205    Caroline Aaron\n",
      "              ...      \n",
      "74546      Oshinsky Amy\n",
      "74659       Rena Anakwe\n",
      "Name: name, Length: 293, dtype: object\n",
      "1999\n",
      "actress\n",
      "50016              Aziza A.\n",
      "50172        Caroline Aaron\n",
      "                ...        \n",
      "74459        Lisa Amsterdam\n",
      "74513    Eva Amurri Martino\n",
      "Name: name, Length: 348, dtype: object\n",
      "2000\n",
      "actress\n",
      "50037      Laura Aagaard\n",
      "50077            Aaliyah\n",
      "              ...       \n",
      "74912    Kristina Anapau\n",
      "74933             Anasol\n",
      "Name: name, Length: 378, dtype: object\n",
      "2001\n",
      "actress\n",
      "50170     Caroline Aaron\n",
      "50192     Caroline Aaron\n",
      "              ...       \n",
      "74752      Sabitha Anand\n",
      "74921    Kristina Anapau\n",
      "Name: name, Length: 388, dtype: object\n",
      "2002\n",
      "actress\n",
      "50076                Aaliyah\n",
      "50206         Caroline Aaron\n",
      "                ...         \n",
      "74889          Seetha Ananth\n",
      "74980    Valentina Anastasio\n",
      "Name: name, Length: 442, dtype: object\n",
      "2003\n",
      "actress\n",
      "50009      Basia A'Hern\n",
      "50040    Heather Aagard\n",
      "              ...      \n",
      "74851            Anandi\n",
      "74858       Helen Anang\n",
      "Name: name, Length: 385, dtype: object\n",
      "2004\n",
      "actress\n",
      "50104                   Aamani\n",
      "50127            Sofie Aandahl\n",
      "                 ...          \n",
      "74986          Niki Anastasiou\n",
      "74997    Tiannah Anastassiades\n",
      "Name: name, Length: 524, dtype: object\n",
      "2005\n",
      "actress\n",
      "50015            Aziza A.\n",
      "50124    Hege Marie Aanby\n",
      "               ...       \n",
      "74931     Risa Lin Anasky\n",
      "74932     Taina M. Anasky\n",
      "Name: name, Length: 585, dtype: object\n",
      "2006\n",
      "actress\n",
      "50073         Nila Aalia\n",
      "50155             Aarlin\n",
      "              ...       \n",
      "74946    Anastasia (XXV)\n",
      "74958    Joyce Anastasia\n",
      "Name: name, Length: 656, dtype: object\n",
      "2007\n",
      "actress\n",
      "50039         Simone Aagaard-Hansen\n",
      "50125                       Aanchal\n",
      "                    ...            \n",
      "74983    Christina Rosas Anastasiou\n",
      "75000    Anastassia Anastassopoulou\n",
      "Name: name, Length: 732, dtype: object\n",
      "2008\n",
      "actress\n",
      "50008            Basia A'Hern\n",
      "50014               Amanda A.\n",
      "                 ...         \n",
      "74987       Sophia Anastasiou\n",
      "74992    Julia Anastasopoulos\n",
      "Name: name, Length: 861, dtype: object\n",
      "2009\n",
      "actress\n",
      "50021               Stephanie A.\n",
      "50038        ?se Kristin Aagaard\n",
      "                  ...           \n",
      "74985        Evmorfia Anastasiou\n",
      "74995    Penelope Anastasopoulou\n",
      "Name: name, Length: 880, dtype: object\n",
      "2010\n",
      "actress\n",
      "50027               Nathalie Aad\n",
      "50028                   Rita Aad\n",
      "                  ...           \n",
      "74994    Penelope Anastasopoulou\n",
      "74998            Zoe Anastassiou\n",
      "Name: name, Length: 909, dtype: object\n",
      "2011\n",
      "actress\n",
      "50006                  Jardar 95\n",
      "50023                 Reem Aabed\n",
      "                  ...           \n",
      "74954       Dumitrescu Anastasia\n",
      "74996    Penelope Anastasopoulou\n",
      "Name: name, Length: 1015, dtype: object\n",
      "2012\n",
      "actress\n",
      "50012    J'avona A'ngelique\n",
      "50099        Minna Aaltonen\n",
      "                ...        \n",
      "74962      Masayu Anastasia\n",
      "74977      Alexia Anastasio\n",
      "Name: name, Length: 1092, dtype: object\n",
      "2013\n",
      "actress\n",
      "50018              Regina A.\n",
      "50020           Stephanie A.\n",
      "                ...         \n",
      "74960      Lindsay Anastasia\n",
      "74993    Mara Anastasopoulou\n",
      "Name: name, Length: 1130, dtype: object\n",
      "2014\n",
      "actress\n",
      "50010    Courtenay A'Kimmi\n",
      "50036        Yasmine Aafer\n",
      "               ...        \n",
      "74976     Alexia Anastasio\n",
      "74991     Jenny Anastasoff\n",
      "Name: name, Length: 1215, dtype: object\n",
      "2015\n",
      "actress\n",
      "50001        Bethan Williams -James\n",
      "50046               Shubra Aaiyappa\n",
      "                    ...            \n",
      "74956                Erin Anastasia\n",
      "74984    Christina Rosas Anastasiou\n",
      "Name: name, Length: 1264, dtype: object\n",
      "2016\n",
      "actress\n",
      "50000    Kisha Emanuel -Durell\n",
      "50002                    Pia .\n",
      "                 ...          \n",
      "74989         Denisa Anastasiu\n",
      "74999          Zoe Anastassiou\n",
      "Name: name, Length: 1417, dtype: object\n",
      "2017\n",
      "actress\n",
      "50074         Nila Aalia\n",
      "50139        Lucy Aarden\n",
      "              ...       \n",
      "74926    Kristina Anapau\n",
      "74929       Sarah Anarna\n",
      "Name: name, Length: 741, dtype: object\n",
      "2018\n",
      "actress\n",
      "50138          Lucy Aarden\n",
      "50233        McKayla Aaron\n",
      "               ...        \n",
      "74200           Ana Amorim\n",
      "74864    Victoria Ananieva\n",
      "Name: name, Length: 67, dtype: object\n",
      "2019\n",
      "actress\n",
      "52021    Simone Abrahamsohn\n",
      "62017             Lori Alan\n",
      "64680            Quben Alex\n",
      "Name: name, dtype: object\n",
      "2020\n",
      "actress\n",
      "70800    Kaniah Alston\n",
      "Name: name, dtype: object\n",
      "2023\n",
      "actress\n",
      "63300    Victoria Alcala\n",
      "63301    Victoria Alcala\n",
      "Name: name, dtype: object\n"
     ]
    }
   ],
   "source": [
    "for (tipo,ano),nombre in cg2:\n",
    "    print(ano)\n",
    "    print(tipo)\n",
    "    print(nombre)"
   ]
  },
  {
   "cell_type": "markdown",
   "metadata": {},
   "source": [
    "# 4. Unstack"
   ]
  },
  {
   "cell_type": "markdown",
   "metadata": {},
   "source": [
    "Hacemos el groupby por dos campos, uno de ellos custom"
   ]
  },
  {
   "cell_type": "code",
   "execution_count": 76,
   "metadata": {},
   "outputs": [
    {
     "data": {
      "text/plain": [
       "type   year\n",
       "actor  1910     384\n",
       "       1920     710\n",
       "               ... \n",
       "       1970    3044\n",
       "       1980    3565\n",
       "Length: 8, dtype: int64"
      ]
     },
     "execution_count": 76,
     "metadata": {},
     "output_type": "execute_result"
    }
   ],
   "source": [
    "c = casts\n",
    "c_decade = c.groupby( ['type', c['year']//10*10] ).size()\n",
    "c_decade.head(8)"
   ]
  },
  {
   "cell_type": "code",
   "execution_count": 77,
   "metadata": {},
   "outputs": [
    {
     "data": {
      "text/plain": [
       "type     year\n",
       "actor    1910     384\n",
       "         1920     710\n",
       "                 ... \n",
       "actress  2010    8853\n",
       "         2020       3\n",
       "Length: 24, dtype: int64"
      ]
     },
     "execution_count": 77,
     "metadata": {},
     "output_type": "execute_result"
    }
   ],
   "source": [
    "c_decade"
   ]
  },
  {
   "cell_type": "markdown",
   "metadata": {},
   "source": [
    "__Bonito!__"
   ]
  },
  {
   "cell_type": "code",
   "execution_count": 78,
   "metadata": {},
   "outputs": [
    {
     "data": {
      "text/html": [
       "<div>\n",
       "<style scoped>\n",
       "    .dataframe tbody tr th:only-of-type {\n",
       "        vertical-align: middle;\n",
       "    }\n",
       "\n",
       "    .dataframe tbody tr th {\n",
       "        vertical-align: top;\n",
       "    }\n",
       "\n",
       "    .dataframe thead th {\n",
       "        text-align: right;\n",
       "    }\n",
       "</style>\n",
       "<table border=\"1\" class=\"dataframe\">\n",
       "  <thead>\n",
       "    <tr style=\"text-align: right;\">\n",
       "      <th>year</th>\n",
       "      <th>1910</th>\n",
       "      <th>1920</th>\n",
       "      <th>1930</th>\n",
       "      <th>1940</th>\n",
       "      <th>1950</th>\n",
       "      <th>...</th>\n",
       "      <th>1980</th>\n",
       "      <th>1990</th>\n",
       "      <th>2000</th>\n",
       "      <th>2010</th>\n",
       "      <th>2020</th>\n",
       "    </tr>\n",
       "    <tr>\n",
       "      <th>type</th>\n",
       "      <th></th>\n",
       "      <th></th>\n",
       "      <th></th>\n",
       "      <th></th>\n",
       "      <th></th>\n",
       "      <th></th>\n",
       "      <th></th>\n",
       "      <th></th>\n",
       "      <th></th>\n",
       "      <th></th>\n",
       "      <th></th>\n",
       "    </tr>\n",
       "  </thead>\n",
       "  <tbody>\n",
       "    <tr>\n",
       "      <th>actor</th>\n",
       "      <td>384</td>\n",
       "      <td>710</td>\n",
       "      <td>2628</td>\n",
       "      <td>3014</td>\n",
       "      <td>2877</td>\n",
       "      <td>...</td>\n",
       "      <td>3565</td>\n",
       "      <td>5108</td>\n",
       "      <td>10368</td>\n",
       "      <td>15523</td>\n",
       "      <td>4</td>\n",
       "    </tr>\n",
       "    <tr>\n",
       "      <th>actress</th>\n",
       "      <td>285</td>\n",
       "      <td>411</td>\n",
       "      <td>820</td>\n",
       "      <td>983</td>\n",
       "      <td>1015</td>\n",
       "      <td>...</td>\n",
       "      <td>1989</td>\n",
       "      <td>2544</td>\n",
       "      <td>5831</td>\n",
       "      <td>8853</td>\n",
       "      <td>3</td>\n",
       "    </tr>\n",
       "  </tbody>\n",
       "</table>\n",
       "<p>2 rows × 12 columns</p>\n",
       "</div>"
      ],
      "text/plain": [
       "year     1910  1920  1930  1940  1950  ...  1980  1990   2000   2010  2020\n",
       "type                                   ...                                \n",
       "actor     384   710  2628  3014  2877  ...  3565  5108  10368  15523     4\n",
       "actress   285   411   820   983  1015  ...  1989  2544   5831   8853     3\n",
       "\n",
       "[2 rows x 12 columns]"
      ]
     },
     "execution_count": 78,
     "metadata": {},
     "output_type": "execute_result"
    }
   ],
   "source": [
    "c_decade.unstack()"
   ]
  },
  {
   "cell_type": "code",
   "execution_count": 79,
   "metadata": {},
   "outputs": [
    {
     "data": {
      "text/html": [
       "<div>\n",
       "<style scoped>\n",
       "    .dataframe tbody tr th:only-of-type {\n",
       "        vertical-align: middle;\n",
       "    }\n",
       "\n",
       "    .dataframe tbody tr th {\n",
       "        vertical-align: top;\n",
       "    }\n",
       "\n",
       "    .dataframe thead th {\n",
       "        text-align: right;\n",
       "    }\n",
       "</style>\n",
       "<table border=\"1\" class=\"dataframe\">\n",
       "  <thead>\n",
       "    <tr style=\"text-align: right;\">\n",
       "      <th>year</th>\n",
       "      <th>1910</th>\n",
       "      <th>1920</th>\n",
       "      <th>1930</th>\n",
       "      <th>1940</th>\n",
       "      <th>1950</th>\n",
       "      <th>...</th>\n",
       "      <th>1980</th>\n",
       "      <th>1990</th>\n",
       "      <th>2000</th>\n",
       "      <th>2010</th>\n",
       "      <th>2020</th>\n",
       "    </tr>\n",
       "    <tr>\n",
       "      <th>type</th>\n",
       "      <th></th>\n",
       "      <th></th>\n",
       "      <th></th>\n",
       "      <th></th>\n",
       "      <th></th>\n",
       "      <th></th>\n",
       "      <th></th>\n",
       "      <th></th>\n",
       "      <th></th>\n",
       "      <th></th>\n",
       "      <th></th>\n",
       "    </tr>\n",
       "  </thead>\n",
       "  <tbody>\n",
       "    <tr>\n",
       "      <th>actor</th>\n",
       "      <td>384</td>\n",
       "      <td>710</td>\n",
       "      <td>2628</td>\n",
       "      <td>3014</td>\n",
       "      <td>2877</td>\n",
       "      <td>...</td>\n",
       "      <td>3565</td>\n",
       "      <td>5108</td>\n",
       "      <td>10368</td>\n",
       "      <td>15523</td>\n",
       "      <td>4</td>\n",
       "    </tr>\n",
       "    <tr>\n",
       "      <th>actress</th>\n",
       "      <td>285</td>\n",
       "      <td>411</td>\n",
       "      <td>820</td>\n",
       "      <td>983</td>\n",
       "      <td>1015</td>\n",
       "      <td>...</td>\n",
       "      <td>1989</td>\n",
       "      <td>2544</td>\n",
       "      <td>5831</td>\n",
       "      <td>8853</td>\n",
       "      <td>3</td>\n",
       "    </tr>\n",
       "  </tbody>\n",
       "</table>\n",
       "<p>2 rows × 12 columns</p>\n",
       "</div>"
      ],
      "text/plain": [
       "year     1910  1920  1930  1940  1950  ...  1980  1990   2000   2010  2020\n",
       "type                                   ...                                \n",
       "actor     384   710  2628  3014  2877  ...  3565  5108  10368  15523     4\n",
       "actress   285   411   820   983  1015  ...  1989  2544   5831   8853     3\n",
       "\n",
       "[2 rows x 12 columns]"
      ]
     },
     "execution_count": 79,
     "metadata": {},
     "output_type": "execute_result"
    }
   ],
   "source": [
    "c_decade.unstack()"
   ]
  },
  {
   "cell_type": "markdown",
   "metadata": {},
   "source": [
    "Muestra un grafico de barras:"
   ]
  },
  {
   "cell_type": "code",
   "execution_count": 80,
   "metadata": {},
   "outputs": [
    {
     "data": {
      "text/plain": [
       "<matplotlib.axes._subplots.AxesSubplot at 0x229e83881c8>"
      ]
     },
     "execution_count": 80,
     "metadata": {},
     "output_type": "execute_result"
    },
    {
     "data": {
      "image/png": "[encoded data removed]",
      "text/plain": [
       "<Figure size 432x288 with 1 Axes>"
      ]
     },
     "metadata": {
      "needs_background": "light"
     },
     "output_type": "display_data"
    }
   ],
   "source": [
    "c_decade.unstack().plot(kind='bar')"
   ]
  },
  {
   "cell_type": "markdown",
   "metadata": {},
   "source": [
    "Hacemos la transpuesta del Dataframe para representarlo"
   ]
  },
  {
   "cell_type": "code",
   "execution_count": 81,
   "metadata": {},
   "outputs": [
    {
     "data": {
      "text/plain": [
       "<matplotlib.axes._subplots.AxesSubplot at 0x229e86e3208>"
      ]
     },
     "execution_count": 81,
     "metadata": {},
     "output_type": "execute_result"
    },
    {
     "data": {
      "image/png": "[encoded data removed]",
      "text/plain": [
       "<Figure size 432x288 with 1 Axes>"
      ]
     },
     "metadata": {
      "needs_background": "light"
     },
     "output_type": "display_data"
    }
   ],
   "source": [
    "c_decade.unstack().T.plot()"
   ]
  },
  {
   "cell_type": "markdown",
   "metadata": {},
   "source": [
    "Podemos especificar que variable desapilar. En nuestro dataframe tenemos type y actor"
   ]
  },
  {
   "cell_type": "code",
   "execution_count": 82,
   "metadata": {},
   "outputs": [
    {
     "data": {
      "text/plain": [
       "type     year\n",
       "actor    1910     384\n",
       "         1920     710\n",
       "                 ... \n",
       "actress  2010    8853\n",
       "         2020       3\n",
       "Length: 24, dtype: int64"
      ]
     },
     "execution_count": 82,
     "metadata": {},
     "output_type": "execute_result"
    }
   ],
   "source": [
    "c_decade"
   ]
  },
  {
   "cell_type": "markdown",
   "metadata": {},
   "source": [
    "Por defecto unstack() es equivalente a unstack(-1). En nuestro caso unstack(-1) es lo mismo que unstack(1)"
   ]
  },
  {
   "cell_type": "code",
   "execution_count": 83,
   "metadata": {},
   "outputs": [
    {
     "data": {
      "text/html": [
       "<div>\n",
       "<style scoped>\n",
       "    .dataframe tbody tr th:only-of-type {\n",
       "        vertical-align: middle;\n",
       "    }\n",
       "\n",
       "    .dataframe tbody tr th {\n",
       "        vertical-align: top;\n",
       "    }\n",
       "\n",
       "    .dataframe thead th {\n",
       "        text-align: right;\n",
       "    }\n",
       "</style>\n",
       "<table border=\"1\" class=\"dataframe\">\n",
       "  <thead>\n",
       "    <tr style=\"text-align: right;\">\n",
       "      <th>year</th>\n",
       "      <th>1910</th>\n",
       "      <th>1920</th>\n",
       "      <th>1930</th>\n",
       "      <th>1940</th>\n",
       "      <th>1950</th>\n",
       "      <th>...</th>\n",
       "      <th>1980</th>\n",
       "      <th>1990</th>\n",
       "      <th>2000</th>\n",
       "      <th>2010</th>\n",
       "      <th>2020</th>\n",
       "    </tr>\n",
       "    <tr>\n",
       "      <th>type</th>\n",
       "      <th></th>\n",
       "      <th></th>\n",
       "      <th></th>\n",
       "      <th></th>\n",
       "      <th></th>\n",
       "      <th></th>\n",
       "      <th></th>\n",
       "      <th></th>\n",
       "      <th></th>\n",
       "      <th></th>\n",
       "      <th></th>\n",
       "    </tr>\n",
       "  </thead>\n",
       "  <tbody>\n",
       "    <tr>\n",
       "      <th>actor</th>\n",
       "      <td>384</td>\n",
       "      <td>710</td>\n",
       "      <td>2628</td>\n",
       "      <td>3014</td>\n",
       "      <td>2877</td>\n",
       "      <td>...</td>\n",
       "      <td>3565</td>\n",
       "      <td>5108</td>\n",
       "      <td>10368</td>\n",
       "      <td>15523</td>\n",
       "      <td>4</td>\n",
       "    </tr>\n",
       "    <tr>\n",
       "      <th>actress</th>\n",
       "      <td>285</td>\n",
       "      <td>411</td>\n",
       "      <td>820</td>\n",
       "      <td>983</td>\n",
       "      <td>1015</td>\n",
       "      <td>...</td>\n",
       "      <td>1989</td>\n",
       "      <td>2544</td>\n",
       "      <td>5831</td>\n",
       "      <td>8853</td>\n",
       "      <td>3</td>\n",
       "    </tr>\n",
       "  </tbody>\n",
       "</table>\n",
       "<p>2 rows × 12 columns</p>\n",
       "</div>"
      ],
      "text/plain": [
       "year     1910  1920  1930  1940  1950  ...  1980  1990   2000   2010  2020\n",
       "type                                   ...                                \n",
       "actor     384   710  2628  3014  2877  ...  3565  5108  10368  15523     4\n",
       "actress   285   411   820   983  1015  ...  1989  2544   5831   8853     3\n",
       "\n",
       "[2 rows x 12 columns]"
      ]
     },
     "execution_count": 83,
     "metadata": {},
     "output_type": "execute_result"
    }
   ],
   "source": [
    "c_decade.unstack(1)"
   ]
  },
  {
   "cell_type": "code",
   "execution_count": 84,
   "metadata": {},
   "outputs": [
    {
     "data": {
      "text/html": [
       "<div>\n",
       "<style scoped>\n",
       "    .dataframe tbody tr th:only-of-type {\n",
       "        vertical-align: middle;\n",
       "    }\n",
       "\n",
       "    .dataframe tbody tr th {\n",
       "        vertical-align: top;\n",
       "    }\n",
       "\n",
       "    .dataframe thead th {\n",
       "        text-align: right;\n",
       "    }\n",
       "</style>\n",
       "<table border=\"1\" class=\"dataframe\">\n",
       "  <thead>\n",
       "    <tr style=\"text-align: right;\">\n",
       "      <th>type</th>\n",
       "      <th>actor</th>\n",
       "      <th>actress</th>\n",
       "    </tr>\n",
       "    <tr>\n",
       "      <th>year</th>\n",
       "      <th></th>\n",
       "      <th></th>\n",
       "    </tr>\n",
       "  </thead>\n",
       "  <tbody>\n",
       "    <tr>\n",
       "      <th>1910</th>\n",
       "      <td>384</td>\n",
       "      <td>285</td>\n",
       "    </tr>\n",
       "    <tr>\n",
       "      <th>1920</th>\n",
       "      <td>710</td>\n",
       "      <td>411</td>\n",
       "    </tr>\n",
       "    <tr>\n",
       "      <th>...</th>\n",
       "      <td>...</td>\n",
       "      <td>...</td>\n",
       "    </tr>\n",
       "    <tr>\n",
       "      <th>2010</th>\n",
       "      <td>15523</td>\n",
       "      <td>8853</td>\n",
       "    </tr>\n",
       "    <tr>\n",
       "      <th>2020</th>\n",
       "      <td>4</td>\n",
       "      <td>3</td>\n",
       "    </tr>\n",
       "  </tbody>\n",
       "</table>\n",
       "<p>12 rows × 2 columns</p>\n",
       "</div>"
      ],
      "text/plain": [
       "type  actor  actress\n",
       "year                \n",
       "1910    384      285\n",
       "1920    710      411\n",
       "...     ...      ...\n",
       "2010  15523     8853\n",
       "2020      4        3\n",
       "\n",
       "[12 rows x 2 columns]"
      ]
     },
     "execution_count": 84,
     "metadata": {},
     "output_type": "execute_result"
    }
   ],
   "source": [
    "c_decade.unstack(0)"
   ]
  },
  {
   "cell_type": "code",
   "execution_count": 85,
   "metadata": {},
   "outputs": [
    {
     "data": {
      "text/plain": [
       "<matplotlib.axes._subplots.AxesSubplot at 0x229e8742548>"
      ]
     },
     "execution_count": 85,
     "metadata": {},
     "output_type": "execute_result"
    },
    {
     "data": {
      "image/png": "[encoded data removed]",
      "text/plain": [
       "<Figure size 432x288 with 1 Axes>"
      ]
     },
     "metadata": {
      "needs_background": "light"
     },
     "output_type": "display_data"
    }
   ],
   "source": [
    "c_decade.unstack(0).plot(kind='bar')"
   ]
  },
  {
   "cell_type": "markdown",
   "metadata": {},
   "source": [
    "# 5. Merge (joins)"
   ]
  },
  {
   "cell_type": "code",
   "execution_count": 86,
   "metadata": {},
   "outputs": [
    {
     "data": {
      "text/html": [
       "<div>\n",
       "<style scoped>\n",
       "    .dataframe tbody tr th:only-of-type {\n",
       "        vertical-align: middle;\n",
       "    }\n",
       "\n",
       "    .dataframe tbody tr th {\n",
       "        vertical-align: top;\n",
       "    }\n",
       "\n",
       "    .dataframe thead th {\n",
       "        text-align: right;\n",
       "    }\n",
       "</style>\n",
       "<table border=\"1\" class=\"dataframe\">\n",
       "  <thead>\n",
       "    <tr style=\"text-align: right;\">\n",
       "      <th></th>\n",
       "      <th>title</th>\n",
       "      <th>year</th>\n",
       "      <th>country</th>\n",
       "      <th>date</th>\n",
       "    </tr>\n",
       "  </thead>\n",
       "  <tbody>\n",
       "    <tr>\n",
       "      <th>0</th>\n",
       "      <td>#73, Shaanthi Nivaasa</td>\n",
       "      <td>2007</td>\n",
       "      <td>India</td>\n",
       "      <td>2007-06-15</td>\n",
       "    </tr>\n",
       "    <tr>\n",
       "      <th>1</th>\n",
       "      <td>#Beings</td>\n",
       "      <td>2015</td>\n",
       "      <td>Romania</td>\n",
       "      <td>2015-01-29</td>\n",
       "    </tr>\n",
       "    <tr>\n",
       "      <th>...</th>\n",
       "      <td>...</td>\n",
       "      <td>...</td>\n",
       "      <td>...</td>\n",
       "      <td>...</td>\n",
       "    </tr>\n",
       "    <tr>\n",
       "      <th>3</th>\n",
       "      <td>#Ewankosau saranghaeyo</td>\n",
       "      <td>2015</td>\n",
       "      <td>Philippines</td>\n",
       "      <td>2015-01-21</td>\n",
       "    </tr>\n",
       "    <tr>\n",
       "      <th>4</th>\n",
       "      <td>#Horror</td>\n",
       "      <td>2015</td>\n",
       "      <td>USA</td>\n",
       "      <td>2015-11-20</td>\n",
       "    </tr>\n",
       "  </tbody>\n",
       "</table>\n",
       "<p>5 rows × 4 columns</p>\n",
       "</div>"
      ],
      "text/plain": [
       "                     title  year      country        date\n",
       "0    #73, Shaanthi Nivaasa  2007        India  2007-06-15\n",
       "1                  #Beings  2015      Romania  2015-01-29\n",
       "..                     ...   ...          ...         ...\n",
       "3   #Ewankosau saranghaeyo  2015  Philippines  2015-01-21\n",
       "4                  #Horror  2015          USA  2015-11-20\n",
       "\n",
       "[5 rows x 4 columns]"
      ]
     },
     "execution_count": 86,
     "metadata": {},
     "output_type": "execute_result"
    }
   ],
   "source": [
    "release = pd.read_csv('./data/release_dates.csv', index_col=None)\n",
    "release.head()"
   ]
  },
  {
   "cell_type": "code",
   "execution_count": 87,
   "metadata": {},
   "outputs": [
    {
     "data": {
      "text/html": [
       "<div>\n",
       "<style scoped>\n",
       "    .dataframe tbody tr th:only-of-type {\n",
       "        vertical-align: middle;\n",
       "    }\n",
       "\n",
       "    .dataframe tbody tr th {\n",
       "        vertical-align: top;\n",
       "    }\n",
       "\n",
       "    .dataframe thead th {\n",
       "        text-align: right;\n",
       "    }\n",
       "</style>\n",
       "<table border=\"1\" class=\"dataframe\">\n",
       "  <thead>\n",
       "    <tr style=\"text-align: right;\">\n",
       "      <th></th>\n",
       "      <th>title</th>\n",
       "      <th>year</th>\n",
       "      <th>name</th>\n",
       "      <th>type</th>\n",
       "      <th>character</th>\n",
       "      <th>n</th>\n",
       "    </tr>\n",
       "  </thead>\n",
       "  <tbody>\n",
       "    <tr>\n",
       "      <th>0</th>\n",
       "      <td>Closet Monster</td>\n",
       "      <td>2015</td>\n",
       "      <td>Buffy #1</td>\n",
       "      <td>actor</td>\n",
       "      <td>Buffy 4</td>\n",
       "      <td>31.0</td>\n",
       "    </tr>\n",
       "    <tr>\n",
       "      <th>1</th>\n",
       "      <td>Suuri illusioni</td>\n",
       "      <td>1985</td>\n",
       "      <td>Homo $</td>\n",
       "      <td>actor</td>\n",
       "      <td>Guests</td>\n",
       "      <td>22.0</td>\n",
       "    </tr>\n",
       "    <tr>\n",
       "      <th>...</th>\n",
       "      <td>...</td>\n",
       "      <td>...</td>\n",
       "      <td>...</td>\n",
       "      <td>...</td>\n",
       "      <td>...</td>\n",
       "      <td>...</td>\n",
       "    </tr>\n",
       "    <tr>\n",
       "      <th>3</th>\n",
       "      <td>Secret in Their Eyes</td>\n",
       "      <td>2015</td>\n",
       "      <td>$hutter</td>\n",
       "      <td>actor</td>\n",
       "      <td>2002 Dodger Fan</td>\n",
       "      <td>NaN</td>\n",
       "    </tr>\n",
       "    <tr>\n",
       "      <th>4</th>\n",
       "      <td>Steve Jobs</td>\n",
       "      <td>2015</td>\n",
       "      <td>$hutter</td>\n",
       "      <td>actor</td>\n",
       "      <td>1988 Opera House Patron</td>\n",
       "      <td>NaN</td>\n",
       "    </tr>\n",
       "  </tbody>\n",
       "</table>\n",
       "<p>5 rows × 6 columns</p>\n",
       "</div>"
      ],
      "text/plain": [
       "                   title  year      name   type                character     n\n",
       "0         Closet Monster  2015  Buffy #1  actor                  Buffy 4  31.0\n",
       "1        Suuri illusioni  1985    Homo $  actor                   Guests  22.0\n",
       "..                   ...   ...       ...    ...                      ...   ...\n",
       "3   Secret in Their Eyes  2015   $hutter  actor          2002 Dodger Fan   NaN\n",
       "4             Steve Jobs  2015   $hutter  actor  1988 Opera House Patron   NaN\n",
       "\n",
       "[5 rows x 6 columns]"
      ]
     },
     "execution_count": 87,
     "metadata": {},
     "output_type": "execute_result"
    }
   ],
   "source": [
    "casts.head()"
   ]
  },
  {
   "cell_type": "code",
   "execution_count": 88,
   "metadata": {},
   "outputs": [
    {
     "data": {
      "text/html": [
       "<div>\n",
       "<style scoped>\n",
       "    .dataframe tbody tr th:only-of-type {\n",
       "        vertical-align: middle;\n",
       "    }\n",
       "\n",
       "    .dataframe tbody tr th {\n",
       "        vertical-align: top;\n",
       "    }\n",
       "\n",
       "    .dataframe thead th {\n",
       "        text-align: right;\n",
       "    }\n",
       "</style>\n",
       "<table border=\"1\" class=\"dataframe\">\n",
       "  <thead>\n",
       "    <tr style=\"text-align: right;\">\n",
       "      <th></th>\n",
       "      <th>title</th>\n",
       "      <th>year</th>\n",
       "      <th>name</th>\n",
       "      <th>type</th>\n",
       "      <th>character</th>\n",
       "      <th>n</th>\n",
       "    </tr>\n",
       "  </thead>\n",
       "  <tbody>\n",
       "    <tr>\n",
       "      <th>5767</th>\n",
       "      <td>Amelia</td>\n",
       "      <td>2009</td>\n",
       "      <td>Aaron Abrams</td>\n",
       "      <td>actor</td>\n",
       "      <td>Slim Gordon</td>\n",
       "      <td>8.0</td>\n",
       "    </tr>\n",
       "    <tr>\n",
       "      <th>23319</th>\n",
       "      <td>Amelia</td>\n",
       "      <td>2009</td>\n",
       "      <td>Jeremy Akerman</td>\n",
       "      <td>actor</td>\n",
       "      <td>Sheriff</td>\n",
       "      <td>19.0</td>\n",
       "    </tr>\n",
       "  </tbody>\n",
       "</table>\n",
       "</div>"
      ],
      "text/plain": [
       "        title  year            name   type    character     n\n",
       "5767   Amelia  2009    Aaron Abrams  actor  Slim Gordon   8.0\n",
       "23319  Amelia  2009  Jeremy Akerman  actor      Sheriff  19.0"
      ]
     },
     "execution_count": 88,
     "metadata": {},
     "output_type": "execute_result"
    }
   ],
   "source": [
    "c_amelia = casts[ casts['title'] == 'Amelia']\n",
    "c_amelia.head()"
   ]
  },
  {
   "cell_type": "code",
   "execution_count": 89,
   "metadata": {},
   "outputs": [
    {
     "data": {
      "text/html": [
       "<div>\n",
       "<style scoped>\n",
       "    .dataframe tbody tr th:only-of-type {\n",
       "        vertical-align: middle;\n",
       "    }\n",
       "\n",
       "    .dataframe tbody tr th {\n",
       "        vertical-align: top;\n",
       "    }\n",
       "\n",
       "    .dataframe thead th {\n",
       "        text-align: right;\n",
       "    }\n",
       "</style>\n",
       "<table border=\"1\" class=\"dataframe\">\n",
       "  <thead>\n",
       "    <tr style=\"text-align: right;\">\n",
       "      <th></th>\n",
       "      <th>title</th>\n",
       "      <th>year</th>\n",
       "      <th>country</th>\n",
       "      <th>date</th>\n",
       "    </tr>\n",
       "  </thead>\n",
       "  <tbody>\n",
       "    <tr>\n",
       "      <th>20543</th>\n",
       "      <td>Amelia</td>\n",
       "      <td>1966</td>\n",
       "      <td>Mexico</td>\n",
       "      <td>1966-03-10</td>\n",
       "    </tr>\n",
       "    <tr>\n",
       "      <th>20544</th>\n",
       "      <td>Amelia</td>\n",
       "      <td>2009</td>\n",
       "      <td>Canada</td>\n",
       "      <td>2009-10-23</td>\n",
       "    </tr>\n",
       "    <tr>\n",
       "      <th>...</th>\n",
       "      <td>...</td>\n",
       "      <td>...</td>\n",
       "      <td>...</td>\n",
       "      <td>...</td>\n",
       "    </tr>\n",
       "    <tr>\n",
       "      <th>20546</th>\n",
       "      <td>Amelia</td>\n",
       "      <td>2009</td>\n",
       "      <td>Australia</td>\n",
       "      <td>2009-11-12</td>\n",
       "    </tr>\n",
       "    <tr>\n",
       "      <th>20547</th>\n",
       "      <td>Amelia</td>\n",
       "      <td>2009</td>\n",
       "      <td>Singapore</td>\n",
       "      <td>2009-11-12</td>\n",
       "    </tr>\n",
       "  </tbody>\n",
       "</table>\n",
       "<p>5 rows × 4 columns</p>\n",
       "</div>"
      ],
      "text/plain": [
       "        title  year    country        date\n",
       "20543  Amelia  1966     Mexico  1966-03-10\n",
       "20544  Amelia  2009     Canada  2009-10-23\n",
       "...       ...   ...        ...         ...\n",
       "20546  Amelia  2009  Australia  2009-11-12\n",
       "20547  Amelia  2009  Singapore  2009-11-12\n",
       "\n",
       "[5 rows x 4 columns]"
      ]
     },
     "execution_count": 89,
     "metadata": {},
     "output_type": "execute_result"
    }
   ],
   "source": [
    "release [ release['title'] == 'Amelia' ].head()"
   ]
  },
  {
   "cell_type": "markdown",
   "metadata": {},
   "source": [
    "Hace el merge de los dos DataFrame usando los campos que son comunes en ambos:"
   ]
  },
  {
   "cell_type": "code",
   "execution_count": 90,
   "metadata": {},
   "outputs": [
    {
     "data": {
      "text/html": [
       "<div>\n",
       "<style scoped>\n",
       "    .dataframe tbody tr th:only-of-type {\n",
       "        vertical-align: middle;\n",
       "    }\n",
       "\n",
       "    .dataframe tbody tr th {\n",
       "        vertical-align: top;\n",
       "    }\n",
       "\n",
       "    .dataframe thead th {\n",
       "        text-align: right;\n",
       "    }\n",
       "</style>\n",
       "<table border=\"1\" class=\"dataframe\">\n",
       "  <thead>\n",
       "    <tr style=\"text-align: right;\">\n",
       "      <th></th>\n",
       "      <th>title</th>\n",
       "      <th>year</th>\n",
       "      <th>name</th>\n",
       "      <th>type</th>\n",
       "      <th>character</th>\n",
       "      <th>n</th>\n",
       "      <th>country</th>\n",
       "      <th>date</th>\n",
       "    </tr>\n",
       "  </thead>\n",
       "  <tbody>\n",
       "    <tr>\n",
       "      <th>0</th>\n",
       "      <td>Amelia</td>\n",
       "      <td>2009</td>\n",
       "      <td>Aaron Abrams</td>\n",
       "      <td>actor</td>\n",
       "      <td>Slim Gordon</td>\n",
       "      <td>8.0</td>\n",
       "      <td>Canada</td>\n",
       "      <td>2009-10-23</td>\n",
       "    </tr>\n",
       "    <tr>\n",
       "      <th>1</th>\n",
       "      <td>Amelia</td>\n",
       "      <td>2009</td>\n",
       "      <td>Aaron Abrams</td>\n",
       "      <td>actor</td>\n",
       "      <td>Slim Gordon</td>\n",
       "      <td>8.0</td>\n",
       "      <td>USA</td>\n",
       "      <td>2009-10-23</td>\n",
       "    </tr>\n",
       "    <tr>\n",
       "      <th>...</th>\n",
       "      <td>...</td>\n",
       "      <td>...</td>\n",
       "      <td>...</td>\n",
       "      <td>...</td>\n",
       "      <td>...</td>\n",
       "      <td>...</td>\n",
       "      <td>...</td>\n",
       "      <td>...</td>\n",
       "    </tr>\n",
       "    <tr>\n",
       "      <th>3</th>\n",
       "      <td>Amelia</td>\n",
       "      <td>2009</td>\n",
       "      <td>Aaron Abrams</td>\n",
       "      <td>actor</td>\n",
       "      <td>Slim Gordon</td>\n",
       "      <td>8.0</td>\n",
       "      <td>Singapore</td>\n",
       "      <td>2009-11-12</td>\n",
       "    </tr>\n",
       "    <tr>\n",
       "      <th>4</th>\n",
       "      <td>Amelia</td>\n",
       "      <td>2009</td>\n",
       "      <td>Aaron Abrams</td>\n",
       "      <td>actor</td>\n",
       "      <td>Slim Gordon</td>\n",
       "      <td>8.0</td>\n",
       "      <td>Ireland</td>\n",
       "      <td>2009-11-13</td>\n",
       "    </tr>\n",
       "  </tbody>\n",
       "</table>\n",
       "<p>5 rows × 8 columns</p>\n",
       "</div>"
      ],
      "text/plain": [
       "     title  year          name   type    character    n    country        date\n",
       "0   Amelia  2009  Aaron Abrams  actor  Slim Gordon  8.0     Canada  2009-10-23\n",
       "1   Amelia  2009  Aaron Abrams  actor  Slim Gordon  8.0        USA  2009-10-23\n",
       "..     ...   ...           ...    ...          ...  ...        ...         ...\n",
       "3   Amelia  2009  Aaron Abrams  actor  Slim Gordon  8.0  Singapore  2009-11-12\n",
       "4   Amelia  2009  Aaron Abrams  actor  Slim Gordon  8.0    Ireland  2009-11-13\n",
       "\n",
       "[5 rows x 8 columns]"
      ]
     },
     "execution_count": 90,
     "metadata": {},
     "output_type": "execute_result"
    }
   ],
   "source": [
    "c_amelia.merge(release).head()"
   ]
  },
  {
   "cell_type": "markdown",
   "metadata": {},
   "source": [
    "## 5.1 Merge consigo mismo"
   ]
  },
  {
   "cell_type": "code",
   "execution_count": 91,
   "metadata": {},
   "outputs": [
    {
     "data": {
      "text/html": [
       "<div>\n",
       "<style scoped>\n",
       "    .dataframe tbody tr th:only-of-type {\n",
       "        vertical-align: middle;\n",
       "    }\n",
       "\n",
       "    .dataframe tbody tr th {\n",
       "        vertical-align: top;\n",
       "    }\n",
       "\n",
       "    .dataframe thead th {\n",
       "        text-align: right;\n",
       "    }\n",
       "</style>\n",
       "<table border=\"1\" class=\"dataframe\">\n",
       "  <thead>\n",
       "    <tr style=\"text-align: right;\">\n",
       "      <th></th>\n",
       "      <th>title</th>\n",
       "      <th>year</th>\n",
       "      <th>name</th>\n",
       "      <th>type</th>\n",
       "      <th>character</th>\n",
       "      <th>n</th>\n",
       "    </tr>\n",
       "  </thead>\n",
       "  <tbody>\n",
       "    <tr>\n",
       "      <th>5765</th>\n",
       "      <td>#FromJennifer</td>\n",
       "      <td>2017</td>\n",
       "      <td>Aaron Abrams</td>\n",
       "      <td>actor</td>\n",
       "      <td>Ralph Sinclair</td>\n",
       "      <td>NaN</td>\n",
       "    </tr>\n",
       "    <tr>\n",
       "      <th>5766</th>\n",
       "      <td>388 Arletta Avenue</td>\n",
       "      <td>2011</td>\n",
       "      <td>Aaron Abrams</td>\n",
       "      <td>actor</td>\n",
       "      <td>Alex</td>\n",
       "      <td>4.0</td>\n",
       "    </tr>\n",
       "  </tbody>\n",
       "</table>\n",
       "</div>"
      ],
      "text/plain": [
       "                   title  year          name   type       character    n\n",
       "5765       #FromJennifer  2017  Aaron Abrams  actor  Ralph Sinclair  NaN\n",
       "5766  388 Arletta Avenue  2011  Aaron Abrams  actor            Alex  4.0"
      ]
     },
     "execution_count": 91,
     "metadata": {},
     "output_type": "execute_result"
    }
   ],
   "source": [
    "c = casts[ casts['name']=='Aaron Abrams' ]\n",
    "c.head(2)"
   ]
  },
  {
   "cell_type": "code",
   "execution_count": 92,
   "metadata": {},
   "outputs": [
    {
     "data": {
      "text/html": [
       "<div>\n",
       "<style scoped>\n",
       "    .dataframe tbody tr th:only-of-type {\n",
       "        vertical-align: middle;\n",
       "    }\n",
       "\n",
       "    .dataframe tbody tr th {\n",
       "        vertical-align: top;\n",
       "    }\n",
       "\n",
       "    .dataframe thead th {\n",
       "        text-align: right;\n",
       "    }\n",
       "</style>\n",
       "<table border=\"1\" class=\"dataframe\">\n",
       "  <thead>\n",
       "    <tr style=\"text-align: right;\">\n",
       "      <th></th>\n",
       "      <th>title</th>\n",
       "      <th>year</th>\n",
       "      <th>name_x</th>\n",
       "      <th>type_x</th>\n",
       "      <th>character_x</th>\n",
       "      <th>n_x</th>\n",
       "      <th>name_y</th>\n",
       "      <th>type_y</th>\n",
       "      <th>character_y</th>\n",
       "      <th>n_y</th>\n",
       "    </tr>\n",
       "  </thead>\n",
       "  <tbody>\n",
       "    <tr>\n",
       "      <th>0</th>\n",
       "      <td>#FromJennifer</td>\n",
       "      <td>2017</td>\n",
       "      <td>Aaron Abrams</td>\n",
       "      <td>actor</td>\n",
       "      <td>Ralph Sinclair</td>\n",
       "      <td>NaN</td>\n",
       "      <td>Aaron Abrams</td>\n",
       "      <td>actor</td>\n",
       "      <td>Ralph Sinclair</td>\n",
       "      <td>NaN</td>\n",
       "    </tr>\n",
       "    <tr>\n",
       "      <th>1</th>\n",
       "      <td>#FromJennifer</td>\n",
       "      <td>2017</td>\n",
       "      <td>Aaron Abrams</td>\n",
       "      <td>actor</td>\n",
       "      <td>Ralph Sinclair</td>\n",
       "      <td>NaN</td>\n",
       "      <td>Christian Ackerman</td>\n",
       "      <td>actor</td>\n",
       "      <td>Simon</td>\n",
       "      <td>NaN</td>\n",
       "    </tr>\n",
       "    <tr>\n",
       "      <th>...</th>\n",
       "      <td>...</td>\n",
       "      <td>...</td>\n",
       "      <td>...</td>\n",
       "      <td>...</td>\n",
       "      <td>...</td>\n",
       "      <td>...</td>\n",
       "      <td>...</td>\n",
       "      <td>...</td>\n",
       "      <td>...</td>\n",
       "      <td>...</td>\n",
       "    </tr>\n",
       "    <tr>\n",
       "      <th>3</th>\n",
       "      <td>388 Arletta Avenue</td>\n",
       "      <td>2011</td>\n",
       "      <td>Aaron Abrams</td>\n",
       "      <td>actor</td>\n",
       "      <td>Alex</td>\n",
       "      <td>4.0</td>\n",
       "      <td>Aaron Abrams</td>\n",
       "      <td>actor</td>\n",
       "      <td>Alex</td>\n",
       "      <td>4.0</td>\n",
       "    </tr>\n",
       "    <tr>\n",
       "      <th>4</th>\n",
       "      <td>Amelia</td>\n",
       "      <td>2009</td>\n",
       "      <td>Aaron Abrams</td>\n",
       "      <td>actor</td>\n",
       "      <td>Slim Gordon</td>\n",
       "      <td>8.0</td>\n",
       "      <td>Aaron Abrams</td>\n",
       "      <td>actor</td>\n",
       "      <td>Slim Gordon</td>\n",
       "      <td>8.0</td>\n",
       "    </tr>\n",
       "  </tbody>\n",
       "</table>\n",
       "<p>5 rows × 10 columns</p>\n",
       "</div>"
      ],
      "text/plain": [
       "                 title  year        name_x type_x     character_x  n_x  \\\n",
       "0        #FromJennifer  2017  Aaron Abrams  actor  Ralph Sinclair  NaN   \n",
       "1        #FromJennifer  2017  Aaron Abrams  actor  Ralph Sinclair  NaN   \n",
       "..                 ...   ...           ...    ...             ...  ...   \n",
       "3   388 Arletta Avenue  2011  Aaron Abrams  actor            Alex  4.0   \n",
       "4               Amelia  2009  Aaron Abrams  actor     Slim Gordon  8.0   \n",
       "\n",
       "                name_y type_y     character_y  n_y  \n",
       "0         Aaron Abrams  actor  Ralph Sinclair  NaN  \n",
       "1   Christian Ackerman  actor           Simon  NaN  \n",
       "..                 ...    ...             ...  ...  \n",
       "3         Aaron Abrams  actor            Alex  4.0  \n",
       "4         Aaron Abrams  actor     Slim Gordon  8.0  \n",
       "\n",
       "[5 rows x 10 columns]"
      ]
     },
     "execution_count": 92,
     "metadata": {},
     "output_type": "execute_result"
    }
   ],
   "source": [
    "c.merge(casts, on=['title', 'year']).head()"
   ]
  },
  {
   "cell_type": "markdown",
   "metadata": {},
   "source": [
    "## 5.2 Avanzado"
   ]
  },
  {
   "cell_type": "code",
   "execution_count": 93,
   "metadata": {},
   "outputs": [
    {
     "data": {
      "text/html": [
       "<div>\n",
       "<style scoped>\n",
       "    .dataframe tbody tr th:only-of-type {\n",
       "        vertical-align: middle;\n",
       "    }\n",
       "\n",
       "    .dataframe tbody tr th {\n",
       "        vertical-align: top;\n",
       "    }\n",
       "\n",
       "    .dataframe thead th {\n",
       "        text-align: right;\n",
       "    }\n",
       "</style>\n",
       "<table border=\"1\" class=\"dataframe\">\n",
       "  <thead>\n",
       "    <tr style=\"text-align: right;\">\n",
       "      <th></th>\n",
       "      <th>key</th>\n",
       "      <th>data1</th>\n",
       "    </tr>\n",
       "  </thead>\n",
       "  <tbody>\n",
       "    <tr>\n",
       "      <th>0</th>\n",
       "      <td>b</td>\n",
       "      <td>0</td>\n",
       "    </tr>\n",
       "    <tr>\n",
       "      <th>1</th>\n",
       "      <td>b</td>\n",
       "      <td>1</td>\n",
       "    </tr>\n",
       "    <tr>\n",
       "      <th>...</th>\n",
       "      <td>...</td>\n",
       "      <td>...</td>\n",
       "    </tr>\n",
       "    <tr>\n",
       "      <th>5</th>\n",
       "      <td>a</td>\n",
       "      <td>5</td>\n",
       "    </tr>\n",
       "    <tr>\n",
       "      <th>6</th>\n",
       "      <td>b</td>\n",
       "      <td>6</td>\n",
       "    </tr>\n",
       "  </tbody>\n",
       "</table>\n",
       "<p>7 rows × 2 columns</p>\n",
       "</div>"
      ],
      "text/plain": [
       "   key  data1\n",
       "0    b      0\n",
       "1    b      1\n",
       "..  ..    ...\n",
       "5    a      5\n",
       "6    b      6\n",
       "\n",
       "[7 rows x 2 columns]"
      ]
     },
     "execution_count": 93,
     "metadata": {},
     "output_type": "execute_result"
    }
   ],
   "source": [
    "df1 = pd.DataFrame({ 'key' : ['b', 'b', 'a', 'c', 'a', 'a', 'b'],\n",
    "... 'data1' : range(7)})\n",
    "df1"
   ]
  },
  {
   "cell_type": "code",
   "execution_count": 94,
   "metadata": {},
   "outputs": [
    {
     "data": {
      "text/html": [
       "<div>\n",
       "<style scoped>\n",
       "    .dataframe tbody tr th:only-of-type {\n",
       "        vertical-align: middle;\n",
       "    }\n",
       "\n",
       "    .dataframe tbody tr th {\n",
       "        vertical-align: top;\n",
       "    }\n",
       "\n",
       "    .dataframe thead th {\n",
       "        text-align: right;\n",
       "    }\n",
       "</style>\n",
       "<table border=\"1\" class=\"dataframe\">\n",
       "  <thead>\n",
       "    <tr style=\"text-align: right;\">\n",
       "      <th></th>\n",
       "      <th>key</th>\n",
       "      <th>data2</th>\n",
       "    </tr>\n",
       "  </thead>\n",
       "  <tbody>\n",
       "    <tr>\n",
       "      <th>0</th>\n",
       "      <td>a</td>\n",
       "      <td>0</td>\n",
       "    </tr>\n",
       "    <tr>\n",
       "      <th>1</th>\n",
       "      <td>b</td>\n",
       "      <td>1</td>\n",
       "    </tr>\n",
       "    <tr>\n",
       "      <th>2</th>\n",
       "      <td>d</td>\n",
       "      <td>2</td>\n",
       "    </tr>\n",
       "  </tbody>\n",
       "</table>\n",
       "</div>"
      ],
      "text/plain": [
       "  key  data2\n",
       "0   a      0\n",
       "1   b      1\n",
       "2   d      2"
      ]
     },
     "execution_count": 94,
     "metadata": {},
     "output_type": "execute_result"
    }
   ],
   "source": [
    "df2 = pd.DataFrame({ 'key' : ['a', 'b', 'd'],\n",
    "... 'data2' : range(3)})\n",
    "df2"
   ]
  },
  {
   "cell_type": "code",
   "execution_count": 95,
   "metadata": {},
   "outputs": [
    {
     "data": {
      "text/html": [
       "<div>\n",
       "<style scoped>\n",
       "    .dataframe tbody tr th:only-of-type {\n",
       "        vertical-align: middle;\n",
       "    }\n",
       "\n",
       "    .dataframe tbody tr th {\n",
       "        vertical-align: top;\n",
       "    }\n",
       "\n",
       "    .dataframe thead th {\n",
       "        text-align: right;\n",
       "    }\n",
       "</style>\n",
       "<table border=\"1\" class=\"dataframe\">\n",
       "  <thead>\n",
       "    <tr style=\"text-align: right;\">\n",
       "      <th></th>\n",
       "      <th>key1</th>\n",
       "      <th>data1</th>\n",
       "    </tr>\n",
       "  </thead>\n",
       "  <tbody>\n",
       "    <tr>\n",
       "      <th>0</th>\n",
       "      <td>b</td>\n",
       "      <td>0</td>\n",
       "    </tr>\n",
       "    <tr>\n",
       "      <th>1</th>\n",
       "      <td>b</td>\n",
       "      <td>1</td>\n",
       "    </tr>\n",
       "    <tr>\n",
       "      <th>...</th>\n",
       "      <td>...</td>\n",
       "      <td>...</td>\n",
       "    </tr>\n",
       "    <tr>\n",
       "      <th>5</th>\n",
       "      <td>a</td>\n",
       "      <td>5</td>\n",
       "    </tr>\n",
       "    <tr>\n",
       "      <th>6</th>\n",
       "      <td>b</td>\n",
       "      <td>6</td>\n",
       "    </tr>\n",
       "  </tbody>\n",
       "</table>\n",
       "<p>7 rows × 2 columns</p>\n",
       "</div>"
      ],
      "text/plain": [
       "   key1  data1\n",
       "0     b      0\n",
       "1     b      1\n",
       "..  ...    ...\n",
       "5     a      5\n",
       "6     b      6\n",
       "\n",
       "[7 rows x 2 columns]"
      ]
     },
     "execution_count": 95,
     "metadata": {},
     "output_type": "execute_result"
    }
   ],
   "source": [
    "df3 = pd.DataFrame({ 'key1' : ['b', 'b', 'a', 'c', 'a', 'a', 'b'],\n",
    "... 'data1' : range(7)})\n",
    "df3"
   ]
  },
  {
   "cell_type": "code",
   "execution_count": 96,
   "metadata": {},
   "outputs": [
    {
     "data": {
      "text/html": [
       "<div>\n",
       "<style scoped>\n",
       "    .dataframe tbody tr th:only-of-type {\n",
       "        vertical-align: middle;\n",
       "    }\n",
       "\n",
       "    .dataframe tbody tr th {\n",
       "        vertical-align: top;\n",
       "    }\n",
       "\n",
       "    .dataframe thead th {\n",
       "        text-align: right;\n",
       "    }\n",
       "</style>\n",
       "<table border=\"1\" class=\"dataframe\">\n",
       "  <thead>\n",
       "    <tr style=\"text-align: right;\">\n",
       "      <th></th>\n",
       "      <th>key2</th>\n",
       "      <th>data1</th>\n",
       "    </tr>\n",
       "  </thead>\n",
       "  <tbody>\n",
       "    <tr>\n",
       "      <th>0</th>\n",
       "      <td>a</td>\n",
       "      <td>0</td>\n",
       "    </tr>\n",
       "    <tr>\n",
       "      <th>1</th>\n",
       "      <td>b</td>\n",
       "      <td>1</td>\n",
       "    </tr>\n",
       "    <tr>\n",
       "      <th>2</th>\n",
       "      <td>d</td>\n",
       "      <td>2</td>\n",
       "    </tr>\n",
       "    <tr>\n",
       "      <th>3</th>\n",
       "      <td>b</td>\n",
       "      <td>3</td>\n",
       "    </tr>\n",
       "  </tbody>\n",
       "</table>\n",
       "</div>"
      ],
      "text/plain": [
       "  key2  data1\n",
       "0    a      0\n",
       "1    b      1\n",
       "2    d      2\n",
       "3    b      3"
      ]
     },
     "execution_count": 96,
     "metadata": {},
     "output_type": "execute_result"
    }
   ],
   "source": [
    "df4 = pd.DataFrame({ 'key2' : ['a', 'b', 'd', 'b'],\n",
    "... 'data1' : range(4)})\n",
    "df4"
   ]
  },
  {
   "cell_type": "markdown",
   "metadata": {},
   "source": [
    "### 5.2.1 Many to One"
   ]
  },
  {
   "cell_type": "markdown",
   "metadata": {},
   "source": [
    "Utiliza los campos que son comunes en ambos DataFrames para hacer el join:"
   ]
  },
  {
   "cell_type": "code",
   "execution_count": 97,
   "metadata": {},
   "outputs": [
    {
     "data": {
      "text/html": [
       "<div>\n",
       "<style scoped>\n",
       "    .dataframe tbody tr th:only-of-type {\n",
       "        vertical-align: middle;\n",
       "    }\n",
       "\n",
       "    .dataframe tbody tr th {\n",
       "        vertical-align: top;\n",
       "    }\n",
       "\n",
       "    .dataframe thead th {\n",
       "        text-align: right;\n",
       "    }\n",
       "</style>\n",
       "<table border=\"1\" class=\"dataframe\">\n",
       "  <thead>\n",
       "    <tr style=\"text-align: right;\">\n",
       "      <th></th>\n",
       "      <th>key</th>\n",
       "      <th>data1</th>\n",
       "      <th>data2</th>\n",
       "    </tr>\n",
       "  </thead>\n",
       "  <tbody>\n",
       "    <tr>\n",
       "      <th>0</th>\n",
       "      <td>b</td>\n",
       "      <td>0</td>\n",
       "      <td>1</td>\n",
       "    </tr>\n",
       "    <tr>\n",
       "      <th>1</th>\n",
       "      <td>b</td>\n",
       "      <td>1</td>\n",
       "      <td>1</td>\n",
       "    </tr>\n",
       "    <tr>\n",
       "      <th>...</th>\n",
       "      <td>...</td>\n",
       "      <td>...</td>\n",
       "      <td>...</td>\n",
       "    </tr>\n",
       "    <tr>\n",
       "      <th>4</th>\n",
       "      <td>a</td>\n",
       "      <td>4</td>\n",
       "      <td>0</td>\n",
       "    </tr>\n",
       "    <tr>\n",
       "      <th>5</th>\n",
       "      <td>a</td>\n",
       "      <td>5</td>\n",
       "      <td>0</td>\n",
       "    </tr>\n",
       "  </tbody>\n",
       "</table>\n",
       "<p>6 rows × 3 columns</p>\n",
       "</div>"
      ],
      "text/plain": [
       "   key  data1  data2\n",
       "0    b      0      1\n",
       "1    b      1      1\n",
       "..  ..    ...    ...\n",
       "4    a      4      0\n",
       "5    a      5      0\n",
       "\n",
       "[6 rows x 3 columns]"
      ]
     },
     "execution_count": 97,
     "metadata": {},
     "output_type": "execute_result"
    }
   ],
   "source": [
    "pd.merge(df1, df2)"
   ]
  },
  {
   "cell_type": "markdown",
   "metadata": {},
   "source": [
    "Estos dos dataframes no tienen ningun campo comun. Tenemos que especificar al har el join que camnpos se deben utilizar"
   ]
  },
  {
   "cell_type": "code",
   "execution_count": 98,
   "metadata": {},
   "outputs": [
    {
     "data": {
      "text/html": [
       "<div>\n",
       "<style scoped>\n",
       "    .dataframe tbody tr th:only-of-type {\n",
       "        vertical-align: middle;\n",
       "    }\n",
       "\n",
       "    .dataframe tbody tr th {\n",
       "        vertical-align: top;\n",
       "    }\n",
       "\n",
       "    .dataframe thead th {\n",
       "        text-align: right;\n",
       "    }\n",
       "</style>\n",
       "<table border=\"1\" class=\"dataframe\">\n",
       "  <thead>\n",
       "    <tr style=\"text-align: right;\">\n",
       "      <th></th>\n",
       "      <th>key1</th>\n",
       "      <th>data1_x</th>\n",
       "      <th>key2</th>\n",
       "      <th>data1_y</th>\n",
       "    </tr>\n",
       "  </thead>\n",
       "  <tbody>\n",
       "    <tr>\n",
       "      <th>0</th>\n",
       "      <td>b</td>\n",
       "      <td>0</td>\n",
       "      <td>b</td>\n",
       "      <td>1</td>\n",
       "    </tr>\n",
       "    <tr>\n",
       "      <th>1</th>\n",
       "      <td>b</td>\n",
       "      <td>0</td>\n",
       "      <td>b</td>\n",
       "      <td>3</td>\n",
       "    </tr>\n",
       "    <tr>\n",
       "      <th>...</th>\n",
       "      <td>...</td>\n",
       "      <td>...</td>\n",
       "      <td>...</td>\n",
       "      <td>...</td>\n",
       "    </tr>\n",
       "    <tr>\n",
       "      <th>7</th>\n",
       "      <td>a</td>\n",
       "      <td>4</td>\n",
       "      <td>a</td>\n",
       "      <td>0</td>\n",
       "    </tr>\n",
       "    <tr>\n",
       "      <th>8</th>\n",
       "      <td>a</td>\n",
       "      <td>5</td>\n",
       "      <td>a</td>\n",
       "      <td>0</td>\n",
       "    </tr>\n",
       "  </tbody>\n",
       "</table>\n",
       "<p>9 rows × 4 columns</p>\n",
       "</div>"
      ],
      "text/plain": [
       "   key1  data1_x key2  data1_y\n",
       "0     b        0    b        1\n",
       "1     b        0    b        3\n",
       "..  ...      ...  ...      ...\n",
       "7     a        4    a        0\n",
       "8     a        5    a        0\n",
       "\n",
       "[9 rows x 4 columns]"
      ]
     },
     "execution_count": 98,
     "metadata": {},
     "output_type": "execute_result"
    }
   ],
   "source": [
    "pd.merge(df3, df4, left_on='key1', right_on='key2')"
   ]
  },
  {
   "cell_type": "markdown",
   "metadata": {},
   "source": [
    "### 5.2.2 Inner and outer join"
   ]
  },
  {
   "cell_type": "markdown",
   "metadata": {},
   "source": [
    "Un __left join__:"
   ]
  },
  {
   "cell_type": "code",
   "execution_count": 99,
   "metadata": {},
   "outputs": [
    {
     "data": {
      "text/html": [
       "<div>\n",
       "<style scoped>\n",
       "    .dataframe tbody tr th:only-of-type {\n",
       "        vertical-align: middle;\n",
       "    }\n",
       "\n",
       "    .dataframe tbody tr th {\n",
       "        vertical-align: top;\n",
       "    }\n",
       "\n",
       "    .dataframe thead th {\n",
       "        text-align: right;\n",
       "    }\n",
       "</style>\n",
       "<table border=\"1\" class=\"dataframe\">\n",
       "  <thead>\n",
       "    <tr style=\"text-align: right;\">\n",
       "      <th></th>\n",
       "      <th>key1</th>\n",
       "      <th>data1_x</th>\n",
       "      <th>key2</th>\n",
       "      <th>data1_y</th>\n",
       "    </tr>\n",
       "  </thead>\n",
       "  <tbody>\n",
       "    <tr>\n",
       "      <th>0</th>\n",
       "      <td>b</td>\n",
       "      <td>0</td>\n",
       "      <td>b</td>\n",
       "      <td>1.0</td>\n",
       "    </tr>\n",
       "    <tr>\n",
       "      <th>1</th>\n",
       "      <td>b</td>\n",
       "      <td>0</td>\n",
       "      <td>b</td>\n",
       "      <td>3.0</td>\n",
       "    </tr>\n",
       "    <tr>\n",
       "      <th>...</th>\n",
       "      <td>...</td>\n",
       "      <td>...</td>\n",
       "      <td>...</td>\n",
       "      <td>...</td>\n",
       "    </tr>\n",
       "    <tr>\n",
       "      <th>8</th>\n",
       "      <td>b</td>\n",
       "      <td>6</td>\n",
       "      <td>b</td>\n",
       "      <td>1.0</td>\n",
       "    </tr>\n",
       "    <tr>\n",
       "      <th>9</th>\n",
       "      <td>b</td>\n",
       "      <td>6</td>\n",
       "      <td>b</td>\n",
       "      <td>3.0</td>\n",
       "    </tr>\n",
       "  </tbody>\n",
       "</table>\n",
       "<p>10 rows × 4 columns</p>\n",
       "</div>"
      ],
      "text/plain": [
       "   key1  data1_x key2  data1_y\n",
       "0     b        0    b      1.0\n",
       "1     b        0    b      3.0\n",
       "..  ...      ...  ...      ...\n",
       "8     b        6    b      1.0\n",
       "9     b        6    b      3.0\n",
       "\n",
       "[10 rows x 4 columns]"
      ]
     },
     "execution_count": 99,
     "metadata": {},
     "output_type": "execute_result"
    }
   ],
   "source": [
    "pd.merge(df3, df4, left_on='key1', right_on='key2', how=\"left\")"
   ]
  },
  {
   "cell_type": "markdown",
   "metadata": {},
   "source": [
    "Un __right__ join: "
   ]
  },
  {
   "cell_type": "code",
   "execution_count": 100,
   "metadata": {},
   "outputs": [
    {
     "data": {
      "text/html": [
       "<div>\n",
       "<style scoped>\n",
       "    .dataframe tbody tr th:only-of-type {\n",
       "        vertical-align: middle;\n",
       "    }\n",
       "\n",
       "    .dataframe tbody tr th {\n",
       "        vertical-align: top;\n",
       "    }\n",
       "\n",
       "    .dataframe thead th {\n",
       "        text-align: right;\n",
       "    }\n",
       "</style>\n",
       "<table border=\"1\" class=\"dataframe\">\n",
       "  <thead>\n",
       "    <tr style=\"text-align: right;\">\n",
       "      <th></th>\n",
       "      <th>key1</th>\n",
       "      <th>data1_x</th>\n",
       "      <th>key2</th>\n",
       "      <th>data1_y</th>\n",
       "    </tr>\n",
       "  </thead>\n",
       "  <tbody>\n",
       "    <tr>\n",
       "      <th>0</th>\n",
       "      <td>b</td>\n",
       "      <td>0.0</td>\n",
       "      <td>b</td>\n",
       "      <td>1</td>\n",
       "    </tr>\n",
       "    <tr>\n",
       "      <th>1</th>\n",
       "      <td>b</td>\n",
       "      <td>1.0</td>\n",
       "      <td>b</td>\n",
       "      <td>1</td>\n",
       "    </tr>\n",
       "    <tr>\n",
       "      <th>...</th>\n",
       "      <td>...</td>\n",
       "      <td>...</td>\n",
       "      <td>...</td>\n",
       "      <td>...</td>\n",
       "    </tr>\n",
       "    <tr>\n",
       "      <th>8</th>\n",
       "      <td>a</td>\n",
       "      <td>5.0</td>\n",
       "      <td>a</td>\n",
       "      <td>0</td>\n",
       "    </tr>\n",
       "    <tr>\n",
       "      <th>9</th>\n",
       "      <td>NaN</td>\n",
       "      <td>NaN</td>\n",
       "      <td>d</td>\n",
       "      <td>2</td>\n",
       "    </tr>\n",
       "  </tbody>\n",
       "</table>\n",
       "<p>10 rows × 4 columns</p>\n",
       "</div>"
      ],
      "text/plain": [
       "   key1  data1_x key2  data1_y\n",
       "0     b      0.0    b        1\n",
       "1     b      1.0    b        1\n",
       "..  ...      ...  ...      ...\n",
       "8     a      5.0    a        0\n",
       "9   NaN      NaN    d        2\n",
       "\n",
       "[10 rows x 4 columns]"
      ]
     },
     "execution_count": 100,
     "metadata": {},
     "output_type": "execute_result"
    }
   ],
   "source": [
    "pd.merge(df3, df4, left_on='key1', right_on='key2', how=\"right\")"
   ]
  },
  {
   "cell_type": "markdown",
   "metadata": {},
   "source": [
    "Un __outer__ join: "
   ]
  },
  {
   "cell_type": "code",
   "execution_count": 101,
   "metadata": {},
   "outputs": [
    {
     "data": {
      "text/html": [
       "<div>\n",
       "<style scoped>\n",
       "    .dataframe tbody tr th:only-of-type {\n",
       "        vertical-align: middle;\n",
       "    }\n",
       "\n",
       "    .dataframe tbody tr th {\n",
       "        vertical-align: top;\n",
       "    }\n",
       "\n",
       "    .dataframe thead th {\n",
       "        text-align: right;\n",
       "    }\n",
       "</style>\n",
       "<table border=\"1\" class=\"dataframe\">\n",
       "  <thead>\n",
       "    <tr style=\"text-align: right;\">\n",
       "      <th></th>\n",
       "      <th>key1</th>\n",
       "      <th>data1_x</th>\n",
       "      <th>key2</th>\n",
       "      <th>data1_y</th>\n",
       "    </tr>\n",
       "  </thead>\n",
       "  <tbody>\n",
       "    <tr>\n",
       "      <th>0</th>\n",
       "      <td>b</td>\n",
       "      <td>0.0</td>\n",
       "      <td>b</td>\n",
       "      <td>1.0</td>\n",
       "    </tr>\n",
       "    <tr>\n",
       "      <th>1</th>\n",
       "      <td>b</td>\n",
       "      <td>0.0</td>\n",
       "      <td>b</td>\n",
       "      <td>3.0</td>\n",
       "    </tr>\n",
       "    <tr>\n",
       "      <th>...</th>\n",
       "      <td>...</td>\n",
       "      <td>...</td>\n",
       "      <td>...</td>\n",
       "      <td>...</td>\n",
       "    </tr>\n",
       "    <tr>\n",
       "      <th>9</th>\n",
       "      <td>c</td>\n",
       "      <td>3.0</td>\n",
       "      <td>NaN</td>\n",
       "      <td>NaN</td>\n",
       "    </tr>\n",
       "    <tr>\n",
       "      <th>10</th>\n",
       "      <td>NaN</td>\n",
       "      <td>NaN</td>\n",
       "      <td>d</td>\n",
       "      <td>2.0</td>\n",
       "    </tr>\n",
       "  </tbody>\n",
       "</table>\n",
       "<p>11 rows × 4 columns</p>\n",
       "</div>"
      ],
      "text/plain": [
       "   key1  data1_x key2  data1_y\n",
       "0     b      0.0    b      1.0\n",
       "1     b      0.0    b      3.0\n",
       "..  ...      ...  ...      ...\n",
       "9     c      3.0  NaN      NaN\n",
       "10  NaN      NaN    d      2.0\n",
       "\n",
       "[11 rows x 4 columns]"
      ]
     },
     "execution_count": 101,
     "metadata": {},
     "output_type": "execute_result"
    }
   ],
   "source": [
    "pd.merge(df3, df4, left_on='key1', right_on='key2', how=\"outer\")"
   ]
  },
  {
   "cell_type": "markdown",
   "metadata": {},
   "source": [
    "# 6. Indices"
   ]
  },
  {
   "cell_type": "markdown",
   "metadata": {},
   "source": [
    "Medimos el tiempo que se necesita para hacer ciertas operaciones con y sin indice\n",
    "\n",
    "Usamos la magic function __%%time__"
   ]
  },
  {
   "cell_type": "code",
   "execution_count": 102,
   "metadata": {},
   "outputs": [],
   "source": [
    "interpretes=pd.read_csv('./data/cast.csv', index_col=None)"
   ]
  },
  {
   "cell_type": "code",
   "execution_count": 103,
   "metadata": {},
   "outputs": [
    {
     "name": "stdout",
     "output_type": "stream",
     "text": [
      "Wall time: 11 ms\n"
     ]
    },
    {
     "data": {
      "text/html": [
       "<div>\n",
       "<style scoped>\n",
       "    .dataframe tbody tr th:only-of-type {\n",
       "        vertical-align: middle;\n",
       "    }\n",
       "\n",
       "    .dataframe tbody tr th {\n",
       "        vertical-align: top;\n",
       "    }\n",
       "\n",
       "    .dataframe thead th {\n",
       "        text-align: right;\n",
       "    }\n",
       "</style>\n",
       "<table border=\"1\" class=\"dataframe\">\n",
       "  <thead>\n",
       "    <tr style=\"text-align: right;\">\n",
       "      <th></th>\n",
       "      <th>title</th>\n",
       "      <th>year</th>\n",
       "      <th>name</th>\n",
       "      <th>type</th>\n",
       "      <th>character</th>\n",
       "      <th>n</th>\n",
       "    </tr>\n",
       "  </thead>\n",
       "  <tbody>\n",
       "    <tr>\n",
       "      <th>12868</th>\n",
       "      <td>Macbeth</td>\n",
       "      <td>2015</td>\n",
       "      <td>Darren Adamson</td>\n",
       "      <td>actor</td>\n",
       "      <td>Soldier</td>\n",
       "      <td>NaN</td>\n",
       "    </tr>\n",
       "    <tr>\n",
       "      <th>22302</th>\n",
       "      <td>Macbeth</td>\n",
       "      <td>1916</td>\n",
       "      <td>Spottiswoode Aitken</td>\n",
       "      <td>actor</td>\n",
       "      <td>Duncan</td>\n",
       "      <td>4.0</td>\n",
       "    </tr>\n",
       "    <tr>\n",
       "      <th>...</th>\n",
       "      <td>...</td>\n",
       "      <td>...</td>\n",
       "      <td>...</td>\n",
       "      <td>...</td>\n",
       "      <td>...</td>\n",
       "      <td>...</td>\n",
       "    </tr>\n",
       "    <tr>\n",
       "      <th>60543</th>\n",
       "      <td>Macbeth</td>\n",
       "      <td>2014</td>\n",
       "      <td>Moyo Akand?</td>\n",
       "      <td>actress</td>\n",
       "      <td>Witch</td>\n",
       "      <td>NaN</td>\n",
       "    </tr>\n",
       "    <tr>\n",
       "      <th>63776</th>\n",
       "      <td>Macbeth</td>\n",
       "      <td>1916</td>\n",
       "      <td>Mary Alden</td>\n",
       "      <td>actress</td>\n",
       "      <td>Lady Macduff</td>\n",
       "      <td>6.0</td>\n",
       "    </tr>\n",
       "  </tbody>\n",
       "</table>\n",
       "<p>8 rows × 6 columns</p>\n",
       "</div>"
      ],
      "text/plain": [
       "         title  year                 name     type     character    n\n",
       "12868  Macbeth  2015       Darren Adamson    actor       Soldier  NaN\n",
       "22302  Macbeth  1916  Spottiswoode Aitken    actor        Duncan  4.0\n",
       "...        ...   ...                  ...      ...           ...  ...\n",
       "60543  Macbeth  2014          Moyo Akand?  actress         Witch  NaN\n",
       "63776  Macbeth  1916           Mary Alden  actress  Lady Macduff  6.0\n",
       "\n",
       "[8 rows x 6 columns]"
      ]
     },
     "execution_count": 103,
     "metadata": {},
     "output_type": "execute_result"
    }
   ],
   "source": [
    "%%time\n",
    "\n",
    "interpretes[interpretes['title']=='Macbeth']"
   ]
  },
  {
   "cell_type": "markdown",
   "metadata": {},
   "source": [
    "Usamos la magic function __%%timeit__. Es mas precisa que %%time"
   ]
  },
  {
   "cell_type": "code",
   "execution_count": 104,
   "metadata": {},
   "outputs": [
    {
     "name": "stdout",
     "output_type": "stream",
     "text": [
      "8.53 ms ± 383 µs per loop (mean ± std. dev. of 7 runs, 100 loops each)\n"
     ]
    }
   ],
   "source": [
    "%%timeit\n",
    "\n",
    "interpretes[interpretes['title']=='Macbeth']"
   ]
  },
  {
   "cell_type": "markdown",
   "metadata": {},
   "source": [
    "Fijamos una de las columnas como indice. Al hacerlo podremos buscar usando el indice. Notese que la Serie usada ya no figura en la relacion de columnas"
   ]
  },
  {
   "cell_type": "code",
   "execution_count": 105,
   "metadata": {},
   "outputs": [
    {
     "data": {
      "text/html": [
       "<div>\n",
       "<style scoped>\n",
       "    .dataframe tbody tr th:only-of-type {\n",
       "        vertical-align: middle;\n",
       "    }\n",
       "\n",
       "    .dataframe tbody tr th {\n",
       "        vertical-align: top;\n",
       "    }\n",
       "\n",
       "    .dataframe thead th {\n",
       "        text-align: right;\n",
       "    }\n",
       "</style>\n",
       "<table border=\"1\" class=\"dataframe\">\n",
       "  <thead>\n",
       "    <tr style=\"text-align: right;\">\n",
       "      <th></th>\n",
       "      <th>year</th>\n",
       "      <th>name</th>\n",
       "      <th>type</th>\n",
       "      <th>character</th>\n",
       "      <th>n</th>\n",
       "    </tr>\n",
       "    <tr>\n",
       "      <th>title</th>\n",
       "      <th></th>\n",
       "      <th></th>\n",
       "      <th></th>\n",
       "      <th></th>\n",
       "      <th></th>\n",
       "    </tr>\n",
       "  </thead>\n",
       "  <tbody>\n",
       "    <tr>\n",
       "      <th>Closet Monster</th>\n",
       "      <td>2015</td>\n",
       "      <td>Buffy #1</td>\n",
       "      <td>actor</td>\n",
       "      <td>Buffy 4</td>\n",
       "      <td>31.0</td>\n",
       "    </tr>\n",
       "    <tr>\n",
       "      <th>Suuri illusioni</th>\n",
       "      <td>1985</td>\n",
       "      <td>Homo $</td>\n",
       "      <td>actor</td>\n",
       "      <td>Guests</td>\n",
       "      <td>22.0</td>\n",
       "    </tr>\n",
       "    <tr>\n",
       "      <th>...</th>\n",
       "      <td>...</td>\n",
       "      <td>...</td>\n",
       "      <td>...</td>\n",
       "      <td>...</td>\n",
       "      <td>...</td>\n",
       "    </tr>\n",
       "    <tr>\n",
       "      <th>Secret in Their Eyes</th>\n",
       "      <td>2015</td>\n",
       "      <td>$hutter</td>\n",
       "      <td>actor</td>\n",
       "      <td>2002 Dodger Fan</td>\n",
       "      <td>NaN</td>\n",
       "    </tr>\n",
       "    <tr>\n",
       "      <th>Steve Jobs</th>\n",
       "      <td>2015</td>\n",
       "      <td>$hutter</td>\n",
       "      <td>actor</td>\n",
       "      <td>1988 Opera House Patron</td>\n",
       "      <td>NaN</td>\n",
       "    </tr>\n",
       "  </tbody>\n",
       "</table>\n",
       "<p>5 rows × 5 columns</p>\n",
       "</div>"
      ],
      "text/plain": [
       "                      year      name   type                character     n\n",
       "title                                                                     \n",
       "Closet Monster        2015  Buffy #1  actor                  Buffy 4  31.0\n",
       "Suuri illusioni       1985    Homo $  actor                   Guests  22.0\n",
       "...                    ...       ...    ...                      ...   ...\n",
       "Secret in Their Eyes  2015   $hutter  actor          2002 Dodger Fan   NaN\n",
       "Steve Jobs            2015   $hutter  actor  1988 Opera House Patron   NaN\n",
       "\n",
       "[5 rows x 5 columns]"
      ]
     },
     "execution_count": 105,
     "metadata": {},
     "output_type": "execute_result"
    }
   ],
   "source": [
    "c = interpretes.set_index('title')\n",
    "c.head()"
   ]
  },
  {
   "cell_type": "code",
   "execution_count": 106,
   "metadata": {},
   "outputs": [
    {
     "data": {
      "text/plain": [
       "Index(['year', 'name', 'type', 'character', 'n'], dtype='object')"
      ]
     },
     "execution_count": 106,
     "metadata": {},
     "output_type": "execute_result"
    }
   ],
   "source": [
    "c.columns"
   ]
  },
  {
   "cell_type": "code",
   "execution_count": 107,
   "metadata": {},
   "outputs": [
    {
     "name": "stdout",
     "output_type": "stream",
     "text": [
      "Wall time: 14 ms\n"
     ]
    },
    {
     "data": {
      "text/html": [
       "<div>\n",
       "<style scoped>\n",
       "    .dataframe tbody tr th:only-of-type {\n",
       "        vertical-align: middle;\n",
       "    }\n",
       "\n",
       "    .dataframe tbody tr th {\n",
       "        vertical-align: top;\n",
       "    }\n",
       "\n",
       "    .dataframe thead th {\n",
       "        text-align: right;\n",
       "    }\n",
       "</style>\n",
       "<table border=\"1\" class=\"dataframe\">\n",
       "  <thead>\n",
       "    <tr style=\"text-align: right;\">\n",
       "      <th></th>\n",
       "      <th>year</th>\n",
       "      <th>name</th>\n",
       "      <th>type</th>\n",
       "      <th>character</th>\n",
       "      <th>n</th>\n",
       "    </tr>\n",
       "    <tr>\n",
       "      <th>title</th>\n",
       "      <th></th>\n",
       "      <th></th>\n",
       "      <th></th>\n",
       "      <th></th>\n",
       "      <th></th>\n",
       "    </tr>\n",
       "  </thead>\n",
       "  <tbody>\n",
       "    <tr>\n",
       "      <th>Macbeth</th>\n",
       "      <td>2015</td>\n",
       "      <td>Darren Adamson</td>\n",
       "      <td>actor</td>\n",
       "      <td>Soldier</td>\n",
       "      <td>NaN</td>\n",
       "    </tr>\n",
       "    <tr>\n",
       "      <th>Macbeth</th>\n",
       "      <td>1916</td>\n",
       "      <td>Spottiswoode Aitken</td>\n",
       "      <td>actor</td>\n",
       "      <td>Duncan</td>\n",
       "      <td>4.0</td>\n",
       "    </tr>\n",
       "    <tr>\n",
       "      <th>...</th>\n",
       "      <td>...</td>\n",
       "      <td>...</td>\n",
       "      <td>...</td>\n",
       "      <td>...</td>\n",
       "      <td>...</td>\n",
       "    </tr>\n",
       "    <tr>\n",
       "      <th>Macbeth</th>\n",
       "      <td>2014</td>\n",
       "      <td>Moyo Akand?</td>\n",
       "      <td>actress</td>\n",
       "      <td>Witch</td>\n",
       "      <td>NaN</td>\n",
       "    </tr>\n",
       "    <tr>\n",
       "      <th>Macbeth</th>\n",
       "      <td>1916</td>\n",
       "      <td>Mary Alden</td>\n",
       "      <td>actress</td>\n",
       "      <td>Lady Macduff</td>\n",
       "      <td>6.0</td>\n",
       "    </tr>\n",
       "  </tbody>\n",
       "</table>\n",
       "<p>8 rows × 5 columns</p>\n",
       "</div>"
      ],
      "text/plain": [
       "         year                 name     type     character    n\n",
       "title                                                         \n",
       "Macbeth  2015       Darren Adamson    actor       Soldier  NaN\n",
       "Macbeth  1916  Spottiswoode Aitken    actor        Duncan  4.0\n",
       "...       ...                  ...      ...           ...  ...\n",
       "Macbeth  2014          Moyo Akand?  actress         Witch  NaN\n",
       "Macbeth  1916           Mary Alden  actress  Lady Macduff  6.0\n",
       "\n",
       "[8 rows x 5 columns]"
      ]
     },
     "execution_count": 107,
     "metadata": {},
     "output_type": "execute_result"
    }
   ],
   "source": [
    "%%time\n",
    "\n",
    "c.loc['Macbeth']"
   ]
  },
  {
   "cell_type": "code",
   "execution_count": 108,
   "metadata": {},
   "outputs": [
    {
     "name": "stdout",
     "output_type": "stream",
     "text": [
      "3.4 ms ± 384 µs per loop (mean ± std. dev. of 7 runs, 100 loops each)\n"
     ]
    }
   ],
   "source": [
    "%%timeit\n",
    "\n",
    "c.loc['Macbeth']"
   ]
  },
  {
   "cell_type": "markdown",
   "metadata": {},
   "source": [
    "Conclusion: __es mucho mas rápido__  \n",
    "  \n",
    "Vamos a ordenar el indice. Veamos cual es el resultado de la busqueda una vez hemos ordenado el indice"
   ]
  },
  {
   "cell_type": "code",
   "execution_count": 109,
   "metadata": {},
   "outputs": [],
   "source": [
    "c = interpretes.set_index('title').sort_index()"
   ]
  },
  {
   "cell_type": "code",
   "execution_count": 110,
   "metadata": {},
   "outputs": [
    {
     "name": "stdout",
     "output_type": "stream",
     "text": [
      "Wall time: 19 ms\n"
     ]
    },
    {
     "data": {
      "text/html": [
       "<div>\n",
       "<style scoped>\n",
       "    .dataframe tbody tr th:only-of-type {\n",
       "        vertical-align: middle;\n",
       "    }\n",
       "\n",
       "    .dataframe tbody tr th {\n",
       "        vertical-align: top;\n",
       "    }\n",
       "\n",
       "    .dataframe thead th {\n",
       "        text-align: right;\n",
       "    }\n",
       "</style>\n",
       "<table border=\"1\" class=\"dataframe\">\n",
       "  <thead>\n",
       "    <tr style=\"text-align: right;\">\n",
       "      <th></th>\n",
       "      <th>year</th>\n",
       "      <th>name</th>\n",
       "      <th>type</th>\n",
       "      <th>character</th>\n",
       "      <th>n</th>\n",
       "    </tr>\n",
       "    <tr>\n",
       "      <th>title</th>\n",
       "      <th></th>\n",
       "      <th></th>\n",
       "      <th></th>\n",
       "      <th></th>\n",
       "      <th></th>\n",
       "    </tr>\n",
       "  </thead>\n",
       "  <tbody>\n",
       "    <tr>\n",
       "      <th>Macbeth</th>\n",
       "      <td>1948</td>\n",
       "      <td>William Alland</td>\n",
       "      <td>actor</td>\n",
       "      <td>Second Murderer</td>\n",
       "      <td>18.0</td>\n",
       "    </tr>\n",
       "    <tr>\n",
       "      <th>Macbeth</th>\n",
       "      <td>1916</td>\n",
       "      <td>Spottiswoode Aitken</td>\n",
       "      <td>actor</td>\n",
       "      <td>Duncan</td>\n",
       "      <td>4.0</td>\n",
       "    </tr>\n",
       "    <tr>\n",
       "      <th>...</th>\n",
       "      <td>...</td>\n",
       "      <td>...</td>\n",
       "      <td>...</td>\n",
       "      <td>...</td>\n",
       "      <td>...</td>\n",
       "    </tr>\n",
       "    <tr>\n",
       "      <th>Macbeth</th>\n",
       "      <td>2014</td>\n",
       "      <td>Moyo Akand?</td>\n",
       "      <td>actress</td>\n",
       "      <td>Witch</td>\n",
       "      <td>NaN</td>\n",
       "    </tr>\n",
       "    <tr>\n",
       "      <th>Macbeth</th>\n",
       "      <td>2015</td>\n",
       "      <td>Darren Adamson</td>\n",
       "      <td>actor</td>\n",
       "      <td>Soldier</td>\n",
       "      <td>NaN</td>\n",
       "    </tr>\n",
       "  </tbody>\n",
       "</table>\n",
       "<p>8 rows × 5 columns</p>\n",
       "</div>"
      ],
      "text/plain": [
       "         year                 name     type        character     n\n",
       "title                                                             \n",
       "Macbeth  1948       William Alland    actor  Second Murderer  18.0\n",
       "Macbeth  1916  Spottiswoode Aitken    actor           Duncan   4.0\n",
       "...       ...                  ...      ...              ...   ...\n",
       "Macbeth  2014          Moyo Akand?  actress            Witch   NaN\n",
       "Macbeth  2015       Darren Adamson    actor          Soldier   NaN\n",
       "\n",
       "[8 rows x 5 columns]"
      ]
     },
     "execution_count": 110,
     "metadata": {},
     "output_type": "execute_result"
    }
   ],
   "source": [
    "%%time\n",
    "\n",
    "c.loc['Macbeth']"
   ]
  },
  {
   "cell_type": "code",
   "execution_count": 111,
   "metadata": {},
   "outputs": [
    {
     "name": "stdout",
     "output_type": "stream",
     "text": [
      "300 µs ± 19.9 µs per loop (mean ± std. dev. of 7 runs, 1000 loops each)\n"
     ]
    }
   ],
   "source": [
    "%%timeit\n",
    "\n",
    "c.loc['Macbeth']"
   ]
  },
  {
   "cell_type": "markdown",
   "metadata": {},
   "source": [
    "Conclusion: el indice __ordenado__ es __extremadamente mas rápido__"
   ]
  },
  {
   "cell_type": "markdown",
   "metadata": {},
   "source": [
    "## 6.1 Más de un indice"
   ]
  },
  {
   "cell_type": "code",
   "execution_count": 112,
   "metadata": {},
   "outputs": [
    {
     "data": {
      "text/html": [
       "<div>\n",
       "<style scoped>\n",
       "    .dataframe tbody tr th:only-of-type {\n",
       "        vertical-align: middle;\n",
       "    }\n",
       "\n",
       "    .dataframe tbody tr th {\n",
       "        vertical-align: top;\n",
       "    }\n",
       "\n",
       "    .dataframe thead th {\n",
       "        text-align: right;\n",
       "    }\n",
       "</style>\n",
       "<table border=\"1\" class=\"dataframe\">\n",
       "  <thead>\n",
       "    <tr style=\"text-align: right;\">\n",
       "      <th></th>\n",
       "      <th></th>\n",
       "      <th>year</th>\n",
       "      <th>name</th>\n",
       "      <th>type</th>\n",
       "      <th>character</th>\n",
       "    </tr>\n",
       "    <tr>\n",
       "      <th>title</th>\n",
       "      <th>n</th>\n",
       "      <th></th>\n",
       "      <th></th>\n",
       "      <th></th>\n",
       "      <th></th>\n",
       "    </tr>\n",
       "  </thead>\n",
       "  <tbody>\n",
       "    <tr>\n",
       "      <th>#1 Serial Killer</th>\n",
       "      <th>17.0</th>\n",
       "      <td>2013</td>\n",
       "      <td>Michael Alton</td>\n",
       "      <td>actor</td>\n",
       "      <td>Detective Roberts</td>\n",
       "    </tr>\n",
       "    <tr>\n",
       "      <th>#DigitalLivesMatter</th>\n",
       "      <th>NaN</th>\n",
       "      <td>2016</td>\n",
       "      <td>Rashan Ali</td>\n",
       "      <td>actress</td>\n",
       "      <td>News Reporter</td>\n",
       "    </tr>\n",
       "  </tbody>\n",
       "</table>\n",
       "</div>"
      ],
      "text/plain": [
       "                           year           name     type          character\n",
       "title               n                                                     \n",
       "#1 Serial Killer    17.0   2013  Michael Alton    actor  Detective Roberts\n",
       "#DigitalLivesMatter NaN    2016     Rashan Ali  actress      News Reporter"
      ]
     },
     "execution_count": 112,
     "metadata": {},
     "output_type": "execute_result"
    }
   ],
   "source": [
    "cm = interpretes.set_index(['title', 'n']).sort_index()\n",
    "cm.head(2)"
   ]
  },
  {
   "cell_type": "code",
   "execution_count": 113,
   "metadata": {},
   "outputs": [
    {
     "data": {
      "text/plain": [
       "MultiIndex([(          '#1 Serial Killer', 17.0),\n",
       "            (       '#DigitalLivesMatter',  nan),\n",
       "            (             '#FromJennifer',  nan),\n",
       "            (             '#FromJennifer',  nan),\n",
       "            (                   '#Horror',  1.0),\n",
       "            (             '#Lucky Number', 31.0),\n",
       "            (        '#Nerealnaya lyubov',  nan),\n",
       "            (              '#REALITYHIGH',  nan),\n",
       "            (                     '#Roxy',  nan),\n",
       "            (                    '#Stuck', 18.0),\n",
       "            ...\n",
       "            (                      'iBoy',  9.0),\n",
       "            (               'inter.m@tes',  6.0),\n",
       "            (           'kingdom of ants',  nan),\n",
       "            (           'kingdom of ants',  nan),\n",
       "            (  'les aventures d'archives',  nan),\n",
       "            (                 'w Delta z',  8.0),\n",
       "            ('xXx: Return of Xander Cage', 34.0),\n",
       "            ('xXx: Return of Xander Cage', 64.0),\n",
       "            ('xXx: Return of Xander Cage', 84.0),\n",
       "            (   'xXx: State of the Union',  nan)],\n",
       "           names=['title', 'n'], length=75001)"
      ]
     },
     "execution_count": 113,
     "metadata": {},
     "output_type": "execute_result"
    }
   ],
   "source": [
    "cm.index"
   ]
  },
  {
   "cell_type": "markdown",
   "metadata": {},
   "source": [
    "Si ahora buscamos por uno de los dos indices, notese que el DataFrame resultante sigue teniendo un indice:"
   ]
  },
  {
   "cell_type": "code",
   "execution_count": 114,
   "metadata": {},
   "outputs": [
    {
     "data": {
      "text/html": [
       "<div>\n",
       "<style scoped>\n",
       "    .dataframe tbody tr th:only-of-type {\n",
       "        vertical-align: middle;\n",
       "    }\n",
       "\n",
       "    .dataframe tbody tr th {\n",
       "        vertical-align: top;\n",
       "    }\n",
       "\n",
       "    .dataframe thead th {\n",
       "        text-align: right;\n",
       "    }\n",
       "</style>\n",
       "<table border=\"1\" class=\"dataframe\">\n",
       "  <thead>\n",
       "    <tr style=\"text-align: right;\">\n",
       "      <th></th>\n",
       "      <th>year</th>\n",
       "      <th>name</th>\n",
       "      <th>type</th>\n",
       "      <th>character</th>\n",
       "    </tr>\n",
       "    <tr>\n",
       "      <th>n</th>\n",
       "      <th></th>\n",
       "      <th></th>\n",
       "      <th></th>\n",
       "      <th></th>\n",
       "    </tr>\n",
       "  </thead>\n",
       "  <tbody>\n",
       "    <tr>\n",
       "      <th>4.0</th>\n",
       "      <td>1916</td>\n",
       "      <td>Spottiswoode Aitken</td>\n",
       "      <td>actor</td>\n",
       "      <td>Duncan</td>\n",
       "    </tr>\n",
       "    <tr>\n",
       "      <th>6.0</th>\n",
       "      <td>1916</td>\n",
       "      <td>Mary Alden</td>\n",
       "      <td>actress</td>\n",
       "      <td>Lady Macduff</td>\n",
       "    </tr>\n",
       "    <tr>\n",
       "      <th>...</th>\n",
       "      <td>...</td>\n",
       "      <td>...</td>\n",
       "      <td>...</td>\n",
       "      <td>...</td>\n",
       "    </tr>\n",
       "    <tr>\n",
       "      <th>NaN</th>\n",
       "      <td>2016</td>\n",
       "      <td>John Albasiny</td>\n",
       "      <td>actor</td>\n",
       "      <td>Doctor</td>\n",
       "    </tr>\n",
       "    <tr>\n",
       "      <th>NaN</th>\n",
       "      <td>2014</td>\n",
       "      <td>Moyo Akand?</td>\n",
       "      <td>actress</td>\n",
       "      <td>Witch</td>\n",
       "    </tr>\n",
       "  </tbody>\n",
       "</table>\n",
       "<p>8 rows × 4 columns</p>\n",
       "</div>"
      ],
      "text/plain": [
       "     year                 name     type     character\n",
       "n                                                    \n",
       "4.0  1916  Spottiswoode Aitken    actor        Duncan\n",
       "6.0  1916           Mary Alden  actress  Lady Macduff\n",
       "..    ...                  ...      ...           ...\n",
       "NaN  2016        John Albasiny    actor        Doctor\n",
       "NaN  2014          Moyo Akand?  actress         Witch\n",
       "\n",
       "[8 rows x 4 columns]"
      ]
     },
     "execution_count": 114,
     "metadata": {},
     "output_type": "execute_result"
    }
   ],
   "source": [
    "cm.loc['Macbeth']"
   ]
  },
  {
   "cell_type": "markdown",
   "metadata": {},
   "source": [
    "Podemos ahora hacer una busqueda __usando los dos__ indices:"
   ]
  },
  {
   "cell_type": "code",
   "execution_count": 115,
   "metadata": {},
   "outputs": [
    {
     "data": {
      "text/plain": [
       "year                        1916\n",
       "name         Spottiswoode Aitken\n",
       "type                       actor\n",
       "character                 Duncan\n",
       "Name: 4.0, dtype: object"
      ]
     },
     "execution_count": 115,
     "metadata": {},
     "output_type": "execute_result"
    }
   ],
   "source": [
    "cm.loc['Macbeth'].loc[4]"
   ]
  },
  {
   "cell_type": "code",
   "execution_count": 116,
   "metadata": {},
   "outputs": [
    {
     "name": "stderr",
     "output_type": "stream",
     "text": [
      "C:\\Users\\Eugenio\\Anaconda3\\envs\\tf2\\lib\\site-packages\\ipykernel_launcher.py:1: PerformanceWarning: indexing past lexsort depth may impact performance.\n",
      "  \"\"\"Entry point for launching an IPython kernel.\n"
     ]
    },
    {
     "data": {
      "text/html": [
       "<div>\n",
       "<style scoped>\n",
       "    .dataframe tbody tr th:only-of-type {\n",
       "        vertical-align: middle;\n",
       "    }\n",
       "\n",
       "    .dataframe tbody tr th {\n",
       "        vertical-align: top;\n",
       "    }\n",
       "\n",
       "    .dataframe thead th {\n",
       "        text-align: right;\n",
       "    }\n",
       "</style>\n",
       "<table border=\"1\" class=\"dataframe\">\n",
       "  <thead>\n",
       "    <tr style=\"text-align: right;\">\n",
       "      <th></th>\n",
       "      <th></th>\n",
       "      <th>year</th>\n",
       "      <th>name</th>\n",
       "      <th>type</th>\n",
       "      <th>character</th>\n",
       "    </tr>\n",
       "    <tr>\n",
       "      <th>title</th>\n",
       "      <th>n</th>\n",
       "      <th></th>\n",
       "      <th></th>\n",
       "      <th></th>\n",
       "      <th></th>\n",
       "    </tr>\n",
       "  </thead>\n",
       "  <tbody>\n",
       "    <tr>\n",
       "      <th>Macbeth</th>\n",
       "      <th>6.0</th>\n",
       "      <td>1916</td>\n",
       "      <td>Mary Alden</td>\n",
       "      <td>actress</td>\n",
       "      <td>Lady Macduff</td>\n",
       "    </tr>\n",
       "  </tbody>\n",
       "</table>\n",
       "</div>"
      ],
      "text/plain": [
       "             year        name     type     character\n",
       "title   n                                           \n",
       "Macbeth 6.0  1916  Mary Alden  actress  Lady Macduff"
      ]
     },
     "execution_count": 116,
     "metadata": {},
     "output_type": "execute_result"
    }
   ],
   "source": [
    "cm.loc['Macbeth',6]"
   ]
  },
  {
   "cell_type": "markdown",
   "metadata": {},
   "source": [
    "## 6.2 Eliminar un indice"
   ]
  },
  {
   "cell_type": "code",
   "execution_count": 117,
   "metadata": {},
   "outputs": [
    {
     "data": {
      "text/plain": [
       "Index(['#1 Serial Killer', '#DigitalLivesMatter', '#FromJennifer',\n",
       "       '#FromJennifer', '#Horror', '#Lucky Number', '#Nerealnaya lyubov',\n",
       "       '#REALITYHIGH', '#Roxy', '#Stuck',\n",
       "       ...\n",
       "       'iBoy', 'inter.m@tes', 'kingdom of ants', 'kingdom of ants',\n",
       "       'les aventures d'archives', 'w Delta z', 'xXx: Return of Xander Cage',\n",
       "       'xXx: Return of Xander Cage', 'xXx: Return of Xander Cage',\n",
       "       'xXx: State of the Union'],\n",
       "      dtype='object', name='title', length=75001)"
      ]
     },
     "execution_count": 117,
     "metadata": {},
     "output_type": "execute_result"
    }
   ],
   "source": [
    "cm = cm.reset_index('n')\n",
    "cm.index"
   ]
  },
  {
   "cell_type": "markdown",
   "metadata": {},
   "source": [
    "Una vez hemos eliminado el indice, la Serie vuelve a su sitio. Fijemo nos en la columna `n`:"
   ]
  },
  {
   "cell_type": "code",
   "execution_count": 118,
   "metadata": {},
   "outputs": [
    {
     "data": {
      "text/plain": [
       "Index(['n', 'year', 'name', 'type', 'character'], dtype='object')"
      ]
     },
     "execution_count": 118,
     "metadata": {},
     "output_type": "execute_result"
    }
   ],
   "source": [
    "cm.columns"
   ]
  },
  {
   "cell_type": "code",
   "execution_count": 119,
   "metadata": {},
   "outputs": [
    {
     "data": {
      "text/plain": [
       "RangeIndex(start=0, stop=75001, step=1)"
      ]
     },
     "execution_count": 119,
     "metadata": {},
     "output_type": "execute_result"
    }
   ],
   "source": [
    "cm = cm.reset_index('title')\n",
    "cm.index"
   ]
  },
  {
   "cell_type": "code",
   "execution_count": 120,
   "metadata": {},
   "outputs": [
    {
     "data": {
      "text/plain": [
       "Index(['title', 'n', 'year', 'name', 'type', 'character'], dtype='object')"
      ]
     },
     "execution_count": 120,
     "metadata": {},
     "output_type": "execute_result"
    }
   ],
   "source": [
    "cm.columns"
   ]
  },
  {
   "cell_type": "code",
   "execution_count": 121,
   "metadata": {},
   "outputs": [
    {
     "data": {
      "text/html": [
       "<div>\n",
       "<style scoped>\n",
       "    .dataframe tbody tr th:only-of-type {\n",
       "        vertical-align: middle;\n",
       "    }\n",
       "\n",
       "    .dataframe tbody tr th {\n",
       "        vertical-align: top;\n",
       "    }\n",
       "\n",
       "    .dataframe thead th {\n",
       "        text-align: right;\n",
       "    }\n",
       "</style>\n",
       "<table border=\"1\" class=\"dataframe\">\n",
       "  <thead>\n",
       "    <tr style=\"text-align: right;\">\n",
       "      <th></th>\n",
       "      <th>title</th>\n",
       "      <th>n</th>\n",
       "      <th>year</th>\n",
       "      <th>name</th>\n",
       "      <th>type</th>\n",
       "      <th>character</th>\n",
       "    </tr>\n",
       "  </thead>\n",
       "  <tbody>\n",
       "    <tr>\n",
       "      <th>0</th>\n",
       "      <td>#1 Serial Killer</td>\n",
       "      <td>17.0</td>\n",
       "      <td>2013</td>\n",
       "      <td>Michael Alton</td>\n",
       "      <td>actor</td>\n",
       "      <td>Detective Roberts</td>\n",
       "    </tr>\n",
       "    <tr>\n",
       "      <th>1</th>\n",
       "      <td>#DigitalLivesMatter</td>\n",
       "      <td>NaN</td>\n",
       "      <td>2016</td>\n",
       "      <td>Rashan Ali</td>\n",
       "      <td>actress</td>\n",
       "      <td>News Reporter</td>\n",
       "    </tr>\n",
       "    <tr>\n",
       "      <th>...</th>\n",
       "      <td>...</td>\n",
       "      <td>...</td>\n",
       "      <td>...</td>\n",
       "      <td>...</td>\n",
       "      <td>...</td>\n",
       "      <td>...</td>\n",
       "    </tr>\n",
       "    <tr>\n",
       "      <th>74999</th>\n",
       "      <td>xXx: Return of Xander Cage</td>\n",
       "      <td>84.0</td>\n",
       "      <td>2017</td>\n",
       "      <td>Julie Abcede</td>\n",
       "      <td>actor</td>\n",
       "      <td>Catwalk Partiers</td>\n",
       "    </tr>\n",
       "    <tr>\n",
       "      <th>75000</th>\n",
       "      <td>xXx: State of the Union</td>\n",
       "      <td>NaN</td>\n",
       "      <td>2005</td>\n",
       "      <td>Robert Alonzo</td>\n",
       "      <td>actor</td>\n",
       "      <td>Guard</td>\n",
       "    </tr>\n",
       "  </tbody>\n",
       "</table>\n",
       "<p>75001 rows × 6 columns</p>\n",
       "</div>"
      ],
      "text/plain": [
       "                            title     n  year           name     type  \\\n",
       "0                #1 Serial Killer  17.0  2013  Michael Alton    actor   \n",
       "1             #DigitalLivesMatter   NaN  2016     Rashan Ali  actress   \n",
       "...                           ...   ...   ...            ...      ...   \n",
       "74999  xXx: Return of Xander Cage  84.0  2017   Julie Abcede    actor   \n",
       "75000     xXx: State of the Union   NaN  2005  Robert Alonzo    actor   \n",
       "\n",
       "               character  \n",
       "0      Detective Roberts  \n",
       "1          News Reporter  \n",
       "...                  ...  \n",
       "74999   Catwalk Partiers  \n",
       "75000              Guard  \n",
       "\n",
       "[75001 rows x 6 columns]"
      ]
     },
     "execution_count": 121,
     "metadata": {},
     "output_type": "execute_result"
    }
   ],
   "source": [
    "cm"
   ]
  },
  {
   "cell_type": "markdown",
   "metadata": {},
   "source": [
    "## 6.3 Finalmente  \n",
    "Podemos crear una Serie o un DataStream a partir de una lista con datos, pero tambien podemos especificar una lista con los valores del indice"
   ]
  },
  {
   "cell_type": "code",
   "execution_count": 122,
   "metadata": {},
   "outputs": [
    {
     "data": {
      "text/plain": [
       "a    10\n",
       "a    20\n",
       "     ..\n",
       "a    40\n",
       "b    15\n",
       "Length: 5, dtype: int64"
      ]
     },
     "execution_count": 122,
     "metadata": {},
     "output_type": "execute_result"
    }
   ],
   "source": [
    "data = pd.Series([10, 20, 30, 40, 15, 25, 35, 25], index = ['a', 'a',\n",
    "... 'a', 'a', 'b', 'b', 'b', 'b'])\n",
    "data.head()"
   ]
  },
  {
   "cell_type": "markdown",
   "metadata": {},
   "source": [
    "Podriamos crea el indece multi-indice, si pasasemos dos listas:"
   ]
  },
  {
   "cell_type": "code",
   "execution_count": 123,
   "metadata": {},
   "outputs": [
    {
     "data": {
      "text/plain": [
       "a  obj1    10\n",
       "   obj2    20\n",
       "           ..\n",
       "   obj4    40\n",
       "b  obj1    15\n",
       "Length: 5, dtype: int64"
      ]
     },
     "execution_count": 123,
     "metadata": {},
     "output_type": "execute_result"
    }
   ],
   "source": [
    "data = pd.Series([10, 20, 30, 40, 15, 25, 35, 25], index = [['a', 'a',\n",
    "... 'a', 'a', 'b', 'b', 'b', 'b'], ['obj1', 'obj2', 'obj3', 'obj4', 'obj1',\n",
    "... 'obj2', 'obj3', 'obj4']])\n",
    "data.head()"
   ]
  },
  {
   "cell_type": "markdown",
   "metadata": {},
   "source": [
    "Podriamos especificar el nombre de los indices si pasasemos un diccionario:"
   ]
  },
  {
   "cell_type": "markdown",
   "metadata": {},
   "source": [
    "# 7. Numpy"
   ]
  },
  {
   "cell_type": "markdown",
   "metadata": {},
   "source": [
    "## 7.1 Matrices  \n",
    "Matriz de Rango 1"
   ]
  },
  {
   "cell_type": "code",
   "execution_count": 124,
   "metadata": {},
   "outputs": [],
   "source": [
    "import numpy as np"
   ]
  },
  {
   "cell_type": "code",
   "execution_count": 125,
   "metadata": {},
   "outputs": [
    {
     "data": {
      "text/plain": [
       "numpy.ndarray"
      ]
     },
     "execution_count": 125,
     "metadata": {},
     "output_type": "execute_result"
    }
   ],
   "source": [
    "d = np.array([1, 2, 3])\n",
    "type(d)"
   ]
  },
  {
   "cell_type": "code",
   "execution_count": 126,
   "metadata": {},
   "outputs": [
    {
     "data": {
      "text/plain": [
       "array([1, 2, 3])"
      ]
     },
     "execution_count": 126,
     "metadata": {},
     "output_type": "execute_result"
    }
   ],
   "source": [
    "d"
   ]
  },
  {
   "cell_type": "code",
   "execution_count": 127,
   "metadata": {},
   "outputs": [
    {
     "data": {
      "text/plain": [
       "(3,)"
      ]
     },
     "execution_count": 127,
     "metadata": {},
     "output_type": "execute_result"
    }
   ],
   "source": [
    "d.shape"
   ]
  },
  {
   "cell_type": "markdown",
   "metadata": {},
   "source": [
    "Matriz de rango 2"
   ]
  },
  {
   "cell_type": "code",
   "execution_count": 128,
   "metadata": {},
   "outputs": [
    {
     "data": {
      "text/plain": [
       "numpy.ndarray"
      ]
     },
     "execution_count": 128,
     "metadata": {},
     "output_type": "execute_result"
    }
   ],
   "source": [
    "nd = np.array([[1, 2, 3], [3, 4, 5], [10, 11, 12]])\n",
    "type(nd)"
   ]
  },
  {
   "cell_type": "code",
   "execution_count": 129,
   "metadata": {},
   "outputs": [
    {
     "data": {
      "text/plain": [
       "(3, 3)"
      ]
     },
     "execution_count": 129,
     "metadata": {},
     "output_type": "execute_result"
    }
   ],
   "source": [
    "nd.shape"
   ]
  },
  {
   "cell_type": "code",
   "execution_count": 130,
   "metadata": {},
   "outputs": [
    {
     "data": {
      "text/plain": [
       "dtype('int32')"
      ]
     },
     "execution_count": 130,
     "metadata": {},
     "output_type": "execute_result"
    }
   ],
   "source": [
    "nd.dtype"
   ]
  },
  {
   "cell_type": "code",
   "execution_count": 131,
   "metadata": {},
   "outputs": [
    {
     "data": {
      "text/plain": [
       "array([0., 0., 0.])"
      ]
     },
     "execution_count": 131,
     "metadata": {},
     "output_type": "execute_result"
    }
   ],
   "source": [
    "np.zeros(3)"
   ]
  },
  {
   "cell_type": "code",
   "execution_count": 132,
   "metadata": {},
   "outputs": [
    {
     "data": {
      "text/plain": [
       "array([1., 1., 1.])"
      ]
     },
     "execution_count": 132,
     "metadata": {},
     "output_type": "execute_result"
    }
   ],
   "source": [
    "np.ones(3)"
   ]
  },
  {
   "cell_type": "code",
   "execution_count": 133,
   "metadata": {},
   "outputs": [],
   "source": [
    "uno=np.ones((3,3))"
   ]
  },
  {
   "cell_type": "code",
   "execution_count": 134,
   "metadata": {},
   "outputs": [
    {
     "data": {
      "text/plain": [
       "array([[1., 0., 0.],\n",
       "       [0., 1., 0.],\n",
       "       [0., 0., 1.]])"
      ]
     },
     "execution_count": 134,
     "metadata": {},
     "output_type": "execute_result"
    }
   ],
   "source": [
    "np.eye(3)"
   ]
  },
  {
   "cell_type": "code",
   "execution_count": 135,
   "metadata": {},
   "outputs": [
    {
     "data": {
      "text/plain": [
       "array([[5., 5., 5.],\n",
       "       [5., 5., 5.],\n",
       "       [5., 5., 5.]])"
      ]
     },
     "execution_count": 135,
     "metadata": {},
     "output_type": "execute_result"
    }
   ],
   "source": [
    "e2=uno+4\n",
    "e2"
   ]
  },
  {
   "cell_type": "markdown",
   "metadata": {},
   "source": [
    "Crea una matriz con unos con la misma shape que e2"
   ]
  },
  {
   "cell_type": "code",
   "execution_count": 136,
   "metadata": {},
   "outputs": [
    {
     "data": {
      "text/plain": [
       "array([[1., 1., 1.],\n",
       "       [1., 1., 1.],\n",
       "       [1., 1., 1.]])"
      ]
     },
     "execution_count": 136,
     "metadata": {},
     "output_type": "execute_result"
    }
   ],
   "source": [
    "np.ones_like(e2)"
   ]
  },
  {
   "cell_type": "markdown",
   "metadata": {},
   "source": [
    "Convierte una lista en matriz"
   ]
  },
  {
   "cell_type": "code",
   "execution_count": 137,
   "metadata": {},
   "outputs": [
    {
     "data": {
      "text/plain": [
       "['1', '2', '3']"
      ]
     },
     "execution_count": 137,
     "metadata": {},
     "output_type": "execute_result"
    }
   ],
   "source": [
    "a = ['1', '2', '3']\n",
    "a"
   ]
  },
  {
   "cell_type": "code",
   "execution_count": 138,
   "metadata": {},
   "outputs": [
    {
     "data": {
      "text/plain": [
       "array([b'1', b'2', b'3'], dtype='|S1')"
      ]
     },
     "execution_count": 138,
     "metadata": {},
     "output_type": "execute_result"
    }
   ],
   "source": [
    "a_arr = np.array(a, dtype=np.string_)\n",
    "a_arr"
   ]
  },
  {
   "cell_type": "markdown",
   "metadata": {},
   "source": [
    "## 7.2 Boolean indexing"
   ]
  },
  {
   "cell_type": "code",
   "execution_count": 139,
   "metadata": {},
   "outputs": [
    {
     "data": {
      "text/plain": [
       "(5, 3)"
      ]
     },
     "execution_count": 139,
     "metadata": {},
     "output_type": "execute_result"
    }
   ],
   "source": [
    "data = np.random.randn(5, 3)\n",
    "data.shape"
   ]
  },
  {
   "cell_type": "code",
   "execution_count": 140,
   "metadata": {},
   "outputs": [],
   "source": [
    "name = np.array(['a', 'b', 'c', 'a', 'b'])"
   ]
  },
  {
   "cell_type": "markdown",
   "metadata": {},
   "source": [
    "Retorna una matriz booleana con el resultado de la comparacion:"
   ]
  },
  {
   "cell_type": "code",
   "execution_count": 141,
   "metadata": {},
   "outputs": [
    {
     "data": {
      "text/plain": [
       "array([ True, False, False,  True, False])"
      ]
     },
     "execution_count": 141,
     "metadata": {},
     "output_type": "execute_result"
    }
   ],
   "source": [
    "name=='a'"
   ]
  },
  {
   "cell_type": "markdown",
   "metadata": {},
   "source": [
    "Este vector booleano lo podemos pasar como argumento de modo que aquellas filas que sean true seran recuperadas "
   ]
  },
  {
   "cell_type": "code",
   "execution_count": 142,
   "metadata": {},
   "outputs": [
    {
     "data": {
      "text/plain": [
       "array([[-0.47923238,  0.41059499, -1.03345253],\n",
       "       [-0.11551061,  0.49406744, -1.52228663],\n",
       "       [-0.36982267, -0.06316375,  1.12379454],\n",
       "       [ 0.59977342, -0.60288708,  1.50593362],\n",
       "       [ 1.77710333,  0.84154486, -1.72795422]])"
      ]
     },
     "execution_count": 142,
     "metadata": {},
     "output_type": "execute_result"
    }
   ],
   "source": [
    "data"
   ]
  },
  {
   "cell_type": "markdown",
   "metadata": {},
   "source": [
    "__Excelente!!!__. Podemos recuperar las filas que nos interese de nuestra matriz"
   ]
  },
  {
   "cell_type": "code",
   "execution_count": 143,
   "metadata": {},
   "outputs": [
    {
     "data": {
      "text/plain": [
       "array([[-0.47923238,  0.41059499, -1.03345253],\n",
       "       [ 0.59977342, -0.60288708,  1.50593362]])"
      ]
     },
     "execution_count": 143,
     "metadata": {},
     "output_type": "execute_result"
    }
   ],
   "source": [
    "data[name=='a']"
   ]
  },
  {
   "cell_type": "code",
   "execution_count": 144,
   "metadata": {},
   "outputs": [
    {
     "data": {
      "text/plain": [
       "array([[-0.11551061,  0.49406744, -1.52228663],\n",
       "       [-0.36982267, -0.06316375,  1.12379454],\n",
       "       [ 1.77710333,  0.84154486, -1.72795422]])"
      ]
     },
     "execution_count": 144,
     "metadata": {},
     "output_type": "execute_result"
    }
   ],
   "source": [
    "data[name != 'a']"
   ]
  },
  {
   "cell_type": "code",
   "execution_count": 145,
   "metadata": {},
   "outputs": [
    {
     "data": {
      "text/plain": [
       "array([[-0.11551061,  0.49406744, -1.52228663],\n",
       "       [-0.36982267, -0.06316375,  1.12379454],\n",
       "       [ 1.77710333,  0.84154486, -1.72795422]])"
      ]
     },
     "execution_count": 145,
     "metadata": {},
     "output_type": "execute_result"
    }
   ],
   "source": [
    "data[(name == 'b') | (name=='c')]"
   ]
  },
  {
   "cell_type": "markdown",
   "metadata": {},
   "source": [
    "Si le pasamos __una matriz booleana__ con la misma dimension que la propia matriz, aplica una especie de __mascara__, retornando aquellas celdas en las que el valor sea true"
   ]
  },
  {
   "cell_type": "code",
   "execution_count": 146,
   "metadata": {},
   "outputs": [
    {
     "data": {
      "text/plain": [
       "array([1.12379454, 1.50593362, 1.77710333])"
      ]
     },
     "execution_count": 146,
     "metadata": {},
     "output_type": "execute_result"
    }
   ],
   "source": [
    "data[ (data > 1) & (data < 2) ]"
   ]
  },
  {
   "cell_type": "markdown",
   "metadata": {},
   "source": [
    "## 7.3 Reshape"
   ]
  },
  {
   "cell_type": "code",
   "execution_count": 147,
   "metadata": {},
   "outputs": [
    {
     "data": {
      "text/plain": [
       "(20,)"
      ]
     },
     "execution_count": 147,
     "metadata": {},
     "output_type": "execute_result"
    }
   ],
   "source": [
    "a = np.arange(0, 20)\n",
    "a.shape"
   ]
  },
  {
   "cell_type": "code",
   "execution_count": 148,
   "metadata": {},
   "outputs": [
    {
     "data": {
      "text/plain": [
       "array([[ 0,  1,  2,  3,  4],\n",
       "       [ 5,  6,  7,  8,  9],\n",
       "       [10, 11, 12, 13, 14],\n",
       "       [15, 16, 17, 18, 19]])"
      ]
     },
     "execution_count": 148,
     "metadata": {},
     "output_type": "execute_result"
    }
   ],
   "source": [
    "a45 = a.reshape(4, 5)\n",
    "a45"
   ]
  },
  {
   "cell_type": "markdown",
   "metadata": {},
   "source": [
    "Recupera ciertas filas de la matriz"
   ]
  },
  {
   "cell_type": "code",
   "execution_count": 149,
   "metadata": {},
   "outputs": [
    {
     "data": {
      "text/plain": [
       "array([[10, 11, 12, 13, 14],\n",
       "       [ 0,  1,  2,  3,  4],\n",
       "       [ 5,  6,  7,  8,  9]])"
      ]
     },
     "execution_count": 149,
     "metadata": {},
     "output_type": "execute_result"
    }
   ],
   "source": [
    "b = a45[ [2, 0, 1] ]\n",
    "b"
   ]
  },
  {
   "cell_type": "markdown",
   "metadata": {},
   "source": [
    "Traspuesta"
   ]
  },
  {
   "cell_type": "code",
   "execution_count": 150,
   "metadata": {},
   "outputs": [
    {
     "data": {
      "text/plain": [
       "array([[10,  0,  5],\n",
       "       [11,  1,  6],\n",
       "       [12,  2,  7],\n",
       "       [13,  3,  8],\n",
       "       [14,  4,  9]])"
      ]
     },
     "execution_count": 150,
     "metadata": {},
     "output_type": "execute_result"
    }
   ],
   "source": [
    "b.T"
   ]
  },
  {
   "cell_type": "markdown",
   "metadata": {},
   "source": [
    "## 7.4 Concatenating"
   ]
  },
  {
   "cell_type": "markdown",
   "metadata": {},
   "source": [
    "Para muestras de la normal N(mu, sigma^2), usar:\n",
    "\n",
    "sigma * np.random.randn(...) + mu"
   ]
  },
  {
   "cell_type": "code",
   "execution_count": 151,
   "metadata": {},
   "outputs": [
    {
     "data": {
      "text/plain": [
       "(3, 4)"
      ]
     },
     "execution_count": 151,
     "metadata": {},
     "output_type": "execute_result"
    }
   ],
   "source": [
    "arr = np.arange(12).reshape(3,4)\n",
    "rn = np.random.randn(3, 4)\n",
    "rn.shape"
   ]
  },
  {
   "cell_type": "code",
   "execution_count": 152,
   "metadata": {},
   "outputs": [
    {
     "data": {
      "text/plain": [
       "(6, 4)"
      ]
     },
     "execution_count": 152,
     "metadata": {},
     "output_type": "execute_result"
    }
   ],
   "source": [
    "np.concatenate([arr, rn]).shape"
   ]
  },
  {
   "cell_type": "code",
   "execution_count": 153,
   "metadata": {},
   "outputs": [
    {
     "data": {
      "text/plain": [
       "(3, 8)"
      ]
     },
     "execution_count": 153,
     "metadata": {},
     "output_type": "execute_result"
    }
   ],
   "source": [
    "np.concatenate([arr, rn], axis=1).shape"
   ]
  },
  {
   "cell_type": "markdown",
   "metadata": {},
   "source": [
    "# 8. Time Series\n",
    "## 8.1 Date Ranges"
   ]
  },
  {
   "cell_type": "code",
   "execution_count": 154,
   "metadata": {},
   "outputs": [
    {
     "data": {
      "text/plain": [
       "DatetimeIndex(['2011-03-31 10:15:00', '2011-04-30 10:15:00',\n",
       "               '2011-05-31 10:15:00', '2011-06-30 10:15:00',\n",
       "               '2011-07-31 10:15:00', '2011-08-31 10:15:00',\n",
       "               '2011-09-30 10:15:00', '2011-10-31 10:15:00',\n",
       "               '2011-11-30 10:15:00', '2011-12-31 10:15:00'],\n",
       "              dtype='datetime64[ns]', freq='M')"
      ]
     },
     "execution_count": 154,
     "metadata": {},
     "output_type": "execute_result"
    }
   ],
   "source": [
    "rng = pd.date_range('2011-03-01 10:15', periods = 10, freq = 'M')\n",
    "rng"
   ]
  },
  {
   "cell_type": "code",
   "execution_count": 155,
   "metadata": {},
   "outputs": [
    {
     "data": {
      "text/plain": [
       "DatetimeIndex(['2015-07-31 10:15:00', '2015-08-31 10:15:00',\n",
       "               '2015-09-30 10:15:00', '2015-10-31 10:15:00',\n",
       "               '2015-11-30 10:15:00', '2015-12-31 10:15:00',\n",
       "               '2016-01-31 10:15:00', '2016-02-29 10:15:00',\n",
       "               '2016-03-31 10:15:00', '2016-04-30 10:15:00'],\n",
       "              dtype='datetime64[ns]', freq='M')"
      ]
     },
     "execution_count": 155,
     "metadata": {},
     "output_type": "execute_result"
    }
   ],
   "source": [
    "rng = pd.date_range('2015 Jul 2 10:15', periods = 10, freq = 'M')\n",
    "rng"
   ]
  },
  {
   "cell_type": "code",
   "execution_count": 156,
   "metadata": {},
   "outputs": [
    {
     "data": {
      "text/plain": [
       "DatetimeIndex(['2015-07-02 10:15:00', '2015-07-02 22:15:00',\n",
       "               '2015-07-03 10:15:00', '2015-07-03 22:15:00',\n",
       "               '2015-07-04 10:15:00', '2015-07-04 22:15:00',\n",
       "               '2015-07-05 10:15:00', '2015-07-05 22:15:00',\n",
       "               '2015-07-06 10:15:00', '2015-07-06 22:15:00',\n",
       "               '2015-07-07 10:15:00', '2015-07-07 22:15:00',\n",
       "               '2015-07-08 10:15:00', '2015-07-08 22:15:00',\n",
       "               '2015-07-09 10:15:00', '2015-07-09 22:15:00',\n",
       "               '2015-07-10 10:15:00', '2015-07-10 22:15:00',\n",
       "               '2015-07-11 10:15:00', '2015-07-11 22:15:00'],\n",
       "              dtype='datetime64[ns]', freq='12H')"
      ]
     },
     "execution_count": 156,
     "metadata": {},
     "output_type": "execute_result"
    }
   ],
   "source": [
    "rng = pd.date_range(start = '2015 Jul 2 10:15', end = '2015 July 12', freq = '12H')\n",
    "rng"
   ]
  },
  {
   "cell_type": "code",
   "execution_count": 157,
   "metadata": {},
   "outputs": [
    {
     "data": {
      "text/plain": [
       "DatetimeIndex(['2015-07-02 10:15:00+05:30', '2015-07-02 22:15:00+05:30',\n",
       "               '2015-07-03 10:15:00+05:30', '2015-07-03 22:15:00+05:30',\n",
       "               '2015-07-04 10:15:00+05:30', '2015-07-04 22:15:00+05:30',\n",
       "               '2015-07-05 10:15:00+05:30', '2015-07-05 22:15:00+05:30',\n",
       "               '2015-07-06 10:15:00+05:30', '2015-07-06 22:15:00+05:30',\n",
       "               '2015-07-07 10:15:00+05:30', '2015-07-07 22:15:00+05:30',\n",
       "               '2015-07-08 10:15:00+05:30', '2015-07-08 22:15:00+05:30',\n",
       "               '2015-07-09 10:15:00+05:30', '2015-07-09 22:15:00+05:30',\n",
       "               '2015-07-10 10:15:00+05:30', '2015-07-10 22:15:00+05:30',\n",
       "               '2015-07-11 10:15:00+05:30', '2015-07-11 22:15:00+05:30'],\n",
       "              dtype='datetime64[ns, Asia/Kolkata]', freq='12H')"
      ]
     },
     "execution_count": 157,
     "metadata": {},
     "output_type": "execute_result"
    }
   ],
   "source": [
    "rng = pd.date_range(start = '2015 Jul 2 10:15', end = '2015 July 12', freq = '12H', tz='Asia/Kolkata')\n",
    "rng"
   ]
  },
  {
   "cell_type": "code",
   "execution_count": 158,
   "metadata": {},
   "outputs": [
    {
     "data": {
      "text/plain": [
       "pandas._libs.tslibs.timestamps.Timestamp"
      ]
     },
     "execution_count": 158,
     "metadata": {},
     "output_type": "execute_result"
    }
   ],
   "source": [
    "type(rng[0])"
   ]
  },
  {
   "cell_type": "markdown",
   "metadata": {},
   "source": [
    "## 8.2 Convertir Strings a Fechas (timestamps)"
   ]
  },
  {
   "cell_type": "code",
   "execution_count": 159,
   "metadata": {},
   "outputs": [
    {
     "data": {
      "text/plain": [
       "str"
      ]
     },
     "execution_count": 159,
     "metadata": {},
     "output_type": "execute_result"
    }
   ],
   "source": [
    "dd = ['07/07/2015', '08/12/2015', '12/04/2015']\n",
    "type(dd[0])"
   ]
  },
  {
   "cell_type": "code",
   "execution_count": 160,
   "metadata": {},
   "outputs": [
    {
     "data": {
      "text/plain": [
       "[Timestamp('2015-07-07 00:00:00'),\n",
       " Timestamp('2015-08-12 00:00:00'),\n",
       " Timestamp('2015-12-04 00:00:00')]"
      ]
     },
     "execution_count": 160,
     "metadata": {},
     "output_type": "execute_result"
    }
   ],
   "source": [
    "list(pd.to_datetime(dd))"
   ]
  },
  {
   "cell_type": "markdown",
   "metadata": {},
   "source": [
    "### 8.2.1 Time offsets (timedelta)"
   ]
  },
  {
   "cell_type": "code",
   "execution_count": 161,
   "metadata": {},
   "outputs": [
    {
     "data": {
      "text/plain": [
       "Timedelta('3 days 00:00:00')"
      ]
     },
     "execution_count": 161,
     "metadata": {},
     "output_type": "execute_result"
    }
   ],
   "source": [
    "pd.Timedelta('3 days')"
   ]
  },
  {
   "cell_type": "code",
   "execution_count": 162,
   "metadata": {},
   "outputs": [
    {
     "data": {
      "text/plain": [
       "Timedelta('0 days 00:03:00')"
      ]
     },
     "execution_count": 162,
     "metadata": {},
     "output_type": "execute_result"
    }
   ],
   "source": [
    "pd.Timedelta('3M')"
   ]
  },
  {
   "cell_type": "code",
   "execution_count": 163,
   "metadata": {},
   "outputs": [
    {
     "data": {
      "text/plain": [
       "Timedelta('4 days 00:03:00')"
      ]
     },
     "execution_count": 163,
     "metadata": {},
     "output_type": "execute_result"
    }
   ],
   "source": [
    "pd.Timedelta('4 days 3M')"
   ]
  },
  {
   "cell_type": "code",
   "execution_count": 164,
   "metadata": {},
   "outputs": [
    {
     "data": {
      "text/plain": [
       "Timestamp('2016-07-10 12:03:00')"
      ]
     },
     "execution_count": 164,
     "metadata": {},
     "output_type": "execute_result"
    }
   ],
   "source": [
    "pd.Timestamp('9 July 2016 12:00') + pd.Timedelta('1 day 3 min')"
   ]
  },
  {
   "cell_type": "code",
   "execution_count": 165,
   "metadata": {},
   "outputs": [
    {
     "data": {
      "text/plain": [
       "DatetimeIndex(['2015-07-03 10:15:00+05:30', '2015-07-03 22:15:00+05:30',\n",
       "               '2015-07-04 10:15:00+05:30', '2015-07-04 22:15:00+05:30',\n",
       "               '2015-07-05 10:15:00+05:30', '2015-07-05 22:15:00+05:30',\n",
       "               '2015-07-06 10:15:00+05:30', '2015-07-06 22:15:00+05:30',\n",
       "               '2015-07-07 10:15:00+05:30', '2015-07-07 22:15:00+05:30',\n",
       "               '2015-07-08 10:15:00+05:30', '2015-07-08 22:15:00+05:30',\n",
       "               '2015-07-09 10:15:00+05:30', '2015-07-09 22:15:00+05:30',\n",
       "               '2015-07-10 10:15:00+05:30', '2015-07-10 22:15:00+05:30',\n",
       "               '2015-07-11 10:15:00+05:30', '2015-07-11 22:15:00+05:30',\n",
       "               '2015-07-12 10:15:00+05:30', '2015-07-12 22:15:00+05:30'],\n",
       "              dtype='datetime64[ns, Asia/Kolkata]', freq='12H')"
      ]
     },
     "execution_count": 165,
     "metadata": {},
     "output_type": "execute_result"
    }
   ],
   "source": [
    "rng + pd.Timedelta('1 day')"
   ]
  },
  {
   "cell_type": "markdown",
   "metadata": {},
   "source": [
    "## 8.3 Periodo\n",
    "### 8.3.1 Definición\n",
    "Period y timestamp son parecidos, pero muy diferentes. Timestamp representa un instante de tiempo, mientras que Period representa un intervalo de tiempo. Contra un objeto Period podemos hacer muchas preguntas, como cual es el inicio o el fin, podemos comprobar si un determinado dia esta incluido, etc."
   ]
  },
  {
   "cell_type": "code",
   "execution_count": 217,
   "metadata": {},
   "outputs": [
    {
     "data": {
      "text/plain": [
       "Period('2012-01', 'M')"
      ]
     },
     "execution_count": 217,
     "metadata": {},
     "output_type": "execute_result"
    }
   ],
   "source": [
    "pr = pd.Period('2012', freq='M')\n",
    "pr"
   ]
  },
  {
   "cell_type": "code",
   "execution_count": 218,
   "metadata": {},
   "outputs": [
    {
     "data": {
      "text/plain": [
       "1"
      ]
     },
     "execution_count": 218,
     "metadata": {},
     "output_type": "execute_result"
    }
   ],
   "source": [
    "pr.dayofweek"
   ]
  },
  {
   "cell_type": "code",
   "execution_count": 219,
   "metadata": {},
   "outputs": [
    {
     "data": {
      "text/plain": [
       "31"
      ]
     },
     "execution_count": 219,
     "metadata": {},
     "output_type": "execute_result"
    }
   ],
   "source": [
    "pr.days_in_month"
   ]
  },
  {
   "cell_type": "code",
   "execution_count": 220,
   "metadata": {},
   "outputs": [
    {
     "data": {
      "text/plain": [
       "1"
      ]
     },
     "execution_count": 220,
     "metadata": {},
     "output_type": "execute_result"
    }
   ],
   "source": [
    "pr.quarter"
   ]
  },
  {
   "cell_type": "code",
   "execution_count": 221,
   "metadata": {},
   "outputs": [
    {
     "data": {
      "text/plain": [
       "1"
      ]
     },
     "execution_count": 221,
     "metadata": {},
     "output_type": "execute_result"
    }
   ],
   "source": [
    "pr.month"
   ]
  },
  {
   "cell_type": "markdown",
   "metadata": {},
   "source": [
    "### 8.3.2 Convierte a otro Periodo\n",
    "Veamos cual es el inicio y el fin del periodo en __D__ias"
   ]
  },
  {
   "cell_type": "code",
   "execution_count": 167,
   "metadata": {},
   "outputs": [
    {
     "data": {
      "text/plain": [
       "Period('2012-01-01', 'D')"
      ]
     },
     "execution_count": 167,
     "metadata": {},
     "output_type": "execute_result"
    }
   ],
   "source": [
    "pr.asfreq('D', 'start')"
   ]
  },
  {
   "cell_type": "code",
   "execution_count": 168,
   "metadata": {},
   "outputs": [
    {
     "data": {
      "text/plain": [
       "Period('2012-01-31', 'D')"
      ]
     },
     "execution_count": 168,
     "metadata": {},
     "output_type": "execute_result"
    }
   ],
   "source": [
    "pr.asfreq('D', 'end')"
   ]
  },
  {
   "cell_type": "markdown",
   "metadata": {},
   "source": [
    "Es equivalente"
   ]
  },
  {
   "cell_type": "code",
   "execution_count": 222,
   "metadata": {},
   "outputs": [
    {
     "data": {
      "text/plain": [
       "Period('2012-01-31', 'D')"
      ]
     },
     "execution_count": 222,
     "metadata": {},
     "output_type": "execute_result"
    }
   ],
   "source": [
    "pr.asfreq(freq='D', how='end')"
   ]
  },
  {
   "cell_type": "markdown",
   "metadata": {},
   "source": [
    "### 8.3.3 Aritmetica"
   ]
  },
  {
   "cell_type": "code",
   "execution_count": 169,
   "metadata": {},
   "outputs": [
    {
     "data": {
      "text/plain": [
       "Period('2012', 'A-DEC')"
      ]
     },
     "execution_count": 169,
     "metadata": {},
     "output_type": "execute_result"
    }
   ],
   "source": [
    "pr = pd.Period('2012', freq='A')\n",
    "pr"
   ]
  },
  {
   "cell_type": "code",
   "execution_count": 170,
   "metadata": {},
   "outputs": [
    {
     "data": {
      "text/plain": [
       "Period('2013', 'A-DEC')"
      ]
     },
     "execution_count": 170,
     "metadata": {},
     "output_type": "execute_result"
    }
   ],
   "source": [
    "pr+1"
   ]
  },
  {
   "cell_type": "markdown",
   "metadata": {},
   "source": [
    "Covierte a frecuencia mensual:"
   ]
  },
  {
   "cell_type": "code",
   "execution_count": 171,
   "metadata": {},
   "outputs": [
    {
     "data": {
      "text/plain": [
       "Period('2012-12', 'M')"
      ]
     },
     "execution_count": 171,
     "metadata": {},
     "output_type": "execute_result"
    }
   ],
   "source": [
    "prMonth = pr.asfreq('M')\n",
    "prMonth"
   ]
  },
  {
   "cell_type": "code",
   "execution_count": 172,
   "metadata": {},
   "outputs": [
    {
     "data": {
      "text/plain": [
       "Period('2012-11', 'M')"
      ]
     },
     "execution_count": 172,
     "metadata": {},
     "output_type": "execute_result"
    }
   ],
   "source": [
    "prMonth-1"
   ]
  },
  {
   "cell_type": "markdown",
   "metadata": {},
   "source": [
    "### 8.3.4 Convertir strings a Period"
   ]
  },
  {
   "cell_type": "code",
   "execution_count": 173,
   "metadata": {},
   "outputs": [],
   "source": [
    "dates = ['2013-02-02', '2012-02-02', '2013-02-02']\n",
    "d = pd.to_datetime(dates)"
   ]
  },
  {
   "cell_type": "markdown",
   "metadata": {},
   "source": [
    "Crea un periodo mensual"
   ]
  },
  {
   "cell_type": "code",
   "execution_count": 174,
   "metadata": {},
   "outputs": [
    {
     "data": {
      "text/plain": [
       "PeriodIndex(['2013-02', '2012-02', '2013-02'], dtype='period[M]', freq='M')"
      ]
     },
     "execution_count": 174,
     "metadata": {},
     "output_type": "execute_result"
    }
   ],
   "source": [
    "prd = d.to_period(freq='M')\n",
    "prd"
   ]
  },
  {
   "cell_type": "code",
   "execution_count": 175,
   "metadata": {},
   "outputs": [
    {
     "data": {
      "text/plain": [
       "PeriodIndex(['2013-02-28', '2012-02-29', '2013-02-28'], dtype='period[D]', freq='D')"
      ]
     },
     "execution_count": 175,
     "metadata": {},
     "output_type": "execute_result"
    }
   ],
   "source": [
    "prd.asfreq('D')"
   ]
  },
  {
   "cell_type": "code",
   "execution_count": 176,
   "metadata": {},
   "outputs": [
    {
     "data": {
      "text/plain": [
       "PeriodIndex(['2013', '2012', '2013'], dtype='period[A-DEC]', freq='A-DEC')"
      ]
     },
     "execution_count": 176,
     "metadata": {},
     "output_type": "execute_result"
    }
   ],
   "source": [
    "prd.asfreq('Y')"
   ]
  },
  {
   "cell_type": "markdown",
   "metadata": {},
   "source": [
    "### 8.3.5 Rango"
   ]
  },
  {
   "cell_type": "code",
   "execution_count": 177,
   "metadata": {},
   "outputs": [
    {
     "data": {
      "text/plain": [
       "PeriodIndex(['2010', '2011', '2012', '2013', '2014', '2015'], dtype='period[A-DEC]', freq='A-DEC')"
      ]
     },
     "execution_count": 177,
     "metadata": {},
     "output_type": "execute_result"
    }
   ],
   "source": [
    "prg=pd.period_range('2010', '2015', freq='A')\n",
    "prg"
   ]
  },
  {
   "cell_type": "markdown",
   "metadata": {},
   "source": [
    "Crea una serie que utiliza un indice anual"
   ]
  },
  {
   "cell_type": "code",
   "execution_count": 178,
   "metadata": {},
   "outputs": [
    {
     "data": {
      "text/plain": [
       "2010    0.752444\n",
       "2011    0.959831\n",
       "          ...   \n",
       "2014    0.233064\n",
       "2015    0.657164\n",
       "Freq: A-DEC, Length: 6, dtype: float64"
      ]
     },
     "execution_count": 178,
     "metadata": {},
     "output_type": "execute_result"
    }
   ],
   "source": [
    "data = pd.Series(np.random.rand(len(prg)), index=prg)\n",
    "data"
   ]
  },
  {
   "cell_type": "markdown",
   "metadata": {},
   "source": [
    "## 8.4 Crear indices con fechas"
   ]
  },
  {
   "cell_type": "code",
   "execution_count": 179,
   "metadata": {},
   "outputs": [
    {
     "data": {
      "text/plain": [
       "DatetimeIndex(['2015-01-31', '2015-02-28', '2015-03-31', '2015-04-30',\n",
       "               '2015-05-31'],\n",
       "              dtype='datetime64[ns]', freq='M')"
      ]
     },
     "execution_count": 179,
     "metadata": {},
     "output_type": "execute_result"
    }
   ],
   "source": [
    "dates = pd.date_range('2015-01-12', '2015-06-14', freq = 'M')\n",
    "dates"
   ]
  },
  {
   "cell_type": "code",
   "execution_count": 180,
   "metadata": {},
   "outputs": [],
   "source": [
    "atemp = pd.Series([100.2, 98, 93, 98, 100], index=dates)"
   ]
  },
  {
   "cell_type": "code",
   "execution_count": 181,
   "metadata": {},
   "outputs": [
    {
     "data": {
      "text/plain": [
       "Timestamp('2015-04-30 00:00:00', freq='M')"
      ]
     },
     "execution_count": 181,
     "metadata": {},
     "output_type": "execute_result"
    }
   ],
   "source": [
    "atemp.index[3]"
   ]
  },
  {
   "cell_type": "code",
   "execution_count": 182,
   "metadata": {},
   "outputs": [],
   "source": [
    "stemp = pd.Series([89, 98, 100, 88, 89], index=dates)"
   ]
  },
  {
   "cell_type": "code",
   "execution_count": 183,
   "metadata": {},
   "outputs": [],
   "source": [
    "temps = pd.DataFrame({'Auckland':atemp, 'Delhi':stemp})"
   ]
  },
  {
   "cell_type": "code",
   "execution_count": 184,
   "metadata": {},
   "outputs": [
    {
     "data": {
      "text/plain": [
       "2015-01-31    100.2\n",
       "2015-02-28     98.0\n",
       "              ...  \n",
       "2015-04-30     98.0\n",
       "2015-05-31    100.0\n",
       "Freq: M, Name: Auckland, Length: 5, dtype: float64"
      ]
     },
     "execution_count": 184,
     "metadata": {},
     "output_type": "execute_result"
    }
   ],
   "source": [
    "temps['Auckland']"
   ]
  },
  {
   "cell_type": "code",
   "execution_count": 185,
   "metadata": {},
   "outputs": [],
   "source": [
    "temps['Diff'] = temps['Auckland'] - temps['Delhi']"
   ]
  },
  {
   "cell_type": "code",
   "execution_count": 186,
   "metadata": {},
   "outputs": [
    {
     "data": {
      "text/plain": [
       "<matplotlib.axes._subplots.AxesSubplot at 0x229e8827a48>"
      ]
     },
     "execution_count": 186,
     "metadata": {},
     "output_type": "execute_result"
    },
    {
     "data": {
      "image/png": "[encoded data removed]",
      "text/plain": [
       "<Figure size 432x288 with 1 Axes>"
      ]
     },
     "metadata": {
      "needs_background": "light"
     },
     "output_type": "display_data"
    }
   ],
   "source": [
    "temps.plot(kind='bar')"
   ]
  },
  {
   "cell_type": "code",
   "execution_count": 187,
   "metadata": {},
   "outputs": [],
   "source": [
    "del temps['Diff']"
   ]
  },
  {
   "cell_type": "markdown",
   "metadata": {},
   "source": [
    "## 8.5 Aplicacion de Time Series"
   ]
  },
  {
   "cell_type": "markdown",
   "metadata": {},
   "source": [
    "### 8.5.1 Operaciones Basicas"
   ]
  },
  {
   "cell_type": "markdown",
   "metadata": {},
   "source": [
    "Si leemos el csv de forma \"normal\", la columna con las fecha no se reconocera como un timestamp"
   ]
  },
  {
   "cell_type": "code",
   "execution_count": 188,
   "metadata": {},
   "outputs": [
    {
     "data": {
      "text/html": [
       "<div>\n",
       "<style scoped>\n",
       "    .dataframe tbody tr th:only-of-type {\n",
       "        vertical-align: middle;\n",
       "    }\n",
       "\n",
       "    .dataframe tbody tr th {\n",
       "        vertical-align: top;\n",
       "    }\n",
       "\n",
       "    .dataframe thead th {\n",
       "        text-align: right;\n",
       "    }\n",
       "</style>\n",
       "<table border=\"1\" class=\"dataframe\">\n",
       "  <thead>\n",
       "    <tr style=\"text-align: right;\">\n",
       "      <th></th>\n",
       "      <th>date</th>\n",
       "      <th>AA</th>\n",
       "      <th>GE</th>\n",
       "      <th>IBM</th>\n",
       "      <th>MSFT</th>\n",
       "    </tr>\n",
       "  </thead>\n",
       "  <tbody>\n",
       "    <tr>\n",
       "      <th>0</th>\n",
       "      <td>01/02/1990 0:00</td>\n",
       "      <td>4.98</td>\n",
       "      <td>2.87</td>\n",
       "      <td>16.79</td>\n",
       "      <td>0.51</td>\n",
       "    </tr>\n",
       "    <tr>\n",
       "      <th>1</th>\n",
       "      <td>02/02/1990 0:00</td>\n",
       "      <td>5.04</td>\n",
       "      <td>2.87</td>\n",
       "      <td>16.89</td>\n",
       "      <td>0.51</td>\n",
       "    </tr>\n",
       "    <tr>\n",
       "      <th>...</th>\n",
       "      <td>...</td>\n",
       "      <td>...</td>\n",
       "      <td>...</td>\n",
       "      <td>...</td>\n",
       "      <td>...</td>\n",
       "    </tr>\n",
       "    <tr>\n",
       "      <th>3</th>\n",
       "      <td>06/02/1990 0:00</td>\n",
       "      <td>5.01</td>\n",
       "      <td>2.88</td>\n",
       "      <td>17.56</td>\n",
       "      <td>0.51</td>\n",
       "    </tr>\n",
       "    <tr>\n",
       "      <th>4</th>\n",
       "      <td>07/02/1990 0:00</td>\n",
       "      <td>5.04</td>\n",
       "      <td>2.91</td>\n",
       "      <td>17.93</td>\n",
       "      <td>0.51</td>\n",
       "    </tr>\n",
       "  </tbody>\n",
       "</table>\n",
       "<p>5 rows × 5 columns</p>\n",
       "</div>"
      ],
      "text/plain": [
       "               date    AA    GE    IBM  MSFT\n",
       "0   01/02/1990 0:00  4.98  2.87  16.79  0.51\n",
       "1   02/02/1990 0:00  5.04  2.87  16.89  0.51\n",
       "..              ...   ...   ...    ...   ...\n",
       "3   06/02/1990 0:00  5.01  2.88  17.56  0.51\n",
       "4   07/02/1990 0:00  5.04  2.91  17.93  0.51\n",
       "\n",
       "[5 rows x 5 columns]"
      ]
     },
     "execution_count": 188,
     "metadata": {},
     "output_type": "execute_result"
    }
   ],
   "source": [
    "df = pd.read_csv('./Data/stocks.csv',delimiter=';')\n",
    "df.head()"
   ]
  },
  {
   "cell_type": "markdown",
   "metadata": {},
   "source": [
    "Veamos que efectivamente la columna date no es una fecha"
   ]
  },
  {
   "cell_type": "code",
   "execution_count": 189,
   "metadata": {},
   "outputs": [
    {
     "data": {
      "text/plain": [
       "'01/02/1990 0:00'"
      ]
     },
     "execution_count": 189,
     "metadata": {},
     "output_type": "execute_result"
    }
   ],
   "source": [
    "df.date[0]"
   ]
  },
  {
   "cell_type": "code",
   "execution_count": 190,
   "metadata": {},
   "outputs": [
    {
     "data": {
      "text/plain": [
       "dtype('O')"
      ]
     },
     "execution_count": 190,
     "metadata": {},
     "output_type": "execute_result"
    }
   ],
   "source": [
    "df['date'].dtype"
   ]
  },
  {
   "cell_type": "code",
   "execution_count": 191,
   "metadata": {},
   "outputs": [
    {
     "data": {
      "text/plain": [
       "Timestamp('1990-01-02 00:00:00')"
      ]
     },
     "execution_count": 191,
     "metadata": {},
     "output_type": "execute_result"
    }
   ],
   "source": [
    "pd.to_datetime(df.date[0])"
   ]
  },
  {
   "cell_type": "markdown",
   "metadata": {},
   "source": [
    "Podriamos convertir el string a fecha:"
   ]
  },
  {
   "cell_type": "code",
   "execution_count": 192,
   "metadata": {},
   "outputs": [],
   "source": [
    "df.date=pd.to_datetime(df.date)"
   ]
  },
  {
   "cell_type": "code",
   "execution_count": 193,
   "metadata": {},
   "outputs": [
    {
     "data": {
      "text/plain": [
       "Timestamp('1990-01-02 00:00:00')"
      ]
     },
     "execution_count": 193,
     "metadata": {},
     "output_type": "execute_result"
    }
   ],
   "source": [
    "df.date[0]"
   ]
  },
  {
   "cell_type": "code",
   "execution_count": 194,
   "metadata": {},
   "outputs": [
    {
     "data": {
      "text/plain": [
       "dtype('<M8[ns]')"
      ]
     },
     "execution_count": 194,
     "metadata": {},
     "output_type": "execute_result"
    }
   ],
   "source": [
    "df['date'].dtype"
   ]
  },
  {
   "cell_type": "code",
   "execution_count": 195,
   "metadata": {},
   "outputs": [
    {
     "data": {
      "text/html": [
       "<div>\n",
       "<style scoped>\n",
       "    .dataframe tbody tr th:only-of-type {\n",
       "        vertical-align: middle;\n",
       "    }\n",
       "\n",
       "    .dataframe tbody tr th {\n",
       "        vertical-align: top;\n",
       "    }\n",
       "\n",
       "    .dataframe thead th {\n",
       "        text-align: right;\n",
       "    }\n",
       "</style>\n",
       "<table border=\"1\" class=\"dataframe\">\n",
       "  <thead>\n",
       "    <tr style=\"text-align: right;\">\n",
       "      <th></th>\n",
       "      <th>date</th>\n",
       "      <th>AA</th>\n",
       "      <th>GE</th>\n",
       "      <th>IBM</th>\n",
       "      <th>MSFT</th>\n",
       "    </tr>\n",
       "  </thead>\n",
       "  <tbody>\n",
       "    <tr>\n",
       "      <th>0</th>\n",
       "      <td>1990-01-02</td>\n",
       "      <td>4.98</td>\n",
       "      <td>2.87</td>\n",
       "      <td>16.79</td>\n",
       "      <td>0.51</td>\n",
       "    </tr>\n",
       "    <tr>\n",
       "      <th>1</th>\n",
       "      <td>1990-02-02</td>\n",
       "      <td>5.04</td>\n",
       "      <td>2.87</td>\n",
       "      <td>16.89</td>\n",
       "      <td>0.51</td>\n",
       "    </tr>\n",
       "    <tr>\n",
       "      <th>...</th>\n",
       "      <td>...</td>\n",
       "      <td>...</td>\n",
       "      <td>...</td>\n",
       "      <td>...</td>\n",
       "      <td>...</td>\n",
       "    </tr>\n",
       "    <tr>\n",
       "      <th>3</th>\n",
       "      <td>1990-06-02</td>\n",
       "      <td>5.01</td>\n",
       "      <td>2.88</td>\n",
       "      <td>17.56</td>\n",
       "      <td>0.51</td>\n",
       "    </tr>\n",
       "    <tr>\n",
       "      <th>4</th>\n",
       "      <td>1990-07-02</td>\n",
       "      <td>5.04</td>\n",
       "      <td>2.91</td>\n",
       "      <td>17.93</td>\n",
       "      <td>0.51</td>\n",
       "    </tr>\n",
       "  </tbody>\n",
       "</table>\n",
       "<p>5 rows × 5 columns</p>\n",
       "</div>"
      ],
      "text/plain": [
       "         date    AA    GE    IBM  MSFT\n",
       "0  1990-01-02  4.98  2.87  16.79  0.51\n",
       "1  1990-02-02  5.04  2.87  16.89  0.51\n",
       "..        ...   ...   ...    ...   ...\n",
       "3  1990-06-02  5.01  2.88  17.56  0.51\n",
       "4  1990-07-02  5.04  2.91  17.93  0.51\n",
       "\n",
       "[5 rows x 5 columns]"
      ]
     },
     "execution_count": 195,
     "metadata": {},
     "output_type": "execute_result"
    }
   ],
   "source": [
    "df.head()"
   ]
  },
  {
   "cell_type": "markdown",
   "metadata": {},
   "source": [
    "Pero lo __mas practico y efectivo__ es que al leer el archivo especifiquemos que la informacion en la columna dates tiene que ser convertida a date"
   ]
  },
  {
   "cell_type": "code",
   "execution_count": 196,
   "metadata": {},
   "outputs": [],
   "source": [
    "df = pd.read_csv('./data/stocks.csv', parse_dates=['date'],delimiter=';')"
   ]
  },
  {
   "cell_type": "code",
   "execution_count": 197,
   "metadata": {},
   "outputs": [
    {
     "data": {
      "text/plain": [
       "date    datetime64[ns]\n",
       "AA             float64\n",
       "             ...      \n",
       "IBM            float64\n",
       "MSFT           float64\n",
       "Length: 5, dtype: object"
      ]
     },
     "execution_count": 197,
     "metadata": {},
     "output_type": "execute_result"
    }
   ],
   "source": [
    "df.dtypes"
   ]
  },
  {
   "cell_type": "markdown",
   "metadata": {},
   "source": [
    "Podemos crear el indice al tiempo de leer:"
   ]
  },
  {
   "cell_type": "code",
   "execution_count": 198,
   "metadata": {},
   "outputs": [],
   "source": [
    "df = pd.read_csv('./data/stocks.csv', parse_dates=['date'],delimiter=';',index_col='date')"
   ]
  },
  {
   "cell_type": "code",
   "execution_count": 199,
   "metadata": {},
   "outputs": [
    {
     "data": {
      "text/html": [
       "<div>\n",
       "<style scoped>\n",
       "    .dataframe tbody tr th:only-of-type {\n",
       "        vertical-align: middle;\n",
       "    }\n",
       "\n",
       "    .dataframe tbody tr th {\n",
       "        vertical-align: top;\n",
       "    }\n",
       "\n",
       "    .dataframe thead th {\n",
       "        text-align: right;\n",
       "    }\n",
       "</style>\n",
       "<table border=\"1\" class=\"dataframe\">\n",
       "  <thead>\n",
       "    <tr style=\"text-align: right;\">\n",
       "      <th></th>\n",
       "      <th>AA</th>\n",
       "      <th>GE</th>\n",
       "      <th>IBM</th>\n",
       "      <th>MSFT</th>\n",
       "    </tr>\n",
       "    <tr>\n",
       "      <th>date</th>\n",
       "      <th></th>\n",
       "      <th></th>\n",
       "      <th></th>\n",
       "      <th></th>\n",
       "    </tr>\n",
       "  </thead>\n",
       "  <tbody>\n",
       "    <tr>\n",
       "      <th>1990-01-02</th>\n",
       "      <td>4.98</td>\n",
       "      <td>2.87</td>\n",
       "      <td>16.79</td>\n",
       "      <td>0.51</td>\n",
       "    </tr>\n",
       "    <tr>\n",
       "      <th>1990-02-02</th>\n",
       "      <td>5.04</td>\n",
       "      <td>2.87</td>\n",
       "      <td>16.89</td>\n",
       "      <td>0.51</td>\n",
       "    </tr>\n",
       "    <tr>\n",
       "      <th>...</th>\n",
       "      <td>...</td>\n",
       "      <td>...</td>\n",
       "      <td>...</td>\n",
       "      <td>...</td>\n",
       "    </tr>\n",
       "    <tr>\n",
       "      <th>1990-06-02</th>\n",
       "      <td>5.01</td>\n",
       "      <td>2.88</td>\n",
       "      <td>17.56</td>\n",
       "      <td>0.51</td>\n",
       "    </tr>\n",
       "    <tr>\n",
       "      <th>1990-07-02</th>\n",
       "      <td>5.04</td>\n",
       "      <td>2.91</td>\n",
       "      <td>17.93</td>\n",
       "      <td>0.51</td>\n",
       "    </tr>\n",
       "  </tbody>\n",
       "</table>\n",
       "<p>5 rows × 4 columns</p>\n",
       "</div>"
      ],
      "text/plain": [
       "              AA    GE    IBM  MSFT\n",
       "date                               \n",
       "1990-01-02  4.98  2.87  16.79  0.51\n",
       "1990-02-02  5.04  2.87  16.89  0.51\n",
       "...          ...   ...    ...   ...\n",
       "1990-06-02  5.01  2.88  17.56  0.51\n",
       "1990-07-02  5.04  2.91  17.93  0.51\n",
       "\n",
       "[5 rows x 4 columns]"
      ]
     },
     "execution_count": 199,
     "metadata": {},
     "output_type": "execute_result"
    }
   ],
   "source": [
    "df.head()"
   ]
  },
  {
   "cell_type": "code",
   "execution_count": 200,
   "metadata": {},
   "outputs": [
    {
     "data": {
      "text/plain": [
       "'date'"
      ]
     },
     "execution_count": 200,
     "metadata": {},
     "output_type": "execute_result"
    }
   ],
   "source": [
    "df.index.name"
   ]
  },
  {
   "cell_type": "code",
   "execution_count": 201,
   "metadata": {},
   "outputs": [],
   "source": [
    "stocks=df.copy()"
   ]
  },
  {
   "cell_type": "markdown",
   "metadata": {},
   "source": [
    "Podemos usar el indice para recuperar por fecha. Todos los que siguen son equivalentes:"
   ]
  },
  {
   "cell_type": "code",
   "execution_count": 202,
   "metadata": {},
   "outputs": [
    {
     "data": {
      "text/html": [
       "<div>\n",
       "<style scoped>\n",
       "    .dataframe tbody tr th:only-of-type {\n",
       "        vertical-align: middle;\n",
       "    }\n",
       "\n",
       "    .dataframe tbody tr th {\n",
       "        vertical-align: top;\n",
       "    }\n",
       "\n",
       "    .dataframe thead th {\n",
       "        text-align: right;\n",
       "    }\n",
       "</style>\n",
       "<table border=\"1\" class=\"dataframe\">\n",
       "  <thead>\n",
       "    <tr style=\"text-align: right;\">\n",
       "      <th></th>\n",
       "      <th>AA</th>\n",
       "      <th>GE</th>\n",
       "      <th>IBM</th>\n",
       "      <th>MSFT</th>\n",
       "    </tr>\n",
       "    <tr>\n",
       "      <th>date</th>\n",
       "      <th></th>\n",
       "      <th></th>\n",
       "      <th></th>\n",
       "      <th></th>\n",
       "    </tr>\n",
       "  </thead>\n",
       "  <tbody>\n",
       "    <tr>\n",
       "      <th>1990-02-02</th>\n",
       "      <td>5.04</td>\n",
       "      <td>2.87</td>\n",
       "      <td>16.89</td>\n",
       "      <td>0.51</td>\n",
       "    </tr>\n",
       "  </tbody>\n",
       "</table>\n",
       "</div>"
      ],
      "text/plain": [
       "              AA    GE    IBM  MSFT\n",
       "date                               \n",
       "1990-02-02  5.04  2.87  16.89  0.51"
      ]
     },
     "execution_count": 202,
     "metadata": {},
     "output_type": "execute_result"
    }
   ],
   "source": [
    "stocks.loc['1990-Feb-02']"
   ]
  },
  {
   "cell_type": "code",
   "execution_count": 203,
   "metadata": {},
   "outputs": [
    {
     "data": {
      "text/html": [
       "<div>\n",
       "<style scoped>\n",
       "    .dataframe tbody tr th:only-of-type {\n",
       "        vertical-align: middle;\n",
       "    }\n",
       "\n",
       "    .dataframe tbody tr th {\n",
       "        vertical-align: top;\n",
       "    }\n",
       "\n",
       "    .dataframe thead th {\n",
       "        text-align: right;\n",
       "    }\n",
       "</style>\n",
       "<table border=\"1\" class=\"dataframe\">\n",
       "  <thead>\n",
       "    <tr style=\"text-align: right;\">\n",
       "      <th></th>\n",
       "      <th>AA</th>\n",
       "      <th>GE</th>\n",
       "      <th>IBM</th>\n",
       "      <th>MSFT</th>\n",
       "    </tr>\n",
       "    <tr>\n",
       "      <th>date</th>\n",
       "      <th></th>\n",
       "      <th></th>\n",
       "      <th></th>\n",
       "      <th></th>\n",
       "    </tr>\n",
       "  </thead>\n",
       "  <tbody>\n",
       "    <tr>\n",
       "      <th>1990-02-02</th>\n",
       "      <td>5.04</td>\n",
       "      <td>2.87</td>\n",
       "      <td>16.89</td>\n",
       "      <td>0.51</td>\n",
       "    </tr>\n",
       "  </tbody>\n",
       "</table>\n",
       "</div>"
      ],
      "text/plain": [
       "              AA    GE    IBM  MSFT\n",
       "date                               \n",
       "1990-02-02  5.04  2.87  16.89  0.51"
      ]
     },
     "execution_count": 203,
     "metadata": {},
     "output_type": "execute_result"
    }
   ],
   "source": [
    "stocks.loc['1990/02/02']"
   ]
  },
  {
   "cell_type": "code",
   "execution_count": 204,
   "metadata": {},
   "outputs": [
    {
     "data": {
      "text/html": [
       "<div>\n",
       "<style scoped>\n",
       "    .dataframe tbody tr th:only-of-type {\n",
       "        vertical-align: middle;\n",
       "    }\n",
       "\n",
       "    .dataframe tbody tr th {\n",
       "        vertical-align: top;\n",
       "    }\n",
       "\n",
       "    .dataframe thead th {\n",
       "        text-align: right;\n",
       "    }\n",
       "</style>\n",
       "<table border=\"1\" class=\"dataframe\">\n",
       "  <thead>\n",
       "    <tr style=\"text-align: right;\">\n",
       "      <th></th>\n",
       "      <th>AA</th>\n",
       "      <th>GE</th>\n",
       "      <th>IBM</th>\n",
       "      <th>MSFT</th>\n",
       "    </tr>\n",
       "    <tr>\n",
       "      <th>date</th>\n",
       "      <th></th>\n",
       "      <th></th>\n",
       "      <th></th>\n",
       "      <th></th>\n",
       "    </tr>\n",
       "  </thead>\n",
       "  <tbody>\n",
       "    <tr>\n",
       "      <th>1990-02-02</th>\n",
       "      <td>5.04</td>\n",
       "      <td>2.87</td>\n",
       "      <td>16.89</td>\n",
       "      <td>0.51</td>\n",
       "    </tr>\n",
       "  </tbody>\n",
       "</table>\n",
       "</div>"
      ],
      "text/plain": [
       "              AA    GE    IBM  MSFT\n",
       "date                               \n",
       "1990-02-02  5.04  2.87  16.89  0.51"
      ]
     },
     "execution_count": 204,
     "metadata": {},
     "output_type": "execute_result"
    }
   ],
   "source": [
    "stocks.loc['1990, 02, 02']"
   ]
  },
  {
   "cell_type": "markdown",
   "metadata": {},
   "source": [
    "Podemos especificar solo hasta el mes, y recuperara los datos para todos los dias del mes"
   ]
  },
  {
   "cell_type": "code",
   "execution_count": 205,
   "metadata": {},
   "outputs": [
    {
     "data": {
      "text/html": [
       "<div>\n",
       "<style scoped>\n",
       "    .dataframe tbody tr th:only-of-type {\n",
       "        vertical-align: middle;\n",
       "    }\n",
       "\n",
       "    .dataframe tbody tr th {\n",
       "        vertical-align: top;\n",
       "    }\n",
       "\n",
       "    .dataframe thead th {\n",
       "        text-align: right;\n",
       "    }\n",
       "</style>\n",
       "<table border=\"1\" class=\"dataframe\">\n",
       "  <thead>\n",
       "    <tr style=\"text-align: right;\">\n",
       "      <th></th>\n",
       "      <th>AA</th>\n",
       "      <th>GE</th>\n",
       "      <th>IBM</th>\n",
       "      <th>MSFT</th>\n",
       "    </tr>\n",
       "    <tr>\n",
       "      <th>date</th>\n",
       "      <th></th>\n",
       "      <th></th>\n",
       "      <th></th>\n",
       "      <th></th>\n",
       "    </tr>\n",
       "  </thead>\n",
       "  <tbody>\n",
       "    <tr>\n",
       "      <th>1990-02-02</th>\n",
       "      <td>5.04</td>\n",
       "      <td>2.87</td>\n",
       "      <td>16.89</td>\n",
       "      <td>0.51</td>\n",
       "    </tr>\n",
       "    <tr>\n",
       "      <th>1990-02-13</th>\n",
       "      <td>4.91</td>\n",
       "      <td>2.88</td>\n",
       "      <td>17.95</td>\n",
       "      <td>0.52</td>\n",
       "    </tr>\n",
       "    <tr>\n",
       "      <th>...</th>\n",
       "      <td>...</td>\n",
       "      <td>...</td>\n",
       "      <td>...</td>\n",
       "      <td>...</td>\n",
       "    </tr>\n",
       "    <tr>\n",
       "      <th>1990-02-10</th>\n",
       "      <td>5.20</td>\n",
       "      <td>2.65</td>\n",
       "      <td>19.25</td>\n",
       "      <td>0.72</td>\n",
       "    </tr>\n",
       "    <tr>\n",
       "      <th>1990-02-11</th>\n",
       "      <td>4.52</td>\n",
       "      <td>2.52</td>\n",
       "      <td>19.27</td>\n",
       "      <td>0.71</td>\n",
       "    </tr>\n",
       "  </tbody>\n",
       "</table>\n",
       "<p>19 rows × 4 columns</p>\n",
       "</div>"
      ],
      "text/plain": [
       "              AA    GE    IBM  MSFT\n",
       "date                               \n",
       "1990-02-02  5.04  2.87  16.89  0.51\n",
       "1990-02-13  4.91  2.88  17.95  0.52\n",
       "...          ...   ...    ...   ...\n",
       "1990-02-10  5.20  2.65  19.25  0.72\n",
       "1990-02-11  4.52  2.52  19.27  0.71\n",
       "\n",
       "[19 rows x 4 columns]"
      ]
     },
     "execution_count": 205,
     "metadata": {},
     "output_type": "execute_result"
    }
   ],
   "source": [
    "stocks.loc['1990/02']"
   ]
  },
  {
   "cell_type": "markdown",
   "metadata": {},
   "source": [
    "Un rango"
   ]
  },
  {
   "cell_type": "code",
   "execution_count": 206,
   "metadata": {},
   "outputs": [
    {
     "data": {
      "text/html": [
       "<div>\n",
       "<style scoped>\n",
       "    .dataframe tbody tr th:only-of-type {\n",
       "        vertical-align: middle;\n",
       "    }\n",
       "\n",
       "    .dataframe tbody tr th {\n",
       "        vertical-align: top;\n",
       "    }\n",
       "\n",
       "    .dataframe thead th {\n",
       "        text-align: right;\n",
       "    }\n",
       "</style>\n",
       "<table border=\"1\" class=\"dataframe\">\n",
       "  <thead>\n",
       "    <tr style=\"text-align: right;\">\n",
       "      <th></th>\n",
       "      <th>AA</th>\n",
       "      <th>GE</th>\n",
       "      <th>IBM</th>\n",
       "      <th>MSFT</th>\n",
       "    </tr>\n",
       "    <tr>\n",
       "      <th>date</th>\n",
       "      <th></th>\n",
       "      <th></th>\n",
       "      <th></th>\n",
       "      <th></th>\n",
       "    </tr>\n",
       "  </thead>\n",
       "  <tbody>\n",
       "    <tr>\n",
       "      <th>1990-02-02</th>\n",
       "      <td>5.04</td>\n",
       "      <td>2.87</td>\n",
       "      <td>16.89</td>\n",
       "      <td>0.51</td>\n",
       "    </tr>\n",
       "    <tr>\n",
       "      <th>1990-02-03</th>\n",
       "      <td>5.41</td>\n",
       "      <td>2.92</td>\n",
       "      <td>18.23</td>\n",
       "      <td>0.57</td>\n",
       "    </tr>\n",
       "    <tr>\n",
       "      <th>1990-02-04</th>\n",
       "      <td>5.18</td>\n",
       "      <td>2.99</td>\n",
       "      <td>18.41</td>\n",
       "      <td>0.61</td>\n",
       "    </tr>\n",
       "    <tr>\n",
       "      <th>1990-02-05</th>\n",
       "      <td>5.09</td>\n",
       "      <td>3.03</td>\n",
       "      <td>18.97</td>\n",
       "      <td>0.64</td>\n",
       "    </tr>\n",
       "  </tbody>\n",
       "</table>\n",
       "</div>"
      ],
      "text/plain": [
       "              AA    GE    IBM  MSFT\n",
       "date                               \n",
       "1990-02-02  5.04  2.87  16.89  0.51\n",
       "1990-02-03  5.41  2.92  18.23  0.57\n",
       "1990-02-04  5.18  2.99  18.41  0.61\n",
       "1990-02-05  5.09  3.03  18.97  0.64"
      ]
     },
     "execution_count": 206,
     "metadata": {},
     "output_type": "execute_result"
    }
   ],
   "source": [
    "stocks.loc['1990-Feb-01':'1990-Feb-06']"
   ]
  },
  {
   "cell_type": "code",
   "execution_count": 207,
   "metadata": {},
   "outputs": [
    {
     "data": {
      "text/plain": [
       "datetime.datetime(1990, 2, 1, 0, 0)"
      ]
     },
     "execution_count": 207,
     "metadata": {},
     "output_type": "execute_result"
    }
   ],
   "source": [
    "from datetime import datetime, timedelta\n",
    "start = datetime(1990, 2, 1)\n",
    "start"
   ]
  },
  {
   "cell_type": "code",
   "execution_count": 208,
   "metadata": {},
   "outputs": [
    {
     "data": {
      "text/plain": [
       "Timestamp('1990-02-06 00:00:00')"
      ]
     },
     "execution_count": 208,
     "metadata": {},
     "output_type": "execute_result"
    }
   ],
   "source": [
    "start+pd.offsets.Day(5)"
   ]
  },
  {
   "cell_type": "code",
   "execution_count": 210,
   "metadata": {},
   "outputs": [
    {
     "data": {
      "text/html": [
       "<div>\n",
       "<style scoped>\n",
       "    .dataframe tbody tr th:only-of-type {\n",
       "        vertical-align: middle;\n",
       "    }\n",
       "\n",
       "    .dataframe tbody tr th {\n",
       "        vertical-align: top;\n",
       "    }\n",
       "\n",
       "    .dataframe thead th {\n",
       "        text-align: right;\n",
       "    }\n",
       "</style>\n",
       "<table border=\"1\" class=\"dataframe\">\n",
       "  <thead>\n",
       "    <tr style=\"text-align: right;\">\n",
       "      <th></th>\n",
       "      <th>AA</th>\n",
       "      <th>GE</th>\n",
       "      <th>IBM</th>\n",
       "      <th>MSFT</th>\n",
       "    </tr>\n",
       "    <tr>\n",
       "      <th>date</th>\n",
       "      <th></th>\n",
       "      <th></th>\n",
       "      <th></th>\n",
       "      <th></th>\n",
       "    </tr>\n",
       "  </thead>\n",
       "  <tbody>\n",
       "    <tr>\n",
       "      <th>1990-01-02</th>\n",
       "      <td>4.98</td>\n",
       "      <td>2.87</td>\n",
       "      <td>16.79</td>\n",
       "      <td>0.51</td>\n",
       "    </tr>\n",
       "    <tr>\n",
       "      <th>1990-01-03</th>\n",
       "      <td>5.26</td>\n",
       "      <td>2.88</td>\n",
       "      <td>18.08</td>\n",
       "      <td>0.55</td>\n",
       "    </tr>\n",
       "    <tr>\n",
       "      <th>...</th>\n",
       "      <td>...</td>\n",
       "      <td>...</td>\n",
       "      <td>...</td>\n",
       "      <td>...</td>\n",
       "    </tr>\n",
       "    <tr>\n",
       "      <th>2011-12-09</th>\n",
       "      <td>11.55</td>\n",
       "      <td>14.87</td>\n",
       "      <td>162.42</td>\n",
       "      <td>25.89</td>\n",
       "    </tr>\n",
       "    <tr>\n",
       "      <th>2011-12-10</th>\n",
       "      <td>10.05</td>\n",
       "      <td>16.40</td>\n",
       "      <td>186.12</td>\n",
       "      <td>26.96</td>\n",
       "    </tr>\n",
       "  </tbody>\n",
       "</table>\n",
       "<p>5472 rows × 4 columns</p>\n",
       "</div>"
      ],
      "text/plain": [
       "               AA     GE     IBM   MSFT\n",
       "date                                   \n",
       "1990-01-02   4.98   2.87   16.79   0.51\n",
       "1990-01-03   5.26   2.88   18.08   0.55\n",
       "...           ...    ...     ...    ...\n",
       "2011-12-09  11.55  14.87  162.42  25.89\n",
       "2011-12-10  10.05  16.40  186.12  26.96\n",
       "\n",
       "[5472 rows x 4 columns]"
      ]
     },
     "execution_count": 210,
     "metadata": {},
     "output_type": "execute_result"
    }
   ],
   "source": [
    "stocks.sort_index()"
   ]
  },
  {
   "cell_type": "code",
   "execution_count": 223,
   "metadata": {},
   "outputs": [
    {
     "data": {
      "text/plain": [
       "Timestamp('1990-02-06 00:00:00')"
      ]
     },
     "execution_count": 223,
     "metadata": {},
     "output_type": "execute_result"
    }
   ],
   "source": [
    "start+pd.offsets.Day(5)"
   ]
  },
  {
   "cell_type": "markdown",
   "metadata": {},
   "source": [
    "### 8.5.2 Sampling"
   ]
  },
  {
   "cell_type": "markdown",
   "metadata": {},
   "source": [
    "Sampling consiste en cambiar la frecuencia de una Time Series. Puede ser __downsampling__, cuando bajamos la frecuencia, o __upsampling__, cuando la subimos"
   ]
  },
  {
   "cell_type": "code",
   "execution_count": 227,
   "metadata": {},
   "outputs": [
    {
     "name": "stderr",
     "output_type": "stream",
     "text": [
      "C:\\Users\\Eugenio\\Anaconda3\\envs\\tf2\\lib\\site-packages\\ipykernel_launcher.py:1: FutureWarning: \n",
      "Passing list-likes to .loc or [] with any missing label will raise\n",
      "KeyError in the future, you can use .reindex() as an alternative.\n",
      "\n",
      "See the documentation here:\n",
      "https://pandas.pydata.org/pandas-docs/stable/user_guide/indexing.html#deprecate-loc-reindex-listlike\n",
      "  \"\"\"Entry point for launching an IPython kernel.\n"
     ]
    },
    {
     "data": {
      "text/html": [
       "<div>\n",
       "<style scoped>\n",
       "    .dataframe tbody tr th:only-of-type {\n",
       "        vertical-align: middle;\n",
       "    }\n",
       "\n",
       "    .dataframe tbody tr th {\n",
       "        vertical-align: top;\n",
       "    }\n",
       "\n",
       "    .dataframe thead th {\n",
       "        text-align: right;\n",
       "    }\n",
       "</style>\n",
       "<table border=\"1\" class=\"dataframe\">\n",
       "  <thead>\n",
       "    <tr style=\"text-align: right;\">\n",
       "      <th></th>\n",
       "      <th>AA</th>\n",
       "      <th>GE</th>\n",
       "      <th>IBM</th>\n",
       "      <th>MSFT</th>\n",
       "    </tr>\n",
       "  </thead>\n",
       "  <tbody>\n",
       "    <tr>\n",
       "      <th>1990-01-31</th>\n",
       "      <td>NaN</td>\n",
       "      <td>NaN</td>\n",
       "      <td>NaN</td>\n",
       "      <td>NaN</td>\n",
       "    </tr>\n",
       "    <tr>\n",
       "      <th>1990-02-28</th>\n",
       "      <td>5.22</td>\n",
       "      <td>2.89</td>\n",
       "      <td>18.06</td>\n",
       "      <td>0.54</td>\n",
       "    </tr>\n",
       "    <tr>\n",
       "      <th>...</th>\n",
       "      <td>...</td>\n",
       "      <td>...</td>\n",
       "      <td>...</td>\n",
       "      <td>...</td>\n",
       "    </tr>\n",
       "    <tr>\n",
       "      <th>1990-04-30</th>\n",
       "      <td>5.07</td>\n",
       "      <td>2.99</td>\n",
       "      <td>18.95</td>\n",
       "      <td>0.63</td>\n",
       "    </tr>\n",
       "    <tr>\n",
       "      <th>1990-05-31</th>\n",
       "      <td>5.39</td>\n",
       "      <td>3.24</td>\n",
       "      <td>21.10</td>\n",
       "      <td>0.80</td>\n",
       "    </tr>\n",
       "  </tbody>\n",
       "</table>\n",
       "<p>5 rows × 4 columns</p>\n",
       "</div>"
      ],
      "text/plain": [
       "              AA    GE    IBM  MSFT\n",
       "1990-01-31   NaN   NaN    NaN   NaN\n",
       "1990-02-28  5.22  2.89  18.06  0.54\n",
       "...          ...   ...    ...   ...\n",
       "1990-04-30  5.07  2.99  18.95  0.63\n",
       "1990-05-31  5.39  3.24  21.10  0.80\n",
       "\n",
       "[5 rows x 4 columns]"
      ]
     },
     "execution_count": 227,
     "metadata": {},
     "output_type": "execute_result"
    }
   ],
   "source": [
    "stocks.loc[pd.date_range(stocks.index[0], stocks.index[-1], freq='M')].head()"
   ]
  },
  {
   "cell_type": "code",
   "execution_count": 234,
   "metadata": {},
   "outputs": [
    {
     "name": "stderr",
     "output_type": "stream",
     "text": [
      "C:\\Users\\Eugenio\\Anaconda3\\envs\\tf2\\lib\\site-packages\\ipykernel_launcher.py:1: FutureWarning: \n",
      "Passing list-likes to .loc or [] with any missing label will raise\n",
      "KeyError in the future, you can use .reindex() as an alternative.\n",
      "\n",
      "See the documentation here:\n",
      "https://pandas.pydata.org/pandas-docs/stable/user_guide/indexing.html#deprecate-loc-reindex-listlike\n",
      "  \"\"\"Entry point for launching an IPython kernel.\n"
     ]
    },
    {
     "data": {
      "text/html": [
       "<div>\n",
       "<style scoped>\n",
       "    .dataframe tbody tr th:only-of-type {\n",
       "        vertical-align: middle;\n",
       "    }\n",
       "\n",
       "    .dataframe tbody tr th {\n",
       "        vertical-align: top;\n",
       "    }\n",
       "\n",
       "    .dataframe thead th {\n",
       "        text-align: right;\n",
       "    }\n",
       "</style>\n",
       "<table border=\"1\" class=\"dataframe\">\n",
       "  <thead>\n",
       "    <tr style=\"text-align: right;\">\n",
       "      <th></th>\n",
       "      <th>AA</th>\n",
       "      <th>GE</th>\n",
       "      <th>IBM</th>\n",
       "      <th>MSFT</th>\n",
       "    </tr>\n",
       "  </thead>\n",
       "  <tbody>\n",
       "    <tr>\n",
       "      <th>1990-01-07</th>\n",
       "      <td>NaN</td>\n",
       "      <td>NaN</td>\n",
       "      <td>NaN</td>\n",
       "      <td>NaN</td>\n",
       "    </tr>\n",
       "    <tr>\n",
       "      <th>1990-01-14</th>\n",
       "      <td>NaN</td>\n",
       "      <td>NaN</td>\n",
       "      <td>NaN</td>\n",
       "      <td>NaN</td>\n",
       "    </tr>\n",
       "    <tr>\n",
       "      <th>...</th>\n",
       "      <td>...</td>\n",
       "      <td>...</td>\n",
       "      <td>...</td>\n",
       "      <td>...</td>\n",
       "    </tr>\n",
       "    <tr>\n",
       "      <th>1990-01-28</th>\n",
       "      <td>NaN</td>\n",
       "      <td>NaN</td>\n",
       "      <td>NaN</td>\n",
       "      <td>NaN</td>\n",
       "    </tr>\n",
       "    <tr>\n",
       "      <th>1990-02-04</th>\n",
       "      <td>5.18</td>\n",
       "      <td>2.99</td>\n",
       "      <td>18.41</td>\n",
       "      <td>0.61</td>\n",
       "    </tr>\n",
       "  </tbody>\n",
       "</table>\n",
       "<p>5 rows × 4 columns</p>\n",
       "</div>"
      ],
      "text/plain": [
       "              AA    GE    IBM  MSFT\n",
       "1990-01-07   NaN   NaN    NaN   NaN\n",
       "1990-01-14   NaN   NaN    NaN   NaN\n",
       "...          ...   ...    ...   ...\n",
       "1990-01-28   NaN   NaN    NaN   NaN\n",
       "1990-02-04  5.18  2.99  18.41  0.61\n",
       "\n",
       "[5 rows x 4 columns]"
      ]
     },
     "execution_count": 234,
     "metadata": {},
     "output_type": "execute_result"
    }
   ],
   "source": [
    "stocks.loc[pd.date_range(stocks.index[0], stocks.index[-1], freq='W')].head()"
   ]
  },
  {
   "cell_type": "markdown",
   "metadata": {},
   "source": [
    "#### Downsampling"
   ]
  },
  {
   "cell_type": "code",
   "execution_count": 233,
   "metadata": {},
   "outputs": [
    {
     "data": {
      "text/html": [
       "<div>\n",
       "<style scoped>\n",
       "    .dataframe tbody tr th:only-of-type {\n",
       "        vertical-align: middle;\n",
       "    }\n",
       "\n",
       "    .dataframe tbody tr th {\n",
       "        vertical-align: top;\n",
       "    }\n",
       "\n",
       "    .dataframe thead th {\n",
       "        text-align: right;\n",
       "    }\n",
       "</style>\n",
       "<table border=\"1\" class=\"dataframe\">\n",
       "  <thead>\n",
       "    <tr style=\"text-align: right;\">\n",
       "      <th></th>\n",
       "      <th>AA</th>\n",
       "      <th>GE</th>\n",
       "      <th>IBM</th>\n",
       "      <th>MSFT</th>\n",
       "    </tr>\n",
       "    <tr>\n",
       "      <th>date</th>\n",
       "      <th></th>\n",
       "      <th></th>\n",
       "      <th></th>\n",
       "      <th></th>\n",
       "    </tr>\n",
       "  </thead>\n",
       "  <tbody>\n",
       "    <tr>\n",
       "      <th>1990-01-07</th>\n",
       "      <td>5.192500</td>\n",
       "      <td>3.007500</td>\n",
       "      <td>18.665000</td>\n",
       "      <td>0.625000</td>\n",
       "    </tr>\n",
       "    <tr>\n",
       "      <th>1990-01-14</th>\n",
       "      <td>5.106667</td>\n",
       "      <td>2.850000</td>\n",
       "      <td>19.356667</td>\n",
       "      <td>0.716667</td>\n",
       "    </tr>\n",
       "    <tr>\n",
       "      <th>...</th>\n",
       "      <td>...</td>\n",
       "      <td>...</td>\n",
       "      <td>...</td>\n",
       "      <td>...</td>\n",
       "    </tr>\n",
       "    <tr>\n",
       "      <th>1990-01-28</th>\n",
       "      <td>NaN</td>\n",
       "      <td>NaN</td>\n",
       "      <td>NaN</td>\n",
       "      <td>NaN</td>\n",
       "    </tr>\n",
       "    <tr>\n",
       "      <th>1990-02-04</th>\n",
       "      <td>5.210000</td>\n",
       "      <td>2.926667</td>\n",
       "      <td>17.843333</td>\n",
       "      <td>0.563333</td>\n",
       "    </tr>\n",
       "  </tbody>\n",
       "</table>\n",
       "<p>5 rows × 4 columns</p>\n",
       "</div>"
      ],
      "text/plain": [
       "                  AA        GE        IBM      MSFT\n",
       "date                                               \n",
       "1990-01-07  5.192500  3.007500  18.665000  0.625000\n",
       "1990-01-14  5.106667  2.850000  19.356667  0.716667\n",
       "...              ...       ...        ...       ...\n",
       "1990-01-28       NaN       NaN        NaN       NaN\n",
       "1990-02-04  5.210000  2.926667  17.843333  0.563333\n",
       "\n",
       "[5 rows x 4 columns]"
      ]
     },
     "execution_count": 233,
     "metadata": {},
     "output_type": "execute_result"
    }
   ],
   "source": [
    "stocks.resample('W').mean().head()"
   ]
  },
  {
   "cell_type": "markdown",
   "metadata": {},
   "source": [
    "#### Upsampling\n",
    "En este caso van a aparecer NaN. Podemos rellenarlas usando el metodo forward fill"
   ]
  },
  {
   "cell_type": "code",
   "execution_count": 238,
   "metadata": {},
   "outputs": [
    {
     "data": {
      "text/html": [
       "<div>\n",
       "<style scoped>\n",
       "    .dataframe tbody tr th:only-of-type {\n",
       "        vertical-align: middle;\n",
       "    }\n",
       "\n",
       "    .dataframe tbody tr th {\n",
       "        vertical-align: top;\n",
       "    }\n",
       "\n",
       "    .dataframe thead th {\n",
       "        text-align: right;\n",
       "    }\n",
       "</style>\n",
       "<table border=\"1\" class=\"dataframe\">\n",
       "  <thead>\n",
       "    <tr style=\"text-align: right;\">\n",
       "      <th></th>\n",
       "      <th>AA</th>\n",
       "      <th>GE</th>\n",
       "      <th>IBM</th>\n",
       "      <th>MSFT</th>\n",
       "    </tr>\n",
       "    <tr>\n",
       "      <th>date</th>\n",
       "      <th></th>\n",
       "      <th></th>\n",
       "      <th></th>\n",
       "      <th></th>\n",
       "    </tr>\n",
       "  </thead>\n",
       "  <tbody>\n",
       "    <tr>\n",
       "      <th>1990-01-02</th>\n",
       "      <td>4.98</td>\n",
       "      <td>2.87</td>\n",
       "      <td>16.79</td>\n",
       "      <td>0.51</td>\n",
       "    </tr>\n",
       "    <tr>\n",
       "      <th>1990-01-03</th>\n",
       "      <td>5.26</td>\n",
       "      <td>2.88</td>\n",
       "      <td>18.08</td>\n",
       "      <td>0.55</td>\n",
       "    </tr>\n",
       "    <tr>\n",
       "      <th>...</th>\n",
       "      <td>...</td>\n",
       "      <td>...</td>\n",
       "      <td>...</td>\n",
       "      <td>...</td>\n",
       "    </tr>\n",
       "    <tr>\n",
       "      <th>2011-12-08</th>\n",
       "      <td>12.26</td>\n",
       "      <td>15.73</td>\n",
       "      <td>168.20</td>\n",
       "      <td>24.94</td>\n",
       "    </tr>\n",
       "    <tr>\n",
       "      <th>2011-12-09</th>\n",
       "      <td>11.55</td>\n",
       "      <td>14.87</td>\n",
       "      <td>162.42</td>\n",
       "      <td>25.89</td>\n",
       "    </tr>\n",
       "  </tbody>\n",
       "</table>\n",
       "<p>5724 rows × 4 columns</p>\n",
       "</div>"
      ],
      "text/plain": [
       "               AA     GE     IBM   MSFT\n",
       "date                                   \n",
       "1990-01-02   4.98   2.87   16.79   0.51\n",
       "1990-01-03   5.26   2.88   18.08   0.55\n",
       "...           ...    ...     ...    ...\n",
       "2011-12-08  12.26  15.73  168.20  24.94\n",
       "2011-12-09  11.55  14.87  162.42  25.89\n",
       "\n",
       "[5724 rows x 4 columns]"
      ]
     },
     "execution_count": 238,
     "metadata": {},
     "output_type": "execute_result"
    }
   ],
   "source": [
    "rs = stocks.resample('B').asfreq()\n",
    "rs"
   ]
  },
  {
   "cell_type": "code",
   "execution_count": 239,
   "metadata": {},
   "outputs": [
    {
     "data": {
      "text/html": [
       "<div>\n",
       "<style scoped>\n",
       "    .dataframe tbody tr th:only-of-type {\n",
       "        vertical-align: middle;\n",
       "    }\n",
       "\n",
       "    .dataframe tbody tr th {\n",
       "        vertical-align: top;\n",
       "    }\n",
       "\n",
       "    .dataframe thead th {\n",
       "        text-align: right;\n",
       "    }\n",
       "</style>\n",
       "<table border=\"1\" class=\"dataframe\">\n",
       "  <thead>\n",
       "    <tr style=\"text-align: right;\">\n",
       "      <th></th>\n",
       "      <th>AA</th>\n",
       "      <th>GE</th>\n",
       "      <th>IBM</th>\n",
       "      <th>MSFT</th>\n",
       "    </tr>\n",
       "    <tr>\n",
       "      <th>date</th>\n",
       "      <th></th>\n",
       "      <th></th>\n",
       "      <th></th>\n",
       "      <th></th>\n",
       "    </tr>\n",
       "  </thead>\n",
       "  <tbody>\n",
       "    <tr>\n",
       "      <th>1990-01-02</th>\n",
       "      <td>4.98</td>\n",
       "      <td>2.87</td>\n",
       "      <td>16.79</td>\n",
       "      <td>0.51</td>\n",
       "    </tr>\n",
       "    <tr>\n",
       "      <th>1990-01-03</th>\n",
       "      <td>5.26</td>\n",
       "      <td>2.88</td>\n",
       "      <td>18.08</td>\n",
       "      <td>0.55</td>\n",
       "    </tr>\n",
       "    <tr>\n",
       "      <th>...</th>\n",
       "      <td>...</td>\n",
       "      <td>...</td>\n",
       "      <td>...</td>\n",
       "      <td>...</td>\n",
       "    </tr>\n",
       "    <tr>\n",
       "      <th>2011-12-08</th>\n",
       "      <td>12.26</td>\n",
       "      <td>15.73</td>\n",
       "      <td>168.20</td>\n",
       "      <td>24.94</td>\n",
       "    </tr>\n",
       "    <tr>\n",
       "      <th>2011-12-09</th>\n",
       "      <td>11.55</td>\n",
       "      <td>14.87</td>\n",
       "      <td>162.42</td>\n",
       "      <td>25.89</td>\n",
       "    </tr>\n",
       "  </tbody>\n",
       "</table>\n",
       "<p>5724 rows × 4 columns</p>\n",
       "</div>"
      ],
      "text/plain": [
       "               AA     GE     IBM   MSFT\n",
       "date                                   \n",
       "1990-01-02   4.98   2.87   16.79   0.51\n",
       "1990-01-03   5.26   2.88   18.08   0.55\n",
       "...           ...    ...     ...    ...\n",
       "2011-12-08  12.26  15.73  168.20  24.94\n",
       "2011-12-09  11.55  14.87  162.42  25.89\n",
       "\n",
       "[5724 rows x 4 columns]"
      ]
     },
     "execution_count": 239,
     "metadata": {},
     "output_type": "execute_result"
    }
   ],
   "source": [
    "rs = stocks.resample('B').asfreq().fillna(method='ffill')\n",
    "rs"
   ]
  },
  {
   "cell_type": "markdown",
   "metadata": {},
   "source": [
    "### 8.5.3 Graficos"
   ]
  },
  {
   "cell_type": "code",
   "execution_count": 240,
   "metadata": {},
   "outputs": [
    {
     "data": {
      "text/plain": [
       "<matplotlib.axes._subplots.AxesSubplot at 0x229ed49e648>"
      ]
     },
     "execution_count": 240,
     "metadata": {},
     "output_type": "execute_result"
    },
    {
     "data": {
      "image/png": "[encoded data removed]",
      "text/plain": [
       "<Figure size 432x288 with 1 Axes>"
      ]
     },
     "metadata": {
      "needs_background": "light"
     },
     "output_type": "display_data"
    }
   ],
   "source": [
    "stocks.AA.plot()"
   ]
  },
  {
   "cell_type": "code",
   "execution_count": 241,
   "metadata": {},
   "outputs": [
    {
     "data": {
      "text/plain": [
       "<matplotlib.axes._subplots.AxesSubplot at 0x229e86c3748>"
      ]
     },
     "execution_count": 241,
     "metadata": {},
     "output_type": "execute_result"
    },
    {
     "data": {
      "image/png": "[encoded data removed]",
      "text/plain": [
       "<Figure size 432x288 with 1 Axes>"
      ]
     },
     "metadata": {
      "needs_background": "light"
     },
     "output_type": "display_data"
    }
   ],
   "source": [
    "stocks.loc['1990':'1995', ['AA', 'IBM', 'MSFT', 'GE']].plot()"
   ]
  },
  {
   "cell_type": "markdown",
   "metadata": {},
   "source": [
    "#### Rolling Windows"
   ]
  },
  {
   "cell_type": "code",
   "execution_count": 244,
   "metadata": {},
   "outputs": [
    {
     "data": {
      "text/plain": [
       "<matplotlib.axes._subplots.AxesSubplot at 0x229eeaf8688>"
      ]
     },
     "execution_count": 244,
     "metadata": {},
     "output_type": "execute_result"
    },
    {
     "data": {
      "image/png": "[encoded data removed]",
      "text/plain": [
       "<Figure size 432x288 with 1 Axes>"
      ]
     },
     "metadata": {
      "needs_background": "light"
     },
     "output_type": "display_data"
    }
   ],
   "source": [
    "stocks.AA.plot()\n",
    "stocks.AA.rolling(window=200,center=False).mean().plot()"
   ]
  },
  {
   "cell_type": "markdown",
   "metadata": {},
   "source": [
    "# 9. Leer Varios Archivos"
   ]
  },
  {
   "cell_type": "code",
   "execution_count": 248,
   "metadata": {},
   "outputs": [
    {
     "data": {
      "text/plain": [
       "2000"
      ]
     },
     "execution_count": 248,
     "metadata": {},
     "output_type": "execute_result"
    }
   ],
   "source": [
    "names1880 = pd.read_csv('./data/names/yob1880.txt', names=['name', 'gender', 'birthcount'])\n",
    "len(names1880)"
   ]
  },
  {
   "cell_type": "code",
   "execution_count": 250,
   "metadata": {},
   "outputs": [
    {
     "data": {
      "text/html": [
       "<div>\n",
       "<style scoped>\n",
       "    .dataframe tbody tr th:only-of-type {\n",
       "        vertical-align: middle;\n",
       "    }\n",
       "\n",
       "    .dataframe tbody tr th {\n",
       "        vertical-align: top;\n",
       "    }\n",
       "\n",
       "    .dataframe thead th {\n",
       "        text-align: right;\n",
       "    }\n",
       "</style>\n",
       "<table border=\"1\" class=\"dataframe\">\n",
       "  <thead>\n",
       "    <tr style=\"text-align: right;\">\n",
       "      <th></th>\n",
       "      <th>name</th>\n",
       "      <th>gender</th>\n",
       "      <th>birthcount</th>\n",
       "    </tr>\n",
       "  </thead>\n",
       "  <tbody>\n",
       "    <tr>\n",
       "      <th>0</th>\n",
       "      <td>Mary</td>\n",
       "      <td>F</td>\n",
       "      <td>7065</td>\n",
       "    </tr>\n",
       "    <tr>\n",
       "      <th>1</th>\n",
       "      <td>Anna</td>\n",
       "      <td>F</td>\n",
       "      <td>2604</td>\n",
       "    </tr>\n",
       "    <tr>\n",
       "      <th>...</th>\n",
       "      <td>...</td>\n",
       "      <td>...</td>\n",
       "      <td>...</td>\n",
       "    </tr>\n",
       "    <tr>\n",
       "      <th>3</th>\n",
       "      <td>Elizabeth</td>\n",
       "      <td>F</td>\n",
       "      <td>1939</td>\n",
       "    </tr>\n",
       "    <tr>\n",
       "      <th>4</th>\n",
       "      <td>Minnie</td>\n",
       "      <td>F</td>\n",
       "      <td>1746</td>\n",
       "    </tr>\n",
       "  </tbody>\n",
       "</table>\n",
       "<p>5 rows × 3 columns</p>\n",
       "</div>"
      ],
      "text/plain": [
       "         name gender  birthcount\n",
       "0        Mary      F        7065\n",
       "1        Anna      F        2604\n",
       "..        ...    ...         ...\n",
       "3   Elizabeth      F        1939\n",
       "4      Minnie      F        1746\n",
       "\n",
       "[5 rows x 3 columns]"
      ]
     },
     "execution_count": 250,
     "metadata": {},
     "output_type": "execute_result"
    }
   ],
   "source": [
    "names1880.head()"
   ]
  },
  {
   "cell_type": "code",
   "execution_count": 251,
   "metadata": {},
   "outputs": [
    {
     "data": {
      "text/plain": [
       "gender\n",
       "F     90993\n",
       "M    110493\n",
       "Name: birthcount, dtype: int64"
      ]
     },
     "execution_count": 251,
     "metadata": {},
     "output_type": "execute_result"
    }
   ],
   "source": [
    "names1880.groupby('gender').birthcount.sum()"
   ]
  },
  {
   "cell_type": "markdown",
   "metadata": {},
   "source": [
    "## 9.1 Pivot Table"
   ]
  },
  {
   "cell_type": "code",
   "execution_count": 254,
   "metadata": {},
   "outputs": [
    {
     "data": {
      "text/plain": [
       "105903"
      ]
     },
     "execution_count": 254,
     "metadata": {},
     "output_type": "execute_result"
    }
   ],
   "source": [
    "years = range(1880, 1887)\n",
    "pieces = []\n",
    "columns = ['name', 'gender', 'birthcount']\n",
    "for year in years:\n",
    "    path = './data/names/yob{}.txt'.format(year)\n",
    "    columns = ['name', 'gender', 'birthcount']\n",
    "    for year in years:\n",
    "        path = './data/names/yob{}.txt'.format(year)\n",
    "        df = pd.read_csv(path, names=columns)\n",
    "        df['year']=year\n",
    "        pieces.append(df)\n",
    "        allData = pd.concat(pieces, ignore_index=True)\n",
    "\n",
    "len(allData)"
   ]
  },
  {
   "cell_type": "code",
   "execution_count": 255,
   "metadata": {},
   "outputs": [
    {
     "data": {
      "text/html": [
       "<div>\n",
       "<style scoped>\n",
       "    .dataframe tbody tr th:only-of-type {\n",
       "        vertical-align: middle;\n",
       "    }\n",
       "\n",
       "    .dataframe tbody tr th {\n",
       "        vertical-align: top;\n",
       "    }\n",
       "\n",
       "    .dataframe thead th {\n",
       "        text-align: right;\n",
       "    }\n",
       "</style>\n",
       "<table border=\"1\" class=\"dataframe\">\n",
       "  <thead>\n",
       "    <tr style=\"text-align: right;\">\n",
       "      <th></th>\n",
       "      <th>name</th>\n",
       "      <th>gender</th>\n",
       "      <th>birthcount</th>\n",
       "      <th>year</th>\n",
       "    </tr>\n",
       "  </thead>\n",
       "  <tbody>\n",
       "    <tr>\n",
       "      <th>0</th>\n",
       "      <td>Mary</td>\n",
       "      <td>F</td>\n",
       "      <td>7065</td>\n",
       "      <td>1880</td>\n",
       "    </tr>\n",
       "    <tr>\n",
       "      <th>1</th>\n",
       "      <td>Anna</td>\n",
       "      <td>F</td>\n",
       "      <td>2604</td>\n",
       "      <td>1880</td>\n",
       "    </tr>\n",
       "  </tbody>\n",
       "</table>\n",
       "</div>"
      ],
      "text/plain": [
       "   name gender  birthcount  year\n",
       "0  Mary      F        7065  1880\n",
       "1  Anna      F        2604  1880"
      ]
     },
     "execution_count": 255,
     "metadata": {},
     "output_type": "execute_result"
    }
   ],
   "source": [
    "allData.head(2)"
   ]
  },
  {
   "cell_type": "code",
   "execution_count": 256,
   "metadata": {},
   "outputs": [
    {
     "data": {
      "text/html": [
       "<div>\n",
       "<style scoped>\n",
       "    .dataframe tbody tr th:only-of-type {\n",
       "        vertical-align: middle;\n",
       "    }\n",
       "\n",
       "    .dataframe tbody tr th {\n",
       "        vertical-align: top;\n",
       "    }\n",
       "\n",
       "    .dataframe thead th {\n",
       "        text-align: right;\n",
       "    }\n",
       "</style>\n",
       "<table border=\"1\" class=\"dataframe\">\n",
       "  <thead>\n",
       "    <tr style=\"text-align: right;\">\n",
       "      <th>gender</th>\n",
       "      <th>F</th>\n",
       "      <th>M</th>\n",
       "    </tr>\n",
       "    <tr>\n",
       "      <th>year</th>\n",
       "      <th></th>\n",
       "      <th></th>\n",
       "    </tr>\n",
       "  </thead>\n",
       "  <tbody>\n",
       "    <tr>\n",
       "      <th>1880</th>\n",
       "      <td>636951</td>\n",
       "      <td>773451</td>\n",
       "    </tr>\n",
       "    <tr>\n",
       "      <th>1881</th>\n",
       "      <td>643685</td>\n",
       "      <td>705236</td>\n",
       "    </tr>\n",
       "    <tr>\n",
       "      <th>1882</th>\n",
       "      <td>754957</td>\n",
       "      <td>795809</td>\n",
       "    </tr>\n",
       "  </tbody>\n",
       "</table>\n",
       "</div>"
      ],
      "text/plain": [
       "gender       F       M\n",
       "year                  \n",
       "1880    636951  773451\n",
       "1881    643685  705236\n",
       "1882    754957  795809"
      ]
     },
     "execution_count": 256,
     "metadata": {},
     "output_type": "execute_result"
    }
   ],
   "source": [
    "total_births = allData.pivot_table('birthcount', index=['year'], columns=['gender'], aggfunc=sum)\n",
    "total_births.head(3)"
   ]
  },
  {
   "cell_type": "code",
   "execution_count": 257,
   "metadata": {},
   "outputs": [
    {
     "data": {
      "text/plain": [
       "<matplotlib.axes._subplots.AxesSubplot at 0x229efdff208>"
      ]
     },
     "execution_count": 257,
     "metadata": {},
     "output_type": "execute_result"
    },
    {
     "data": {
      "image/png": "[encoded data removed]",
      "text/plain": [
       "<Figure size 432x288 with 1 Axes>"
      ]
     },
     "metadata": {
      "needs_background": "light"
     },
     "output_type": "display_data"
    }
   ],
   "source": [
    "total_births.plot(kind='bar')"
   ]
  },
  {
   "cell_type": "code",
   "execution_count": 260,
   "metadata": {},
   "outputs": [
    {
     "data": {
      "text/html": [
       "<div>\n",
       "<style scoped>\n",
       "    .dataframe tbody tr th:only-of-type {\n",
       "        vertical-align: middle;\n",
       "    }\n",
       "\n",
       "    .dataframe tbody tr th {\n",
       "        vertical-align: top;\n",
       "    }\n",
       "\n",
       "    .dataframe thead tr th {\n",
       "        text-align: left;\n",
       "    }\n",
       "\n",
       "    .dataframe thead tr:last-of-type th {\n",
       "        text-align: right;\n",
       "    }\n",
       "</style>\n",
       "<table border=\"1\" class=\"dataframe\">\n",
       "  <thead>\n",
       "    <tr>\n",
       "      <th></th>\n",
       "      <th colspan=\"2\" halign=\"left\">birthcount</th>\n",
       "    </tr>\n",
       "    <tr>\n",
       "      <th>gender</th>\n",
       "      <th>F</th>\n",
       "      <th>M</th>\n",
       "    </tr>\n",
       "    <tr>\n",
       "      <th>year</th>\n",
       "      <th></th>\n",
       "      <th></th>\n",
       "    </tr>\n",
       "  </thead>\n",
       "  <tbody>\n",
       "    <tr>\n",
       "      <th>1880</th>\n",
       "      <td>636951</td>\n",
       "      <td>773451</td>\n",
       "    </tr>\n",
       "    <tr>\n",
       "      <th>1881</th>\n",
       "      <td>643685</td>\n",
       "      <td>705236</td>\n",
       "    </tr>\n",
       "    <tr>\n",
       "      <th>1882</th>\n",
       "      <td>754957</td>\n",
       "      <td>795809</td>\n",
       "    </tr>\n",
       "  </tbody>\n",
       "</table>\n",
       "</div>"
      ],
      "text/plain": [
       "       birthcount        \n",
       "gender          F       M\n",
       "year                     \n",
       "1880       636951  773451\n",
       "1881       643685  705236\n",
       "1882       754957  795809"
      ]
     },
     "execution_count": 260,
     "metadata": {},
     "output_type": "execute_result"
    }
   ],
   "source": [
    "allData.groupby(['year', 'gender']).sum().unstack('gender').head(3)"
   ]
  },
  {
   "cell_type": "code",
   "execution_count": 267,
   "metadata": {},
   "outputs": [],
   "source": [
    "def add_prop(group):\n",
    "    births = group.birthcount.astype(float)\n",
    "    group['prop'] = births/births.sum() # add column prop\n",
    "    return group"
   ]
  },
  {
   "cell_type": "code",
   "execution_count": 268,
   "metadata": {},
   "outputs": [
    {
     "data": {
      "text/html": [
       "<div>\n",
       "<style scoped>\n",
       "    .dataframe tbody tr th:only-of-type {\n",
       "        vertical-align: middle;\n",
       "    }\n",
       "\n",
       "    .dataframe tbody tr th {\n",
       "        vertical-align: top;\n",
       "    }\n",
       "\n",
       "    .dataframe thead th {\n",
       "        text-align: right;\n",
       "    }\n",
       "</style>\n",
       "<table border=\"1\" class=\"dataframe\">\n",
       "  <thead>\n",
       "    <tr style=\"text-align: right;\">\n",
       "      <th></th>\n",
       "      <th>name</th>\n",
       "      <th>gender</th>\n",
       "      <th>birthcount</th>\n",
       "      <th>year</th>\n",
       "      <th>prop</th>\n",
       "    </tr>\n",
       "  </thead>\n",
       "  <tbody>\n",
       "    <tr>\n",
       "      <th>0</th>\n",
       "      <td>Mary</td>\n",
       "      <td>F</td>\n",
       "      <td>7065</td>\n",
       "      <td>1880</td>\n",
       "      <td>0.011092</td>\n",
       "    </tr>\n",
       "    <tr>\n",
       "      <th>1</th>\n",
       "      <td>Anna</td>\n",
       "      <td>F</td>\n",
       "      <td>2604</td>\n",
       "      <td>1880</td>\n",
       "      <td>0.004088</td>\n",
       "    </tr>\n",
       "    <tr>\n",
       "      <th>...</th>\n",
       "      <td>...</td>\n",
       "      <td>...</td>\n",
       "      <td>...</td>\n",
       "      <td>...</td>\n",
       "      <td>...</td>\n",
       "    </tr>\n",
       "    <tr>\n",
       "      <th>3</th>\n",
       "      <td>Elizabeth</td>\n",
       "      <td>F</td>\n",
       "      <td>1939</td>\n",
       "      <td>1880</td>\n",
       "      <td>0.003044</td>\n",
       "    </tr>\n",
       "    <tr>\n",
       "      <th>4</th>\n",
       "      <td>Minnie</td>\n",
       "      <td>F</td>\n",
       "      <td>1746</td>\n",
       "      <td>1880</td>\n",
       "      <td>0.002741</td>\n",
       "    </tr>\n",
       "  </tbody>\n",
       "</table>\n",
       "<p>5 rows × 5 columns</p>\n",
       "</div>"
      ],
      "text/plain": [
       "         name gender  birthcount  year      prop\n",
       "0        Mary      F        7065  1880  0.011092\n",
       "1        Anna      F        2604  1880  0.004088\n",
       "..        ...    ...         ...   ...       ...\n",
       "3   Elizabeth      F        1939  1880  0.003044\n",
       "4      Minnie      F        1746  1880  0.002741\n",
       "\n",
       "[5 rows x 5 columns]"
      ]
     },
     "execution_count": 268,
     "metadata": {},
     "output_type": "execute_result"
    }
   ],
   "source": [
    "names = allData.groupby(['year', 'gender']).apply(add_prop)\n",
    "names.head()"
   ]
  },
  {
   "cell_type": "markdown",
   "metadata": {},
   "source": [
    "## 9.2 Crosstab\n",
    "\n",
    "Busca correlaciones"
   ]
  },
  {
   "cell_type": "code",
   "execution_count": 277,
   "metadata": {},
   "outputs": [
    {
     "data": {
      "text/html": [
       "<div>\n",
       "<style scoped>\n",
       "    .dataframe tbody tr th:only-of-type {\n",
       "        vertical-align: middle;\n",
       "    }\n",
       "\n",
       "    .dataframe tbody tr th {\n",
       "        vertical-align: top;\n",
       "    }\n",
       "\n",
       "    .dataframe thead th {\n",
       "        text-align: right;\n",
       "    }\n",
       "</style>\n",
       "<table border=\"1\" class=\"dataframe\">\n",
       "  <thead>\n",
       "    <tr style=\"text-align: right;\">\n",
       "      <th>year</th>\n",
       "      <th>1880</th>\n",
       "      <th>1881</th>\n",
       "      <th>1882</th>\n",
       "      <th>1883</th>\n",
       "      <th>1884</th>\n",
       "      <th>1885</th>\n",
       "      <th>1886</th>\n",
       "      <th>All</th>\n",
       "    </tr>\n",
       "    <tr>\n",
       "      <th>birthcount</th>\n",
       "      <th></th>\n",
       "      <th></th>\n",
       "      <th></th>\n",
       "      <th></th>\n",
       "      <th></th>\n",
       "      <th></th>\n",
       "      <th></th>\n",
       "      <th></th>\n",
       "    </tr>\n",
       "  </thead>\n",
       "  <tbody>\n",
       "    <tr>\n",
       "      <th>5</th>\n",
       "      <td>1799</td>\n",
       "      <td>1687</td>\n",
       "      <td>1946</td>\n",
       "      <td>1918</td>\n",
       "      <td>2128</td>\n",
       "      <td>2191</td>\n",
       "      <td>2289</td>\n",
       "      <td>13958</td>\n",
       "    </tr>\n",
       "    <tr>\n",
       "      <th>6</th>\n",
       "      <td>1386</td>\n",
       "      <td>1225</td>\n",
       "      <td>1407</td>\n",
       "      <td>1372</td>\n",
       "      <td>1519</td>\n",
       "      <td>1582</td>\n",
       "      <td>1603</td>\n",
       "      <td>10094</td>\n",
       "    </tr>\n",
       "    <tr>\n",
       "      <th>...</th>\n",
       "      <td>...</td>\n",
       "      <td>...</td>\n",
       "      <td>...</td>\n",
       "      <td>...</td>\n",
       "      <td>...</td>\n",
       "      <td>...</td>\n",
       "      <td>...</td>\n",
       "      <td>...</td>\n",
       "    </tr>\n",
       "    <tr>\n",
       "      <th>9891</th>\n",
       "      <td>0</td>\n",
       "      <td>0</td>\n",
       "      <td>0</td>\n",
       "      <td>0</td>\n",
       "      <td>0</td>\n",
       "      <td>0</td>\n",
       "      <td>7</td>\n",
       "      <td>7</td>\n",
       "    </tr>\n",
       "    <tr>\n",
       "      <th>All</th>\n",
       "      <td>14000</td>\n",
       "      <td>13545</td>\n",
       "      <td>14889</td>\n",
       "      <td>14588</td>\n",
       "      <td>16079</td>\n",
       "      <td>16058</td>\n",
       "      <td>16744</td>\n",
       "      <td>105903</td>\n",
       "    </tr>\n",
       "  </tbody>\n",
       "</table>\n",
       "<p>982 rows × 8 columns</p>\n",
       "</div>"
      ],
      "text/plain": [
       "year         1880   1881   1882   1883   1884   1885   1886     All\n",
       "birthcount                                                         \n",
       "5            1799   1687   1946   1918   2128   2191   2289   13958\n",
       "6            1386   1225   1407   1372   1519   1582   1603   10094\n",
       "...           ...    ...    ...    ...    ...    ...    ...     ...\n",
       "9891            0      0      0      0      0      0      7       7\n",
       "All         14000  13545  14889  14588  16079  16058  16744  105903\n",
       "\n",
       "[982 rows x 8 columns]"
      ]
     },
     "execution_count": 277,
     "metadata": {},
     "output_type": "execute_result"
    }
   ],
   "source": [
    "pd.crosstab(allData[\"birthcount\"],allData[\"year\"],margins=True)"
   ]
  },
  {
   "cell_type": "code",
   "execution_count": 278,
   "metadata": {},
   "outputs": [
    {
     "data": {
      "text/plain": [
       "<matplotlib.axes._subplots.AxesSubplot at 0x229f1426408>"
      ]
     },
     "execution_count": 278,
     "metadata": {},
     "output_type": "execute_result"
    },
    {
     "data": {
      "image/png": "[encoded data removed]",
      "text/plain": [
       "<Figure size 432x288 with 1 Axes>"
      ]
     },
     "metadata": {
      "needs_background": "light"
     },
     "output_type": "display_data"
    }
   ],
   "source": [
    "allData.boxplot(column=\"birthcount\",by=\"year\")"
   ]
  },
  {
   "cell_type": "code",
   "execution_count": 279,
   "metadata": {},
   "outputs": [
    {
     "data": {
      "text/plain": [
       "array([[<matplotlib.axes._subplots.AxesSubplot object at 0x00000229F18BF0C8>,\n",
       "        <matplotlib.axes._subplots.AxesSubplot object at 0x0000022987C71C48>,\n",
       "        <matplotlib.axes._subplots.AxesSubplot object at 0x0000022987C599C8>],\n",
       "       [<matplotlib.axes._subplots.AxesSubplot object at 0x0000022987BFF288>,\n",
       "        <matplotlib.axes._subplots.AxesSubplot object at 0x0000022987BE5148>,\n",
       "        <matplotlib.axes._subplots.AxesSubplot object at 0x0000022987C1BC48>],\n",
       "       [<matplotlib.axes._subplots.AxesSubplot object at 0x0000022987C47FC8>,\n",
       "        <matplotlib.axes._subplots.AxesSubplot object at 0x00000229F1413C48>,\n",
       "        <matplotlib.axes._subplots.AxesSubplot object at 0x0000022987C9C808>]],\n",
       "      dtype=object)"
      ]
     },
     "execution_count": 279,
     "metadata": {},
     "output_type": "execute_result"
    },
    {
     "data": {
      "image/png": "[encoded data removed]",
      "text/plain": [
       "<Figure size 432x288 with 9 Axes>"
      ]
     },
     "metadata": {
      "needs_background": "light"
     },
     "output_type": "display_data"
    }
   ],
   "source": [
    "allData.hist(column=\"birthcount\",by=\"year\",bins=30)"
   ]
  }
 ],
 "metadata": {
  "kernelspec": {
   "display_name": "Python 3",
   "language": "python",
   "name": "python3"
  },
  "language_info": {
   "codemirror_mode": {
    "name": "ipython",
    "version": 3
   },
   "file_extension": ".py",
   "mimetype": "text/x-python",
   "name": "python",
   "nbconvert_exporter": "python",
   "pygments_lexer": "ipython3",
   "version": "3.7.5"
  }
 },
 "nbformat": 4,
 "nbformat_minor": 2
}
