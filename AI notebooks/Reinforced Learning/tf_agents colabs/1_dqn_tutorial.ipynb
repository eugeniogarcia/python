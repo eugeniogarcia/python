{
 "cells": [
  {
   "cell_type": "markdown",
   "metadata": {
    "colab_type": "text",
    "id": "klGNgWREsvQv"
   },
   "source": [
    "##### Copyright 2018 The TF-Agents Authors."
   ]
  },
  {
   "cell_type": "markdown",
   "metadata": {
    "colab_type": "text",
    "id": "pmDI-h7cI0tI"
   },
   "source": [
    "# Train a Deep Q Network with TF-Agents"
   ]
  },
  {
   "cell_type": "markdown",
   "metadata": {
    "colab_type": "text",
    "id": "cKOCZlhUgXVK"
   },
   "source": [
    "This example shows how to train a [DQN (Deep Q Networks)](https://storage.googleapis.com/deepmind-media/dqn/DQNNaturePaper.pdf)  agent on the Cartpole environment using the TF-Agents library.\n",
    "\n",
    "![Cartpole environment](https://raw.githubusercontent.com/tensorflow/agents/master/tf_agents/colabs/images/cartpole.png)\n",
    "\n",
    "It will walk you through all the components in a Reinforcement Learning (RL) pipeline for training, evaluation and data collection.\n",
    "\n",
    "\n",
    "To run this code live, click the 'Run in Google Colab' link above.\n"
   ]
  },
  {
   "cell_type": "markdown",
   "metadata": {
    "colab_type": "text",
    "id": "1u9QVVsShC9X"
   },
   "source": [
    "## Setup"
   ]
  },
  {
   "cell_type": "code",
   "execution_count": 3,
   "metadata": {
    "colab": {},
    "colab_type": "code",
    "id": "KEHR2Ui-lo8O"
   },
   "outputs": [],
   "source": [
    "try:\n",
    "  %%tensorflow_version 2.x\n",
    "except:\n",
    "  pass\n"
   ]
  },
  {
   "cell_type": "code",
   "execution_count": 4,
   "metadata": {
    "colab": {},
    "colab_type": "code",
    "id": "sMitx5qSgJk1"
   },
   "outputs": [],
   "source": [
    "from __future__ import absolute_import, division, print_function\n",
    "\n",
    "import base64\n",
    "import imageio\n",
    "import IPython\n",
    "import matplotlib\n",
    "import matplotlib.pyplot as plt\n",
    "import PIL.Image\n",
    "import pyvirtualdisplay\n",
    "\n",
    "import tensorflow as tf\n",
    "\n",
    "from tf_agents.agents.dqn import dqn_agent\n",
    "from tf_agents.drivers import dynamic_step_driver\n",
    "from tf_agents.environments import suite_gym\n",
    "from tf_agents.environments import tf_py_environment\n",
    "from tf_agents.eval import metric_utils\n",
    "from tf_agents.metrics import tf_metrics\n",
    "from tf_agents.networks import q_network\n",
    "from tf_agents.policies import random_tf_policy\n",
    "from tf_agents.replay_buffers import tf_uniform_replay_buffer\n",
    "from tf_agents.trajectories import trajectory\n",
    "from tf_agents.utils import common\n",
    "\n",
    "\n",
    "\n",
    "tf.compat.v1.enable_v2_behavior()\n"
   ]
  },
  {
   "cell_type": "code",
   "execution_count": 5,
   "metadata": {
    "colab": {},
    "colab_type": "code",
    "id": "NspmzG4nP3b9"
   },
   "outputs": [
    {
     "data": {
      "text/plain": [
       "'2.1.0-dev20191020'"
      ]
     },
     "execution_count": 5,
     "metadata": {},
     "output_type": "execute_result"
    }
   ],
   "source": [
    "tf.version.VERSION"
   ]
  },
  {
   "cell_type": "markdown",
   "metadata": {
    "colab_type": "text",
    "id": "LmC0NDhdLIKY"
   },
   "source": [
    "## Hyperparameters"
   ]
  },
  {
   "cell_type": "code",
   "execution_count": 6,
   "metadata": {
    "colab": {},
    "colab_type": "code",
    "id": "HC1kNrOsLSIZ"
   },
   "outputs": [],
   "source": [
    "num_iterations = 20000 # @param {type:\"integer\"}\n",
    "\n",
    "initial_collect_steps = 1000  # @param {type:\"integer\"} \n",
    "collect_steps_per_iteration = 1  # @param {type:\"integer\"}\n",
    "replay_buffer_max_length = 100000  # @param {type:\"integer\"}\n",
    "\n",
    "batch_size = 64  # @param {type:\"integer\"}\n",
    "learning_rate = 1e-3  # @param {type:\"number\"}\n",
    "log_interval = 200  # @param {type:\"integer\"}\n",
    "\n",
    "num_eval_episodes = 10  # @param {type:\"integer\"}\n",
    "eval_interval = 1000  # @param {type:\"integer\"}"
   ]
  },
  {
   "cell_type": "markdown",
   "metadata": {
    "colab_type": "text",
    "id": "VMsJC3DEgI0x"
   },
   "source": [
    "## Environment\n",
    "\n",
    "In Reinforcement Learning (RL), an environment represents the task or problem to be solved. Standard environments can be created in TF-Agents using `tf_agents.environments` suites. TF-Agents has suites for loading environments from sources such as the OpenAI Gym, Atari, and DM Control.\n",
    "\n",
    "Load the CartPole environment from the OpenAI Gym suite. "
   ]
  },
  {
   "cell_type": "code",
   "execution_count": 7,
   "metadata": {
    "colab": {},
    "colab_type": "code",
    "id": "pYEz-S9gEv2-"
   },
   "outputs": [],
   "source": [
    "env_name = 'CartPole-v0'\n",
    "env = suite_gym.load(env_name)"
   ]
  },
  {
   "cell_type": "markdown",
   "metadata": {
    "colab_type": "text",
    "id": "IIHYVBkuvPNw"
   },
   "source": [
    "You can render this environment to see how it looks. A free-swinging pole is attached to a cart.  The goal is to move the cart right or left in order to keep the pole pointing up."
   ]
  },
  {
   "cell_type": "code",
   "execution_count": 8,
   "metadata": {
    "colab": {},
    "colab_type": "code",
    "id": "RlO7WIQHu_7D"
   },
   "outputs": [
    {
     "data": {
      "image/png": "[encoded data removed]",
      "text/plain": [
       "<PIL.Image.Image image mode=RGB size=600x400 at 0x2D8E2A84E08>"
      ]
     },
     "execution_count": 8,
     "metadata": {},
     "output_type": "execute_result"
    }
   ],
   "source": [
    "#@test {\"skip\": true}\n",
    "env.reset()\n",
    "PIL.Image.fromarray(env.render())"
   ]
  },
  {
   "cell_type": "markdown",
   "metadata": {
    "colab_type": "text",
    "id": "B9_lskPOey18"
   },
   "source": [
    "The `environment.step` method takes an `action` in the environment and returns a `TimeStep` tuple containing the next observation of the environment and the reward for the action.\n",
    "\n",
    "The `time_step_spec()` method returns the specification for the `TimeStep` tuple. Its `observation` attribute shows the shape of observations, the data types, and the ranges of allowed values. The `reward` attribute shows the same details for the reward.\n",
    "\n"
   ]
  },
  {
   "cell_type": "code",
   "execution_count": 9,
   "metadata": {
    "colab": {},
    "colab_type": "code",
    "id": "exDv57iHfwQV"
   },
   "outputs": [
    {
     "name": "stdout",
     "output_type": "stream",
     "text": [
      "Observation Spec:\n",
      "BoundedArraySpec(shape=(4,), dtype=dtype('float32'), name='observation', minimum=[-4.8000002e+00 -3.4028235e+38 -4.1887903e-01 -3.4028235e+38], maximum=[4.8000002e+00 3.4028235e+38 4.1887903e-01 3.4028235e+38])\n"
     ]
    }
   ],
   "source": [
    "print('Observation Spec:')\n",
    "print(env.time_step_spec().observation)"
   ]
  },
  {
   "cell_type": "code",
   "execution_count": 10,
   "metadata": {
    "colab": {},
    "colab_type": "code",
    "id": "UxiSyCbBUQPi"
   },
   "outputs": [
    {
     "name": "stdout",
     "output_type": "stream",
     "text": [
      "Reward Spec:\n",
      "ArraySpec(shape=(), dtype=dtype('float32'), name='reward')\n"
     ]
    }
   ],
   "source": [
    "print('Reward Spec:')\n",
    "print(env.time_step_spec().reward)"
   ]
  },
  {
   "cell_type": "markdown",
   "metadata": {
    "colab_type": "text",
    "id": "b_lHcIcqUaqB"
   },
   "source": [
    "The `action_spec()` method returns the shape, data types, and allowed values of valid actions."
   ]
  },
  {
   "cell_type": "code",
   "execution_count": 11,
   "metadata": {
    "colab": {},
    "colab_type": "code",
    "id": "bttJ4uxZUQBr"
   },
   "outputs": [
    {
     "name": "stdout",
     "output_type": "stream",
     "text": [
      "Action Spec:\n",
      "BoundedArraySpec(shape=(), dtype=dtype('int64'), name='action', minimum=0, maximum=1)\n"
     ]
    }
   ],
   "source": [
    "print('Action Spec:')\n",
    "print(env.action_spec())"
   ]
  },
  {
   "cell_type": "markdown",
   "metadata": {
    "colab_type": "text",
    "id": "eJCgJnx3g0yY"
   },
   "source": [
    "In the Cartpole environment:\n",
    "\n",
    "-   `observation` is an array of 4 floats: \n",
    "    -   the position and velocity of the cart\n",
    "    -   the angular position and velocity of the pole \n",
    "-   `reward` is a scalar float value\n",
    "-   `action` is a scalar integer with only two possible values:\n",
    "    -   `0` — \"move left\"\n",
    "    -   `1` — \"move right\"\n"
   ]
  },
  {
   "cell_type": "code",
   "execution_count": 12,
   "metadata": {
    "colab": {},
    "colab_type": "code",
    "id": "V2UGR5t_iZX-"
   },
   "outputs": [
    {
     "name": "stdout",
     "output_type": "stream",
     "text": [
      "Time step:\n",
      "TimeStep(step_type=array(0), reward=array(0., dtype=float32), discount=array(1., dtype=float32), observation=array([-0.00785619,  0.01314177, -0.04096695,  0.02665789], dtype=float32))\n",
      "Next time step:\n",
      "TimeStep(step_type=array(1), reward=array(1., dtype=float32), discount=array(1., dtype=float32), observation=array([-0.00759335,  0.20882654, -0.04043379, -0.2786639 ], dtype=float32))\n"
     ]
    }
   ],
   "source": [
    "time_step = env.reset()\n",
    "print('Time step:')\n",
    "print(time_step)\n",
    "\n",
    "action = 1\n",
    "\n",
    "next_time_step = env.step(action)\n",
    "print('Next time step:')\n",
    "print(next_time_step)"
   ]
  },
  {
   "cell_type": "markdown",
   "metadata": {
    "colab_type": "text",
    "id": "4JSc9GviWUBK"
   },
   "source": [
    "Usually two environments are instantiated: one for training and one for evaluation. "
   ]
  },
  {
   "cell_type": "code",
   "execution_count": 13,
   "metadata": {
    "colab": {},
    "colab_type": "code",
    "id": "N7brXNIGWXjC"
   },
   "outputs": [],
   "source": [
    "train_py_env = suite_gym.load(env_name)\n",
    "eval_py_env = suite_gym.load(env_name)"
   ]
  },
  {
   "cell_type": "markdown",
   "metadata": {
    "colab_type": "text",
    "id": "zuUqXAVmecTU"
   },
   "source": [
    "The Cartpole environment, like most environments, is written in pure Python. This is converted to TensorFlow using the `TFPyEnvironment` wrapper.\n",
    "\n",
    "The original environment's API uses Numpy arrays. The `TFPyEnvironment` converts these to `Tensors` to make it compatible with Tensorflow agents and policies.\n"
   ]
  },
  {
   "cell_type": "code",
   "execution_count": 14,
   "metadata": {
    "colab": {},
    "colab_type": "code",
    "id": "Xp-Y4mD6eDhF"
   },
   "outputs": [],
   "source": [
    "train_env = tf_py_environment.TFPyEnvironment(train_py_env)\n",
    "eval_env = tf_py_environment.TFPyEnvironment(eval_py_env)"
   ]
  },
  {
   "cell_type": "markdown",
   "metadata": {
    "colab_type": "text",
    "id": "E9lW_OZYFR8A"
   },
   "source": [
    "## Agent\n",
    "\n",
    "The algorithm used to solve an RL problem is represented by an `Agent`. TF-Agents provides standard implementations of a variety of `Agents`, including:\n",
    "\n",
    "-   [DQN](https://storage.googleapis.com/deepmind-media/dqn/DQNNaturePaper.pdf) (used in this tutorial)\n",
    "-   [REINFORCE](http://www-anw.cs.umass.edu/~barto/courses/cs687/williams92simple.pdf)\n",
    "-   [DDPG](https://arxiv.org/pdf/1509.02971.pdf)\n",
    "-   [TD3](https://arxiv.org/pdf/1802.09477.pdf)\n",
    "-   [PPO](https://arxiv.org/abs/1707.06347)\n",
    "-   [SAC](https://arxiv.org/abs/1801.01290).\n",
    "\n",
    "The DQN agent can be used in any environment which has a discrete action space.\n",
    "\n",
    "At the heart of a DQN Agent is a `QNetwork`, a neural network model that can learn to predict `QValues` (expected returns) for all actions, given an observation from the environment.\n",
    "\n",
    "Use `tf_agents.networks.q_network` to create a `QNetwork`, passing in the `observation_spec`, `action_spec`, and a tuple describing the number and size of the model's hidden layers.\n",
    "\n"
   ]
  },
  {
   "cell_type": "code",
   "execution_count": 15,
   "metadata": {
    "colab": {},
    "colab_type": "code",
    "id": "TgkdEPg_muzV"
   },
   "outputs": [],
   "source": [
    "fc_layer_params = (100,)\n",
    "\n",
    "q_net = q_network.QNetwork(\n",
    "    train_env.observation_spec(),\n",
    "    train_env.action_spec(),\n",
    "    fc_layer_params=fc_layer_params)"
   ]
  },
  {
   "cell_type": "markdown",
   "metadata": {
    "colab_type": "text",
    "id": "z62u55hSmviJ"
   },
   "source": [
    "Now use `tf_agents.agents.dqn.dqn_agent` to instantiate a `DqnAgent`. In addition to the `time_step_spec`, `action_spec` and the QNetwork, the agent constructor also requires an optimizer (in this case, `AdamOptimizer`), a loss function, and an integer step counter."
   ]
  },
  {
   "cell_type": "code",
   "execution_count": 16,
   "metadata": {
    "colab": {},
    "colab_type": "code",
    "id": "jbY4yrjTEyc9"
   },
   "outputs": [],
   "source": [
    "optimizer = tf.compat.v1.train.AdamOptimizer(learning_rate=learning_rate)\n",
    "\n",
    "train_step_counter = tf.Variable(0)\n",
    "\n",
    "agent = dqn_agent.DqnAgent(\n",
    "    train_env.time_step_spec(),\n",
    "    train_env.action_spec(),\n",
    "    q_network=q_net,\n",
    "    optimizer=optimizer,\n",
    "    td_errors_loss_fn=common.element_wise_squared_loss,\n",
    "    train_step_counter=train_step_counter)\n",
    "\n",
    "agent.initialize()"
   ]
  },
  {
   "cell_type": "markdown",
   "metadata": {
    "colab_type": "text",
    "id": "I0KLrEPwkn5x"
   },
   "source": [
    "## Policies\n",
    "\n",
    "A policy defines the way an agent acts in an environment. Typically, the goal of reinforcement learning is to train the underlying model until the policy produces the desired outcome.\n",
    "\n",
    "In this tutorial:\n",
    "\n",
    "-   The desired outcome is keeping the pole balanced upright over the cart.\n",
    "-   The policy returns an action (left or right) for each `time_step` observation.\n",
    "\n",
    "Agents contain two policies: \n",
    "\n",
    "-   `agent.policy` — The main policy that is used for evaluation and deployment.\n",
    "-   `agent.collect_policy` — A second policy that is used for data collection.\n",
    "\n",
    "\n",
    "\n",
    "\n",
    "\n",
    "\n",
    "\n",
    "\n"
   ]
  },
  {
   "cell_type": "code",
   "execution_count": 17,
   "metadata": {
    "colab": {},
    "colab_type": "code",
    "id": "BwY7StuMkuV4"
   },
   "outputs": [],
   "source": [
    "eval_policy = agent.policy\n",
    "collect_policy = agent.collect_policy"
   ]
  },
  {
   "cell_type": "markdown",
   "metadata": {
    "colab_type": "text",
    "id": "2Qs1Fl3dV0ae"
   },
   "source": [
    "Policies can be created independently of agents. For example, use `tf_agents.policies.random_tf_policy` to create a policy which will randomly select an action for each `time_step`."
   ]
  },
  {
   "cell_type": "code",
   "execution_count": 18,
   "metadata": {
    "colab": {},
    "colab_type": "code",
    "id": "HE37-UCIrE69"
   },
   "outputs": [],
   "source": [
    "random_policy = random_tf_policy.RandomTFPolicy(train_env.time_step_spec(),\n",
    "                                                train_env.action_spec())"
   ]
  },
  {
   "cell_type": "markdown",
   "metadata": {
    "colab_type": "text",
    "id": "dOlnlRRsUbxP"
   },
   "source": [
    "To get an action from a policy, call the `policy.action(time_step)` method. The `time_step` contains the observation from the environment. This method returns a `PolicyStep`, which is a named tuple with three components:\n",
    "\n",
    "-   `action` — the action to be taken (in this case, `0` or `1`)\n",
    "-   `state` — used for stateful (that is, RNN-based) policies\n",
    "-   `info` — auxiliary data, such as log probabilities of actions"
   ]
  },
  {
   "cell_type": "code",
   "execution_count": 19,
   "metadata": {
    "colab": {},
    "colab_type": "code",
    "id": "5gCcpXswVAxk"
   },
   "outputs": [],
   "source": [
    "example_environment = tf_py_environment.TFPyEnvironment(\n",
    "    suite_gym.load('CartPole-v0'))"
   ]
  },
  {
   "cell_type": "code",
   "execution_count": 20,
   "metadata": {
    "colab": {},
    "colab_type": "code",
    "id": "D4DHZtq3Ndis"
   },
   "outputs": [],
   "source": [
    "time_step = example_environment.reset()"
   ]
  },
  {
   "cell_type": "code",
   "execution_count": 21,
   "metadata": {
    "colab": {},
    "colab_type": "code",
    "id": "PRFqAUzpNaAW"
   },
   "outputs": [
    {
     "data": {
      "text/plain": [
       "PolicyStep(action=<tf.Tensor: shape=(1,), dtype=int64, numpy=array([0], dtype=int64)>, state=(), info=())"
      ]
     },
     "execution_count": 21,
     "metadata": {},
     "output_type": "execute_result"
    }
   ],
   "source": [
    "random_policy.action(time_step)"
   ]
  },
  {
   "cell_type": "markdown",
   "metadata": {
    "colab_type": "text",
    "id": "94rCXQtbUbXv"
   },
   "source": [
    "## Metrics and Evaluation\n",
    "\n",
    "The most common metric used to evaluate a policy is the average return. The return is the sum of rewards obtained while running a policy in an environment for an episode. Several episodes are run, creating an average return.\n",
    "\n",
    "The following function computes the average return of a policy, given the policy, environment, and a number of episodes.\n"
   ]
  },
  {
   "cell_type": "code",
   "execution_count": 22,
   "metadata": {
    "colab": {},
    "colab_type": "code",
    "id": "bitzHo5_UbXy"
   },
   "outputs": [],
   "source": [
    "#@test {\"skip\": true}\n",
    "def compute_avg_return(environment, policy, num_episodes=10):\n",
    "\n",
    "  total_return = 0.0\n",
    "  for _ in range(num_episodes):\n",
    "\n",
    "    time_step = environment.reset()\n",
    "    episode_return = 0.0\n",
    "\n",
    "    while not time_step.is_last():\n",
    "      action_step = policy.action(time_step)\n",
    "      time_step = environment.step(action_step.action)\n",
    "      episode_return += time_step.reward\n",
    "    total_return += episode_return\n",
    "\n",
    "  avg_return = total_return / num_episodes\n",
    "  return avg_return.numpy()[0]\n",
    "\n",
    "\n",
    "# See also the metrics module for standard implementations of different metrics.\n",
    "# https://github.com/tensorflow/agents/tree/master/tf_agents/metrics"
   ]
  },
  {
   "cell_type": "markdown",
   "metadata": {
    "colab_type": "text",
    "id": "_snCVvq5Z8lJ"
   },
   "source": [
    "Running this computation on the `random_policy` shows a baseline performance in the environment."
   ]
  },
  {
   "cell_type": "code",
   "execution_count": 23,
   "metadata": {
    "colab": {},
    "colab_type": "code",
    "id": "9bgU6Q6BZ8Bp"
   },
   "outputs": [
    {
     "data": {
      "text/plain": [
       "25.0"
      ]
     },
     "execution_count": 23,
     "metadata": {},
     "output_type": "execute_result"
    }
   ],
   "source": [
    "compute_avg_return(eval_env, random_policy, num_eval_episodes)"
   ]
  },
  {
   "cell_type": "markdown",
   "metadata": {
    "colab_type": "text",
    "id": "NLva6g2jdWgr"
   },
   "source": [
    "## Replay Buffer\n",
    "\n",
    "The replay buffer keeps track of data collected from the environment. This tutorial uses `tf_agents.replay_buffers.tf_uniform_replay_buffer.TFUniformReplayBuffer`, as it is the most common. \n",
    "\n",
    "The constructor requires the specs for the data it will be collecting. This is available from the agent using the `collect_data_spec` method. The batch size and maximum buffer length are also required.\n",
    "\n"
   ]
  },
  {
   "cell_type": "code",
   "execution_count": 24,
   "metadata": {
    "colab": {},
    "colab_type": "code",
    "id": "vX2zGUWJGWAl"
   },
   "outputs": [],
   "source": [
    "replay_buffer = tf_uniform_replay_buffer.TFUniformReplayBuffer(\n",
    "    data_spec=agent.collect_data_spec,\n",
    "    batch_size=train_env.batch_size,\n",
    "    max_length=replay_buffer_max_length)"
   ]
  },
  {
   "cell_type": "markdown",
   "metadata": {
    "colab_type": "text",
    "id": "ZGNTDJpZs4NN"
   },
   "source": [
    "For most agents, `collect_data_spec` is a named tuple called `Trajectory`, containing the specs for observations, actions, rewards, and other items."
   ]
  },
  {
   "cell_type": "code",
   "execution_count": 25,
   "metadata": {
    "colab": {},
    "colab_type": "code",
    "id": "_IZ-3HcqgE1z"
   },
   "outputs": [
    {
     "data": {
      "text/plain": [
       "Trajectory(step_type=TensorSpec(shape=(), dtype=tf.int32, name='step_type'), observation=BoundedTensorSpec(shape=(4,), dtype=tf.float32, name='observation', minimum=array([-4.8000002e+00, -3.4028235e+38, -4.1887903e-01, -3.4028235e+38],\n",
       "      dtype=float32), maximum=array([4.8000002e+00, 3.4028235e+38, 4.1887903e-01, 3.4028235e+38],\n",
       "      dtype=float32)), action=BoundedTensorSpec(shape=(), dtype=tf.int64, name='action', minimum=array(0, dtype=int64), maximum=array(1, dtype=int64)), policy_info=(), next_step_type=TensorSpec(shape=(), dtype=tf.int32, name='step_type'), reward=TensorSpec(shape=(), dtype=tf.float32, name='reward'), discount=BoundedTensorSpec(shape=(), dtype=tf.float32, name='discount', minimum=array(0., dtype=float32), maximum=array(1., dtype=float32)))"
      ]
     },
     "execution_count": 25,
     "metadata": {},
     "output_type": "execute_result"
    }
   ],
   "source": [
    "agent.collect_data_spec"
   ]
  },
  {
   "cell_type": "code",
   "execution_count": 26,
   "metadata": {
    "colab": {},
    "colab_type": "code",
    "id": "sy6g1tGcfRlw"
   },
   "outputs": [
    {
     "data": {
      "text/plain": [
       "('step_type',\n",
       " 'observation',\n",
       " 'action',\n",
       " 'policy_info',\n",
       " 'next_step_type',\n",
       " 'reward',\n",
       " 'discount')"
      ]
     },
     "execution_count": 26,
     "metadata": {},
     "output_type": "execute_result"
    }
   ],
   "source": [
    "agent.collect_data_spec._fields"
   ]
  },
  {
   "cell_type": "markdown",
   "metadata": {
    "colab_type": "text",
    "id": "rVD5nQ9ZGo8_"
   },
   "source": [
    "## Data Collection\n",
    "\n",
    "Now execute the random policy in the environment for a few steps, recording the data in the replay buffer."
   ]
  },
  {
   "cell_type": "code",
   "execution_count": 27,
   "metadata": {
    "colab": {},
    "colab_type": "code",
    "id": "wr1KSAEGG4h9"
   },
   "outputs": [],
   "source": [
    "#@test {\"skip\": true}\n",
    "def collect_step(environment, policy, buffer):\n",
    "  time_step = environment.current_time_step()\n",
    "  action_step = policy.action(time_step)\n",
    "  next_time_step = environment.step(action_step.action)\n",
    "  traj = trajectory.from_transition(time_step, action_step, next_time_step)\n",
    "\n",
    "  # Add trajectory to the replay buffer\n",
    "  buffer.add_batch(traj)\n",
    "\n",
    "def collect_data(env, policy, buffer, steps):\n",
    "  for _ in range(steps):\n",
    "    collect_step(env, policy, buffer)\n",
    "\n",
    "collect_data(train_env, random_policy, replay_buffer, steps=100)\n",
    "\n",
    "# This loop is so common in RL, that we provide standard implementations. \n",
    "# For more details see the drivers module.\n",
    "# https://github.com/tensorflow/agents/blob/master/tf_agents/docs/python/tf_agents/drivers.md"
   ]
  },
  {
   "cell_type": "markdown",
   "metadata": {
    "colab_type": "text",
    "id": "84z5pQJdoKxo"
   },
   "source": [
    "The replay buffer is now a collection of Trajectories."
   ]
  },
  {
   "cell_type": "code",
   "execution_count": 28,
   "metadata": {
    "colab": {},
    "colab_type": "code",
    "id": "4wZnLu2ViO4E"
   },
   "outputs": [],
   "source": [
    "# For the curious:\n",
    "# Uncomment to peel one of these off and inspect it.\n",
    "# iter(replay_buffer.as_dataset()).next()"
   ]
  },
  {
   "cell_type": "markdown",
   "metadata": {
    "colab_type": "text",
    "id": "TujU-PMUsKjS"
   },
   "source": [
    "The agent needs access to the replay buffer. This is provided by creating an iterable `tf.data.Dataset` pipeline which will feed data to the agent.\n",
    "\n",
    "Each row of the replay buffer only stores a single observation step. But since the DQN Agent needs both the current and next observation to compute the loss, the dataset pipeline will sample two adjacent rows for each item in the batch (`num_steps=2`).\n",
    "\n",
    "This dataset is also optimized by running parallel calls and prefetching data."
   ]
  },
  {
   "cell_type": "code",
   "execution_count": 29,
   "metadata": {
    "colab": {},
    "colab_type": "code",
    "id": "ba7bilizt_qW"
   },
   "outputs": [
    {
     "data": {
      "text/plain": [
       "<PrefetchDataset shapes: (Trajectory(step_type=(64, 2), observation=(64, 2, 4), action=(64, 2), policy_info=(), next_step_type=(64, 2), reward=(64, 2), discount=(64, 2)), BufferInfo(ids=(64, 2), probabilities=(64,))), types: (Trajectory(step_type=tf.int32, observation=tf.float32, action=tf.int64, policy_info=(), next_step_type=tf.int32, reward=tf.float32, discount=tf.float32), BufferInfo(ids=tf.int64, probabilities=tf.float32))>"
      ]
     },
     "execution_count": 29,
     "metadata": {},
     "output_type": "execute_result"
    }
   ],
   "source": [
    "# Dataset generates trajectories with shape [Bx2x...]\n",
    "dataset = replay_buffer.as_dataset(\n",
    "    num_parallel_calls=3, \n",
    "    sample_batch_size=batch_size, \n",
    "    num_steps=2).prefetch(3)\n",
    "\n",
    "\n",
    "dataset"
   ]
  },
  {
   "cell_type": "code",
   "execution_count": 30,
   "metadata": {
    "colab": {},
    "colab_type": "code",
    "id": "K13AST-2ppOq"
   },
   "outputs": [
    {
     "name": "stdout",
     "output_type": "stream",
     "text": [
      "<tensorflow.python.data.ops.iterator_ops.IteratorV2 object at 0x000002D8E47E1708>\n"
     ]
    }
   ],
   "source": [
    "iterator = iter(dataset)\n",
    "\n",
    "print(iterator)\n",
    "\n"
   ]
  },
  {
   "cell_type": "code",
   "execution_count": 31,
   "metadata": {
    "colab": {},
    "colab_type": "code",
    "id": "Th5w5Sff0b16"
   },
   "outputs": [],
   "source": [
    "# For the curious:\n",
    "# Uncomment to see what the dataset iterator is feeding to the agent.\n",
    "# Compare this representation of replay data \n",
    "# to the collection of individual trajectories shown earlier.\n",
    "\n",
    "# iterator.next()"
   ]
  },
  {
   "cell_type": "markdown",
   "metadata": {
    "colab_type": "text",
    "id": "hBc9lj9VWWtZ"
   },
   "source": [
    "## Training the agent\n",
    "\n",
    "Two thing must happen during the training loop:\n",
    "\n",
    "-   collect data from the environment\n",
    "-   use that data to train the agent's neural network(s)\n",
    "\n",
    "This example also periodicially evaluates the policy and prints the current score.\n",
    "\n",
    "The following will take ~5 minutes to run."
   ]
  },
  {
   "cell_type": "code",
   "execution_count": 32,
   "metadata": {
    "colab": {},
    "colab_type": "code",
    "id": "0pTbJ3PeyF-u"
   },
   "outputs": [
    {
     "name": "stdout",
     "output_type": "stream",
     "text": [
      "step = 200: loss = 10.10603141784668\n",
      "step = 400: loss = 6.250387668609619\n",
      "step = 600: loss = 9.638107299804688\n",
      "step = 800: loss = 29.7069034576416\n",
      "step = 1000: loss = 9.808490753173828\n",
      "step = 1000: Average Return = 30.200000762939453\n",
      "step = 1200: loss = 76.14118957519531\n",
      "step = 1400: loss = 55.37006378173828\n",
      "step = 1600: loss = 25.912111282348633\n",
      "step = 1800: loss = 21.704082489013672\n",
      "step = 2000: loss = 15.611349105834961\n",
      "step = 2000: Average Return = 42.29999923706055\n",
      "step = 2200: loss = 16.748428344726562\n",
      "step = 2400: loss = 18.091550827026367\n",
      "step = 2600: loss = 20.97140121459961\n",
      "step = 2800: loss = 39.3173828125\n",
      "step = 3000: loss = 84.05973815917969\n",
      "step = 3000: Average Return = 77.5999984741211\n",
      "step = 3200: loss = 8.268712997436523\n",
      "step = 3400: loss = 11.051094055175781\n",
      "step = 3600: loss = 72.88809967041016\n",
      "step = 3800: loss = 122.43037414550781\n",
      "step = 4000: loss = 79.156005859375\n",
      "step = 4000: Average Return = 100.80000305175781\n",
      "step = 4200: loss = 121.53634643554688\n",
      "step = 4400: loss = 7.119560718536377\n",
      "step = 4600: loss = 70.03003692626953\n",
      "step = 4800: loss = 43.035865783691406\n",
      "step = 5000: loss = 101.17457580566406\n",
      "step = 5000: Average Return = 143.0\n",
      "step = 5200: loss = 256.34527587890625\n",
      "step = 5400: loss = 227.46237182617188\n",
      "step = 5600: loss = 5.47117280960083\n",
      "step = 5800: loss = 356.1495361328125\n",
      "step = 6000: loss = 45.5606575012207\n",
      "step = 6000: Average Return = 183.1999969482422\n",
      "step = 6200: loss = 323.03125\n",
      "step = 6400: loss = 315.671142578125\n",
      "step = 6600: loss = 71.54022216796875\n",
      "step = 6800: loss = 75.26919555664062\n",
      "step = 7000: loss = 6.472741603851318\n",
      "step = 7000: Average Return = 196.60000610351562\n",
      "step = 7200: loss = 122.64417266845703\n",
      "step = 7400: loss = 114.15274810791016\n",
      "step = 7600: loss = 324.4561462402344\n",
      "step = 7800: loss = 153.35122680664062\n",
      "step = 8000: loss = 127.43732452392578\n",
      "step = 8000: Average Return = 199.5\n",
      "step = 8200: loss = 192.9454803466797\n",
      "step = 8400: loss = 144.16668701171875\n",
      "step = 8600: loss = 11.153043746948242\n",
      "step = 8800: loss = 571.25439453125\n",
      "step = 9000: loss = 243.80897521972656\n",
      "step = 9000: Average Return = 198.60000610351562\n",
      "step = 9200: loss = 418.2310791015625\n",
      "step = 9400: loss = 1205.53955078125\n",
      "step = 9600: loss = 10.85940933227539\n",
      "step = 9800: loss = 15.013069152832031\n",
      "step = 10000: loss = 269.3402099609375\n",
      "step = 10000: Average Return = 200.0\n",
      "step = 10200: loss = 1961.6500244140625\n",
      "step = 10400: loss = 996.3533935546875\n",
      "step = 10600: loss = 868.20068359375\n",
      "step = 10800: loss = 578.1376953125\n",
      "step = 11000: loss = 382.9654846191406\n",
      "step = 11000: Average Return = 200.0\n",
      "step = 11200: loss = 439.000244140625\n",
      "step = 11400: loss = 283.5925598144531\n",
      "step = 11600: loss = 961.4463500976562\n",
      "step = 11800: loss = 147.14459228515625\n",
      "step = 12000: loss = 644.330810546875\n",
      "step = 12000: Average Return = 200.0\n",
      "step = 12200: loss = 713.7029418945312\n",
      "step = 12400: loss = 52.586265563964844\n",
      "step = 12600: loss = 1127.163818359375\n",
      "step = 12800: loss = 530.4076538085938\n",
      "step = 13000: loss = 3355.3408203125\n",
      "step = 13000: Average Return = 200.0\n",
      "step = 13200: loss = 564.1190795898438\n",
      "step = 13400: loss = 35.143585205078125\n",
      "step = 13600: loss = 66.15956115722656\n",
      "step = 13800: loss = 2315.2109375\n",
      "step = 14000: loss = 59.131080627441406\n",
      "step = 14000: Average Return = 200.0\n",
      "step = 14200: loss = 58.90093994140625\n",
      "step = 14400: loss = 1169.815185546875\n",
      "step = 14600: loss = 69.66004943847656\n",
      "step = 14800: loss = 149.55551147460938\n",
      "step = 15000: loss = 992.3193969726562\n",
      "step = 15000: Average Return = 200.0\n",
      "step = 15200: loss = 3984.404541015625\n",
      "step = 15400: loss = 1376.2266845703125\n",
      "step = 15600: loss = 85.88069152832031\n",
      "step = 15800: loss = 2324.80419921875\n",
      "step = 16000: loss = 45.453773498535156\n",
      "step = 16000: Average Return = 200.0\n",
      "step = 16200: loss = 77.93931579589844\n",
      "step = 16400: loss = 2815.863037109375\n",
      "step = 16600: loss = 72.285400390625\n",
      "step = 16800: loss = 4904.728515625\n",
      "step = 17000: loss = 3324.851318359375\n",
      "step = 17000: Average Return = 200.0\n",
      "step = 17200: loss = 1664.5384521484375\n",
      "step = 17400: loss = 1429.1239013671875\n",
      "step = 17600: loss = 2202.034423828125\n",
      "step = 17800: loss = 3361.021728515625\n",
      "step = 18000: loss = 102.6884765625\n",
      "step = 18000: Average Return = 200.0\n",
      "step = 18200: loss = 2095.185302734375\n",
      "step = 18400: loss = 4563.35595703125\n",
      "step = 18600: loss = 1787.5631103515625\n",
      "step = 18800: loss = 104.7413330078125\n",
      "step = 19000: loss = 133.3078155517578\n",
      "step = 19000: Average Return = 200.0\n",
      "step = 19200: loss = 113.97154998779297\n",
      "step = 19400: loss = 8156.68408203125\n",
      "step = 19600: loss = 2596.16650390625\n",
      "step = 19800: loss = 2700.125244140625\n",
      "step = 20000: loss = 60.20311737060547\n",
      "step = 20000: Average Return = 200.0\n"
     ]
    }
   ],
   "source": [
    "#@test {\"skip\": true}\n",
    "try:\n",
    "  %%time\n",
    "except:\n",
    "  pass\n",
    "\n",
    "# (Optional) Optimize by wrapping some of the code in a graph using TF function.\n",
    "agent.train = common.function(agent.train)\n",
    "\n",
    "# Reset the train step\n",
    "agent.train_step_counter.assign(0)\n",
    "\n",
    "# Evaluate the agent's policy once before training.\n",
    "avg_return = compute_avg_return(eval_env, agent.policy, num_eval_episodes)\n",
    "returns = [avg_return]\n",
    "\n",
    "for _ in range(num_iterations):\n",
    "\n",
    "  # Collect a few steps using collect_policy and save to the replay buffer.\n",
    "  for _ in range(collect_steps_per_iteration):\n",
    "    collect_step(train_env, agent.collect_policy, replay_buffer)\n",
    "\n",
    "  # Sample a batch of data from the buffer and update the agent's network.\n",
    "  experience, unused_info = next(iterator)\n",
    "  train_loss = agent.train(experience).loss\n",
    "\n",
    "  step = agent.train_step_counter.numpy()\n",
    "\n",
    "  if step % log_interval == 0:\n",
    "    print('step = {0}: loss = {1}'.format(step, train_loss))\n",
    "\n",
    "  if step % eval_interval == 0:\n",
    "    avg_return = compute_avg_return(eval_env, agent.policy, num_eval_episodes)\n",
    "    print('step = {0}: Average Return = {1}'.format(step, avg_return))\n",
    "    returns.append(avg_return)"
   ]
  },
  {
   "cell_type": "markdown",
   "metadata": {
    "colab_type": "text",
    "id": "68jNcA_TiJDq"
   },
   "source": [
    "## Visualization\n",
    "\n"
   ]
  },
  {
   "cell_type": "markdown",
   "metadata": {
    "colab_type": "text",
    "id": "aO-LWCdbbOIC"
   },
   "source": [
    "### Plots\n",
    "\n",
    "Use `matplotlib.pyplot` to chart how the policy improved during training.\n",
    "\n",
    "One iteration of `Cartpole-v0` consists of 200 time steps. The environment gives a reward of `+1` for each step the pole stays up, so the maximum return for one episode is 200. The charts shows the return increasing towards that maximum each time it is evaluated during training. (It may be a little unstable and not increase monotonically each time.)"
   ]
  },
  {
   "cell_type": "code",
   "execution_count": 33,
   "metadata": {
    "colab": {},
    "colab_type": "code",
    "id": "NxtL1mbOYCVO"
   },
   "outputs": [
    {
     "data": {
      "text/plain": [
       "(1.234999799728394, 250)"
      ]
     },
     "execution_count": 33,
     "metadata": {},
     "output_type": "execute_result"
    },
    {
     "data": {
      "image/png": "[encoded data removed]",
      "text/plain": [
       "<Figure size 432x288 with 1 Axes>"
      ]
     },
     "metadata": {
      "needs_background": "light"
     },
     "output_type": "display_data"
    }
   ],
   "source": [
    "#@test {\"skip\": true}\n",
    "\n",
    "iterations = range(0, num_iterations + 1, eval_interval)\n",
    "plt.plot(iterations, returns)\n",
    "plt.ylabel('Average Return')\n",
    "plt.xlabel('Iterations')\n",
    "plt.ylim(top=250)"
   ]
  },
  {
   "cell_type": "markdown",
   "metadata": {
    "colab_type": "text",
    "id": "M7-XpPP99Cy7"
   },
   "source": [
    "### Videos"
   ]
  },
  {
   "cell_type": "markdown",
   "metadata": {
    "colab_type": "text",
    "id": "9pGfGxSH32gn"
   },
   "source": [
    "Charts are nice. But more exciting is seeing an agent actually performing a task in an environment. \n",
    "\n",
    "First, create a function to embed videos in the notebook."
   ]
  },
  {
   "cell_type": "code",
   "execution_count": 34,
   "metadata": {
    "colab": {},
    "colab_type": "code",
    "id": "ULaGr8pvOKbl"
   },
   "outputs": [],
   "source": [
    "def embed_mp4(filename):\n",
    "  \"\"\"Embeds an mp4 file in the notebook.\"\"\"\n",
    "  video = open(filename,'rb').read()\n",
    "  b64 = base64.b64encode(video)\n",
    "  tag = '''\n",
    "  <video width=\"640\" height=\"480\" controls>\n",
    "    <source src=\"data:video/mp4;base64,{0}\" type=\"video/mp4\">\n",
    "  Your browser does not support the video tag.\n",
    "  </video>'''.format(b64.decode())\n",
    "\n",
    "  return IPython.display.HTML(tag)"
   ]
  },
  {
   "cell_type": "markdown",
   "metadata": {
    "colab_type": "text",
    "id": "9c_PH-pX4Pr5"
   },
   "source": [
    "Now iterate through a few episodes of the Cartpole game with the agent. The underlying Python environment (the one \"inside\" the TensorFlow environment wrapper) provides a `render()` method, which outputs an image of the environment state. These can be collected into a video."
   ]
  },
  {
   "cell_type": "code",
   "execution_count": 35,
   "metadata": {
    "colab": {},
    "colab_type": "code",
    "id": "owOVWB158NlF"
   },
   "outputs": [
    {
     "name": "stderr",
     "output_type": "stream",
     "text": [
      "IMAGEIO FFMPEG_WRITER WARNING: input image is not divisible by macro_block_size=16, resizing from (600, 400) to (608, 400) to ensure video compatibility with most codecs and players. To prevent resizing, make your input image divisible by the macro_block_size or set the macro_block_size to 1 (risking incompatibility).\n"
     ]
    },
    {
     "data": {
      "text/html": [
       "\n",
       "  <video width=\"640\" height=\"480\" controls>\n",
       "    <source src=\"data:video/mp4;base64,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\" type=\"video/mp4\">\n",
       "  Your browser does not support the video tag.\n",
       "  </video>"
      ],
      "text/plain": [
       "<IPython.core.display.HTML object>"
      ]
     },
     "execution_count": 35,
     "metadata": {},
     "output_type": "execute_result"
    }
   ],
   "source": [
    "def create_policy_eval_video(policy, filename, num_episodes=5, fps=30):\n",
    "  filename = filename + \".mp4\"\n",
    "  with imageio.get_writer(filename, fps=fps) as video:\n",
    "    for _ in range(num_episodes):\n",
    "      time_step = eval_env.reset()\n",
    "      video.append_data(eval_py_env.render())\n",
    "      while not time_step.is_last():\n",
    "        action_step = policy.action(time_step)\n",
    "        time_step = eval_env.step(action_step.action)\n",
    "        video.append_data(eval_py_env.render())\n",
    "  return embed_mp4(filename)\n",
    "\n",
    "\n",
    "\n",
    "\n",
    "create_policy_eval_video(agent.policy, \"trained-agent\")"
   ]
  },
  {
   "cell_type": "markdown",
   "metadata": {
    "colab_type": "text",
    "id": "povaAOcZygLw"
   },
   "source": [
    "For fun, compare the trained agent (above) to an agent moving randomly. (It does not do as well.)"
   ]
  },
  {
   "cell_type": "code",
   "execution_count": 36,
   "metadata": {
    "colab": {},
    "colab_type": "code",
    "id": "pJZIdC37yNH4"
   },
   "outputs": [
    {
     "name": "stderr",
     "output_type": "stream",
     "text": [
      "IMAGEIO FFMPEG_WRITER WARNING: input image is not divisible by macro_block_size=16, resizing from (600, 400) to (608, 400) to ensure video compatibility with most codecs and players. To prevent resizing, make your input image divisible by the macro_block_size or set the macro_block_size to 1 (risking incompatibility).\n"
     ]
    },
    {
     "data": {
      "text/html": [
       "\n",
       "  <video width=\"640\" height=\"480\" controls>\n",
       "    <source src=\"data:video/mp4;base64,AAAAIGZ0eXBpc29tAAACAGlzb21pc28yYXZjMW1wNDEAAAAIZnJlZQAAMgZtZGF0AAACrwYF//+r3EXpvebZSLeWLNgg2SPu73gyNjQgLSBjb3JlIDE1NyByMjkzNSA1NDVkZTJmIC0gSC4yNjQvTVBFRy00IEFWQyBjb2RlYyAtIENvcHlsZWZ0IDIwMDMtMjAxOCAtIGh0dHA6Ly93d3cudmlkZW9sYW4ub3JnL3gyNjQuaHRtbCAtIG9wdGlvbnM6IGNhYmFjPTEgcmVmPTMgZGVibG9jaz0xOjA6MCBhbmFseXNlPTB4MzoweDExMyBtZT1oZXggc3VibWU9NyBwc3k9MSBwc3lfcmQ9MS4wMDowLjAwIG1peGVkX3JlZj0xIG1lX3JhbmdlPTE2IGNocm9tYV9tZT0xIHRyZWxsaXM9MSA4eDhkY3Q9MSBjcW09MCBkZWFkem9uZT0yMSwxMSBmYXN0X3Bza2lwPTEgY2hyb21hX3FwX29mZnNldD0tMiB0aHJlYWRzPTEyIGxvb2thaGVhZF90aHJlYWRzPTIgc2xpY2VkX3RocmVhZHM9MCBucj0wIGRlY2ltYXRlPTEgaW50ZXJsYWNlZD0wIGJsdXJheV9jb21wYXQ9MCBjb25zdHJhaW5lZF9pbnRyYT0wIGJmcmFtZXM9MyBiX3B5cmFtaWQ9MiBiX2FkYXB0PTEgYl9iaWFzPTAgZGlyZWN0PTEgd2VpZ2h0Yj0xIG9wZW5fZ29wPTAgd2VpZ2h0cD0yIGtleWludD0yNTAga2V5aW50X21pbj0yNSBzY2VuZWN1dD00MCBpbnRyYV9yZWZyZXNoPTAgcmNfbG9va2FoZWFkPTQwIHJjPWNyZiBtYnRyZWU9MSBjcmY9MjUuMCBxY29tcD0wLjYwIHFwbWluPTAgcXBtYXg9NjkgcXBzdGVwPTQgaXBfcmF0aW89MS40MCBhcT0xOjEuMDAAgAAAAhNliIQAM//+9nN8CmtHM5UuBXb3ZqPl0JLl+xBg+tAAAAMAAAMAAE3FRM6LCmPE2QAAAwBcQBHgsAjwlQthIR9jpDJwTjqoABzsyIwMlUOmt/Vr+kBL7GJ/utH796iz5QvVOLvCMykTSECOJodAsitgfyF5nMs8P7pVoLkreKkrNn3+c0z1vzZhpUaqPeB1iZ4nx/AgC8JquKOM2OKslC/9I3K692mqvuqp3GKWr5Riz2ZYgYqHOnrOfllc9lrDcrewuWPmCB5CxQk9BgF5GP7H9rOX++J1x1EK9SAbCbpRstmSDfKiVBAGQFeQ3D7yJXyPRHZ5/JdxIx8VgvIrvP8tAP7vklcfU4gdjw13FcXnoGRg8TbXK7iTRZ5kF/x7lDDwB8zGZYHMreSRwGkFI3n4OSczXmrKhAnDVVNrroUIJLPi7SZPC6cnlobdivEY26txzfz4iQzcimeez7P9d31Wl32cBm3F7eiuALUMzXA20P7Gj4vjQrLATvTDv8N1j+IfLU+Qf52wGK0cySbVIsbjlceqtDnkLq6rI/UzuaKMPhMhirfXzZDI1AyO/+h9KCdh/sOnX1Lw3Wr5Kbxd/gfAr47Qh7Ie/xI5UWHvkCmOo8UfgG/WECXulJm7pB7HGGsI+RIeiw2ds3Vskp1umEagHqFE8x8SjYyIfCXiB9smQi+vyDigvhPIE3wAAAMAAAMAA4sAAADHQZokbEK//eEAAAQU7PgDmGkIFrhqlgaSZVADLxPZXbDj8fR/V/cYS7qtie0URj+0CLZZkyVsJZ7P0l7UFBc6YHUD/Mf4w+Tu+bhtcZYhBMhtlEAuCrg6tkwTa+l2p3OVrNVq12miBrdYFKbi5ONUes7FBdks2/nFq70UFDRCcbGh69+ls4GUuA4QA7jUeReWPnwxfVyzjky6gRRXq3t1hWHMmfqsCJstZhs9/+jV5KcamDB0A3wbI4FLc0SHg8CRqfTXrvuKaAAAAEJBnkJ4hX8AAAhxZoE7Uyn+nvpNzDJiXAX0s2UHAbU6Ys3oqR58fAA9uuwfXU2kqnZcLWAOZctCrBpsNps5eB7OmzEAAAAxAZ5hdEJ/AAAjvQRMiLUdKU6BM1KSzEQK+fI9227yrqpN4pzNZLeBfAIvH4sw1cPtgAAAADEBnmNqQn8AAA2H3dCBXG/rVP9dBlfIB5J2JdL21+REzoq6GTNkItInZJb4NTLUfpNnAAAA6kGaZ0moQWiZTAhX//3hAAAEFy1vf4JEAJABRMfrYpIsC7wikwP91femUeYyt1il8igClC790gQzWpltNVrZIjiGVPJKl2xyo10cshgD80s4QUPk1wXOclBsN/CLsukzmgKEarU/Gy4w5jQ7CAwCo9kdVORsyR8FNoObVWswl0akZaUaO0ajQfonZZe/6N/skHtinFdyPBEaamdULSbxsbNYpUFHzOwssWdIGFIYuirE/UlU6g8pebkSGoZ6H/Wgr6E8Yp6I0SVAaCK4jlTsLAhUmvzjz8jbKQCAagsGlZyoOp8gKHs8AkXepQAAAElBnoVFESwr/wAAFruKzZdARH6+aLVJm9zcrY7PMyN+CzdVS9udR1TWxXPIiCEIsqutwLdJbQwFr2dN5i6xxUc4IdE4uy/eIwc/AAAAXQGepmpCfwAAI5lgOluAG6XALWGe9Ka01I8Z8sA8Esb4WfWLxz1TyzBkItWq4umVjgAxXO1dbteYMlCqSMlRgTJ0pniiQOgmUNWVbYRlmp1VHSid4I3OdEsJtXHwWQAAAMJBmqpJqEFsmUwIZ//+OEAAAQz08G+t6AQjscgVn1Qy8cFVS8u8iSOFtfkY8zi+bUcOM/B1W0DY0g+xkcTCiSnisRpxs7jcVwSNV13WWaugFiym1nd+fT3TuttAKPmQc/QxIFMXx+ZQDfPikVU8orbWECZ58huyeEjxfKFCEFAIIpG93dTzlm87oTWcj/X2jQXcY8djCEGvQ0CZXWfaxpJsYk9GRlHiKI7nkOd52kKw68EJur9SnKDxy1cKDXFcCHXvBAAAAHlBnshFFSwr/wAAFrteqwSAA4wtVsHcGMGsAi15CrsalrAZFBV1Nkps8nrIhAe1plcWeYKOG+Yn+Jg1WCkw27dFzyEEqg8FUnQhPg5/UFh7V//Sn49jRC76JkVsThx/SOsgHlpp1cmBvmGpijzwFeBMVmfWs7OdOlYLAAAATAGe6WpCfwAAJLGflY7SBfq6GRBmFsYaZereeuMnpePbQlS0DBhkTCI/lB/gXU2gl3ci8iZjrh4gLNOK9YsIRV9qJ1FbgeH9vxtwW9EAAACaQZruSahBbJlMCF///fEAAAMCnwSkWDjkh805tFxls59e+O3WDAd2KuAu+Kj8gVtCIiH/03ZZi/6n9kBD5U6UZz+SWQGwUp8k3AIQwAGKlYxlZtZOzzASAICas6BvSR3ShBzs0/CppKnvV86eivoR6sC2mkT1uGPnAQqOkW/3kVEuGF6zfO54tCyVZFF6tLGMiZvYeQl/o9wuVAAAACpBnwxFFSwr/wAAFrxDzbcXWJtx7Uq77TUcA/JvHbXZ7doCPmxK2Lj4TYAAAAAcAZ8rdEJ/AAADAEUdqkw8UpWmEN9d9SIzMEkeDQAAAC0Bny1qQn8AACPCPtGKugAcTvkS4l5HhYoYaldOfeyn6Iz1nHyjl+8tGD8VsJsAAAC5QZsySahBbJlMCFf//eEAAAQWjuahDMkAI5kQWqvwAWG01ZiSC0q/amXHzief1eQYXC9fpsKQbj44fLSgkyW+WK1sHolHthRQ1dDUxsny88faAHZt1rVNWUwuCP/Xx+6Va6KVvvLsOeIdpVhF6DRPk2/CPg1tv4saJLn8PaRmrezYxOlQymBNA3GRqk4oIo5YmSFsq/Njy091oCtoehxsNY3d8/bhmG01WM+LXSfkqlu74nLqZ6o98vkAAABZQZ9QRRUsK/8AABa8REMQAIxbhVBlL/odu8ZIXW1j+ru4QZOSjyiGHNRd2d26km6d3IWMTx++J5Qh4IjsLHyApVaXP/Do0/+IvXdo2ZbgQk/wVNW0FRvNwmwAAAA6AZ9vdEJ/AAAiw0cIauIPjei5tdW0POOBXD2oCxfVuXv6h6XwJlAAD+vStqUo/ts7Yr2OJtZ02hcFgAAAAD0Bn3FqQn8AACPHK9EwwMyLXtGGMECkkt1nxWL7r6GRTNZsUBI6oK3EWMPTbfJe1Bf74v1qafrAwLcCsX3pAAAA7EGbdkmoQWyZTAhX//3hAAAEFRRTyPhgEKCLI7BlJ2VkO2aFg3cJPy7z8zg0wAF0e5nGlnFMI2Avd63WUx6bHwJswxyEngtaeGJvfKU+o3bWNhnn9NT6aPJbGOxI9uJfRr2QRsUOSikTsatcshpgOuyGlk20mXGJFRvMb97e9dN4qLP+6zgR7NhlyORBW8Pqq/wGnz1uhqfkKR0GtMzf6FRQ2ppPwK/S3wt617HK6PSG4THupc8j1Sx6vd3QcczfLFN1sbXoV0CdPVCBmIzowLIvx5nvmOjIK1kCeRcke1Hmn+ILyNQmwWqSDhnAAAAAcUGflEUVLCv/AAAWsvqOpaykpW7rjL+X0/SABa6QVsA6W7dd2+A0zbtqswZQYevmZODj3f5tZRHP7kpgOxz845y9lTjaqQQDayz1O52lJ8vE9dWy9xVlwGEEx+s1H8EMk7zjkmvODpXocrDHNC4q10NgAAAAYAGfs3RCfwAAI7rB4ZhUhHFtjJIYNPnU9UoDCEog4ZULYHqqg4b01TbxJkkAOuOupWRVeJmHnM3yTzoAJpSf95AO6TZk6xLu+kIYF8fFfLpFAgXcllPq+TnzX5A4ub/PgQAAAFgBn7VqQn8AACM7PVpHOi+K4pUeGjSbRn4ZYx0urzA8hauAU7hdB+OdAltAYk8cDtfOfwTy1S+67zaRX+aSBULaeWgP5kZNm63pQ1y/bh81QRyahmYy6FwQAAAAn0GbukmoQWyZTAhv//6MsAAARhRiJOARF58wxcDm18ipvbZaimZBZu7QYdRfR8N7NDJreoD4U87SC7iNS9POzOPhIamaJgAHnnErg2a5nWWxG2MktJN851Wp34E/nGuieLU0KmzYKb6p/BiycrGQtONO45qayHq6eoqLkfilTSbJLbikVMJ8eq8U73S3S5LwhM4k4q9Og+wlaFBuIgB1RQAAAB5Bn9hFFSwr/wAAFrUrN2taXriig8IHCFkLRotz5UEAAABzAZ/3dEJ/AAAjOzlFnhzgnoPOGUOIgBK0L7jBH1bJnRDwIUU1IBCAMsZGE8gU/ClZlb1MAI2/S8pCpUHTqKQX65d5NazE5zXCmh9Kth4hojg97Q28NGB4ppv0mFzC1IF+U+BXf1pUudry6E5MCCum+plhYAAAAA4Bn/lqQn8AAAMAAAMBqQAAAIVBm/5JqEFsmUwIZ//+OEAAAQz7f+VgDbYG7EcvE5r1bXvNMP4WLMq8wp8tA45Uqi25sIyk7f7OyLRyhEgqIaEzd0LBEhB8I3FqoAoFN8I62Nh23P69epz/HcxmrCoU+0MH+7QeCBfn36kDHMNxHTO0jPhe5xiCnEPyoyh312MxctGj2VJAAAAAIkGeHEUVLCv/AAAWsyu1CBH1qP72cYK/8eZLaoIk8YgZSI0AAAATAZ47dEJ/AAAjwxd1UU6iN1LsGQAAACoBnj1qQn8AACPVIQAcUp5NsFzHomI0zijJEyFL1UBtcO8/1Ej6/jPflRgAAABuQZoiSahBbJlMCF///fEAAAMA9+HodgqGxPXklWT94hkmWP7IuMjcqMzaZZc0L9TI8x7Y157zh5sus+KV4/sqaAchwTph6jjHuAhPF1+LPPInI0kktlYaOz7bblktVFwA9kZHME0VZ/CmxOmkoYAAAAA6QZ5ARRUsK/8AAAhr+ucbyygaCgoVyPZevyABnAC3AlPHctDStOLDGW2RcAnEsoIioiDHoMdGtdcKjQAAACkBnn90Qn8AAA1/RQnOqaFyHhSMqGUhB7OTYJBdpp39EHgOpGE04EwbMAAAADABnmFqQn8AAAUeYcRIWcz9MK9vWmMQkCwODwd5MR/eQAJXp82V65qAilmV0E0HluEAAABhQZpmSahBbJlMCGf//jhAAAEM5GxgE1zjnrWhqDcgfCZPW8y9hPP1natuqVT9IAaJ9iCXkJG/9Xcbe8+cQlGR8p5x7K4Qh9bMK5reFwuTPAqXSnR4Kas5pB+0h5n+s4W3wAAAADtBnoRFFSwr/wAAFrxOa8MEL4EvjbbRjbccX8j2AUxbhp9nouRoYLFSjjN7NWlylRVF7avYBPcPnJ9KgQAAACABnqN0Qn8AAAUgktY/puvxDsdj4X6j3Zvo9glxAlC2gQAAADQBnqVqQn8AACOyLXTMefEjVaEd6TcdWbBi3H7s4w554IAGozzpzsnGaTiDCW4P4xUHuVGBAAAA0EGaqkmoQWyZTAhf//3xAAADAp73r9NAEGJHCuD0m9M4aoCcNoMVXgpNeOTs6YQt9Of97fMgg9jQqlkUg7bFSifOfpAbAgLC0bgrfxXiBexxIRYhenvLYASgamzRnAChz9d6+ulB++y9j32epOtzoa8WCwDxcdBgaa2DmJRemUb4O+hTt8Tqxw/0/1eO67SlcJTdtWkLmqoM9KVfc8vPxLaYWlbGG54hlFdf8zbodC6ZI/i+DyrxeIxUABxMe2d9N6u7IMT8gbgF61KJxFZZC88AAAA/QZ7IRRUsK/8AABazmE6vkgBGA40CSgNwAnK5n/tg2+ARSWS0ydsMCD0aQvEoZ68hD5LsbLELDryN8ntyxHsGAAAAJwGe53RCfwAAI7f+42qU9KSNEhYIcwdjGM2bW03tqejHdEw0SXaIwAAAAD0BnulqQn8AACOxzA1Nl22Z79VKYTiJB3ejEE0Dset6b3sk74xW4vuAA3+GFGb/6FGN2PXktzHiootMTtmVAAAA9kGa7kmoQWyZTAhf//3xAAADAp75GhAEHnHmrA/kknkIsISAaVw7yVyG9NjW6EFJv8T5ZI+qgI9WjztIXPpFGt6W4OVe/hxBoCsTTjGOyc3Z2HCBzLjB4rIcVSjc3BvdiFTk4CozKGJ48rRPnztjpMWHpdR1ajgt1cl/rXqvWTbeajU+siccL/buAdXV6NTXR9WG9jh5mmfuleL/5xGga9aMe/bBMz30/kN9hd0Kf5IHSUQz0BHTAcv+X2ph/0FqRkpID8SmCuf6l0HhqXuoALrYS+0yG9fTCKR7AzQwoUDCYA8v2HFx9g4PJoWHbPYP2bmIY8IqUAAAAGFBnwxFFSwr/wAAFruKd40nHGH3C6UJdqOqkQxiLuzG6V/JSrhG+wLVr7QnYt3nM9SuKd7CQXMgN93nIa0FrhxafmkGoxm67nwATI9GlBWHdmfgXFbxj+JKIn1WbhX6rm9AAAAARwGfK3RCfwAAI6v4ZO/7HT1AcUsJkaZReRjIkFZ9MhjCoW7uO1FgXVB8bFGB1P72wASvoUEX1fHKx8i44/3NY6unvtiK+Cb3AAAARAGfLWpCfwAAI5Kp+K3t23IgbIuIaVWOq0PS9zSCVeGnKO59B4i59kcl43ketXeAEsW/U9Sk02Y621Yj9E7HrbrMo7phAAAAwkGbMkmoQWyZTAhX//3hAAAEE0B2klAKONYQK2D/T763CD/tuA2/xk67+JtDxC5F8Fo4vTOvm20sqr7hQ8PnywOQWKKsehLo50saO/VTnaK9LiZ+9Wl6Vn8Bodal+yqd1JwYg/EGZEyrK+56/pm14LgBvmUzP4MmsDt69elA7otxtM/sGshKbLOnA3xd4OyznbD2ygNZqoaS+RYfuCFsItQY2WhpWLMw4Zi+33m2e2J9RZiaq3rhu4Sru5YFyl8U/a+BAAAAYEGfUEUVLCv/AAAWqqeVqFx0UvYs2xbdaPysD+NPs4YOhBoN3VxLKKY5+JxKnBoR+TpBQn2wVmj4aCoauu3gmFsuQWPCh4i8avfGsAFsrhpe7c2lF1ytnPfcW8MtDKvFgAAAAEMBn290Qn8AACO3z6CgCAfNrcZynPBpIIWdWGv5G/BeOjosgLZd12D3fNdqXoWULAfpUvEtY7jXdlz669KXa0Ah+k+AAAAAQwGfcWpCfwAAIz1vcKXq4wC/lCiYO3FA/J3zoCU03ArO18Y49yZiS+IVRGg5xOCKQeMZ5ZxgAlq4MQACoZSTi0P8umEAAADkQZt2SahBbJlMCGf//jhAAAEM9Uu2cV6J40Amkiqm3v6oUn+vb9RQIPpASzGxF4PKfi+BLuZs1HFRXTQ7XvB0rbPEqdJUF/cl18sSn7/XDI8gby7WuD0jLQ263D0Wicy9TGDzee2BP43dUqKujW4KUTgwvmgzj3OrAq77QK6B7Sc485Z3SKCrnXpzSRkyvKkN6sxQq8s1xxaSqiw7wdAPA1cjlQvauimNVo5Qy4cMVgJuELiI26QuDOQkYuh+T+9IKYozRkw4wBLYmzlgHs83oeYETnht0fXkHjKEiiYbZFgk1q6QAAAAWkGflEUVLCv/AAAWqlIDgspZCENo88SjzawNSTVD3qr9TqXRwm9IqM0iaoi7LeuAx4MNsXw7Mw7xwDEb4uJj5PtI7FGZrHOd+aAv9+gBCt6jHi8IkIon1D8CwAAAADsBn7N0Qn8AACOeyRN++3Nu/1xxarRtRn2Wbfs3E4er0Ve/UznBolyM2ksTSl3vnQ8g3301vWeNze4jwQAAACMBn7VqQn8AACOxzAlvqW+yFbQGZ/ci/ZDIat6W/6vII964LAAAAGRBm7pJqEFsmUwIX//98QAAAwKNBTSY57b/G9vvuxgMV6f7mB3eHrjZgBQDBwXLB6kKUCrF3ScGriJi/u5vcYZ/YGDBLxDchHnXsWFzeBFHny4uUbwWFMwKcotsvnJaD470nVgJAAAAHEGf2EUVLCv/AAAWLE5s2LUcJeIEYxA3FObvcWEAAAAZAZ/3dEJ/AAADAENYcg8IHAsFbA0BVJTBYAAAABABn/lqQn8AACK/Gs6mAC7hAAAAxEGb/kmoQWyZTAhX//3hAAAEG6I+iIkTgB0jSDmOjb4vURRFfNrAV+A0WHK5fVsmIpj7NEcqT9fS15/ND9EnfcDvlbecGyld4ADnXn5w7PnOV3bj3SbFUVbjK3mR0+aKg4hKPFmpH2ZaDGRDClsl8QCHngeFAw9/DSkKE5r5Fc4C6udU97IUtGn3fO9k8Vyn/5xuIQgEk/GBSIIGFzajv4OSE+Hgy8PhmZnXS2nIZOeeTHAS+rkbsYdrNqfDNcue8dhbIEAAAAAvQZ4cRRUsK/8AABYdVTBzbr3LjRXwWuyUsRSk+coWQ8z7M8GavSrfR33EBBfO7UkAAAAdAZ47dEJ/AAAirDkFrlfo8QEJTG5XDIvBhSBuWtkAAAAzAZ49akJ/AAAiqNwWwNi5j7Y4GojRSlozQVvk9vHAAcF6qZrtZwHMcGGh4By1/55F0oSoAAABAUGaIkmoQWyZTAhX//3hAAADA/dpc3kN9AAvuKiDzIPmTtTeWsDZkHYwNmL2cueJOn3xRUWi1rKm+K/khCHtjyr35RdbV5CHV/4b4n9FVNyOgsYCv6Vr9FmpuJUiQ9SB74X16IbYQ1HKvSCgAaC7SLol+h5OH4O3+uO84T79AHV2FSF/mVvjiVmmr658TSGesioxG7Nc+X8AfXb3h1LrSfSieNjUEWhp4GuQORG3QtB4AICP0ZadGlUtqIXmSZiZWh4bK20JgRXtq1ddpa+Ka6zu3DVj7Z2sU0+2eiYgkuTt39CH0CFLjG3l84XyxtY7WorwuZwlW5mFFlbwnQn4BG8gAAAAWUGeQEUVLCv/AAAV3hkV0QoCQqAf4SuNtUnyCGiX7xCfy5+T7MpR2Q9HkGBwzOcP8WgnZYj8cOad7ZyVXe+jgufF/JpK7DW0ABYUPKCoE2ugF82tuKYh1zgtAAAAQgGef3RCfwAAIqNlwK7foHf2lsYL6pWXSOcHdcwU84exc1gK34AAEKdCnwZcCpb01wbO4qoLRt8RI3nZMiDYvX4TYAAAAF4BnmFqQn8AACI3+btE4mJAExuhqZshmjgf7DUvVWM/r/CKYySU6dxuMMYiOhF7/ANLwaQYk7Ctii3IfPZVjcp8IDDkwOT8HjnBjr4mvt5Xj3LqG1BI2xMI+2qzrp2zAAABAkGaZkmoQWyZTAhP//yEAAAPe4oXakA+e0+5GRNJAfsy8yAypMDOJ8tgJgj2iMtsNqacUpMMoi5YEaxJjVOkeN2Lo6zd74M4OeNRC3lvEdnQSYZO6XE/HJjRq+VbCiVtAac1zc0loyJBqStYrgRi/SFZgafyFBD3Wts3DDBUFKCzVRr/0S4Or3N3AE7DM0Ow2HMJW7ja7SUOxK3YFgYajuUt7WBht4nMA/ab60gjFIitPQChfrFhxKczVBZXBh6DhYMojRxlVq5guNo78DrgtU6pW3MJ5obHS8Fb+vlJh76MBGcHdHfvByFWoAEwSpV6LTwFZLnl97e3Pb/dh90yvZn5fQAAAGZBnoRFFSwr/wAAFiNmdTEk1rbHvV69Cpn74Ge5jbmD3407zjWiKXYBDWz6J3D2JQxFBt4bWOK/htJjmIpAAS1Bo6KH0y9Nj/9M2ViFZrH0KIOXCbR95jsKCRLJtAYs/U4TrgOqlsEAAABAAZ6jdEJ/AAAiwSFiAEXg+P1A8Y9Fwt6ECliBFLO2ECo9CxboN9t2jkIL3zPef0dBlrDFNGpv0c4mzQkz8Q19sQAAADIBnqVqQn8AAA0yN9ci63+7KYMGjQLNXvM7uveXqYzSlWOhTYbqByRy/raV2QqRXYX7YQAAAHdBmqdJqEFsmUwIV//94QAAAwP2gsKk9QzMY8CCGlAIC46gYDMarE6jtZjQyavR3cu8pvZrTtJNwcOHB9kjVQqinM9IIeYmI5vdpRrYl6jV/hr8GtQA6NPkTd5H9OAp/HixNDihTGP5fs6A2h2VHN3wNTvP2XnTQQAAAH9BmstJ4QpSZTAhX/3hAAADA/ZG7o+8WkzcTVAFhJMJZ3B4jKmI/bCIS9uGKu8Bdh5eEdj+dd4AXv0Y2ftZvS0olWDkx3jr/9Y9Jz4G9QeN2grHVL4KGrPsY0pKi9uIaht67hMkRJq9EcF72ZxCRPB7NlHLzs/L9i4BEq2Q4Tz0AAAANkGe6UU0TCv/AAAWK19h4jEXreGHQOJF4z0/8O5csrvZPCazsi9ehRhE711LS2ZO06SWBJ8dmAAAACsBnwh0Qn8AACLAuB6676/N2JrbBmWbKKftU+2lFpwNHcAtivq0DsYFIv7ZAAAANgGfCmpCfwAAIr2VrbriAntyz2G9c5TVRBgM05T8QuNG8Mg67VtUm98wIANzNI4IJDJP6BpJgAAAAGBBmw9JqEFomUwIV//94QAAAwP7v+rQAOxz+EK23+QoPfy9csFKPi6Rs8LZTGO5r1oxq5aulDAs01qNnhIKAAoWWBADsgjoONG/HBnCIQ9oz4wyanTx0+mvTO4nC8eVCnAAAABeQZ8tRREsK/8AABYlDnYJdjiQvwABt6yVI6gTerHLPNUIVbbdbvOmh7+/mpoF0ysZYPGhh2tEkKz61t6KBCYCrew6JYToXDytBjD0fQZIJksbSierI1gAW8rCMfTqQQAAADMBn0x0Qn8AACKsCH/Q3I3JhWL+kPlNB1W5ZkG5vtL7p9w2lasMy9actBUZGyfI8w+1WzEAAAA0AZ9OakJ/AAAhvZad23HT7YMl8i8EF2O1s105sS8TrbMOh8dRRLVlXCGW4gXp0JOpuCXPgQAAAS1Bm1NJqEFsmUwIZ//+OEAAAQT1isVfYgDjWGfkWXRvdrYdsmRBIGq5xUiBOufnKarjFC91JzhT2jXNQwtXieDRoc1OpQsNu79q0MMNWyxj9YTAi8HN+MyBwAbJuYWoGT4yZzLSqhz2L/kdV4ugQ3Q57Sx8W4UlbInD4KAF2jUpxJm5OTA4GaQKtKUMGcc1VxpQ5cEhW5g0uyoH4dEst3Vp0LwRLef52u4hjwhd4zNQFudVHwv4Mr8MLPdqfzRBS6buoCWNRB/PXoH+nVH+KaRpz9UM/Im69wNf6E32VKcb4XQQ7NROwxmje71zwzUksUSi1bWc6ETakJdZwCV16NYm+89ZEoCgnTKNVQNrwXJRSVAtBuL6NJDZnBXf7FnuMKLyezYxwEgrGmWTiZNwAAAAa0GfcUUVLCv/AAAWLEWL1bUfQByUppGBG+I16I3QIVqmvF11wTloDZBrflUZdO9p7TBXp8jxXXeWLRD0gW2z8AfWJAiRPx8jvJWalcLqAu6BLBBVBrZSpsJlx6y7iTEiBk5EQLCLZcdT5lSAAAAAPAGfkHRCfwAAITuQFsHOCM/4pO044Lnqd53GJbVIhtNdNtclBhsQ11nzjHDNo9tPbzkC2uAKgTHUMDCIrQAAADsBn5JqQn8AACKvjgoAOGG50/811mzI5ftVmRes0grECbFD60QkMaeu7vpb4yeInEaWg7OgQucMxf9FYAAAAP1Bm5dJqEFsmUwIV//94QAAAwP4f4AWwIAyABsfd4scQXB6rxDerMNQQ6btDPRk7at8YJVXyGGkHB2b4r5CiMnmdeRqNeRU0E8fzxrBNbAsc3aUP3nTn85V6JNd6uknQ3ZNrZOpfsPoEm4rACLOVqXctxy9gtWmjas8XYcF6SYS6sG8E299Qh1G1Qm1gYcOvs773wENBkzDACvw1TYyzrqvra4FuR+aqJSj+TQCe+ijzaMoZT+iNQr9gp9YGzfdPrVypOPvIdac4WqZ9g49P8aNXj/OiwdRpTCa70QJM5D4IyLwS+sF5/n8oFdSrX5RhLMk6G+EyWs0Fx2/qNRgAAAAPUGftUUVLCv/AAAWGGThss7XStnPs2HCGlpj2C8b3fUBY21T0Vbn8G5MBceXrrDGmVnsTZVkuzWES6WEbTEAAAA0AZ/UdEJ/AAAhrELfAF/QYysJCOJsSn0AAFZwQmE1QlwIDGMxVbdGQOm1rWzxbjyN7tyygAAAADsBn9ZqQn8AACO++GIJGSJlo98MSCg9PR152cprlBBPKXQAATMLZ62b7FMPS6928ko5Zj52iUBJnLZywQAAAM1Bm9pJqEFsmUwIZ//+OEAAAQXmKmp+3oBBgzC1YHXX9+lPTN3qrIE25UzyKeiexdMPz4sUdQPx+LEJhZngyQ9XnoTqWrV48Aa+ED9aySQ7ccdU+GPg6UEtKGJhEHoeQ3fbZ+mzloW5gMEdCtOOnSe/PqUQqr3rUpfINcAX3nAYsL+7YtKEWrGCmZo/OulHrHEGAnHiZAoi8CvaUrr+MNKUbNeceftDR43UO7RXQd1+UDWmYAHiGzEwdOFyc7UoAMibJWYeqHuWnKjyCn6hAAAAVUGf+EUVLCv/AAAWJUQFfQsmSKEQN5YwGfr9PyYAJleYFeliolKtJKLoFSHFUhJ0LITUW2J+ylRY6yduxJ9YZHh/YmUWO1c7M9TmR/KmWQYxtOqyFVgAAAAyAZ4ZakJ/AAAhvx9gK5ZS47AtpgCI38p8Y7CkgBTG7DKDLeWIwTfftNCd7d5ECxZ1ErEAAABuQZoeSahBbJlMCF///fEAAAMCjrNbGUsgBvXULyCj6dfK80qAFh8rlA07SraEJTjr38p94XnU6fcfMO5gb5uBPl1kG3R8Y+MxtSQuR6Ov8chyAeQ5M+Ea0kcqdSTfFLptOokKJBjhwZHKtvYqiZ0AAAA5QZ48RRUsK/8AABYXSA4JwuTuZVnAjuhmK+hRM2zKVqu4qfHwivyMbFLABqsQVmnQskHzcr0pmUNpAAAAPQGeW3RCfwAAIrcM3FWoPeqdL4kraqtb/wv640mtKXu+kqzO8U4w4XnwAUZdk0O4MAFuCkow4kRpdF0IQsEAAAAyAZ5dakJ/AAAhvx9/J1q6W9O+bgu5Vj0iSgUIY1pl74G8IABos2E1jDtfclz6zTnnfDwAAABsQZpCSahBbJlMCF///fEAAAMCoVc2xCCIiEW5+m5UCmmQsmGn76mw2zUwSTYQsv38vgAN+AMcvPtp/WCKCLtzTQkovW8CMabXj8ZyqJLMAGvORqwEvBvg07Vnwu91Nmx9/xFHWdKrWosnqiZgAAAAREGeYEUVLCv/AAAWd2GL7FD13kyqGCejZmfKNB12hPPOLvVoaaZZCdQP626gw+XqzQAfuY8Y3xxN5U/XU+2G1NEOYCVhAAAAMAGen3RCfwAAIaxCTqY2jEdQtLLgEkEMB3PK1HN41ZaBwzrAAHo2/8gfWXyd4QhMaAAAAD8BnoFqQn8AACPVIQBtlRXb+sDX9ZDv7ccdCbumFif8FGGSNU/eCNsaAiG7pLjVrUM6KskxfRAmvRaaFe2K4IEAAABcQZqGSahBbJlMCFf//eEAAAQUv1ck6jP4emlkdqzaJDKsBNnfSGMAFGyj+qvwcUPD92XSV0FzN7QNJtLHurWNdv25oAIdlzwmaVh4QaIg5iw20CCTod7E2TS09oAAAAA9QZ6kRRUsK/8AABa1jvU6pJYw0kjv3wgwLySurahZmA5XsCqK78AL9RgSV2Bs2VyUnXcTAZctmN9axGnggQAAAEEBnsN0Qn8AACPC4nRnzVyhLRoTLzXXjKCChvVyNCp6YbOYp8ELaZ2U8OB968luYkAJoxAw3RXhf12UVtJZbubxYQAAADIBnsVqQn8AACG/H92vkHyvz7kucWUr/Kn17cWOM2BL2GElakuBHjlnH1/OpDYu8BSDwQAAAIpBmspJqEFsmUwIX//98QAAAwKOsSnpABHvLbQSaeJgHpt24WSHbqBIrtXtO8+bNrHlxYXGDTepRr+mZuveUozBOMiLaSDiqJqjBFBybR7hzdCsx9QGjGdni+7YnDrEVSHqv8mQozv1diznf/6sUxkTtV0VyeN2XQqaOxqUf19IUwnXuHE7veTmMIUAAABQQZ7oRRUsK/8AABbIn4ArdTlgMh+6jY7/yN1Nb4vmhiAr5d46XoESGTdj8qPmue8zyBoTyYTYfTRKf5YSRLtOueCvfS3Nin8hYxtvQaJK3oAAAAA1AZ8HdEJ/AAAjw49gfWCbx2j1Gb+tNrkBcyCRKshMIdjsW/9OnegGqxQhUUG5hKNR/hGMZ4IAAAA2AZ8JakJ/AAAjsZLmMJYwYrzpZ6JD8E7LXiZliqFy4qEttG6IAhqO5SEWNhfCV158DDVpXDehAAAA20GbDkmoQWyZTAhX//3hAAAEFHiHW2jLDAEHkRilo/6PMs9TxAiWF8y6ymw3KhqvEZCk/h7/YwcAQAew5sNMEOvO2gNYYo+f1bsPaX/qVJw1Ad+Msqhu7HDMmnp6m87PKgp0kknw7Z0ZS9VBI4DcVBDesgy0ypeedv8374tJt/iiTT8rI2fa228hhjcbVM2C4lzvPN7qlD4QDJRq8yWoL3EJKlkmaOUOhX5ZKCMBgUU5JJC8tdFEbAcDQG1c/2Lo2wEi/dq0k6FyqU+eGeCvrq0WqnNdIjrqpvjlmQAAAEdBnyxFFSwr/wAAFrUtzVADc0QfpKL+trCUC+ueuK0dBKfv3gLR97I4+PJ9zBFO8zAu2Q+w6f3RlFaVk/WUDO/MnrkT+3zegAAAACwBn0t0Qn8AACPC3GdDgk5hbEf6rCWAUs6QEh5S2q5ROpsGkv6M/xrSK0sJsQAAACwBn01qQn8AAA1/tow3DHlCxG4s43hqRrZKghqSkkVuM+kwwQrQPnRioicLKwAAAOZBm1FJqEFsmUwIV//94QAABBUqI3cUmwgE0lGCB24foef5f8Xx9XrWxCcTX0KxTXr0jPvyRPgxfJQUGHJo+YxUrzGfgZswGjcuv56C6YZgHNWx4/oUvj9PP3aypZHB8kslgCWGH6pIvMddJ8r5NdwytrcdTQpsG4h9CE3RP/9wI08BLXhMnH9diDnI7ISL2H+V4OEpnhX2X0zBb61m3wwSrcUCGOHTZGyVZzGkgE0+nL9Jqc1+yH0tSOa0VaDsV7NgZ2owJcAkCuYGUaVAyk1+QOrpUN7hjGnnYc17CqWrOXkUTqbKnQAAAE1Bn29FFSwn/wAAI78a+9DBcUZJbCY+VNne2awOvcZeL4xyoVckQFLkGHcVaonXtPywgqWbZ/4ffDY7Dx9AAWwEl7NZELzBQ7M3NHU9bQAAAEEBn5BqQn8AACO5wNiLw6vfu6JUp7v+9kw1+yRXcLvHjxFqr9yNWOsh84gVWmbaBgULOkvh0MQJF3BjJqu+AMrZgAAAANRBm5VJqEFsmUwIV//94QAABBvYnI5nkudwAIvh0Upy4Zp1E9HNxojHCGIo127kizI5mmQsaktQZZDLPGM7cmVJ7nZn0dQMGvntHbv/vkZX+nK7LtV2IR/3KqVIxHw+g/W8Dm8R9g/XHu6UeX9FMQH7Ban1HgnhuhnETeXfB9hwYzpPBRa4pR3SLjxpJcf590JUZuOuAZ9crhszIM6m1Tvkk5a/6TktWq7JLF3k3i+KZT+bDcrSooWGWIA7lJPJAvsgjy5dKozKfBtUfQ9H2mZViKD1YwAAAGBBn7NFFSwr/wAAFndf94xS5dkPa0/CUHECvMH39aUPpsMHYxaFQwIpjgBal/glP/T3c/KE9aroCEub9oNec+a6mhI1sucUpPg+DoViGsqluHFBAFCqNDWmZmsdIcCKTZgAAABQAZ/SdEJ/AAAjrDfDUbUoaoJNwRqmS3Qfe3/7VNqGwZUXBef/1OcxQurmYfcxNRvbKggX+195x+zHaZc4GqKoqHxp0+uAAQ9tKfPUMj+ablQAAABEAZ/UakJ/AAAing5W+MeCBvEBrdpBAj/tvqEhCemR/OqqP3OjFX0Dp0Pq1JZctMblabAJ18MyTLbZ63Mz7fSA5X3iosEAAAB/QZvXSahBbJlMFEwn//yEAAAPgE0sbTwwvTZYJMwALmIyEWnTh0rw1/XJbKcYiKrrMhk1z1JgTp98NiDoX1ANarw/8InGfZ6fAB3MvU/MZ9uL+LjIDTP2pVWkGb9lLUhbY2tSkZB8Pl/iUW5aEAelXwcBVY/nuAwNN49RdKecwAAAAEYBn/ZqQn8AACPHthlHf0ktMAxGbmXheKaUYmRlA2Rfo1JXngD6QNk/w9pVlwCzD0hpw8Kheyhrzv4ILjpcDKCbyU3y+NpVAAAIkW1vb3YAAABsbXZoZAAAAAAAAAAAAAAAAAAAA+gAAA+gAAEAAAEAAAAAAAAAAAAAAAABAAAAAAAAAAAAAAAAAAAAAQAAAAAAAAAAAAAAAAAAQAAAAAAAAAAAAAAAAAAAAAAAAAAAAAAAAAAAAAAAAAIAAAe7dHJhawAAAFx0a2hkAAAAAwAAAAAAAAAAAAAAAQAAAAAAAA+gAAAAAAAAAAAAAAAAAAAAAAABAAAAAAAAAAAAAAAAAAAAAQAAAAAAAAAAAAAAAAAAQAAAAAJgAAABkAAAAAAAJGVkdHMAAAAcZWxzdAAAAAAAAAABAAAPoAAABAAAAQAAAAAHM21kaWEAAAAgbWRoZAAAAAAAAAAAAAAAAAAAPAAAAPAAVcQAAAAAAC1oZGxyAAAAAAAAAAB2aWRlAAAAAAAAAAAAAAAAVmlkZW9IYW5kbGVyAAAABt5taW5mAAAAFHZtaGQAAAABAAAAAAAAAAAAAAAkZGluZgAAABxkcmVmAAAAAAAAAAEAAAAMdXJsIAAAAAEAAAaec3RibAAAAJZzdHNkAAAAAAAAAAEAAACGYXZjMQAAAAAAAAABAAAAAAAAAAAAAAAAAAAAAAJgAZAASAAAAEgAAAAAAAAAAQAAAAAAAAAAAAAAAAAAAAAAAAAAAAAAAAAAAAAAAAAAABj//wAAADBhdmNDAWQAHv/hABhnZAAerNlAmDOhAAADAAEAAAMAPA8WLZYBAAVo6+csiwAAABhzdHRzAAAAAAAAAAEAAAB4AAACAAAAABRzdHNzAAAAAAAAAAEAAAABAAADsGN0dHMAAAAAAAAAdAAAAAEAAAQAAAAAAQAACgAAAAABAAAEAAAAAAEAAAAAAAAAAQAAAgAAAAABAAAIAAAAAAIAAAIAAAAAAQAACAAAAAACAAACAAAAAAEAAAoAAAAAAQAABAAAAAABAAAAAAAAAAEAAAIAAAAAAQAACgAAAAABAAAEAAAAAAEAAAAAAAAAAQAAAgAAAAABAAAKAAAAAAEAAAQAAAAAAQAAAAAAAAABAAACAAAAAAEAAAoAAAAAAQAABAAAAAABAAAAAAAAAAEAAAIAAAAAAQAACgAAAAABAAAEAAAAAAEAAAAAAAAAAQAAAgAAAAABAAAKAAAAAAEAAAQAAAAAAQAAAAAAAAABAAACAAAAAAEAAAoAAAAAAQAABAAAAAABAAAAAAAAAAEAAAIAAAAAAQAACgAAAAABAAAEAAAAAAEAAAAAAAAAAQAAAgAAAAABAAAKAAAAAAEAAAQAAAAAAQAAAAAAAAABAAACAAAAAAEAAAoAAAAAAQAABAAAAAABAAAAAAAAAAEAAAIAAAAAAQAACgAAAAABAAAEAAAAAAEAAAAAAAAAAQAAAgAAAAABAAAKAAAAAAEAAAQAAAAAAQAAAAAAAAABAAACAAAAAAEAAAoAAAAAAQAABAAAAAABAAAAAAAAAAEAAAIAAAAAAQAACgAAAAABAAAEAAAAAAEAAAAAAAAAAQAAAgAAAAABAAAKAAAAAAEAAAQAAAAAAQAAAAAAAAABAAACAAAAAAEAAAQAAAAAAQAACgAAAAABAAAEAAAAAAEAAAAAAAAAAQAAAgAAAAABAAAKAAAAAAEAAAQAAAAAAQAAAAAAAAABAAACAAAAAAEAAAoAAAAAAQAABAAAAAABAAAAAAAAAAEAAAIAAAAAAQAACgAAAAABAAAEAAAAAAEAAAAAAAAAAQAAAgAAAAABAAAIAAAAAAIAAAIAAAAAAQAACgAAAAABAAAEAAAAAAEAAAAAAAAAAQAAAgAAAAABAAAKAAAAAAEAAAQAAAAAAQAAAAAAAAABAAACAAAAAAEAAAoAAAAAAQAABAAAAAABAAAAAAAAAAEAAAIAAAAAAQAACgAAAAABAAAEAAAAAAEAAAAAAAAAAQAAAgAAAAABAAAKAAAAAAEAAAQAAAAAAQAAAAAAAAABAAACAAAAAAEAAAgAAAAAAgAAAgAAAAABAAAKAAAAAAEAAAQAAAAAAQAAAAAAAAABAAACAAAAAAEAAAYAAAAAAQAAAgAAAAAcc3RzYwAAAAAAAAABAAAAAQAAAHgAAAABAAAB9HN0c3oAAAAAAAAAAAAAAHgAAATKAAAAywAAAEYAAAA1AAAANQAAAO4AAABNAAAAYQAAAMYAAAB9AAAAUAAAAJ4AAAAuAAAAIAAAADEAAAC9AAAAXQAAAD4AAABBAAAA8AAAAHUAAABkAAAAXAAAAKMAAAAiAAAAdwAAABIAAACJAAAAJgAAABcAAAAuAAAAcgAAAD4AAAAtAAAANAAAAGUAAAA/AAAAJAAAADgAAADUAAAAQwAAACsAAABBAAAA+gAAAGUAAABLAAAASAAAAMYAAABkAAAARwAAAEcAAADoAAAAXgAAAD8AAAAnAAAAaAAAACAAAAAdAAAAFAAAAMgAAAAzAAAAIQAAADcAAAEFAAAAXQAAAEYAAABiAAABBgAAAGoAAABEAAAANgAAAHsAAACDAAAAOgAAAC8AAAA6AAAAZAAAAGIAAAA3AAAAOAAAATEAAABvAAAAQAAAAD8AAAEBAAAAQQAAADgAAAA/AAAA0QAAAFkAAAA2AAAAcgAAAD0AAABBAAAANgAAAHAAAABIAAAANAAAAEMAAABgAAAAQQAAAEUAAAA2AAAAjgAAAFQAAAA5AAAAOgAAAN8AAABLAAAAMAAAADAAAADqAAAAUQAAAEUAAADYAAAAZAAAAFQAAABIAAAAgwAAAEoAAAAUc3RjbwAAAAAAAAABAAAAMAAAAGJ1ZHRhAAAAWm1ldGEAAAAAAAAAIWhkbHIAAAAAAAAAAG1kaXJhcHBsAAAAAAAAAAAAAAAALWlsc3QAAAAlqXRvbwAAAB1kYXRhAAAAAQAAAABMYXZmNTguMjAuMTAw\" type=\"video/mp4\">\n",
       "  Your browser does not support the video tag.\n",
       "  </video>"
      ],
      "text/plain": [
       "<IPython.core.display.HTML object>"
      ]
     },
     "execution_count": 36,
     "metadata": {},
     "output_type": "execute_result"
    }
   ],
   "source": [
    "create_policy_eval_video(random_policy, \"random-agent\")"
   ]
  }
 ],
 "metadata": {
  "colab": {
   "collapsed_sections": [],
   "name": "DQN Tutorial.ipynb",
   "private_outputs": true,
   "provenance": [],
   "toc_visible": true,
   "version": "0.3.2"
  },
  "kernelspec": {
   "display_name": "Python 3",
   "language": "python",
   "name": "python3"
  },
  "language_info": {
   "codemirror_mode": {
    "name": "ipython",
    "version": 3
   },
   "file_extension": ".py",
   "mimetype": "text/x-python",
   "name": "python",
   "nbconvert_exporter": "python",
   "pygments_lexer": "ipython3",
   "version": "3.7.5"
  },
  "pycharm": {
   "stem_cell": {
    "cell_type": "raw",
    "metadata": {
     "collapsed": false
    },
    "source": []
   }
  }
 },
 "nbformat": 4,
 "nbformat_minor": 1
}
