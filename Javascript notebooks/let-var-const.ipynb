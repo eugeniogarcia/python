{
 "cells": [
  {
   "cell_type": "markdown",
   "metadata": {},
   "source": [
    "JavaScript es un lenguaje de programación con el __ámbito global__ como ámbito, visibilidad o scope predeterminado y en el que todo se pasa por referencia también de forma predeterminada. Esto significa que una variable declarada fuera de una función es una variable global y es pasada por referencia a scopes descendientes o herederos:"
   ]
  },
  {
   "cell_type": "code",
   "execution_count": 1,
   "metadata": {},
   "outputs": [
    {
     "name": "stdout",
     "output_type": "stream",
     "text": [
      "local\n",
      "local\n"
     ]
    }
   ],
   "source": [
    "k = \"global\";\n",
    "function foo() {\n",
    "    k = \"local\";\n",
    "    console.log(k);\n",
    "}\n",
    "foo();\n",
    "console.log(k);\n"
   ]
  },
  {
   "cell_type": "markdown",
   "metadata": {},
   "source": [
    "En el snippet anterior se puede ver como la variable i es una variable del ámbito global y es __sobreescrita__ dentro de la función por ser pasada por referencia; la referencia al identificador i dentro y fuera de la función es la misma referencia. __Sería equivalente a declarar la variable con el keyword var__:"
   ]
  },
  {
   "cell_type": "code",
   "execution_count": 2,
   "metadata": {},
   "outputs": [
    {
     "name": "stdout",
     "output_type": "stream",
     "text": [
      "local\n",
      "local\n",
      "local\n",
      "local\n"
     ]
    }
   ],
   "source": [
    "var i = \"global\";\n",
    "let j = \"global\";\n",
    "function foo() {\n",
    "    i = \"local\";\n",
    "    j = \"local\";\n",
    "    console.log(i);\n",
    "    console.log(j);\n",
    "}\n",
    "foo();\n",
    "console.log(i);\n",
    "console.log(j);\n"
   ]
  },
  {
   "cell_type": "markdown",
   "metadata": {},
   "source": [
    "Sin embargo, si declaramos la variable con var __también dentro de la función__, se __crea una variable local__ cuya visibilidad se reduce a la propia función donde ha sido declarada."
   ]
  },
  {
   "cell_type": "code",
   "execution_count": 3,
   "metadata": {},
   "outputs": [
    {
     "name": "stdout",
     "output_type": "stream",
     "text": [
      "local\n",
      "local\n",
      "global\n",
      "global\n"
     ]
    }
   ],
   "source": [
    "var a = \"global\";\n",
    "let b = \"global\";\n",
    "function foo() {\n",
    "    var a = \"local\";\n",
    "    let b = \"local\";\n",
    "    console.log(a); \n",
    "    console.log(b); \n",
    "}\n",
    "foo();\n",
    "console.log(a);\n",
    "console.log(b); \n"
   ]
  },
  {
   "cell_type": "markdown",
   "metadata": {},
   "source": [
    "__Let__ se introduce con la especificación EM6. Un __bloque en JavaScript__ se puede entender como «lo que queda entre dos corchetes», ya sean definiciones de funciones o bloques if, while, for y loops similares. Si una variable es declarada con let en el ámbito global o en el de una función, la variable pertenecerá al ámbito global o al ámbito de la función respectivamente, de forma similar a como ocurría con var."
   ]
  },
  {
   "cell_type": "code",
   "execution_count": 4,
   "metadata": {},
   "outputs": [
    {
     "name": "stdout",
     "output_type": "stream",
     "text": [
      "local-local\n",
      "local-local\n",
      "local-local\n",
      "global\n",
      "global\n",
      "global\n"
     ]
    }
   ],
   "source": [
    "var c = \"global\";\n",
    "let d = \"global\";\n",
    "function foo() {\n",
    "    {\n",
    "        var c = \"local-local\";\n",
    "        let d = \"local-local\";\n",
    "        console.log(\"dentro del bloque: \",c); \n",
    "        console.log(\"dentro del bloque: \",d);\n",
    "    }\n",
    "    console.log(\"dentro de la funcion: \",c); \n",
    "    console.log(\"dentro de la funcion: \",d);\n",
    "}\n",
    "foo();\n",
    "console.log(c);\n",
    "console.log(d); \n"
   ]
  },
  {
   "cell_type": "markdown",
   "metadata": {},
   "source": [
    "En resumen, la declaración con __var define una variable en el ámbito local actual__ (lease función) y se hereda a scopes descendientes por referencia. Si la variable es declarada fuera de una función, la variable será una variable global.\n",
    "\n",
    "Con __Let__ el __scope es más granular__, se define __a nivel de bloque__; Con __var__ el __scope es a nivel de función__. En el ejemplo anterior podemos apreciar esta diferencia.\n",
    "\n",
    "Con const el valor no podemos cambiar la asignación, la referencia, pero si podremos cambiar el valor del objeto:"
   ]
  },
  {
   "cell_type": "code",
   "execution_count": 5,
   "metadata": {},
   "outputs": [
    {
     "name": "stdout",
     "output_type": "stream",
     "text": [
      "Manolo\n"
     ]
    }
   ],
   "source": [
    "const user = { name: 'Juan' };\n",
    "user.name = 'Manolo';\n",
    "console.log(user.name); "
   ]
  },
  {
   "cell_type": "code",
   "execution_count": null,
   "metadata": {},
   "outputs": [],
   "source": []
  }
 ],
 "metadata": {
  "kernelspec": {
   "display_name": "Javascript (Node.js)",
   "language": "javascript",
   "name": "javascript"
  },
  "language_info": {
   "file_extension": ".js",
   "mimetype": "application/javascript",
   "name": "javascript",
   "version": "10.16.3"
  }
 },
 "nbformat": 4,
 "nbformat_minor": 4
}
