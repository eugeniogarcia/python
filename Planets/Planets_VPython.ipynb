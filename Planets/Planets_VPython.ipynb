{
 "cells": [
  {
   "cell_type": "markdown",
   "metadata": {},
   "source": [
    "conda install -c vpython vpython"
   ]
  },
  {
   "cell_type": "code",
   "execution_count": 1,
   "metadata": {},
   "outputs": [
    {
     "data": {
      "text/html": [
       "<div id=\"glowscript\" class=\"glowscript\"></div>"
      ],
      "text/plain": [
       "<IPython.core.display.HTML object>"
      ]
     },
     "metadata": {},
     "output_type": "display_data"
    },
    {
     "data": {
      "application/javascript": [
       "if (typeof Jupyter !== \"undefined\") { window.__context = { glowscript_container: $(\"#glowscript\").removeAttr(\"id\")};}else{ element.textContent = ' ';}"
      ],
      "text/plain": [
       "<IPython.core.display.Javascript object>"
      ]
     },
     "metadata": {},
     "output_type": "display_data"
    }
   ],
   "source": [
    "from vpython import *\n",
    "import math"
   ]
  },
  {
   "cell_type": "code",
   "execution_count": 2,
   "metadata": {},
   "outputs": [
    {
     "name": "stdout",
     "output_type": "stream",
     "text": [
      "Posición angular inicial, 43.87404480064129\n"
     ]
    },
    {
     "data": {
      "application/javascript": [
       "if (typeof Jupyter !== \"undefined\") {require.undef(\"nbextensions/vpython_libraries/glow.min\");}else{element.textContent = ' ';}"
      ],
      "text/plain": [
       "<IPython.core.display.Javascript object>"
      ]
     },
     "metadata": {},
     "output_type": "display_data"
    },
    {
     "data": {
      "application/javascript": [
       "if (typeof Jupyter !== \"undefined\") {require.undef(\"nbextensions/vpython_libraries/glowcomm\");}else{element.textContent = ' ';}"
      ],
      "text/plain": [
       "<IPython.core.display.Javascript object>"
      ]
     },
     "metadata": {},
     "output_type": "display_data"
    },
    {
     "data": {
      "application/javascript": [
       "if (typeof Jupyter !== \"undefined\") {require.undef(\"nbextensions/vpython_libraries/jquery-ui.custom.min\");}else{element.textContent = ' ';}"
      ],
      "text/plain": [
       "<IPython.core.display.Javascript object>"
      ]
     },
     "metadata": {},
     "output_type": "display_data"
    },
    {
     "data": {
      "application/javascript": [
       "if (typeof Jupyter !== \"undefined\") {require([\"nbextensions/vpython_libraries/glow.min\"], function(){console.log(\"GLOW LOADED\");});}else{element.textContent = ' ';}"
      ],
      "text/plain": [
       "<IPython.core.display.Javascript object>"
      ]
     },
     "metadata": {},
     "output_type": "display_data"
    },
    {
     "data": {
      "application/javascript": [
       "if (typeof Jupyter !== \"undefined\") {require([\"nbextensions/vpython_libraries/glowcomm\"], function(){console.log(\"GLOWCOMM LOADED\");});}else{element.textContent = ' ';}"
      ],
      "text/plain": [
       "<IPython.core.display.Javascript object>"
      ]
     },
     "metadata": {},
     "output_type": "display_data"
    },
    {
     "data": {
      "application/javascript": [
       "if (typeof Jupyter !== \"undefined\") {require([\"nbextensions/vpython_libraries/jquery-ui.custom.min\"], function(){console.log(\"JQUERY LOADED\");});}else{element.textContent = ' ';}"
      ],
      "text/plain": [
       "<IPython.core.display.Javascript object>"
      ]
     },
     "metadata": {},
     "output_type": "display_data"
    },
    {
     "name": "stdout",
     "output_type": "stream",
     "text": [
      "Radio de influencia del planeta 0.003868207652725983\n"
     ]
    }
   ],
   "source": [
    "G= 39.4784176\n",
    "pi = 3.141592654\n",
    "dospi=2*pi\n",
    "pimedios=pi/2\n",
    "\n",
    "rmarte=1.53 #Distancia media al Sol del planeta de destino\n",
    "mmarte=3.214e-7 #Masa del planeta de destino\n",
    "vmarte=sqrt(G/rmarte)\n",
    "wmarte=vmarte/rmarte\n",
    "\n",
    "rship=1.01\n",
    "vship=sqrt(2*G*rmarte/rship/(rship+rmarte))\n",
    "\n",
    "a=(rship+rmarte)*0.5\n",
    "T=a**1.5\n",
    "ANG=pi-wmarte*T/2\n",
    "\n",
    "print(\"Posición angular inicial, {}\".format(ANG*180/pi))\n",
    "\n",
    "sa = math.sin(ANG)\n",
    "ca = math.cos(ANG)\n",
    "sca = sin(pimedios+ANG)\n",
    "cca = cos(pimedios+ANG)\n",
    "Rmin=rmarte*(mmarte)**0.4\n",
    "\n",
    "Sun = sphere(pos=vector(0,0,0), radius=0.05, color=color.yellow,make_trail=True, interval=10)\n",
    "Sun.mass = 1\n",
    "Sun.v = vector(0, 0, 0)\n",
    "\n",
    "Earth = sphere(pos=vector(1,0,0), radius=0.03, color=color.blue,make_trail=True, interval=10)\n",
    "Earth.mass = 3.004e-6\n",
    "Earth.v = vector(0, 6.283, 0)\n",
    "\n",
    "Mars = sphere(pos=vector(rmarte*ca,rmarte*sa,0), radius=0.03, color=color.red, make_trail=True, interval=10)\n",
    "Mars.mass = mmarte\n",
    "Mars.v = vector(vmarte*cca, vmarte*sca, 0)\n",
    "\n",
    "Ship = sphere(pos=vector(rship, 0, 0), radius=0.01, color=color.orange, make_trail=True, interval=10)\n",
    "Ship.mass = 3.214e-28\n",
    "Ship.v = vector(0, vship, 0)\n",
    "\n",
    "dt = 2.73785078e-4\n",
    "\n",
    "print(\"Radio de influencia del planeta {}\".format(Rmin))\n"
   ]
  },
  {
   "cell_type": "code",
   "execution_count": null,
   "metadata": {},
   "outputs": [
    {
     "name": "stdout",
     "output_type": "stream",
     "text": [
      "0.0038375958148775657\n"
     ]
    }
   ],
   "source": [
    "flag=0\n",
    "while True:\n",
    "    rate(100)\n",
    "    for body in [Earth,Mars,Ship]:\n",
    "        if body == Ship:\n",
    "            DM=body.pos-Mars.pos\n",
    "            DS=body.pos-Sun.pos\n",
    "            if mag(DM)>Rmin:\n",
    "                as1= -G*Sun.mass*DS/mag(DS)**3\n",
    "                body.pos += body.v*dt + 0.5*as1*dt*dt\n",
    "                DS=body.pos-Sun.pos\n",
    "                as2= -G*Sun.mass*DS/mag(DS)**3\n",
    "                body.v += 0.5*(as1 + as2)*dt\n",
    "            else:\n",
    "                if flag == 0:\n",
    "                    print(mag(DM))\n",
    "                    Rmin*=1\n",
    "                    R=DM\n",
    "                    Radio=mag(DM)\n",
    "                    flag=1\n",
    "                    v=sqrt(G*Mars.mass/Radio)\n",
    "                    w=v/Radio\n",
    "                    if R.x == 0:\n",
    "                        if R.y>0:\n",
    "                            thita=pi\n",
    "                        else:\n",
    "                            thita=-pi\n",
    "                    else:\n",
    "                        thita=atan(R.x/R.y)\n",
    "                    if R.x<0:\n",
    "                        thita+=pi\n",
    "                if thita>dospi:\n",
    "                    thita-=dospi\n",
    "                vnvector=vector(v*sin(thita+pi/2),v*cos(thita+pi/2),0)\n",
    "                vtotal=vnvector+Mars.v\n",
    "                R.x=sin(thita)*Radio\n",
    "                R.y=cos(thita)*Radio\n",
    "                R.z=0\n",
    "\n",
    "                body.pos=R+Mars.pos\n",
    "                thita+=w*dt\n",
    "        else:\n",
    "            distance = body.pos - Sun.pos\n",
    "            a1 = -G*Sun.mass*distance/mag(distance)**3\n",
    "            body.pos += body.v*dt + 0.5*a1*dt*dt\n",
    "            distance = body.pos - Sun.pos\n",
    "            a2 = -G*Sun.mass*distance/mag(distance)**3\n",
    "            body.v += 0.5*(a1 + a2)*dt"
   ]
  }
 ],
 "metadata": {
  "kernelspec": {
   "display_name": "Python 3",
   "language": "python",
   "name": "python3"
  },
  "language_info": {
   "codemirror_mode": {
    "name": "ipython",
    "version": 3
   },
   "file_extension": ".py",
   "mimetype": "text/x-python",
   "name": "python",
   "nbconvert_exporter": "python",
   "pygments_lexer": "ipython3",
   "version": "3.7.4"
  }
 },
 "nbformat": 4,
 "nbformat_minor": 2
}
